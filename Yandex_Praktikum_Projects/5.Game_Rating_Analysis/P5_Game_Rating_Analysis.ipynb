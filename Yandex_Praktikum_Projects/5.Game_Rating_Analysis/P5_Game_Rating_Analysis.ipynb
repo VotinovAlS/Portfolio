{
 "cells": [
  {
   "cell_type": "markdown",
   "metadata": {},
   "source": [
    "# Исследование данных интернет-магазина компьютерных игр «Стримчик».\n",
    "\n",
    "Интернет-магазин «Стримчик» продаёт по всему миру компьютерные игры. Из открытых источников доступны исторические данные о продажах игр, оценки пользователей и экспертов, жанры и платформы (например, Xbox или PlayStation). Необходимо выявить определяющие успешность игры закономерности. Это позволит сделать ставку на потенциально популярный продукт и спланировать рекламные кампании."
   ]
  },
  {
   "cell_type": "markdown",
   "metadata": {},
   "source": [
    "**План исследования данных интернет-магазина компьютерных игр «Стримчик»:**\n",
    "\n",
    "1) Загрузить данные из таблицы 'games.csv' и изучить общую информацию.\n",
    "\n",
    "2) Выполнить предобработку данных каждого датафрейма (изменить названия столбцов, привести тип данных в порядок, обработать пропуски, выявить явные и неявные дубликаты и обработать их, найти и устранить редкие и выбивающиеся значения и аномалии, где это возможно).\n",
    "\n",
    "3) Провести исследовательский анализ данных.\n",
    "\n",
    "4) Составить портрет пользователя каждого региона: NA, EU, JP.\n",
    "\n",
    "5) Проверить гипотезы.\n",
    "\n",
    "6) Написать промежуточные и общий вывод по результатам исследования.\n",
    "\n",
    "\n",
    "**Описание данных:**\n",
    "\n",
    "- Name — название игры\n",
    "- Platform — платформа\n",
    "- Year_of_Release — год выпуска\n",
    "- Genre — жанр игры\n",
    "- NA_sales — продажи в Северной Америке (миллионы проданных копий)\n",
    "- EU_sales — продажи в Европе (миллионы проданных копий)\n",
    "- JP_sales — продажи в Японии (миллионы проданных копий)\n",
    "- Other_sales — продажи в других странах (миллионы проданных копий)\n",
    "- Critic_Score — оценка критиков (максимум 100)\n",
    "- User_Score — оценка пользователей (максимум 10)\n",
    "- Rating — рейтинг от организации ESRB (англ. Entertainment Software Rating Board). Эта ассоциация определяет рейтинг компьютерных игр и присваивает им подходящую возрастную категорию.\n",
    "\n",
    "*Данные за 2016 год могут быть неполными.*"
   ]
  },
  {
   "cell_type": "markdown",
   "metadata": {},
   "source": [
    "#### Шаг 1. Загрузка данных"
   ]
  },
  {
   "cell_type": "code",
   "execution_count": 1,
   "metadata": {},
   "outputs": [],
   "source": [
    "import pandas as pd\n",
    "import matplotlib.pyplot as plt\n",
    "import numpy as np\n",
    "from scipy import stats as st\n",
    "import seaborn as sns"
   ]
  },
  {
   "cell_type": "code",
   "execution_count": 2,
   "metadata": {},
   "outputs": [],
   "source": [
    "try:\n",
    "    data = pd.read_csv('/datasets/games.csv', sep=',')\n",
    "except:\n",
    "    data = pd.read_csv('https://code.s3.yandex.net/datasets/games.csv', sep=',')\n"
   ]
  },
  {
   "cell_type": "markdown",
   "metadata": {},
   "source": [
    "**Вывод общей информации о датафрейме**"
   ]
  },
  {
   "cell_type": "code",
   "execution_count": 3,
   "metadata": {},
   "outputs": [
    {
     "name": "stdout",
     "output_type": "stream",
     "text": [
      "<class 'pandas.core.frame.DataFrame'>\n",
      "RangeIndex: 16715 entries, 0 to 16714\n",
      "Data columns (total 11 columns):\n",
      " #   Column           Non-Null Count  Dtype  \n",
      "---  ------           --------------  -----  \n",
      " 0   Name             16713 non-null  object \n",
      " 1   Platform         16715 non-null  object \n",
      " 2   Year_of_Release  16446 non-null  float64\n",
      " 3   Genre            16713 non-null  object \n",
      " 4   NA_sales         16715 non-null  float64\n",
      " 5   EU_sales         16715 non-null  float64\n",
      " 6   JP_sales         16715 non-null  float64\n",
      " 7   Other_sales      16715 non-null  float64\n",
      " 8   Critic_Score     8137 non-null   float64\n",
      " 9   User_Score       10014 non-null  object \n",
      " 10  Rating           9949 non-null   object \n",
      "dtypes: float64(6), object(5)\n",
      "memory usage: 1.4+ MB\n"
     ]
    },
    {
     "data": {
      "text/html": [
       "<div>\n",
       "<style scoped>\n",
       "    .dataframe tbody tr th:only-of-type {\n",
       "        vertical-align: middle;\n",
       "    }\n",
       "\n",
       "    .dataframe tbody tr th {\n",
       "        vertical-align: top;\n",
       "    }\n",
       "\n",
       "    .dataframe thead th {\n",
       "        text-align: right;\n",
       "    }\n",
       "</style>\n",
       "<table border=\"1\" class=\"dataframe\">\n",
       "  <thead>\n",
       "    <tr style=\"text-align: right;\">\n",
       "      <th></th>\n",
       "      <th>Name</th>\n",
       "      <th>Platform</th>\n",
       "      <th>Year_of_Release</th>\n",
       "      <th>Genre</th>\n",
       "      <th>NA_sales</th>\n",
       "      <th>EU_sales</th>\n",
       "      <th>JP_sales</th>\n",
       "      <th>Other_sales</th>\n",
       "      <th>Critic_Score</th>\n",
       "      <th>User_Score</th>\n",
       "      <th>Rating</th>\n",
       "    </tr>\n",
       "  </thead>\n",
       "  <tbody>\n",
       "    <tr>\n",
       "      <th>0</th>\n",
       "      <td>Wii Sports</td>\n",
       "      <td>Wii</td>\n",
       "      <td>2006.0</td>\n",
       "      <td>Sports</td>\n",
       "      <td>41.36</td>\n",
       "      <td>28.96</td>\n",
       "      <td>3.77</td>\n",
       "      <td>8.45</td>\n",
       "      <td>76.0</td>\n",
       "      <td>8</td>\n",
       "      <td>E</td>\n",
       "    </tr>\n",
       "    <tr>\n",
       "      <th>1</th>\n",
       "      <td>Super Mario Bros.</td>\n",
       "      <td>NES</td>\n",
       "      <td>1985.0</td>\n",
       "      <td>Platform</td>\n",
       "      <td>29.08</td>\n",
       "      <td>3.58</td>\n",
       "      <td>6.81</td>\n",
       "      <td>0.77</td>\n",
       "      <td>NaN</td>\n",
       "      <td>NaN</td>\n",
       "      <td>NaN</td>\n",
       "    </tr>\n",
       "    <tr>\n",
       "      <th>2</th>\n",
       "      <td>Mario Kart Wii</td>\n",
       "      <td>Wii</td>\n",
       "      <td>2008.0</td>\n",
       "      <td>Racing</td>\n",
       "      <td>15.68</td>\n",
       "      <td>12.76</td>\n",
       "      <td>3.79</td>\n",
       "      <td>3.29</td>\n",
       "      <td>82.0</td>\n",
       "      <td>8.3</td>\n",
       "      <td>E</td>\n",
       "    </tr>\n",
       "    <tr>\n",
       "      <th>3</th>\n",
       "      <td>Wii Sports Resort</td>\n",
       "      <td>Wii</td>\n",
       "      <td>2009.0</td>\n",
       "      <td>Sports</td>\n",
       "      <td>15.61</td>\n",
       "      <td>10.93</td>\n",
       "      <td>3.28</td>\n",
       "      <td>2.95</td>\n",
       "      <td>80.0</td>\n",
       "      <td>8</td>\n",
       "      <td>E</td>\n",
       "    </tr>\n",
       "    <tr>\n",
       "      <th>4</th>\n",
       "      <td>Pokemon Red/Pokemon Blue</td>\n",
       "      <td>GB</td>\n",
       "      <td>1996.0</td>\n",
       "      <td>Role-Playing</td>\n",
       "      <td>11.27</td>\n",
       "      <td>8.89</td>\n",
       "      <td>10.22</td>\n",
       "      <td>1.00</td>\n",
       "      <td>NaN</td>\n",
       "      <td>NaN</td>\n",
       "      <td>NaN</td>\n",
       "    </tr>\n",
       "    <tr>\n",
       "      <th>...</th>\n",
       "      <td>...</td>\n",
       "      <td>...</td>\n",
       "      <td>...</td>\n",
       "      <td>...</td>\n",
       "      <td>...</td>\n",
       "      <td>...</td>\n",
       "      <td>...</td>\n",
       "      <td>...</td>\n",
       "      <td>...</td>\n",
       "      <td>...</td>\n",
       "      <td>...</td>\n",
       "    </tr>\n",
       "    <tr>\n",
       "      <th>16710</th>\n",
       "      <td>Samurai Warriors: Sanada Maru</td>\n",
       "      <td>PS3</td>\n",
       "      <td>2016.0</td>\n",
       "      <td>Action</td>\n",
       "      <td>0.00</td>\n",
       "      <td>0.00</td>\n",
       "      <td>0.01</td>\n",
       "      <td>0.00</td>\n",
       "      <td>NaN</td>\n",
       "      <td>NaN</td>\n",
       "      <td>NaN</td>\n",
       "    </tr>\n",
       "    <tr>\n",
       "      <th>16711</th>\n",
       "      <td>LMA Manager 2007</td>\n",
       "      <td>X360</td>\n",
       "      <td>2006.0</td>\n",
       "      <td>Sports</td>\n",
       "      <td>0.00</td>\n",
       "      <td>0.01</td>\n",
       "      <td>0.00</td>\n",
       "      <td>0.00</td>\n",
       "      <td>NaN</td>\n",
       "      <td>NaN</td>\n",
       "      <td>NaN</td>\n",
       "    </tr>\n",
       "    <tr>\n",
       "      <th>16712</th>\n",
       "      <td>Haitaka no Psychedelica</td>\n",
       "      <td>PSV</td>\n",
       "      <td>2016.0</td>\n",
       "      <td>Adventure</td>\n",
       "      <td>0.00</td>\n",
       "      <td>0.00</td>\n",
       "      <td>0.01</td>\n",
       "      <td>0.00</td>\n",
       "      <td>NaN</td>\n",
       "      <td>NaN</td>\n",
       "      <td>NaN</td>\n",
       "    </tr>\n",
       "    <tr>\n",
       "      <th>16713</th>\n",
       "      <td>Spirits &amp; Spells</td>\n",
       "      <td>GBA</td>\n",
       "      <td>2003.0</td>\n",
       "      <td>Platform</td>\n",
       "      <td>0.01</td>\n",
       "      <td>0.00</td>\n",
       "      <td>0.00</td>\n",
       "      <td>0.00</td>\n",
       "      <td>NaN</td>\n",
       "      <td>NaN</td>\n",
       "      <td>NaN</td>\n",
       "    </tr>\n",
       "    <tr>\n",
       "      <th>16714</th>\n",
       "      <td>Winning Post 8 2016</td>\n",
       "      <td>PSV</td>\n",
       "      <td>2016.0</td>\n",
       "      <td>Simulation</td>\n",
       "      <td>0.00</td>\n",
       "      <td>0.00</td>\n",
       "      <td>0.01</td>\n",
       "      <td>0.00</td>\n",
       "      <td>NaN</td>\n",
       "      <td>NaN</td>\n",
       "      <td>NaN</td>\n",
       "    </tr>\n",
       "  </tbody>\n",
       "</table>\n",
       "<p>16715 rows × 11 columns</p>\n",
       "</div>"
      ],
      "text/plain": [
       "                                Name Platform  Year_of_Release         Genre  \\\n",
       "0                         Wii Sports      Wii           2006.0        Sports   \n",
       "1                  Super Mario Bros.      NES           1985.0      Platform   \n",
       "2                     Mario Kart Wii      Wii           2008.0        Racing   \n",
       "3                  Wii Sports Resort      Wii           2009.0        Sports   \n",
       "4           Pokemon Red/Pokemon Blue       GB           1996.0  Role-Playing   \n",
       "...                              ...      ...              ...           ...   \n",
       "16710  Samurai Warriors: Sanada Maru      PS3           2016.0        Action   \n",
       "16711               LMA Manager 2007     X360           2006.0        Sports   \n",
       "16712        Haitaka no Psychedelica      PSV           2016.0     Adventure   \n",
       "16713               Spirits & Spells      GBA           2003.0      Platform   \n",
       "16714            Winning Post 8 2016      PSV           2016.0    Simulation   \n",
       "\n",
       "       NA_sales  EU_sales  JP_sales  Other_sales  Critic_Score User_Score  \\\n",
       "0         41.36     28.96      3.77         8.45          76.0          8   \n",
       "1         29.08      3.58      6.81         0.77           NaN        NaN   \n",
       "2         15.68     12.76      3.79         3.29          82.0        8.3   \n",
       "3         15.61     10.93      3.28         2.95          80.0          8   \n",
       "4         11.27      8.89     10.22         1.00           NaN        NaN   \n",
       "...         ...       ...       ...          ...           ...        ...   \n",
       "16710      0.00      0.00      0.01         0.00           NaN        NaN   \n",
       "16711      0.00      0.01      0.00         0.00           NaN        NaN   \n",
       "16712      0.00      0.00      0.01         0.00           NaN        NaN   \n",
       "16713      0.01      0.00      0.00         0.00           NaN        NaN   \n",
       "16714      0.00      0.00      0.01         0.00           NaN        NaN   \n",
       "\n",
       "      Rating  \n",
       "0          E  \n",
       "1        NaN  \n",
       "2          E  \n",
       "3          E  \n",
       "4        NaN  \n",
       "...      ...  \n",
       "16710    NaN  \n",
       "16711    NaN  \n",
       "16712    NaN  \n",
       "16713    NaN  \n",
       "16714    NaN  \n",
       "\n",
       "[16715 rows x 11 columns]"
      ]
     },
     "metadata": {},
     "output_type": "display_data"
    },
    {
     "name": "stdout",
     "output_type": "stream",
     "text": [
      "1980.0 2016.0\n",
      "11560\n",
      "13\n",
      "31\n",
      "['E' nan 'M' 'T' 'E10+' 'K-A' 'AO' 'EC' 'RP']\n"
     ]
    }
   ],
   "source": [
    "data.info()\n",
    "display(data)\n",
    "print(data['Year_of_Release'].min(), data['Year_of_Release'].max())\n",
    "print(len(data['Name'].unique()))\n",
    "print(len(data['Genre'].unique()))\n",
    "print(len(data['Platform'].unique()))\n",
    "print(data['Rating'].unique())"
   ]
  },
  {
   "cell_type": "code",
   "execution_count": 4,
   "metadata": {},
   "outputs": [
    {
     "data": {
      "image/png": "[encoded data removed]",
      "text/plain": [
       "<Figure size 720x720 with 6 Axes>"
      ]
     },
     "metadata": {
      "needs_background": "light"
     },
     "output_type": "display_data"
    }
   ],
   "source": [
    "data.hist(figsize=(10, 10), bins=50);"
   ]
  },
  {
   "cell_type": "markdown",
   "metadata": {},
   "source": [
    "- В датафрейме 16715 строк с данными об компьютерных играх, пропущенные значения есть в столбцах 'Name', 'Year_of_Release', 'Genre', 'Critic_Score', 'User_Score', 'Rating'.\n",
    "- Всего 11560 уникальных названий игр в 13 жанрах и в 8-ми возрастных группах.\n",
    "- Данные по играм представлены с 1980 по 2016 гг для 31 платформы.\n",
    "- Они оценивались по 8 рейтингам."
   ]
  },
  {
   "cell_type": "markdown",
   "metadata": {},
   "source": [
    "#### Шаг 2. Предобработка данных"
   ]
  },
  {
   "cell_type": "markdown",
   "metadata": {},
   "source": [
    "**2.1. Заменим названия столбцов (приведем к нижнему регистру).**"
   ]
  },
  {
   "cell_type": "code",
   "execution_count": 5,
   "metadata": {},
   "outputs": [
    {
     "name": "stdout",
     "output_type": "stream",
     "text": [
      "<class 'pandas.core.frame.DataFrame'>\n",
      "RangeIndex: 16715 entries, 0 to 16714\n",
      "Data columns (total 11 columns):\n",
      " #   Column           Non-Null Count  Dtype  \n",
      "---  ------           --------------  -----  \n",
      " 0   name             16713 non-null  object \n",
      " 1   platform         16715 non-null  object \n",
      " 2   year_of_release  16446 non-null  float64\n",
      " 3   genre            16713 non-null  object \n",
      " 4   na_sales         16715 non-null  float64\n",
      " 5   eu_sales         16715 non-null  float64\n",
      " 6   jp_sales         16715 non-null  float64\n",
      " 7   other_sales      16715 non-null  float64\n",
      " 8   critic_score     8137 non-null   float64\n",
      " 9   user_score       10014 non-null  object \n",
      " 10  rating           9949 non-null   object \n",
      "dtypes: float64(6), object(5)\n",
      "memory usage: 1.4+ MB\n"
     ]
    }
   ],
   "source": [
    "data.columns = data.columns.str.lower()\n",
    "data.info()"
   ]
  },
  {
   "cell_type": "markdown",
   "metadata": {},
   "source": [
    "**2.2. Преобразуем данные в нужные типы.**"
   ]
  },
  {
   "cell_type": "markdown",
   "metadata": {},
   "source": [
    "**Для начала удалим строки где есть пустые значения в столбцах 'name', 'year_of_release', 'genre', так как их незначительное количество.**"
   ]
  },
  {
   "cell_type": "code",
   "execution_count": 6,
   "metadata": {},
   "outputs": [
    {
     "name": "stdout",
     "output_type": "stream",
     "text": [
      "<class 'pandas.core.frame.DataFrame'>\n",
      "RangeIndex: 16444 entries, 0 to 16443\n",
      "Data columns (total 11 columns):\n",
      " #   Column           Non-Null Count  Dtype  \n",
      "---  ------           --------------  -----  \n",
      " 0   name             16444 non-null  object \n",
      " 1   platform         16444 non-null  object \n",
      " 2   year_of_release  16444 non-null  float64\n",
      " 3   genre            16444 non-null  object \n",
      " 4   na_sales         16444 non-null  float64\n",
      " 5   eu_sales         16444 non-null  float64\n",
      " 6   jp_sales         16444 non-null  float64\n",
      " 7   other_sales      16444 non-null  float64\n",
      " 8   critic_score     7983 non-null   float64\n",
      " 9   user_score       9839 non-null   object \n",
      " 10  rating           9768 non-null   object \n",
      "dtypes: float64(6), object(5)\n",
      "memory usage: 1.4+ MB\n"
     ]
    }
   ],
   "source": [
    "data = data.dropna(subset=['name']).reset_index(drop=True)\n",
    "data = data.dropna(subset=['year_of_release']).reset_index(drop=True)\n",
    "data.info()"
   ]
  },
  {
   "cell_type": "markdown",
   "metadata": {},
   "source": [
    "**В столбце 'user_score' есть значение 'tbd', которое, скорее всего, обозначает To Be Determined (будет определено), заменим его на значение NAN, тогда и тип данных будет float.**"
   ]
  },
  {
   "cell_type": "code",
   "execution_count": 7,
   "metadata": {},
   "outputs": [
    {
     "name": "stdout",
     "output_type": "stream",
     "text": [
      "2376\n",
      "<class 'pandas.core.frame.DataFrame'>\n",
      "RangeIndex: 16444 entries, 0 to 16443\n",
      "Data columns (total 11 columns):\n",
      " #   Column           Non-Null Count  Dtype  \n",
      "---  ------           --------------  -----  \n",
      " 0   name             16444 non-null  object \n",
      " 1   platform         16444 non-null  object \n",
      " 2   year_of_release  16444 non-null  float64\n",
      " 3   genre            16444 non-null  object \n",
      " 4   na_sales         16444 non-null  float64\n",
      " 5   eu_sales         16444 non-null  float64\n",
      " 6   jp_sales         16444 non-null  float64\n",
      " 7   other_sales      16444 non-null  float64\n",
      " 8   critic_score     7983 non-null   float64\n",
      " 9   user_score       7463 non-null   float64\n",
      " 10  rating           9768 non-null   object \n",
      "dtypes: float64(7), object(4)\n",
      "memory usage: 1.4+ MB\n"
     ]
    }
   ],
   "source": [
    "print(len(data[data['user_score'] == 'tbd']))\n",
    "data['user_score'] = pd.to_numeric(data['user_score'], errors='coerce')\n",
    "data.info()\n"
   ]
  },
  {
   "cell_type": "markdown",
   "metadata": {},
   "source": [
    "**Переведем тип данных в столбце 'year_of_release' в 'int'*"
   ]
  },
  {
   "cell_type": "code",
   "execution_count": 8,
   "metadata": {},
   "outputs": [],
   "source": [
    "data['year_of_release'] = data['year_of_release'].astype('int')"
   ]
  },
  {
   "cell_type": "markdown",
   "metadata": {},
   "source": [
    "**2.3. Обработка пропусков**"
   ]
  },
  {
   "cell_type": "code",
   "execution_count": 9,
   "metadata": {},
   "outputs": [
    {
     "data": {
      "text/plain": [
       "name                  0\n",
       "platform              0\n",
       "year_of_release       0\n",
       "genre                 0\n",
       "na_sales              0\n",
       "eu_sales              0\n",
       "jp_sales              0\n",
       "other_sales           0\n",
       "critic_score       8461\n",
       "user_score         8981\n",
       "rating             6676\n",
       "dtype: int64"
      ]
     },
     "execution_count": 9,
     "metadata": {},
     "output_type": "execute_result"
    }
   ],
   "source": [
    "data.isna().sum()"
   ]
  },
  {
   "cell_type": "markdown",
   "metadata": {},
   "source": [
    "**Для начала определим и удалим явные дубликаты, если таковые есть.**"
   ]
  },
  {
   "cell_type": "code",
   "execution_count": 10,
   "metadata": {},
   "outputs": [
    {
     "data": {
      "text/plain": [
       "0"
      ]
     },
     "execution_count": 10,
     "metadata": {},
     "output_type": "execute_result"
    }
   ],
   "source": [
    "data.duplicated().sum()"
   ]
  },
  {
   "cell_type": "markdown",
   "metadata": {},
   "source": [
    "**Таких дубликатов нет.**"
   ]
  },
  {
   "cell_type": "markdown",
   "metadata": {},
   "source": [
    "**Для исключения влияния разного регистра букв на наличие неявных дубликатов приведем строковые данные к нижнему регистру (столбцы 'name', 'platform', 'genre' и 'rating').**"
   ]
  },
  {
   "cell_type": "code",
   "execution_count": 11,
   "metadata": {},
   "outputs": [],
   "source": [
    "for column in [\"name\", \"platform\", \"genre\", \"rating\"]:\n",
    "    data[column] = data[column].str.lower()"
   ]
  },
  {
   "cell_type": "code",
   "execution_count": 12,
   "metadata": {},
   "outputs": [
    {
     "data": {
      "text/html": [
       "<div>\n",
       "<style scoped>\n",
       "    .dataframe tbody tr th:only-of-type {\n",
       "        vertical-align: middle;\n",
       "    }\n",
       "\n",
       "    .dataframe tbody tr th {\n",
       "        vertical-align: top;\n",
       "    }\n",
       "\n",
       "    .dataframe thead tr th {\n",
       "        text-align: left;\n",
       "    }\n",
       "\n",
       "    .dataframe thead tr:last-of-type th {\n",
       "        text-align: right;\n",
       "    }\n",
       "</style>\n",
       "<table border=\"1\" class=\"dataframe\">\n",
       "  <thead>\n",
       "    <tr>\n",
       "      <th></th>\n",
       "      <th>name</th>\n",
       "    </tr>\n",
       "    <tr>\n",
       "      <th></th>\n",
       "      <th>count</th>\n",
       "    </tr>\n",
       "    <tr>\n",
       "      <th>name</th>\n",
       "      <th></th>\n",
       "    </tr>\n",
       "  </thead>\n",
       "  <tbody>\n",
       "    <tr>\n",
       "      <th>beyblade burst</th>\n",
       "      <td>1</td>\n",
       "    </tr>\n",
       "    <tr>\n",
       "      <th>fire emblem fates</th>\n",
       "      <td>1</td>\n",
       "    </tr>\n",
       "    <tr>\n",
       "      <th>frozen: olaf's quest</th>\n",
       "      <td>2</td>\n",
       "    </tr>\n",
       "    <tr>\n",
       "      <th>haikyu!! cross team match!</th>\n",
       "      <td>1</td>\n",
       "    </tr>\n",
       "    <tr>\n",
       "      <th>tales of xillia 2</th>\n",
       "      <td>1</td>\n",
       "    </tr>\n",
       "    <tr>\n",
       "      <th>...</th>\n",
       "      <td>...</td>\n",
       "    </tr>\n",
       "    <tr>\n",
       "      <th>zumba fitness rush</th>\n",
       "      <td>1</td>\n",
       "    </tr>\n",
       "    <tr>\n",
       "      <th>zumba fitness: world party</th>\n",
       "      <td>2</td>\n",
       "    </tr>\n",
       "    <tr>\n",
       "      <th>zwei!!</th>\n",
       "      <td>1</td>\n",
       "    </tr>\n",
       "    <tr>\n",
       "      <th>zyuden sentai kyoryuger: game de gaburincho!!</th>\n",
       "      <td>1</td>\n",
       "    </tr>\n",
       "    <tr>\n",
       "      <th>¡shin chan flipa en colores!</th>\n",
       "      <td>1</td>\n",
       "    </tr>\n",
       "  </tbody>\n",
       "</table>\n",
       "<p>11426 rows × 1 columns</p>\n",
       "</div>"
      ],
      "text/plain": [
       "                                               name\n",
       "                                              count\n",
       "name                                               \n",
       " beyblade burst                                   1\n",
       " fire emblem fates                                1\n",
       " frozen: olaf's quest                             2\n",
       " haikyu!! cross team match!                       1\n",
       " tales of xillia 2                                1\n",
       "...                                             ...\n",
       "zumba fitness rush                                1\n",
       "zumba fitness: world party                        2\n",
       "zwei!!                                            1\n",
       "zyuden sentai kyoryuger: game de gaburincho!!     1\n",
       "¡shin chan flipa en colores!                      1\n",
       "\n",
       "[11426 rows x 1 columns]"
      ]
     },
     "execution_count": 12,
     "metadata": {},
     "output_type": "execute_result"
    }
   ],
   "source": [
    "#Для дальнейшего поиска неявных дубликатов уберем ограничение количества выводимых строк\n",
    "# pd.set_option('display.max_rows', None)\n",
    "data.groupby('name').agg({'name': ['count']})"
   ]
  },
  {
   "cell_type": "markdown",
   "metadata": {},
   "source": [
    "**В целом неявных дубликатов в названиях игр не наблюдается**"
   ]
  },
  {
   "cell_type": "code",
   "execution_count": 13,
   "metadata": {},
   "outputs": [
    {
     "data": {
      "text/html": [
       "<div>\n",
       "<style scoped>\n",
       "    .dataframe tbody tr th:only-of-type {\n",
       "        vertical-align: middle;\n",
       "    }\n",
       "\n",
       "    .dataframe tbody tr th {\n",
       "        vertical-align: top;\n",
       "    }\n",
       "\n",
       "    .dataframe thead tr th {\n",
       "        text-align: left;\n",
       "    }\n",
       "\n",
       "    .dataframe thead tr:last-of-type th {\n",
       "        text-align: right;\n",
       "    }\n",
       "</style>\n",
       "<table border=\"1\" class=\"dataframe\">\n",
       "  <thead>\n",
       "    <tr>\n",
       "      <th></th>\n",
       "      <th>platform</th>\n",
       "    </tr>\n",
       "    <tr>\n",
       "      <th></th>\n",
       "      <th>count</th>\n",
       "    </tr>\n",
       "    <tr>\n",
       "      <th>platform</th>\n",
       "      <th></th>\n",
       "    </tr>\n",
       "  </thead>\n",
       "  <tbody>\n",
       "    <tr>\n",
       "      <th>2600</th>\n",
       "      <td>116</td>\n",
       "    </tr>\n",
       "    <tr>\n",
       "      <th>3do</th>\n",
       "      <td>3</td>\n",
       "    </tr>\n",
       "    <tr>\n",
       "      <th>3ds</th>\n",
       "      <td>512</td>\n",
       "    </tr>\n",
       "    <tr>\n",
       "      <th>dc</th>\n",
       "      <td>52</td>\n",
       "    </tr>\n",
       "    <tr>\n",
       "      <th>ds</th>\n",
       "      <td>2121</td>\n",
       "    </tr>\n",
       "    <tr>\n",
       "      <th>gb</th>\n",
       "      <td>97</td>\n",
       "    </tr>\n",
       "    <tr>\n",
       "      <th>gba</th>\n",
       "      <td>811</td>\n",
       "    </tr>\n",
       "    <tr>\n",
       "      <th>gc</th>\n",
       "      <td>542</td>\n",
       "    </tr>\n",
       "    <tr>\n",
       "      <th>gen</th>\n",
       "      <td>27</td>\n",
       "    </tr>\n",
       "    <tr>\n",
       "      <th>gg</th>\n",
       "      <td>1</td>\n",
       "    </tr>\n",
       "    <tr>\n",
       "      <th>n64</th>\n",
       "      <td>316</td>\n",
       "    </tr>\n",
       "    <tr>\n",
       "      <th>nes</th>\n",
       "      <td>98</td>\n",
       "    </tr>\n",
       "    <tr>\n",
       "      <th>ng</th>\n",
       "      <td>12</td>\n",
       "    </tr>\n",
       "    <tr>\n",
       "      <th>pc</th>\n",
       "      <td>957</td>\n",
       "    </tr>\n",
       "    <tr>\n",
       "      <th>pcfx</th>\n",
       "      <td>1</td>\n",
       "    </tr>\n",
       "    <tr>\n",
       "      <th>ps</th>\n",
       "      <td>1190</td>\n",
       "    </tr>\n",
       "    <tr>\n",
       "      <th>ps2</th>\n",
       "      <td>2127</td>\n",
       "    </tr>\n",
       "    <tr>\n",
       "      <th>ps3</th>\n",
       "      <td>1306</td>\n",
       "    </tr>\n",
       "    <tr>\n",
       "      <th>ps4</th>\n",
       "      <td>392</td>\n",
       "    </tr>\n",
       "    <tr>\n",
       "      <th>psp</th>\n",
       "      <td>1193</td>\n",
       "    </tr>\n",
       "    <tr>\n",
       "      <th>psv</th>\n",
       "      <td>429</td>\n",
       "    </tr>\n",
       "    <tr>\n",
       "      <th>sat</th>\n",
       "      <td>173</td>\n",
       "    </tr>\n",
       "    <tr>\n",
       "      <th>scd</th>\n",
       "      <td>6</td>\n",
       "    </tr>\n",
       "    <tr>\n",
       "      <th>snes</th>\n",
       "      <td>239</td>\n",
       "    </tr>\n",
       "    <tr>\n",
       "      <th>tg16</th>\n",
       "      <td>2</td>\n",
       "    </tr>\n",
       "    <tr>\n",
       "      <th>wii</th>\n",
       "      <td>1286</td>\n",
       "    </tr>\n",
       "    <tr>\n",
       "      <th>wiiu</th>\n",
       "      <td>147</td>\n",
       "    </tr>\n",
       "    <tr>\n",
       "      <th>ws</th>\n",
       "      <td>6</td>\n",
       "    </tr>\n",
       "    <tr>\n",
       "      <th>x360</th>\n",
       "      <td>1232</td>\n",
       "    </tr>\n",
       "    <tr>\n",
       "      <th>xb</th>\n",
       "      <td>803</td>\n",
       "    </tr>\n",
       "    <tr>\n",
       "      <th>xone</th>\n",
       "      <td>247</td>\n",
       "    </tr>\n",
       "  </tbody>\n",
       "</table>\n",
       "</div>"
      ],
      "text/plain": [
       "         platform\n",
       "            count\n",
       "platform         \n",
       "2600          116\n",
       "3do             3\n",
       "3ds           512\n",
       "dc             52\n",
       "ds           2121\n",
       "gb             97\n",
       "gba           811\n",
       "gc            542\n",
       "gen            27\n",
       "gg              1\n",
       "n64           316\n",
       "nes            98\n",
       "ng             12\n",
       "pc            957\n",
       "pcfx            1\n",
       "ps           1190\n",
       "ps2          2127\n",
       "ps3          1306\n",
       "ps4           392\n",
       "psp          1193\n",
       "psv           429\n",
       "sat           173\n",
       "scd             6\n",
       "snes          239\n",
       "tg16            2\n",
       "wii          1286\n",
       "wiiu          147\n",
       "ws              6\n",
       "x360         1232\n",
       "xb            803\n",
       "xone          247"
      ]
     },
     "execution_count": 13,
     "metadata": {},
     "output_type": "execute_result"
    }
   ],
   "source": [
    "data.groupby('platform').agg({'platform': ['count']})"
   ]
  },
  {
   "cell_type": "markdown",
   "metadata": {},
   "source": [
    "**По названиям платформ неявных дубликатов не отмечается**"
   ]
  },
  {
   "cell_type": "code",
   "execution_count": 14,
   "metadata": {},
   "outputs": [
    {
     "data": {
      "text/plain": [
       "array(['sports', 'platform', 'racing', 'role-playing', 'puzzle', 'misc',\n",
       "       'shooter', 'simulation', 'action', 'fighting', 'adventure',\n",
       "       'strategy'], dtype=object)"
      ]
     },
     "execution_count": 14,
     "metadata": {},
     "output_type": "execute_result"
    }
   ],
   "source": [
    "data['genre'].unique()"
   ]
  },
  {
   "cell_type": "markdown",
   "metadata": {},
   "source": [
    "**По жанрам также нет дубликатов.**"
   ]
  },
  {
   "cell_type": "code",
   "execution_count": 15,
   "metadata": {},
   "outputs": [
    {
     "data": {
      "text/plain": [
       "array(['e', nan, 'm', 't', 'e10+', 'k-a', 'ao', 'ec', 'rp'], dtype=object)"
      ]
     },
     "execution_count": 15,
     "metadata": {},
     "output_type": "execute_result"
    }
   ],
   "source": [
    "data['rating'].unique()"
   ]
  },
  {
   "cell_type": "markdown",
   "metadata": {},
   "source": [
    "**По возрастному рейтингу также дубликатов не обнаружено**"
   ]
  },
  {
   "cell_type": "code",
   "execution_count": 16,
   "metadata": {},
   "outputs": [],
   "source": [
    "data.duplicated(subset=['name', 'platform', 'year_of_release']).sum()\n",
    "data = data.drop_duplicates(subset=['name', 'platform', 'year_of_release']).reset_index(drop=True)"
   ]
  },
  {
   "cell_type": "markdown",
   "metadata": {},
   "source": [
    "**Выявлен дубликат по столбцам 'name', 'platform', 'year_of_release', удалим его.**"
   ]
  },
  {
   "cell_type": "markdown",
   "metadata": {},
   "source": [
    "**Заполним пропуски в столбце c возрастным ограничением 'rating'**"
   ]
  },
  {
   "cell_type": "code",
   "execution_count": 17,
   "metadata": {},
   "outputs": [
    {
     "data": {
      "text/html": [
       "<div>\n",
       "<style scoped>\n",
       "    .dataframe tbody tr th:only-of-type {\n",
       "        vertical-align: middle;\n",
       "    }\n",
       "\n",
       "    .dataframe tbody tr th {\n",
       "        vertical-align: top;\n",
       "    }\n",
       "\n",
       "    .dataframe thead th {\n",
       "        text-align: right;\n",
       "    }\n",
       "</style>\n",
       "<table border=\"1\" class=\"dataframe\">\n",
       "  <thead>\n",
       "    <tr style=\"text-align: right;\">\n",
       "      <th></th>\n",
       "      <th>&lt;lambda_0&gt;</th>\n",
       "      <th>&lt;lambda_1&gt;</th>\n",
       "    </tr>\n",
       "    <tr>\n",
       "      <th>name</th>\n",
       "      <th></th>\n",
       "      <th></th>\n",
       "    </tr>\n",
       "  </thead>\n",
       "  <tbody>\n",
       "    <tr>\n",
       "      <th>beyblade burst</th>\n",
       "      <td>0</td>\n",
       "      <td>1</td>\n",
       "    </tr>\n",
       "    <tr>\n",
       "      <th>fire emblem fates</th>\n",
       "      <td>0</td>\n",
       "      <td>1</td>\n",
       "    </tr>\n",
       "    <tr>\n",
       "      <th>frozen: olaf's quest</th>\n",
       "      <td>0</td>\n",
       "      <td>2</td>\n",
       "    </tr>\n",
       "    <tr>\n",
       "      <th>haikyu!! cross team match!</th>\n",
       "      <td>0</td>\n",
       "      <td>1</td>\n",
       "    </tr>\n",
       "    <tr>\n",
       "      <th>tales of xillia 2</th>\n",
       "      <td>1</td>\n",
       "      <td>0</td>\n",
       "    </tr>\n",
       "    <tr>\n",
       "      <th>'98 koshien</th>\n",
       "      <td>0</td>\n",
       "      <td>1</td>\n",
       "    </tr>\n",
       "    <tr>\n",
       "      <th>.hack//g.u. vol.1//rebirth</th>\n",
       "      <td>0</td>\n",
       "      <td>1</td>\n",
       "    </tr>\n",
       "    <tr>\n",
       "      <th>.hack//g.u. vol.2//reminisce</th>\n",
       "      <td>0</td>\n",
       "      <td>1</td>\n",
       "    </tr>\n",
       "    <tr>\n",
       "      <th>.hack//g.u. vol.2//reminisce (jp sales)</th>\n",
       "      <td>0</td>\n",
       "      <td>1</td>\n",
       "    </tr>\n",
       "    <tr>\n",
       "      <th>.hack//g.u. vol.3//redemption</th>\n",
       "      <td>0</td>\n",
       "      <td>1</td>\n",
       "    </tr>\n",
       "    <tr>\n",
       "      <th>.hack//infection part 1</th>\n",
       "      <td>1</td>\n",
       "      <td>0</td>\n",
       "    </tr>\n",
       "    <tr>\n",
       "      <th>.hack//link</th>\n",
       "      <td>0</td>\n",
       "      <td>1</td>\n",
       "    </tr>\n",
       "    <tr>\n",
       "      <th>.hack//mutation part 2</th>\n",
       "      <td>1</td>\n",
       "      <td>0</td>\n",
       "    </tr>\n",
       "    <tr>\n",
       "      <th>.hack//outbreak part 3</th>\n",
       "      <td>1</td>\n",
       "      <td>0</td>\n",
       "    </tr>\n",
       "    <tr>\n",
       "      <th>.hack//quarantine part 4: the final chapter</th>\n",
       "      <td>0</td>\n",
       "      <td>1</td>\n",
       "    </tr>\n",
       "    <tr>\n",
       "      <th>.hack: sekai no mukou ni + versus</th>\n",
       "      <td>0</td>\n",
       "      <td>1</td>\n",
       "    </tr>\n",
       "    <tr>\n",
       "      <th>007 racing</th>\n",
       "      <td>1</td>\n",
       "      <td>0</td>\n",
       "    </tr>\n",
       "    <tr>\n",
       "      <th>007: quantum of solace</th>\n",
       "      <td>5</td>\n",
       "      <td>1</td>\n",
       "    </tr>\n",
       "    <tr>\n",
       "      <th>007: the world is not enough</th>\n",
       "      <td>1</td>\n",
       "      <td>1</td>\n",
       "    </tr>\n",
       "    <tr>\n",
       "      <th>007: tomorrow never dies</th>\n",
       "      <td>0</td>\n",
       "      <td>1</td>\n",
       "    </tr>\n",
       "    <tr>\n",
       "      <th>1 vs. 100</th>\n",
       "      <td>1</td>\n",
       "      <td>0</td>\n",
       "    </tr>\n",
       "    <tr>\n",
       "      <th>1/2 summer +</th>\n",
       "      <td>0</td>\n",
       "      <td>1</td>\n",
       "    </tr>\n",
       "    <tr>\n",
       "      <th>10 minute solution</th>\n",
       "      <td>1</td>\n",
       "      <td>0</td>\n",
       "    </tr>\n",
       "    <tr>\n",
       "      <th>100 all-time favorites</th>\n",
       "      <td>1</td>\n",
       "      <td>0</td>\n",
       "    </tr>\n",
       "    <tr>\n",
       "      <th>100 classic books</th>\n",
       "      <td>0</td>\n",
       "      <td>1</td>\n",
       "    </tr>\n",
       "    <tr>\n",
       "      <th>100 classic games</th>\n",
       "      <td>0</td>\n",
       "      <td>1</td>\n",
       "    </tr>\n",
       "    <tr>\n",
       "      <th>1000 cooking recipes from elle à table</th>\n",
       "      <td>0</td>\n",
       "      <td>1</td>\n",
       "    </tr>\n",
       "    <tr>\n",
       "      <th>1001 touch games</th>\n",
       "      <td>1</td>\n",
       "      <td>0</td>\n",
       "    </tr>\n",
       "    <tr>\n",
       "      <th>101-in-1 explosive megamix</th>\n",
       "      <td>1</td>\n",
       "      <td>0</td>\n",
       "    </tr>\n",
       "    <tr>\n",
       "      <th>101-in-1 party megamix wii</th>\n",
       "      <td>0</td>\n",
       "      <td>1</td>\n",
       "    </tr>\n",
       "    <tr>\n",
       "      <th>101-in-1 sports megamix</th>\n",
       "      <td>1</td>\n",
       "      <td>0</td>\n",
       "    </tr>\n",
       "    <tr>\n",
       "      <th>101-in-1 sports party megamix</th>\n",
       "      <td>1</td>\n",
       "      <td>0</td>\n",
       "    </tr>\n",
       "    <tr>\n",
       "      <th>1080°: teneighty snowboarding</th>\n",
       "      <td>0</td>\n",
       "      <td>1</td>\n",
       "    </tr>\n",
       "    <tr>\n",
       "      <th>11eyes: crossover</th>\n",
       "      <td>0</td>\n",
       "      <td>2</td>\n",
       "    </tr>\n",
       "    <tr>\n",
       "      <th>12-sai. honto no kimochi</th>\n",
       "      <td>0</td>\n",
       "      <td>1</td>\n",
       "    </tr>\n",
       "    <tr>\n",
       "      <th>12-sai. koisuru diary</th>\n",
       "      <td>0</td>\n",
       "      <td>1</td>\n",
       "    </tr>\n",
       "    <tr>\n",
       "      <th>12riven: the psi-climinal of integral</th>\n",
       "      <td>0</td>\n",
       "      <td>1</td>\n",
       "    </tr>\n",
       "    <tr>\n",
       "      <th>15 days</th>\n",
       "      <td>0</td>\n",
       "      <td>1</td>\n",
       "    </tr>\n",
       "    <tr>\n",
       "      <th>1701 a.d.</th>\n",
       "      <td>1</td>\n",
       "      <td>0</td>\n",
       "    </tr>\n",
       "    <tr>\n",
       "      <th>18 wheeler: american pro trucker</th>\n",
       "      <td>2</td>\n",
       "      <td>0</td>\n",
       "    </tr>\n",
       "  </tbody>\n",
       "</table>\n",
       "</div>"
      ],
      "text/plain": [
       "                                             <lambda_0>  <lambda_1>\n",
       "name                                                               \n",
       " beyblade burst                                       0           1\n",
       " fire emblem fates                                    0           1\n",
       " frozen: olaf's quest                                 0           2\n",
       " haikyu!! cross team match!                           0           1\n",
       " tales of xillia 2                                    1           0\n",
       "'98 koshien                                           0           1\n",
       ".hack//g.u. vol.1//rebirth                            0           1\n",
       ".hack//g.u. vol.2//reminisce                          0           1\n",
       ".hack//g.u. vol.2//reminisce (jp sales)               0           1\n",
       ".hack//g.u. vol.3//redemption                         0           1\n",
       ".hack//infection part 1                               1           0\n",
       ".hack//link                                           0           1\n",
       ".hack//mutation part 2                                1           0\n",
       ".hack//outbreak part 3                                1           0\n",
       ".hack//quarantine part 4: the final chapter           0           1\n",
       ".hack: sekai no mukou ni + versus                     0           1\n",
       "007 racing                                            1           0\n",
       "007: quantum of solace                                5           1\n",
       "007: the world is not enough                          1           1\n",
       "007: tomorrow never dies                              0           1\n",
       "1 vs. 100                                             1           0\n",
       "1/2 summer +                                          0           1\n",
       "10 minute solution                                    1           0\n",
       "100 all-time favorites                                1           0\n",
       "100 classic books                                     0           1\n",
       "100 classic games                                     0           1\n",
       "1000 cooking recipes from elle à table                0           1\n",
       "1001 touch games                                      1           0\n",
       "101-in-1 explosive megamix                            1           0\n",
       "101-in-1 party megamix wii                            0           1\n",
       "101-in-1 sports megamix                               1           0\n",
       "101-in-1 sports party megamix                         1           0\n",
       "1080°: teneighty snowboarding                         0           1\n",
       "11eyes: crossover                                     0           2\n",
       "12-sai. honto no kimochi                              0           1\n",
       "12-sai. koisuru diary                                 0           1\n",
       "12riven: the psi-climinal of integral                 0           1\n",
       "15 days                                               0           1\n",
       "1701 a.d.                                             1           0\n",
       "18 wheeler: american pro trucker                      2           0"
      ]
     },
     "metadata": {},
     "output_type": "display_data"
    },
    {
     "data": {
      "text/html": [
       "<div>\n",
       "<style scoped>\n",
       "    .dataframe tbody tr th:only-of-type {\n",
       "        vertical-align: middle;\n",
       "    }\n",
       "\n",
       "    .dataframe tbody tr th {\n",
       "        vertical-align: top;\n",
       "    }\n",
       "\n",
       "    .dataframe thead th {\n",
       "        text-align: right;\n",
       "    }\n",
       "</style>\n",
       "<table border=\"1\" class=\"dataframe\">\n",
       "  <thead>\n",
       "    <tr style=\"text-align: right;\">\n",
       "      <th></th>\n",
       "      <th>name</th>\n",
       "      <th>platform</th>\n",
       "      <th>year_of_release</th>\n",
       "      <th>genre</th>\n",
       "      <th>na_sales</th>\n",
       "      <th>eu_sales</th>\n",
       "      <th>jp_sales</th>\n",
       "      <th>other_sales</th>\n",
       "      <th>critic_score</th>\n",
       "      <th>user_score</th>\n",
       "      <th>rating</th>\n",
       "    </tr>\n",
       "  </thead>\n",
       "  <tbody>\n",
       "  </tbody>\n",
       "</table>\n",
       "</div>"
      ],
      "text/plain": [
       "Empty DataFrame\n",
       "Columns: [name, platform, year_of_release, genre, na_sales, eu_sales, jp_sales, other_sales, critic_score, user_score, rating]\n",
       "Index: []"
      ]
     },
     "metadata": {},
     "output_type": "display_data"
    }
   ],
   "source": [
    "display(data.groupby('name')['rating'].agg({lambda s: s.isna().sum(), lambda g: g.count()}).head(40))\n",
    "display(data[data['name'] == '007: The World is not Enough'])"
   ]
  },
  {
   "cell_type": "markdown",
   "metadata": {},
   "source": [
    "**Видно, что есть игры, у которых на определенных платформах нет возрастного ограничения. Очевидно, что на всех платформах будет одинаковое возрастное ограничение. Заполним пропущенные значения в столбце 'rating' по одной и той же игре с той платформы, где рейтинг есть.**"
   ]
  },
  {
   "cell_type": "code",
   "execution_count": 18,
   "metadata": {},
   "outputs": [],
   "source": [
    "nan_rating_list = data[data['rating'].isna()]\n",
    "for t in nan_rating_list['name'].unique():\n",
    "    try:\n",
    "        data.loc[(data['name'] == t) & (data['rating'].isna()), 'rating'] = \\\n",
    "        data.loc[(data['name'] == t), 'rating'].dropna().unique()[0]\n",
    "    except:\n",
    "        pass"
   ]
  },
  {
   "cell_type": "code",
   "execution_count": 19,
   "metadata": {},
   "outputs": [
    {
     "data": {
      "text/plain": [
       "6259"
      ]
     },
     "metadata": {},
     "output_type": "display_data"
    },
    {
     "data": {
      "text/plain": [
       "array(['e', nan, 'm', 't', 'e10+', 'k-a', 'ao', 'ec', 'rp'], dtype=object)"
      ]
     },
     "execution_count": 19,
     "metadata": {},
     "output_type": "execute_result"
    }
   ],
   "source": [
    "display(data['rating'].isna().sum())\n",
    "data['rating'].unique()"
   ]
  },
  {
   "cell_type": "markdown",
   "metadata": {},
   "source": [
    "**Остальные пропуски заменим на слово 'nan', чтобы в дальнейшем было удобно визуализировать данные.**"
   ]
  },
  {
   "cell_type": "code",
   "execution_count": 20,
   "metadata": {},
   "outputs": [
    {
     "data": {
      "text/plain": [
       "array(['e', 'nan', 'm', 't', 'e10+', 'k-a', 'ao', 'ec', 'rp'],\n",
       "      dtype=object)"
      ]
     },
     "execution_count": 20,
     "metadata": {},
     "output_type": "execute_result"
    }
   ],
   "source": [
    "data['rating'] = data['rating'].fillna('nan')\n",
    "data['rating'].unique()"
   ]
  },
  {
   "cell_type": "code",
   "execution_count": 21,
   "metadata": {},
   "outputs": [
    {
     "data": {
      "text/html": [
       "<div>\n",
       "<style scoped>\n",
       "    .dataframe tbody tr th:only-of-type {\n",
       "        vertical-align: middle;\n",
       "    }\n",
       "\n",
       "    .dataframe tbody tr th {\n",
       "        vertical-align: top;\n",
       "    }\n",
       "\n",
       "    .dataframe thead tr th {\n",
       "        text-align: left;\n",
       "    }\n",
       "\n",
       "    .dataframe thead tr:last-of-type th {\n",
       "        text-align: right;\n",
       "    }\n",
       "</style>\n",
       "<table border=\"1\" class=\"dataframe\">\n",
       "  <thead>\n",
       "    <tr>\n",
       "      <th></th>\n",
       "      <th>rating</th>\n",
       "    </tr>\n",
       "    <tr>\n",
       "      <th></th>\n",
       "      <th>count</th>\n",
       "    </tr>\n",
       "    <tr>\n",
       "      <th>rating</th>\n",
       "      <th></th>\n",
       "    </tr>\n",
       "  </thead>\n",
       "  <tbody>\n",
       "    <tr>\n",
       "      <th>ao</th>\n",
       "      <td>1</td>\n",
       "    </tr>\n",
       "    <tr>\n",
       "      <th>e</th>\n",
       "      <td>4074</td>\n",
       "    </tr>\n",
       "    <tr>\n",
       "      <th>e10+</th>\n",
       "      <td>1441</td>\n",
       "    </tr>\n",
       "    <tr>\n",
       "      <th>ec</th>\n",
       "      <td>10</td>\n",
       "    </tr>\n",
       "    <tr>\n",
       "      <th>k-a</th>\n",
       "      <td>4</td>\n",
       "    </tr>\n",
       "    <tr>\n",
       "      <th>m</th>\n",
       "      <td>1621</td>\n",
       "    </tr>\n",
       "    <tr>\n",
       "      <th>nan</th>\n",
       "      <td>6259</td>\n",
       "    </tr>\n",
       "    <tr>\n",
       "      <th>rp</th>\n",
       "      <td>1</td>\n",
       "    </tr>\n",
       "    <tr>\n",
       "      <th>t</th>\n",
       "      <td>3032</td>\n",
       "    </tr>\n",
       "  </tbody>\n",
       "</table>\n",
       "</div>"
      ],
      "text/plain": [
       "       rating\n",
       "        count\n",
       "rating       \n",
       "ao          1\n",
       "e        4074\n",
       "e10+     1441\n",
       "ec         10\n",
       "k-a         4\n",
       "m        1621\n",
       "nan      6259\n",
       "rp          1\n",
       "t        3032"
      ]
     },
     "execution_count": 21,
     "metadata": {},
     "output_type": "execute_result"
    }
   ],
   "source": [
    "data.groupby('rating').agg({'rating': ['count']})"
   ]
  },
  {
   "cell_type": "markdown",
   "metadata": {},
   "source": [
    "**Возрастное ограничение 'K-A' (Kids to Adults) это тоже самое, что и 'E' (Everyone), поэтому заменим 'K-A' (Kids to Adults) на 'E' (Everyone). Также заменим 'A-O' (Adults Only 18+) на похожее 'M' (Mature), а 'RP' (Rating Pending), на 'NAN'.**"
   ]
  },
  {
   "cell_type": "code",
   "execution_count": 22,
   "metadata": {},
   "outputs": [
    {
     "data": {
      "text/html": [
       "<div>\n",
       "<style scoped>\n",
       "    .dataframe tbody tr th:only-of-type {\n",
       "        vertical-align: middle;\n",
       "    }\n",
       "\n",
       "    .dataframe tbody tr th {\n",
       "        vertical-align: top;\n",
       "    }\n",
       "\n",
       "    .dataframe thead tr th {\n",
       "        text-align: left;\n",
       "    }\n",
       "\n",
       "    .dataframe thead tr:last-of-type th {\n",
       "        text-align: right;\n",
       "    }\n",
       "</style>\n",
       "<table border=\"1\" class=\"dataframe\">\n",
       "  <thead>\n",
       "    <tr>\n",
       "      <th></th>\n",
       "      <th>rating</th>\n",
       "    </tr>\n",
       "    <tr>\n",
       "      <th></th>\n",
       "      <th>count</th>\n",
       "    </tr>\n",
       "    <tr>\n",
       "      <th>rating</th>\n",
       "      <th></th>\n",
       "    </tr>\n",
       "  </thead>\n",
       "  <tbody>\n",
       "    <tr>\n",
       "      <th>e</th>\n",
       "      <td>4078</td>\n",
       "    </tr>\n",
       "    <tr>\n",
       "      <th>e10+</th>\n",
       "      <td>1441</td>\n",
       "    </tr>\n",
       "    <tr>\n",
       "      <th>ec</th>\n",
       "      <td>10</td>\n",
       "    </tr>\n",
       "    <tr>\n",
       "      <th>m</th>\n",
       "      <td>1622</td>\n",
       "    </tr>\n",
       "    <tr>\n",
       "      <th>nan</th>\n",
       "      <td>6260</td>\n",
       "    </tr>\n",
       "    <tr>\n",
       "      <th>t</th>\n",
       "      <td>3032</td>\n",
       "    </tr>\n",
       "  </tbody>\n",
       "</table>\n",
       "</div>"
      ],
      "text/plain": [
       "       rating\n",
       "        count\n",
       "rating       \n",
       "e        4078\n",
       "e10+     1441\n",
       "ec         10\n",
       "m        1622\n",
       "nan      6260\n",
       "t        3032"
      ]
     },
     "execution_count": 22,
     "metadata": {},
     "output_type": "execute_result"
    }
   ],
   "source": [
    "data['rating'] = data['rating'].replace('k-a', 'e')\n",
    "data['rating'] = data['rating'].replace('ao', 'm')\n",
    "data['rating'] = data['rating'].replace('rp', 'nan')\n",
    "\n",
    "data.groupby('rating').agg({'rating': ['count']})"
   ]
  },
  {
   "cell_type": "markdown",
   "metadata": {},
   "source": [
    "**2.4. Посчитаем суммарные продажи во всех регионах и запишем их в отдельный столбец.**"
   ]
  },
  {
   "cell_type": "code",
   "execution_count": 23,
   "metadata": {},
   "outputs": [
    {
     "name": "stdout",
     "output_type": "stream",
     "text": [
      "<class 'pandas.core.frame.DataFrame'>\n",
      "RangeIndex: 16443 entries, 0 to 16442\n",
      "Data columns (total 12 columns):\n",
      " #   Column           Non-Null Count  Dtype  \n",
      "---  ------           --------------  -----  \n",
      " 0   name             16443 non-null  object \n",
      " 1   platform         16443 non-null  object \n",
      " 2   year_of_release  16443 non-null  int64  \n",
      " 3   genre            16443 non-null  object \n",
      " 4   na_sales         16443 non-null  float64\n",
      " 5   eu_sales         16443 non-null  float64\n",
      " 6   jp_sales         16443 non-null  float64\n",
      " 7   other_sales      16443 non-null  float64\n",
      " 8   critic_score     7982 non-null   float64\n",
      " 9   user_score       7462 non-null   float64\n",
      " 10  rating           16443 non-null  object \n",
      " 11  total_sales      16443 non-null  float64\n",
      "dtypes: float64(7), int64(1), object(4)\n",
      "memory usage: 1.5+ MB\n"
     ]
    }
   ],
   "source": [
    "data['total_sales'] = data[['na_sales','eu_sales','jp_sales', 'other_sales']].sum(axis = 1)\n",
    "data.info()"
   ]
  },
  {
   "cell_type": "markdown",
   "metadata": {},
   "source": [
    "**В результате предобработки данных выполнено следующее:**\n",
    " - Заменены названия столбцов (приведены к нижнему регистру).\n",
    " - Удалены строки где есть пустые значения в столбцах 'name', 'year_of_release', 'genre', так как их незначительное количество.\n",
    " - Переведен тип данных в столбце 'year_of_release' в 'int'.\n",
    " - В столбце 'user_score' есть значение 'tbd', которое, скорее всего, обозначает To Be Determined (будет определено), оно заменено на значение NaN, a тип данных переведен во float.\n",
    " - Выявлен и удален дубликат по столбцам 'name', 'platform', 'year_of_release'.\n",
    " - Видно, что есть игры, у которых на определенных платформах нет возрастного ограничения. Очевидно, что на всех платформах будет одинаковое возрастное ограничение. Заполнены пропущенные значения в столбце 'rating' по одной и той же игре с той платформы, где рейтинг есть. Остальные пропуски заменены на слово 'nan', чтобы в дальнейшем было удобно визуализировать данные.\n",
    " - Возрастное ограничение 'K-A' (Kids to Adults) это тоже самое, что и 'E' (Everyone), поэтому 'K-A' (Kids to Adults) заменено на 'E' (Everyone). Также заменено 'A-O' (Adults Only 18+) на похожее 'M' (Mature), а 'RP' (Rating Pending), на 'NAN'.\n",
    " - Подсчитаны суммарные продажи во всех регионах и записаны в отдельный столбец 'total_sales'."
   ]
  },
  {
   "cell_type": "markdown",
   "metadata": {},
   "source": [
    "#### Шаг 3. Исследовательский анализ данных"
   ]
  },
  {
   "cell_type": "markdown",
   "metadata": {},
   "source": [
    "**3.1. Посмотрим, сколько игр выпускалось в разные годы.**"
   ]
  },
  {
   "cell_type": "code",
   "execution_count": 24,
   "metadata": {
    "scrolled": true
   },
   "outputs": [
    {
     "data": {
      "image/png": "[encoded data removed]",
      "text/plain": [
       "<Figure size 432x288 with 1 Axes>"
      ]
     },
     "metadata": {
      "needs_background": "light"
     },
     "output_type": "display_data"
    }
   ],
   "source": [
    "data1 = data.groupby('year_of_release').agg({'name': ['nunique']}).reset_index(drop=False)\n",
    "data1.columns = ['year_of_release', 'count']\n",
    "data1.plot(x='year_of_release', y='count', style='o-', xlim=(1980, 2016), grid=True)\n",
    "plt.xlabel('Год')\n",
    "plt.ylabel('Количество новых игр')\n",
    "plt.title(\"Количество новых игр в зависимости от года релиза\")\n",
    "plt.show()"
   ]
  },
  {
   "cell_type": "markdown",
   "metadata": {},
   "source": [
    "**До 2008-2009 гг. количество выпущенных новых игр росло, далее произошло значительное падение до 2013 года и дальше выпуск игр стабилизировался. Вероятно данные до стабилизации (до 2013 года) будут не актуальны для анализа.**"
   ]
  },
  {
   "cell_type": "markdown",
   "metadata": {},
   "source": [
    "**3.2. Посмотрите, как менялись продажи по платформам. Выберите платформы с наибольшими суммарными продажами и постройте распределение по годам. За какой характерный срок появляются новые и исчезают старые платформы?**"
   ]
  },
  {
   "cell_type": "code",
   "execution_count": 25,
   "metadata": {},
   "outputs": [
    {
     "data": {
      "image/png": "[encoded data removed]",
      "text/plain": [
       "<Figure size 720x360 with 1 Axes>"
      ]
     },
     "metadata": {
      "needs_background": "light"
     },
     "output_type": "display_data"
    }
   ],
   "source": [
    "data.groupby('platform').agg({'total_sales': ['sum']})['total_sales'] \\\n",
    ".sort_values(by='sum', ascending=False).plot(y='sum', kind='bar', figsize=(10, 5), grid=True)\n",
    "plt.xlabel('Платформа')\n",
    "plt.ylabel('Общие продажи игр в мире, млн копий')\n",
    "plt.title(\"Общие продажи игр в мире в зависимости от платформы\")\n",
    "plt.show()"
   ]
  },
  {
   "cell_type": "code",
   "execution_count": 26,
   "metadata": {},
   "outputs": [
    {
     "data": {
      "text/html": [
       "<div>\n",
       "<style scoped>\n",
       "    .dataframe tbody tr th:only-of-type {\n",
       "        vertical-align: middle;\n",
       "    }\n",
       "\n",
       "    .dataframe tbody tr th {\n",
       "        vertical-align: top;\n",
       "    }\n",
       "\n",
       "    .dataframe thead th {\n",
       "        text-align: right;\n",
       "    }\n",
       "</style>\n",
       "<table border=\"1\" class=\"dataframe\">\n",
       "  <thead>\n",
       "    <tr style=\"text-align: right;\">\n",
       "      <th></th>\n",
       "      <th>sum</th>\n",
       "    </tr>\n",
       "    <tr>\n",
       "      <th>platform</th>\n",
       "      <th></th>\n",
       "    </tr>\n",
       "  </thead>\n",
       "  <tbody>\n",
       "    <tr>\n",
       "      <th>ps2</th>\n",
       "      <td>1233.56</td>\n",
       "    </tr>\n",
       "    <tr>\n",
       "      <th>x360</th>\n",
       "      <td>961.24</td>\n",
       "    </tr>\n",
       "    <tr>\n",
       "      <th>ps3</th>\n",
       "      <td>931.33</td>\n",
       "    </tr>\n",
       "    <tr>\n",
       "      <th>wii</th>\n",
       "      <td>891.18</td>\n",
       "    </tr>\n",
       "    <tr>\n",
       "      <th>ds</th>\n",
       "      <td>802.78</td>\n",
       "    </tr>\n",
       "    <tr>\n",
       "      <th>ps</th>\n",
       "      <td>727.58</td>\n",
       "    </tr>\n",
       "  </tbody>\n",
       "</table>\n",
       "</div>"
      ],
      "text/plain": [
       "              sum\n",
       "platform         \n",
       "ps2       1233.56\n",
       "x360       961.24\n",
       "ps3        931.33\n",
       "wii        891.18\n",
       "ds         802.78\n",
       "ps         727.58"
      ]
     },
     "execution_count": 26,
     "metadata": {},
     "output_type": "execute_result"
    }
   ],
   "source": [
    "data_platform = data.groupby('platform').agg({'total_sales': ['sum']})['total_sales'] \\\n",
    ".sort_values(by='sum', ascending=False).query('sum > 700')\n",
    "data_platform"
   ]
  },
  {
   "cell_type": "markdown",
   "metadata": {},
   "source": [
    "**Явно выделяется топ-6 платформ: 'PS2', 'X360', 'PS3', 'Wii', 'DS' и 'PS', у которых сумарные продажи изменяются, от 728 до 1234 млн. копий игр.**"
   ]
  },
  {
   "cell_type": "code",
   "execution_count": 28,
   "metadata": {},
   "outputs": [
    {
     "data": {
      "image/png": "[encoded data removed]",
      "text/plain": [
       "<Figure size 1800x1080 with 6 Axes>"
      ]
     },
     "metadata": {
      "needs_background": "light"
     },
     "output_type": "display_data"
    }
   ],
   "source": [
    "position = 0\n",
    "platform_name = data_platform.reset_index()['platform'].unique()\n",
    "plt.figure(figsize=[25, 15])\n",
    "plt.subplots_adjust(hspace=0.5)\n",
    "plt.suptitle('Продажи игр по платформам в зависимости от года релиза', fontsize=15)\n",
    "for name in platform_name:\n",
    "    position += 1\n",
    "    grouped = data.query('platform == @name').groupby('year_of_release').agg({'total_sales': ['sum']})\n",
    "    plt.subplot(3, 3, position)\n",
    "    plt.title(name.upper(), fontsize=20)\n",
    "    plt.plot(grouped, 'o-', label='Общее количество игр', alpha=1)\n",
    "    plt.ylabel('Общее количество игр, млн. копий')\n",
    "    plt.xlabel('Год')\n",
    "    plt.grid(True)\n",
    "    plt.legend()\n",
    "plt.show();"
   ]
  },
  {
   "cell_type": "markdown",
   "metadata": {},
   "source": [
    "**Можно сказать, что характерный срок \"жизни\" платформы составляет в среднем 10 лет.**"
   ]
  },
  {
   "cell_type": "markdown",
   "metadata": {},
   "source": [
    "**3.3. Возьмите данные за соответствующий актуальный период. Актуальный период определите самостоятельно в результате исследования предыдущих вопросов. Основной фактор — эти данные помогут построить прогноз на 2017 год.**"
   ]
  },
  {
   "cell_type": "markdown",
   "metadata": {},
   "source": [
    "**3.4. Актуальным периодом будем считать 4 года с 2013 по 2016 гг. Данные за предыдущие года учитывать не будем.**"
   ]
  },
  {
   "cell_type": "code",
   "execution_count": 29,
   "metadata": {},
   "outputs": [
    {
     "name": "stdout",
     "output_type": "stream",
     "text": [
      "<class 'pandas.core.frame.DataFrame'>\n",
      "Int64Index: 2233 entries, 16 to 16442\n",
      "Data columns (total 12 columns):\n",
      " #   Column           Non-Null Count  Dtype  \n",
      "---  ------           --------------  -----  \n",
      " 0   name             2233 non-null   object \n",
      " 1   platform         2233 non-null   object \n",
      " 2   year_of_release  2233 non-null   int64  \n",
      " 3   genre            2233 non-null   object \n",
      " 4   na_sales         2233 non-null   float64\n",
      " 5   eu_sales         2233 non-null   float64\n",
      " 6   jp_sales         2233 non-null   float64\n",
      " 7   other_sales      2233 non-null   float64\n",
      " 8   critic_score     991 non-null    float64\n",
      " 9   user_score       1192 non-null   float64\n",
      " 10  rating           2233 non-null   object \n",
      " 11  total_sales      2233 non-null   float64\n",
      "dtypes: float64(7), int64(1), object(4)\n",
      "memory usage: 226.8+ KB\n"
     ]
    }
   ],
   "source": [
    "actual_data = data.query('year_of_release > 2012')\n",
    "actual_data.info()"
   ]
  },
  {
   "cell_type": "markdown",
   "metadata": {},
   "source": [
    "**3.5. Какие платформы лидируют по продажам, растут или падают? Выберите несколько потенциально прибыльных платформ.**"
   ]
  },
  {
   "cell_type": "code",
   "execution_count": 30,
   "metadata": {},
   "outputs": [
    {
     "data": {
      "image/png": "[encoded data removed]",
      "text/plain": [
       "<Figure size 720x360 with 1 Axes>"
      ]
     },
     "metadata": {
      "needs_background": "light"
     },
     "output_type": "display_data"
    }
   ],
   "source": [
    "actual_data.groupby('platform').agg({'total_sales': ['sum']})['total_sales'] \\\n",
    ".sort_values(by='sum', ascending=False).plot(y='sum', kind='bar', figsize=(10, 5), grid=True)\n",
    "plt.xlabel('Платформа')\n",
    "plt.ylabel('Общие продажи игр в мире, млн копий')\n",
    "plt.title(\"Общие продажи игр в мире в зависимости от платформы за 2013-2016 гг.\")\n",
    "plt.show()"
   ]
  },
  {
   "cell_type": "code",
   "execution_count": 31,
   "metadata": {},
   "outputs": [
    {
     "data": {
      "image/png": "[encoded data removed]",
      "text/plain": [
       "<Figure size 576x432 with 1 Axes>"
      ]
     },
     "metadata": {
      "needs_background": "light"
     },
     "output_type": "display_data"
    },
    {
     "data": {
      "text/html": [
       "<div>\n",
       "<style scoped>\n",
       "    .dataframe tbody tr th:only-of-type {\n",
       "        vertical-align: middle;\n",
       "    }\n",
       "\n",
       "    .dataframe tbody tr th {\n",
       "        vertical-align: top;\n",
       "    }\n",
       "\n",
       "    .dataframe thead th {\n",
       "        text-align: right;\n",
       "    }\n",
       "</style>\n",
       "<table border=\"1\" class=\"dataframe\">\n",
       "  <thead>\n",
       "    <tr style=\"text-align: right;\">\n",
       "      <th>platform</th>\n",
       "      <th>3ds</th>\n",
       "      <th>ds</th>\n",
       "      <th>pc</th>\n",
       "      <th>ps3</th>\n",
       "      <th>ps4</th>\n",
       "      <th>psp</th>\n",
       "      <th>psv</th>\n",
       "      <th>wii</th>\n",
       "      <th>wiiu</th>\n",
       "      <th>x360</th>\n",
       "      <th>xone</th>\n",
       "    </tr>\n",
       "    <tr>\n",
       "      <th>year_of_release</th>\n",
       "      <th></th>\n",
       "      <th></th>\n",
       "      <th></th>\n",
       "      <th></th>\n",
       "      <th></th>\n",
       "      <th></th>\n",
       "      <th></th>\n",
       "      <th></th>\n",
       "      <th></th>\n",
       "      <th></th>\n",
       "      <th></th>\n",
       "    </tr>\n",
       "  </thead>\n",
       "  <tbody>\n",
       "    <tr>\n",
       "      <th>2013</th>\n",
       "      <td>56.57</td>\n",
       "      <td>1.54</td>\n",
       "      <td>12.38</td>\n",
       "      <td>113.25</td>\n",
       "      <td>25.99</td>\n",
       "      <td>3.14</td>\n",
       "      <td>10.59</td>\n",
       "      <td>8.59</td>\n",
       "      <td>21.65</td>\n",
       "      <td>88.58</td>\n",
       "      <td>18.96</td>\n",
       "    </tr>\n",
       "    <tr>\n",
       "      <th>2014</th>\n",
       "      <td>43.76</td>\n",
       "      <td>NaN</td>\n",
       "      <td>13.28</td>\n",
       "      <td>47.76</td>\n",
       "      <td>100.00</td>\n",
       "      <td>0.24</td>\n",
       "      <td>11.90</td>\n",
       "      <td>3.75</td>\n",
       "      <td>22.03</td>\n",
       "      <td>34.74</td>\n",
       "      <td>54.07</td>\n",
       "    </tr>\n",
       "    <tr>\n",
       "      <th>2015</th>\n",
       "      <td>27.78</td>\n",
       "      <td>NaN</td>\n",
       "      <td>8.52</td>\n",
       "      <td>16.82</td>\n",
       "      <td>118.90</td>\n",
       "      <td>0.12</td>\n",
       "      <td>6.25</td>\n",
       "      <td>1.14</td>\n",
       "      <td>16.35</td>\n",
       "      <td>11.96</td>\n",
       "      <td>60.14</td>\n",
       "    </tr>\n",
       "    <tr>\n",
       "      <th>2016</th>\n",
       "      <td>15.14</td>\n",
       "      <td>NaN</td>\n",
       "      <td>5.25</td>\n",
       "      <td>3.60</td>\n",
       "      <td>69.25</td>\n",
       "      <td>NaN</td>\n",
       "      <td>4.25</td>\n",
       "      <td>0.18</td>\n",
       "      <td>4.60</td>\n",
       "      <td>1.52</td>\n",
       "      <td>26.15</td>\n",
       "    </tr>\n",
       "  </tbody>\n",
       "</table>\n",
       "</div>"
      ],
      "text/plain": [
       "platform           3ds    ds     pc     ps3     ps4   psp    psv   wii   wiiu  \\\n",
       "year_of_release                                                                 \n",
       "2013             56.57  1.54  12.38  113.25   25.99  3.14  10.59  8.59  21.65   \n",
       "2014             43.76   NaN  13.28   47.76  100.00  0.24  11.90  3.75  22.03   \n",
       "2015             27.78   NaN   8.52   16.82  118.90  0.12   6.25  1.14  16.35   \n",
       "2016             15.14   NaN   5.25    3.60   69.25   NaN   4.25  0.18   4.60   \n",
       "\n",
       "platform          x360   xone  \n",
       "year_of_release                \n",
       "2013             88.58  18.96  \n",
       "2014             34.74  54.07  \n",
       "2015             11.96  60.14  \n",
       "2016              1.52  26.15  "
      ]
     },
     "execution_count": 31,
     "metadata": {},
     "output_type": "execute_result"
    }
   ],
   "source": [
    "actual_data.pivot_table(index='year_of_release', columns='platform', values='total_sales', aggfunc='sum') \\\n",
    ".plot(grid=False, style='o-', figsize=(8, 6))\n",
    "\n",
    "plt.xticks(actual_data['year_of_release'])\n",
    "\n",
    "plt.xlabel('Год релиза')\n",
    "plt.ylabel('Общие продажи игр в мире, млн копий')\n",
    "plt.title(\"Общие продажи игр в мире в зависимости от платформы за 2013-2016 гг.\")\n",
    "plt.show()\n",
    "actual_data.pivot_table(index='year_of_release', columns='platform', values='total_sales', aggfunc='sum')"
   ]
  },
  {
   "cell_type": "markdown",
   "metadata": {},
   "source": [
    "**Лидирующие платформы по общим продажам следующие: 'PS4', 'PS3', 'X360', 'XOne', '3DS'. С 2013 по 2016 гг. продажи игр для платформ 'PS4' и 'XOne' в среднем растут (за 2016 год данные не полные), для платформ 'PS3', 'X360' и '3DS' - падают. Наиболее потенциально прибыльными являются 'PS4' и 'XOne'.**"
   ]
  },
  {
   "cell_type": "markdown",
   "metadata": {},
   "source": [
    "**3.6. Постройте график «ящик с усами» по глобальным продажам игр в разбивке по платформам. Опишите результат.**"
   ]
  },
  {
   "cell_type": "code",
   "execution_count": 32,
   "metadata": {},
   "outputs": [
    {
     "data": {
      "image/png": "[encoded data removed]",
      "text/plain": [
       "<Figure size 1080x720 with 1 Axes>"
      ]
     },
     "metadata": {
      "needs_background": "light"
     },
     "output_type": "display_data"
    }
   ],
   "source": [
    "actual_data.boxplot(column=['total_sales'], by='platform', figsize=(15, 10)) \n",
    "\n",
    "# plt.ylim(0, 1)\n",
    "plt.xlabel('Платформа')\n",
    "plt.ylabel('Продажи игр в мире, млн копий')\n",
    "plt.title(\"Диаграмма размаха продаж игр в мире в зависимсоти от платформы\")\n",
    "plt.suptitle('')\n",
    "\n",
    "plt.show()"
   ]
  },
  {
   "cell_type": "code",
   "execution_count": 33,
   "metadata": {},
   "outputs": [
    {
     "data": {
      "image/png": "[encoded data removed]",
      "text/plain": [
       "<Figure size 1080x720 with 1 Axes>"
      ]
     },
     "metadata": {
      "needs_background": "light"
     },
     "output_type": "display_data"
    }
   ],
   "source": [
    "actual_data.boxplot(column=['total_sales'], by='platform', figsize=(15, 10)) \n",
    "\n",
    "plt.ylim(0, 2)\n",
    "plt.xlabel('Платформа')\n",
    "plt.ylabel('Продажи игр в мире, млн копий')\n",
    "plt.title(\"Диаграмма размаха продаж игр в мире в зависимсоти от платформы\")\n",
    "plt.suptitle('')\n",
    "\n",
    "plt.show()"
   ]
  },
  {
   "cell_type": "markdown",
   "metadata": {},
   "source": [
    "**Достаточно много выбросов в продажах игр почти для каждой платформы. Расперделения значений похоже на распределение Пуассона. Медианы количества продаж игр по платформам варьируются примерно от 0,01 до 0,25 млн. копий.**"
   ]
  },
  {
   "cell_type": "markdown",
   "metadata": {},
   "source": [
    "**3.7. Посмотрим, как влияют на продажи внутри одной популярной платформы (возьмем 'PS4') отзывы пользователей и критиков. Построем диаграмму рассеяния и посчитаем корреляцию между отзывами и продажами.**"
   ]
  },
  {
   "cell_type": "code",
   "execution_count": 34,
   "metadata": {},
   "outputs": [
    {
     "data": {
      "image/png": "[encoded data removed]",
      "text/plain": [
       "<Figure size 1152x360 with 2 Axes>"
      ]
     },
     "metadata": {
      "needs_background": "light"
     },
     "output_type": "display_data"
    }
   ],
   "source": [
    "actual_data_ps4 = actual_data.query('platform == \"ps4\"')\n",
    "\n",
    "plt.figure(figsize=(16, 5))\n",
    "plt.subplot(1, 2, 1)\n",
    "sns.scatterplot(x='critic_score', y='total_sales', data=actual_data_ps4, alpha=0.5)\n",
    "plt.ylabel('Общие продажи игр, млн. копий')\n",
    "plt.xlabel('Оценка критика')\n",
    "plt.grid(True)\n",
    "\n",
    "plt.subplot(1, 2, 2)\n",
    "sns.scatterplot(x='user_score', y='total_sales', data=actual_data_ps4, alpha=0.5)\n",
    "plt.ylabel('Общие продажи игр, млн. копий')\n",
    "plt.xlabel('Оценка пользователя')\n",
    "plt.grid(True)"
   ]
  },
  {
   "cell_type": "code",
   "execution_count": 35,
   "metadata": {},
   "outputs": [
    {
     "name": "stdout",
     "output_type": "stream",
     "text": [
      "Коэффициент корреляции зависимости общих продаж игр и оценки критиков -  0.41\n",
      "Коэффициент корреляции зависимости общих продаж игр и оценки пользователей -  -0.03\n"
     ]
    }
   ],
   "source": [
    "print('Коэффициент корреляции зависимости общих продаж игр и оценки критиков - ', actual_data_ps4['critic_score'].corr(actual_data_ps4['total_sales']).round(2))\n",
    "print('Коэффициент корреляции зависимости общих продаж игр и оценки пользователей - ', actual_data_ps4['user_score'].corr(actual_data_ps4['total_sales']).round(2))"
   ]
  },
  {
   "cell_type": "markdown",
   "metadata": {},
   "source": [
    "**В результате построения диаграмм рассеяния корреляции между количеством проданных копий игр и оценками критиков и пользователей являются слабыми для платформы 'PS4', однако оценка критиков оказывает большее влияние на продажи игр, когда оценка пользователей практически не влияет на них.**"
   ]
  },
  {
   "cell_type": "markdown",
   "metadata": {},
   "source": [
    "**3.8. Соотнесем данный вывод с продажами игр на других платформах.**"
   ]
  },
  {
   "cell_type": "code",
   "execution_count": 36,
   "metadata": {
    "scrolled": false
   },
   "outputs": [
    {
     "data": {
      "image/png": "[encoded data removed]",
      "text/plain": [
       "<Figure size 1440x1440 with 10 Axes>"
      ]
     },
     "metadata": {
      "needs_background": "light"
     },
     "output_type": "display_data"
    }
   ],
   "source": [
    "platform_name_2013_2016 = actual_data.groupby('platform').agg({'total_sales': ['sum']})['total_sales'] \\\n",
    ".sort_values(by='sum', ascending=False).head(5).reset_index()['platform'].unique()\n",
    "\n",
    "position = 0\n",
    "plt.figure(figsize=[20, 20])\n",
    "plt.subplots_adjust(wspace=0.4, hspace=0.9)\n",
    "plt.suptitle('Диаграммы рассеяния', fontsize=20)\n",
    "for name in platform_name_2013_2016:\n",
    "    position += 1\n",
    "    platform_data_2013_2016 = actual_data[actual_data['platform'] == name]\n",
    "    \n",
    "    plt.subplot(5, 2, position)\n",
    "    critic_corr = platform_data_2013_2016['critic_score'].corr(platform_data_2013_2016['total_sales'])\n",
    "    plt.title(f'Продажи в зависимости от отзывов критиков на {name.upper()} \\\n",
    "    \\n Коэффициент корреляции - {critic_corr.round(2)}', fontsize=13)\n",
    "    sns.scatterplot(x='critic_score', y='total_sales', data=platform_data_2013_2016, alpha=0.5)\n",
    "    plt.ylabel('Общие продажи игр, млн. копий')\n",
    "    plt.xlabel('Оценка критика')\n",
    "    plt.grid(True)\n",
    "\n",
    "    position += 1\n",
    "    plt.subplot(5, 2, position)\n",
    "    user_corr = platform_data_2013_2016['user_score'].corr(platform_data_2013_2016['total_sales'])\n",
    "    plt.title(f'Продажи в зависимости от отзывов пользователей на {name.upper()} \\\n",
    "    \\n Коэффициент корреляции - {user_corr.round(2)}', fontsize=13)\n",
    "    sns.scatterplot(x='user_score', y='total_sales', data=platform_data_2013_2016, alpha=0.5)\n",
    "    plt.ylabel('Общие продажи игр, млн. копий')\n",
    "    plt.xlabel('Оценка пользователя')\n",
    "    plt.grid(True)"
   ]
  },
  {
   "cell_type": "markdown",
   "metadata": {},
   "source": [
    "**Коэффициенты корреляции зависимостей продаж игр от отзывов критиков для платформ 'PS4' и 'XONE' одинаковы, у остальных платформ коэффициенты корреляции меньше. Коэффициенты корреляции зависимостей продаж игр от пользователей для платформ 'PS4' и остальных незначительные, кроме коэффициента корреляции для платформы '3DS', который равен 0.24. В целом для прогнозирования продаж игр популярных платформ можно учитывать влияние оценки критиков на продажи, а оценки пользователей можно не брать во внимание.**"
   ]
  },
  {
   "cell_type": "markdown",
   "metadata": {},
   "source": [
    "**3.9. Посмотрим на общее распределение игр по жанрам.**"
   ]
  },
  {
   "cell_type": "code",
   "execution_count": 37,
   "metadata": {},
   "outputs": [
    {
     "data": {
      "text/html": [
       "<div>\n",
       "<style scoped>\n",
       "    .dataframe tbody tr th:only-of-type {\n",
       "        vertical-align: middle;\n",
       "    }\n",
       "\n",
       "    .dataframe tbody tr th {\n",
       "        vertical-align: top;\n",
       "    }\n",
       "\n",
       "    .dataframe thead tr th {\n",
       "        text-align: left;\n",
       "    }\n",
       "\n",
       "    .dataframe thead tr:last-of-type th {\n",
       "        text-align: right;\n",
       "    }\n",
       "</style>\n",
       "<table border=\"1\" class=\"dataframe\">\n",
       "  <thead>\n",
       "    <tr>\n",
       "      <th></th>\n",
       "      <th>name</th>\n",
       "      <th colspan=\"3\" halign=\"left\">total_sales</th>\n",
       "    </tr>\n",
       "    <tr>\n",
       "      <th></th>\n",
       "      <th>count</th>\n",
       "      <th>sum</th>\n",
       "      <th>mean</th>\n",
       "      <th>median</th>\n",
       "    </tr>\n",
       "    <tr>\n",
       "      <th>genre</th>\n",
       "      <th></th>\n",
       "      <th></th>\n",
       "      <th></th>\n",
       "      <th></th>\n",
       "    </tr>\n",
       "  </thead>\n",
       "  <tbody>\n",
       "    <tr>\n",
       "      <th>action</th>\n",
       "      <td>766</td>\n",
       "      <td>321.87</td>\n",
       "      <td>0.420196</td>\n",
       "      <td>0.110</td>\n",
       "    </tr>\n",
       "    <tr>\n",
       "      <th>adventure</th>\n",
       "      <td>245</td>\n",
       "      <td>23.64</td>\n",
       "      <td>0.096490</td>\n",
       "      <td>0.030</td>\n",
       "    </tr>\n",
       "    <tr>\n",
       "      <th>fighting</th>\n",
       "      <td>80</td>\n",
       "      <td>35.31</td>\n",
       "      <td>0.441375</td>\n",
       "      <td>0.125</td>\n",
       "    </tr>\n",
       "    <tr>\n",
       "      <th>misc</th>\n",
       "      <td>155</td>\n",
       "      <td>62.82</td>\n",
       "      <td>0.405290</td>\n",
       "      <td>0.100</td>\n",
       "    </tr>\n",
       "    <tr>\n",
       "      <th>platform</th>\n",
       "      <td>74</td>\n",
       "      <td>42.63</td>\n",
       "      <td>0.576081</td>\n",
       "      <td>0.225</td>\n",
       "    </tr>\n",
       "    <tr>\n",
       "      <th>puzzle</th>\n",
       "      <td>17</td>\n",
       "      <td>3.17</td>\n",
       "      <td>0.186471</td>\n",
       "      <td>0.060</td>\n",
       "    </tr>\n",
       "    <tr>\n",
       "      <th>racing</th>\n",
       "      <td>85</td>\n",
       "      <td>39.89</td>\n",
       "      <td>0.469294</td>\n",
       "      <td>0.120</td>\n",
       "    </tr>\n",
       "    <tr>\n",
       "      <th>role-playing</th>\n",
       "      <td>292</td>\n",
       "      <td>145.89</td>\n",
       "      <td>0.499623</td>\n",
       "      <td>0.125</td>\n",
       "    </tr>\n",
       "    <tr>\n",
       "      <th>shooter</th>\n",
       "      <td>187</td>\n",
       "      <td>232.98</td>\n",
       "      <td>1.245882</td>\n",
       "      <td>0.450</td>\n",
       "    </tr>\n",
       "    <tr>\n",
       "      <th>simulation</th>\n",
       "      <td>62</td>\n",
       "      <td>21.76</td>\n",
       "      <td>0.350968</td>\n",
       "      <td>0.100</td>\n",
       "    </tr>\n",
       "    <tr>\n",
       "      <th>sports</th>\n",
       "      <td>214</td>\n",
       "      <td>150.65</td>\n",
       "      <td>0.703972</td>\n",
       "      <td>0.240</td>\n",
       "    </tr>\n",
       "    <tr>\n",
       "      <th>strategy</th>\n",
       "      <td>56</td>\n",
       "      <td>10.08</td>\n",
       "      <td>0.180000</td>\n",
       "      <td>0.080</td>\n",
       "    </tr>\n",
       "  </tbody>\n",
       "</table>\n",
       "</div>"
      ],
      "text/plain": [
       "              name total_sales                 \n",
       "             count         sum      mean median\n",
       "genre                                          \n",
       "action         766      321.87  0.420196  0.110\n",
       "adventure      245       23.64  0.096490  0.030\n",
       "fighting        80       35.31  0.441375  0.125\n",
       "misc           155       62.82  0.405290  0.100\n",
       "platform        74       42.63  0.576081  0.225\n",
       "puzzle          17        3.17  0.186471  0.060\n",
       "racing          85       39.89  0.469294  0.120\n",
       "role-playing   292      145.89  0.499623  0.125\n",
       "shooter        187      232.98  1.245882  0.450\n",
       "simulation      62       21.76  0.350968  0.100\n",
       "sports         214      150.65  0.703972  0.240\n",
       "strategy        56       10.08  0.180000  0.080"
      ]
     },
     "metadata": {},
     "output_type": "display_data"
    },
    {
     "data": {
      "image/png": "[encoded data removed]",
      "text/plain": [
       "<Figure size 720x360 with 1 Axes>"
      ]
     },
     "metadata": {
      "needs_background": "light"
     },
     "output_type": "display_data"
    }
   ],
   "source": [
    "display(actual_data.groupby('genre').agg({'name': ['count'],'total_sales': ['sum', 'mean', 'median']}))\n",
    "\n",
    "actual_data.groupby('genre').agg({'total_sales': ['mean']})['total_sales'] \\\n",
    ".sort_values(by='mean', ascending=False).plot(y='mean', kind='bar', figsize=(10, 5), grid=True)\n",
    "plt.title(\"Средние продажи игр в зависимости от жанра\")\n",
    "plt.ylabel('Средние продажи игр, млн. копий')\n",
    "plt.xlabel('Жанр');"
   ]
  },
  {
   "cell_type": "markdown",
   "metadata": {},
   "source": [
    "**Наибольшее количество игр и суммарное количество продаж в жанре Action. Наименьшее количество игр и суммарное количество продаж в жанре Puzzle. Наибольшее среднее и медианное количество продаж игр жанра Shooter. Наименьшее среднее и медианное количество продаж игр жанра Adventure. В результате, наиболее прибыльным жанром является 'Shooter', наи менее прибыльным - Adventure.**"
   ]
  },
  {
   "cell_type": "markdown",
   "metadata": {},
   "source": [
    "**Проведен исследовательский анализ данных:**\n",
    "\n",
    "- До 2008-2009 гг. количество выпущенных новых игр росло, далее произошло значительное падение до 2013 года и дальше выпуск игр стабилизировался. Вероятно данные до стабилизации (до 2013 года) будут не актуальны для анализа.\n",
    "- Явно выделяется топ-6 платформ по количеству продаж: 'PS2', 'X360', 'PS3', 'Wii', 'DS' и 'PS', у которых сумарные продажи изменяются, от 728 до 1234 млн. копий игр. Можно сказать, что характерный срок \"жизни\" платформы составляет в среднем 10 лет.\n",
    "- Актуальным периодом будем считать 4 года с 2013 по 2016 гг. Данные за предыдущие года учитывать не будем.\n",
    "- Лидирующие платформы по общим продажам следующие: 'PS4', 'PS3', 'X360', 'XOne', '3DS'. С 2013 по 2016 гг. продажи игр для платформ 'PS4' и 'XOne' в среднем растут (за 2016 год данные не полные), для платформ 'PS3', 'X360' и '3DS' - падают. Наиболее потенциально прибыльными являются 'PS4' и 'XOne'.\n",
    "- При рассмотрении диаграмм размаха выявлено достаточно много выбросов в продажах игр почти для каждой платформы. Расперделения значений похоже на распределение Пуассона. Медианы количества продаж игр по платформам варьируются примерно от 0,01 до 0,25 млн. копий.\n",
    "- В результате построения диаграмм рассеяния корреляции между количеством проданных копий игр и оценками критиков и пользователей являются слабыми для платформы 'PS4', однако оценка критиков оказывает большее влияние на продажи игр, когда оценка пользователей практически не влияет на них.\n",
    "- Коэффициенты корреляции зависимостей продаж игр от отзывов критиков для платформ 'PS4' и 'XONE' одинаковы, у остальных платформ коэффициенты корреляции меньше. Коэффициенты корреляции зависимостей продаж игр от пользователей для платформ 'PS4' и остальных незначительные, кроме коэффициента корреляции для платформы '3DS', который равен 0.24. В целом для прогнозирования продаж игр популярных платформ можно учитывать влияние оценки критиков на продажи, а оценки пользователей можно не брать во внимание.\n",
    "- Наибольшее количество игр и суммарное количество продаж в жанре Action. Наименьшее количество игр и суммарное количество продаж в жанре Puzzle. Наибольшее среднее и медианное количество продаж игр жанра Shooter. Наименьшее среднее и медианное количество продаж игр жанра Adventure. В результате, наиболее прибыльным жанром является 'Shooter', наи менее прибыльным - Adventure."
   ]
  },
  {
   "cell_type": "markdown",
   "metadata": {},
   "source": [
    "#### Шаг 4. Составление портрета пользователя каждого региона"
   ]
  },
  {
   "cell_type": "markdown",
   "metadata": {},
   "source": [
    "**4.1. Определим самые популярные платформы (топ-5) для каждого региона**"
   ]
  },
  {
   "cell_type": "code",
   "execution_count": 38,
   "metadata": {},
   "outputs": [
    {
     "data": {
      "text/html": [
       "<div>\n",
       "<style scoped>\n",
       "    .dataframe tbody tr th:only-of-type {\n",
       "        vertical-align: middle;\n",
       "    }\n",
       "\n",
       "    .dataframe tbody tr th {\n",
       "        vertical-align: top;\n",
       "    }\n",
       "\n",
       "    .dataframe thead th {\n",
       "        text-align: right;\n",
       "    }\n",
       "</style>\n",
       "<table border=\"1\" class=\"dataframe\">\n",
       "  <thead>\n",
       "    <tr style=\"text-align: right;\">\n",
       "      <th></th>\n",
       "      <th>eu_sales</th>\n",
       "      <th>jp_sales</th>\n",
       "      <th>na_sales</th>\n",
       "      <th>other_sales</th>\n",
       "      <th>%_eu_sales</th>\n",
       "      <th>%_jp_sales</th>\n",
       "      <th>%_na_sales</th>\n",
       "      <th>%_other_sales</th>\n",
       "    </tr>\n",
       "    <tr>\n",
       "      <th>platform</th>\n",
       "      <th></th>\n",
       "      <th></th>\n",
       "      <th></th>\n",
       "      <th></th>\n",
       "      <th></th>\n",
       "      <th></th>\n",
       "      <th></th>\n",
       "      <th></th>\n",
       "    </tr>\n",
       "  </thead>\n",
       "  <tbody>\n",
       "    <tr>\n",
       "      <th>3ds</th>\n",
       "      <td>30.96</td>\n",
       "      <td>67.81</td>\n",
       "      <td>38.20</td>\n",
       "      <td>6.28</td>\n",
       "      <td>0.078933</td>\n",
       "      <td>0.481674</td>\n",
       "      <td>0.087272</td>\n",
       "      <td>0.052346</td>\n",
       "    </tr>\n",
       "    <tr>\n",
       "      <th>ds</th>\n",
       "      <td>0.85</td>\n",
       "      <td>0.00</td>\n",
       "      <td>0.57</td>\n",
       "      <td>0.12</td>\n",
       "      <td>0.002167</td>\n",
       "      <td>0.000000</td>\n",
       "      <td>0.001302</td>\n",
       "      <td>0.001000</td>\n",
       "    </tr>\n",
       "    <tr>\n",
       "      <th>pc</th>\n",
       "      <td>25.36</td>\n",
       "      <td>0.00</td>\n",
       "      <td>11.11</td>\n",
       "      <td>2.96</td>\n",
       "      <td>0.064656</td>\n",
       "      <td>0.000000</td>\n",
       "      <td>0.025382</td>\n",
       "      <td>0.024673</td>\n",
       "    </tr>\n",
       "    <tr>\n",
       "      <th>ps3</th>\n",
       "      <td>67.81</td>\n",
       "      <td>23.35</td>\n",
       "      <td>63.50</td>\n",
       "      <td>26.77</td>\n",
       "      <td>0.172883</td>\n",
       "      <td>0.165862</td>\n",
       "      <td>0.145073</td>\n",
       "      <td>0.223139</td>\n",
       "    </tr>\n",
       "    <tr>\n",
       "      <th>ps4</th>\n",
       "      <td>141.09</td>\n",
       "      <td>15.96</td>\n",
       "      <td>108.74</td>\n",
       "      <td>48.35</td>\n",
       "      <td>0.359712</td>\n",
       "      <td>0.113368</td>\n",
       "      <td>0.248429</td>\n",
       "      <td>0.403017</td>\n",
       "    </tr>\n",
       "    <tr>\n",
       "      <th>psp</th>\n",
       "      <td>0.17</td>\n",
       "      <td>3.29</td>\n",
       "      <td>0.00</td>\n",
       "      <td>0.04</td>\n",
       "      <td>0.000433</td>\n",
       "      <td>0.023370</td>\n",
       "      <td>0.000000</td>\n",
       "      <td>0.000333</td>\n",
       "    </tr>\n",
       "    <tr>\n",
       "      <th>psv</th>\n",
       "      <td>6.10</td>\n",
       "      <td>18.59</td>\n",
       "      <td>5.04</td>\n",
       "      <td>3.26</td>\n",
       "      <td>0.015552</td>\n",
       "      <td>0.132050</td>\n",
       "      <td>0.011514</td>\n",
       "      <td>0.027173</td>\n",
       "    </tr>\n",
       "    <tr>\n",
       "      <th>wii</th>\n",
       "      <td>5.93</td>\n",
       "      <td>0.05</td>\n",
       "      <td>6.56</td>\n",
       "      <td>1.12</td>\n",
       "      <td>0.015119</td>\n",
       "      <td>0.000355</td>\n",
       "      <td>0.014987</td>\n",
       "      <td>0.009336</td>\n",
       "    </tr>\n",
       "    <tr>\n",
       "      <th>wiiu</th>\n",
       "      <td>19.85</td>\n",
       "      <td>10.88</td>\n",
       "      <td>29.21</td>\n",
       "      <td>4.69</td>\n",
       "      <td>0.050608</td>\n",
       "      <td>0.077284</td>\n",
       "      <td>0.066734</td>\n",
       "      <td>0.039093</td>\n",
       "    </tr>\n",
       "    <tr>\n",
       "      <th>x360</th>\n",
       "      <td>42.52</td>\n",
       "      <td>0.51</td>\n",
       "      <td>81.66</td>\n",
       "      <td>12.11</td>\n",
       "      <td>0.108406</td>\n",
       "      <td>0.003623</td>\n",
       "      <td>0.186562</td>\n",
       "      <td>0.100942</td>\n",
       "    </tr>\n",
       "    <tr>\n",
       "      <th>xone</th>\n",
       "      <td>51.59</td>\n",
       "      <td>0.34</td>\n",
       "      <td>93.12</td>\n",
       "      <td>14.27</td>\n",
       "      <td>0.131530</td>\n",
       "      <td>0.002415</td>\n",
       "      <td>0.212744</td>\n",
       "      <td>0.118946</td>\n",
       "    </tr>\n",
       "  </tbody>\n",
       "</table>\n",
       "</div>"
      ],
      "text/plain": [
       "          eu_sales  jp_sales  na_sales  other_sales  %_eu_sales  %_jp_sales  \\\n",
       "platform                                                                      \n",
       "3ds          30.96     67.81     38.20         6.28    0.078933    0.481674   \n",
       "ds            0.85      0.00      0.57         0.12    0.002167    0.000000   \n",
       "pc           25.36      0.00     11.11         2.96    0.064656    0.000000   \n",
       "ps3          67.81     23.35     63.50        26.77    0.172883    0.165862   \n",
       "ps4         141.09     15.96    108.74        48.35    0.359712    0.113368   \n",
       "psp           0.17      3.29      0.00         0.04    0.000433    0.023370   \n",
       "psv           6.10     18.59      5.04         3.26    0.015552    0.132050   \n",
       "wii           5.93      0.05      6.56         1.12    0.015119    0.000355   \n",
       "wiiu         19.85     10.88     29.21         4.69    0.050608    0.077284   \n",
       "x360         42.52      0.51     81.66        12.11    0.108406    0.003623   \n",
       "xone         51.59      0.34     93.12        14.27    0.131530    0.002415   \n",
       "\n",
       "          %_na_sales  %_other_sales  \n",
       "platform                             \n",
       "3ds         0.087272       0.052346  \n",
       "ds          0.001302       0.001000  \n",
       "pc          0.025382       0.024673  \n",
       "ps3         0.145073       0.223139  \n",
       "ps4         0.248429       0.403017  \n",
       "psp         0.000000       0.000333  \n",
       "psv         0.011514       0.027173  \n",
       "wii         0.014987       0.009336  \n",
       "wiiu        0.066734       0.039093  \n",
       "x360        0.186562       0.100942  \n",
       "xone        0.212744       0.118946  "
      ]
     },
     "metadata": {},
     "output_type": "display_data"
    }
   ],
   "source": [
    "actual_data_region = actual_data.pivot_table(index='platform', values=('na_sales', 'eu_sales', 'jp_sales', 'other_sales'), aggfunc='sum')\n",
    "actual_data_region['%_eu_sales'] = actual_data_region['eu_sales']/actual_data_region['eu_sales'].sum()\n",
    "actual_data_region['%_jp_sales'] = actual_data_region['jp_sales']/actual_data_region['jp_sales'].sum()\n",
    "actual_data_region['%_na_sales'] = actual_data_region['na_sales']/actual_data_region['na_sales'].sum()\n",
    "actual_data_region['%_other_sales'] = actual_data_region['other_sales']/actual_data_region['other_sales'].sum()\n",
    "\n",
    "display(actual_data_region)"
   ]
  },
  {
   "cell_type": "markdown",
   "metadata": {},
   "source": [
    "**В Европе наиболее популярными платформами являются 'PS4' (36,0%), 'PS3' (17,3%), 'XOne' (13,2%), 'X360' (10,8%) и '3DS' (7,9%).**"
   ]
  },
  {
   "cell_type": "code",
   "execution_count": 39,
   "metadata": {},
   "outputs": [
    {
     "data": {
      "image/png": "[encoded data removed]",
      "text/plain": [
       "<Figure size 1440x360 with 3 Axes>"
      ]
     },
     "metadata": {
      "needs_background": "light"
     },
     "output_type": "display_data"
    }
   ],
   "source": [
    "\n",
    "plt.subplots_adjust(wspace=0.3, hspace=0.3)\n",
    "\n",
    "plt.subplot(1, 3, 1)\n",
    "actual_data_region['%_eu_sales'].sort_values(ascending=False).head().plot(y='%_eu_sales', kind='bar', figsize=(20, 5), grid=True)\n",
    "plt.xlabel('Платформа')\n",
    "plt.ylabel('Доля продаж игр')\n",
    "plt.title(\"Доля продаж игр в Европе \\n в зависимости от платформы (топ-5) за 2013-2016гг\")\n",
    "\n",
    "plt.subplot(1, 3, 2)\n",
    "actual_data_region['%_jp_sales'].sort_values(ascending=False).head().plot(y='%_jp_sales', kind='bar', figsize=(20, 5), grid=True)\n",
    "plt.xlabel('Платформа')\n",
    "plt.ylabel('Доля продаж игр')\n",
    "plt.title(\"Доля продаж игр в Японии \\n в зависимости от платформы (топ-5) за 2013-2016гг\")\n",
    "\n",
    "plt.subplot(1, 3, 3)\n",
    "actual_data_region['%_na_sales'].sort_values(ascending=False).head().plot(y='%_na_sales', kind='bar', figsize=(20, 5), grid=True)\n",
    "plt.xlabel('Платформа')\n",
    "plt.ylabel('Доля продаж игр')\n",
    "plt.title(\"Доля продаж игр в Северной Америке \\n в зависимости от платформы (топ-5) за 2013-2016гг\")\n",
    "plt.show()"
   ]
  },
  {
   "cell_type": "markdown",
   "metadata": {},
   "source": [
    "**В Европе наиболее популярными платформами являются 'PS4' (36,0%), 'PS3' (17,3%), 'XOne' (13,2%), 'X360' (10,8%) и '3DS' (7,9%). В Японии наиболее популярными платформами являются '3DS' (48,2%), 'PS3' (16,6%), 'PSV' (13,2%), 'PS4' (11,3%) и 'WiiU' (7,7%). В Северной Америке наиболее популярными платформами являются 'PS4' (24,8%), 'X360' (18,7%), 'XOne' (21,3%), 'PS3' (14,5%) и '3DS' (8,7%).**"
   ]
  },
  {
   "cell_type": "markdown",
   "metadata": {},
   "source": [
    "**4.2. Определим самые популярные жанры (топ-5) для каждого региона**"
   ]
  },
  {
   "cell_type": "code",
   "execution_count": 40,
   "metadata": {},
   "outputs": [
    {
     "data": {
      "text/html": [
       "<div>\n",
       "<style scoped>\n",
       "    .dataframe tbody tr th:only-of-type {\n",
       "        vertical-align: middle;\n",
       "    }\n",
       "\n",
       "    .dataframe tbody tr th {\n",
       "        vertical-align: top;\n",
       "    }\n",
       "\n",
       "    .dataframe thead th {\n",
       "        text-align: right;\n",
       "    }\n",
       "</style>\n",
       "<table border=\"1\" class=\"dataframe\">\n",
       "  <thead>\n",
       "    <tr style=\"text-align: right;\">\n",
       "      <th></th>\n",
       "      <th>eu_sales</th>\n",
       "      <th>jp_sales</th>\n",
       "      <th>na_sales</th>\n",
       "      <th>other_sales</th>\n",
       "    </tr>\n",
       "    <tr>\n",
       "      <th>genre</th>\n",
       "      <th></th>\n",
       "      <th></th>\n",
       "      <th></th>\n",
       "      <th></th>\n",
       "    </tr>\n",
       "  </thead>\n",
       "  <tbody>\n",
       "    <tr>\n",
       "      <th>action</th>\n",
       "      <td>118.13</td>\n",
       "      <td>40.49</td>\n",
       "      <td>126.05</td>\n",
       "      <td>37.20</td>\n",
       "    </tr>\n",
       "    <tr>\n",
       "      <th>adventure</th>\n",
       "      <td>8.25</td>\n",
       "      <td>5.82</td>\n",
       "      <td>7.14</td>\n",
       "      <td>2.43</td>\n",
       "    </tr>\n",
       "    <tr>\n",
       "      <th>fighting</th>\n",
       "      <td>8.55</td>\n",
       "      <td>7.65</td>\n",
       "      <td>15.55</td>\n",
       "      <td>3.56</td>\n",
       "    </tr>\n",
       "    <tr>\n",
       "      <th>misc</th>\n",
       "      <td>20.04</td>\n",
       "      <td>9.20</td>\n",
       "      <td>27.49</td>\n",
       "      <td>6.09</td>\n",
       "    </tr>\n",
       "    <tr>\n",
       "      <th>platform</th>\n",
       "      <td>15.58</td>\n",
       "      <td>4.79</td>\n",
       "      <td>18.14</td>\n",
       "      <td>4.12</td>\n",
       "    </tr>\n",
       "    <tr>\n",
       "      <th>puzzle</th>\n",
       "      <td>1.00</td>\n",
       "      <td>1.18</td>\n",
       "      <td>0.83</td>\n",
       "      <td>0.16</td>\n",
       "    </tr>\n",
       "    <tr>\n",
       "      <th>racing</th>\n",
       "      <td>20.19</td>\n",
       "      <td>2.30</td>\n",
       "      <td>12.96</td>\n",
       "      <td>4.44</td>\n",
       "    </tr>\n",
       "    <tr>\n",
       "      <th>role-playing</th>\n",
       "      <td>36.97</td>\n",
       "      <td>51.04</td>\n",
       "      <td>46.40</td>\n",
       "      <td>11.48</td>\n",
       "    </tr>\n",
       "    <tr>\n",
       "      <th>shooter</th>\n",
       "      <td>87.86</td>\n",
       "      <td>6.61</td>\n",
       "      <td>109.74</td>\n",
       "      <td>28.77</td>\n",
       "    </tr>\n",
       "    <tr>\n",
       "      <th>simulation</th>\n",
       "      <td>10.92</td>\n",
       "      <td>4.52</td>\n",
       "      <td>4.86</td>\n",
       "      <td>1.46</td>\n",
       "    </tr>\n",
       "    <tr>\n",
       "      <th>sports</th>\n",
       "      <td>60.52</td>\n",
       "      <td>5.41</td>\n",
       "      <td>65.27</td>\n",
       "      <td>19.45</td>\n",
       "    </tr>\n",
       "    <tr>\n",
       "      <th>strategy</th>\n",
       "      <td>4.22</td>\n",
       "      <td>1.77</td>\n",
       "      <td>3.28</td>\n",
       "      <td>0.81</td>\n",
       "    </tr>\n",
       "  </tbody>\n",
       "</table>\n",
       "</div>"
      ],
      "text/plain": [
       "              eu_sales  jp_sales  na_sales  other_sales\n",
       "genre                                                  \n",
       "action          118.13     40.49    126.05        37.20\n",
       "adventure         8.25      5.82      7.14         2.43\n",
       "fighting          8.55      7.65     15.55         3.56\n",
       "misc             20.04      9.20     27.49         6.09\n",
       "platform         15.58      4.79     18.14         4.12\n",
       "puzzle            1.00      1.18      0.83         0.16\n",
       "racing           20.19      2.30     12.96         4.44\n",
       "role-playing     36.97     51.04     46.40        11.48\n",
       "shooter          87.86      6.61    109.74        28.77\n",
       "simulation       10.92      4.52      4.86         1.46\n",
       "sports           60.52      5.41     65.27        19.45\n",
       "strategy          4.22      1.77      3.28         0.81"
      ]
     },
     "metadata": {},
     "output_type": "display_data"
    },
    {
     "data": {
      "image/png": "[encoded data removed]",
      "text/plain": [
       "<Figure size 360x216 with 1 Axes>"
      ]
     },
     "metadata": {
      "needs_background": "light"
     },
     "output_type": "display_data"
    },
    {
     "data": {
      "image/png": "[encoded data removed]",
      "text/plain": [
       "<Figure size 360x216 with 1 Axes>"
      ]
     },
     "metadata": {
      "needs_background": "light"
     },
     "output_type": "display_data"
    },
    {
     "data": {
      "image/png": "[encoded data removed]",
      "text/plain": [
       "<Figure size 360x216 with 1 Axes>"
      ]
     },
     "metadata": {
      "needs_background": "light"
     },
     "output_type": "display_data"
    }
   ],
   "source": [
    "actual_data_genre = actual_data.pivot_table(index='genre', values=('na_sales', 'eu_sales', 'jp_sales', 'other_sales'), aggfunc='sum')\n",
    "display(actual_data_genre)\n",
    "actual_data_genre['eu_sales'].sort_values(ascending=False).head().plot(y='eu_sales', kind='bar', figsize=(5, 3), grid=True)\n",
    "plt.xlabel('Жанр')\n",
    "plt.ylabel('Продажи игр, млн копий')\n",
    "plt.title(\"Продажи игр в Европе в зависимости от жанра (топ-5) за 2013-2015гг.\")\n",
    "plt.show()\n",
    "\n",
    "actual_data_genre['jp_sales'].sort_values(ascending=False).head().plot(y='jp_sales', kind='bar', figsize=(5, 3), grid=True)\n",
    "plt.xlabel('Жанр')\n",
    "plt.ylabel('Продажи игр, млн копий')\n",
    "plt.title(\"Продажи игр в Японии в зависимости от жанра (топ-5) за 2013-2015гг.\")\n",
    "plt.show()\n",
    "\n",
    "actual_data_genre['na_sales'].sort_values(ascending=False).head().plot(y='na_sales', kind='bar', figsize=(5, 3), grid=True)\n",
    "plt.xlabel('Жанр')\n",
    "plt.ylabel('Продажи игр, млн копий')\n",
    "plt.title(\"Продажи игр в Северной Америке в зависимости от жанра (топ-5) за 2013-2015гг.\")\n",
    "plt.show()"
   ]
  },
  {
   "cell_type": "markdown",
   "metadata": {},
   "source": [
    "**В Европе наиболее популярными жанрами являются Action, Shooter, Sports, Role-Playing, Racing. В Японии наиболее популярными жанрами являются Role-Playing, Action, Misc, Fightning, Shooter. В Северной Америке наиболее популярными жанрами являются Action, Shooter, Sports, Role-Playing, Misc. Точно так же как и в Европе, что вероятно связано с культурными аспектами данных континентов.**"
   ]
  },
  {
   "cell_type": "markdown",
   "metadata": {},
   "source": [
    "**4.3. Определим Влияет ли рейтинг ESRB на продажи в отдельном регионе?**"
   ]
  },
  {
   "cell_type": "code",
   "execution_count": 41,
   "metadata": {},
   "outputs": [
    {
     "data": {
      "text/html": [
       "<div>\n",
       "<style scoped>\n",
       "    .dataframe tbody tr th:only-of-type {\n",
       "        vertical-align: middle;\n",
       "    }\n",
       "\n",
       "    .dataframe tbody tr th {\n",
       "        vertical-align: top;\n",
       "    }\n",
       "\n",
       "    .dataframe thead th {\n",
       "        text-align: right;\n",
       "    }\n",
       "</style>\n",
       "<table border=\"1\" class=\"dataframe\">\n",
       "  <thead>\n",
       "    <tr style=\"text-align: right;\">\n",
       "      <th></th>\n",
       "      <th>eu_sales</th>\n",
       "      <th>jp_sales</th>\n",
       "      <th>na_sales</th>\n",
       "      <th>other_sales</th>\n",
       "    </tr>\n",
       "    <tr>\n",
       "      <th>rating</th>\n",
       "      <th></th>\n",
       "      <th></th>\n",
       "      <th></th>\n",
       "      <th></th>\n",
       "    </tr>\n",
       "  </thead>\n",
       "  <tbody>\n",
       "    <tr>\n",
       "      <th>e</th>\n",
       "      <td>85.49</td>\n",
       "      <td>15.98</td>\n",
       "      <td>81.71</td>\n",
       "      <td>23.18</td>\n",
       "    </tr>\n",
       "    <tr>\n",
       "      <th>e10+</th>\n",
       "      <td>45.20</td>\n",
       "      <td>6.27</td>\n",
       "      <td>56.38</td>\n",
       "      <td>13.21</td>\n",
       "    </tr>\n",
       "    <tr>\n",
       "      <th>m</th>\n",
       "      <td>153.71</td>\n",
       "      <td>14.72</td>\n",
       "      <td>172.82</td>\n",
       "      <td>49.73</td>\n",
       "    </tr>\n",
       "    <tr>\n",
       "      <th>nan</th>\n",
       "      <td>64.15</td>\n",
       "      <td>80.97</td>\n",
       "      <td>74.82</td>\n",
       "      <td>18.87</td>\n",
       "    </tr>\n",
       "    <tr>\n",
       "      <th>t</th>\n",
       "      <td>43.68</td>\n",
       "      <td>22.84</td>\n",
       "      <td>51.98</td>\n",
       "      <td>14.98</td>\n",
       "    </tr>\n",
       "  </tbody>\n",
       "</table>\n",
       "</div>"
      ],
      "text/plain": [
       "        eu_sales  jp_sales  na_sales  other_sales\n",
       "rating                                           \n",
       "e          85.49     15.98     81.71        23.18\n",
       "e10+       45.20      6.27     56.38        13.21\n",
       "m         153.71     14.72    172.82        49.73\n",
       "nan        64.15     80.97     74.82        18.87\n",
       "t          43.68     22.84     51.98        14.98"
      ]
     },
     "metadata": {},
     "output_type": "display_data"
    },
    {
     "data": {
      "image/png": "[encoded data removed]",
      "text/plain": [
       "<Figure size 360x216 with 1 Axes>"
      ]
     },
     "metadata": {
      "needs_background": "light"
     },
     "output_type": "display_data"
    },
    {
     "data": {
      "image/png": "[encoded data removed]",
      "text/plain": [
       "<Figure size 360x216 with 1 Axes>"
      ]
     },
     "metadata": {
      "needs_background": "light"
     },
     "output_type": "display_data"
    },
    {
     "data": {
      "image/png": "[encoded data removed]",
      "text/plain": [
       "<Figure size 360x216 with 1 Axes>"
      ]
     },
     "metadata": {
      "needs_background": "light"
     },
     "output_type": "display_data"
    }
   ],
   "source": [
    "actual_data_rating = actual_data.pivot_table(index='rating', values=('na_sales', 'eu_sales', 'jp_sales', 'other_sales'), aggfunc='sum')\n",
    "display(actual_data_rating)\n",
    "actual_data_rating['eu_sales'].sort_values(ascending=False).plot(y='eu_sales', kind='bar', figsize=(5, 3), grid=True)\n",
    "plt.xlabel('Возрастной рейтинг')\n",
    "plt.ylabel('Продажи игр, млн копий')\n",
    "plt.title(\"Продажи игр в Европе в зависимости от возрастного рейтинга за 2013-2015гг.\")\n",
    "plt.show()\n",
    "\n",
    "actual_data_rating['jp_sales'].sort_values(ascending=False).plot(y='jp_sales', kind='bar', figsize=(5, 3), grid=True)\n",
    "plt.xlabel('Возрастной рейтинг')\n",
    "plt.ylabel('Продажи игр, млн копий')\n",
    "plt.title(\"Продажи игр в Японии в зависимости от возрастного рейтинга за 2013-2015гг.\")\n",
    "plt.show()\n",
    "\n",
    "actual_data_rating['na_sales'].sort_values(ascending=False).plot(y='na_sales', kind='bar', figsize=(5, 3), grid=True)\n",
    "plt.xlabel('Возрастной рейтинг')\n",
    "plt.ylabel('Продажи игр, млн копий')\n",
    "plt.title(\"Продажи игр в Северной Америке в зависимости от возрастного рейтинга за 2013-2015гг.\")\n",
    "plt.show()\n"
   ]
  },
  {
   "cell_type": "markdown",
   "metadata": {},
   "source": [
    "**Для Европы и Северной Америки популярность игр распределилась по рейтингам следующим образом: Для врослых, Для всех, Без рейтинга, Для всех от 10 лет и старше и Для подростков. Для Японии популярность игр распределилась по рейтингам следующим образом: Без рейтинга, Для подростков, Для всех, Для врослых и Для всех от 10 лет и старше. Большое количество игр в Японии без рейтинга ESRB связано с тем, что ESRB это организация, которая определяет рейтинги компьютерных игр в США и Канаде. в Японии рейтинги играм присуждает организация CERO.**"
   ]
  },
  {
   "cell_type": "markdown",
   "metadata": {},
   "source": [
    "**Составление портрета пользователя каждого региона:**\n",
    "\n",
    "- В Европе наиболее популярными платформами являются 'PS4' (36,0%), 'PS3' (17,3%), 'XOne' (13,2%), 'X360' (10,8%) и '3DS' (7,9%). В Японии наиболее популярными платформами являются '3DS' (48,2%), 'PS3' (16,6%), 'PSV' (13,2%), 'PS4' (11,3%) и 'WiiU' (7,7%). В Северной Америке наиболее популярными платформами являются 'PS4' (24,8%), 'X360' (18,7%), 'XOne' (21,3%), 'PS3' (14,5%) и '3DS' (8,7%).\n",
    "\n",
    "- В Европе наиболее популярными жанрами являются Action, Shooter, Sports, Role-Playing, Racing. В Японии наиболее популярными жанрами являются Role-Playing, Action, Misc, Fightning, Shooter. В Северной Америке наиболее популярными жанрами являются Action, Shooter, Sports, Role-Playing, Misc. Точно так же как и в Европе, что вероятно связано с культурными аспектами данных континентов.\n",
    "\n",
    "- Для Европы и Северной Америки популярность игр распределилась по рейтингам следующим образом: Для врослых, Для всех, Без рейтинга, Для всех от 10 лет и старше и Для подростков. Для Японии популярность игр распределилась по рейтингам следующим образом: Без рейтинга, Для подростков, Для всех, Для врослых и Для всех от 10 лет и старше. Большое количество игр в Японии без рейтинга ESRB связано с тем, что ESRB это организация, которая определяет рейтинги компьютерных игр в США и Канаде. в Японии рейтинги играм присуждает организация CERO."
   ]
  },
  {
   "cell_type": "markdown",
   "metadata": {},
   "source": [
    "#### Шаг 5. Проверка гипотез"
   ]
  },
  {
   "cell_type": "markdown",
   "metadata": {},
   "source": [
    "**5.1. Средние пользовательские рейтинги платформ Xbox One и PC одинаковые.**\n",
    "\n",
    "- Нулевая гипотеза: Средние пользовательские рейтинги платформ Xbox One и PC одинаковы.\n",
    "\n",
    "- Альтернативная гипотеза: Средние пользовательские рейтинги платформ Xbox One и PC не равны."
   ]
  },
  {
   "cell_type": "code",
   "execution_count": 44,
   "metadata": {},
   "outputs": [
    {
     "name": "stdout",
     "output_type": "stream",
     "text": [
      "p-значение: 0.14012658403611503\n",
      "Не отвергаем нулевую гипотезу\n",
      "Средний пользовательский рейтинг для XOne 6.521428571428572\n",
      "Средний пользовательский рейтинг для PC 6.269677419354839\n"
     ]
    }
   ],
   "source": [
    "xbox_one = actual_data.query('platform == \"xone\"')\n",
    "pc = actual_data.query('platform == \"pc\"')\n",
    "\n",
    "alpha = 0.05\n",
    "results = st.ttest_ind(xbox_one['user_score'], pc['user_score'], nan_policy='omit', alternative='two-sided')\n",
    "\n",
    "print('p-значение:', results.pvalue)\n",
    "\n",
    "if (results.pvalue < alpha):\n",
    "    print('Отвергаем нулевую гипотезу')\n",
    "else:\n",
    "    print('Не отвергаем нулевую гипотезу') \n",
    "    \n",
    "print('Средний пользовательский рейтинг для XOne', xbox_one['user_score'].mean())\n",
    "print('Средний пользовательский рейтинг для PC', pc['user_score'].mean())\n"
   ]
  },
  {
   "cell_type": "markdown",
   "metadata": {},
   "source": [
    "**Нулевая гипотеза не отвергнута. Средние пользовательские рейтинги платформ Xbox One и PC одинаковы**"
   ]
  },
  {
   "cell_type": "markdown",
   "metadata": {},
   "source": [
    "**5.2. Средние пользовательские рейтинги жанров Action и Sports разные.**\n",
    "\n",
    "- Нулевая гипотеза: Средние пользовательские рейтинги жанров Action и Sports одинаковы.\n",
    "\n",
    "- Альтернативная гипотеза: Средние пользовательские рейтинги жанров Action и Sports не равны."
   ]
  },
  {
   "cell_type": "code",
   "execution_count": 45,
   "metadata": {},
   "outputs": [
    {
     "name": "stdout",
     "output_type": "stream",
     "text": [
      "p-значение: 1.0517832389139422e-27\n",
      "Отвергаем нулевую гипотезу\n",
      "Средний пользовательский рейтинг жанра Action 6.837532133676093\n",
      "Средний пользовательский рейтинг жанра Sports 5.238124999999999\n"
     ]
    }
   ],
   "source": [
    "action = actual_data.query('genre == \"action\"')\n",
    "sports = actual_data.query('genre == \"sports\"')\n",
    "\n",
    "alpha = 0.05\n",
    "results = st.ttest_ind(action['user_score'], sports['user_score'], nan_policy='omit', alternative='two-sided')\n",
    "\n",
    "print('p-значение:', results.pvalue)\n",
    "\n",
    "if (results.pvalue < alpha):\n",
    "    print('Отвергаем нулевую гипотезу')\n",
    "else:\n",
    "    print('Не отвергаем нулевую гипотезу') \n",
    "    \n",
    "print('Средний пользовательский рейтинг жанра Action', action['user_score'].mean())\n",
    "print('Средний пользовательский рейтинг жанра Sports', sports['user_score'].mean())\n"
   ]
  },
  {
   "cell_type": "markdown",
   "metadata": {},
   "source": [
    "**Нулевая гипотеза отвергнута. Средние пользовательские рейтинги жанров Action и Sports значимо различны.**"
   ]
  },
  {
   "cell_type": "markdown",
   "metadata": {},
   "source": [
    "**Проверка гипотез:**\n",
    "- Нулевая гипотеза о равенстве средних пользовательских рейтингов платформ Xbox One и PC не отвергнута. Средние пользовательские рейтинги платформ Xbox One и PC одинаковы.\n",
    "- Нулевая гипотеза о равенстве средних пользовательских рейтингов жанров Action и Sports отвергнута. Средние пользовательские рейтинги жанров Action и Sports значимо различны."
   ]
  },
  {
   "cell_type": "markdown",
   "metadata": {},
   "source": [
    "**Нулевые гипотезы формулировались исходя из равенства средних значений генеральных совокупностей, альтернативная исходя из ихнеравенства. Для проверки гипотезы о равенстве средних двух генеральных совокупностей применен метод scipy.stats.ttest_ind(), так как генеральные совокупности не зависят друг от друга. При этом проверялась двусторонняя гипотеза. Пропущенные значения игнорировались. Выбран уровень статистической значимости равным 0,05, рассчитана вероятность p-value и сравнена с уровнем статистической значимости. При p-value меньше уровня статистической значимости нулевая гипотеза отвергалась и принималась альтернативная.**"
   ]
  },
  {
   "cell_type": "markdown",
   "metadata": {},
   "source": [
    "# Общий вывод:\n",
    "\n",
    "**Из открытых источников доступны исторические данные о продажах игр, оценки пользователей и экспертов, жанры и платформы (например, Xbox или PlayStation):**\n",
    "\n",
    "- В датафрейме 16715 строк с данными об компьютерных играх, пропущенные значения есть в столбцах 'Name', 'Year_of_Release', 'Genre', 'Critic_Score', 'User_Score', 'Rating'.\n",
    "- Всего 11560 уникальных названий игр в 13 жанрах и в 8-ми возрастных группах.\n",
    "- Данные по играм представлены с 1980 по 2016 гг для 31 платформы.\n",
    "- Они оценивались по 8 рейтингам.\n",
    "\n",
    "**В результате предобработки данных выполнено следующее:**\n",
    " - Заменены названия столбцов (приведены к нижнему регистру).\n",
    " - Удалены строки где есть пустые значения в столбцах 'name', 'year_of_release', 'genre', так как их незначительное количество.\n",
    " - Переведен тип данных в столбце 'year_of_release' в 'int'.\n",
    " - В столбце 'user_score' есть значение 'tbd', которое, скорее всего, обозначает To Be Determined (будет определено), оно заменено на значение NaN, a тип данных переведен во float.\n",
    " - Выявлен и удален дубликат по столбцам 'name', 'platform', 'year_of_release'.\n",
    " - Видно, что есть игры, у которых на определенных платформах нет возрастного ограничения. Очевидно, что на всех платформах будет одинаковое возрастное ограничение. Заполнены пропущенные значения в столбце 'rating' по одной и той же игре с той платформы, где рейтинг есть. Остальные пропуски заменены на слово 'nan', чтобы в дальнейшем было удобно визуализировать данные.\n",
    " - Возрастное ограничение 'K-A' (Kids to Adults) это тоже самое, что и 'E' (Everyone), поэтому 'K-A' (Kids to Adults) заменено на 'E' (Everyone). Также заменено 'A-O' (Adults Only 18+) на похожее 'M' (Mature), а 'RP' (Rating Pending), на 'NAN'.\n",
    " - Подсчитаны суммарные продажи во всех регионах и записаны в отдельный столбец 'total_sales'.\n",
    " \n",
    "**Проведен исследовательский анализ данных:**\n",
    "\n",
    "- До 2008-2009 гг. количество выпущенных новых игр росло, далее произошло значительное падение до 2013 года и дальше выпуск игр стабилизировался. Вероятно данные до стабилизации (до 2013 года) будут не актуальны для анализа.\n",
    "- Явно выделяется топ-6 платформ по количеству продаж: 'PS2', 'X360', 'PS3', 'Wii', 'DS' и 'PS', у которых сумарные продажи изменяются, от 728 до 1234 млн. копий игр. Можно сказать, что характерный срок \"жизни\" платформы составляет в среднем 10 лет.\n",
    "- Актуальным периодом будем считать 4 года с 2013 по 2016 гг. Данные за предыдущие года учитывать не будем.\n",
    "- Лидирующие платформы по общим продажам следующие: 'PS4', 'PS3', 'X360', 'XOne', '3DS'. С 2013 по 2016 гг. продажи игр для платформ 'PS4' и 'XOne' в среднем растут (за 2016 год данные не полные), для платформ 'PS3', 'X360' и '3DS' - падают. Наиболее потенциально прибыльными являются 'PS4' и 'XOne'.\n",
    "- При рассмотрении диаграмм размаха выявлено достаточно много выбросов в продажах игр почти для каждой платформы. Расперделения значений похоже на распределение Пуассона. Медианы количества продаж игр по платформам варьируются примерно от 0,01 до 0,25 млн. копий.\n",
    "- В результате построения диаграмм рассеяния корреляции между количеством проданных копий игр и оценками критиков и пользователей являются слабыми для платформы 'PS4', однако оценка критиков оказывает большее влияние на продажи игр, когда оценка пользователей практически не влияет на них.\n",
    "- Коэффициенты корреляции зависимостей продаж игр от отзывов критиков для платформ 'PS4' и 'XONE' одинаковы, у остальных платформ коэффициенты корреляции меньше. Коэффициенты корреляции зависимостей продаж игр от пользователей для платформ 'PS4' и остальных незначительные, кроме коэффициента корреляции для платформы '3DS', который равен 0.24. В целом для прогнозирования продаж игр популярных платформ можно учитывать влияние оценки критиков на продажи, а оценки пользователей можно не брать во внимание.\n",
    "- Наибольшее количество игр и суммарное количество продаж в жанре Action. Наименьшее количество игр и суммарное количество продаж в жанре Puzzle. Наибольшее среднее и медианное количество продаж игр жанра Shooter. Наименьшее среднее и медианное количество продаж игр жанра Adventure. В результате, наиболее прибыльным жанром является 'Shooter', наи менее прибыльным - Adventure.\n",
    "\n",
    "**Составлен портрет пользователя каждого региона:**\n",
    "\n",
    "- В Европе наиболее популярными платформами являются 'PS4' (36,0%), 'PS3' (17,3%), 'XOne' (13,2%), 'X360' (10,8%) и '3DS' (7,9%). В Японии наиболее популярными платформами являются '3DS' (48,2%), 'PS3' (16,6%), 'PSV' (13,2%), 'PS4' (11,3%) и 'WiiU' (7,7%). В Северной Америке наиболее популярными платформами являются 'PS4' (24,8%), 'X360' (18,7%), 'XOne' (21,3%), 'PS3' (14,5%) и '3DS' (8,7%).\n",
    "\n",
    "- В Европе наиболее популярными жанрами являются Action, Shooter, Sports, Role-Playing, Racing. В Японии наиболее популярными жанрами являются Role-Playing, Action, Misc, Fightning, Shooter. В Северной Америке наиболее популярными жанрами являются Action, Shooter, Sports, Role-Playing, Misc. Точно так же как и в Европе, что вероятно связано с культурными аспектами данных континентов.\n",
    "\n",
    "- Для Европы и Северной Америки популярность игр распределилась по рейтингам следующим образом: Для врослых, Для всех, Без рейтинга, Для всех от 10 лет и старше и Для подростков. Для Японии популярность игр распределилась по рейтингам следующим образом: Без рейтинга, Для подростков, Для всех, Для врослых и Для всех от 10 лет и старше. Большое количество игр в Японии без рейтинга ESRB связано с тем, что ESRB это организация, которая определяет рейтинги компьютерных игр в США и Канаде. в Японии рейтинги играм присуждает организация CERO.\n",
    "\n",
    "**Проверены гипотезы:**\n",
    "- Нулевая гипотеза о равенстве средних пользовательских рейтингов платформ Xbox One и PC не отвергнута. Средние пользовательские рейтинги платформ Xbox One и PC одинаковы.\n",
    "- Нулевая гипотеза о равенстве средних пользовательских рейтингов жанров Action и Sports отвергнута. Средние пользовательские рейтинги жанров Action и Sports значимо различны.\n",
    "\n",
    "**На основе выполненного анализа рекомендуется разрабатывать игры под 'PS4' и 'XOne', так как их продажи растут. Также неободимо учитывать отзывы критиков так как они имеют небольшое влияние на количество продаж игр. Игры жанров Action и Shooter являются лидерами по продажам. Значительное влияние на количество продаж имеют платформа, жанр и возрастное ограничение в зависимости от региона, оэтому необходимо это учитывать.**"
   ]
  }
 ],
 "metadata": {
  "ExecuteTimeLog": [
   {
    "duration": 1270,
    "start_time": "2023-05-06T19:25:46.084Z"
   },
   {
    "duration": 256,
    "start_time": "2023-05-06T19:26:48.893Z"
   },
   {
    "duration": 30,
    "start_time": "2023-05-06T19:27:50.512Z"
   },
   {
    "duration": 42,
    "start_time": "2023-05-06T19:37:55.735Z"
   },
   {
    "duration": 47,
    "start_time": "2023-05-06T19:38:14.632Z"
   },
   {
    "duration": 1116,
    "start_time": "2023-05-06T19:38:27.105Z"
   },
   {
    "duration": 86,
    "start_time": "2023-05-06T19:38:28.223Z"
   },
   {
    "duration": 39,
    "start_time": "2023-05-06T19:38:28.310Z"
   },
   {
    "duration": 32,
    "start_time": "2023-05-06T19:40:46.390Z"
   },
   {
    "duration": 48,
    "start_time": "2023-05-06T19:41:53.085Z"
   },
   {
    "duration": 38,
    "start_time": "2023-05-06T19:44:57.997Z"
   },
   {
    "duration": 51,
    "start_time": "2023-05-06T19:47:58.953Z"
   },
   {
    "duration": 73,
    "start_time": "2023-05-06T19:48:46.024Z"
   },
   {
    "duration": 144,
    "start_time": "2023-05-06T19:49:17.970Z"
   },
   {
    "duration": 46,
    "start_time": "2023-05-06T19:49:38.669Z"
   },
   {
    "duration": 56,
    "start_time": "2023-05-06T19:49:48.810Z"
   },
   {
    "duration": 43,
    "start_time": "2023-05-06T19:50:03.902Z"
   },
   {
    "duration": 737,
    "start_time": "2023-05-06T19:50:42.690Z"
   },
   {
    "duration": 1624,
    "start_time": "2023-05-06T19:50:57.877Z"
   },
   {
    "duration": 1128,
    "start_time": "2023-05-06T19:52:57.688Z"
   },
   {
    "duration": 11,
    "start_time": "2023-05-06T19:57:35.084Z"
   },
   {
    "duration": 20,
    "start_time": "2023-05-06T19:57:53.072Z"
   },
   {
    "duration": 1360,
    "start_time": "2023-05-06T20:01:24.559Z"
   },
   {
    "duration": 1181,
    "start_time": "2023-05-06T20:01:49.911Z"
   },
   {
    "duration": 70,
    "start_time": "2023-05-06T20:01:51.098Z"
   },
   {
    "duration": 51,
    "start_time": "2023-05-06T20:01:51.171Z"
   },
   {
    "duration": 1059,
    "start_time": "2023-05-06T20:01:51.224Z"
   },
   {
    "duration": 20,
    "start_time": "2023-05-06T20:01:52.284Z"
   },
   {
    "duration": 1089,
    "start_time": "2023-05-06T20:02:15.981Z"
   },
   {
    "duration": 51,
    "start_time": "2023-05-06T20:02:17.080Z"
   },
   {
    "duration": 73,
    "start_time": "2023-05-06T20:02:17.133Z"
   },
   {
    "duration": 1037,
    "start_time": "2023-05-06T20:02:17.211Z"
   },
   {
    "duration": 35,
    "start_time": "2023-05-06T20:02:18.252Z"
   },
   {
    "duration": 22,
    "start_time": "2023-05-06T20:02:51.269Z"
   },
   {
    "duration": 135,
    "start_time": "2023-05-06T20:03:12.321Z"
   },
   {
    "duration": 15,
    "start_time": "2023-05-06T20:13:24.584Z"
   },
   {
    "duration": 19,
    "start_time": "2023-05-06T20:16:46.686Z"
   },
   {
    "duration": 1023,
    "start_time": "2023-05-06T20:18:58.499Z"
   },
   {
    "duration": 87,
    "start_time": "2023-05-06T20:18:59.524Z"
   },
   {
    "duration": 56,
    "start_time": "2023-05-06T20:18:59.613Z"
   },
   {
    "duration": 1114,
    "start_time": "2023-05-06T20:18:59.671Z"
   },
   {
    "duration": 19,
    "start_time": "2023-05-06T20:19:00.787Z"
   },
   {
    "duration": 54,
    "start_time": "2023-05-06T20:19:00.808Z"
   },
   {
    "duration": 60,
    "start_time": "2023-05-06T20:19:40.821Z"
   },
   {
    "duration": 14,
    "start_time": "2023-05-06T20:20:29.702Z"
   },
   {
    "duration": 16,
    "start_time": "2023-05-06T20:20:38.299Z"
   },
   {
    "duration": 17,
    "start_time": "2023-05-06T20:23:31.288Z"
   },
   {
    "duration": 11,
    "start_time": "2023-05-06T20:25:15.828Z"
   },
   {
    "duration": 1174,
    "start_time": "2023-05-06T20:25:36.071Z"
   },
   {
    "duration": 74,
    "start_time": "2023-05-06T20:25:37.249Z"
   },
   {
    "duration": 77,
    "start_time": "2023-05-06T20:25:37.324Z"
   },
   {
    "duration": 1120,
    "start_time": "2023-05-06T20:25:37.403Z"
   },
   {
    "duration": 20,
    "start_time": "2023-05-06T20:25:38.525Z"
   },
   {
    "duration": 19,
    "start_time": "2023-05-06T20:25:49.890Z"
   },
   {
    "duration": 22,
    "start_time": "2023-05-06T20:26:23.491Z"
   },
   {
    "duration": 25,
    "start_time": "2023-05-06T20:28:50.695Z"
   },
   {
    "duration": 35,
    "start_time": "2023-05-06T20:29:00.971Z"
   },
   {
    "duration": 1546,
    "start_time": "2023-05-06T20:29:43.583Z"
   },
   {
    "duration": 1217,
    "start_time": "2023-05-06T20:29:57.476Z"
   },
   {
    "duration": 71,
    "start_time": "2023-05-06T20:29:58.695Z"
   },
   {
    "duration": 1336,
    "start_time": "2023-05-06T20:29:58.768Z"
   },
   {
    "duration": 0,
    "start_time": "2023-05-06T20:30:00.105Z"
   },
   {
    "duration": 0,
    "start_time": "2023-05-06T20:30:00.106Z"
   },
   {
    "duration": 0,
    "start_time": "2023-05-06T20:30:00.108Z"
   },
   {
    "duration": 0,
    "start_time": "2023-05-06T20:30:00.109Z"
   },
   {
    "duration": 35,
    "start_time": "2023-05-06T20:30:18.485Z"
   },
   {
    "duration": 1146,
    "start_time": "2023-05-06T20:33:59.376Z"
   },
   {
    "duration": 83,
    "start_time": "2023-05-06T20:34:00.524Z"
   },
   {
    "duration": 61,
    "start_time": "2023-05-06T20:34:00.610Z"
   },
   {
    "duration": 1138,
    "start_time": "2023-05-06T20:34:00.673Z"
   },
   {
    "duration": 14,
    "start_time": "2023-05-06T20:34:01.813Z"
   },
   {
    "duration": 84,
    "start_time": "2023-05-06T20:34:01.829Z"
   },
   {
    "duration": 70,
    "start_time": "2023-05-06T20:34:01.915Z"
   },
   {
    "duration": 48,
    "start_time": "2023-05-07T19:31:54.522Z"
   },
   {
    "duration": 1315,
    "start_time": "2023-05-07T19:32:02.552Z"
   },
   {
    "duration": 204,
    "start_time": "2023-05-07T19:32:03.869Z"
   },
   {
    "duration": 43,
    "start_time": "2023-05-07T19:32:04.074Z"
   },
   {
    "duration": 969,
    "start_time": "2023-05-07T19:32:04.119Z"
   },
   {
    "duration": 14,
    "start_time": "2023-05-07T19:32:05.090Z"
   },
   {
    "duration": 40,
    "start_time": "2023-05-07T19:32:05.105Z"
   },
   {
    "duration": 19,
    "start_time": "2023-05-07T19:32:05.147Z"
   },
   {
    "duration": 7,
    "start_time": "2023-05-07T19:32:05.168Z"
   },
   {
    "duration": 14,
    "start_time": "2023-05-07T19:47:10.422Z"
   },
   {
    "duration": 21,
    "start_time": "2023-05-07T19:48:24.206Z"
   },
   {
    "duration": 18,
    "start_time": "2023-05-07T19:48:57.802Z"
   },
   {
    "duration": 1376,
    "start_time": "2023-05-07T19:56:33.326Z"
   },
   {
    "duration": 115,
    "start_time": "2023-05-07T19:58:44.270Z"
   },
   {
    "duration": 28,
    "start_time": "2023-05-07T19:59:06.110Z"
   },
   {
    "duration": 26,
    "start_time": "2023-05-07T19:59:26.150Z"
   },
   {
    "duration": 1805,
    "start_time": "2023-05-07T20:00:34.070Z"
   },
   {
    "duration": 1811,
    "start_time": "2023-05-07T20:01:07.249Z"
   },
   {
    "duration": 1952,
    "start_time": "2023-05-07T20:01:26.510Z"
   },
   {
    "duration": 1824,
    "start_time": "2023-05-07T20:02:43.274Z"
   },
   {
    "duration": 2595,
    "start_time": "2023-05-07T20:04:27.362Z"
   },
   {
    "duration": 1774,
    "start_time": "2023-05-07T20:04:57.830Z"
   },
   {
    "duration": 19,
    "start_time": "2023-05-07T20:14:17.793Z"
   },
   {
    "duration": 17,
    "start_time": "2023-05-07T20:15:38.109Z"
   },
   {
    "duration": 1179,
    "start_time": "2023-05-07T20:15:43.641Z"
   },
   {
    "duration": 55,
    "start_time": "2023-05-07T20:15:44.823Z"
   },
   {
    "duration": 46,
    "start_time": "2023-05-07T20:15:44.880Z"
   },
   {
    "duration": 1203,
    "start_time": "2023-05-07T20:15:44.928Z"
   },
   {
    "duration": 18,
    "start_time": "2023-05-07T20:15:46.141Z"
   },
   {
    "duration": 29,
    "start_time": "2023-05-07T20:15:46.161Z"
   },
   {
    "duration": 23,
    "start_time": "2023-05-07T20:15:46.192Z"
   },
   {
    "duration": 33,
    "start_time": "2023-05-07T20:15:46.217Z"
   },
   {
    "duration": 24,
    "start_time": "2023-05-07T20:15:46.252Z"
   },
   {
    "duration": 2023,
    "start_time": "2023-05-07T20:15:46.278Z"
   },
   {
    "duration": 16,
    "start_time": "2023-05-07T20:15:48.304Z"
   },
   {
    "duration": 7,
    "start_time": "2023-05-07T20:17:17.121Z"
   },
   {
    "duration": 6,
    "start_time": "2023-05-07T20:17:27.909Z"
   },
   {
    "duration": 6,
    "start_time": "2023-05-07T20:18:52.802Z"
   },
   {
    "duration": 7,
    "start_time": "2023-05-07T20:19:00.041Z"
   },
   {
    "duration": 20,
    "start_time": "2023-05-07T20:19:29.458Z"
   },
   {
    "duration": 106,
    "start_time": "2023-05-07T20:19:43.386Z"
   },
   {
    "duration": 70,
    "start_time": "2023-05-07T20:20:20.441Z"
   },
   {
    "duration": 17,
    "start_time": "2023-05-07T20:20:37.266Z"
   },
   {
    "duration": 21,
    "start_time": "2023-05-07T20:23:26.281Z"
   },
   {
    "duration": 12,
    "start_time": "2023-05-07T20:23:36.473Z"
   },
   {
    "duration": 12,
    "start_time": "2023-05-07T20:23:50.297Z"
   },
   {
    "duration": 32,
    "start_time": "2023-05-07T20:24:01.187Z"
   },
   {
    "duration": 23,
    "start_time": "2023-05-07T20:24:32.043Z"
   },
   {
    "duration": 20,
    "start_time": "2023-05-07T20:25:30.233Z"
   },
   {
    "duration": 16,
    "start_time": "2023-05-07T20:33:06.819Z"
   },
   {
    "duration": 23,
    "start_time": "2023-05-07T20:39:23.241Z"
   },
   {
    "duration": 22,
    "start_time": "2023-05-07T20:42:39.509Z"
   },
   {
    "duration": 17,
    "start_time": "2023-05-07T20:42:52.643Z"
   },
   {
    "duration": 348,
    "start_time": "2023-05-07T20:47:10.460Z"
   },
   {
    "duration": 398,
    "start_time": "2023-05-07T20:49:42.443Z"
   },
   {
    "duration": 224,
    "start_time": "2023-05-07T20:50:13.673Z"
   },
   {
    "duration": 315,
    "start_time": "2023-05-07T20:50:30.842Z"
   },
   {
    "duration": 288,
    "start_time": "2023-05-07T20:50:46.242Z"
   },
   {
    "duration": 225,
    "start_time": "2023-05-07T20:51:02.602Z"
   },
   {
    "duration": 192,
    "start_time": "2023-05-07T20:51:16.842Z"
   },
   {
    "duration": 390,
    "start_time": "2023-05-07T20:51:42.219Z"
   },
   {
    "duration": 270,
    "start_time": "2023-05-07T20:52:33.462Z"
   },
   {
    "duration": 289,
    "start_time": "2023-05-07T20:53:24.860Z"
   },
   {
    "duration": 18,
    "start_time": "2023-05-07T20:56:15.859Z"
   },
   {
    "duration": 10,
    "start_time": "2023-05-07T20:56:37.390Z"
   },
   {
    "duration": 14,
    "start_time": "2023-05-07T20:56:49.753Z"
   },
   {
    "duration": 11,
    "start_time": "2023-05-07T20:57:52.788Z"
   },
   {
    "duration": 283,
    "start_time": "2023-05-07T20:58:06.002Z"
   },
   {
    "duration": 263,
    "start_time": "2023-05-07T20:58:31.081Z"
   },
   {
    "duration": 393,
    "start_time": "2023-05-07T21:00:21.961Z"
   },
   {
    "duration": 286,
    "start_time": "2023-05-07T21:00:42.654Z"
   },
   {
    "duration": 196,
    "start_time": "2023-05-07T21:02:26.118Z"
   },
   {
    "duration": 17,
    "start_time": "2023-05-07T21:03:04.812Z"
   },
   {
    "duration": 16,
    "start_time": "2023-05-07T21:03:21.582Z"
   },
   {
    "duration": 5,
    "start_time": "2023-05-07T21:03:35.182Z"
   },
   {
    "duration": 8,
    "start_time": "2023-05-07T21:03:49.022Z"
   },
   {
    "duration": 20,
    "start_time": "2023-05-07T21:04:01.766Z"
   },
   {
    "duration": 24,
    "start_time": "2023-05-07T21:04:58.157Z"
   },
   {
    "duration": 5,
    "start_time": "2023-05-07T21:05:28.765Z"
   },
   {
    "duration": 267,
    "start_time": "2023-05-07T21:05:36.693Z"
   },
   {
    "duration": 31,
    "start_time": "2023-05-07T21:14:05.006Z"
   },
   {
    "duration": 47,
    "start_time": "2023-05-07T21:14:17.206Z"
   },
   {
    "duration": 47,
    "start_time": "2023-05-07T21:15:11.449Z"
   },
   {
    "duration": 160,
    "start_time": "2023-05-07T21:17:13.382Z"
   },
   {
    "duration": 266,
    "start_time": "2023-05-07T21:17:36.062Z"
   },
   {
    "duration": 1152,
    "start_time": "2023-05-07T21:18:05.374Z"
   },
   {
    "duration": 57,
    "start_time": "2023-05-07T21:18:06.528Z"
   },
   {
    "duration": 51,
    "start_time": "2023-05-07T21:18:06.587Z"
   },
   {
    "duration": 1011,
    "start_time": "2023-05-07T21:18:06.641Z"
   },
   {
    "duration": 14,
    "start_time": "2023-05-07T21:18:07.655Z"
   },
   {
    "duration": 27,
    "start_time": "2023-05-07T21:18:07.671Z"
   },
   {
    "duration": 45,
    "start_time": "2023-05-07T21:18:07.700Z"
   },
   {
    "duration": 9,
    "start_time": "2023-05-07T21:18:07.747Z"
   },
   {
    "duration": 34,
    "start_time": "2023-05-07T21:18:07.758Z"
   },
   {
    "duration": 1817,
    "start_time": "2023-05-07T21:18:07.794Z"
   },
   {
    "duration": 30,
    "start_time": "2023-05-07T21:18:09.613Z"
   },
   {
    "duration": 46,
    "start_time": "2023-05-07T21:18:09.645Z"
   },
   {
    "duration": 277,
    "start_time": "2023-05-07T21:18:09.693Z"
   },
   {
    "duration": 259,
    "start_time": "2023-05-07T21:18:32.421Z"
   },
   {
    "duration": 391,
    "start_time": "2023-05-07T21:18:40.725Z"
   },
   {
    "duration": 916,
    "start_time": "2023-05-07T21:19:13.980Z"
   },
   {
    "duration": 158,
    "start_time": "2023-05-07T21:19:35.302Z"
   },
   {
    "duration": 163,
    "start_time": "2023-05-07T21:20:14.557Z"
   },
   {
    "duration": 1142,
    "start_time": "2023-05-07T21:22:29.806Z"
   },
   {
    "duration": 55,
    "start_time": "2023-05-07T21:22:30.950Z"
   },
   {
    "duration": 50,
    "start_time": "2023-05-07T21:22:31.007Z"
   },
   {
    "duration": 1044,
    "start_time": "2023-05-07T21:22:31.060Z"
   },
   {
    "duration": 16,
    "start_time": "2023-05-07T21:22:32.107Z"
   },
   {
    "duration": 70,
    "start_time": "2023-05-07T21:22:32.125Z"
   },
   {
    "duration": 21,
    "start_time": "2023-05-07T21:22:32.197Z"
   },
   {
    "duration": 9,
    "start_time": "2023-05-07T21:22:32.220Z"
   },
   {
    "duration": 51,
    "start_time": "2023-05-07T21:22:32.231Z"
   },
   {
    "duration": 1933,
    "start_time": "2023-05-07T21:22:32.284Z"
   },
   {
    "duration": 27,
    "start_time": "2023-05-07T21:22:34.218Z"
   },
   {
    "duration": 15,
    "start_time": "2023-05-07T21:22:34.246Z"
   },
   {
    "duration": 10,
    "start_time": "2023-05-07T21:22:34.263Z"
   },
   {
    "duration": 25,
    "start_time": "2023-05-07T21:23:05.806Z"
   },
   {
    "duration": 159,
    "start_time": "2023-05-07T21:23:27.822Z"
   },
   {
    "duration": 175,
    "start_time": "2023-05-07T21:23:49.782Z"
   },
   {
    "duration": 161,
    "start_time": "2023-05-07T21:24:13.781Z"
   },
   {
    "duration": 278,
    "start_time": "2023-05-07T21:25:10.077Z"
   },
   {
    "duration": 1327,
    "start_time": "2023-05-08T15:57:10.311Z"
   },
   {
    "duration": 202,
    "start_time": "2023-05-08T15:57:11.640Z"
   },
   {
    "duration": 48,
    "start_time": "2023-05-08T15:57:11.844Z"
   },
   {
    "duration": 1070,
    "start_time": "2023-05-08T15:57:11.894Z"
   },
   {
    "duration": 15,
    "start_time": "2023-05-08T15:57:12.966Z"
   },
   {
    "duration": 30,
    "start_time": "2023-05-08T15:57:12.982Z"
   },
   {
    "duration": 50,
    "start_time": "2023-05-08T15:57:13.014Z"
   },
   {
    "duration": 12,
    "start_time": "2023-05-08T15:57:13.066Z"
   },
   {
    "duration": 32,
    "start_time": "2023-05-08T15:57:13.081Z"
   },
   {
    "duration": 1911,
    "start_time": "2023-05-08T15:57:13.115Z"
   },
   {
    "duration": 29,
    "start_time": "2023-05-08T15:57:15.028Z"
   },
   {
    "duration": 44,
    "start_time": "2023-05-08T15:57:15.060Z"
   },
   {
    "duration": 192,
    "start_time": "2023-05-08T15:57:15.106Z"
   },
   {
    "duration": 32,
    "start_time": "2023-05-08T16:01:11.592Z"
   },
   {
    "duration": 25,
    "start_time": "2023-05-08T16:01:22.834Z"
   },
   {
    "duration": 27,
    "start_time": "2023-05-08T16:01:26.967Z"
   },
   {
    "duration": 25,
    "start_time": "2023-05-08T16:02:27.362Z"
   },
   {
    "duration": 1183,
    "start_time": "2023-05-08T16:02:43.152Z"
   },
   {
    "duration": 56,
    "start_time": "2023-05-08T16:02:44.338Z"
   },
   {
    "duration": 46,
    "start_time": "2023-05-08T16:02:44.396Z"
   },
   {
    "duration": 1046,
    "start_time": "2023-05-08T16:02:44.444Z"
   },
   {
    "duration": 15,
    "start_time": "2023-05-08T16:02:45.493Z"
   },
   {
    "duration": 71,
    "start_time": "2023-05-08T16:02:45.510Z"
   },
   {
    "duration": 22,
    "start_time": "2023-05-08T16:02:45.583Z"
   },
   {
    "duration": 23,
    "start_time": "2023-05-08T16:02:45.607Z"
   },
   {
    "duration": 19,
    "start_time": "2023-05-08T16:02:45.632Z"
   },
   {
    "duration": 2140,
    "start_time": "2023-05-08T16:02:45.653Z"
   },
   {
    "duration": 22,
    "start_time": "2023-05-08T16:02:47.794Z"
   },
   {
    "duration": 33,
    "start_time": "2023-05-08T16:02:47.818Z"
   },
   {
    "duration": 184,
    "start_time": "2023-05-08T16:02:47.853Z"
   },
   {
    "duration": 26,
    "start_time": "2023-05-08T16:02:59.939Z"
   },
   {
    "duration": 27,
    "start_time": "2023-05-08T16:03:47.976Z"
   },
   {
    "duration": 104,
    "start_time": "2023-05-08T16:13:48.815Z"
   },
   {
    "duration": 10,
    "start_time": "2023-05-08T16:13:59.409Z"
   },
   {
    "duration": 6,
    "start_time": "2023-05-08T16:14:15.683Z"
   },
   {
    "duration": 12,
    "start_time": "2023-05-08T16:14:40.156Z"
   },
   {
    "duration": 1999,
    "start_time": "2023-05-08T16:19:56.756Z"
   },
   {
    "duration": 1306,
    "start_time": "2023-05-08T16:20:36.363Z"
   },
   {
    "duration": 58,
    "start_time": "2023-05-08T16:20:37.672Z"
   },
   {
    "duration": 55,
    "start_time": "2023-05-08T16:20:37.732Z"
   },
   {
    "duration": 1111,
    "start_time": "2023-05-08T16:20:37.791Z"
   },
   {
    "duration": 18,
    "start_time": "2023-05-08T16:20:38.904Z"
   },
   {
    "duration": 33,
    "start_time": "2023-05-08T16:20:38.940Z"
   },
   {
    "duration": 24,
    "start_time": "2023-05-08T16:20:38.975Z"
   },
   {
    "duration": 16,
    "start_time": "2023-05-08T16:20:39.001Z"
   },
   {
    "duration": 21,
    "start_time": "2023-05-08T16:20:39.042Z"
   },
   {
    "duration": 2096,
    "start_time": "2023-05-08T16:20:45.955Z"
   },
   {
    "duration": 50,
    "start_time": "2023-05-08T16:21:24.305Z"
   },
   {
    "duration": 2175,
    "start_time": "2023-05-08T16:21:37.876Z"
   },
   {
    "duration": 29,
    "start_time": "2023-05-08T16:25:15.332Z"
   },
   {
    "duration": 7,
    "start_time": "2023-05-08T16:25:30.377Z"
   },
   {
    "duration": 1236,
    "start_time": "2023-05-08T16:28:32.711Z"
   },
   {
    "duration": 57,
    "start_time": "2023-05-08T16:28:33.950Z"
   },
   {
    "duration": 55,
    "start_time": "2023-05-08T16:28:34.009Z"
   },
   {
    "duration": 1064,
    "start_time": "2023-05-08T16:28:34.066Z"
   },
   {
    "duration": 26,
    "start_time": "2023-05-08T16:28:35.134Z"
   },
   {
    "duration": 35,
    "start_time": "2023-05-08T16:28:35.162Z"
   },
   {
    "duration": 44,
    "start_time": "2023-05-08T16:28:35.199Z"
   },
   {
    "duration": 17,
    "start_time": "2023-05-08T16:28:35.246Z"
   },
   {
    "duration": 29,
    "start_time": "2023-05-08T16:28:35.265Z"
   },
   {
    "duration": 2100,
    "start_time": "2023-05-08T16:28:35.296Z"
   },
   {
    "duration": 26,
    "start_time": "2023-05-08T16:33:01.331Z"
   },
   {
    "duration": 7,
    "start_time": "2023-05-08T16:33:05.909Z"
   },
   {
    "duration": 1191,
    "start_time": "2023-05-08T16:37:40.034Z"
   },
   {
    "duration": 60,
    "start_time": "2023-05-08T16:37:41.227Z"
   },
   {
    "duration": 53,
    "start_time": "2023-05-08T16:37:41.289Z"
   },
   {
    "duration": 1015,
    "start_time": "2023-05-08T16:37:41.343Z"
   },
   {
    "duration": 15,
    "start_time": "2023-05-08T16:37:42.360Z"
   },
   {
    "duration": 30,
    "start_time": "2023-05-08T16:37:42.377Z"
   },
   {
    "duration": 49,
    "start_time": "2023-05-08T16:37:42.409Z"
   },
   {
    "duration": 13,
    "start_time": "2023-05-08T16:37:42.460Z"
   },
   {
    "duration": 41,
    "start_time": "2023-05-08T16:37:42.475Z"
   },
   {
    "duration": 1869,
    "start_time": "2023-05-08T16:37:42.518Z"
   },
   {
    "duration": 4,
    "start_time": "2023-05-08T16:41:48.346Z"
   },
   {
    "duration": 18561,
    "start_time": "2023-05-08T16:42:26.916Z"
   },
   {
    "duration": 3,
    "start_time": "2023-05-08T16:45:20.643Z"
   },
   {
    "duration": 106,
    "start_time": "2023-05-08T16:46:10.838Z"
   },
   {
    "duration": 3,
    "start_time": "2023-05-08T16:53:27.409Z"
   },
   {
    "duration": 1226,
    "start_time": "2023-05-08T16:53:52.027Z"
   },
   {
    "duration": 57,
    "start_time": "2023-05-08T16:53:53.256Z"
   },
   {
    "duration": 47,
    "start_time": "2023-05-08T16:53:53.315Z"
   },
   {
    "duration": 1026,
    "start_time": "2023-05-08T16:53:53.364Z"
   },
   {
    "duration": 15,
    "start_time": "2023-05-08T16:53:54.392Z"
   },
   {
    "duration": 44,
    "start_time": "2023-05-08T16:53:54.409Z"
   },
   {
    "duration": 24,
    "start_time": "2023-05-08T16:53:54.455Z"
   },
   {
    "duration": 14,
    "start_time": "2023-05-08T16:53:54.481Z"
   },
   {
    "duration": 22,
    "start_time": "2023-05-08T16:53:54.499Z"
   },
   {
    "duration": 2041,
    "start_time": "2023-05-08T16:53:54.523Z"
   },
   {
    "duration": 2,
    "start_time": "2023-05-08T16:53:56.566Z"
   },
   {
    "duration": 26,
    "start_time": "2023-05-08T16:53:56.570Z"
   },
   {
    "duration": 52,
    "start_time": "2023-05-08T16:53:56.598Z"
   },
   {
    "duration": 47,
    "start_time": "2023-05-08T16:53:56.654Z"
   },
   {
    "duration": 178,
    "start_time": "2023-05-08T16:53:56.703Z"
   },
   {
    "duration": 122,
    "start_time": "2023-05-08T17:12:27.101Z"
   },
   {
    "duration": 0,
    "start_time": "2023-05-08T17:14:13.115Z"
   },
   {
    "duration": 17611,
    "start_time": "2023-05-08T17:16:06.607Z"
   },
   {
    "duration": 6,
    "start_time": "2023-05-08T17:16:36.780Z"
   },
   {
    "duration": 15,
    "start_time": "2023-05-08T17:17:00.446Z"
   },
   {
    "duration": 10,
    "start_time": "2023-05-08T17:17:17.876Z"
   },
   {
    "duration": 5,
    "start_time": "2023-05-08T17:17:25.493Z"
   },
   {
    "duration": 1932,
    "start_time": "2023-05-08T17:19:23.110Z"
   },
   {
    "duration": 1185,
    "start_time": "2023-05-08T17:20:37.451Z"
   },
   {
    "duration": 72,
    "start_time": "2023-05-08T17:20:38.641Z"
   },
   {
    "duration": 45,
    "start_time": "2023-05-08T17:20:38.715Z"
   },
   {
    "duration": 1012,
    "start_time": "2023-05-08T17:20:38.762Z"
   },
   {
    "duration": 16,
    "start_time": "2023-05-08T17:20:39.776Z"
   },
   {
    "duration": 32,
    "start_time": "2023-05-08T17:20:39.794Z"
   },
   {
    "duration": 21,
    "start_time": "2023-05-08T17:20:39.841Z"
   },
   {
    "duration": 11,
    "start_time": "2023-05-08T17:20:39.864Z"
   },
   {
    "duration": 21,
    "start_time": "2023-05-08T17:20:39.877Z"
   },
   {
    "duration": 1873,
    "start_time": "2023-05-08T17:20:39.900Z"
   },
   {
    "duration": 2059,
    "start_time": "2023-05-08T17:21:13.168Z"
   },
   {
    "duration": 1791,
    "start_time": "2023-05-08T17:21:31.683Z"
   },
   {
    "duration": 3050,
    "start_time": "2023-05-08T17:22:07.905Z"
   },
   {
    "duration": 1902,
    "start_time": "2023-05-08T17:22:57.880Z"
   },
   {
    "duration": 2004,
    "start_time": "2023-05-08T17:24:16.952Z"
   },
   {
    "duration": 19253,
    "start_time": "2023-05-08T17:25:25.505Z"
   },
   {
    "duration": 12,
    "start_time": "2023-05-08T17:25:48.007Z"
   },
   {
    "duration": 1874,
    "start_time": "2023-05-08T17:26:20.613Z"
   },
   {
    "duration": 20,
    "start_time": "2023-05-08T17:26:40.808Z"
   },
   {
    "duration": 14,
    "start_time": "2023-05-08T17:27:04.479Z"
   },
   {
    "duration": 1120,
    "start_time": "2023-05-08T17:27:39.202Z"
   },
   {
    "duration": 54,
    "start_time": "2023-05-08T17:27:40.324Z"
   },
   {
    "duration": 43,
    "start_time": "2023-05-08T17:27:40.380Z"
   },
   {
    "duration": 980,
    "start_time": "2023-05-08T17:27:40.425Z"
   },
   {
    "duration": 15,
    "start_time": "2023-05-08T17:27:41.407Z"
   },
   {
    "duration": 40,
    "start_time": "2023-05-08T17:27:41.424Z"
   },
   {
    "duration": 19,
    "start_time": "2023-05-08T17:27:41.466Z"
   },
   {
    "duration": 9,
    "start_time": "2023-05-08T17:27:41.487Z"
   },
   {
    "duration": 35,
    "start_time": "2023-05-08T17:27:41.498Z"
   },
   {
    "duration": 1824,
    "start_time": "2023-05-08T17:27:41.535Z"
   },
   {
    "duration": 106,
    "start_time": "2023-05-08T17:27:54.142Z"
   },
   {
    "duration": 37,
    "start_time": "2023-05-08T17:29:36.236Z"
   },
   {
    "duration": 16,
    "start_time": "2023-05-08T17:29:53.521Z"
   },
   {
    "duration": 9,
    "start_time": "2023-05-08T17:30:23.444Z"
   },
   {
    "duration": 22,
    "start_time": "2023-05-08T17:30:35.150Z"
   },
   {
    "duration": 16,
    "start_time": "2023-05-08T17:30:48.533Z"
   },
   {
    "duration": 16,
    "start_time": "2023-05-08T17:31:27.539Z"
   },
   {
    "duration": 1870,
    "start_time": "2023-05-08T17:31:34.371Z"
   },
   {
    "duration": 18362,
    "start_time": "2023-05-08T17:31:48.905Z"
   },
   {
    "duration": 16,
    "start_time": "2023-05-08T17:32:09.710Z"
   },
   {
    "duration": 1123,
    "start_time": "2023-05-08T17:32:19.214Z"
   },
   {
    "duration": 56,
    "start_time": "2023-05-08T17:32:20.339Z"
   },
   {
    "duration": 48,
    "start_time": "2023-05-08T17:32:20.397Z"
   },
   {
    "duration": 1037,
    "start_time": "2023-05-08T17:32:20.448Z"
   },
   {
    "duration": 15,
    "start_time": "2023-05-08T17:32:21.487Z"
   },
   {
    "duration": 40,
    "start_time": "2023-05-08T17:32:21.504Z"
   },
   {
    "duration": 22,
    "start_time": "2023-05-08T17:32:21.546Z"
   },
   {
    "duration": 24,
    "start_time": "2023-05-08T17:32:21.570Z"
   },
   {
    "duration": 20,
    "start_time": "2023-05-08T17:32:21.596Z"
   },
   {
    "duration": 1905,
    "start_time": "2023-05-08T17:32:21.618Z"
   },
   {
    "duration": 18327,
    "start_time": "2023-05-08T17:32:23.525Z"
   },
   {
    "duration": 15,
    "start_time": "2023-05-08T17:32:41.854Z"
   },
   {
    "duration": 37,
    "start_time": "2023-05-08T17:32:41.871Z"
   },
   {
    "duration": 18,
    "start_time": "2023-05-08T17:32:41.910Z"
   },
   {
    "duration": 11,
    "start_time": "2023-05-08T17:32:41.930Z"
   },
   {
    "duration": 18,
    "start_time": "2023-05-08T17:32:41.942Z"
   },
   {
    "duration": 184,
    "start_time": "2023-05-08T17:32:41.962Z"
   },
   {
    "duration": 25,
    "start_time": "2023-05-08T17:33:37.805Z"
   },
   {
    "duration": 101,
    "start_time": "2023-05-08T17:34:40.057Z"
   },
   {
    "duration": 9089,
    "start_time": "2023-05-08T17:39:29.856Z"
   },
   {
    "duration": 25,
    "start_time": "2023-05-08T17:40:04.376Z"
   },
   {
    "duration": 48,
    "start_time": "2023-05-08T17:40:16.204Z"
   },
   {
    "duration": 6409,
    "start_time": "2023-05-08T17:43:04.051Z"
   },
   {
    "duration": 25,
    "start_time": "2023-05-08T17:43:29.476Z"
   },
   {
    "duration": 26,
    "start_time": "2023-05-08T17:43:48.109Z"
   },
   {
    "duration": 1169,
    "start_time": "2023-05-08T17:44:14.902Z"
   },
   {
    "duration": 54,
    "start_time": "2023-05-08T17:44:16.074Z"
   },
   {
    "duration": 44,
    "start_time": "2023-05-08T17:44:16.130Z"
   },
   {
    "duration": 1044,
    "start_time": "2023-05-08T17:44:16.176Z"
   },
   {
    "duration": 24,
    "start_time": "2023-05-08T17:44:17.222Z"
   },
   {
    "duration": 78,
    "start_time": "2023-05-08T17:44:17.248Z"
   },
   {
    "duration": 36,
    "start_time": "2023-05-08T17:44:17.328Z"
   },
   {
    "duration": 9,
    "start_time": "2023-05-08T17:44:17.366Z"
   },
   {
    "duration": 51,
    "start_time": "2023-05-08T17:44:17.377Z"
   },
   {
    "duration": 1939,
    "start_time": "2023-05-08T17:44:17.431Z"
   },
   {
    "duration": 7632,
    "start_time": "2023-05-08T17:44:19.372Z"
   },
   {
    "duration": 16,
    "start_time": "2023-05-08T17:44:27.006Z"
   },
   {
    "duration": 56,
    "start_time": "2023-05-08T17:44:27.023Z"
   },
   {
    "duration": 2,
    "start_time": "2023-05-08T17:44:27.081Z"
   },
   {
    "duration": 13,
    "start_time": "2023-05-08T17:44:27.085Z"
   },
   {
    "duration": 19,
    "start_time": "2023-05-08T17:44:27.100Z"
   },
   {
    "duration": 196,
    "start_time": "2023-05-08T17:44:27.120Z"
   },
   {
    "duration": 15,
    "start_time": "2023-05-08T18:16:25.356Z"
   },
   {
    "duration": 49,
    "start_time": "2023-05-08T18:19:35.649Z"
   },
   {
    "duration": 22,
    "start_time": "2023-05-08T18:19:39.846Z"
   },
   {
    "duration": 15,
    "start_time": "2023-05-08T18:19:57.838Z"
   },
   {
    "duration": 21,
    "start_time": "2023-05-08T18:20:59.113Z"
   },
   {
    "duration": 14,
    "start_time": "2023-05-08T18:21:11.380Z"
   },
   {
    "duration": 25,
    "start_time": "2023-05-08T18:21:27.264Z"
   },
   {
    "duration": 15,
    "start_time": "2023-05-08T18:21:32.858Z"
   },
   {
    "duration": 12,
    "start_time": "2023-05-08T18:21:46.916Z"
   },
   {
    "duration": 17,
    "start_time": "2023-05-08T18:22:00.568Z"
   },
   {
    "duration": 779,
    "start_time": "2023-05-08T18:23:07.123Z"
   },
   {
    "duration": 137,
    "start_time": "2023-05-08T18:23:30.260Z"
   },
   {
    "duration": 151,
    "start_time": "2023-05-08T18:23:39.753Z"
   },
   {
    "duration": 14,
    "start_time": "2023-05-08T18:24:54.768Z"
   },
   {
    "duration": 494,
    "start_time": "2023-05-08T18:27:25.865Z"
   },
   {
    "duration": 842,
    "start_time": "2023-05-08T18:27:47.166Z"
   },
   {
    "duration": 863,
    "start_time": "2023-05-08T18:28:21.437Z"
   },
   {
    "duration": 353,
    "start_time": "2023-05-08T18:28:30.261Z"
   },
   {
    "duration": 349,
    "start_time": "2023-05-08T18:28:43.918Z"
   },
   {
    "duration": 987,
    "start_time": "2023-05-08T18:29:35.511Z"
   },
   {
    "duration": 397,
    "start_time": "2023-05-08T18:29:44.938Z"
   },
   {
    "duration": 2876,
    "start_time": "2023-05-08T18:30:02.084Z"
   },
   {
    "duration": 353,
    "start_time": "2023-05-08T18:30:17.258Z"
   },
   {
    "duration": 411,
    "start_time": "2023-05-08T18:32:19.625Z"
   },
   {
    "duration": 489,
    "start_time": "2023-05-08T18:33:39.108Z"
   },
   {
    "duration": 401,
    "start_time": "2023-05-08T18:33:53.200Z"
   },
   {
    "duration": 11,
    "start_time": "2023-05-08T18:36:36.359Z"
   },
   {
    "duration": 380,
    "start_time": "2023-05-08T18:39:01.208Z"
   },
   {
    "duration": 23,
    "start_time": "2023-05-08T18:39:22.636Z"
   },
   {
    "duration": 321,
    "start_time": "2023-05-08T18:39:35.087Z"
   },
   {
    "duration": 325,
    "start_time": "2023-05-08T18:39:49.804Z"
   },
   {
    "duration": 17,
    "start_time": "2023-05-08T18:42:17.824Z"
   },
   {
    "duration": 3,
    "start_time": "2023-05-08T18:42:26.237Z"
   },
   {
    "duration": 16,
    "start_time": "2023-05-08T18:45:12.857Z"
   },
   {
    "duration": 22,
    "start_time": "2023-05-08T18:46:39.355Z"
   },
   {
    "duration": 163,
    "start_time": "2023-05-08T18:54:29.644Z"
   },
   {
    "duration": 35,
    "start_time": "2023-05-08T18:55:42.532Z"
   },
   {
    "duration": 34,
    "start_time": "2023-05-08T18:57:13.144Z"
   },
   {
    "duration": 217,
    "start_time": "2023-05-08T18:57:24.685Z"
   },
   {
    "duration": 311,
    "start_time": "2023-05-08T18:57:45.885Z"
   },
   {
    "duration": 336,
    "start_time": "2023-05-08T18:58:10.912Z"
   },
   {
    "duration": 204,
    "start_time": "2023-05-08T18:58:31.164Z"
   },
   {
    "duration": 186,
    "start_time": "2023-05-08T18:59:10.533Z"
   },
   {
    "duration": 1356,
    "start_time": "2023-05-08T18:59:15.913Z"
   },
   {
    "duration": 54,
    "start_time": "2023-05-08T18:59:17.271Z"
   },
   {
    "duration": 51,
    "start_time": "2023-05-08T18:59:17.327Z"
   },
   {
    "duration": 1133,
    "start_time": "2023-05-08T18:59:17.380Z"
   },
   {
    "duration": 32,
    "start_time": "2023-05-08T18:59:18.516Z"
   },
   {
    "duration": 39,
    "start_time": "2023-05-08T18:59:18.550Z"
   },
   {
    "duration": 22,
    "start_time": "2023-05-08T18:59:18.591Z"
   },
   {
    "duration": 29,
    "start_time": "2023-05-08T18:59:18.615Z"
   },
   {
    "duration": 32,
    "start_time": "2023-05-08T18:59:18.647Z"
   },
   {
    "duration": 2048,
    "start_time": "2023-05-08T18:59:18.681Z"
   },
   {
    "duration": 7585,
    "start_time": "2023-05-08T18:59:20.731Z"
   },
   {
    "duration": 5,
    "start_time": "2023-05-08T18:59:28.318Z"
   },
   {
    "duration": 25,
    "start_time": "2023-05-08T18:59:28.324Z"
   },
   {
    "duration": 197,
    "start_time": "2023-05-08T18:59:28.353Z"
   },
   {
    "duration": 344,
    "start_time": "2023-05-08T18:59:28.552Z"
   },
   {
    "duration": 17,
    "start_time": "2023-05-08T18:59:28.897Z"
   },
   {
    "duration": 312,
    "start_time": "2023-05-08T18:59:28.916Z"
   },
   {
    "duration": 11,
    "start_time": "2023-05-08T18:59:29.230Z"
   },
   {
    "duration": 24,
    "start_time": "2023-05-08T18:59:29.244Z"
   },
   {
    "duration": 182,
    "start_time": "2023-05-08T18:59:59.184Z"
   },
   {
    "duration": 169,
    "start_time": "2023-05-08T19:00:29.204Z"
   },
   {
    "duration": 347,
    "start_time": "2023-05-08T19:06:41.015Z"
   },
   {
    "duration": 760,
    "start_time": "2023-05-08T19:08:05.584Z"
   },
   {
    "duration": 597,
    "start_time": "2023-05-08T19:08:20.667Z"
   },
   {
    "duration": 404,
    "start_time": "2023-05-08T19:08:32.104Z"
   },
   {
    "duration": 1156,
    "start_time": "2023-05-08T19:08:38.453Z"
   },
   {
    "duration": 57,
    "start_time": "2023-05-08T19:08:39.611Z"
   },
   {
    "duration": 43,
    "start_time": "2023-05-08T19:08:39.670Z"
   },
   {
    "duration": 1096,
    "start_time": "2023-05-08T19:08:39.715Z"
   },
   {
    "duration": 27,
    "start_time": "2023-05-08T19:08:40.814Z"
   },
   {
    "duration": 42,
    "start_time": "2023-05-08T19:08:40.843Z"
   },
   {
    "duration": 21,
    "start_time": "2023-05-08T19:08:40.887Z"
   },
   {
    "duration": 8,
    "start_time": "2023-05-08T19:08:40.910Z"
   },
   {
    "duration": 20,
    "start_time": "2023-05-08T19:08:40.947Z"
   },
   {
    "duration": 1875,
    "start_time": "2023-05-08T19:08:40.969Z"
   },
   {
    "duration": 7851,
    "start_time": "2023-05-08T19:08:42.847Z"
   },
   {
    "duration": 4,
    "start_time": "2023-05-08T19:08:50.700Z"
   },
   {
    "duration": 42,
    "start_time": "2023-05-08T19:08:50.706Z"
   },
   {
    "duration": 181,
    "start_time": "2023-05-08T19:08:50.751Z"
   },
   {
    "duration": 362,
    "start_time": "2023-05-08T19:08:50.934Z"
   },
   {
    "duration": 15,
    "start_time": "2023-05-08T19:08:51.298Z"
   },
   {
    "duration": 531,
    "start_time": "2023-05-08T19:08:51.314Z"
   },
   {
    "duration": 4,
    "start_time": "2023-05-08T19:08:51.847Z"
   },
   {
    "duration": 35,
    "start_time": "2023-05-08T19:08:51.854Z"
   },
   {
    "duration": 3078,
    "start_time": "2023-05-08T19:10:20.584Z"
   },
   {
    "duration": 360,
    "start_time": "2023-05-08T19:11:38.923Z"
   },
   {
    "duration": 1114,
    "start_time": "2023-05-08T19:13:25.849Z"
   },
   {
    "duration": 1006,
    "start_time": "2023-05-08T19:15:01.464Z"
   },
   {
    "duration": 976,
    "start_time": "2023-05-08T19:23:28.365Z"
   },
   {
    "duration": 1199,
    "start_time": "2023-05-08T19:27:45.525Z"
   },
   {
    "duration": 8,
    "start_time": "2023-05-08T20:00:11.904Z"
   },
   {
    "duration": 16,
    "start_time": "2023-05-08T20:00:31.016Z"
   },
   {
    "duration": 5,
    "start_time": "2023-05-08T20:02:56.976Z"
   },
   {
    "duration": 1250,
    "start_time": "2023-05-08T20:03:05.612Z"
   },
   {
    "duration": 57,
    "start_time": "2023-05-08T20:03:06.864Z"
   },
   {
    "duration": 46,
    "start_time": "2023-05-08T20:03:06.923Z"
   },
   {
    "duration": 996,
    "start_time": "2023-05-08T20:03:06.970Z"
   },
   {
    "duration": 16,
    "start_time": "2023-05-08T20:03:07.969Z"
   },
   {
    "duration": 26,
    "start_time": "2023-05-08T20:03:07.987Z"
   },
   {
    "duration": 44,
    "start_time": "2023-05-08T20:03:08.015Z"
   },
   {
    "duration": 3,
    "start_time": "2023-05-08T20:03:08.061Z"
   },
   {
    "duration": 28,
    "start_time": "2023-05-08T20:03:08.066Z"
   },
   {
    "duration": 19,
    "start_time": "2023-05-08T20:03:08.095Z"
   },
   {
    "duration": 1833,
    "start_time": "2023-05-08T20:03:08.116Z"
   },
   {
    "duration": 7998,
    "start_time": "2023-05-08T20:03:09.951Z"
   },
   {
    "duration": 5,
    "start_time": "2023-05-08T20:03:17.951Z"
   },
   {
    "duration": 26,
    "start_time": "2023-05-08T20:03:17.959Z"
   },
   {
    "duration": 190,
    "start_time": "2023-05-08T20:03:17.987Z"
   },
   {
    "duration": 356,
    "start_time": "2023-05-08T20:03:18.179Z"
   },
   {
    "duration": 17,
    "start_time": "2023-05-08T20:03:18.537Z"
   },
   {
    "duration": 1125,
    "start_time": "2023-05-08T20:03:18.555Z"
   },
   {
    "duration": 20,
    "start_time": "2023-05-08T20:03:19.682Z"
   },
   {
    "duration": 362,
    "start_time": "2023-05-08T20:03:19.705Z"
   },
   {
    "duration": 15,
    "start_time": "2023-05-08T20:03:20.069Z"
   },
   {
    "duration": 19,
    "start_time": "2023-05-08T20:07:23.209Z"
   },
   {
    "duration": 35,
    "start_time": "2023-05-08T20:07:37.512Z"
   },
   {
    "duration": 31,
    "start_time": "2023-05-08T20:07:48.383Z"
   },
   {
    "duration": 16,
    "start_time": "2023-05-08T20:08:03.976Z"
   },
   {
    "duration": 16,
    "start_time": "2023-05-08T20:09:05.195Z"
   },
   {
    "duration": 216,
    "start_time": "2023-05-08T20:09:30.584Z"
   },
   {
    "duration": 195,
    "start_time": "2023-05-08T20:10:59.260Z"
   },
   {
    "duration": 201,
    "start_time": "2023-05-08T20:11:04.891Z"
   },
   {
    "duration": 560,
    "start_time": "2023-05-08T20:16:28.266Z"
   },
   {
    "duration": 227,
    "start_time": "2023-05-08T20:17:19.860Z"
   },
   {
    "duration": 189,
    "start_time": "2023-05-08T20:17:55.177Z"
   },
   {
    "duration": 1102,
    "start_time": "2023-05-08T20:19:20.144Z"
   },
   {
    "duration": 1105,
    "start_time": "2023-05-08T20:19:40.578Z"
   },
   {
    "duration": 100,
    "start_time": "2023-05-08T20:26:51.033Z"
   },
   {
    "duration": 147,
    "start_time": "2023-05-08T20:26:56.972Z"
   },
   {
    "duration": 153,
    "start_time": "2023-05-08T20:27:06.816Z"
   },
   {
    "duration": 65,
    "start_time": "2023-05-08T20:30:00.364Z"
   },
   {
    "duration": 193,
    "start_time": "2023-05-08T20:30:18.004Z"
   },
   {
    "duration": 307,
    "start_time": "2023-05-08T20:30:46.844Z"
   },
   {
    "duration": 25,
    "start_time": "2023-05-08T20:32:55.304Z"
   },
   {
    "duration": 26,
    "start_time": "2023-05-08T20:33:10.616Z"
   },
   {
    "duration": 168,
    "start_time": "2023-05-08T20:33:42.605Z"
   },
   {
    "duration": 25,
    "start_time": "2023-05-08T20:33:54.101Z"
   },
   {
    "duration": 26,
    "start_time": "2023-05-08T20:35:03.685Z"
   },
   {
    "duration": 27,
    "start_time": "2023-05-08T20:35:48.152Z"
   },
   {
    "duration": 159,
    "start_time": "2023-05-08T20:35:57.724Z"
   },
   {
    "duration": 28,
    "start_time": "2023-05-08T20:39:58.504Z"
   },
   {
    "duration": 7,
    "start_time": "2023-05-08T20:40:05.685Z"
   },
   {
    "duration": 12,
    "start_time": "2023-05-08T20:40:17.132Z"
   },
   {
    "duration": 17,
    "start_time": "2023-05-08T20:41:00.704Z"
   },
   {
    "duration": 21,
    "start_time": "2023-05-08T20:41:08.386Z"
   },
   {
    "duration": 23,
    "start_time": "2023-05-08T20:42:26.825Z"
   },
   {
    "duration": 12,
    "start_time": "2023-05-08T20:43:03.753Z"
   },
   {
    "duration": 56,
    "start_time": "2023-05-08T20:43:26.745Z"
   },
   {
    "duration": 1116,
    "start_time": "2023-05-08T20:43:32.585Z"
   },
   {
    "duration": 55,
    "start_time": "2023-05-08T20:43:33.703Z"
   },
   {
    "duration": 44,
    "start_time": "2023-05-08T20:43:33.760Z"
   },
   {
    "duration": 966,
    "start_time": "2023-05-08T20:43:33.806Z"
   },
   {
    "duration": 14,
    "start_time": "2023-05-08T20:43:34.774Z"
   },
   {
    "duration": 28,
    "start_time": "2023-05-08T20:43:34.790Z"
   },
   {
    "duration": 36,
    "start_time": "2023-05-08T20:43:34.819Z"
   },
   {
    "duration": 5,
    "start_time": "2023-05-08T20:43:34.856Z"
   },
   {
    "duration": 14,
    "start_time": "2023-05-08T20:43:34.862Z"
   },
   {
    "duration": 16,
    "start_time": "2023-05-08T20:43:34.879Z"
   },
   {
    "duration": 1945,
    "start_time": "2023-05-08T20:43:34.897Z"
   },
   {
    "duration": 7127,
    "start_time": "2023-05-08T20:43:36.844Z"
   },
   {
    "duration": 5,
    "start_time": "2023-05-08T20:43:43.973Z"
   },
   {
    "duration": 23,
    "start_time": "2023-05-08T20:43:43.980Z"
   },
   {
    "duration": 186,
    "start_time": "2023-05-08T20:43:44.005Z"
   },
   {
    "duration": 311,
    "start_time": "2023-05-08T20:43:44.193Z"
   },
   {
    "duration": 14,
    "start_time": "2023-05-08T20:43:44.506Z"
   },
   {
    "duration": 1020,
    "start_time": "2023-05-08T20:43:44.521Z"
   },
   {
    "duration": 15,
    "start_time": "2023-05-08T20:43:45.542Z"
   },
   {
    "duration": 214,
    "start_time": "2023-05-08T20:43:45.559Z"
   },
   {
    "duration": 383,
    "start_time": "2023-05-08T20:43:45.775Z"
   },
   {
    "duration": 97,
    "start_time": "2023-05-08T20:45:54.778Z"
   },
   {
    "duration": 49,
    "start_time": "2023-05-08T20:46:18.975Z"
   },
   {
    "duration": 41,
    "start_time": "2023-05-08T20:46:51.380Z"
   },
   {
    "duration": 60,
    "start_time": "2023-05-08T20:47:01.416Z"
   },
   {
    "duration": 57,
    "start_time": "2023-05-08T20:47:30.466Z"
   },
   {
    "duration": 60,
    "start_time": "2023-05-08T20:48:12.365Z"
   },
   {
    "duration": 4,
    "start_time": "2023-05-08T21:09:43.379Z"
   },
   {
    "duration": 65,
    "start_time": "2023-05-08T21:09:43.385Z"
   },
   {
    "duration": 41,
    "start_time": "2023-05-08T21:09:43.452Z"
   },
   {
    "duration": 1101,
    "start_time": "2023-05-08T21:09:43.494Z"
   },
   {
    "duration": 16,
    "start_time": "2023-05-08T21:09:44.597Z"
   },
   {
    "duration": 42,
    "start_time": "2023-05-08T21:09:44.615Z"
   },
   {
    "duration": 22,
    "start_time": "2023-05-08T21:09:44.659Z"
   },
   {
    "duration": 6,
    "start_time": "2023-05-08T21:09:44.684Z"
   },
   {
    "duration": 25,
    "start_time": "2023-05-08T21:09:44.692Z"
   },
   {
    "duration": 45,
    "start_time": "2023-05-08T21:09:44.720Z"
   },
   {
    "duration": 1968,
    "start_time": "2023-05-08T21:09:44.767Z"
   },
   {
    "duration": 7554,
    "start_time": "2023-05-08T21:09:46.743Z"
   },
   {
    "duration": 6,
    "start_time": "2023-05-08T21:09:54.298Z"
   },
   {
    "duration": 20,
    "start_time": "2023-05-08T21:09:54.307Z"
   },
   {
    "duration": 178,
    "start_time": "2023-05-08T21:09:54.340Z"
   },
   {
    "duration": 337,
    "start_time": "2023-05-08T21:09:54.520Z"
   },
   {
    "duration": 14,
    "start_time": "2023-05-08T21:09:54.859Z"
   },
   {
    "duration": 1192,
    "start_time": "2023-05-08T21:09:54.876Z"
   },
   {
    "duration": 18,
    "start_time": "2023-05-08T21:09:56.070Z"
   },
   {
    "duration": 217,
    "start_time": "2023-05-08T21:09:56.090Z"
   },
   {
    "duration": 320,
    "start_time": "2023-05-08T21:09:56.310Z"
   },
   {
    "duration": 3,
    "start_time": "2023-05-08T21:09:56.631Z"
   },
   {
    "duration": 306,
    "start_time": "2023-05-08T21:29:08.098Z"
   },
   {
    "duration": 328,
    "start_time": "2023-05-08T21:29:58.770Z"
   },
   {
    "duration": 24,
    "start_time": "2023-05-08T21:33:00.202Z"
   },
   {
    "duration": 22,
    "start_time": "2023-05-08T21:33:12.201Z"
   },
   {
    "duration": 24,
    "start_time": "2023-05-08T21:33:24.143Z"
   },
   {
    "duration": 318,
    "start_time": "2023-05-08T21:33:31.838Z"
   },
   {
    "duration": 313,
    "start_time": "2023-05-08T21:33:47.987Z"
   },
   {
    "duration": 388,
    "start_time": "2023-05-08T21:36:13.918Z"
   },
   {
    "duration": 1349,
    "start_time": "2023-05-09T11:24:35.380Z"
   },
   {
    "duration": 90,
    "start_time": "2023-05-09T11:24:36.731Z"
   },
   {
    "duration": 37,
    "start_time": "2023-05-09T11:24:36.822Z"
   },
   {
    "duration": 925,
    "start_time": "2023-05-09T11:24:36.860Z"
   },
   {
    "duration": 13,
    "start_time": "2023-05-09T11:24:37.793Z"
   },
   {
    "duration": 22,
    "start_time": "2023-05-09T11:24:37.807Z"
   },
   {
    "duration": 18,
    "start_time": "2023-05-09T11:24:37.830Z"
   },
   {
    "duration": 6,
    "start_time": "2023-05-09T11:24:37.850Z"
   },
   {
    "duration": 27,
    "start_time": "2023-05-09T11:24:37.858Z"
   },
   {
    "duration": 23,
    "start_time": "2023-05-09T11:24:37.886Z"
   },
   {
    "duration": 1760,
    "start_time": "2023-05-09T11:24:37.910Z"
   },
   {
    "duration": 7024,
    "start_time": "2023-05-09T11:24:39.672Z"
   },
   {
    "duration": 5,
    "start_time": "2023-05-09T11:24:46.698Z"
   },
   {
    "duration": 15,
    "start_time": "2023-05-09T11:24:46.705Z"
   },
   {
    "duration": 178,
    "start_time": "2023-05-09T11:24:46.722Z"
   },
   {
    "duration": 331,
    "start_time": "2023-05-09T11:24:46.902Z"
   },
   {
    "duration": 14,
    "start_time": "2023-05-09T11:24:47.236Z"
   },
   {
    "duration": 1036,
    "start_time": "2023-05-09T11:24:47.251Z"
   },
   {
    "duration": 14,
    "start_time": "2023-05-09T11:24:48.289Z"
   },
   {
    "duration": 204,
    "start_time": "2023-05-09T11:24:48.305Z"
   },
   {
    "duration": 351,
    "start_time": "2023-05-09T11:24:48.511Z"
   },
   {
    "duration": 2,
    "start_time": "2023-05-09T11:24:48.864Z"
   },
   {
    "duration": 183,
    "start_time": "2023-05-09T11:34:50.808Z"
   },
   {
    "duration": 90,
    "start_time": "2023-05-09T11:35:23.740Z"
   },
   {
    "duration": 106,
    "start_time": "2023-05-09T11:37:24.879Z"
   },
   {
    "duration": 83,
    "start_time": "2023-05-09T11:37:49.283Z"
   },
   {
    "duration": 2676,
    "start_time": "2023-05-09T11:49:29.051Z"
   },
   {
    "duration": 10,
    "start_time": "2023-05-09T11:50:01.510Z"
   },
   {
    "duration": 9,
    "start_time": "2023-05-09T11:51:57.953Z"
   },
   {
    "duration": 448,
    "start_time": "2023-05-09T11:52:03.072Z"
   },
   {
    "duration": 626,
    "start_time": "2023-05-09T11:54:13.618Z"
   },
   {
    "duration": 2652,
    "start_time": "2023-05-09T11:54:23.510Z"
   },
   {
    "duration": 597,
    "start_time": "2023-05-09T11:55:02.916Z"
   },
   {
    "duration": 95,
    "start_time": "2023-05-09T11:55:27.718Z"
   },
   {
    "duration": 209,
    "start_time": "2023-05-09T12:03:40.717Z"
   },
   {
    "duration": 203,
    "start_time": "2023-05-09T12:04:02.469Z"
   },
   {
    "duration": 251,
    "start_time": "2023-05-09T12:04:44.429Z"
   },
   {
    "duration": 202,
    "start_time": "2023-05-09T12:14:24.711Z"
   },
   {
    "duration": 222,
    "start_time": "2023-05-09T12:14:45.914Z"
   },
   {
    "duration": 331,
    "start_time": "2023-05-09T12:16:17.832Z"
   },
   {
    "duration": 236,
    "start_time": "2023-05-09T12:16:32.423Z"
   },
   {
    "duration": 232,
    "start_time": "2023-05-09T12:16:43.668Z"
   },
   {
    "duration": 233,
    "start_time": "2023-05-09T12:16:52.149Z"
   },
   {
    "duration": 217,
    "start_time": "2023-05-09T12:22:26.310Z"
   },
   {
    "duration": 412,
    "start_time": "2023-05-09T12:22:42.049Z"
   },
   {
    "duration": 208,
    "start_time": "2023-05-09T12:22:48.285Z"
   },
   {
    "duration": 7,
    "start_time": "2023-05-09T12:23:34.469Z"
   },
   {
    "duration": 252,
    "start_time": "2023-05-09T12:24:10.781Z"
   },
   {
    "duration": 9,
    "start_time": "2023-05-09T12:26:18.329Z"
   },
   {
    "duration": 258,
    "start_time": "2023-05-09T12:26:34.219Z"
   },
   {
    "duration": 211,
    "start_time": "2023-05-09T12:26:53.138Z"
   },
   {
    "duration": 222,
    "start_time": "2023-05-09T12:28:02.409Z"
   },
   {
    "duration": 375,
    "start_time": "2023-05-09T12:34:37.829Z"
   },
   {
    "duration": 238,
    "start_time": "2023-05-09T12:36:30.414Z"
   },
   {
    "duration": 249,
    "start_time": "2023-05-09T12:36:48.495Z"
   },
   {
    "duration": 386,
    "start_time": "2023-05-09T12:38:14.681Z"
   },
   {
    "duration": 237,
    "start_time": "2023-05-09T12:38:26.840Z"
   },
   {
    "duration": 419,
    "start_time": "2023-05-09T12:38:35.010Z"
   },
   {
    "duration": 235,
    "start_time": "2023-05-09T12:38:58.813Z"
   },
   {
    "duration": 318,
    "start_time": "2023-05-09T12:40:35.742Z"
   },
   {
    "duration": 241,
    "start_time": "2023-05-09T12:40:41.121Z"
   },
   {
    "duration": 246,
    "start_time": "2023-05-09T12:40:58.928Z"
   },
   {
    "duration": 249,
    "start_time": "2023-05-09T12:41:07.847Z"
   },
   {
    "duration": 369,
    "start_time": "2023-05-09T12:41:16.065Z"
   },
   {
    "duration": 261,
    "start_time": "2023-05-09T12:51:27.316Z"
   },
   {
    "duration": 26,
    "start_time": "2023-05-09T13:02:04.192Z"
   },
   {
    "duration": 160,
    "start_time": "2023-05-09T13:02:30.213Z"
   },
   {
    "duration": 188,
    "start_time": "2023-05-09T13:02:46.181Z"
   },
   {
    "duration": 151,
    "start_time": "2023-05-09T13:04:18.243Z"
   },
   {
    "duration": 138,
    "start_time": "2023-05-09T13:04:23.604Z"
   },
   {
    "duration": 143,
    "start_time": "2023-05-09T13:05:11.840Z"
   },
   {
    "duration": 43,
    "start_time": "2023-05-09T13:15:19.799Z"
   },
   {
    "duration": 40,
    "start_time": "2023-05-09T13:15:36.642Z"
   },
   {
    "duration": 112,
    "start_time": "2023-05-09T13:15:53.272Z"
   },
   {
    "duration": 124,
    "start_time": "2023-05-09T13:16:34.280Z"
   },
   {
    "duration": 147,
    "start_time": "2023-05-09T13:24:28.581Z"
   },
   {
    "duration": 149,
    "start_time": "2023-05-09T13:24:41.848Z"
   },
   {
    "duration": 219,
    "start_time": "2023-05-09T13:24:50.880Z"
   },
   {
    "duration": 123,
    "start_time": "2023-05-09T13:24:58.641Z"
   },
   {
    "duration": 126,
    "start_time": "2023-05-09T13:25:03.822Z"
   },
   {
    "duration": 165,
    "start_time": "2023-05-09T13:25:10.551Z"
   },
   {
    "duration": 178,
    "start_time": "2023-05-09T13:26:10.268Z"
   },
   {
    "duration": 162,
    "start_time": "2023-05-09T13:26:52.182Z"
   },
   {
    "duration": 1010,
    "start_time": "2023-05-09T13:27:05.430Z"
   },
   {
    "duration": 50,
    "start_time": "2023-05-09T13:27:06.441Z"
   },
   {
    "duration": 46,
    "start_time": "2023-05-09T13:27:06.492Z"
   },
   {
    "duration": 917,
    "start_time": "2023-05-09T13:27:06.540Z"
   },
   {
    "duration": 13,
    "start_time": "2023-05-09T13:27:07.459Z"
   },
   {
    "duration": 35,
    "start_time": "2023-05-09T13:27:07.474Z"
   },
   {
    "duration": 16,
    "start_time": "2023-05-09T13:27:07.511Z"
   },
   {
    "duration": 3,
    "start_time": "2023-05-09T13:27:07.529Z"
   },
   {
    "duration": 7,
    "start_time": "2023-05-09T13:27:07.533Z"
   },
   {
    "duration": 12,
    "start_time": "2023-05-09T13:27:07.542Z"
   },
   {
    "duration": 1784,
    "start_time": "2023-05-09T13:27:07.555Z"
   },
   {
    "duration": 7637,
    "start_time": "2023-05-09T13:27:09.340Z"
   },
   {
    "duration": 16,
    "start_time": "2023-05-09T13:27:16.979Z"
   },
   {
    "duration": 18,
    "start_time": "2023-05-09T13:27:17.007Z"
   },
   {
    "duration": 183,
    "start_time": "2023-05-09T13:27:17.027Z"
   },
   {
    "duration": 355,
    "start_time": "2023-05-09T13:27:17.212Z"
   },
   {
    "duration": 14,
    "start_time": "2023-05-09T13:27:17.569Z"
   },
   {
    "duration": 1048,
    "start_time": "2023-05-09T13:27:17.599Z"
   },
   {
    "duration": 13,
    "start_time": "2023-05-09T13:27:18.649Z"
   },
   {
    "duration": 213,
    "start_time": "2023-05-09T13:27:18.664Z"
   },
   {
    "duration": 344,
    "start_time": "2023-05-09T13:27:18.879Z"
   },
   {
    "duration": 304,
    "start_time": "2023-05-09T13:27:19.224Z"
   },
   {
    "duration": 176,
    "start_time": "2023-05-09T13:27:54.242Z"
   },
   {
    "duration": 255,
    "start_time": "2023-05-09T13:28:39.922Z"
   },
   {
    "duration": 146,
    "start_time": "2023-05-09T13:29:35.408Z"
   },
   {
    "duration": 270,
    "start_time": "2023-05-09T13:30:02.961Z"
   },
   {
    "duration": 144,
    "start_time": "2023-05-09T13:30:28.921Z"
   },
   {
    "duration": 140,
    "start_time": "2023-05-09T13:30:36.249Z"
   },
   {
    "duration": 138,
    "start_time": "2023-05-09T13:32:21.982Z"
   },
   {
    "duration": 131,
    "start_time": "2023-05-09T13:33:12.377Z"
   },
   {
    "duration": 224,
    "start_time": "2023-05-09T13:42:16.261Z"
   },
   {
    "duration": 201,
    "start_time": "2023-05-09T13:42:23.884Z"
   },
   {
    "duration": 201,
    "start_time": "2023-05-09T13:42:31.939Z"
   },
   {
    "duration": 103,
    "start_time": "2023-05-09T13:43:21.727Z"
   },
   {
    "duration": 14,
    "start_time": "2023-05-09T13:43:38.032Z"
   },
   {
    "duration": 17,
    "start_time": "2023-05-09T13:43:42.001Z"
   },
   {
    "duration": 195,
    "start_time": "2023-05-09T13:45:05.602Z"
   },
   {
    "duration": 234,
    "start_time": "2023-05-09T13:47:54.660Z"
   },
   {
    "duration": 332,
    "start_time": "2023-05-09T13:48:16.802Z"
   },
   {
    "duration": 187,
    "start_time": "2023-05-09T13:48:30.233Z"
   },
   {
    "duration": 196,
    "start_time": "2023-05-09T13:49:13.680Z"
   },
   {
    "duration": 403,
    "start_time": "2023-05-09T13:49:36.198Z"
   },
   {
    "duration": 607,
    "start_time": "2023-05-09T13:50:30.881Z"
   },
   {
    "duration": 525,
    "start_time": "2023-05-09T13:50:56.429Z"
   },
   {
    "duration": 663,
    "start_time": "2023-05-09T13:51:10.803Z"
   },
   {
    "duration": 1122,
    "start_time": "2023-05-09T13:53:47.013Z"
   },
   {
    "duration": 727,
    "start_time": "2023-05-09T13:54:42.820Z"
   },
   {
    "duration": 19,
    "start_time": "2023-05-09T13:54:58.150Z"
   },
   {
    "duration": 645,
    "start_time": "2023-05-09T13:55:08.070Z"
   },
   {
    "duration": 79,
    "start_time": "2023-05-09T13:55:27.135Z"
   },
   {
    "duration": 116,
    "start_time": "2023-05-09T13:55:40.108Z"
   },
   {
    "duration": 82,
    "start_time": "2023-05-09T13:55:57.476Z"
   },
   {
    "duration": 81,
    "start_time": "2023-05-09T13:56:11.169Z"
   },
   {
    "duration": 79,
    "start_time": "2023-05-09T13:56:16.204Z"
   },
   {
    "duration": 76,
    "start_time": "2023-05-09T13:56:21.111Z"
   },
   {
    "duration": 77,
    "start_time": "2023-05-09T13:56:28.553Z"
   },
   {
    "duration": 666,
    "start_time": "2023-05-09T13:56:42.008Z"
   },
   {
    "duration": 639,
    "start_time": "2023-05-09T13:57:50.898Z"
   },
   {
    "duration": 747,
    "start_time": "2023-05-09T13:59:18.205Z"
   },
   {
    "duration": 618,
    "start_time": "2023-05-09T13:59:33.449Z"
   },
   {
    "duration": 667,
    "start_time": "2023-05-09T14:01:40.513Z"
   },
   {
    "duration": 609,
    "start_time": "2023-05-09T14:02:28.253Z"
   },
   {
    "duration": 608,
    "start_time": "2023-05-09T14:03:49.368Z"
   },
   {
    "duration": 685,
    "start_time": "2023-05-09T14:04:58.069Z"
   },
   {
    "duration": 638,
    "start_time": "2023-05-09T14:07:12.840Z"
   },
   {
    "duration": 565,
    "start_time": "2023-05-09T14:07:42.548Z"
   },
   {
    "duration": 512,
    "start_time": "2023-05-09T14:14:34.274Z"
   },
   {
    "duration": 1423,
    "start_time": "2023-05-09T17:30:21.822Z"
   },
   {
    "duration": 215,
    "start_time": "2023-05-09T17:30:23.248Z"
   },
   {
    "duration": 55,
    "start_time": "2023-05-09T17:30:23.465Z"
   },
   {
    "duration": 1019,
    "start_time": "2023-05-09T17:30:23.521Z"
   },
   {
    "duration": 16,
    "start_time": "2023-05-09T17:30:24.542Z"
   },
   {
    "duration": 49,
    "start_time": "2023-05-09T17:30:24.559Z"
   },
   {
    "duration": 22,
    "start_time": "2023-05-09T17:30:24.609Z"
   },
   {
    "duration": 14,
    "start_time": "2023-05-09T17:30:24.632Z"
   },
   {
    "duration": 34,
    "start_time": "2023-05-09T17:30:24.648Z"
   },
   {
    "duration": 36,
    "start_time": "2023-05-09T17:30:24.684Z"
   },
   {
    "duration": 2143,
    "start_time": "2023-05-09T17:30:24.723Z"
   },
   {
    "duration": 7748,
    "start_time": "2023-05-09T17:30:26.868Z"
   },
   {
    "duration": 6,
    "start_time": "2023-05-09T17:30:34.618Z"
   },
   {
    "duration": 26,
    "start_time": "2023-05-09T17:30:34.626Z"
   },
   {
    "duration": 187,
    "start_time": "2023-05-09T17:30:34.654Z"
   },
   {
    "duration": 335,
    "start_time": "2023-05-09T17:30:34.843Z"
   },
   {
    "duration": 14,
    "start_time": "2023-05-09T17:30:35.180Z"
   },
   {
    "duration": 1147,
    "start_time": "2023-05-09T17:30:35.196Z"
   },
   {
    "duration": 13,
    "start_time": "2023-05-09T17:30:36.345Z"
   },
   {
    "duration": 216,
    "start_time": "2023-05-09T17:30:36.360Z"
   },
   {
    "duration": 420,
    "start_time": "2023-05-09T17:30:36.578Z"
   },
   {
    "duration": 313,
    "start_time": "2023-05-09T17:30:36.999Z"
   },
   {
    "duration": 180,
    "start_time": "2023-05-09T17:30:37.314Z"
   },
   {
    "duration": 291,
    "start_time": "2023-05-09T17:30:37.496Z"
   },
   {
    "duration": 161,
    "start_time": "2023-05-09T17:30:37.790Z"
   },
   {
    "duration": 140,
    "start_time": "2023-05-09T17:30:37.953Z"
   },
   {
    "duration": 621,
    "start_time": "2023-05-09T17:30:38.094Z"
   },
   {
    "duration": 30,
    "start_time": "2023-05-09T17:30:38.718Z"
   },
   {
    "duration": 166,
    "start_time": "2023-05-09T17:54:15.662Z"
   },
   {
    "duration": 211,
    "start_time": "2023-05-09T17:54:32.115Z"
   },
   {
    "duration": 28,
    "start_time": "2023-05-09T18:03:45.935Z"
   },
   {
    "duration": 290,
    "start_time": "2023-05-09T18:04:41.674Z"
   },
   {
    "duration": 1098,
    "start_time": "2023-05-09T18:06:00.202Z"
   },
   {
    "duration": 682,
    "start_time": "2023-05-09T18:06:35.072Z"
   },
   {
    "duration": 287,
    "start_time": "2023-05-09T18:07:20.985Z"
   },
   {
    "duration": 207,
    "start_time": "2023-05-09T18:08:20.404Z"
   },
   {
    "duration": 26,
    "start_time": "2023-05-09T18:09:24.622Z"
   },
   {
    "duration": 193,
    "start_time": "2023-05-09T18:09:55.207Z"
   },
   {
    "duration": 165,
    "start_time": "2023-05-09T18:10:10.818Z"
   },
   {
    "duration": 149,
    "start_time": "2023-05-09T18:15:02.307Z"
   },
   {
    "duration": 263,
    "start_time": "2023-05-09T18:17:07.430Z"
   },
   {
    "duration": 163,
    "start_time": "2023-05-09T18:17:29.662Z"
   },
   {
    "duration": 168,
    "start_time": "2023-05-09T18:18:31.935Z"
   },
   {
    "duration": 173,
    "start_time": "2023-05-09T18:19:46.876Z"
   },
   {
    "duration": 183,
    "start_time": "2023-05-09T18:19:51.214Z"
   },
   {
    "duration": 150,
    "start_time": "2023-05-09T18:19:54.557Z"
   },
   {
    "duration": 315,
    "start_time": "2023-05-09T18:39:58.615Z"
   },
   {
    "duration": 166,
    "start_time": "2023-05-09T18:40:21.797Z"
   },
   {
    "duration": 202,
    "start_time": "2023-05-09T18:40:30.612Z"
   },
   {
    "duration": 167,
    "start_time": "2023-05-09T18:40:49.594Z"
   },
   {
    "duration": 211,
    "start_time": "2023-05-09T19:00:24.379Z"
   },
   {
    "duration": 172,
    "start_time": "2023-05-09T19:00:48.181Z"
   },
   {
    "duration": 42,
    "start_time": "2023-05-09T19:01:10.943Z"
   },
   {
    "duration": 200,
    "start_time": "2023-05-09T19:01:18.283Z"
   },
   {
    "duration": 184,
    "start_time": "2023-05-09T19:02:40.759Z"
   },
   {
    "duration": 187,
    "start_time": "2023-05-09T19:04:12.202Z"
   },
   {
    "duration": 190,
    "start_time": "2023-05-09T19:04:25.230Z"
   },
   {
    "duration": 184,
    "start_time": "2023-05-09T19:05:56.959Z"
   },
   {
    "duration": 162,
    "start_time": "2023-05-09T19:06:58.834Z"
   },
   {
    "duration": 157,
    "start_time": "2023-05-09T19:07:13.605Z"
   },
   {
    "duration": 203,
    "start_time": "2023-05-09T19:09:00.214Z"
   },
   {
    "duration": 62,
    "start_time": "2023-05-09T19:18:19.334Z"
   },
   {
    "duration": 13,
    "start_time": "2023-05-09T19:26:17.726Z"
   },
   {
    "duration": 22,
    "start_time": "2023-05-09T19:27:10.874Z"
   },
   {
    "duration": 22,
    "start_time": "2023-05-09T19:27:15.875Z"
   },
   {
    "duration": 1262,
    "start_time": "2023-05-09T19:27:30.382Z"
   },
   {
    "duration": 58,
    "start_time": "2023-05-09T19:27:31.651Z"
   },
   {
    "duration": 70,
    "start_time": "2023-05-09T19:27:31.711Z"
   },
   {
    "duration": 1150,
    "start_time": "2023-05-09T19:27:31.783Z"
   },
   {
    "duration": 21,
    "start_time": "2023-05-09T19:27:32.942Z"
   },
   {
    "duration": 42,
    "start_time": "2023-05-09T19:27:32.965Z"
   },
   {
    "duration": 22,
    "start_time": "2023-05-09T19:27:33.009Z"
   },
   {
    "duration": 10,
    "start_time": "2023-05-09T19:27:33.048Z"
   },
   {
    "duration": 29,
    "start_time": "2023-05-09T19:27:33.064Z"
   },
   {
    "duration": 21,
    "start_time": "2023-05-09T19:27:33.095Z"
   },
   {
    "duration": 2145,
    "start_time": "2023-05-09T19:27:33.118Z"
   },
   {
    "duration": 8755,
    "start_time": "2023-05-09T19:27:35.272Z"
   },
   {
    "duration": 11,
    "start_time": "2023-05-09T19:27:44.029Z"
   },
   {
    "duration": 40,
    "start_time": "2023-05-09T19:27:44.044Z"
   },
   {
    "duration": 198,
    "start_time": "2023-05-09T19:27:44.086Z"
   },
   {
    "duration": 384,
    "start_time": "2023-05-09T19:27:44.286Z"
   },
   {
    "duration": 16,
    "start_time": "2023-05-09T19:27:44.672Z"
   },
   {
    "duration": 1202,
    "start_time": "2023-05-09T19:27:44.690Z"
   },
   {
    "duration": 20,
    "start_time": "2023-05-09T19:27:45.895Z"
   },
   {
    "duration": 279,
    "start_time": "2023-05-09T19:27:45.918Z"
   },
   {
    "duration": 401,
    "start_time": "2023-05-09T19:27:46.200Z"
   },
   {
    "duration": 402,
    "start_time": "2023-05-09T19:27:46.603Z"
   },
   {
    "duration": 191,
    "start_time": "2023-05-09T19:27:47.007Z"
   },
   {
    "duration": 325,
    "start_time": "2023-05-09T19:27:47.200Z"
   },
   {
    "duration": 170,
    "start_time": "2023-05-09T19:27:47.527Z"
   },
   {
    "duration": 171,
    "start_time": "2023-05-09T19:27:47.699Z"
   },
   {
    "duration": 698,
    "start_time": "2023-05-09T19:27:47.872Z"
   },
   {
    "duration": 201,
    "start_time": "2023-05-09T19:27:48.572Z"
   },
   {
    "duration": 145,
    "start_time": "2023-05-09T19:27:48.776Z"
   },
   {
    "duration": 161,
    "start_time": "2023-05-09T19:27:48.923Z"
   },
   {
    "duration": 22,
    "start_time": "2023-05-09T19:27:49.086Z"
   },
   {
    "duration": 35,
    "start_time": "2023-05-09T19:27:49.110Z"
   },
   {
    "duration": 33,
    "start_time": "2023-05-09T19:28:18.617Z"
   },
   {
    "duration": 21,
    "start_time": "2023-05-09T19:29:01.874Z"
   },
   {
    "duration": 17,
    "start_time": "2023-05-09T19:29:28.675Z"
   },
   {
    "duration": 37,
    "start_time": "2023-05-09T19:32:22.524Z"
   },
   {
    "duration": 194,
    "start_time": "2023-05-09T19:36:07.288Z"
   },
   {
    "duration": 193,
    "start_time": "2023-05-09T19:36:33.402Z"
   },
   {
    "duration": 359,
    "start_time": "2023-05-09T19:37:32.505Z"
   },
   {
    "duration": 681,
    "start_time": "2023-05-09T19:37:44.632Z"
   },
   {
    "duration": 354,
    "start_time": "2023-05-09T19:37:52.723Z"
   },
   {
    "duration": 571,
    "start_time": "2023-05-09T19:38:24.813Z"
   },
   {
    "duration": 242,
    "start_time": "2023-05-09T19:39:09.853Z"
   },
   {
    "duration": 250,
    "start_time": "2023-05-09T19:39:13.110Z"
   },
   {
    "duration": 226,
    "start_time": "2023-05-09T19:39:20.603Z"
   },
   {
    "duration": 500,
    "start_time": "2023-05-09T19:43:09.644Z"
   },
   {
    "duration": 10,
    "start_time": "2023-05-09T19:48:59.580Z"
   },
   {
    "duration": 5,
    "start_time": "2023-05-09T19:51:01.286Z"
   },
   {
    "duration": 7,
    "start_time": "2023-05-09T19:51:10.980Z"
   },
   {
    "duration": 1306,
    "start_time": "2023-05-09T19:52:38.082Z"
   },
   {
    "duration": 66,
    "start_time": "2023-05-09T19:52:39.390Z"
   },
   {
    "duration": 72,
    "start_time": "2023-05-09T19:52:39.458Z"
   },
   {
    "duration": 1134,
    "start_time": "2023-05-09T19:52:39.531Z"
   },
   {
    "duration": 21,
    "start_time": "2023-05-09T19:52:40.667Z"
   },
   {
    "duration": 28,
    "start_time": "2023-05-09T19:52:40.690Z"
   },
   {
    "duration": 46,
    "start_time": "2023-05-09T19:52:40.719Z"
   },
   {
    "duration": 12,
    "start_time": "2023-05-09T19:52:40.769Z"
   },
   {
    "duration": 20,
    "start_time": "2023-05-09T19:52:40.785Z"
   },
   {
    "duration": 41,
    "start_time": "2023-05-09T19:52:40.809Z"
   },
   {
    "duration": 2157,
    "start_time": "2023-05-09T19:52:40.855Z"
   },
   {
    "duration": 9774,
    "start_time": "2023-05-09T19:52:43.014Z"
   },
   {
    "duration": 10,
    "start_time": "2023-05-09T19:52:52.791Z"
   },
   {
    "duration": 14,
    "start_time": "2023-05-09T19:52:52.802Z"
   },
   {
    "duration": 36,
    "start_time": "2023-05-09T19:52:52.818Z"
   },
   {
    "duration": 222,
    "start_time": "2023-05-09T19:52:52.856Z"
   },
   {
    "duration": 408,
    "start_time": "2023-05-09T19:52:53.080Z"
   },
   {
    "duration": 17,
    "start_time": "2023-05-09T19:52:53.490Z"
   },
   {
    "duration": 1248,
    "start_time": "2023-05-09T19:52:53.510Z"
   },
   {
    "duration": 25,
    "start_time": "2023-05-09T19:52:54.764Z"
   },
   {
    "duration": 222,
    "start_time": "2023-05-09T19:52:54.793Z"
   },
   {
    "duration": 385,
    "start_time": "2023-05-09T19:52:55.016Z"
   },
   {
    "duration": 330,
    "start_time": "2023-05-09T19:52:55.403Z"
   },
   {
    "duration": 241,
    "start_time": "2023-05-09T19:52:55.735Z"
   },
   {
    "duration": 343,
    "start_time": "2023-05-09T19:52:55.980Z"
   },
   {
    "duration": 173,
    "start_time": "2023-05-09T19:52:56.326Z"
   },
   {
    "duration": 180,
    "start_time": "2023-05-09T19:52:56.501Z"
   },
   {
    "duration": 718,
    "start_time": "2023-05-09T19:52:56.686Z"
   },
   {
    "duration": 202,
    "start_time": "2023-05-09T19:52:57.406Z"
   },
   {
    "duration": 204,
    "start_time": "2023-05-09T19:52:57.610Z"
   },
   {
    "duration": 172,
    "start_time": "2023-05-09T19:52:57.816Z"
   },
   {
    "duration": 500,
    "start_time": "2023-05-09T19:52:57.989Z"
   },
   {
    "duration": 12,
    "start_time": "2023-05-09T19:52:58.491Z"
   },
   {
    "duration": 187,
    "start_time": "2023-05-09T19:58:56.221Z"
   },
   {
    "duration": 314,
    "start_time": "2023-05-09T20:00:22.068Z"
   },
   {
    "duration": 559,
    "start_time": "2023-05-09T20:01:10.041Z"
   },
   {
    "duration": 845,
    "start_time": "2023-05-09T20:33:16.673Z"
   },
   {
    "duration": 12,
    "start_time": "2023-05-09T20:33:34.522Z"
   },
   {
    "duration": 19,
    "start_time": "2023-05-09T20:40:26.668Z"
   },
   {
    "duration": 15,
    "start_time": "2023-05-09T20:47:48.583Z"
   },
   {
    "duration": 24,
    "start_time": "2023-05-09T20:50:12.430Z"
   },
   {
    "duration": 1142,
    "start_time": "2023-05-09T21:34:02.748Z"
   },
   {
    "duration": 58,
    "start_time": "2023-05-09T21:34:03.891Z"
   },
   {
    "duration": 46,
    "start_time": "2023-05-09T21:34:03.950Z"
   },
   {
    "duration": 1002,
    "start_time": "2023-05-09T21:34:03.997Z"
   },
   {
    "duration": 15,
    "start_time": "2023-05-09T21:34:05.003Z"
   },
   {
    "duration": 46,
    "start_time": "2023-05-09T21:34:05.020Z"
   },
   {
    "duration": 22,
    "start_time": "2023-05-09T21:34:05.068Z"
   },
   {
    "duration": 4,
    "start_time": "2023-05-09T21:34:05.092Z"
   },
   {
    "duration": 26,
    "start_time": "2023-05-09T21:34:05.098Z"
   },
   {
    "duration": 28,
    "start_time": "2023-05-09T21:34:05.126Z"
   },
   {
    "duration": 1938,
    "start_time": "2023-05-09T21:34:05.155Z"
   },
   {
    "duration": 7311,
    "start_time": "2023-05-09T21:34:07.095Z"
   },
   {
    "duration": 9,
    "start_time": "2023-05-09T21:34:14.407Z"
   },
   {
    "duration": 25,
    "start_time": "2023-05-09T21:34:14.419Z"
   },
   {
    "duration": 28,
    "start_time": "2023-05-09T21:34:14.445Z"
   },
   {
    "duration": 180,
    "start_time": "2023-05-09T21:34:14.475Z"
   },
   {
    "duration": 323,
    "start_time": "2023-05-09T21:34:14.656Z"
   },
   {
    "duration": 14,
    "start_time": "2023-05-09T21:34:14.981Z"
   },
   {
    "duration": 1121,
    "start_time": "2023-05-09T21:34:14.997Z"
   },
   {
    "duration": 28,
    "start_time": "2023-05-09T21:34:16.120Z"
   },
   {
    "duration": 206,
    "start_time": "2023-05-09T21:34:16.150Z"
   },
   {
    "duration": 361,
    "start_time": "2023-05-09T21:34:16.359Z"
   },
   {
    "duration": 300,
    "start_time": "2023-05-09T21:34:16.721Z"
   },
   {
    "duration": 201,
    "start_time": "2023-05-09T21:34:17.023Z"
   },
   {
    "duration": 290,
    "start_time": "2023-05-09T21:34:17.226Z"
   },
   {
    "duration": 161,
    "start_time": "2023-05-09T21:34:17.518Z"
   },
   {
    "duration": 140,
    "start_time": "2023-05-09T21:34:17.680Z"
   },
   {
    "duration": 627,
    "start_time": "2023-05-09T21:34:17.822Z"
   },
   {
    "duration": 172,
    "start_time": "2023-05-09T21:34:18.451Z"
   },
   {
    "duration": 149,
    "start_time": "2023-05-09T21:34:18.624Z"
   },
   {
    "duration": 142,
    "start_time": "2023-05-09T21:34:18.775Z"
   },
   {
    "duration": 443,
    "start_time": "2023-05-09T21:34:18.919Z"
   },
   {
    "duration": 625,
    "start_time": "2023-05-09T21:34:19.364Z"
   },
   {
    "duration": 14,
    "start_time": "2023-05-09T21:34:19.991Z"
   },
   {
    "duration": 26,
    "start_time": "2023-05-09T21:34:20.007Z"
   },
   {
    "duration": 1083,
    "start_time": "2023-05-10T11:59:24.085Z"
   },
   {
    "duration": 83,
    "start_time": "2023-05-10T11:59:25.170Z"
   },
   {
    "duration": 39,
    "start_time": "2023-05-10T11:59:25.586Z"
   },
   {
    "duration": 827,
    "start_time": "2023-05-10T11:59:42.837Z"
   },
   {
    "duration": 1455,
    "start_time": "2023-05-10T16:09:31.851Z"
   },
   {
    "duration": 487,
    "start_time": "2023-05-10T16:09:33.308Z"
   },
   {
    "duration": 53,
    "start_time": "2023-05-10T16:09:33.796Z"
   },
   {
    "duration": 1126,
    "start_time": "2023-05-10T16:09:48.313Z"
   },
   {
    "duration": 38,
    "start_time": "2023-05-10T16:10:03.330Z"
   },
   {
    "duration": 52,
    "start_time": "2023-05-10T16:10:11.891Z"
   },
   {
    "duration": 4,
    "start_time": "2023-05-10T16:10:38.630Z"
   },
   {
    "duration": 75,
    "start_time": "2023-05-10T16:10:38.636Z"
   },
   {
    "duration": 50,
    "start_time": "2023-05-10T16:10:38.713Z"
   },
   {
    "duration": 1198,
    "start_time": "2023-05-10T16:10:38.764Z"
   },
   {
    "duration": 16,
    "start_time": "2023-05-10T16:10:39.964Z"
   },
   {
    "duration": 57,
    "start_time": "2023-05-10T16:10:39.982Z"
   },
   {
    "duration": 21,
    "start_time": "2023-05-10T16:10:40.041Z"
   },
   {
    "duration": 1293,
    "start_time": "2023-05-10T16:11:16.504Z"
   },
   {
    "duration": 63,
    "start_time": "2023-05-10T16:11:17.799Z"
   },
   {
    "duration": 46,
    "start_time": "2023-05-10T16:11:17.863Z"
   },
   {
    "duration": 1101,
    "start_time": "2023-05-10T16:11:17.910Z"
   },
   {
    "duration": 24,
    "start_time": "2023-05-10T16:11:19.014Z"
   },
   {
    "duration": 115,
    "start_time": "2023-05-10T16:11:19.040Z"
   },
   {
    "duration": 23,
    "start_time": "2023-05-10T16:11:19.157Z"
   },
   {
    "duration": 5,
    "start_time": "2023-05-10T16:11:19.182Z"
   },
   {
    "duration": 21,
    "start_time": "2023-05-10T16:11:19.189Z"
   },
   {
    "duration": 3,
    "start_time": "2023-05-10T16:27:53.742Z"
   },
   {
    "duration": 74,
    "start_time": "2023-05-10T16:27:53.747Z"
   },
   {
    "duration": 58,
    "start_time": "2023-05-10T16:27:53.824Z"
   },
   {
    "duration": 1269,
    "start_time": "2023-05-10T16:27:53.885Z"
   },
   {
    "duration": 15,
    "start_time": "2023-05-10T16:27:55.156Z"
   },
   {
    "duration": 29,
    "start_time": "2023-05-10T16:27:55.173Z"
   },
   {
    "duration": 59,
    "start_time": "2023-05-10T16:27:55.204Z"
   },
   {
    "duration": 13,
    "start_time": "2023-05-10T16:27:55.265Z"
   },
   {
    "duration": 18,
    "start_time": "2023-05-10T16:27:55.280Z"
   },
   {
    "duration": 40,
    "start_time": "2023-05-10T16:27:55.300Z"
   },
   {
    "duration": 25,
    "start_time": "2023-05-10T16:28:46.498Z"
   },
   {
    "duration": 25,
    "start_time": "2023-05-10T16:29:35.243Z"
   },
   {
    "duration": 22,
    "start_time": "2023-05-10T16:29:37.774Z"
   },
   {
    "duration": 7,
    "start_time": "2023-05-10T16:31:03.804Z"
   },
   {
    "duration": 121,
    "start_time": "2023-05-10T16:31:20.677Z"
   },
   {
    "duration": 4,
    "start_time": "2023-05-10T16:31:47.403Z"
   },
   {
    "duration": 4,
    "start_time": "2023-05-10T16:31:50.383Z"
   },
   {
    "duration": 6,
    "start_time": "2023-05-10T16:31:59.847Z"
   },
   {
    "duration": 5,
    "start_time": "2023-05-10T16:34:11.602Z"
   },
   {
    "duration": 5,
    "start_time": "2023-05-10T16:34:20.983Z"
   },
   {
    "duration": 14,
    "start_time": "2023-05-10T16:36:20.562Z"
   },
   {
    "duration": 31,
    "start_time": "2023-05-10T16:43:40.347Z"
   },
   {
    "duration": 15,
    "start_time": "2023-05-10T16:44:46.543Z"
   },
   {
    "duration": 28,
    "start_time": "2023-05-10T16:44:58.247Z"
   },
   {
    "duration": 16,
    "start_time": "2023-05-10T16:55:35.718Z"
   },
   {
    "duration": 8,
    "start_time": "2023-05-10T16:56:07.731Z"
   },
   {
    "duration": 41,
    "start_time": "2023-05-10T17:02:13.353Z"
   },
   {
    "duration": 562,
    "start_time": "2023-05-10T17:02:51.707Z"
   },
   {
    "duration": 508,
    "start_time": "2023-05-10T17:08:16.908Z"
   },
   {
    "duration": 506,
    "start_time": "2023-05-10T17:09:04.402Z"
   },
   {
    "duration": 1245,
    "start_time": "2023-05-10T17:09:25.559Z"
   },
   {
    "duration": 69,
    "start_time": "2023-05-10T17:09:26.806Z"
   },
   {
    "duration": 45,
    "start_time": "2023-05-10T17:09:26.877Z"
   },
   {
    "duration": 1135,
    "start_time": "2023-05-10T17:09:26.923Z"
   },
   {
    "duration": 17,
    "start_time": "2023-05-10T17:09:28.061Z"
   },
   {
    "duration": 27,
    "start_time": "2023-05-10T17:09:28.079Z"
   },
   {
    "duration": 51,
    "start_time": "2023-05-10T17:09:28.108Z"
   },
   {
    "duration": 5,
    "start_time": "2023-05-10T17:09:28.161Z"
   },
   {
    "duration": 18,
    "start_time": "2023-05-10T17:09:28.168Z"
   },
   {
    "duration": 19,
    "start_time": "2023-05-10T17:09:28.187Z"
   },
   {
    "duration": 51,
    "start_time": "2023-05-10T17:09:28.208Z"
   },
   {
    "duration": 43,
    "start_time": "2023-05-10T17:09:32.705Z"
   },
   {
    "duration": 482,
    "start_time": "2023-05-10T17:09:50.806Z"
   },
   {
    "duration": 13,
    "start_time": "2023-05-10T17:11:18.830Z"
   },
   {
    "duration": 14,
    "start_time": "2023-05-10T17:25:44.592Z"
   },
   {
    "duration": 10,
    "start_time": "2023-05-10T17:32:37.476Z"
   },
   {
    "duration": 6,
    "start_time": "2023-05-10T17:32:54.193Z"
   },
   {
    "duration": 94,
    "start_time": "2023-05-10T17:33:33.292Z"
   },
   {
    "duration": 1498,
    "start_time": "2023-05-10T17:35:21.218Z"
   },
   {
    "duration": 94,
    "start_time": "2023-05-10T17:35:22.719Z"
   },
   {
    "duration": 64,
    "start_time": "2023-05-10T17:35:22.815Z"
   },
   {
    "duration": 1338,
    "start_time": "2023-05-10T17:35:22.882Z"
   },
   {
    "duration": 24,
    "start_time": "2023-05-10T17:35:24.223Z"
   },
   {
    "duration": 54,
    "start_time": "2023-05-10T17:35:24.249Z"
   },
   {
    "duration": 37,
    "start_time": "2023-05-10T17:35:24.305Z"
   },
   {
    "duration": 32,
    "start_time": "2023-05-10T17:35:24.344Z"
   },
   {
    "duration": 34,
    "start_time": "2023-05-10T17:35:24.378Z"
   },
   {
    "duration": 22,
    "start_time": "2023-05-10T17:35:24.414Z"
   },
   {
    "duration": 47,
    "start_time": "2023-05-10T17:35:24.438Z"
   },
   {
    "duration": 556,
    "start_time": "2023-05-10T17:35:24.487Z"
   },
   {
    "duration": 33,
    "start_time": "2023-05-10T17:35:25.047Z"
   },
   {
    "duration": 25,
    "start_time": "2023-05-10T17:35:25.084Z"
   },
   {
    "duration": 7,
    "start_time": "2023-05-10T17:35:25.111Z"
   },
   {
    "duration": 2365,
    "start_time": "2023-05-10T17:35:57.097Z"
   },
   {
    "duration": 537,
    "start_time": "2023-05-10T17:36:23.976Z"
   },
   {
    "duration": 1229,
    "start_time": "2023-05-10T17:36:49.260Z"
   },
   {
    "duration": 59,
    "start_time": "2023-05-10T17:36:50.491Z"
   },
   {
    "duration": 58,
    "start_time": "2023-05-10T17:36:50.553Z"
   },
   {
    "duration": 1224,
    "start_time": "2023-05-10T17:36:50.613Z"
   },
   {
    "duration": 23,
    "start_time": "2023-05-10T17:36:51.845Z"
   },
   {
    "duration": 37,
    "start_time": "2023-05-10T17:36:51.870Z"
   },
   {
    "duration": 20,
    "start_time": "2023-05-10T17:36:51.909Z"
   },
   {
    "duration": 16,
    "start_time": "2023-05-10T17:36:51.931Z"
   },
   {
    "duration": 48,
    "start_time": "2023-05-10T17:36:51.949Z"
   },
   {
    "duration": 14,
    "start_time": "2023-05-10T17:36:51.999Z"
   },
   {
    "duration": 22,
    "start_time": "2023-05-10T17:36:52.015Z"
   },
   {
    "duration": 41,
    "start_time": "2023-05-10T17:36:52.039Z"
   },
   {
    "duration": 12,
    "start_time": "2023-05-10T17:36:52.081Z"
   },
   {
    "duration": 4,
    "start_time": "2023-05-10T17:36:52.096Z"
   },
   {
    "duration": 19,
    "start_time": "2023-05-10T17:36:52.102Z"
   },
   {
    "duration": 2332,
    "start_time": "2023-05-10T17:36:54.899Z"
   },
   {
    "duration": 10078,
    "start_time": "2023-05-10T17:37:07.039Z"
   },
   {
    "duration": 11,
    "start_time": "2023-05-10T17:37:17.119Z"
   },
   {
    "duration": 21,
    "start_time": "2023-05-10T17:37:22.838Z"
   },
   {
    "duration": 1377,
    "start_time": "2023-05-10T17:38:23.588Z"
   },
   {
    "duration": 66,
    "start_time": "2023-05-10T17:38:24.968Z"
   },
   {
    "duration": 82,
    "start_time": "2023-05-10T17:38:25.037Z"
   },
   {
    "duration": 1305,
    "start_time": "2023-05-10T17:38:25.121Z"
   },
   {
    "duration": 28,
    "start_time": "2023-05-10T17:38:26.429Z"
   },
   {
    "duration": 55,
    "start_time": "2023-05-10T17:38:26.461Z"
   },
   {
    "duration": 24,
    "start_time": "2023-05-10T17:38:26.518Z"
   },
   {
    "duration": 23,
    "start_time": "2023-05-10T17:38:26.544Z"
   },
   {
    "duration": 22,
    "start_time": "2023-05-10T17:38:26.570Z"
   },
   {
    "duration": 28,
    "start_time": "2023-05-10T17:38:26.595Z"
   },
   {
    "duration": 50,
    "start_time": "2023-05-10T17:38:26.625Z"
   },
   {
    "duration": 41,
    "start_time": "2023-05-10T17:38:26.678Z"
   },
   {
    "duration": 35,
    "start_time": "2023-05-10T17:38:26.721Z"
   },
   {
    "duration": 25,
    "start_time": "2023-05-10T17:38:26.772Z"
   },
   {
    "duration": 10,
    "start_time": "2023-05-10T17:38:26.799Z"
   },
   {
    "duration": 2219,
    "start_time": "2023-05-10T17:38:26.811Z"
   },
   {
    "duration": 10291,
    "start_time": "2023-05-10T17:38:29.032Z"
   },
   {
    "duration": 8,
    "start_time": "2023-05-10T17:38:39.325Z"
   },
   {
    "duration": 10,
    "start_time": "2023-05-10T17:39:27.272Z"
   },
   {
    "duration": 13,
    "start_time": "2023-05-10T17:39:40.506Z"
   },
   {
    "duration": 13,
    "start_time": "2023-05-10T17:50:09.073Z"
   },
   {
    "duration": 16,
    "start_time": "2023-05-10T17:50:16.437Z"
   },
   {
    "duration": 18,
    "start_time": "2023-05-10T17:51:37.470Z"
   },
   {
    "duration": 53,
    "start_time": "2023-05-10T17:53:08.691Z"
   },
   {
    "duration": 17,
    "start_time": "2023-05-10T17:55:11.769Z"
   },
   {
    "duration": 187,
    "start_time": "2023-05-10T17:58:45.322Z"
   },
   {
    "duration": 176,
    "start_time": "2023-05-10T17:59:38.421Z"
   },
   {
    "duration": 178,
    "start_time": "2023-05-10T18:02:34.086Z"
   },
   {
    "duration": 443,
    "start_time": "2023-05-10T18:02:59.919Z"
   },
   {
    "duration": 14,
    "start_time": "2023-05-10T18:03:08.179Z"
   },
   {
    "duration": 1190,
    "start_time": "2023-05-10T18:04:51.259Z"
   },
   {
    "duration": 68,
    "start_time": "2023-05-10T18:04:52.452Z"
   },
   {
    "duration": 60,
    "start_time": "2023-05-10T18:04:52.522Z"
   },
   {
    "duration": 1161,
    "start_time": "2023-05-10T18:04:52.584Z"
   },
   {
    "duration": 19,
    "start_time": "2023-05-10T18:04:53.749Z"
   },
   {
    "duration": 66,
    "start_time": "2023-05-10T18:04:53.770Z"
   },
   {
    "duration": 36,
    "start_time": "2023-05-10T18:04:53.838Z"
   },
   {
    "duration": 8,
    "start_time": "2023-05-10T18:04:53.876Z"
   },
   {
    "duration": 58,
    "start_time": "2023-05-10T18:04:53.886Z"
   },
   {
    "duration": 45,
    "start_time": "2023-05-10T18:04:53.946Z"
   },
   {
    "duration": 70,
    "start_time": "2023-05-10T18:04:53.992Z"
   },
   {
    "duration": 33,
    "start_time": "2023-05-10T18:04:54.064Z"
   },
   {
    "duration": 22,
    "start_time": "2023-05-10T18:04:54.098Z"
   },
   {
    "duration": 18,
    "start_time": "2023-05-10T18:04:54.122Z"
   },
   {
    "duration": 24,
    "start_time": "2023-05-10T18:04:54.142Z"
   },
   {
    "duration": 2037,
    "start_time": "2023-05-10T18:04:54.168Z"
   },
   {
    "duration": 9801,
    "start_time": "2023-05-10T18:04:56.208Z"
   },
   {
    "duration": 7,
    "start_time": "2023-05-10T18:05:06.011Z"
   },
   {
    "duration": 20,
    "start_time": "2023-05-10T18:05:06.020Z"
   },
   {
    "duration": 32,
    "start_time": "2023-05-10T18:05:06.047Z"
   },
   {
    "duration": 32,
    "start_time": "2023-05-10T18:05:06.081Z"
   },
   {
    "duration": 22,
    "start_time": "2023-05-10T18:05:06.115Z"
   },
   {
    "duration": 202,
    "start_time": "2023-05-10T18:05:06.139Z"
   },
   {
    "duration": 379,
    "start_time": "2023-05-10T18:05:06.345Z"
   },
   {
    "duration": 35,
    "start_time": "2023-05-10T18:05:06.726Z"
   },
   {
    "duration": 14,
    "start_time": "2023-05-10T18:15:40.460Z"
   },
   {
    "duration": 110,
    "start_time": "2023-05-10T18:16:23.692Z"
   },
   {
    "duration": 11,
    "start_time": "2023-05-10T18:16:37.259Z"
   },
   {
    "duration": 15,
    "start_time": "2023-05-10T18:16:53.483Z"
   },
   {
    "duration": 1442,
    "start_time": "2023-05-10T18:17:16.699Z"
   },
   {
    "duration": 62,
    "start_time": "2023-05-10T18:17:18.145Z"
   },
   {
    "duration": 52,
    "start_time": "2023-05-10T18:17:18.209Z"
   },
   {
    "duration": 1080,
    "start_time": "2023-05-10T18:17:18.263Z"
   },
   {
    "duration": 22,
    "start_time": "2023-05-10T18:17:19.349Z"
   },
   {
    "duration": 28,
    "start_time": "2023-05-10T18:17:19.373Z"
   },
   {
    "duration": 21,
    "start_time": "2023-05-10T18:17:19.403Z"
   },
   {
    "duration": 22,
    "start_time": "2023-05-10T18:17:19.426Z"
   },
   {
    "duration": 26,
    "start_time": "2023-05-10T18:17:19.451Z"
   },
   {
    "duration": 21,
    "start_time": "2023-05-10T18:17:19.478Z"
   },
   {
    "duration": 25,
    "start_time": "2023-05-10T18:17:19.501Z"
   },
   {
    "duration": 56,
    "start_time": "2023-05-10T18:17:19.528Z"
   },
   {
    "duration": 13,
    "start_time": "2023-05-10T18:17:19.585Z"
   },
   {
    "duration": 7,
    "start_time": "2023-05-10T18:17:19.601Z"
   },
   {
    "duration": 16,
    "start_time": "2023-05-10T18:17:19.609Z"
   },
   {
    "duration": 2267,
    "start_time": "2023-05-10T18:17:19.627Z"
   },
   {
    "duration": 8870,
    "start_time": "2023-05-10T18:17:21.896Z"
   },
   {
    "duration": 8,
    "start_time": "2023-05-10T18:17:30.768Z"
   },
   {
    "duration": 64,
    "start_time": "2023-05-10T18:17:30.777Z"
   },
   {
    "duration": 91,
    "start_time": "2023-05-10T18:17:30.842Z"
   },
   {
    "duration": 228,
    "start_time": "2023-05-10T18:17:30.934Z"
   },
   {
    "duration": 72,
    "start_time": "2023-05-10T18:17:31.164Z"
   },
   {
    "duration": 253,
    "start_time": "2023-05-10T18:17:31.238Z"
   },
   {
    "duration": 366,
    "start_time": "2023-05-10T18:17:31.493Z"
   },
   {
    "duration": 10,
    "start_time": "2023-05-10T18:17:36.898Z"
   },
   {
    "duration": 19,
    "start_time": "2023-05-10T18:17:58.187Z"
   },
   {
    "duration": 16,
    "start_time": "2023-05-10T18:22:41.463Z"
   },
   {
    "duration": 322,
    "start_time": "2023-05-10T18:30:05.032Z"
   },
   {
    "duration": 139,
    "start_time": "2023-05-10T18:30:20.489Z"
   },
   {
    "duration": 19,
    "start_time": "2023-05-10T18:48:04.359Z"
   },
   {
    "duration": 18,
    "start_time": "2023-05-10T18:49:00.697Z"
   },
   {
    "duration": 1241,
    "start_time": "2023-05-10T18:49:16.118Z"
   },
   {
    "duration": 59,
    "start_time": "2023-05-10T18:49:17.361Z"
   },
   {
    "duration": 52,
    "start_time": "2023-05-10T18:49:17.422Z"
   },
   {
    "duration": 1099,
    "start_time": "2023-05-10T18:49:17.476Z"
   },
   {
    "duration": 16,
    "start_time": "2023-05-10T18:49:18.577Z"
   },
   {
    "duration": 54,
    "start_time": "2023-05-10T18:49:18.595Z"
   },
   {
    "duration": 28,
    "start_time": "2023-05-10T18:49:18.651Z"
   },
   {
    "duration": 7,
    "start_time": "2023-05-10T18:49:18.681Z"
   },
   {
    "duration": 30,
    "start_time": "2023-05-10T18:49:18.689Z"
   },
   {
    "duration": 36,
    "start_time": "2023-05-10T18:49:18.720Z"
   },
   {
    "duration": 36,
    "start_time": "2023-05-10T18:49:18.760Z"
   },
   {
    "duration": 26,
    "start_time": "2023-05-10T18:49:18.798Z"
   },
   {
    "duration": 36,
    "start_time": "2023-05-10T18:49:18.825Z"
   },
   {
    "duration": 12,
    "start_time": "2023-05-10T18:49:18.865Z"
   },
   {
    "duration": 16,
    "start_time": "2023-05-10T18:49:18.880Z"
   },
   {
    "duration": 2136,
    "start_time": "2023-05-10T18:49:18.897Z"
   },
   {
    "duration": 9435,
    "start_time": "2023-05-10T18:49:21.035Z"
   },
   {
    "duration": 9,
    "start_time": "2023-05-10T18:49:30.472Z"
   },
   {
    "duration": 50,
    "start_time": "2023-05-10T18:49:30.483Z"
   },
   {
    "duration": 63,
    "start_time": "2023-05-10T18:49:30.535Z"
   },
   {
    "duration": 42,
    "start_time": "2023-05-10T18:49:30.600Z"
   },
   {
    "duration": 72,
    "start_time": "2023-05-10T18:49:30.644Z"
   },
   {
    "duration": 264,
    "start_time": "2023-05-10T18:49:30.718Z"
   },
   {
    "duration": 398,
    "start_time": "2023-05-10T18:49:30.984Z"
   },
   {
    "duration": 18,
    "start_time": "2023-05-10T18:49:31.384Z"
   },
   {
    "duration": 20,
    "start_time": "2023-05-10T18:51:03.010Z"
   },
   {
    "duration": 18,
    "start_time": "2023-05-10T18:55:26.597Z"
   },
   {
    "duration": 1046,
    "start_time": "2023-05-10T18:58:34.346Z"
   },
   {
    "duration": 1057,
    "start_time": "2023-05-10T18:59:41.863Z"
   },
   {
    "duration": 959,
    "start_time": "2023-05-10T19:00:02.818Z"
   },
   {
    "duration": 1081,
    "start_time": "2023-05-10T19:01:30.395Z"
   },
   {
    "duration": 864,
    "start_time": "2023-05-10T19:01:44.739Z"
   },
   {
    "duration": 1141,
    "start_time": "2023-05-10T19:03:01.072Z"
   },
   {
    "duration": 56,
    "start_time": "2023-05-10T19:03:02.215Z"
   },
   {
    "duration": 57,
    "start_time": "2023-05-10T19:03:02.273Z"
   },
   {
    "duration": 1129,
    "start_time": "2023-05-10T19:03:02.346Z"
   },
   {
    "duration": 19,
    "start_time": "2023-05-10T19:03:03.477Z"
   },
   {
    "duration": 48,
    "start_time": "2023-05-10T19:03:03.498Z"
   },
   {
    "duration": 22,
    "start_time": "2023-05-10T19:03:03.548Z"
   },
   {
    "duration": 4,
    "start_time": "2023-05-10T19:03:03.572Z"
   },
   {
    "duration": 27,
    "start_time": "2023-05-10T19:03:03.578Z"
   },
   {
    "duration": 22,
    "start_time": "2023-05-10T19:03:03.607Z"
   },
   {
    "duration": 49,
    "start_time": "2023-05-10T19:03:03.630Z"
   },
   {
    "duration": 27,
    "start_time": "2023-05-10T19:03:03.680Z"
   },
   {
    "duration": 12,
    "start_time": "2023-05-10T19:03:03.709Z"
   },
   {
    "duration": 6,
    "start_time": "2023-05-10T19:03:03.745Z"
   },
   {
    "duration": 24,
    "start_time": "2023-05-10T19:03:03.752Z"
   },
   {
    "duration": 1894,
    "start_time": "2023-05-10T19:03:03.778Z"
   },
   {
    "duration": 8544,
    "start_time": "2023-05-10T19:03:05.674Z"
   },
   {
    "duration": 8,
    "start_time": "2023-05-10T19:03:14.220Z"
   },
   {
    "duration": 20,
    "start_time": "2023-05-10T19:03:14.230Z"
   },
   {
    "duration": 24,
    "start_time": "2023-05-10T19:03:14.252Z"
   },
   {
    "duration": 17,
    "start_time": "2023-05-10T19:03:14.277Z"
   },
   {
    "duration": 34,
    "start_time": "2023-05-10T19:03:14.296Z"
   },
   {
    "duration": 186,
    "start_time": "2023-05-10T19:03:14.333Z"
   },
   {
    "duration": 336,
    "start_time": "2023-05-10T19:03:14.521Z"
   },
   {
    "duration": 16,
    "start_time": "2023-05-10T19:03:14.859Z"
   },
   {
    "duration": 887,
    "start_time": "2023-05-10T19:07:07.771Z"
   },
   {
    "duration": 108,
    "start_time": "2023-05-10T19:07:25.189Z"
   },
   {
    "duration": 1195,
    "start_time": "2023-05-10T19:07:41.800Z"
   },
   {
    "duration": 828,
    "start_time": "2023-05-10T19:08:37.442Z"
   },
   {
    "duration": 817,
    "start_time": "2023-05-10T19:09:39.760Z"
   },
   {
    "duration": 951,
    "start_time": "2023-05-10T19:10:32.973Z"
   },
   {
    "duration": 895,
    "start_time": "2023-05-10T19:11:43.739Z"
   },
   {
    "duration": 679,
    "start_time": "2023-05-10T19:11:55.551Z"
   },
   {
    "duration": 1042,
    "start_time": "2023-05-10T19:12:04.409Z"
   },
   {
    "duration": 899,
    "start_time": "2023-05-10T19:12:17.476Z"
   },
   {
    "duration": 816,
    "start_time": "2023-05-10T19:12:24.440Z"
   },
   {
    "duration": 888,
    "start_time": "2023-05-10T19:12:46.128Z"
   },
   {
    "duration": 823,
    "start_time": "2023-05-10T19:12:54.375Z"
   },
   {
    "duration": 930,
    "start_time": "2023-05-10T19:13:03.208Z"
   },
   {
    "duration": 848,
    "start_time": "2023-05-10T19:13:10.959Z"
   },
   {
    "duration": 87,
    "start_time": "2023-05-10T19:13:52.429Z"
   },
   {
    "duration": 828,
    "start_time": "2023-05-10T19:14:20.372Z"
   },
   {
    "duration": 989,
    "start_time": "2023-05-10T19:14:43.850Z"
   },
   {
    "duration": 922,
    "start_time": "2023-05-10T19:14:58.557Z"
   },
   {
    "duration": 853,
    "start_time": "2023-05-10T19:15:46.300Z"
   },
   {
    "duration": 862,
    "start_time": "2023-05-10T19:16:01.473Z"
   },
   {
    "duration": 988,
    "start_time": "2023-05-10T19:16:18.388Z"
   },
   {
    "duration": 797,
    "start_time": "2023-05-10T19:16:33.181Z"
   },
   {
    "duration": 761,
    "start_time": "2023-05-10T19:16:40.881Z"
   },
   {
    "duration": 871,
    "start_time": "2023-05-10T19:17:04.467Z"
   },
   {
    "duration": 944,
    "start_time": "2023-05-10T19:17:27.316Z"
   },
   {
    "duration": 801,
    "start_time": "2023-05-10T19:18:08.188Z"
   },
   {
    "duration": 822,
    "start_time": "2023-05-10T19:18:29.456Z"
   },
   {
    "duration": 937,
    "start_time": "2023-05-10T19:19:21.295Z"
   },
   {
    "duration": 810,
    "start_time": "2023-05-10T19:19:45.887Z"
   },
   {
    "duration": 154,
    "start_time": "2023-05-10T19:19:59.301Z"
   },
   {
    "duration": 876,
    "start_time": "2023-05-10T19:20:52.288Z"
   },
   {
    "duration": 972,
    "start_time": "2023-05-10T19:21:05.369Z"
   },
   {
    "duration": 3,
    "start_time": "2023-05-10T19:21:46.203Z"
   },
   {
    "duration": 906,
    "start_time": "2023-05-10T19:22:11.107Z"
   },
   {
    "duration": 16,
    "start_time": "2023-05-10T19:22:28.500Z"
   },
   {
    "duration": 14,
    "start_time": "2023-05-10T19:23:00.027Z"
   },
   {
    "duration": 1159,
    "start_time": "2023-05-10T19:23:11.877Z"
   },
   {
    "duration": 63,
    "start_time": "2023-05-10T19:23:13.038Z"
   },
   {
    "duration": 47,
    "start_time": "2023-05-10T19:23:13.103Z"
   },
   {
    "duration": 1082,
    "start_time": "2023-05-10T19:23:13.152Z"
   },
   {
    "duration": 17,
    "start_time": "2023-05-10T19:23:14.236Z"
   },
   {
    "duration": 25,
    "start_time": "2023-05-10T19:23:14.255Z"
   },
   {
    "duration": 25,
    "start_time": "2023-05-10T19:23:14.282Z"
   },
   {
    "duration": 19,
    "start_time": "2023-05-10T19:23:14.309Z"
   },
   {
    "duration": 27,
    "start_time": "2023-05-10T19:23:14.330Z"
   },
   {
    "duration": 41,
    "start_time": "2023-05-10T19:23:14.360Z"
   },
   {
    "duration": 38,
    "start_time": "2023-05-10T19:23:14.403Z"
   },
   {
    "duration": 33,
    "start_time": "2023-05-10T19:23:14.443Z"
   },
   {
    "duration": 19,
    "start_time": "2023-05-10T19:23:14.478Z"
   },
   {
    "duration": 16,
    "start_time": "2023-05-10T19:23:14.499Z"
   },
   {
    "duration": 30,
    "start_time": "2023-05-10T19:23:14.516Z"
   },
   {
    "duration": 1884,
    "start_time": "2023-05-10T19:23:14.548Z"
   },
   {
    "duration": 8224,
    "start_time": "2023-05-10T19:23:16.434Z"
   },
   {
    "duration": 6,
    "start_time": "2023-05-10T19:23:24.660Z"
   },
   {
    "duration": 15,
    "start_time": "2023-05-10T19:23:24.668Z"
   },
   {
    "duration": 23,
    "start_time": "2023-05-10T19:23:24.685Z"
   },
   {
    "duration": 15,
    "start_time": "2023-05-10T19:23:24.709Z"
   },
   {
    "duration": 26,
    "start_time": "2023-05-10T19:23:24.725Z"
   },
   {
    "duration": 173,
    "start_time": "2023-05-10T19:23:24.753Z"
   },
   {
    "duration": 326,
    "start_time": "2023-05-10T19:23:24.928Z"
   },
   {
    "duration": 15,
    "start_time": "2023-05-10T19:23:25.256Z"
   },
   {
    "duration": 7,
    "start_time": "2023-05-10T19:23:25.272Z"
   },
   {
    "duration": 942,
    "start_time": "2023-05-10T19:23:25.281Z"
   },
   {
    "duration": 109,
    "start_time": "2023-05-10T19:24:08.040Z"
   },
   {
    "duration": 0,
    "start_time": "2023-05-10T19:24:08.151Z"
   },
   {
    "duration": 0,
    "start_time": "2023-05-10T19:24:08.152Z"
   },
   {
    "duration": 0,
    "start_time": "2023-05-10T19:24:08.153Z"
   },
   {
    "duration": 0,
    "start_time": "2023-05-10T19:24:08.154Z"
   },
   {
    "duration": 0,
    "start_time": "2023-05-10T19:24:08.155Z"
   },
   {
    "duration": 0,
    "start_time": "2023-05-10T19:24:08.156Z"
   },
   {
    "duration": 0,
    "start_time": "2023-05-10T19:24:08.157Z"
   },
   {
    "duration": 0,
    "start_time": "2023-05-10T19:24:08.158Z"
   },
   {
    "duration": 0,
    "start_time": "2023-05-10T19:24:08.159Z"
   },
   {
    "duration": 0,
    "start_time": "2023-05-10T19:24:08.161Z"
   },
   {
    "duration": 0,
    "start_time": "2023-05-10T19:24:08.162Z"
   },
   {
    "duration": 0,
    "start_time": "2023-05-10T19:24:08.163Z"
   },
   {
    "duration": 0,
    "start_time": "2023-05-10T19:24:08.164Z"
   },
   {
    "duration": 0,
    "start_time": "2023-05-10T19:24:08.165Z"
   },
   {
    "duration": 1139,
    "start_time": "2023-05-10T19:24:40.060Z"
   },
   {
    "duration": 57,
    "start_time": "2023-05-10T19:24:41.201Z"
   },
   {
    "duration": 60,
    "start_time": "2023-05-10T19:24:41.260Z"
   },
   {
    "duration": 976,
    "start_time": "2023-05-10T19:24:41.323Z"
   },
   {
    "duration": 14,
    "start_time": "2023-05-10T19:24:42.301Z"
   },
   {
    "duration": 48,
    "start_time": "2023-05-10T19:24:42.317Z"
   },
   {
    "duration": 20,
    "start_time": "2023-05-10T19:24:42.367Z"
   },
   {
    "duration": 4,
    "start_time": "2023-05-10T19:24:42.389Z"
   },
   {
    "duration": 16,
    "start_time": "2023-05-10T19:24:42.394Z"
   },
   {
    "duration": 34,
    "start_time": "2023-05-10T19:24:42.413Z"
   },
   {
    "duration": 25,
    "start_time": "2023-05-10T19:24:42.449Z"
   },
   {
    "duration": 27,
    "start_time": "2023-05-10T19:24:42.476Z"
   },
   {
    "duration": 13,
    "start_time": "2023-05-10T19:24:42.504Z"
   },
   {
    "duration": 5,
    "start_time": "2023-05-10T19:24:42.546Z"
   },
   {
    "duration": 21,
    "start_time": "2023-05-10T19:24:42.553Z"
   },
   {
    "duration": 1881,
    "start_time": "2023-05-10T19:24:42.576Z"
   },
   {
    "duration": 8034,
    "start_time": "2023-05-10T19:24:44.459Z"
   },
   {
    "duration": 7,
    "start_time": "2023-05-10T19:24:52.495Z"
   },
   {
    "duration": 7,
    "start_time": "2023-05-10T19:24:52.504Z"
   },
   {
    "duration": 16,
    "start_time": "2023-05-10T19:24:52.513Z"
   },
   {
    "duration": 28,
    "start_time": "2023-05-10T19:24:52.531Z"
   },
   {
    "duration": 19,
    "start_time": "2023-05-10T19:24:52.561Z"
   },
   {
    "duration": 202,
    "start_time": "2023-05-10T19:24:52.582Z"
   },
   {
    "duration": 361,
    "start_time": "2023-05-10T19:24:52.786Z"
   },
   {
    "duration": 14,
    "start_time": "2023-05-10T19:24:53.148Z"
   },
   {
    "duration": 9,
    "start_time": "2023-05-10T19:24:53.164Z"
   },
   {
    "duration": 992,
    "start_time": "2023-05-10T19:24:53.175Z"
   },
   {
    "duration": 15,
    "start_time": "2023-05-10T19:25:05.600Z"
   },
   {
    "duration": 220,
    "start_time": "2023-05-10T19:25:43.580Z"
   },
   {
    "duration": 402,
    "start_time": "2023-05-10T19:26:00.234Z"
   },
   {
    "duration": 209,
    "start_time": "2023-05-10T19:26:32.647Z"
   },
   {
    "duration": 364,
    "start_time": "2023-05-10T19:27:13.961Z"
   },
   {
    "duration": 345,
    "start_time": "2023-05-10T19:27:26.807Z"
   },
   {
    "duration": 318,
    "start_time": "2023-05-10T19:27:33.407Z"
   },
   {
    "duration": 7152,
    "start_time": "2023-05-10T19:33:01.719Z"
   },
   {
    "duration": 470,
    "start_time": "2023-05-10T19:34:12.747Z"
   },
   {
    "duration": 342,
    "start_time": "2023-05-10T19:34:32.580Z"
   },
   {
    "duration": 7334,
    "start_time": "2023-05-10T19:34:59.387Z"
   },
   {
    "duration": 292,
    "start_time": "2023-05-10T19:36:55.999Z"
   },
   {
    "duration": 332,
    "start_time": "2023-05-10T19:37:05.326Z"
   },
   {
    "duration": 457,
    "start_time": "2023-05-10T19:37:29.679Z"
   },
   {
    "duration": 7169,
    "start_time": "2023-05-10T19:37:42.118Z"
   },
   {
    "duration": 72,
    "start_time": "2023-05-10T19:38:20.306Z"
   },
   {
    "duration": 482,
    "start_time": "2023-05-10T19:40:24.626Z"
   },
   {
    "duration": 336,
    "start_time": "2023-05-10T19:40:39.186Z"
   },
   {
    "duration": 349,
    "start_time": "2023-05-10T19:40:48.100Z"
   },
   {
    "duration": 149,
    "start_time": "2023-05-10T19:42:47.267Z"
   },
   {
    "duration": 190,
    "start_time": "2023-05-10T19:44:05.719Z"
   },
   {
    "duration": 172,
    "start_time": "2023-05-10T19:44:14.434Z"
   },
   {
    "duration": 366,
    "start_time": "2023-05-10T19:53:36.814Z"
   },
   {
    "duration": 333,
    "start_time": "2023-05-10T19:54:04.061Z"
   },
   {
    "duration": 455,
    "start_time": "2023-05-10T19:54:17.867Z"
   },
   {
    "duration": 392,
    "start_time": "2023-05-10T19:54:26.697Z"
   },
   {
    "duration": 464,
    "start_time": "2023-05-10T19:55:38.495Z"
   },
   {
    "duration": 66,
    "start_time": "2023-05-10T19:56:42.776Z"
   },
   {
    "duration": 301,
    "start_time": "2023-05-10T19:58:04.696Z"
   },
   {
    "duration": 341,
    "start_time": "2023-05-10T19:58:26.103Z"
   },
   {
    "duration": 324,
    "start_time": "2023-05-10T19:59:28.300Z"
   },
   {
    "duration": 195,
    "start_time": "2023-05-10T19:59:53.876Z"
   },
   {
    "duration": 353,
    "start_time": "2023-05-10T20:00:01.343Z"
   },
   {
    "duration": 430,
    "start_time": "2023-05-10T20:00:10.182Z"
   },
   {
    "duration": 324,
    "start_time": "2023-05-10T20:00:19.692Z"
   },
   {
    "duration": 343,
    "start_time": "2023-05-10T20:01:59.963Z"
   },
   {
    "duration": 362,
    "start_time": "2023-05-10T20:02:09.341Z"
   },
   {
    "duration": 384,
    "start_time": "2023-05-10T20:02:20.941Z"
   },
   {
    "duration": 19,
    "start_time": "2023-05-10T20:04:10.224Z"
   },
   {
    "duration": 12,
    "start_time": "2023-05-10T20:04:55.779Z"
   },
   {
    "duration": 14,
    "start_time": "2023-05-10T20:06:15.777Z"
   },
   {
    "duration": 5,
    "start_time": "2023-05-10T20:06:26.069Z"
   },
   {
    "duration": 10,
    "start_time": "2023-05-10T20:07:10.360Z"
   },
   {
    "duration": 1248,
    "start_time": "2023-05-10T20:08:10.194Z"
   },
   {
    "duration": 73,
    "start_time": "2023-05-10T20:08:11.444Z"
   },
   {
    "duration": 57,
    "start_time": "2023-05-10T20:08:11.519Z"
   },
   {
    "duration": 1214,
    "start_time": "2023-05-10T20:08:11.578Z"
   },
   {
    "duration": 15,
    "start_time": "2023-05-10T20:08:12.795Z"
   },
   {
    "duration": 58,
    "start_time": "2023-05-10T20:08:12.812Z"
   },
   {
    "duration": 29,
    "start_time": "2023-05-10T20:08:12.872Z"
   },
   {
    "duration": 22,
    "start_time": "2023-05-10T20:08:12.903Z"
   },
   {
    "duration": 55,
    "start_time": "2023-05-10T20:08:12.927Z"
   },
   {
    "duration": 54,
    "start_time": "2023-05-10T20:08:12.984Z"
   },
   {
    "duration": 52,
    "start_time": "2023-05-10T20:08:13.041Z"
   },
   {
    "duration": 36,
    "start_time": "2023-05-10T20:08:13.095Z"
   },
   {
    "duration": 17,
    "start_time": "2023-05-10T20:08:13.133Z"
   },
   {
    "duration": 28,
    "start_time": "2023-05-10T20:08:13.154Z"
   },
   {
    "duration": 30,
    "start_time": "2023-05-10T20:08:13.184Z"
   },
   {
    "duration": 11,
    "start_time": "2023-05-10T20:08:20.558Z"
   },
   {
    "duration": 15,
    "start_time": "2023-05-10T20:08:33.827Z"
   },
   {
    "duration": 5,
    "start_time": "2023-05-10T20:09:00.439Z"
   },
   {
    "duration": 12,
    "start_time": "2023-05-10T20:10:14.126Z"
   },
   {
    "duration": 4,
    "start_time": "2023-05-10T20:10:18.206Z"
   },
   {
    "duration": 11,
    "start_time": "2023-05-10T20:10:53.320Z"
   },
   {
    "duration": 11,
    "start_time": "2023-05-10T20:10:56.523Z"
   },
   {
    "duration": 2127,
    "start_time": "2023-05-10T20:13:02.659Z"
   },
   {
    "duration": 9035,
    "start_time": "2023-05-10T20:13:14.199Z"
   },
   {
    "duration": 9,
    "start_time": "2023-05-10T20:13:25.958Z"
   },
   {
    "duration": 8,
    "start_time": "2023-05-10T20:13:36.403Z"
   },
   {
    "duration": 12,
    "start_time": "2023-05-10T20:13:44.208Z"
   },
   {
    "duration": 17,
    "start_time": "2023-05-10T20:13:49.119Z"
   },
   {
    "duration": 17,
    "start_time": "2023-05-10T20:13:54.918Z"
   },
   {
    "duration": 15,
    "start_time": "2023-05-10T20:14:04.253Z"
   },
   {
    "duration": 1442,
    "start_time": "2023-05-10T20:15:53.375Z"
   },
   {
    "duration": 64,
    "start_time": "2023-05-10T20:15:54.819Z"
   },
   {
    "duration": 45,
    "start_time": "2023-05-10T20:15:54.885Z"
   },
   {
    "duration": 1170,
    "start_time": "2023-05-10T20:15:54.932Z"
   },
   {
    "duration": 15,
    "start_time": "2023-05-10T20:15:56.104Z"
   },
   {
    "duration": 50,
    "start_time": "2023-05-10T20:15:56.120Z"
   },
   {
    "duration": 21,
    "start_time": "2023-05-10T20:15:56.173Z"
   },
   {
    "duration": 4,
    "start_time": "2023-05-10T20:15:56.196Z"
   },
   {
    "duration": 22,
    "start_time": "2023-05-10T20:15:56.202Z"
   },
   {
    "duration": 32,
    "start_time": "2023-05-10T20:15:56.226Z"
   },
   {
    "duration": 24,
    "start_time": "2023-05-10T20:15:56.260Z"
   },
   {
    "duration": 50,
    "start_time": "2023-05-10T20:15:56.286Z"
   },
   {
    "duration": 22,
    "start_time": "2023-05-10T20:15:56.338Z"
   },
   {
    "duration": 28,
    "start_time": "2023-05-10T20:15:56.362Z"
   },
   {
    "duration": 35,
    "start_time": "2023-05-10T20:15:56.392Z"
   },
   {
    "duration": 79,
    "start_time": "2023-05-10T20:15:56.429Z"
   },
   {
    "duration": 2082,
    "start_time": "2023-05-10T20:15:56.510Z"
   },
   {
    "duration": 8591,
    "start_time": "2023-05-10T20:15:58.593Z"
   },
   {
    "duration": 7,
    "start_time": "2023-05-10T20:16:07.186Z"
   },
   {
    "duration": 24,
    "start_time": "2023-05-10T20:16:07.195Z"
   },
   {
    "duration": 55,
    "start_time": "2023-05-10T20:16:07.221Z"
   },
   {
    "duration": 70,
    "start_time": "2023-05-10T20:16:07.278Z"
   },
   {
    "duration": 55,
    "start_time": "2023-05-10T20:16:07.351Z"
   },
   {
    "duration": 191,
    "start_time": "2023-05-10T20:16:41.659Z"
   },
   {
    "duration": 369,
    "start_time": "2023-05-10T20:17:06.058Z"
   },
   {
    "duration": 22,
    "start_time": "2023-05-10T20:17:18.138Z"
   },
   {
    "duration": 965,
    "start_time": "2023-05-10T20:17:28.562Z"
   },
   {
    "duration": 16,
    "start_time": "2023-05-10T20:18:07.986Z"
   },
   {
    "duration": 232,
    "start_time": "2023-05-10T20:18:27.641Z"
   },
   {
    "duration": 326,
    "start_time": "2023-05-10T20:19:18.743Z"
   },
   {
    "duration": 350,
    "start_time": "2023-05-10T20:20:16.423Z"
   },
   {
    "duration": 423,
    "start_time": "2023-05-10T20:20:50.166Z"
   },
   {
    "duration": 6,
    "start_time": "2023-05-10T20:22:44.867Z"
   },
   {
    "duration": 6,
    "start_time": "2023-05-10T20:23:22.259Z"
   },
   {
    "duration": 7,
    "start_time": "2023-05-10T20:23:31.604Z"
   },
   {
    "duration": 7,
    "start_time": "2023-05-10T20:23:41.243Z"
   },
   {
    "duration": 295,
    "start_time": "2023-05-10T20:24:21.989Z"
   },
   {
    "duration": 367,
    "start_time": "2023-05-10T20:24:28.109Z"
   },
   {
    "duration": 135,
    "start_time": "2023-05-10T20:31:26.336Z"
   },
   {
    "duration": 1128,
    "start_time": "2023-05-10T20:31:54.679Z"
   },
   {
    "duration": 11,
    "start_time": "2023-05-10T20:34:40.078Z"
   },
   {
    "duration": 12,
    "start_time": "2023-05-10T20:35:25.124Z"
   },
   {
    "duration": 1026,
    "start_time": "2023-05-10T20:37:20.427Z"
   },
   {
    "duration": 519,
    "start_time": "2023-05-10T20:44:47.788Z"
   },
   {
    "duration": 477,
    "start_time": "2023-05-10T20:46:36.910Z"
   },
   {
    "duration": 808,
    "start_time": "2023-05-10T20:47:05.570Z"
   },
   {
    "duration": 1338,
    "start_time": "2023-05-10T20:48:12.959Z"
   },
   {
    "duration": 1469,
    "start_time": "2023-05-10T20:49:36.608Z"
   },
   {
    "duration": 1312,
    "start_time": "2023-05-10T20:49:51.260Z"
   },
   {
    "duration": 1656,
    "start_time": "2023-05-10T20:50:11.315Z"
   },
   {
    "duration": 1249,
    "start_time": "2023-05-10T20:51:32.158Z"
   },
   {
    "duration": 1715,
    "start_time": "2023-05-10T20:51:51.365Z"
   },
   {
    "duration": 1572,
    "start_time": "2023-05-10T20:51:59.559Z"
   },
   {
    "duration": 1178,
    "start_time": "2023-05-10T20:52:07.502Z"
   },
   {
    "duration": 1315,
    "start_time": "2023-05-10T20:52:19.508Z"
   },
   {
    "duration": 1227,
    "start_time": "2023-05-10T20:52:31.788Z"
   },
   {
    "duration": 1229,
    "start_time": "2023-05-10T20:52:50.775Z"
   },
   {
    "duration": 1345,
    "start_time": "2023-05-10T20:52:56.343Z"
   },
   {
    "duration": 1275,
    "start_time": "2023-05-10T20:53:05.358Z"
   },
   {
    "duration": 1592,
    "start_time": "2023-05-10T20:53:24.541Z"
   },
   {
    "duration": 1467,
    "start_time": "2023-05-10T20:53:40.559Z"
   },
   {
    "duration": 52,
    "start_time": "2023-05-10T20:59:26.229Z"
   },
   {
    "duration": 143,
    "start_time": "2023-05-10T21:00:00.276Z"
   },
   {
    "duration": 157,
    "start_time": "2023-05-10T21:00:46.916Z"
   },
   {
    "duration": 155,
    "start_time": "2023-05-10T21:01:21.026Z"
   },
   {
    "duration": 96,
    "start_time": "2023-05-10T21:03:44.091Z"
   },
   {
    "duration": 1673,
    "start_time": "2023-05-10T21:04:15.258Z"
   },
   {
    "duration": 1673,
    "start_time": "2023-05-10T21:07:16.799Z"
   },
   {
    "duration": 1765,
    "start_time": "2023-05-10T21:07:56.639Z"
   },
   {
    "duration": 1787,
    "start_time": "2023-05-10T21:09:00.213Z"
   },
   {
    "duration": 1796,
    "start_time": "2023-05-10T21:10:19.467Z"
   },
   {
    "duration": 763,
    "start_time": "2023-05-10T21:22:38.417Z"
   },
   {
    "duration": 1220,
    "start_time": "2023-05-10T21:22:47.980Z"
   },
   {
    "duration": 60,
    "start_time": "2023-05-10T21:22:49.202Z"
   },
   {
    "duration": 47,
    "start_time": "2023-05-10T21:22:49.264Z"
   },
   {
    "duration": 1090,
    "start_time": "2023-05-10T21:22:49.313Z"
   },
   {
    "duration": 22,
    "start_time": "2023-05-10T21:22:50.405Z"
   },
   {
    "duration": 50,
    "start_time": "2023-05-10T21:22:50.429Z"
   },
   {
    "duration": 24,
    "start_time": "2023-05-10T21:22:50.481Z"
   },
   {
    "duration": 14,
    "start_time": "2023-05-10T21:22:50.507Z"
   },
   {
    "duration": 27,
    "start_time": "2023-05-10T21:22:50.523Z"
   },
   {
    "duration": 22,
    "start_time": "2023-05-10T21:22:50.553Z"
   },
   {
    "duration": 26,
    "start_time": "2023-05-10T21:22:50.577Z"
   },
   {
    "duration": 48,
    "start_time": "2023-05-10T21:22:50.605Z"
   },
   {
    "duration": 13,
    "start_time": "2023-05-10T21:22:50.655Z"
   },
   {
    "duration": 52,
    "start_time": "2023-05-10T21:22:50.670Z"
   },
   {
    "duration": 25,
    "start_time": "2023-05-10T21:22:50.724Z"
   },
   {
    "duration": 51,
    "start_time": "2023-05-10T21:22:50.751Z"
   },
   {
    "duration": 2149,
    "start_time": "2023-05-10T21:22:50.804Z"
   },
   {
    "duration": 8384,
    "start_time": "2023-05-10T21:22:52.956Z"
   },
   {
    "duration": 10,
    "start_time": "2023-05-10T21:23:01.342Z"
   },
   {
    "duration": 56,
    "start_time": "2023-05-10T21:23:01.354Z"
   },
   {
    "duration": 38,
    "start_time": "2023-05-10T21:23:01.412Z"
   },
   {
    "duration": 102,
    "start_time": "2023-05-10T21:23:01.452Z"
   },
   {
    "duration": 47,
    "start_time": "2023-05-10T21:23:01.555Z"
   },
   {
    "duration": 206,
    "start_time": "2023-05-10T21:23:01.604Z"
   },
   {
    "duration": 427,
    "start_time": "2023-05-10T21:23:01.811Z"
   },
   {
    "duration": 15,
    "start_time": "2023-05-10T21:23:02.245Z"
   },
   {
    "duration": 10,
    "start_time": "2023-05-10T21:23:02.262Z"
   },
   {
    "duration": 1015,
    "start_time": "2023-05-10T21:23:02.276Z"
   },
   {
    "duration": 15,
    "start_time": "2023-05-10T21:23:03.293Z"
   },
   {
    "duration": 222,
    "start_time": "2023-05-10T21:23:03.310Z"
   },
   {
    "duration": 6902,
    "start_time": "2023-05-10T21:23:03.534Z"
   },
   {
    "duration": 293,
    "start_time": "2023-05-10T21:23:10.446Z"
   },
   {
    "duration": 324,
    "start_time": "2023-05-10T21:23:10.741Z"
   },
   {
    "duration": 340,
    "start_time": "2023-05-10T21:23:11.066Z"
   },
   {
    "duration": 6,
    "start_time": "2023-05-10T21:23:11.408Z"
   },
   {
    "duration": 1934,
    "start_time": "2023-05-10T21:23:11.416Z"
   },
   {
    "duration": 627,
    "start_time": "2023-05-10T21:23:32.053Z"
   },
   {
    "duration": 231,
    "start_time": "2023-05-10T21:26:53.388Z"
   },
   {
    "duration": 268,
    "start_time": "2023-05-10T21:27:48.238Z"
   },
   {
    "duration": 233,
    "start_time": "2023-05-10T21:28:04.313Z"
   },
   {
    "duration": 247,
    "start_time": "2023-05-10T21:29:17.263Z"
   },
   {
    "duration": 65,
    "start_time": "2023-05-10T21:32:42.895Z"
   },
   {
    "duration": 264,
    "start_time": "2023-05-10T21:33:42.856Z"
   },
   {
    "duration": 1293,
    "start_time": "2023-05-10T21:39:41.499Z"
   },
   {
    "duration": 59,
    "start_time": "2023-05-10T21:39:42.794Z"
   },
   {
    "duration": 46,
    "start_time": "2023-05-10T21:39:42.855Z"
   },
   {
    "duration": 1091,
    "start_time": "2023-05-10T21:39:42.902Z"
   },
   {
    "duration": 16,
    "start_time": "2023-05-10T21:39:43.995Z"
   },
   {
    "duration": 41,
    "start_time": "2023-05-10T21:39:44.012Z"
   },
   {
    "duration": 21,
    "start_time": "2023-05-10T21:39:44.055Z"
   },
   {
    "duration": 6,
    "start_time": "2023-05-10T21:39:44.078Z"
   },
   {
    "duration": 20,
    "start_time": "2023-05-10T21:39:44.086Z"
   },
   {
    "duration": 40,
    "start_time": "2023-05-10T21:39:44.107Z"
   },
   {
    "duration": 26,
    "start_time": "2023-05-10T21:39:44.149Z"
   },
   {
    "duration": 27,
    "start_time": "2023-05-10T21:39:44.178Z"
   },
   {
    "duration": 40,
    "start_time": "2023-05-10T21:39:44.207Z"
   },
   {
    "duration": 11,
    "start_time": "2023-05-10T21:39:44.250Z"
   },
   {
    "duration": 25,
    "start_time": "2023-05-10T21:39:44.263Z"
   },
   {
    "duration": 36,
    "start_time": "2023-05-10T21:39:44.289Z"
   },
   {
    "duration": 2015,
    "start_time": "2023-05-10T21:39:44.327Z"
   },
   {
    "duration": 8685,
    "start_time": "2023-05-10T21:39:46.346Z"
   },
   {
    "duration": 16,
    "start_time": "2023-05-10T21:39:55.033Z"
   },
   {
    "duration": 28,
    "start_time": "2023-05-10T21:39:55.050Z"
   },
   {
    "duration": 34,
    "start_time": "2023-05-10T21:39:55.080Z"
   },
   {
    "duration": 29,
    "start_time": "2023-05-10T21:39:55.115Z"
   },
   {
    "duration": 16,
    "start_time": "2023-05-10T21:39:55.146Z"
   },
   {
    "duration": 202,
    "start_time": "2023-05-10T21:39:55.164Z"
   },
   {
    "duration": 447,
    "start_time": "2023-05-10T21:39:55.368Z"
   },
   {
    "duration": 15,
    "start_time": "2023-05-10T21:39:55.817Z"
   },
   {
    "duration": 15,
    "start_time": "2023-05-10T21:39:55.834Z"
   },
   {
    "duration": 873,
    "start_time": "2023-05-10T21:39:55.851Z"
   },
   {
    "duration": 26,
    "start_time": "2023-05-10T21:39:56.726Z"
   },
   {
    "duration": 223,
    "start_time": "2023-05-10T21:39:56.755Z"
   },
   {
    "duration": 6812,
    "start_time": "2023-05-10T21:39:56.980Z"
   },
   {
    "duration": 318,
    "start_time": "2023-05-10T21:40:03.794Z"
   },
   {
    "duration": 319,
    "start_time": "2023-05-10T21:40:04.114Z"
   },
   {
    "duration": 345,
    "start_time": "2023-05-10T21:40:04.435Z"
   },
   {
    "duration": 6,
    "start_time": "2023-05-10T21:40:04.781Z"
   },
   {
    "duration": 1898,
    "start_time": "2023-05-10T21:40:04.789Z"
   },
   {
    "duration": 280,
    "start_time": "2023-05-10T21:40:06.689Z"
   },
   {
    "duration": 175,
    "start_time": "2023-05-10T21:40:34.912Z"
   },
   {
    "duration": 157,
    "start_time": "2023-05-10T21:42:09.745Z"
   },
   {
    "duration": 2,
    "start_time": "2023-05-10T21:43:15.342Z"
   },
   {
    "duration": 27,
    "start_time": "2023-05-10T21:43:21.028Z"
   },
   {
    "duration": 234,
    "start_time": "2023-05-10T21:45:00.615Z"
   },
   {
    "duration": 153,
    "start_time": "2023-05-10T21:45:03.243Z"
   },
   {
    "duration": 179,
    "start_time": "2023-05-10T21:45:06.096Z"
   },
   {
    "duration": 569,
    "start_time": "2023-05-10T21:45:45.930Z"
   },
   {
    "duration": 556,
    "start_time": "2023-05-10T21:46:14.497Z"
   },
   {
    "duration": 346,
    "start_time": "2023-05-10T21:48:31.543Z"
   },
   {
    "duration": 284,
    "start_time": "2023-05-10T21:49:10.380Z"
   },
   {
    "duration": 420,
    "start_time": "2023-05-10T21:50:01.314Z"
   },
   {
    "duration": 419,
    "start_time": "2023-05-10T21:51:11.320Z"
   },
   {
    "duration": 509,
    "start_time": "2023-05-10T21:51:39.435Z"
   },
   {
    "duration": 449,
    "start_time": "2023-05-10T21:52:00.232Z"
   },
   {
    "duration": 420,
    "start_time": "2023-05-10T21:52:08.833Z"
   },
   {
    "duration": 433,
    "start_time": "2023-05-10T21:52:21.231Z"
   },
   {
    "duration": 414,
    "start_time": "2023-05-10T21:52:39.259Z"
   },
   {
    "duration": 494,
    "start_time": "2023-05-10T21:52:52.205Z"
   },
   {
    "duration": 535,
    "start_time": "2023-05-10T21:52:59.605Z"
   },
   {
    "duration": 407,
    "start_time": "2023-05-10T21:53:04.535Z"
   },
   {
    "duration": 445,
    "start_time": "2023-05-10T21:53:10.040Z"
   },
   {
    "duration": 530,
    "start_time": "2023-05-10T21:53:22.473Z"
   },
   {
    "duration": 411,
    "start_time": "2023-05-10T21:53:29.773Z"
   },
   {
    "duration": 553,
    "start_time": "2023-05-10T21:54:13.166Z"
   },
   {
    "duration": 463,
    "start_time": "2023-05-10T21:54:23.204Z"
   },
   {
    "duration": 40,
    "start_time": "2023-05-10T21:55:30.731Z"
   },
   {
    "duration": 516,
    "start_time": "2023-05-10T21:58:06.339Z"
   },
   {
    "duration": 12,
    "start_time": "2023-05-10T22:00:32.519Z"
   },
   {
    "duration": 12,
    "start_time": "2023-05-10T22:00:38.389Z"
   },
   {
    "duration": 1270,
    "start_time": "2023-05-10T22:01:33.229Z"
   },
   {
    "duration": 65,
    "start_time": "2023-05-10T22:01:34.501Z"
   },
   {
    "duration": 48,
    "start_time": "2023-05-10T22:01:34.568Z"
   },
   {
    "duration": 1095,
    "start_time": "2023-05-10T22:01:34.618Z"
   },
   {
    "duration": 15,
    "start_time": "2023-05-10T22:01:35.715Z"
   },
   {
    "duration": 46,
    "start_time": "2023-05-10T22:01:35.732Z"
   },
   {
    "duration": 24,
    "start_time": "2023-05-10T22:01:35.780Z"
   },
   {
    "duration": 4,
    "start_time": "2023-05-10T22:01:35.806Z"
   },
   {
    "duration": 61,
    "start_time": "2023-05-10T22:01:35.812Z"
   },
   {
    "duration": 24,
    "start_time": "2023-05-10T22:01:35.875Z"
   },
   {
    "duration": 24,
    "start_time": "2023-05-10T22:01:35.902Z"
   },
   {
    "duration": 44,
    "start_time": "2023-05-10T22:01:35.929Z"
   },
   {
    "duration": 64,
    "start_time": "2023-05-10T22:01:35.975Z"
   },
   {
    "duration": 25,
    "start_time": "2023-05-10T22:01:36.042Z"
   },
   {
    "duration": 14,
    "start_time": "2023-05-10T22:01:36.069Z"
   },
   {
    "duration": 26,
    "start_time": "2023-05-10T22:01:36.085Z"
   },
   {
    "duration": 2072,
    "start_time": "2023-05-10T22:01:36.113Z"
   },
   {
    "duration": 9343,
    "start_time": "2023-05-10T22:01:38.186Z"
   },
   {
    "duration": 15,
    "start_time": "2023-05-10T22:01:47.530Z"
   },
   {
    "duration": 36,
    "start_time": "2023-05-10T22:01:47.548Z"
   },
   {
    "duration": 19,
    "start_time": "2023-05-10T22:01:47.587Z"
   },
   {
    "duration": 21,
    "start_time": "2023-05-10T22:01:47.608Z"
   },
   {
    "duration": 27,
    "start_time": "2023-05-10T22:01:47.632Z"
   },
   {
    "duration": 230,
    "start_time": "2023-05-10T22:01:47.661Z"
   },
   {
    "duration": 494,
    "start_time": "2023-05-10T22:01:47.893Z"
   },
   {
    "duration": 16,
    "start_time": "2023-05-10T22:01:48.388Z"
   },
   {
    "duration": 4,
    "start_time": "2023-05-10T22:01:48.407Z"
   },
   {
    "duration": 994,
    "start_time": "2023-05-10T22:01:48.414Z"
   },
   {
    "duration": 16,
    "start_time": "2023-05-10T22:01:49.410Z"
   },
   {
    "duration": 245,
    "start_time": "2023-05-10T22:01:49.428Z"
   },
   {
    "duration": 7497,
    "start_time": "2023-05-10T22:01:49.675Z"
   },
   {
    "duration": 336,
    "start_time": "2023-05-10T22:01:57.175Z"
   },
   {
    "duration": 348,
    "start_time": "2023-05-10T22:01:57.513Z"
   },
   {
    "duration": 345,
    "start_time": "2023-05-10T22:01:57.864Z"
   },
   {
    "duration": 6,
    "start_time": "2023-05-10T22:01:58.210Z"
   },
   {
    "duration": 1922,
    "start_time": "2023-05-10T22:01:58.217Z"
   },
   {
    "duration": 288,
    "start_time": "2023-05-10T22:02:00.141Z"
   },
   {
    "duration": 39,
    "start_time": "2023-05-10T22:02:00.431Z"
   },
   {
    "duration": 502,
    "start_time": "2023-05-10T22:02:00.472Z"
   },
   {
    "duration": 607,
    "start_time": "2023-05-10T22:02:00.977Z"
   },
   {
    "duration": 649,
    "start_time": "2023-05-10T22:02:01.590Z"
   },
   {
    "duration": 17,
    "start_time": "2023-05-10T22:02:02.242Z"
   },
   {
    "duration": 56,
    "start_time": "2023-05-10T22:02:02.264Z"
   },
   {
    "duration": 14,
    "start_time": "2023-05-10T22:03:21.205Z"
   },
   {
    "duration": 13,
    "start_time": "2023-05-10T22:03:36.861Z"
   },
   {
    "duration": 116,
    "start_time": "2023-05-11T11:08:51.390Z"
   }
  ],
  "kernelspec": {
   "display_name": "Python 3 (ipykernel)",
   "language": "python",
   "name": "python3"
  },
  "language_info": {
   "codemirror_mode": {
    "name": "ipython",
    "version": 3
   },
   "file_extension": ".py",
   "mimetype": "text/x-python",
   "name": "python",
   "nbconvert_exporter": "python",
   "pygments_lexer": "ipython3",
   "version": "3.9.5"
  },
  "toc": {
   "base_numbering": 1,
   "nav_menu": {},
   "number_sections": true,
   "sideBar": true,
   "skip_h1_title": true,
   "title_cell": "Table of Contents",
   "title_sidebar": "Contents",
   "toc_cell": false,
   "toc_position": {
    "height": "calc(100% - 180px)",
    "left": "10px",
    "top": "150px",
    "width": "165px"
   },
   "toc_section_display": true,
   "toc_window_display": true
  }
 },
 "nbformat": 4,
 "nbformat_minor": 2
}
