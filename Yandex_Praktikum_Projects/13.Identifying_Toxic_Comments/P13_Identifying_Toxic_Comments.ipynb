{
 "cells": [
  {
   "cell_type": "markdown",
   "metadata": {},
   "source": [
    "# Проект для «Викишоп»"
   ]
  },
  {
   "cell_type": "markdown",
   "metadata": {},
   "source": [
    "Интернет-магазину нужен инструмент, который будет искать токсичные комментарии и отправлять их на модерацию. \n",
    "\n",
    "Необходимо обучить модель классифицировать комментарии на позитивные и негативные. В нашем распоряжении набор данных с разметкой о токсичности правок.\n",
    "\n",
    "Задача построить модель со значением метрики качества *F1* не меньше 0.75. \n",
    "\n",
    "**План проекта**\n",
    "\n",
    "1. Загрузить и подготовить данные.\n",
    "2. Обучить разные модели. \n",
    "3. Сделайть выводы."
   ]
  },
  {
   "cell_type": "markdown",
   "metadata": {},
   "source": [
    "## Подготовка"
   ]
  },
  {
   "cell_type": "code",
   "execution_count": 1,
   "metadata": {
    "scrolled": false
   },
   "outputs": [],
   "source": [
    "import os\n",
    "import numpy as np\n",
    "import pandas as pd\n",
    "import matplotlib.pyplot as plt\n",
    "import re\n",
    "from tqdm import tqdm\n",
    "import nltk\n",
    "\n",
    "# лемматизатор\n",
    "from nltk.corpus import wordnet\n",
    "import sys\n",
    "import spacy\n",
    "\n",
    "# стоп-слова\n",
    "from nltk.corpus import stopwords as nltk_stopwords\n",
    "from sklearn.feature_extraction.text import TfidfVectorizer\n",
    "\n",
    "# модели и метрики\n",
    "from sklearn.ensemble import RandomForestClassifier\n",
    "from sklearn.linear_model import LogisticRegression\n",
    "from catboost import CatBoostClassifier\n",
    "from sklearn.model_selection import train_test_split, GridSearchCV, cross_val_score\n",
    "from sklearn.metrics import f1_score, roc_auc_score, roc_curve\n",
    "\n",
    "# предупреждения\n",
    "import warnings\n",
    "warnings.filterwarnings('ignore')"
   ]
  },
  {
   "cell_type": "code",
   "execution_count": 2,
   "metadata": {},
   "outputs": [],
   "source": [
    "pth1 = '/datasets/toxic_comments.csv'\n",
    "pth2 = 'https://code.s3.yandex.net/datasets/toxic_comments.csv'\n",
    "\n",
    "if os.path.exists(pth1):\n",
    "    df = pd.read_csv(pth1)\n",
    "elif os.path.exists(pth2):\n",
    "    df = pd.read_csv(pth2)\n",
    "else:\n",
    "    print('Something is wrong')"
   ]
  },
  {
   "cell_type": "code",
   "execution_count": 3,
   "metadata": {},
   "outputs": [
    {
     "name": "stdout",
     "output_type": "stream",
     "text": [
      "<class 'pandas.core.frame.DataFrame'>\n",
      "RangeIndex: 159292 entries, 0 to 159291\n",
      "Data columns (total 3 columns):\n",
      " #   Column      Non-Null Count   Dtype \n",
      "---  ------      --------------   ----- \n",
      " 0   Unnamed: 0  159292 non-null  int64 \n",
      " 1   text        159292 non-null  object\n",
      " 2   toxic       159292 non-null  int64 \n",
      "dtypes: int64(2), object(1)\n",
      "memory usage: 3.6+ MB\n"
     ]
    }
   ],
   "source": [
    "df.info()"
   ]
  },
  {
   "cell_type": "code",
   "execution_count": 4,
   "metadata": {},
   "outputs": [
    {
     "data": {
      "text/plain": [
       "'Количетсво пропусков по каждому столбцу:'"
      ]
     },
     "metadata": {},
     "output_type": "display_data"
    },
    {
     "data": {
      "text/plain": [
       "Unnamed: 0    0\n",
       "text          0\n",
       "toxic         0\n",
       "dtype: int64"
      ]
     },
     "metadata": {},
     "output_type": "display_data"
    }
   ],
   "source": [
    "display('Количетсво пропусков по каждому столбцу:', df.isna().sum())"
   ]
  },
  {
   "cell_type": "code",
   "execution_count": 5,
   "metadata": {},
   "outputs": [
    {
     "data": {
      "text/plain": [
       "'Количество дубликатов:'"
      ]
     },
     "metadata": {},
     "output_type": "display_data"
    },
    {
     "data": {
      "text/plain": [
       "0"
      ]
     },
     "metadata": {},
     "output_type": "display_data"
    }
   ],
   "source": [
    "display('Количество дубликатов:', df.duplicated().sum())"
   ]
  },
  {
   "cell_type": "code",
   "execution_count": 6,
   "metadata": {},
   "outputs": [],
   "source": [
    "pd.set_option('display.max_colwidth', None)"
   ]
  },
  {
   "cell_type": "code",
   "execution_count": 7,
   "metadata": {},
   "outputs": [
    {
     "data": {
      "text/html": [
       "<div>\n",
       "<style scoped>\n",
       "    .dataframe tbody tr th:only-of-type {\n",
       "        vertical-align: middle;\n",
       "    }\n",
       "\n",
       "    .dataframe tbody tr th {\n",
       "        vertical-align: top;\n",
       "    }\n",
       "\n",
       "    .dataframe thead th {\n",
       "        text-align: right;\n",
       "    }\n",
       "</style>\n",
       "<table border=\"1\" class=\"dataframe\">\n",
       "  <thead>\n",
       "    <tr style=\"text-align: right;\">\n",
       "      <th></th>\n",
       "      <th>Unnamed: 0</th>\n",
       "      <th>text</th>\n",
       "      <th>toxic</th>\n",
       "    </tr>\n",
       "  </thead>\n",
       "  <tbody>\n",
       "    <tr>\n",
       "      <th>0</th>\n",
       "      <td>0</td>\n",
       "      <td>Explanation\\nWhy the edits made under my username Hardcore Metallica Fan were reverted? They weren't vandalisms, just closure on some GAs after I voted at New York Dolls FAC. And please don't remove the template from the talk page since I'm retired now.89.205.38.27</td>\n",
       "      <td>0</td>\n",
       "    </tr>\n",
       "    <tr>\n",
       "      <th>1</th>\n",
       "      <td>1</td>\n",
       "      <td>D'aww! He matches this background colour I'm seemingly stuck with. Thanks.  (talk) 21:51, January 11, 2016 (UTC)</td>\n",
       "      <td>0</td>\n",
       "    </tr>\n",
       "    <tr>\n",
       "      <th>2</th>\n",
       "      <td>2</td>\n",
       "      <td>Hey man, I'm really not trying to edit war. It's just that this guy is constantly removing relevant information and talking to me through edits instead of my talk page. He seems to care more about the formatting than the actual info.</td>\n",
       "      <td>0</td>\n",
       "    </tr>\n",
       "    <tr>\n",
       "      <th>3</th>\n",
       "      <td>3</td>\n",
       "      <td>\"\\nMore\\nI can't make any real suggestions on improvement - I wondered if the section statistics should be later on, or a subsection of \"\"types of accidents\"\"  -I think the references may need tidying so that they are all in the exact same format ie date format etc. I can do that later on, if no-one else does first - if you have any preferences for formatting style on references or want to do it yourself please let me know.\\n\\nThere appears to be a backlog on articles for review so I guess there may be a delay until a reviewer turns up. It's listed in the relevant form eg Wikipedia:Good_article_nominations#Transport  \"</td>\n",
       "      <td>0</td>\n",
       "    </tr>\n",
       "    <tr>\n",
       "      <th>4</th>\n",
       "      <td>4</td>\n",
       "      <td>You, sir, are my hero. Any chance you remember what page that's on?</td>\n",
       "      <td>0</td>\n",
       "    </tr>\n",
       "    <tr>\n",
       "      <th>5</th>\n",
       "      <td>5</td>\n",
       "      <td>\"\\n\\nCongratulations from me as well, use the tools well.  · talk \"</td>\n",
       "      <td>0</td>\n",
       "    </tr>\n",
       "    <tr>\n",
       "      <th>6</th>\n",
       "      <td>6</td>\n",
       "      <td>COCKSUCKER BEFORE YOU PISS AROUND ON MY WORK</td>\n",
       "      <td>1</td>\n",
       "    </tr>\n",
       "    <tr>\n",
       "      <th>7</th>\n",
       "      <td>7</td>\n",
       "      <td>Your vandalism to the Matt Shirvington article has been reverted.  Please don't do it again, or you will be banned.</td>\n",
       "      <td>0</td>\n",
       "    </tr>\n",
       "    <tr>\n",
       "      <th>8</th>\n",
       "      <td>8</td>\n",
       "      <td>Sorry if the word 'nonsense' was offensive to you. Anyway, I'm not intending to write anything in the article(wow they would jump on me for vandalism), I'm merely requesting that it be more encyclopedic so one can use it for school as a reference. I have been to the selective breeding page but it's almost a stub. It points to 'animal breeding' which is a short messy article that gives you no info. There must be someone around with expertise in eugenics? 93.161.107.169</td>\n",
       "      <td>0</td>\n",
       "    </tr>\n",
       "    <tr>\n",
       "      <th>9</th>\n",
       "      <td>9</td>\n",
       "      <td>alignment on this subject and which are contrary to those of DuLithgow</td>\n",
       "      <td>0</td>\n",
       "    </tr>\n",
       "  </tbody>\n",
       "</table>\n",
       "</div>"
      ],
      "text/plain": [
       "   Unnamed: 0  \\\n",
       "0           0   \n",
       "1           1   \n",
       "2           2   \n",
       "3           3   \n",
       "4           4   \n",
       "5           5   \n",
       "6           6   \n",
       "7           7   \n",
       "8           8   \n",
       "9           9   \n",
       "\n",
       "                                                                                                                                                                                                                                                                                                                                                                                                                                                                                                                                                                                                                                                 text  \\\n",
       "0                                                                                                                                                                                                                                                                                                                                                                           Explanation\\nWhy the edits made under my username Hardcore Metallica Fan were reverted? They weren't vandalisms, just closure on some GAs after I voted at New York Dolls FAC. And please don't remove the template from the talk page since I'm retired now.89.205.38.27   \n",
       "1                                                                                                                                                                                                                                                                                                                                                                                                                                                                                                                                    D'aww! He matches this background colour I'm seemingly stuck with. Thanks.  (talk) 21:51, January 11, 2016 (UTC)   \n",
       "2                                                                                                                                                                                                                                                                                                                                                                                                           Hey man, I'm really not trying to edit war. It's just that this guy is constantly removing relevant information and talking to me through edits instead of my talk page. He seems to care more about the formatting than the actual info.   \n",
       "3  \"\\nMore\\nI can't make any real suggestions on improvement - I wondered if the section statistics should be later on, or a subsection of \"\"types of accidents\"\"  -I think the references may need tidying so that they are all in the exact same format ie date format etc. I can do that later on, if no-one else does first - if you have any preferences for formatting style on references or want to do it yourself please let me know.\\n\\nThere appears to be a backlog on articles for review so I guess there may be a delay until a reviewer turns up. It's listed in the relevant form eg Wikipedia:Good_article_nominations#Transport  \"   \n",
       "4                                                                                                                                                                                                                                                                                                                                                                                                                                                                                                                                                                                 You, sir, are my hero. Any chance you remember what page that's on?   \n",
       "5                                                                                                                                                                                                                                                                                                                                                                                                                                                                                                                                                                                 \"\\n\\nCongratulations from me as well, use the tools well.  · talk \"   \n",
       "6                                                                                                                                                                                                                                                                                                                                                                                                                                                                                                                                                                                                        COCKSUCKER BEFORE YOU PISS AROUND ON MY WORK   \n",
       "7                                                                                                                                                                                                                                                                                                                                                                                                                                                                                                                                 Your vandalism to the Matt Shirvington article has been reverted.  Please don't do it again, or you will be banned.   \n",
       "8                                                                                                                                                            Sorry if the word 'nonsense' was offensive to you. Anyway, I'm not intending to write anything in the article(wow they would jump on me for vandalism), I'm merely requesting that it be more encyclopedic so one can use it for school as a reference. I have been to the selective breeding page but it's almost a stub. It points to 'animal breeding' which is a short messy article that gives you no info. There must be someone around with expertise in eugenics? 93.161.107.169   \n",
       "9                                                                                                                                                                                                                                                                                                                                                                                                                                                                                                                                                                              alignment on this subject and which are contrary to those of DuLithgow   \n",
       "\n",
       "   toxic  \n",
       "0      0  \n",
       "1      0  \n",
       "2      0  \n",
       "3      0  \n",
       "4      0  \n",
       "5      0  \n",
       "6      1  \n",
       "7      0  \n",
       "8      0  \n",
       "9      0  "
      ]
     },
     "execution_count": 7,
     "metadata": {},
     "output_type": "execute_result"
    }
   ],
   "source": [
    "df.head(10)"
   ]
  },
  {
   "cell_type": "code",
   "execution_count": 8,
   "metadata": {},
   "outputs": [
    {
     "data": {
      "text/html": [
       "<div>\n",
       "<style scoped>\n",
       "    .dataframe tbody tr th:only-of-type {\n",
       "        vertical-align: middle;\n",
       "    }\n",
       "\n",
       "    .dataframe tbody tr th {\n",
       "        vertical-align: top;\n",
       "    }\n",
       "\n",
       "    .dataframe thead th {\n",
       "        text-align: right;\n",
       "    }\n",
       "</style>\n",
       "<table border=\"1\" class=\"dataframe\">\n",
       "  <thead>\n",
       "    <tr style=\"text-align: right;\">\n",
       "      <th></th>\n",
       "      <th>Unnamed: 0</th>\n",
       "      <th>text</th>\n",
       "      <th>toxic</th>\n",
       "    </tr>\n",
       "  </thead>\n",
       "  <tbody>\n",
       "    <tr>\n",
       "      <th>159287</th>\n",
       "      <td>159446</td>\n",
       "      <td>\":::::And for the second time of asking, when your view completely contradicts the coverage in reliable sources, why should anyone care what you feel? You can't even give a consistent argument - is the opening only supposed to mention significant aspects, or the \"\"most significant\"\" ones?   \\n\\n\"</td>\n",
       "      <td>0</td>\n",
       "    </tr>\n",
       "    <tr>\n",
       "      <th>159288</th>\n",
       "      <td>159447</td>\n",
       "      <td>You should be ashamed of yourself \\n\\nThat is a horrible thing you put on my talk page.  128.61.19.93</td>\n",
       "      <td>0</td>\n",
       "    </tr>\n",
       "    <tr>\n",
       "      <th>159289</th>\n",
       "      <td>159448</td>\n",
       "      <td>Spitzer \\n\\nUmm, theres no actual article for prostitution ring.  - Crunch Captain.</td>\n",
       "      <td>0</td>\n",
       "    </tr>\n",
       "    <tr>\n",
       "      <th>159290</th>\n",
       "      <td>159449</td>\n",
       "      <td>And it looks like it was actually you who put on the speedy to have the first version deleted now that I look at it.</td>\n",
       "      <td>0</td>\n",
       "    </tr>\n",
       "    <tr>\n",
       "      <th>159291</th>\n",
       "      <td>159450</td>\n",
       "      <td>\"\\nAnd ... I really don't think you understand.  I came here and my idea was bad right away.  What kind of community goes \"\"you have bad ideas\"\" go away, instead of helping rewrite them.   \"</td>\n",
       "      <td>0</td>\n",
       "    </tr>\n",
       "  </tbody>\n",
       "</table>\n",
       "</div>"
      ],
      "text/plain": [
       "        Unnamed: 0  \\\n",
       "159287      159446   \n",
       "159288      159447   \n",
       "159289      159448   \n",
       "159290      159449   \n",
       "159291      159450   \n",
       "\n",
       "                                                                                                                                                                                                                                                                                                             text  \\\n",
       "159287  \":::::And for the second time of asking, when your view completely contradicts the coverage in reliable sources, why should anyone care what you feel? You can't even give a consistent argument - is the opening only supposed to mention significant aspects, or the \"\"most significant\"\" ones?   \\n\\n\"   \n",
       "159288                                                                                                                                                                                                      You should be ashamed of yourself \\n\\nThat is a horrible thing you put on my talk page.  128.61.19.93   \n",
       "159289                                                                                                                                                                                                                        Spitzer \\n\\nUmm, theres no actual article for prostitution ring.  - Crunch Captain.   \n",
       "159290                                                                                                                                                                                       And it looks like it was actually you who put on the speedy to have the first version deleted now that I look at it.   \n",
       "159291                                                                                                             \"\\nAnd ... I really don't think you understand.  I came here and my idea was bad right away.  What kind of community goes \"\"you have bad ideas\"\" go away, instead of helping rewrite them.   \"   \n",
       "\n",
       "        toxic  \n",
       "159287      0  \n",
       "159288      0  \n",
       "159289      0  \n",
       "159290      0  \n",
       "159291      0  "
      ]
     },
     "execution_count": 8,
     "metadata": {},
     "output_type": "execute_result"
    }
   ],
   "source": [
    "df.tail(5)"
   ]
  },
  {
   "cell_type": "markdown",
   "metadata": {},
   "source": [
    "**Посмотрим на баланс классов**"
   ]
  },
  {
   "cell_type": "code",
   "execution_count": 9,
   "metadata": {},
   "outputs": [
    {
     "data": {
      "image/png": "[encoded data removed]",
      "text/plain": [
       "<Figure size 432x288 with 1 Axes>"
      ]
     },
     "metadata": {},
     "output_type": "display_data"
    },
    {
     "data": {
      "text/plain": [
       "0    143106\n",
       "1     16186\n",
       "Name: toxic, dtype: int64"
      ]
     },
     "execution_count": 9,
     "metadata": {},
     "output_type": "execute_result"
    }
   ],
   "source": [
    "df['toxic'].value_counts(ascending=True).plot.pie(autopct=\"%.1f\")\n",
    "plt.title(\"Доли токсичных и нетоксичных комментариев\")\n",
    "plt.legend()\n",
    "plt.show()\n",
    "df['toxic'].value_counts()"
   ]
  },
  {
   "cell_type": "markdown",
   "metadata": {},
   "source": [
    "- В датасете присутствуют 159292 объекта, столбец с комментариями ('text') и целевой признак ('toxic') с где указаны токсичные комментарии значением 1. Комментарии на английском языке.\n",
    "- Пропущенных значений и дубликатов нет.\n",
    "- Доля токсичных комментариев составляет 10,2% от всего датасета, виден явный дисбаланс классов.\n",
    "- В комментариях замечены знаки \\n, :, \", # и так далее.\n",
    "- Необходимо лемматизировать текст и удалить лишние знаки.\n",
    "- В столбце Unnamed приведен порядковый номер комментария. при этом последний номер больше чем количество объектов, вероятно часть сообщений было удалено из датасета. Данный столбец можно удалить."
   ]
  },
  {
   "cell_type": "code",
   "execution_count": 10,
   "metadata": {},
   "outputs": [],
   "source": [
    "df = df.drop(['Unnamed: 0'], axis=1)"
   ]
  },
  {
   "cell_type": "code",
   "execution_count": 11,
   "metadata": {},
   "outputs": [
    {
     "data": {
      "text/html": [
       "<div>\n",
       "<style scoped>\n",
       "    .dataframe tbody tr th:only-of-type {\n",
       "        vertical-align: middle;\n",
       "    }\n",
       "\n",
       "    .dataframe tbody tr th {\n",
       "        vertical-align: top;\n",
       "    }\n",
       "\n",
       "    .dataframe thead th {\n",
       "        text-align: right;\n",
       "    }\n",
       "</style>\n",
       "<table border=\"1\" class=\"dataframe\">\n",
       "  <thead>\n",
       "    <tr style=\"text-align: right;\">\n",
       "      <th></th>\n",
       "      <th>text</th>\n",
       "      <th>toxic</th>\n",
       "    </tr>\n",
       "  </thead>\n",
       "  <tbody>\n",
       "    <tr>\n",
       "      <th>0</th>\n",
       "      <td>Explanation\\nWhy the edits made under my username Hardcore Metallica Fan were reverted? They weren't vandalisms, just closure on some GAs after I voted at New York Dolls FAC. And please don't remove the template from the talk page since I'm retired now.89.205.38.27</td>\n",
       "      <td>0</td>\n",
       "    </tr>\n",
       "    <tr>\n",
       "      <th>1</th>\n",
       "      <td>D'aww! He matches this background colour I'm seemingly stuck with. Thanks.  (talk) 21:51, January 11, 2016 (UTC)</td>\n",
       "      <td>0</td>\n",
       "    </tr>\n",
       "    <tr>\n",
       "      <th>2</th>\n",
       "      <td>Hey man, I'm really not trying to edit war. It's just that this guy is constantly removing relevant information and talking to me through edits instead of my talk page. He seems to care more about the formatting than the actual info.</td>\n",
       "      <td>0</td>\n",
       "    </tr>\n",
       "    <tr>\n",
       "      <th>3</th>\n",
       "      <td>\"\\nMore\\nI can't make any real suggestions on improvement - I wondered if the section statistics should be later on, or a subsection of \"\"types of accidents\"\"  -I think the references may need tidying so that they are all in the exact same format ie date format etc. I can do that later on, if no-one else does first - if you have any preferences for formatting style on references or want to do it yourself please let me know.\\n\\nThere appears to be a backlog on articles for review so I guess there may be a delay until a reviewer turns up. It's listed in the relevant form eg Wikipedia:Good_article_nominations#Transport  \"</td>\n",
       "      <td>0</td>\n",
       "    </tr>\n",
       "    <tr>\n",
       "      <th>4</th>\n",
       "      <td>You, sir, are my hero. Any chance you remember what page that's on?</td>\n",
       "      <td>0</td>\n",
       "    </tr>\n",
       "    <tr>\n",
       "      <th>5</th>\n",
       "      <td>\"\\n\\nCongratulations from me as well, use the tools well.  · talk \"</td>\n",
       "      <td>0</td>\n",
       "    </tr>\n",
       "    <tr>\n",
       "      <th>6</th>\n",
       "      <td>COCKSUCKER BEFORE YOU PISS AROUND ON MY WORK</td>\n",
       "      <td>1</td>\n",
       "    </tr>\n",
       "    <tr>\n",
       "      <th>7</th>\n",
       "      <td>Your vandalism to the Matt Shirvington article has been reverted.  Please don't do it again, or you will be banned.</td>\n",
       "      <td>0</td>\n",
       "    </tr>\n",
       "    <tr>\n",
       "      <th>8</th>\n",
       "      <td>Sorry if the word 'nonsense' was offensive to you. Anyway, I'm not intending to write anything in the article(wow they would jump on me for vandalism), I'm merely requesting that it be more encyclopedic so one can use it for school as a reference. I have been to the selective breeding page but it's almost a stub. It points to 'animal breeding' which is a short messy article that gives you no info. There must be someone around with expertise in eugenics? 93.161.107.169</td>\n",
       "      <td>0</td>\n",
       "    </tr>\n",
       "    <tr>\n",
       "      <th>9</th>\n",
       "      <td>alignment on this subject and which are contrary to those of DuLithgow</td>\n",
       "      <td>0</td>\n",
       "    </tr>\n",
       "  </tbody>\n",
       "</table>\n",
       "</div>"
      ],
      "text/plain": [
       "                                                                                                                                                                                                                                                                                                                                                                                                                                                                                                                                                                                                                                                 text  \\\n",
       "0                                                                                                                                                                                                                                                                                                                                                                           Explanation\\nWhy the edits made under my username Hardcore Metallica Fan were reverted? They weren't vandalisms, just closure on some GAs after I voted at New York Dolls FAC. And please don't remove the template from the talk page since I'm retired now.89.205.38.27   \n",
       "1                                                                                                                                                                                                                                                                                                                                                                                                                                                                                                                                    D'aww! He matches this background colour I'm seemingly stuck with. Thanks.  (talk) 21:51, January 11, 2016 (UTC)   \n",
       "2                                                                                                                                                                                                                                                                                                                                                                                                           Hey man, I'm really not trying to edit war. It's just that this guy is constantly removing relevant information and talking to me through edits instead of my talk page. He seems to care more about the formatting than the actual info.   \n",
       "3  \"\\nMore\\nI can't make any real suggestions on improvement - I wondered if the section statistics should be later on, or a subsection of \"\"types of accidents\"\"  -I think the references may need tidying so that they are all in the exact same format ie date format etc. I can do that later on, if no-one else does first - if you have any preferences for formatting style on references or want to do it yourself please let me know.\\n\\nThere appears to be a backlog on articles for review so I guess there may be a delay until a reviewer turns up. It's listed in the relevant form eg Wikipedia:Good_article_nominations#Transport  \"   \n",
       "4                                                                                                                                                                                                                                                                                                                                                                                                                                                                                                                                                                                 You, sir, are my hero. Any chance you remember what page that's on?   \n",
       "5                                                                                                                                                                                                                                                                                                                                                                                                                                                                                                                                                                                 \"\\n\\nCongratulations from me as well, use the tools well.  · talk \"   \n",
       "6                                                                                                                                                                                                                                                                                                                                                                                                                                                                                                                                                                                                        COCKSUCKER BEFORE YOU PISS AROUND ON MY WORK   \n",
       "7                                                                                                                                                                                                                                                                                                                                                                                                                                                                                                                                 Your vandalism to the Matt Shirvington article has been reverted.  Please don't do it again, or you will be banned.   \n",
       "8                                                                                                                                                            Sorry if the word 'nonsense' was offensive to you. Anyway, I'm not intending to write anything in the article(wow they would jump on me for vandalism), I'm merely requesting that it be more encyclopedic so one can use it for school as a reference. I have been to the selective breeding page but it's almost a stub. It points to 'animal breeding' which is a short messy article that gives you no info. There must be someone around with expertise in eugenics? 93.161.107.169   \n",
       "9                                                                                                                                                                                                                                                                                                                                                                                                                                                                                                                                                                              alignment on this subject and which are contrary to those of DuLithgow   \n",
       "\n",
       "   toxic  \n",
       "0      0  \n",
       "1      0  \n",
       "2      0  \n",
       "3      0  \n",
       "4      0  \n",
       "5      0  \n",
       "6      1  \n",
       "7      0  \n",
       "8      0  \n",
       "9      0  "
      ]
     },
     "execution_count": 11,
     "metadata": {},
     "output_type": "execute_result"
    }
   ],
   "source": [
    "df.head(10)"
   ]
  },
  {
   "cell_type": "code",
   "execution_count": 12,
   "metadata": {
    "scrolled": true
   },
   "outputs": [],
   "source": [
    "#создадим функцию для очистки текста от ненужных знаков.\n",
    "def clear_text(text):     \n",
    "    text = \" \".join(re.sub(r\"(?!')[\\W\\d]+|(?![\\w])' \", ' ', text).split()).lower()       \n",
    "    return text"
   ]
  },
  {
   "cell_type": "code",
   "execution_count": 13,
   "metadata": {},
   "outputs": [],
   "source": [
    "df['text'] = df['text'].apply(clear_text)"
   ]
  },
  {
   "cell_type": "code",
   "execution_count": 14,
   "metadata": {},
   "outputs": [
    {
     "data": {
      "text/html": [
       "<div>\n",
       "<style scoped>\n",
       "    .dataframe tbody tr th:only-of-type {\n",
       "        vertical-align: middle;\n",
       "    }\n",
       "\n",
       "    .dataframe tbody tr th {\n",
       "        vertical-align: top;\n",
       "    }\n",
       "\n",
       "    .dataframe thead th {\n",
       "        text-align: right;\n",
       "    }\n",
       "</style>\n",
       "<table border=\"1\" class=\"dataframe\">\n",
       "  <thead>\n",
       "    <tr style=\"text-align: right;\">\n",
       "      <th></th>\n",
       "      <th>text</th>\n",
       "      <th>toxic</th>\n",
       "    </tr>\n",
       "  </thead>\n",
       "  <tbody>\n",
       "    <tr>\n",
       "      <th>0</th>\n",
       "      <td>explanation why the edits made under my username hardcore metallica fan were reverted they weren't vandalisms just closure on some gas after i voted at new york dolls fac and please don't remove the template from the talk page since i'm retired now</td>\n",
       "      <td>0</td>\n",
       "    </tr>\n",
       "    <tr>\n",
       "      <th>1</th>\n",
       "      <td>d'aww he matches this background colour i'm seemingly stuck with thanks talk january utc</td>\n",
       "      <td>0</td>\n",
       "    </tr>\n",
       "    <tr>\n",
       "      <th>2</th>\n",
       "      <td>hey man i'm really not trying to edit war it's just that this guy is constantly removing relevant information and talking to me through edits instead of my talk page he seems to care more about the formatting than the actual info</td>\n",
       "      <td>0</td>\n",
       "    </tr>\n",
       "    <tr>\n",
       "      <th>3</th>\n",
       "      <td>more i can't make any real suggestions on improvement i wondered if the section statistics should be later on or a subsection of types of accidents i think the references may need tidying so that they are all in the exact same format ie date format etc i can do that later on if no one else does first if you have any preferences for formatting style on references or want to do it yourself please let me know there appears to be a backlog on articles for review so i guess there may be a delay until a reviewer turns up it's listed in the relevant form eg wikipedia good_article_nominations transport</td>\n",
       "      <td>0</td>\n",
       "    </tr>\n",
       "    <tr>\n",
       "      <th>4</th>\n",
       "      <td>you sir are my hero any chance you remember what page that's on</td>\n",
       "      <td>0</td>\n",
       "    </tr>\n",
       "    <tr>\n",
       "      <th>5</th>\n",
       "      <td>congratulations from me as well use the tools well talk</td>\n",
       "      <td>0</td>\n",
       "    </tr>\n",
       "    <tr>\n",
       "      <th>6</th>\n",
       "      <td>cocksucker before you piss around on my work</td>\n",
       "      <td>1</td>\n",
       "    </tr>\n",
       "    <tr>\n",
       "      <th>7</th>\n",
       "      <td>your vandalism to the matt shirvington article has been reverted please don't do it again or you will be banned</td>\n",
       "      <td>0</td>\n",
       "    </tr>\n",
       "    <tr>\n",
       "      <th>8</th>\n",
       "      <td>sorry if the word nonsense was offensive to you anyway i'm not intending to write anything in the article wow they would jump on me for vandalism i'm merely requesting that it be more encyclopedic so one can use it for school as a reference i have been to the selective breeding page but it's almost a stub it points to animal breeding which is a short messy article that gives you no info there must be someone around with expertise in eugenics</td>\n",
       "      <td>0</td>\n",
       "    </tr>\n",
       "    <tr>\n",
       "      <th>9</th>\n",
       "      <td>alignment on this subject and which are contrary to those of dulithgow</td>\n",
       "      <td>0</td>\n",
       "    </tr>\n",
       "  </tbody>\n",
       "</table>\n",
       "</div>"
      ],
      "text/plain": [
       "                                                                                                                                                                                                                                                                                                                                                                                                                                                                                                                                                                                                                        text  \\\n",
       "0                                                                                                                                                                                                                                                                                                                                                                   explanation why the edits made under my username hardcore metallica fan were reverted they weren't vandalisms just closure on some gas after i voted at new york dolls fac and please don't remove the template from the talk page since i'm retired now   \n",
       "1                                                                                                                                                                                                                                                                                                                                                                                                                                                                                                                                   d'aww he matches this background colour i'm seemingly stuck with thanks talk january utc   \n",
       "2                                                                                                                                                                                                                                                                                                                                                                                      hey man i'm really not trying to edit war it's just that this guy is constantly removing relevant information and talking to me through edits instead of my talk page he seems to care more about the formatting than the actual info   \n",
       "3  more i can't make any real suggestions on improvement i wondered if the section statistics should be later on or a subsection of types of accidents i think the references may need tidying so that they are all in the exact same format ie date format etc i can do that later on if no one else does first if you have any preferences for formatting style on references or want to do it yourself please let me know there appears to be a backlog on articles for review so i guess there may be a delay until a reviewer turns up it's listed in the relevant form eg wikipedia good_article_nominations transport   \n",
       "4                                                                                                                                                                                                                                                                                                                                                                                                                                                                                                                                                            you sir are my hero any chance you remember what page that's on   \n",
       "5                                                                                                                                                                                                                                                                                                                                                                                                                                                                                                                                                                    congratulations from me as well use the tools well talk   \n",
       "6                                                                                                                                                                                                                                                                                                                                                                                                                                                                                                                                                                               cocksucker before you piss around on my work   \n",
       "7                                                                                                                                                                                                                                                                                                                                                                                                                                                                                                            your vandalism to the matt shirvington article has been reverted please don't do it again or you will be banned   \n",
       "8                                                                                                                                                              sorry if the word nonsense was offensive to you anyway i'm not intending to write anything in the article wow they would jump on me for vandalism i'm merely requesting that it be more encyclopedic so one can use it for school as a reference i have been to the selective breeding page but it's almost a stub it points to animal breeding which is a short messy article that gives you no info there must be someone around with expertise in eugenics   \n",
       "9                                                                                                                                                                                                                                                                                                                                                                                                                                                                                                                                                     alignment on this subject and which are contrary to those of dulithgow   \n",
       "\n",
       "   toxic  \n",
       "0      0  \n",
       "1      0  \n",
       "2      0  \n",
       "3      0  \n",
       "4      0  \n",
       "5      0  \n",
       "6      1  \n",
       "7      0  \n",
       "8      0  \n",
       "9      0  "
      ]
     },
     "execution_count": 14,
     "metadata": {},
     "output_type": "execute_result"
    }
   ],
   "source": [
    "df.head(10)"
   ]
  },
  {
   "cell_type": "markdown",
   "metadata": {},
   "source": [
    "**Библиотеки для лемматизации pymorphy2, UDPipe, pymystem3 предназначены для русского текста. Для английского текста будем использовать лемматизатор spaCy (ссылка на статью: https://webdevblog.ru/podhody-lemmatizacii-s-primerami-v-python/).**"
   ]
  },
  {
   "cell_type": "code",
   "execution_count": 15,
   "metadata": {},
   "outputs": [
    {
     "data": {
      "text/plain": [
       "'the stripe bat be hang on their foot for good'"
      ]
     },
     "execution_count": 15,
     "metadata": {},
     "output_type": "execute_result"
    }
   ],
   "source": [
    "# сначала проверим метод\n",
    "nlp = spacy.load('en_core_web_sm', disable=['parser', 'ner'])\n",
    "sentence = \"The striped bats are hanging on their feet for best\"\n",
    "doc = nlp(sentence)\n",
    "\" \".join([token.lemma_ for token in doc])\n"
   ]
  },
  {
   "cell_type": "code",
   "execution_count": 16,
   "metadata": {},
   "outputs": [],
   "source": [
    "# создадим функцию лемматизации на основе spaCy\n",
    "def lemmatize(text):\n",
    "    doc = nlp(text)\n",
    "    return \" \".join([token.lemma_ for token in doc])"
   ]
  },
  {
   "cell_type": "code",
   "execution_count": 17,
   "metadata": {},
   "outputs": [
    {
     "name": "stderr",
     "output_type": "stream",
     "text": [
      "100%|██████████| 159292/159292 [14:44<00:00, 180.14it/s]\n"
     ]
    }
   ],
   "source": [
    "tqdm.pandas()\n",
    "\n",
    "#лемматизируем текст и запишем его в отдельный столбец 'lemm_text'\n",
    "\n",
    "df['lemm_text'] = df['text'].progress_apply(lemmatize)"
   ]
  },
  {
   "cell_type": "code",
   "execution_count": 18,
   "metadata": {},
   "outputs": [],
   "source": [
    "#Выделим признак и целевой признак\n",
    "features = df['lemm_text']\n",
    "target = df['toxic']"
   ]
  },
  {
   "cell_type": "code",
   "execution_count": 19,
   "metadata": {},
   "outputs": [],
   "source": [
    "#зафиксируем random_state\n",
    "RS = 12345"
   ]
  },
  {
   "cell_type": "code",
   "execution_count": 20,
   "metadata": {},
   "outputs": [
    {
     "name": "stdout",
     "output_type": "stream",
     "text": [
      "(119469,)\n",
      "(119469,)\n",
      "(39823,)\n",
      "(39823,)\n"
     ]
    }
   ],
   "source": [
    "#Разделим на датасет на обучающую и тестовую выборки\n",
    "features_train_not_tf_idf, features_test_not_tf_idf, target_train, target_test  = train_test_split(features, \n",
    "                                                                                 target, \n",
    "                                                                                 test_size=0.25,\n",
    "                                                                                 stratify=target,\n",
    "                                                                                 random_state=RS)\n",
    "print(features_train_not_tf_idf.shape)\n",
    "print(target_train.shape)\n",
    "print(features_test_not_tf_idf.shape)\n",
    "print(target_test.shape)"
   ]
  },
  {
   "cell_type": "code",
   "execution_count": 21,
   "metadata": {},
   "outputs": [
    {
     "data": {
      "image/png": "[encoded data removed]",
      "text/plain": [
       "<Figure size 432x288 with 1 Axes>"
      ]
     },
     "metadata": {},
     "output_type": "display_data"
    },
    {
     "data": {
      "text/plain": [
       "0    107329\n",
       "1     12140\n",
       "Name: toxic, dtype: int64"
      ]
     },
     "execution_count": 21,
     "metadata": {},
     "output_type": "execute_result"
    }
   ],
   "source": [
    "target_train.value_counts(ascending=True).plot.pie(autopct=\"%.1f\")\n",
    "plt.title(\"Доли токсичных и нетоксичных комментариев в\")\n",
    "plt.legend()\n",
    "plt.show()\n",
    "target_train.value_counts()"
   ]
  },
  {
   "cell_type": "code",
   "execution_count": 22,
   "metadata": {},
   "outputs": [
    {
     "data": {
      "image/png": "[encoded data removed]",
      "text/plain": [
       "<Figure size 432x288 with 1 Axes>"
      ]
     },
     "metadata": {},
     "output_type": "display_data"
    },
    {
     "data": {
      "text/plain": [
       "0    35777\n",
       "1     4046\n",
       "Name: toxic, dtype: int64"
      ]
     },
     "execution_count": 22,
     "metadata": {},
     "output_type": "execute_result"
    }
   ],
   "source": [
    "target_test.value_counts(ascending=True).plot.pie(autopct=\"%.1f\")\n",
    "plt.title(\"Доли токсичных и нетоксичных комментариев в тестовой выборке\")\n",
    "plt.legend()\n",
    "plt.show()\n",
    "target_test.value_counts()"
   ]
  },
  {
   "cell_type": "markdown",
   "metadata": {},
   "source": [
    "**Выборка поделена грамотно с учетом дисбаланса классов, применен параметр stratify=target.**"
   ]
  },
  {
   "cell_type": "code",
   "execution_count": 23,
   "metadata": {},
   "outputs": [
    {
     "name": "stderr",
     "output_type": "stream",
     "text": [
      "[nltk_data] Downloading package stopwords to /home/jovyan/nltk_data...\n",
      "[nltk_data]   Package stopwords is already up-to-date!\n"
     ]
    }
   ],
   "source": [
    "# загрузим стоп-слова\n",
    "nltk.download('stopwords')\n",
    "stopwords = set(nltk_stopwords.words('english'))"
   ]
  },
  {
   "cell_type": "code",
   "execution_count": 24,
   "metadata": {},
   "outputs": [],
   "source": [
    "# создадим счётчик величин TF-IDF, указав в нём стоп-слова\n",
    "count_tf_idf = TfidfVectorizer(stop_words=stopwords)"
   ]
  },
  {
   "cell_type": "code",
   "execution_count": 25,
   "metadata": {},
   "outputs": [
    {
     "name": "stdout",
     "output_type": "stream",
     "text": [
      "(119469, 133162)\n",
      "(39823, 133162)\n"
     ]
    }
   ],
   "source": [
    "#Вычислим TF-IDF для корпуса текстов\n",
    "\n",
    "features_train = count_tf_idf.fit_transform(features_train_not_tf_idf)\n",
    "features_test = count_tf_idf.transform(features_test_not_tf_idf)\n",
    "print(features_train.shape)\n",
    "print(features_test.shape)"
   ]
  },
  {
   "cell_type": "code",
   "execution_count": 26,
   "metadata": {},
   "outputs": [],
   "source": [
    "# Зафиксируем генератор кросс-валидации cv\n",
    "MY_CV = 3"
   ]
  },
  {
   "cell_type": "markdown",
   "metadata": {},
   "source": [
    "**Вывод:**\n",
    "- Выполнена очистка и лемматизация текста средствами spaCy.\n",
    "- Выделен признак и целевой признак в отдельные переменые.\n",
    "- Данные разбиты на обучающую и тестовую выборку с учетом дисбаланса классов.\n",
    "- Вычислен TF-IDF для корпуса текстов значения занесены в качестве признака."
   ]
  },
  {
   "cell_type": "markdown",
   "metadata": {},
   "source": [
    "## Обучение"
   ]
  },
  {
   "cell_type": "markdown",
   "metadata": {},
   "source": [
    "**Обучение всех моделей будем проводить сразу со взвешиванием классов, так как обычно это дает хороший результат.**"
   ]
  },
  {
   "cell_type": "markdown",
   "metadata": {},
   "source": [
    "**2.1. Обучим модель линейной регрессии.**"
   ]
  },
  {
   "cell_type": "code",
   "execution_count": 27,
   "metadata": {},
   "outputs": [],
   "source": [
    "parameters_log = [{'C':[0.1, 1, 10],\n",
    "                'penalty':['l1', 'l2', 'elasticnet']}]"
   ]
  },
  {
   "cell_type": "code",
   "execution_count": 28,
   "metadata": {},
   "outputs": [
    {
     "name": "stdout",
     "output_type": "stream",
     "text": [
      "CPU times: user 1min 26s, sys: 1min 18s, total: 2min 45s\n",
      "Wall time: 2min 45s\n"
     ]
    },
    {
     "data": {
      "text/plain": [
       "GridSearchCV(cv=3,\n",
       "             estimator=LogisticRegression(class_weight='balanced',\n",
       "                                          random_state=12345,\n",
       "                                          solver='liblinear'),\n",
       "             param_grid=[{'C': [0.1, 1, 10],\n",
       "                          'penalty': ['l1', 'l2', 'elasticnet']}],\n",
       "             scoring='f1')"
      ]
     },
     "execution_count": 28,
     "metadata": {},
     "output_type": "execute_result"
    }
   ],
   "source": [
    "%%time\n",
    "model_log = LogisticRegression(random_state=RS, class_weight='balanced', solver='liblinear')\n",
    "grid_log = GridSearchCV(model_log, parameters_log, cv=MY_CV, scoring='f1')\n",
    "grid_log.fit(features_train, target_train)"
   ]
  },
  {
   "cell_type": "code",
   "execution_count": 29,
   "metadata": {},
   "outputs": [
    {
     "name": "stdout",
     "output_type": "stream",
     "text": [
      "Лучшие гиперпараметры для логистической регрессии: {'C': 10, 'penalty': 'l2'}\n",
      "'F1-мера' для логистической регрессии: 0.77\n"
     ]
    }
   ],
   "source": [
    "best_parameters_log = grid_log.best_params_\n",
    "best_score_log = round(grid_log.best_score_, 2)\n",
    "print('Лучшие гиперпараметры для логистической регрессии:', best_parameters_log)\n",
    "print(\"'F1-мера' для логистической регрессии:\", best_score_log)"
   ]
  },
  {
   "cell_type": "markdown",
   "metadata": {},
   "source": [
    "**2.2. Обучим модель случайного леса.**"
   ]
  },
  {
   "cell_type": "code",
   "execution_count": 30,
   "metadata": {},
   "outputs": [],
   "source": [
    "parameters_forest = {'n_estimators': range(10, 51, 10),\n",
    "                     'max_depth': range(1, 10), \n",
    "                     'min_samples_leaf': range(1,6)}"
   ]
  },
  {
   "cell_type": "code",
   "execution_count": 31,
   "metadata": {},
   "outputs": [
    {
     "name": "stdout",
     "output_type": "stream",
     "text": [
      "CPU times: user 23min 59s, sys: 18.2 s, total: 24min 17s\n",
      "Wall time: 24min 18s\n"
     ]
    },
    {
     "data": {
      "text/plain": [
       "GridSearchCV(cv=3,\n",
       "             estimator=RandomForestClassifier(class_weight='balanced',\n",
       "                                              random_state=12345),\n",
       "             param_grid={'max_depth': range(1, 10),\n",
       "                         'min_samples_leaf': range(1, 6),\n",
       "                         'n_estimators': range(10, 51, 10)},\n",
       "             scoring='f1')"
      ]
     },
     "execution_count": 31,
     "metadata": {},
     "output_type": "execute_result"
    }
   ],
   "source": [
    "%%time\n",
    "model_forest = RandomForestClassifier(random_state=RS, class_weight='balanced')\n",
    "grid_forest = GridSearchCV(model_forest, parameters_forest, cv=MY_CV, scoring='f1')\n",
    "grid_forest.fit(features_train, target_train)"
   ]
  },
  {
   "cell_type": "code",
   "execution_count": 32,
   "metadata": {},
   "outputs": [
    {
     "name": "stdout",
     "output_type": "stream",
     "text": [
      "Лучшие гиперпараметры для модели случайного леса: {'max_depth': 4, 'min_samples_leaf': 3, 'n_estimators': 10}\n",
      "'F1-мера' для модели случайного леса: 0.35\n"
     ]
    }
   ],
   "source": [
    "best_parameters_forest = grid_forest.best_params_\n",
    "best_score_forest = round(grid_forest.best_score_, 2)\n",
    "print('Лучшие гиперпараметры для модели случайного леса:', best_parameters_forest)\n",
    "print(\"'F1-мера' для модели случайного леса:\", best_score_forest)"
   ]
  },
  {
   "cell_type": "markdown",
   "metadata": {},
   "source": [
    "**3.3. Обучим модель CatBoostClassifier.**"
   ]
  },
  {
   "cell_type": "code",
   "execution_count": 33,
   "metadata": {},
   "outputs": [],
   "source": [
    "parameters_cbc = {'learning_rate': np.logspace(-2, 0, 4),\n",
    "                  'depth': range(10, 41, 10)}"
   ]
  },
  {
   "cell_type": "code",
   "execution_count": 34,
   "metadata": {
    "scrolled": false
   },
   "outputs": [
    {
     "name": "stdout",
     "output_type": "stream",
     "text": [
      "CPU times: user 30min 10s, sys: 5.25 s, total: 30min 15s\n",
      "Wall time: 30min 29s\n"
     ]
    },
    {
     "data": {
      "text/plain": [
       "GridSearchCV(cv=3,\n",
       "             estimator=<catboost.core.CatBoostClassifier object at 0x7fa083ceb190>,\n",
       "             param_grid={'depth': range(10, 41, 10),\n",
       "                         'learning_rate': array([0.01      , 0.04641589, 0.21544347, 1.        ])},\n",
       "             scoring='f1')"
      ]
     },
     "execution_count": 34,
     "metadata": {},
     "output_type": "execute_result"
    }
   ],
   "source": [
    "%%time\n",
    "\n",
    "model_cbс = CatBoostClassifier(verbose=False, loss_function=\"Logloss\", iterations=10, auto_class_weights='Balanced')\n",
    "grid_cbc = GridSearchCV(model_cbс, parameters_cbc, scoring='f1', cv=MY_CV)\n",
    "grid_cbc.fit(features_train, target_train)"
   ]
  },
  {
   "cell_type": "code",
   "execution_count": 35,
   "metadata": {},
   "outputs": [
    {
     "name": "stdout",
     "output_type": "stream",
     "text": [
      "Лучшие гиперпараметры для модели CatBoostClassifier: {'depth': 10, 'learning_rate': 0.21544346900318834}\n",
      "'F1-мера' для модели CatBoostClassifier: 0.67\n"
     ]
    }
   ],
   "source": [
    "best_parameters_cbc = grid_cbc.best_params_\n",
    "best_score_cbc = round(grid_cbc.best_score_, 2)\n",
    "print('Лучшие гиперпараметры для модели CatBoostClassifier:', best_parameters_cbc)\n",
    "print(\"'F1-мера' для модели CatBoostClassifier:\", best_score_cbc)"
   ]
  },
  {
   "cell_type": "code",
   "execution_count": 36,
   "metadata": {},
   "outputs": [
    {
     "data": {
      "text/html": [
       "<div>\n",
       "<style scoped>\n",
       "    .dataframe tbody tr th:only-of-type {\n",
       "        vertical-align: middle;\n",
       "    }\n",
       "\n",
       "    .dataframe tbody tr th {\n",
       "        vertical-align: top;\n",
       "    }\n",
       "\n",
       "    .dataframe thead th {\n",
       "        text-align: right;\n",
       "    }\n",
       "</style>\n",
       "<table border=\"1\" class=\"dataframe\">\n",
       "  <thead>\n",
       "    <tr style=\"text-align: right;\">\n",
       "      <th></th>\n",
       "      <th>Model Type</th>\n",
       "      <th>F1-мера</th>\n",
       "    </tr>\n",
       "  </thead>\n",
       "  <tbody>\n",
       "    <tr>\n",
       "      <th>0</th>\n",
       "      <td>LogisticRegression</td>\n",
       "      <td>0.77</td>\n",
       "    </tr>\n",
       "    <tr>\n",
       "      <th>1</th>\n",
       "      <td>RandomForestClassifier</td>\n",
       "      <td>0.35</td>\n",
       "    </tr>\n",
       "    <tr>\n",
       "      <th>2</th>\n",
       "      <td>CatBoostClassifier</td>\n",
       "      <td>0.67</td>\n",
       "    </tr>\n",
       "  </tbody>\n",
       "</table>\n",
       "</div>"
      ],
      "text/plain": [
       "               Model Type  F1-мера\n",
       "0      LogisticRegression     0.77\n",
       "1  RandomForestClassifier     0.35\n",
       "2      CatBoostClassifier     0.67"
      ]
     },
     "execution_count": 36,
     "metadata": {},
     "output_type": "execute_result"
    }
   ],
   "source": [
    "#занесем результаты в отдельный датафрейм\n",
    "model_type = ['LogisticRegression', 'RandomForestClassifier', 'CatBoostClassifier']\n",
    "f1 = [best_score_log, best_score_forest, best_score_cbc]\n",
    "\n",
    "\n",
    "\n",
    "result = pd.DataFrame({'Model Type': model_type,\n",
    "                           'F1-мера': f1})\n",
    "\n",
    "result"
   ]
  },
  {
   "cell_type": "markdown",
   "metadata": {},
   "source": [
    "**Протестирую лучшую модель**"
   ]
  },
  {
   "cell_type": "code",
   "execution_count": 37,
   "metadata": {},
   "outputs": [
    {
     "name": "stdout",
     "output_type": "stream",
     "text": [
      "'F1-мера' для логистической регрессии на тестовой выборке: 0.77\n",
      "'AUC-ROC' для логистической регрессии на тестовой выборке: 0.97\n",
      "CPU times: user 12.2 s, sys: 13.9 s, total: 26.1 s\n",
      "Wall time: 26.2 s\n"
     ]
    }
   ],
   "source": [
    "%%time\n",
    "\n",
    "model_log = LogisticRegression(random_state=RS, class_weight='balanced', solver='liblinear', C=10, penalty='l2')\n",
    "# model_log = LogisticRegression(random_state=RS, class_weight='balanced', solver='liblinear', best_score_log)\n",
    "\n",
    "model_log.fit(features_train, target_train)\n",
    "predictions_test_log = model_log.predict(features_test)\n",
    "result_log = round(f1_score(target_test, predictions_test_log), 2)\n",
    "\n",
    "probabilities_test_log = model_log.predict_proba(features_test)\n",
    "probabilities_one_test_log = probabilities_test_log[:, 1]\n",
    "auc_roc_log = round(roc_auc_score(target_test, probabilities_one_test_log), 2)\n",
    "print(\"'F1-мера' для логистической регрессии на тестовой выборке:\", result_log)\n",
    "print(\"'AUC-ROC' для логистической регрессии на тестовой выборке:\", auc_roc_log)"
   ]
  },
  {
   "cell_type": "markdown",
   "metadata": {},
   "source": [
    "**На тестовой выборке 'F1-мера' для логистической регрессии составила 0,77, что больше необходимого значения (0,75). 'AUC-ROC' составила 0,97.**"
   ]
  },
  {
   "cell_type": "markdown",
   "metadata": {},
   "source": [
    "**Сравним результаты со случайной моделью с помощью ROC-кривой.**"
   ]
  },
  {
   "cell_type": "code",
   "execution_count": 38,
   "metadata": {},
   "outputs": [
    {
     "data": {
      "image/png": "[encoded data removed]",
      "text/plain": [
       "<Figure size 432x288 with 1 Axes>"
      ]
     },
     "metadata": {
      "needs_background": "light"
     },
     "output_type": "display_data"
    }
   ],
   "source": [
    "fpr, tpr, thresholds = roc_curve(target_test, probabilities_one_test_log)\n",
    "\n",
    "plt.figure()\n",
    "plt.plot([0, 1], [0, 1], linestyle='--', label='Случайная модель')\n",
    "plt.plot(fpr, tpr, label='Логистическая регрессия')\n",
    "\n",
    "plt.ylim([0.0, 1.0])\n",
    "plt.xlim([0.0, 1.0])\n",
    "plt.xlabel('False Positive Rate')\n",
    "plt.ylabel('True Positive Rate')\n",
    "plt.legend(loc='lower right', fontsize='large')\n",
    "plt.title('ROC-кривая')\n",
    "plt.show()"
   ]
  },
  {
   "cell_type": "markdown",
   "metadata": {},
   "source": [
    "**Наша модель прошла тест на адекватность, она лучше случайной модели.**"
   ]
  },
  {
   "cell_type": "markdown",
   "metadata": {},
   "source": [
    "## Выводы"
   ]
  },
  {
   "attachments": {
    "image.png": {
     "image/png": "[encoded data removed]"
    }
   },
   "cell_type": "markdown",
   "metadata": {},
   "source": [
    "**В результате анализа общей информации выявлено следующее:**\n",
    "\n",
    "- В датасете присутствуют 159292 объекта, столбец с комментариями ('text') и целевой признак ('toxic') с где указаны токсичные комментарии значением 1. Комментарии на английском языке.\n",
    "- Пропущенных значений и дубликатов нет.\n",
    "- Доля токсичных комментариев составляет 10,2% от всего датасета, виден явный дисбаланс классов.\n",
    "- В комментариях замечены знаки \\n, :, \", # и так далее.\n",
    "- Необходимо лемматизировать текст и удалить лишние знаки.\n",
    "- В столбце Unnamed приведен порядковый номер комментария. при этом последний номер больше чем количество объектов, вероятно часть сообщений было удалено из датасета. Данный столбец можно удалить.\n",
    "\n",
    "**В результате подготовки данных выполнено:**\n",
    "\n",
    "- Выполнена очистка и лемматизация текста средствами spaCy.\n",
    "- Выделен признак и целевой признак в отдельные переменые.\n",
    "- Данные разбиты на обучающую и тестовую выборку с учетом дисбаланса классов.\n",
    "- Вычислен TF-IDF для корпуса текстов, значения занесены в качестве признака.\n",
    "\n",
    "**Модели:**\n",
    "- Обучение всех моделей проведено сразу со взвешиванием классов, так как обычно это дает хороший результат.\n",
    "\n",
    "![image.png](attachment:image.png)\n",
    "\n",
    "- В результате обучения моделей наилучшей оказалась модель логистической регрессии со следующими гиперпараметрами: {'C': 10, 'penalty': 'l2'}.\n",
    "- Финальная оценка F1-меры на тестовой выборке составила 0.77, что больше необходимого значения (0,75).\n",
    "- Модель прошла проверку на адекватность при сравнении со случайной моделью, с помощью ROC-кривой."
   ]
  }
 ],
 "metadata": {
  "ExecuteTimeLog": [
   {
    "duration": 4169,
    "start_time": "2023-08-30T11:46:55.679Z"
   },
   {
    "duration": 3382,
    "start_time": "2023-08-30T11:47:03.278Z"
   },
   {
    "duration": 46,
    "start_time": "2023-08-30T11:47:30.525Z"
   },
   {
    "duration": 15,
    "start_time": "2023-08-30T11:47:44.443Z"
   },
   {
    "duration": 6,
    "start_time": "2023-08-30T12:04:26.258Z"
   },
   {
    "duration": 17954,
    "start_time": "2023-08-30T12:04:30.524Z"
   },
   {
    "duration": 16,
    "start_time": "2023-08-30T12:14:35.992Z"
   },
   {
    "duration": 20,
    "start_time": "2023-08-30T12:19:11.406Z"
   },
   {
    "duration": 3475,
    "start_time": "2023-08-30T12:20:36.759Z"
   },
   {
    "duration": 1811,
    "start_time": "2023-08-30T12:20:58.773Z"
   },
   {
    "duration": 2394,
    "start_time": "2023-08-30T12:21:09.344Z"
   },
   {
    "duration": 19,
    "start_time": "2023-08-30T12:22:12.468Z"
   },
   {
    "duration": 128,
    "start_time": "2023-08-30T12:22:28.132Z"
   },
   {
    "duration": 142,
    "start_time": "2023-08-30T12:22:41.978Z"
   },
   {
    "duration": 151,
    "start_time": "2023-08-30T12:25:50.842Z"
   },
   {
    "duration": 9,
    "start_time": "2023-08-30T12:25:56.697Z"
   },
   {
    "duration": 131,
    "start_time": "2023-08-30T12:28:47.059Z"
   },
   {
    "duration": 11,
    "start_time": "2023-08-30T12:29:14.768Z"
   },
   {
    "duration": 1712,
    "start_time": "2023-08-30T12:29:47.380Z"
   },
   {
    "duration": 2641,
    "start_time": "2023-08-30T12:30:06.837Z"
   },
   {
    "duration": 2032,
    "start_time": "2023-08-30T12:30:23.942Z"
   },
   {
    "duration": 2039,
    "start_time": "2023-08-30T12:30:41.367Z"
   },
   {
    "duration": 20,
    "start_time": "2023-08-30T12:31:21.855Z"
   },
   {
    "duration": 12,
    "start_time": "2023-08-30T12:31:33.073Z"
   },
   {
    "duration": 25,
    "start_time": "2023-08-30T12:31:44.441Z"
   },
   {
    "duration": 21,
    "start_time": "2023-08-30T12:32:04.765Z"
   },
   {
    "duration": 220,
    "start_time": "2023-08-30T12:52:05.596Z"
   },
   {
    "duration": 182,
    "start_time": "2023-08-30T13:00:45.550Z"
   },
   {
    "duration": 286,
    "start_time": "2023-08-30T13:01:47.702Z"
   },
   {
    "duration": 186,
    "start_time": "2023-08-30T13:02:26.337Z"
   },
   {
    "duration": 21,
    "start_time": "2023-08-30T13:02:46.536Z"
   },
   {
    "duration": 190,
    "start_time": "2023-08-30T13:02:53.043Z"
   },
   {
    "duration": 184,
    "start_time": "2023-08-30T13:03:06.743Z"
   },
   {
    "duration": 221,
    "start_time": "2023-08-30T13:03:44.568Z"
   },
   {
    "duration": 222,
    "start_time": "2023-08-30T13:03:57.176Z"
   },
   {
    "duration": 7,
    "start_time": "2023-08-30T13:10:55.363Z"
   },
   {
    "duration": 1613,
    "start_time": "2023-08-30T13:11:01.783Z"
   },
   {
    "duration": 9,
    "start_time": "2023-08-30T13:12:11.709Z"
   },
   {
    "duration": 1503,
    "start_time": "2023-08-30T13:12:13.994Z"
   },
   {
    "duration": 4,
    "start_time": "2023-08-30T13:14:00.192Z"
   },
   {
    "duration": 5264,
    "start_time": "2023-08-30T13:14:01.786Z"
   },
   {
    "duration": 15,
    "start_time": "2023-08-30T13:15:04.373Z"
   },
   {
    "duration": 10,
    "start_time": "2023-08-30T13:15:36.276Z"
   },
   {
    "duration": 4,
    "start_time": "2023-08-30T13:18:43.859Z"
   },
   {
    "duration": 10,
    "start_time": "2023-08-30T13:18:46.271Z"
   },
   {
    "duration": 104,
    "start_time": "2023-08-30T13:22:20.876Z"
   },
   {
    "duration": 4779,
    "start_time": "2023-08-30T13:22:24.962Z"
   },
   {
    "duration": 4021,
    "start_time": "2023-08-30T13:22:29.744Z"
   },
   {
    "duration": 7,
    "start_time": "2023-08-30T13:22:33.768Z"
   },
   {
    "duration": 20837,
    "start_time": "2023-08-30T13:22:33.776Z"
   },
   {
    "duration": 17,
    "start_time": "2023-08-30T13:23:01.638Z"
   },
   {
    "duration": 17,
    "start_time": "2023-08-30T13:23:50.546Z"
   },
   {
    "duration": 58,
    "start_time": "2023-08-30T13:25:10.339Z"
   },
   {
    "duration": 43,
    "start_time": "2023-08-30T13:26:09.243Z"
   },
   {
    "duration": 295,
    "start_time": "2023-08-30T13:26:20.287Z"
   },
   {
    "duration": 4533,
    "start_time": "2023-08-30T13:26:58.085Z"
   },
   {
    "duration": 1250,
    "start_time": "2023-08-30T13:27:02.630Z"
   },
   {
    "duration": 45,
    "start_time": "2023-08-30T13:27:03.885Z"
   },
   {
    "duration": 40,
    "start_time": "2023-08-30T13:27:03.933Z"
   },
   {
    "duration": 383,
    "start_time": "2023-08-30T13:27:03.974Z"
   },
   {
    "duration": 10,
    "start_time": "2023-08-30T13:27:04.360Z"
   },
   {
    "duration": 20,
    "start_time": "2023-08-30T13:27:04.373Z"
   },
   {
    "duration": 324,
    "start_time": "2023-08-30T13:27:04.396Z"
   },
   {
    "duration": 3673,
    "start_time": "2023-08-30T15:34:16.998Z"
   },
   {
    "duration": 2644,
    "start_time": "2023-08-30T15:34:20.673Z"
   },
   {
    "duration": 34,
    "start_time": "2023-08-30T15:34:23.318Z"
   },
   {
    "duration": 48,
    "start_time": "2023-08-30T15:34:23.354Z"
   },
   {
    "duration": 259,
    "start_time": "2023-08-30T15:34:23.404Z"
   },
   {
    "duration": 4,
    "start_time": "2023-08-30T15:34:23.665Z"
   },
   {
    "duration": 14,
    "start_time": "2023-08-30T15:34:23.671Z"
   },
   {
    "duration": 189,
    "start_time": "2023-08-30T15:34:23.687Z"
   },
   {
    "duration": 10,
    "start_time": "2023-08-30T15:34:54.216Z"
   },
   {
    "duration": 8,
    "start_time": "2023-08-30T15:34:59.129Z"
   },
   {
    "duration": 12,
    "start_time": "2023-08-30T15:37:08.290Z"
   },
   {
    "duration": 11,
    "start_time": "2023-08-30T15:37:11.851Z"
   },
   {
    "duration": 4,
    "start_time": "2023-08-30T15:40:58.357Z"
   },
   {
    "duration": 3,
    "start_time": "2023-08-30T15:43:46.717Z"
   },
   {
    "duration": 1841,
    "start_time": "2023-08-30T15:44:34.015Z"
   },
   {
    "duration": 20,
    "start_time": "2023-08-30T15:44:40.700Z"
   },
   {
    "duration": 10,
    "start_time": "2023-08-30T15:44:56.027Z"
   },
   {
    "duration": 2906,
    "start_time": "2023-08-30T15:45:05.981Z"
   },
   {
    "duration": 877,
    "start_time": "2023-08-30T15:45:08.889Z"
   },
   {
    "duration": 38,
    "start_time": "2023-08-30T15:45:09.768Z"
   },
   {
    "duration": 66,
    "start_time": "2023-08-30T15:45:09.808Z"
   },
   {
    "duration": 276,
    "start_time": "2023-08-30T15:45:09.876Z"
   },
   {
    "duration": 3,
    "start_time": "2023-08-30T15:45:10.154Z"
   },
   {
    "duration": 31,
    "start_time": "2023-08-30T15:45:10.159Z"
   },
   {
    "duration": 36,
    "start_time": "2023-08-30T15:45:10.191Z"
   },
   {
    "duration": 188,
    "start_time": "2023-08-30T15:45:10.229Z"
   },
   {
    "duration": 11,
    "start_time": "2023-08-30T15:45:10.419Z"
   },
   {
    "duration": 38,
    "start_time": "2023-08-30T15:45:10.431Z"
   },
   {
    "duration": 3,
    "start_time": "2023-08-30T15:49:36.838Z"
   },
   {
    "duration": 509,
    "start_time": "2023-08-30T15:49:39.340Z"
   },
   {
    "duration": 4,
    "start_time": "2023-08-30T15:51:12.532Z"
   },
   {
    "duration": 40,
    "start_time": "2023-08-30T15:51:14.801Z"
   },
   {
    "duration": 3,
    "start_time": "2023-08-30T15:58:06.843Z"
   },
   {
    "duration": 3061,
    "start_time": "2023-08-30T15:58:08.788Z"
   },
   {
    "duration": 8,
    "start_time": "2023-08-30T15:58:13.744Z"
   },
   {
    "duration": 3,
    "start_time": "2023-08-30T16:01:46.717Z"
   },
   {
    "duration": 2487,
    "start_time": "2023-08-30T16:01:51.941Z"
   },
   {
    "duration": 7,
    "start_time": "2023-08-30T16:02:11.119Z"
   },
   {
    "duration": 4,
    "start_time": "2023-08-30T16:02:24.481Z"
   },
   {
    "duration": 2506,
    "start_time": "2023-08-30T16:02:26.618Z"
   },
   {
    "duration": 3021,
    "start_time": "2023-08-30T16:02:37.049Z"
   },
   {
    "duration": 880,
    "start_time": "2023-08-30T16:02:40.073Z"
   },
   {
    "duration": 37,
    "start_time": "2023-08-30T16:02:40.955Z"
   },
   {
    "duration": 34,
    "start_time": "2023-08-30T16:02:41.002Z"
   },
   {
    "duration": 266,
    "start_time": "2023-08-30T16:02:41.038Z"
   },
   {
    "duration": 3,
    "start_time": "2023-08-30T16:02:41.306Z"
   },
   {
    "duration": 23,
    "start_time": "2023-08-30T16:02:41.310Z"
   },
   {
    "duration": 12,
    "start_time": "2023-08-30T16:02:41.335Z"
   },
   {
    "duration": 196,
    "start_time": "2023-08-30T16:02:41.349Z"
   },
   {
    "duration": 13,
    "start_time": "2023-08-30T16:02:41.546Z"
   },
   {
    "duration": 12,
    "start_time": "2023-08-30T16:02:41.561Z"
   },
   {
    "duration": 26,
    "start_time": "2023-08-30T16:02:41.575Z"
   },
   {
    "duration": 6,
    "start_time": "2023-08-30T16:02:41.603Z"
   },
   {
    "duration": 3166,
    "start_time": "2023-08-30T16:02:41.611Z"
   },
   {
    "duration": 3,
    "start_time": "2023-08-30T16:02:44.779Z"
   },
   {
    "duration": 31,
    "start_time": "2023-08-30T16:02:44.784Z"
   },
   {
    "duration": 7,
    "start_time": "2023-08-30T16:03:12.823Z"
   },
   {
    "duration": 2997,
    "start_time": "2023-08-30T16:05:41.938Z"
   },
   {
    "duration": 873,
    "start_time": "2023-08-30T16:05:44.937Z"
   },
   {
    "duration": 34,
    "start_time": "2023-08-30T16:05:45.812Z"
   },
   {
    "duration": 44,
    "start_time": "2023-08-30T16:05:45.848Z"
   },
   {
    "duration": 256,
    "start_time": "2023-08-30T16:05:45.901Z"
   },
   {
    "duration": 3,
    "start_time": "2023-08-30T16:05:46.158Z"
   },
   {
    "duration": 44,
    "start_time": "2023-08-30T16:05:46.163Z"
   },
   {
    "duration": 11,
    "start_time": "2023-08-30T16:05:46.209Z"
   },
   {
    "duration": 186,
    "start_time": "2023-08-30T16:05:46.221Z"
   },
   {
    "duration": 12,
    "start_time": "2023-08-30T16:05:46.409Z"
   },
   {
    "duration": 31,
    "start_time": "2023-08-30T16:05:46.422Z"
   },
   {
    "duration": 20,
    "start_time": "2023-08-30T16:05:46.455Z"
   },
   {
    "duration": 12,
    "start_time": "2023-08-30T16:05:46.477Z"
   },
   {
    "duration": 6876,
    "start_time": "2023-08-30T16:05:46.492Z"
   },
   {
    "duration": 3,
    "start_time": "2023-08-30T16:05:53.370Z"
   },
   {
    "duration": 16,
    "start_time": "2023-08-30T16:05:53.374Z"
   },
   {
    "duration": 8,
    "start_time": "2023-08-30T16:10:37.547Z"
   },
   {
    "duration": 8,
    "start_time": "2023-08-30T16:10:52.633Z"
   },
   {
    "duration": 8,
    "start_time": "2023-08-30T16:11:12.491Z"
   },
   {
    "duration": 3075,
    "start_time": "2023-08-30T16:11:24.059Z"
   },
   {
    "duration": 905,
    "start_time": "2023-08-30T16:11:27.137Z"
   },
   {
    "duration": 36,
    "start_time": "2023-08-30T16:11:28.047Z"
   },
   {
    "duration": 33,
    "start_time": "2023-08-30T16:11:28.102Z"
   },
   {
    "duration": 270,
    "start_time": "2023-08-30T16:11:28.137Z"
   },
   {
    "duration": 3,
    "start_time": "2023-08-30T16:11:28.409Z"
   },
   {
    "duration": 27,
    "start_time": "2023-08-30T16:11:28.414Z"
   },
   {
    "duration": 13,
    "start_time": "2023-08-30T16:11:28.443Z"
   },
   {
    "duration": 187,
    "start_time": "2023-08-30T16:11:28.459Z"
   },
   {
    "duration": 12,
    "start_time": "2023-08-30T16:11:28.648Z"
   },
   {
    "duration": 36,
    "start_time": "2023-08-30T16:11:28.662Z"
   },
   {
    "duration": 9,
    "start_time": "2023-08-30T16:11:28.700Z"
   },
   {
    "duration": 5,
    "start_time": "2023-08-30T16:11:28.711Z"
   },
   {
    "duration": 15,
    "start_time": "2023-08-30T16:11:28.718Z"
   },
   {
    "duration": 6986,
    "start_time": "2023-08-30T16:11:28.735Z"
   },
   {
    "duration": 2,
    "start_time": "2023-08-30T16:11:35.723Z"
   },
   {
    "duration": 25,
    "start_time": "2023-08-30T16:11:35.727Z"
   },
   {
    "duration": 23,
    "start_time": "2023-08-30T16:11:35.754Z"
   },
   {
    "duration": 3083,
    "start_time": "2023-08-30T16:25:01.208Z"
   },
   {
    "duration": 942,
    "start_time": "2023-08-30T16:25:04.295Z"
   },
   {
    "duration": 36,
    "start_time": "2023-08-30T16:25:05.239Z"
   },
   {
    "duration": 44,
    "start_time": "2023-08-30T16:25:05.277Z"
   },
   {
    "duration": 251,
    "start_time": "2023-08-30T16:25:05.323Z"
   },
   {
    "duration": 3,
    "start_time": "2023-08-30T16:25:05.576Z"
   },
   {
    "duration": 36,
    "start_time": "2023-08-30T16:25:05.581Z"
   },
   {
    "duration": 42,
    "start_time": "2023-08-30T16:25:05.618Z"
   },
   {
    "duration": 191,
    "start_time": "2023-08-30T16:25:05.662Z"
   },
   {
    "duration": 12,
    "start_time": "2023-08-30T16:25:05.854Z"
   },
   {
    "duration": 33,
    "start_time": "2023-08-30T16:25:05.868Z"
   },
   {
    "duration": 15,
    "start_time": "2023-08-30T16:25:05.903Z"
   },
   {
    "duration": 34,
    "start_time": "2023-08-30T16:25:05.920Z"
   },
   {
    "duration": 6934,
    "start_time": "2023-08-30T16:25:05.956Z"
   },
   {
    "duration": 12,
    "start_time": "2023-08-30T16:25:12.892Z"
   },
   {
    "duration": 3080,
    "start_time": "2023-08-30T16:28:50.303Z"
   },
   {
    "duration": 885,
    "start_time": "2023-08-30T16:28:53.385Z"
   },
   {
    "duration": 43,
    "start_time": "2023-08-30T16:28:54.272Z"
   },
   {
    "duration": 31,
    "start_time": "2023-08-30T16:28:54.317Z"
   },
   {
    "duration": 275,
    "start_time": "2023-08-30T16:28:54.351Z"
   },
   {
    "duration": 3,
    "start_time": "2023-08-30T16:28:54.627Z"
   },
   {
    "duration": 24,
    "start_time": "2023-08-30T16:28:54.632Z"
   },
   {
    "duration": 19,
    "start_time": "2023-08-30T16:28:54.658Z"
   },
   {
    "duration": 247,
    "start_time": "2023-08-30T16:28:54.678Z"
   },
   {
    "duration": 11,
    "start_time": "2023-08-30T16:28:54.927Z"
   },
   {
    "duration": 31,
    "start_time": "2023-08-30T16:28:54.940Z"
   },
   {
    "duration": 15,
    "start_time": "2023-08-30T16:28:54.972Z"
   },
   {
    "duration": 6894,
    "start_time": "2023-08-30T16:28:54.989Z"
   },
   {
    "duration": 16,
    "start_time": "2023-08-30T16:29:01.886Z"
   },
   {
    "duration": 5,
    "start_time": "2023-08-30T17:03:05.515Z"
   },
   {
    "duration": 5,
    "start_time": "2023-08-30T17:10:12.286Z"
   },
   {
    "duration": 4,
    "start_time": "2023-08-30T17:19:58.340Z"
   },
   {
    "duration": 5,
    "start_time": "2023-08-30T17:56:29.833Z"
   },
   {
    "duration": 5,
    "start_time": "2023-08-30T17:56:39.026Z"
   },
   {
    "duration": 2926,
    "start_time": "2023-08-30T17:57:17.181Z"
   },
   {
    "duration": 851,
    "start_time": "2023-08-30T17:57:20.109Z"
   },
   {
    "duration": 46,
    "start_time": "2023-08-30T17:57:20.962Z"
   },
   {
    "duration": 54,
    "start_time": "2023-08-30T17:57:21.010Z"
   },
   {
    "duration": 258,
    "start_time": "2023-08-30T17:57:21.065Z"
   },
   {
    "duration": 3,
    "start_time": "2023-08-30T17:57:21.325Z"
   },
   {
    "duration": 27,
    "start_time": "2023-08-30T17:57:21.329Z"
   },
   {
    "duration": 17,
    "start_time": "2023-08-30T17:57:21.358Z"
   },
   {
    "duration": 173,
    "start_time": "2023-08-30T17:57:21.376Z"
   },
   {
    "duration": 12,
    "start_time": "2023-08-30T17:57:21.551Z"
   },
   {
    "duration": 191,
    "start_time": "2023-08-30T17:57:21.565Z"
   },
   {
    "duration": 0,
    "start_time": "2023-08-30T17:57:21.759Z"
   },
   {
    "duration": 0,
    "start_time": "2023-08-30T17:57:21.760Z"
   },
   {
    "duration": 0,
    "start_time": "2023-08-30T17:57:21.761Z"
   },
   {
    "duration": 0,
    "start_time": "2023-08-30T17:57:21.762Z"
   },
   {
    "duration": 0,
    "start_time": "2023-08-30T17:57:21.763Z"
   },
   {
    "duration": 0,
    "start_time": "2023-08-30T17:57:21.764Z"
   },
   {
    "duration": 0,
    "start_time": "2023-08-30T17:57:21.765Z"
   },
   {
    "duration": 2816,
    "start_time": "2023-08-30T17:58:57.121Z"
   },
   {
    "duration": 887,
    "start_time": "2023-08-30T17:58:59.939Z"
   },
   {
    "duration": 38,
    "start_time": "2023-08-30T17:59:00.828Z"
   },
   {
    "duration": 76,
    "start_time": "2023-08-30T17:59:00.868Z"
   },
   {
    "duration": 281,
    "start_time": "2023-08-30T17:59:00.947Z"
   },
   {
    "duration": 3,
    "start_time": "2023-08-30T17:59:01.230Z"
   },
   {
    "duration": 72,
    "start_time": "2023-08-30T17:59:01.234Z"
   },
   {
    "duration": 48,
    "start_time": "2023-08-30T17:59:01.308Z"
   },
   {
    "duration": 248,
    "start_time": "2023-08-30T17:59:01.358Z"
   },
   {
    "duration": 16,
    "start_time": "2023-08-30T17:59:01.609Z"
   },
   {
    "duration": 280,
    "start_time": "2023-08-30T17:59:01.627Z"
   },
   {
    "duration": 0,
    "start_time": "2023-08-30T17:59:01.909Z"
   },
   {
    "duration": 0,
    "start_time": "2023-08-30T17:59:01.910Z"
   },
   {
    "duration": 0,
    "start_time": "2023-08-30T17:59:01.911Z"
   },
   {
    "duration": 0,
    "start_time": "2023-08-30T17:59:01.913Z"
   },
   {
    "duration": 0,
    "start_time": "2023-08-30T17:59:01.914Z"
   },
   {
    "duration": 0,
    "start_time": "2023-08-30T17:59:01.915Z"
   },
   {
    "duration": 3154,
    "start_time": "2023-08-30T17:59:37.721Z"
   },
   {
    "duration": 839,
    "start_time": "2023-08-30T17:59:40.876Z"
   },
   {
    "duration": 32,
    "start_time": "2023-08-30T17:59:41.717Z"
   },
   {
    "duration": 56,
    "start_time": "2023-08-30T17:59:41.751Z"
   },
   {
    "duration": 277,
    "start_time": "2023-08-30T17:59:41.809Z"
   },
   {
    "duration": 3,
    "start_time": "2023-08-30T17:59:42.087Z"
   },
   {
    "duration": 27,
    "start_time": "2023-08-30T17:59:42.100Z"
   },
   {
    "duration": 20,
    "start_time": "2023-08-30T17:59:42.130Z"
   },
   {
    "duration": 205,
    "start_time": "2023-08-30T17:59:42.153Z"
   },
   {
    "duration": 10,
    "start_time": "2023-08-30T17:59:42.360Z"
   },
   {
    "duration": 26,
    "start_time": "2023-08-30T17:59:42.372Z"
   },
   {
    "duration": 15,
    "start_time": "2023-08-30T17:59:42.400Z"
   },
   {
    "duration": 22,
    "start_time": "2023-08-30T17:59:42.418Z"
   },
   {
    "duration": 32,
    "start_time": "2023-08-30T17:59:42.442Z"
   },
   {
    "duration": 7031,
    "start_time": "2023-08-30T17:59:42.476Z"
   },
   {
    "duration": 8,
    "start_time": "2023-08-30T17:59:49.509Z"
   },
   {
    "duration": 92,
    "start_time": "2023-08-30T17:59:49.519Z"
   },
   {
    "duration": 76,
    "start_time": "2023-08-30T17:59:49.613Z"
   },
   {
    "duration": 1988,
    "start_time": "2023-08-30T17:59:49.693Z"
   },
   {
    "duration": 4,
    "start_time": "2023-08-30T17:59:53.436Z"
   },
   {
    "duration": 2,
    "start_time": "2023-08-30T17:59:55.707Z"
   },
   {
    "duration": 199,
    "start_time": "2023-08-30T17:59:57.571Z"
   },
   {
    "duration": 22,
    "start_time": "2023-08-30T18:01:24.551Z"
   },
   {
    "duration": 26,
    "start_time": "2023-08-30T18:02:45.465Z"
   },
   {
    "duration": 163,
    "start_time": "2023-08-30T18:03:54.395Z"
   },
   {
    "duration": 25,
    "start_time": "2023-08-30T18:04:10.732Z"
   },
   {
    "duration": 460,
    "start_time": "2023-08-30T18:04:23.771Z"
   },
   {
    "duration": 1615,
    "start_time": "2023-08-30T18:04:36.924Z"
   },
   {
    "duration": 21,
    "start_time": "2023-08-30T18:05:55.545Z"
   },
   {
    "duration": 9,
    "start_time": "2023-08-30T18:12:22.582Z"
   },
   {
    "duration": 3,
    "start_time": "2023-08-30T18:16:15.160Z"
   },
   {
    "duration": 255681,
    "start_time": "2023-08-30T18:19:57.052Z"
   },
   {
    "duration": 3117,
    "start_time": "2023-08-30T18:27:16.965Z"
   },
   {
    "duration": 837,
    "start_time": "2023-08-30T18:27:20.084Z"
   },
   {
    "duration": 33,
    "start_time": "2023-08-30T18:27:20.922Z"
   },
   {
    "duration": 47,
    "start_time": "2023-08-30T18:27:20.957Z"
   },
   {
    "duration": 242,
    "start_time": "2023-08-30T18:27:21.007Z"
   },
   {
    "duration": 3,
    "start_time": "2023-08-30T18:27:21.251Z"
   },
   {
    "duration": 22,
    "start_time": "2023-08-30T18:27:21.255Z"
   },
   {
    "duration": 10,
    "start_time": "2023-08-30T18:27:21.278Z"
   },
   {
    "duration": 208,
    "start_time": "2023-08-30T18:27:21.302Z"
   },
   {
    "duration": 11,
    "start_time": "2023-08-30T18:27:21.512Z"
   },
   {
    "duration": 16,
    "start_time": "2023-08-30T18:27:21.526Z"
   },
   {
    "duration": 23,
    "start_time": "2023-08-30T18:27:21.544Z"
   },
   {
    "duration": 9,
    "start_time": "2023-08-30T18:27:21.569Z"
   },
   {
    "duration": 14,
    "start_time": "2023-08-30T18:27:21.581Z"
   },
   {
    "duration": 6738,
    "start_time": "2023-08-30T18:27:21.597Z"
   },
   {
    "duration": 8,
    "start_time": "2023-08-30T18:27:28.337Z"
   },
   {
    "duration": 45,
    "start_time": "2023-08-30T18:27:28.347Z"
   },
   {
    "duration": 35,
    "start_time": "2023-08-30T18:27:28.393Z"
   },
   {
    "duration": 2005,
    "start_time": "2023-08-30T18:27:28.430Z"
   },
   {
    "duration": 82,
    "start_time": "2023-08-30T18:27:30.438Z"
   },
   {
    "duration": 3,
    "start_time": "2023-08-30T18:27:48.361Z"
   },
   {
    "duration": 3,
    "start_time": "2023-08-30T18:27:51.386Z"
   },
   {
    "duration": 61054,
    "start_time": "2023-08-30T18:28:22.343Z"
   },
   {
    "duration": 3031,
    "start_time": "2023-08-30T18:30:48.264Z"
   },
   {
    "duration": 852,
    "start_time": "2023-08-30T18:30:51.297Z"
   },
   {
    "duration": 34,
    "start_time": "2023-08-30T18:30:52.150Z"
   },
   {
    "duration": 55,
    "start_time": "2023-08-30T18:30:52.185Z"
   },
   {
    "duration": 257,
    "start_time": "2023-08-30T18:30:52.243Z"
   },
   {
    "duration": 2,
    "start_time": "2023-08-30T18:30:52.502Z"
   },
   {
    "duration": 30,
    "start_time": "2023-08-30T18:30:52.507Z"
   },
   {
    "duration": 26,
    "start_time": "2023-08-30T18:30:52.539Z"
   },
   {
    "duration": 209,
    "start_time": "2023-08-30T18:30:52.567Z"
   },
   {
    "duration": 23,
    "start_time": "2023-08-30T18:30:52.778Z"
   },
   {
    "duration": 69,
    "start_time": "2023-08-30T18:30:52.803Z"
   },
   {
    "duration": 10,
    "start_time": "2023-08-30T18:30:52.873Z"
   },
   {
    "duration": 20,
    "start_time": "2023-08-30T18:30:52.884Z"
   },
   {
    "duration": 16,
    "start_time": "2023-08-30T18:30:52.906Z"
   },
   {
    "duration": 7262,
    "start_time": "2023-08-30T18:30:52.924Z"
   },
   {
    "duration": 13,
    "start_time": "2023-08-30T18:31:00.188Z"
   },
   {
    "duration": 58,
    "start_time": "2023-08-30T18:31:00.203Z"
   },
   {
    "duration": 29,
    "start_time": "2023-08-30T18:31:00.263Z"
   },
   {
    "duration": 35,
    "start_time": "2023-08-30T18:31:00.294Z"
   },
   {
    "duration": 29,
    "start_time": "2023-08-30T18:31:00.331Z"
   },
   {
    "duration": 30,
    "start_time": "2023-08-30T18:31:00.362Z"
   },
   {
    "duration": 25,
    "start_time": "2023-08-30T18:31:00.394Z"
   },
   {
    "duration": 191,
    "start_time": "2023-08-30T18:31:02.519Z"
   },
   {
    "duration": 16,
    "start_time": "2023-08-30T18:32:06.935Z"
   },
   {
    "duration": 16,
    "start_time": "2023-08-30T18:32:37.899Z"
   },
   {
    "duration": 6,
    "start_time": "2023-08-30T18:35:36.523Z"
   },
   {
    "duration": 36650,
    "start_time": "2023-08-30T18:35:47.912Z"
   },
   {
    "duration": 19858,
    "start_time": "2023-08-30T18:36:38.165Z"
   },
   {
    "duration": 2188,
    "start_time": "2023-08-30T18:37:46.074Z"
   },
   {
    "duration": 3,
    "start_time": "2023-08-30T18:38:45.863Z"
   },
   {
    "duration": 249,
    "start_time": "2023-08-30T18:40:40.495Z"
   },
   {
    "duration": 2115,
    "start_time": "2023-08-30T18:42:40.240Z"
   },
   {
    "duration": 4809,
    "start_time": "2023-08-30T18:43:20.756Z"
   },
   {
    "duration": 5122,
    "start_time": "2023-08-30T18:43:39.693Z"
   },
   {
    "duration": 842,
    "start_time": "2023-08-30T18:43:44.818Z"
   },
   {
    "duration": 39,
    "start_time": "2023-08-30T18:43:45.662Z"
   },
   {
    "duration": 50,
    "start_time": "2023-08-30T18:43:45.703Z"
   },
   {
    "duration": 260,
    "start_time": "2023-08-30T18:43:45.756Z"
   },
   {
    "duration": 4,
    "start_time": "2023-08-30T18:43:46.017Z"
   },
   {
    "duration": 18,
    "start_time": "2023-08-30T18:43:46.022Z"
   },
   {
    "duration": 24,
    "start_time": "2023-08-30T18:43:46.042Z"
   },
   {
    "duration": 191,
    "start_time": "2023-08-30T18:43:46.068Z"
   },
   {
    "duration": 12,
    "start_time": "2023-08-30T18:43:46.261Z"
   },
   {
    "duration": 28,
    "start_time": "2023-08-30T18:43:46.275Z"
   },
   {
    "duration": 8,
    "start_time": "2023-08-30T18:43:46.304Z"
   },
   {
    "duration": 6806,
    "start_time": "2023-08-30T18:43:46.313Z"
   },
   {
    "duration": 7,
    "start_time": "2023-08-30T18:43:53.121Z"
   },
   {
    "duration": 2858,
    "start_time": "2023-08-30T18:43:53.130Z"
   },
   {
    "duration": 399,
    "start_time": "2023-08-30T18:43:55.991Z"
   },
   {
    "duration": 0,
    "start_time": "2023-08-30T18:43:56.391Z"
   },
   {
    "duration": 0,
    "start_time": "2023-08-30T18:43:56.401Z"
   },
   {
    "duration": 0,
    "start_time": "2023-08-30T18:43:56.402Z"
   },
   {
    "duration": 0,
    "start_time": "2023-08-30T18:43:56.403Z"
   },
   {
    "duration": 75,
    "start_time": "2023-08-30T18:46:38.636Z"
   },
   {
    "duration": 62,
    "start_time": "2023-08-30T18:47:16.896Z"
   },
   {
    "duration": 163,
    "start_time": "2023-08-30T18:47:31.384Z"
   },
   {
    "duration": 94,
    "start_time": "2023-08-30T18:47:57.647Z"
   },
   {
    "duration": 9823,
    "start_time": "2023-08-30T18:48:14.307Z"
   },
   {
    "duration": 63,
    "start_time": "2023-08-30T18:49:00.801Z"
   },
   {
    "duration": 86,
    "start_time": "2023-08-30T18:49:34.308Z"
   },
   {
    "duration": 59,
    "start_time": "2023-08-30T18:49:45.136Z"
   },
   {
    "duration": 5120,
    "start_time": "2023-08-30T18:50:05.299Z"
   },
   {
    "duration": 2,
    "start_time": "2023-08-30T18:50:10.421Z"
   },
   {
    "duration": 21,
    "start_time": "2023-08-30T18:50:10.424Z"
   },
   {
    "duration": 97,
    "start_time": "2023-08-30T18:50:13.441Z"
   },
   {
    "duration": 4930,
    "start_time": "2023-08-30T18:50:36.303Z"
   },
   {
    "duration": 2,
    "start_time": "2023-08-30T18:50:41.235Z"
   },
   {
    "duration": 17,
    "start_time": "2023-08-30T18:50:41.238Z"
   },
   {
    "duration": 14,
    "start_time": "2023-08-30T18:50:41.256Z"
   },
   {
    "duration": 829,
    "start_time": "2023-08-30T18:50:41.273Z"
   },
   {
    "duration": 31,
    "start_time": "2023-08-30T18:50:42.104Z"
   },
   {
    "duration": 29,
    "start_time": "2023-08-30T18:50:42.137Z"
   },
   {
    "duration": 268,
    "start_time": "2023-08-30T18:50:42.168Z"
   },
   {
    "duration": 3,
    "start_time": "2023-08-30T18:50:42.437Z"
   },
   {
    "duration": 17,
    "start_time": "2023-08-30T18:50:42.442Z"
   },
   {
    "duration": 7,
    "start_time": "2023-08-30T18:50:42.461Z"
   },
   {
    "duration": 203,
    "start_time": "2023-08-30T18:50:42.470Z"
   },
   {
    "duration": 10,
    "start_time": "2023-08-30T18:50:42.674Z"
   },
   {
    "duration": 18,
    "start_time": "2023-08-30T18:50:42.687Z"
   },
   {
    "duration": 9,
    "start_time": "2023-08-30T18:50:42.707Z"
   },
   {
    "duration": 6731,
    "start_time": "2023-08-30T18:50:42.718Z"
   },
   {
    "duration": 8,
    "start_time": "2023-08-30T18:50:49.451Z"
   },
   {
    "duration": 409,
    "start_time": "2023-08-30T18:50:49.461Z"
   },
   {
    "duration": 0,
    "start_time": "2023-08-30T18:50:49.871Z"
   },
   {
    "duration": 0,
    "start_time": "2023-08-30T18:50:49.872Z"
   },
   {
    "duration": 0,
    "start_time": "2023-08-30T18:50:49.874Z"
   },
   {
    "duration": 0,
    "start_time": "2023-08-30T18:50:49.875Z"
   },
   {
    "duration": 2429,
    "start_time": "2023-08-30T18:52:16.736Z"
   },
   {
    "duration": 8178,
    "start_time": "2023-08-30T18:52:35.580Z"
   },
   {
    "duration": 4903,
    "start_time": "2023-08-30T18:53:15.965Z"
   },
   {
    "duration": 2,
    "start_time": "2023-08-30T18:53:20.871Z"
   },
   {
    "duration": 59,
    "start_time": "2023-08-30T18:53:20.874Z"
   },
   {
    "duration": 97,
    "start_time": "2023-08-30T18:53:20.935Z"
   },
   {
    "duration": 14,
    "start_time": "2023-08-30T18:53:21.034Z"
   },
   {
    "duration": 834,
    "start_time": "2023-08-30T18:53:21.050Z"
   },
   {
    "duration": 35,
    "start_time": "2023-08-30T18:53:21.886Z"
   },
   {
    "duration": 31,
    "start_time": "2023-08-30T18:53:21.922Z"
   },
   {
    "duration": 264,
    "start_time": "2023-08-30T18:53:21.955Z"
   },
   {
    "duration": 3,
    "start_time": "2023-08-30T18:53:22.222Z"
   },
   {
    "duration": 46,
    "start_time": "2023-08-30T18:53:22.227Z"
   },
   {
    "duration": 7,
    "start_time": "2023-08-30T18:53:22.275Z"
   },
   {
    "duration": 175,
    "start_time": "2023-08-30T18:53:22.284Z"
   },
   {
    "duration": 10,
    "start_time": "2023-08-30T18:53:22.461Z"
   },
   {
    "duration": 23,
    "start_time": "2023-08-30T18:53:22.473Z"
   },
   {
    "duration": 5,
    "start_time": "2023-08-30T18:53:22.497Z"
   },
   {
    "duration": 6808,
    "start_time": "2023-08-30T18:53:22.504Z"
   },
   {
    "duration": 8,
    "start_time": "2023-08-30T18:53:29.314Z"
   },
   {
    "duration": 392,
    "start_time": "2023-08-30T18:53:29.323Z"
   },
   {
    "duration": 0,
    "start_time": "2023-08-30T18:53:29.716Z"
   },
   {
    "duration": 0,
    "start_time": "2023-08-30T18:53:29.717Z"
   },
   {
    "duration": 0,
    "start_time": "2023-08-30T18:53:29.718Z"
   },
   {
    "duration": 0,
    "start_time": "2023-08-30T18:53:29.719Z"
   },
   {
    "duration": 13414,
    "start_time": "2023-08-30T18:56:16.373Z"
   },
   {
    "duration": 12709,
    "start_time": "2023-08-30T18:57:07.237Z"
   },
   {
    "duration": 2766,
    "start_time": "2023-08-30T18:57:37.087Z"
   },
   {
    "duration": 3,
    "start_time": "2023-08-30T18:57:39.855Z"
   },
   {
    "duration": 10,
    "start_time": "2023-08-30T18:57:39.859Z"
   },
   {
    "duration": 4,
    "start_time": "2023-08-30T18:57:39.871Z"
   },
   {
    "duration": 4,
    "start_time": "2023-08-30T18:57:39.876Z"
   },
   {
    "duration": 824,
    "start_time": "2023-08-30T18:57:39.882Z"
   },
   {
    "duration": 29,
    "start_time": "2023-08-30T18:57:40.707Z"
   },
   {
    "duration": 28,
    "start_time": "2023-08-30T18:57:40.738Z"
   },
   {
    "duration": 247,
    "start_time": "2023-08-30T18:57:40.768Z"
   },
   {
    "duration": 3,
    "start_time": "2023-08-30T18:57:41.017Z"
   },
   {
    "duration": 13,
    "start_time": "2023-08-30T18:57:41.022Z"
   },
   {
    "duration": 12,
    "start_time": "2023-08-30T18:57:41.037Z"
   },
   {
    "duration": 281,
    "start_time": "2023-08-30T18:57:41.051Z"
   },
   {
    "duration": 10,
    "start_time": "2023-08-30T18:57:41.333Z"
   },
   {
    "duration": 9,
    "start_time": "2023-08-30T18:57:41.345Z"
   },
   {
    "duration": 4,
    "start_time": "2023-08-30T18:57:41.356Z"
   },
   {
    "duration": 6687,
    "start_time": "2023-08-30T18:57:41.361Z"
   },
   {
    "duration": 7,
    "start_time": "2023-08-30T18:57:48.050Z"
   },
   {
    "duration": 189,
    "start_time": "2023-08-30T18:57:48.058Z"
   },
   {
    "duration": 0,
    "start_time": "2023-08-30T18:57:48.249Z"
   },
   {
    "duration": 0,
    "start_time": "2023-08-30T18:57:48.250Z"
   },
   {
    "duration": 0,
    "start_time": "2023-08-30T18:57:48.252Z"
   },
   {
    "duration": 0,
    "start_time": "2023-08-30T18:57:48.253Z"
   },
   {
    "duration": 1948,
    "start_time": "2023-08-30T18:58:56.833Z"
   },
   {
    "duration": 242,
    "start_time": "2023-08-30T18:59:01.810Z"
   },
   {
    "duration": 73,
    "start_time": "2023-08-30T19:02:38.806Z"
   },
   {
    "duration": 18437,
    "start_time": "2023-08-30T19:02:47.733Z"
   },
   {
    "duration": 4907,
    "start_time": "2023-08-30T19:04:59.147Z"
   },
   {
    "duration": 2,
    "start_time": "2023-08-30T19:05:04.056Z"
   },
   {
    "duration": 34,
    "start_time": "2023-08-30T19:05:04.059Z"
   },
   {
    "duration": 8,
    "start_time": "2023-08-30T19:05:04.095Z"
   },
   {
    "duration": 9,
    "start_time": "2023-08-30T19:05:04.105Z"
   },
   {
    "duration": 880,
    "start_time": "2023-08-30T19:05:04.116Z"
   },
   {
    "duration": 34,
    "start_time": "2023-08-30T19:05:05.000Z"
   },
   {
    "duration": 109,
    "start_time": "2023-08-30T19:05:05.035Z"
   },
   {
    "duration": 235,
    "start_time": "2023-08-30T19:05:05.146Z"
   },
   {
    "duration": 3,
    "start_time": "2023-08-30T19:05:05.382Z"
   },
   {
    "duration": 19,
    "start_time": "2023-08-30T19:05:05.387Z"
   },
   {
    "duration": 50,
    "start_time": "2023-08-30T19:05:05.407Z"
   },
   {
    "duration": 188,
    "start_time": "2023-08-30T19:05:05.459Z"
   },
   {
    "duration": 11,
    "start_time": "2023-08-30T19:05:05.649Z"
   },
   {
    "duration": 17,
    "start_time": "2023-08-30T19:05:05.662Z"
   },
   {
    "duration": 16,
    "start_time": "2023-08-30T19:05:05.681Z"
   },
   {
    "duration": 6587,
    "start_time": "2023-08-30T19:05:05.699Z"
   },
   {
    "duration": 8,
    "start_time": "2023-08-30T19:05:12.287Z"
   },
   {
    "duration": 512,
    "start_time": "2023-08-30T19:05:23.937Z"
   },
   {
    "duration": 3,
    "start_time": "2023-08-30T19:08:20.376Z"
   },
   {
    "duration": 45834,
    "start_time": "2023-08-30T19:08:23.392Z"
   },
   {
    "duration": 4867,
    "start_time": "2023-08-30T19:12:28.971Z"
   },
   {
    "duration": 3,
    "start_time": "2023-08-30T19:12:33.840Z"
   },
   {
    "duration": 133,
    "start_time": "2023-08-30T19:12:33.844Z"
   },
   {
    "duration": 107,
    "start_time": "2023-08-30T19:12:33.979Z"
   },
   {
    "duration": 26,
    "start_time": "2023-08-30T19:12:34.089Z"
   },
   {
    "duration": 878,
    "start_time": "2023-08-30T19:12:34.116Z"
   },
   {
    "duration": 37,
    "start_time": "2023-08-30T19:12:34.996Z"
   },
   {
    "duration": 60,
    "start_time": "2023-08-30T19:12:35.034Z"
   },
   {
    "duration": 247,
    "start_time": "2023-08-30T19:12:35.096Z"
   },
   {
    "duration": 3,
    "start_time": "2023-08-30T19:12:35.345Z"
   },
   {
    "duration": 31,
    "start_time": "2023-08-30T19:12:35.349Z"
   },
   {
    "duration": 17,
    "start_time": "2023-08-30T19:12:35.382Z"
   },
   {
    "duration": 188,
    "start_time": "2023-08-30T19:12:35.401Z"
   },
   {
    "duration": 16,
    "start_time": "2023-08-30T19:12:35.590Z"
   },
   {
    "duration": 121,
    "start_time": "2023-08-30T19:12:35.608Z"
   },
   {
    "duration": 22,
    "start_time": "2023-08-30T19:12:35.731Z"
   },
   {
    "duration": 6623,
    "start_time": "2023-08-30T19:12:35.755Z"
   },
   {
    "duration": 7,
    "start_time": "2023-08-30T19:12:42.380Z"
   },
   {
    "duration": 524,
    "start_time": "2023-08-30T19:12:42.389Z"
   },
   {
    "duration": 3,
    "start_time": "2023-08-30T19:12:42.914Z"
   },
   {
    "duration": 1114868,
    "start_time": "2023-08-30T19:12:42.918Z"
   },
   {
    "duration": 13,
    "start_time": "2023-08-30T19:31:17.788Z"
   },
   {
    "duration": 3,
    "start_time": "2023-08-30T19:31:17.804Z"
   },
   {
    "duration": 9,
    "start_time": "2023-08-30T19:31:17.809Z"
   },
   {
    "duration": 4,
    "start_time": "2023-08-30T19:31:17.820Z"
   },
   {
    "duration": 4,
    "start_time": "2023-08-30T19:40:51.205Z"
   },
   {
    "duration": 3,
    "start_time": "2023-08-30T19:40:53.998Z"
   },
   {
    "duration": 70,
    "start_time": "2023-08-30T20:08:39.532Z"
   },
   {
    "duration": 163,
    "start_time": "2023-08-30T20:08:57.371Z"
   },
   {
    "duration": 172,
    "start_time": "2023-08-30T20:09:01.140Z"
   },
   {
    "duration": 177,
    "start_time": "2023-08-30T20:15:31.407Z"
   },
   {
    "duration": 3,
    "start_time": "2023-08-30T20:16:41.418Z"
   },
   {
    "duration": 3862,
    "start_time": "2023-08-30T20:18:03.636Z"
   },
   {
    "duration": 11843,
    "start_time": "2023-08-30T20:18:33.390Z"
   },
   {
    "duration": 2,
    "start_time": "2023-08-30T20:21:22.038Z"
   },
   {
    "duration": 4,
    "start_time": "2023-08-30T20:25:32.767Z"
   },
   {
    "duration": 11720,
    "start_time": "2023-08-30T20:28:37.107Z"
   },
   {
    "duration": 930,
    "start_time": "2023-08-30T20:30:38.318Z"
   },
   {
    "duration": 11543,
    "start_time": "2023-08-30T20:30:53.128Z"
   },
   {
    "duration": 2,
    "start_time": "2023-08-30T20:31:31.074Z"
   },
   {
    "duration": 77,
    "start_time": "2023-08-30T20:33:29.485Z"
   },
   {
    "duration": 11730,
    "start_time": "2023-08-30T20:34:37.891Z"
   },
   {
    "duration": 3,
    "start_time": "2023-08-30T20:35:01.792Z"
   },
   {
    "duration": 28,
    "start_time": "2023-08-30T20:39:34.699Z"
   },
   {
    "duration": 23,
    "start_time": "2023-08-30T20:40:15.579Z"
   },
   {
    "duration": 6,
    "start_time": "2023-08-30T20:40:46.194Z"
   },
   {
    "duration": 30,
    "start_time": "2023-08-30T20:40:51.791Z"
   },
   {
    "duration": 111041,
    "start_time": "2023-08-30T20:41:37.172Z"
   },
   {
    "duration": 116340,
    "start_time": "2023-08-30T20:46:29.072Z"
   },
   {
    "duration": 24,
    "start_time": "2023-08-30T20:55:55.197Z"
   },
   {
    "duration": 107127,
    "start_time": "2023-08-30T21:02:57.935Z"
   },
   {
    "duration": 700788,
    "start_time": "2023-08-30T21:06:11.424Z"
   },
   {
    "duration": 5091,
    "start_time": "2023-08-31T05:03:10.733Z"
   },
   {
    "duration": 3,
    "start_time": "2023-08-31T05:03:15.826Z"
   },
   {
    "duration": 5,
    "start_time": "2023-08-31T05:03:15.831Z"
   },
   {
    "duration": 14,
    "start_time": "2023-08-31T05:03:15.838Z"
   },
   {
    "duration": 2,
    "start_time": "2023-08-31T05:03:15.856Z"
   },
   {
    "duration": 2605,
    "start_time": "2023-08-31T05:03:15.860Z"
   },
   {
    "duration": 37,
    "start_time": "2023-08-31T05:03:18.468Z"
   },
   {
    "duration": 41,
    "start_time": "2023-08-31T05:03:18.507Z"
   },
   {
    "duration": 265,
    "start_time": "2023-08-31T05:03:18.550Z"
   },
   {
    "duration": 4,
    "start_time": "2023-08-31T05:03:18.817Z"
   },
   {
    "duration": 27,
    "start_time": "2023-08-31T05:03:18.823Z"
   },
   {
    "duration": 7,
    "start_time": "2023-08-31T05:03:18.853Z"
   },
   {
    "duration": 248,
    "start_time": "2023-08-31T05:03:18.861Z"
   },
   {
    "duration": 14,
    "start_time": "2023-08-31T05:03:19.113Z"
   },
   {
    "duration": 22,
    "start_time": "2023-08-31T05:03:19.129Z"
   },
   {
    "duration": 2,
    "start_time": "2023-08-31T05:03:19.153Z"
   },
   {
    "duration": 6438,
    "start_time": "2023-08-31T05:03:19.157Z"
   },
   {
    "duration": 7,
    "start_time": "2023-08-31T05:03:25.597Z"
   },
   {
    "duration": 592,
    "start_time": "2023-08-31T05:03:25.605Z"
   },
   {
    "duration": 4,
    "start_time": "2023-08-31T05:03:26.199Z"
   },
   {
    "duration": 903106,
    "start_time": "2023-08-31T05:03:26.205Z"
   },
   {
    "duration": 3,
    "start_time": "2023-08-31T05:18:29.313Z"
   },
   {
    "duration": 4,
    "start_time": "2023-08-31T05:18:29.317Z"
   },
   {
    "duration": 85,
    "start_time": "2023-08-31T05:18:29.322Z"
   },
   {
    "duration": 163,
    "start_time": "2023-08-31T05:18:29.409Z"
   },
   {
    "duration": 156,
    "start_time": "2023-08-31T05:18:29.574Z"
   },
   {
    "duration": 248,
    "start_time": "2023-08-31T05:18:29.731Z"
   },
   {
    "duration": 3,
    "start_time": "2023-08-31T05:18:29.981Z"
   },
   {
    "duration": 11708,
    "start_time": "2023-08-31T05:18:29.985Z"
   },
   {
    "duration": 3,
    "start_time": "2023-08-31T05:18:41.695Z"
   },
   {
    "duration": 127,
    "start_time": "2023-08-31T05:48:56.058Z"
   },
   {
    "duration": 2,
    "start_time": "2023-08-31T05:49:17.780Z"
   },
   {
    "duration": 164246,
    "start_time": "2023-08-31T05:49:20.634Z"
   },
   {
    "duration": 340,
    "start_time": "2023-08-31T05:52:04.882Z"
   },
   {
    "duration": 4,
    "start_time": "2023-08-31T05:52:51.015Z"
   },
   {
    "duration": 3,
    "start_time": "2023-08-31T06:13:32.770Z"
   },
   {
    "duration": 1602610,
    "start_time": "2023-08-31T06:14:43.564Z"
   },
   {
    "duration": 4,
    "start_time": "2023-08-31T06:41:26.179Z"
   },
   {
    "duration": 3,
    "start_time": "2023-08-31T06:55:08.612Z"
   },
   {
    "duration": 208,
    "start_time": "2023-08-31T06:58:30.781Z"
   },
   {
    "duration": 4,
    "start_time": "2023-08-31T06:58:47.203Z"
   },
   {
    "duration": 139,
    "start_time": "2023-08-31T06:59:00.890Z"
   },
   {
    "duration": 362,
    "start_time": "2023-08-31T06:59:16.245Z"
   },
   {
    "duration": 4,
    "start_time": "2023-08-31T06:59:47.597Z"
   },
   {
    "duration": 3,
    "start_time": "2023-08-31T07:00:01.886Z"
   },
   {
    "duration": 211749,
    "start_time": "2023-08-31T07:00:05.075Z"
   },
   {
    "duration": 39,
    "start_time": "2023-08-31T07:03:36.827Z"
   },
   {
    "duration": 1850378,
    "start_time": "2023-08-31T07:04:20.243Z"
   },
   {
    "duration": 27,
    "start_time": "2023-08-31T07:35:10.623Z"
   },
   {
    "duration": 0,
    "start_time": "2023-08-31T07:35:10.652Z"
   },
   {
    "duration": 3,
    "start_time": "2023-08-31T07:36:05.017Z"
   },
   {
    "duration": 1871875,
    "start_time": "2023-08-31T07:36:07.779Z"
   },
   {
    "duration": 3,
    "start_time": "2023-08-31T08:07:19.655Z"
   },
   {
    "duration": 8,
    "start_time": "2023-08-31T08:07:56.661Z"
   },
   {
    "duration": 79,
    "start_time": "2023-08-31T08:08:01.697Z"
   },
   {
    "duration": 26819,
    "start_time": "2023-08-31T08:08:33.821Z"
   },
   {
    "duration": 5,
    "start_time": "2023-08-31T08:09:55.547Z"
   },
   {
    "duration": 26365,
    "start_time": "2023-08-31T08:10:00.639Z"
   },
   {
    "duration": 26956,
    "start_time": "2023-08-31T08:11:14.040Z"
   },
   {
    "duration": 137,
    "start_time": "2023-08-31T08:11:59.063Z"
   },
   {
    "duration": 26858,
    "start_time": "2023-08-31T08:12:39.611Z"
   },
   {
    "duration": 26745,
    "start_time": "2023-08-31T08:13:17.844Z"
   },
   {
    "duration": 137,
    "start_time": "2023-08-31T08:20:16.324Z"
   },
   {
    "duration": 132,
    "start_time": "2023-08-31T08:20:22.007Z"
   },
   {
    "duration": 17211,
    "start_time": "2023-08-31T08:23:09.179Z"
   },
   {
    "duration": 4603,
    "start_time": "2023-08-31T08:25:31.711Z"
   },
   {
    "duration": 761,
    "start_time": "2023-08-31T08:25:36.316Z"
   },
   {
    "duration": 26,
    "start_time": "2023-08-31T08:25:37.078Z"
   },
   {
    "duration": 44,
    "start_time": "2023-08-31T08:25:37.105Z"
   },
   {
    "duration": 217,
    "start_time": "2023-08-31T08:25:37.151Z"
   },
   {
    "duration": 3,
    "start_time": "2023-08-31T08:25:37.369Z"
   },
   {
    "duration": 26,
    "start_time": "2023-08-31T08:25:37.373Z"
   },
   {
    "duration": 19,
    "start_time": "2023-08-31T08:25:37.401Z"
   },
   {
    "duration": 173,
    "start_time": "2023-08-31T08:25:37.421Z"
   },
   {
    "duration": 9,
    "start_time": "2023-08-31T08:25:37.596Z"
   },
   {
    "duration": 15,
    "start_time": "2023-08-31T08:25:37.607Z"
   },
   {
    "duration": 4,
    "start_time": "2023-08-31T08:25:37.623Z"
   },
   {
    "duration": 6334,
    "start_time": "2023-08-31T08:25:37.629Z"
   },
   {
    "duration": 8,
    "start_time": "2023-08-31T08:25:43.967Z"
   },
   {
    "duration": 469,
    "start_time": "2023-08-31T08:25:43.977Z"
   },
   {
    "duration": 4,
    "start_time": "2023-08-31T08:25:44.448Z"
   },
   {
    "duration": 884285,
    "start_time": "2023-08-31T08:25:44.453Z"
   },
   {
    "duration": 15,
    "start_time": "2023-08-31T08:40:28.739Z"
   },
   {
    "duration": 5,
    "start_time": "2023-08-31T08:40:28.757Z"
   },
   {
    "duration": 58,
    "start_time": "2023-08-31T08:40:28.764Z"
   },
   {
    "duration": 149,
    "start_time": "2023-08-31T08:40:28.824Z"
   },
   {
    "duration": 168,
    "start_time": "2023-08-31T08:40:28.974Z"
   },
   {
    "duration": 146,
    "start_time": "2023-08-31T08:40:29.150Z"
   },
   {
    "duration": 2,
    "start_time": "2023-08-31T08:40:29.297Z"
   },
   {
    "duration": 10810,
    "start_time": "2023-08-31T08:40:29.301Z"
   },
   {
    "duration": 3,
    "start_time": "2023-08-31T08:40:40.113Z"
   },
   {
    "duration": 16,
    "start_time": "2023-08-31T08:40:40.117Z"
   },
   {
    "duration": 165438,
    "start_time": "2023-08-31T08:40:40.134Z"
   },
   {
    "duration": 4,
    "start_time": "2023-08-31T08:43:25.573Z"
   },
   {
    "duration": 7,
    "start_time": "2023-08-31T08:43:25.578Z"
   },
   {
    "duration": 1458956,
    "start_time": "2023-08-31T08:43:25.586Z"
   },
   {
    "duration": 8,
    "start_time": "2023-08-31T09:07:44.544Z"
   },
   {
    "duration": 5,
    "start_time": "2023-08-31T09:07:44.554Z"
   },
   {
    "duration": 1829633,
    "start_time": "2023-08-31T09:07:44.561Z"
   },
   {
    "duration": 5,
    "start_time": "2023-08-31T09:38:14.196Z"
   },
   {
    "duration": 12,
    "start_time": "2023-08-31T09:38:14.202Z"
   },
   {
    "duration": 26181,
    "start_time": "2023-08-31T09:38:14.215Z"
   },
   {
    "duration": 174,
    "start_time": "2023-08-31T09:38:40.398Z"
   },
   {
    "duration": 5996,
    "start_time": "2023-09-03T17:32:48.659Z"
   }
  ],
  "kernelspec": {
   "display_name": "Python 3 (ipykernel)",
   "language": "python",
   "name": "python3"
  },
  "language_info": {
   "codemirror_mode": {
    "name": "ipython",
    "version": 3
   },
   "file_extension": ".py",
   "mimetype": "text/x-python",
   "name": "python",
   "nbconvert_exporter": "python",
   "pygments_lexer": "ipython3",
   "version": "3.9.5"
  },
  "toc": {
   "base_numbering": 1,
   "nav_menu": {},
   "number_sections": true,
   "sideBar": true,
   "skip_h1_title": true,
   "title_cell": "Содержание",
   "title_sidebar": "Contents",
   "toc_cell": true,
   "toc_position": {
    "height": "calc(100% - 180px)",
    "left": "10px",
    "top": "150px",
    "width": "174.788px"
   },
   "toc_section_display": true,
   "toc_window_display": true
  }
 },
 "nbformat": 4,
 "nbformat_minor": 2
}
