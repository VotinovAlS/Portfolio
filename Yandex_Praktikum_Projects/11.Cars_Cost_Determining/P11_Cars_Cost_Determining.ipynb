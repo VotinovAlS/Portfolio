{
 "cells": [
  {
   "cell_type": "markdown",
   "metadata": {},
   "source": [
    "# Определение стоимости автомобилей"
   ]
  },
  {
   "cell_type": "markdown",
   "metadata": {},
   "source": [
    "Сервис по продаже автомобилей с пробегом «Не бит, не крашен» разрабатывает приложение для привлечения новых клиентов. В нём можно быстро узнать рыночную стоимость своего автомобиля. В распоряжении исторические данные: технические характеристики, комплектации и цены автомобилей. Необходимо построить модель для определения стоимости авто. \n",
    "\n",
    "Заказчику важны:\n",
    "\n",
    "- качество предсказания;\n",
    "- скорость предсказания;\n",
    "- время обучения."
   ]
  },
  {
   "cell_type": "markdown",
   "metadata": {},
   "source": [
    "**Основные шаги:**\n",
    "\n",
    "- Загрузить данные.\n",
    "- Изучить данные. Заполнить пропущенные значения и обработать аномалии в столбцах. Если среди признаков имеются неинформативные, удалить их.\n",
    "- Подготовить выборки для обучения моделей.\n",
    "- Обучить разные модели.\n",
    "- Проанализировать время обучения, время предсказания и качество моделей.\n",
    "- Опираясь на критерии заказчика, выбрать лучшую модель, проверить её качество на тестовой выборке.\n",
    "\n",
    "***Примечания:***\n",
    "- Для оценки качества моделей применять метрику RMSE.\n",
    "- Значение метрики RMSE должно быть меньше 2500.\n",
    "\n",
    "**Описание данных:**\n",
    "\n",
    "**Признаки**\n",
    "\n",
    "- DateCrawled — дата скачивания анкеты из базы\n",
    "- VehicleType — тип автомобильного кузова\n",
    "- RegistrationYear — год регистрации автомобиля\n",
    "- Gearbox — тип коробки передач\n",
    "- Power — мощность (л. с.)\n",
    "- Model — модель автомобиля\n",
    "- Kilometer — пробег (км)\n",
    "- RegistrationMonth — месяц регистрации автомобиля\n",
    "- FuelType — тип топлива\n",
    "- Brand — марка автомобиля\n",
    "- Repaired — была машина в ремонте или нет\n",
    "- DateCreated — дата создания анкеты\n",
    "- NumberOfPictures — количество фотографий автомобиля\n",
    "- PostalCode — почтовый индекс владельца анкеты (пользователя)\n",
    "- LastSeen — дата последней активности пользователя\n",
    "\n",
    "**Целевой признак**\n",
    "\n",
    "- Price — цена (евро)"
   ]
  },
  {
   "cell_type": "markdown",
   "metadata": {},
   "source": [
    "## Подготовка данных"
   ]
  },
  {
   "cell_type": "code",
   "execution_count": 1,
   "metadata": {
    "scrolled": true
   },
   "outputs": [],
   "source": [
    "# pip install --upgrade category_encoders"
   ]
  },
  {
   "cell_type": "code",
   "execution_count": 2,
   "metadata": {},
   "outputs": [],
   "source": [
    "import numpy as np\n",
    "import pandas as pd\n",
    "import seaborn as sns\n",
    "import matplotlib.pyplot as plt\n",
    "import time\n",
    "\n",
    "from sklearn.model_selection import train_test_split, GridSearchCV\n",
    "from sklearn.linear_model import LinearRegression\n",
    "from sklearn.ensemble import RandomForestRegressor\n",
    "from lightgbm import LGBMRegressor\n",
    "from catboost import CatBoostRegressor\n",
    "\n",
    "from sklearn.preprocessing import OneHotEncoder, StandardScaler\n",
    "from sklearn.compose import make_column_transformer\n",
    "import category_encoders as ce\n",
    "from sklearn.metrics import mean_squared_error\n",
    "\n",
    "import warnings\n",
    "warnings.filterwarnings('ignore')"
   ]
  },
  {
   "cell_type": "code",
   "execution_count": 3,
   "metadata": {},
   "outputs": [],
   "source": [
    "try:\n",
    "    df= pd.read_csv('/datasets/autos.csv', sep=',')\n",
    "except:\n",
    "    df_train = pd.read_csv('https://code.s3.yandex.net/datasets/autos.csv', sep=',')"
   ]
  },
  {
   "cell_type": "code",
   "execution_count": 4,
   "metadata": {},
   "outputs": [],
   "source": [
    "def df_info(df):\n",
    "    display(df.shape)\n",
    "    print(100*\"/\")\n",
    "    df.info()\n",
    "    print(100*\"/\")\n",
    "    display(df.describe())\n",
    "    print(100*\"/\")\n",
    "    display('Количетсво пропусков по каждому столбцу:', df.isna().sum())\n",
    "    print(100*\"/\")\n",
    "    display('Доля пропусков по каждому столбцу:', (round(df.isna().sum()/df.shape[0]*100, 2)).sort_values(ascending=False))\n",
    "    print(100*\"/\")\n",
    "    print('Доля строк с хотябы одним пропущенным значением:', \\\n",
    "          round(sum(df.apply(lambda x: sum(x.isnull().values), axis = 1)>0)/len(df)*100, 2), '%')\n",
    "    print(100*\"/\")\n",
    "    display('Количество дубликатов:', df.duplicated().sum())\n",
    "    print(100*\"/\")"
   ]
  },
  {
   "cell_type": "code",
   "execution_count": 5,
   "metadata": {},
   "outputs": [
    {
     "data": {
      "text/plain": [
       "(354369, 16)"
      ]
     },
     "metadata": {},
     "output_type": "display_data"
    },
    {
     "name": "stdout",
     "output_type": "stream",
     "text": [
      "////////////////////////////////////////////////////////////////////////////////////////////////////\n",
      "<class 'pandas.core.frame.DataFrame'>\n",
      "RangeIndex: 354369 entries, 0 to 354368\n",
      "Data columns (total 16 columns):\n",
      " #   Column             Non-Null Count   Dtype \n",
      "---  ------             --------------   ----- \n",
      " 0   DateCrawled        354369 non-null  object\n",
      " 1   Price              354369 non-null  int64 \n",
      " 2   VehicleType        316879 non-null  object\n",
      " 3   RegistrationYear   354369 non-null  int64 \n",
      " 4   Gearbox            334536 non-null  object\n",
      " 5   Power              354369 non-null  int64 \n",
      " 6   Model              334664 non-null  object\n",
      " 7   Kilometer          354369 non-null  int64 \n",
      " 8   RegistrationMonth  354369 non-null  int64 \n",
      " 9   FuelType           321474 non-null  object\n",
      " 10  Brand              354369 non-null  object\n",
      " 11  Repaired           283215 non-null  object\n",
      " 12  DateCreated        354369 non-null  object\n",
      " 13  NumberOfPictures   354369 non-null  int64 \n",
      " 14  PostalCode         354369 non-null  int64 \n",
      " 15  LastSeen           354369 non-null  object\n",
      "dtypes: int64(7), object(9)\n",
      "memory usage: 43.3+ MB\n",
      "////////////////////////////////////////////////////////////////////////////////////////////////////\n"
     ]
    },
    {
     "data": {
      "text/html": [
       "<div>\n",
       "<style scoped>\n",
       "    .dataframe tbody tr th:only-of-type {\n",
       "        vertical-align: middle;\n",
       "    }\n",
       "\n",
       "    .dataframe tbody tr th {\n",
       "        vertical-align: top;\n",
       "    }\n",
       "\n",
       "    .dataframe thead th {\n",
       "        text-align: right;\n",
       "    }\n",
       "</style>\n",
       "<table border=\"1\" class=\"dataframe\">\n",
       "  <thead>\n",
       "    <tr style=\"text-align: right;\">\n",
       "      <th></th>\n",
       "      <th>Price</th>\n",
       "      <th>RegistrationYear</th>\n",
       "      <th>Power</th>\n",
       "      <th>Kilometer</th>\n",
       "      <th>RegistrationMonth</th>\n",
       "      <th>NumberOfPictures</th>\n",
       "      <th>PostalCode</th>\n",
       "    </tr>\n",
       "  </thead>\n",
       "  <tbody>\n",
       "    <tr>\n",
       "      <th>count</th>\n",
       "      <td>354369.000000</td>\n",
       "      <td>354369.000000</td>\n",
       "      <td>354369.000000</td>\n",
       "      <td>354369.000000</td>\n",
       "      <td>354369.000000</td>\n",
       "      <td>354369.0</td>\n",
       "      <td>354369.000000</td>\n",
       "    </tr>\n",
       "    <tr>\n",
       "      <th>mean</th>\n",
       "      <td>4416.656776</td>\n",
       "      <td>2004.234448</td>\n",
       "      <td>110.094337</td>\n",
       "      <td>128211.172535</td>\n",
       "      <td>5.714645</td>\n",
       "      <td>0.0</td>\n",
       "      <td>50508.689087</td>\n",
       "    </tr>\n",
       "    <tr>\n",
       "      <th>std</th>\n",
       "      <td>4514.158514</td>\n",
       "      <td>90.227958</td>\n",
       "      <td>189.850405</td>\n",
       "      <td>37905.341530</td>\n",
       "      <td>3.726421</td>\n",
       "      <td>0.0</td>\n",
       "      <td>25783.096248</td>\n",
       "    </tr>\n",
       "    <tr>\n",
       "      <th>min</th>\n",
       "      <td>0.000000</td>\n",
       "      <td>1000.000000</td>\n",
       "      <td>0.000000</td>\n",
       "      <td>5000.000000</td>\n",
       "      <td>0.000000</td>\n",
       "      <td>0.0</td>\n",
       "      <td>1067.000000</td>\n",
       "    </tr>\n",
       "    <tr>\n",
       "      <th>25%</th>\n",
       "      <td>1050.000000</td>\n",
       "      <td>1999.000000</td>\n",
       "      <td>69.000000</td>\n",
       "      <td>125000.000000</td>\n",
       "      <td>3.000000</td>\n",
       "      <td>0.0</td>\n",
       "      <td>30165.000000</td>\n",
       "    </tr>\n",
       "    <tr>\n",
       "      <th>50%</th>\n",
       "      <td>2700.000000</td>\n",
       "      <td>2003.000000</td>\n",
       "      <td>105.000000</td>\n",
       "      <td>150000.000000</td>\n",
       "      <td>6.000000</td>\n",
       "      <td>0.0</td>\n",
       "      <td>49413.000000</td>\n",
       "    </tr>\n",
       "    <tr>\n",
       "      <th>75%</th>\n",
       "      <td>6400.000000</td>\n",
       "      <td>2008.000000</td>\n",
       "      <td>143.000000</td>\n",
       "      <td>150000.000000</td>\n",
       "      <td>9.000000</td>\n",
       "      <td>0.0</td>\n",
       "      <td>71083.000000</td>\n",
       "    </tr>\n",
       "    <tr>\n",
       "      <th>max</th>\n",
       "      <td>20000.000000</td>\n",
       "      <td>9999.000000</td>\n",
       "      <td>20000.000000</td>\n",
       "      <td>150000.000000</td>\n",
       "      <td>12.000000</td>\n",
       "      <td>0.0</td>\n",
       "      <td>99998.000000</td>\n",
       "    </tr>\n",
       "  </tbody>\n",
       "</table>\n",
       "</div>"
      ],
      "text/plain": [
       "               Price  RegistrationYear          Power      Kilometer  \\\n",
       "count  354369.000000     354369.000000  354369.000000  354369.000000   \n",
       "mean     4416.656776       2004.234448     110.094337  128211.172535   \n",
       "std      4514.158514         90.227958     189.850405   37905.341530   \n",
       "min         0.000000       1000.000000       0.000000    5000.000000   \n",
       "25%      1050.000000       1999.000000      69.000000  125000.000000   \n",
       "50%      2700.000000       2003.000000     105.000000  150000.000000   \n",
       "75%      6400.000000       2008.000000     143.000000  150000.000000   \n",
       "max     20000.000000       9999.000000   20000.000000  150000.000000   \n",
       "\n",
       "       RegistrationMonth  NumberOfPictures     PostalCode  \n",
       "count      354369.000000          354369.0  354369.000000  \n",
       "mean            5.714645               0.0   50508.689087  \n",
       "std             3.726421               0.0   25783.096248  \n",
       "min             0.000000               0.0    1067.000000  \n",
       "25%             3.000000               0.0   30165.000000  \n",
       "50%             6.000000               0.0   49413.000000  \n",
       "75%             9.000000               0.0   71083.000000  \n",
       "max            12.000000               0.0   99998.000000  "
      ]
     },
     "metadata": {},
     "output_type": "display_data"
    },
    {
     "name": "stdout",
     "output_type": "stream",
     "text": [
      "////////////////////////////////////////////////////////////////////////////////////////////////////\n"
     ]
    },
    {
     "data": {
      "text/plain": [
       "'Количетсво пропусков по каждому столбцу:'"
      ]
     },
     "metadata": {},
     "output_type": "display_data"
    },
    {
     "data": {
      "text/plain": [
       "DateCrawled              0\n",
       "Price                    0\n",
       "VehicleType          37490\n",
       "RegistrationYear         0\n",
       "Gearbox              19833\n",
       "Power                    0\n",
       "Model                19705\n",
       "Kilometer                0\n",
       "RegistrationMonth        0\n",
       "FuelType             32895\n",
       "Brand                    0\n",
       "Repaired             71154\n",
       "DateCreated              0\n",
       "NumberOfPictures         0\n",
       "PostalCode               0\n",
       "LastSeen                 0\n",
       "dtype: int64"
      ]
     },
     "metadata": {},
     "output_type": "display_data"
    },
    {
     "name": "stdout",
     "output_type": "stream",
     "text": [
      "////////////////////////////////////////////////////////////////////////////////////////////////////\n"
     ]
    },
    {
     "data": {
      "text/plain": [
       "'Доля пропусков по каждому столбцу:'"
      ]
     },
     "metadata": {},
     "output_type": "display_data"
    },
    {
     "data": {
      "text/plain": [
       "Repaired             20.08\n",
       "VehicleType          10.58\n",
       "FuelType              9.28\n",
       "Gearbox               5.60\n",
       "Model                 5.56\n",
       "DateCrawled           0.00\n",
       "Price                 0.00\n",
       "RegistrationYear      0.00\n",
       "Power                 0.00\n",
       "Kilometer             0.00\n",
       "RegistrationMonth     0.00\n",
       "Brand                 0.00\n",
       "DateCreated           0.00\n",
       "NumberOfPictures      0.00\n",
       "PostalCode            0.00\n",
       "LastSeen              0.00\n",
       "dtype: float64"
      ]
     },
     "metadata": {},
     "output_type": "display_data"
    },
    {
     "name": "stdout",
     "output_type": "stream",
     "text": [
      "////////////////////////////////////////////////////////////////////////////////////////////////////\n",
      "Доля строк с хотябы одним пропущенным значением: 30.63 %\n",
      "////////////////////////////////////////////////////////////////////////////////////////////////////\n"
     ]
    },
    {
     "data": {
      "text/plain": [
       "'Количество дубликатов:'"
      ]
     },
     "metadata": {},
     "output_type": "display_data"
    },
    {
     "data": {
      "text/plain": [
       "4"
      ]
     },
     "metadata": {},
     "output_type": "display_data"
    },
    {
     "name": "stdout",
     "output_type": "stream",
     "text": [
      "////////////////////////////////////////////////////////////////////////////////////////////////////\n"
     ]
    }
   ],
   "source": [
    "df_info(df)"
   ]
  },
  {
   "cell_type": "markdown",
   "metadata": {},
   "source": [
    "- В датасете присутствуют 354369 объектов, 15 признаков и 1 целевой признак price.\n",
    "- более 10% пропущенных значений есть в признаках Repaired и VehicleType, до 10% - в признаках FuelType, Gearbox, Model. В остальных признаках пропусков нет.\n",
    "- Доля объектов с хотябы одним пропущенным значением составляет почти 31%, что достаточно много.\n",
    "- в данных присутствует 4 полных дубликата, которые необходимо удалить."
   ]
  },
  {
   "cell_type": "markdown",
   "metadata": {},
   "source": [
    "**Рассмотрим признаки:**\n",
    "\n",
    "- ~~- DateCrawled — дата скачивания анкеты из базы~~\n",
    "- VehicleType — тип автомобильного кузова\n",
    "- RegistrationYear — год регистрации автомобиля\n",
    "- Gearbox — тип коробки передач\n",
    "- Power — мощность (л. с.)\n",
    "- Model — модель автомобиля\n",
    "- Kilometer — пробег (км)\n",
    "- ~~- RegistrationMonth — месяц регистрации автомобиля~~\n",
    "- FuelType — тип топлива\n",
    "- Brand — марка автомобиля\n",
    "- Repaired — была машина в ремонте или нет\n",
    "- ~~- DateCreated — дата создания анкеты~~\n",
    "- ~~- NumberOfPictures — количество фотографий автомобиля~~\n",
    "- ~~- PostalCode — почтовый индекс владельца анкеты (пользователя)~~\n",
    "- ~~- LastSeen — дата последней активности пользователя~~\n",
    "\n",
    "Зачеркнутые признаки наиболее вероятно никак не влияют на рыночную стоимость автомобиля, поэтому удалим их, но позже. На этапе анализа данных эти признаки удалять не будем, а переведем их в нужный формат и изучим."
   ]
  },
  {
   "cell_type": "code",
   "execution_count": 6,
   "metadata": {},
   "outputs": [
    {
     "name": "stdout",
     "output_type": "stream",
     "text": [
      "354369\n"
     ]
    }
   ],
   "source": [
    "#сохраним в переменную len_df начальное количество объектов в датафрейме\n",
    "len_df = df.shape[0]\n",
    "print(len_df)"
   ]
  },
  {
   "cell_type": "code",
   "execution_count": 7,
   "metadata": {},
   "outputs": [],
   "source": [
    "df = df.drop_duplicates().reset_index(drop=True)"
   ]
  },
  {
   "cell_type": "code",
   "execution_count": 8,
   "metadata": {},
   "outputs": [
    {
     "data": {
      "text/plain": [
       "0"
      ]
     },
     "execution_count": 8,
     "metadata": {},
     "output_type": "execute_result"
    }
   ],
   "source": [
    "df.duplicated().sum()"
   ]
  },
  {
   "cell_type": "code",
   "execution_count": 9,
   "metadata": {},
   "outputs": [],
   "source": [
    "df['DateCrawled'] = pd.to_datetime(df['DateCrawled'], format='%Y-%m-%d %H:%M:%S')\n",
    "df['DateCreated'] = pd.to_datetime(df['DateCreated'], format='%Y-%m-%d %H:%M:%S')\n",
    "df['LastSeen'] = pd.to_datetime(df['LastSeen'], format='%Y-%m-%d %H:%M:%S')"
   ]
  },
  {
   "cell_type": "code",
   "execution_count": 10,
   "metadata": {},
   "outputs": [
    {
     "name": "stdout",
     "output_type": "stream",
     "text": [
      "<class 'pandas.core.frame.DataFrame'>\n",
      "RangeIndex: 354365 entries, 0 to 354364\n",
      "Data columns (total 16 columns):\n",
      " #   Column             Non-Null Count   Dtype         \n",
      "---  ------             --------------   -----         \n",
      " 0   datecrawled        354365 non-null  datetime64[ns]\n",
      " 1   price              354365 non-null  int64         \n",
      " 2   vehicletype        316875 non-null  object        \n",
      " 3   registrationyear   354365 non-null  int64         \n",
      " 4   gearbox            334532 non-null  object        \n",
      " 5   power              354365 non-null  int64         \n",
      " 6   model              334660 non-null  object        \n",
      " 7   kilometer          354365 non-null  int64         \n",
      " 8   registrationmonth  354365 non-null  int64         \n",
      " 9   fueltype           321470 non-null  object        \n",
      " 10  brand              354365 non-null  object        \n",
      " 11  repaired           283211 non-null  object        \n",
      " 12  datecreated        354365 non-null  datetime64[ns]\n",
      " 13  numberofpictures   354365 non-null  int64         \n",
      " 14  postalcode         354365 non-null  int64         \n",
      " 15  lastseen           354365 non-null  datetime64[ns]\n",
      "dtypes: datetime64[ns](3), int64(7), object(6)\n",
      "memory usage: 43.3+ MB\n"
     ]
    }
   ],
   "source": [
    "#приведем названия столбцов к нижнему регистру\n",
    "df.columns = df.columns.str.lower()\n",
    "df.info()"
   ]
  },
  {
   "cell_type": "code",
   "execution_count": 11,
   "metadata": {},
   "outputs": [
    {
     "data": {
      "text/plain": [
       "'Минимальная и максимальная дата скачивания анкеты из базы:'"
      ]
     },
     "metadata": {},
     "output_type": "display_data"
    },
    {
     "data": {
      "text/plain": [
       "Timestamp('2016-03-05 14:06:22')"
      ]
     },
     "metadata": {},
     "output_type": "display_data"
    },
    {
     "data": {
      "text/plain": [
       "Timestamp('2016-04-07 14:36:58')"
      ]
     },
     "metadata": {},
     "output_type": "display_data"
    },
    {
     "data": {
      "text/plain": [
       "'Минимальная и максимальная дата создания анкеты:'"
      ]
     },
     "metadata": {},
     "output_type": "display_data"
    },
    {
     "data": {
      "text/plain": [
       "Timestamp('2014-03-10 00:00:00')"
      ]
     },
     "metadata": {},
     "output_type": "display_data"
    },
    {
     "data": {
      "text/plain": [
       "Timestamp('2016-04-07 00:00:00')"
      ]
     },
     "metadata": {},
     "output_type": "display_data"
    },
    {
     "data": {
      "text/plain": [
       "'Минимальная и максимальная дата последней активности пользователя:'"
      ]
     },
     "metadata": {},
     "output_type": "display_data"
    },
    {
     "data": {
      "text/plain": [
       "Timestamp('2016-03-05 14:15:08')"
      ]
     },
     "metadata": {},
     "output_type": "display_data"
    },
    {
     "data": {
      "text/plain": [
       "Timestamp('2016-04-07 14:58:51')"
      ]
     },
     "metadata": {},
     "output_type": "display_data"
    }
   ],
   "source": [
    "display('Минимальная и максимальная дата скачивания анкеты из базы:', df['datecrawled'].min(), df['datecrawled'].max())\n",
    "display('Минимальная и максимальная дата создания анкеты:', df['datecreated'].min(), df['datecreated'].max())\n",
    "display('Минимальная и максимальная дата последней активности пользователя:', df['lastseen'].min(), df['lastseen'].max())"
   ]
  },
  {
   "cell_type": "markdown",
   "metadata": {},
   "source": [
    "**В датасете присутствуют объявления о продаже авто созданные в период с марта 2014 года по апрель 2016 года.**"
   ]
  },
  {
   "cell_type": "code",
   "execution_count": 12,
   "metadata": {},
   "outputs": [
    {
     "data": {
      "image/png": "[encoded data removed]",
      "text/plain": [
       "<Figure size 1440x1080 with 12 Axes>"
      ]
     },
     "metadata": {
      "needs_background": "light"
     },
     "output_type": "display_data"
    }
   ],
   "source": [
    "df.hist(figsize=(20, 15), bins=20);"
   ]
  },
  {
   "cell_type": "code",
   "execution_count": 13,
   "metadata": {},
   "outputs": [
    {
     "data": {
      "image/png": "[encoded data removed]",
      "text/plain": [
       "<Figure size 1080x360 with 2 Axes>"
      ]
     },
     "metadata": {
      "needs_background": "light"
     },
     "output_type": "display_data"
    }
   ],
   "source": [
    "plt.figure(figsize=(15, 5))\n",
    "sns.heatmap(df.corr().round(2), cmap=\"YlGnBu\", annot=True)\n",
    "plt.show()"
   ]
  },
  {
   "cell_type": "markdown",
   "metadata": {},
   "source": [
    "**Коррелирующие признаки отсутствуют.**"
   ]
  },
  {
   "cell_type": "code",
   "execution_count": 14,
   "metadata": {},
   "outputs": [],
   "source": [
    "#создадим список важных признаков\n",
    "important = ['price', 'vehicletype', 'registrationyear', 'gearbox', 'power', 'model', \\\n",
    "             'kilometer', 'fueltype', 'brand', 'repaired']"
   ]
  },
  {
   "cell_type": "code",
   "execution_count": 15,
   "metadata": {
    "scrolled": false
   },
   "outputs": [
    {
     "data": {
      "image/png": "[encoded data removed]",
      "text/plain": [
       "<Figure size 864x576 with 1 Axes>"
      ]
     },
     "metadata": {
      "needs_background": "light"
     },
     "output_type": "display_data"
    }
   ],
   "source": [
    "df.plot(y='price', kind='hist', bins=100, grid=True, figsize=(12, 8))\n",
    "plt.xlabel('Цена автомобиля')\n",
    "plt.ylabel('Количество авто')\n",
    "plt.title(\"Количество продаваемых авто в зависимости от цены\")\n",
    "plt.show()"
   ]
  },
  {
   "cell_type": "markdown",
   "metadata": {},
   "source": [
    "**Видим большое количество автомобилей с нулевой ценой.**"
   ]
  },
  {
   "cell_type": "code",
   "execution_count": 16,
   "metadata": {},
   "outputs": [
    {
     "data": {
      "image/png": "[encoded data removed]",
      "text/plain": [
       "<Figure size 1440x432 with 1 Axes>"
      ]
     },
     "metadata": {
      "needs_background": "light"
     },
     "output_type": "display_data"
    }
   ],
   "source": [
    "fig = plt.figure(1, figsize=(20, 6))\n",
    "ax = fig.add_subplot(111)\n",
    "\n",
    "ax.boxplot(df['price'], vert=False, manage_ticks=True)\n",
    "ax.set_xlabel('value')\n",
    "ax.set_yticks([1])\n",
    "ax.set_yticklabels(['price'])\n",
    "\n",
    "quantiles = np.quantile(df['price'], np.array([0.05, 0.25, 0.50, 0.75, 0.95, 1.00]))\n",
    "ax.vlines(quantiles, [0] * quantiles.size, [1] * quantiles.size,\n",
    "          color='b', ls=':', lw=0.5, zorder=0)\n",
    "ax.set_ylim(0.5, 1.5)\n",
    "ax.set_xticks(quantiles)\n",
    "plt.title(\"Ящик с усами цены продаваемых авто\")\n",
    "plt.show()"
   ]
  },
  {
   "cell_type": "markdown",
   "metadata": {},
   "source": [
    "**Eдалим объекты, в которых стоимость машин равно 0.**"
   ]
  },
  {
   "cell_type": "code",
   "execution_count": 17,
   "metadata": {},
   "outputs": [
    {
     "name": "stdout",
     "output_type": "stream",
     "text": [
      "Доля объявлений машин стоимостью 0 евро: 3.04\n"
     ]
    }
   ],
   "source": [
    "print(\"Доля объявлений машин стоимостью 0 евро:\",round(len(df.loc[df['price'] == 0])/len_df*100, 2))"
   ]
  },
  {
   "cell_type": "code",
   "execution_count": 18,
   "metadata": {},
   "outputs": [
    {
     "name": "stdout",
     "output_type": "stream",
     "text": [
      "Доля оставшихся данных от начального датасета: 96.96\n"
     ]
    }
   ],
   "source": [
    "df = df.query('price > 0')\n",
    "# df = df.query('price > 0').reset_index(drop=True)\n",
    "print('Доля оставшихся данных от начального датасета:', round(df.shape[0]/len_df*100, 2))"
   ]
  },
  {
   "cell_type": "markdown",
   "metadata": {},
   "source": [
    "**Осталось 97 % данных, что приемлемо.**"
   ]
  },
  {
   "cell_type": "code",
   "execution_count": 19,
   "metadata": {},
   "outputs": [
    {
     "data": {
      "text/plain": [
       "datecrawled              0\n",
       "price                    0\n",
       "vehicletype          33750\n",
       "registrationyear         0\n",
       "gearbox              17355\n",
       "power                    0\n",
       "model                17521\n",
       "kilometer                0\n",
       "registrationmonth        0\n",
       "fueltype             29459\n",
       "brand                    0\n",
       "repaired             65866\n",
       "datecreated              0\n",
       "numberofpictures         0\n",
       "postalcode               0\n",
       "lastseen                 0\n",
       "dtype: int64"
      ]
     },
     "execution_count": 19,
     "metadata": {},
     "output_type": "execute_result"
    }
   ],
   "source": [
    "df.isna().sum()"
   ]
  },
  {
   "cell_type": "code",
   "execution_count": 20,
   "metadata": {},
   "outputs": [
    {
     "data": {
      "text/plain": [
       "array([nan, 'coupe', 'suv', 'small', 'sedan', 'convertible', 'bus',\n",
       "       'wagon', 'other'], dtype=object)"
      ]
     },
     "metadata": {},
     "output_type": "display_data"
    },
    {
     "data": {
      "text/html": [
       "<div>\n",
       "<style scoped>\n",
       "    .dataframe tbody tr th:only-of-type {\n",
       "        vertical-align: middle;\n",
       "    }\n",
       "\n",
       "    .dataframe tbody tr th {\n",
       "        vertical-align: top;\n",
       "    }\n",
       "\n",
       "    .dataframe thead tr th {\n",
       "        text-align: left;\n",
       "    }\n",
       "\n",
       "    .dataframe thead tr:last-of-type th {\n",
       "        text-align: right;\n",
       "    }\n",
       "</style>\n",
       "<table border=\"1\" class=\"dataframe\">\n",
       "  <thead>\n",
       "    <tr>\n",
       "      <th></th>\n",
       "      <th>vehicletype</th>\n",
       "    </tr>\n",
       "    <tr>\n",
       "      <th></th>\n",
       "      <th>count</th>\n",
       "    </tr>\n",
       "    <tr>\n",
       "      <th>vehicletype</th>\n",
       "      <th></th>\n",
       "    </tr>\n",
       "  </thead>\n",
       "  <tbody>\n",
       "    <tr>\n",
       "      <th>bus</th>\n",
       "      <td>28345</td>\n",
       "    </tr>\n",
       "    <tr>\n",
       "      <th>convertible</th>\n",
       "      <td>19865</td>\n",
       "    </tr>\n",
       "    <tr>\n",
       "      <th>coupe</th>\n",
       "      <td>15634</td>\n",
       "    </tr>\n",
       "    <tr>\n",
       "      <th>other</th>\n",
       "      <td>3086</td>\n",
       "    </tr>\n",
       "    <tr>\n",
       "      <th>sedan</th>\n",
       "      <td>89405</td>\n",
       "    </tr>\n",
       "    <tr>\n",
       "      <th>small</th>\n",
       "      <td>78017</td>\n",
       "    </tr>\n",
       "    <tr>\n",
       "      <th>suv</th>\n",
       "      <td>11791</td>\n",
       "    </tr>\n",
       "    <tr>\n",
       "      <th>wagon</th>\n",
       "      <td>63700</td>\n",
       "    </tr>\n",
       "  </tbody>\n",
       "</table>\n",
       "</div>"
      ],
      "text/plain": [
       "            vehicletype\n",
       "                  count\n",
       "vehicletype            \n",
       "bus               28345\n",
       "convertible       19865\n",
       "coupe             15634\n",
       "other              3086\n",
       "sedan             89405\n",
       "small             78017\n",
       "suv               11791\n",
       "wagon             63700"
      ]
     },
     "execution_count": 20,
     "metadata": {},
     "output_type": "execute_result"
    }
   ],
   "source": [
    "display(df['vehicletype'].unique())\n",
    "df.groupby('vehicletype').agg({'vehicletype': ['count']})"
   ]
  },
  {
   "cell_type": "markdown",
   "metadata": {},
   "source": [
    "**В значениях есть тип 'other', заполним пропуски этим же значением.**"
   ]
  },
  {
   "cell_type": "code",
   "execution_count": 21,
   "metadata": {},
   "outputs": [
    {
     "data": {
      "text/plain": [
       "array(['other', 'coupe', 'suv', 'small', 'sedan', 'convertible', 'bus',\n",
       "       'wagon'], dtype=object)"
      ]
     },
     "execution_count": 21,
     "metadata": {},
     "output_type": "execute_result"
    }
   ],
   "source": [
    "df['vehicletype'] = df['vehicletype'].fillna('other')\n",
    "df['vehicletype'].unique()"
   ]
  },
  {
   "cell_type": "code",
   "execution_count": 22,
   "metadata": {},
   "outputs": [
    {
     "data": {
      "text/html": [
       "<div>\n",
       "<style scoped>\n",
       "    .dataframe tbody tr th:only-of-type {\n",
       "        vertical-align: middle;\n",
       "    }\n",
       "\n",
       "    .dataframe tbody tr th {\n",
       "        vertical-align: top;\n",
       "    }\n",
       "\n",
       "    .dataframe thead tr th {\n",
       "        text-align: left;\n",
       "    }\n",
       "\n",
       "    .dataframe thead tr:last-of-type th {\n",
       "        text-align: right;\n",
       "    }\n",
       "</style>\n",
       "<table border=\"1\" class=\"dataframe\">\n",
       "  <thead>\n",
       "    <tr>\n",
       "      <th></th>\n",
       "      <th>repaired</th>\n",
       "    </tr>\n",
       "    <tr>\n",
       "      <th></th>\n",
       "      <th>count</th>\n",
       "    </tr>\n",
       "    <tr>\n",
       "      <th>repaired</th>\n",
       "      <th></th>\n",
       "    </tr>\n",
       "  </thead>\n",
       "  <tbody>\n",
       "    <tr>\n",
       "      <th>no</th>\n",
       "      <td>243679</td>\n",
       "    </tr>\n",
       "    <tr>\n",
       "      <th>yes</th>\n",
       "      <td>34048</td>\n",
       "    </tr>\n",
       "  </tbody>\n",
       "</table>\n",
       "</div>"
      ],
      "text/plain": [
       "         repaired\n",
       "            count\n",
       "repaired         \n",
       "no         243679\n",
       "yes         34048"
      ]
     },
     "execution_count": 22,
     "metadata": {},
     "output_type": "execute_result"
    }
   ],
   "source": [
    "df['repaired'].unique()\n",
    "df.groupby('repaired').agg({'repaired': ['count']})"
   ]
  },
  {
   "cell_type": "markdown",
   "metadata": {},
   "source": [
    "**В столбце repaired есть два значения да и нет, вероятно, у кого машина не была в ремонте просто не ставили значение в ячейку, поэтому заполним пропущенные ячейки значением 'no'.**"
   ]
  },
  {
   "cell_type": "code",
   "execution_count": 23,
   "metadata": {},
   "outputs": [
    {
     "data": {
      "text/plain": [
       "array(['no', 'yes'], dtype=object)"
      ]
     },
     "execution_count": 23,
     "metadata": {},
     "output_type": "execute_result"
    }
   ],
   "source": [
    "df['repaired'] = df['repaired'].fillna('no')\n",
    "df['repaired'].unique()"
   ]
  },
  {
   "cell_type": "code",
   "execution_count": 24,
   "metadata": {},
   "outputs": [
    {
     "data": {
      "text/plain": [
       "array(['petrol', 'gasoline', nan, 'lpg', 'other', 'hybrid', 'cng',\n",
       "       'electric'], dtype=object)"
      ]
     },
     "execution_count": 24,
     "metadata": {},
     "output_type": "execute_result"
    }
   ],
   "source": [
    "df['model'].unique()\n",
    "df['fueltype'].unique()"
   ]
  },
  {
   "cell_type": "markdown",
   "metadata": {},
   "source": [
    "**В столбце model и fueltype также есть значение other, заполнии им пропущенные значения.**"
   ]
  },
  {
   "cell_type": "code",
   "execution_count": 25,
   "metadata": {},
   "outputs": [],
   "source": [
    "df['model'] = df['model'].fillna('other')\n",
    "df['fueltype'] = df['fueltype'].fillna('other')"
   ]
  },
  {
   "cell_type": "markdown",
   "metadata": {},
   "source": [
    "**Пропуски в столбце 'gearbox' заполним модой сгруппировав по брэнду и модели.**"
   ]
  },
  {
   "cell_type": "code",
   "execution_count": 26,
   "metadata": {},
   "outputs": [
    {
     "data": {
      "text/plain": [
       "array(['manual', 'auto', nan], dtype=object)"
      ]
     },
     "metadata": {},
     "output_type": "display_data"
    }
   ],
   "source": [
    "df.isna().sum()\n",
    "display(df['gearbox'].unique())"
   ]
  },
  {
   "cell_type": "code",
   "execution_count": 27,
   "metadata": {},
   "outputs": [
    {
     "data": {
      "text/html": [
       "<div>\n",
       "<style scoped>\n",
       "    .dataframe tbody tr th:only-of-type {\n",
       "        vertical-align: middle;\n",
       "    }\n",
       "\n",
       "    .dataframe tbody tr th {\n",
       "        vertical-align: top;\n",
       "    }\n",
       "\n",
       "    .dataframe thead tr th {\n",
       "        text-align: left;\n",
       "    }\n",
       "\n",
       "    .dataframe thead tr:last-of-type th {\n",
       "        text-align: right;\n",
       "    }\n",
       "</style>\n",
       "<table border=\"1\" class=\"dataframe\">\n",
       "  <thead>\n",
       "    <tr>\n",
       "      <th></th>\n",
       "      <th>gearbox</th>\n",
       "    </tr>\n",
       "    <tr>\n",
       "      <th></th>\n",
       "      <th>count</th>\n",
       "    </tr>\n",
       "    <tr>\n",
       "      <th>gearbox</th>\n",
       "      <th></th>\n",
       "    </tr>\n",
       "  </thead>\n",
       "  <tbody>\n",
       "    <tr>\n",
       "      <th>auto</th>\n",
       "      <td>64867</td>\n",
       "    </tr>\n",
       "    <tr>\n",
       "      <th>manual</th>\n",
       "      <td>261371</td>\n",
       "    </tr>\n",
       "  </tbody>\n",
       "</table>\n",
       "</div>"
      ],
      "text/plain": [
       "        gearbox\n",
       "          count\n",
       "gearbox        \n",
       "auto      64867\n",
       "manual   261371"
      ]
     },
     "execution_count": 27,
     "metadata": {},
     "output_type": "execute_result"
    }
   ],
   "source": [
    "df.groupby('gearbox').agg({'gearbox': ['count']})"
   ]
  },
  {
   "cell_type": "code",
   "execution_count": 28,
   "metadata": {},
   "outputs": [],
   "source": [
    "#заполняем пропуски в 'gearbox'\n",
    "df['gearbox'] = df.groupby(['brand', 'model'])['gearbox'].apply(lambda x: x.fillna(x.mode()[0]))"
   ]
  },
  {
   "cell_type": "code",
   "execution_count": 29,
   "metadata": {},
   "outputs": [
    {
     "data": {
      "text/html": [
       "<div>\n",
       "<style scoped>\n",
       "    .dataframe tbody tr th:only-of-type {\n",
       "        vertical-align: middle;\n",
       "    }\n",
       "\n",
       "    .dataframe tbody tr th {\n",
       "        vertical-align: top;\n",
       "    }\n",
       "\n",
       "    .dataframe thead tr th {\n",
       "        text-align: left;\n",
       "    }\n",
       "\n",
       "    .dataframe thead tr:last-of-type th {\n",
       "        text-align: right;\n",
       "    }\n",
       "</style>\n",
       "<table border=\"1\" class=\"dataframe\">\n",
       "  <thead>\n",
       "    <tr>\n",
       "      <th></th>\n",
       "      <th>gearbox</th>\n",
       "    </tr>\n",
       "    <tr>\n",
       "      <th></th>\n",
       "      <th>count</th>\n",
       "    </tr>\n",
       "    <tr>\n",
       "      <th>gearbox</th>\n",
       "      <th></th>\n",
       "    </tr>\n",
       "  </thead>\n",
       "  <tbody>\n",
       "    <tr>\n",
       "      <th>auto</th>\n",
       "      <td>66944</td>\n",
       "    </tr>\n",
       "    <tr>\n",
       "      <th>manual</th>\n",
       "      <td>276649</td>\n",
       "    </tr>\n",
       "  </tbody>\n",
       "</table>\n",
       "</div>"
      ],
      "text/plain": [
       "        gearbox\n",
       "          count\n",
       "gearbox        \n",
       "auto      66944\n",
       "manual   276649"
      ]
     },
     "execution_count": 29,
     "metadata": {},
     "output_type": "execute_result"
    }
   ],
   "source": [
    "df.groupby('gearbox').agg({'gearbox': ['count']})"
   ]
  },
  {
   "cell_type": "code",
   "execution_count": 30,
   "metadata": {},
   "outputs": [
    {
     "data": {
      "text/plain": [
       "datecrawled          0\n",
       "price                0\n",
       "vehicletype          0\n",
       "registrationyear     0\n",
       "gearbox              0\n",
       "power                0\n",
       "model                0\n",
       "kilometer            0\n",
       "registrationmonth    0\n",
       "fueltype             0\n",
       "brand                0\n",
       "repaired             0\n",
       "datecreated          0\n",
       "numberofpictures     0\n",
       "postalcode           0\n",
       "lastseen             0\n",
       "dtype: int64"
      ]
     },
     "execution_count": 30,
     "metadata": {},
     "output_type": "execute_result"
    }
   ],
   "source": [
    "df.isna().sum()"
   ]
  },
  {
   "cell_type": "markdown",
   "metadata": {},
   "source": [
    "**Пропуски заполнены, теперь перейдем к обработке аномальных значений.**"
   ]
  },
  {
   "cell_type": "code",
   "execution_count": 31,
   "metadata": {},
   "outputs": [
    {
     "data": {
      "text/plain": [
       "count    343593.00000\n",
       "mean       2004.08983\n",
       "std          78.41368\n",
       "min        1000.00000\n",
       "25%        1999.00000\n",
       "50%        2003.00000\n",
       "75%        2008.00000\n",
       "max        9999.00000\n",
       "Name: registrationyear, dtype: float64"
      ]
     },
     "execution_count": 31,
     "metadata": {},
     "output_type": "execute_result"
    }
   ],
   "source": [
    "df['registrationyear'].describe()"
   ]
  },
  {
   "cell_type": "markdown",
   "metadata": {},
   "source": [
    "**Год регистрации начинается с 1000 года и заканчивается 9999 годом, что очень странно. Удалим объекты с годом регистрации позже апреля 2016 года, так как это максимальное значение даты создания анкеты. И удалим объекты с годом регистрации ранее 1970 года.**"
   ]
  },
  {
   "cell_type": "code",
   "execution_count": 32,
   "metadata": {},
   "outputs": [
    {
     "data": {
      "image/png": "[encoded data removed]",
      "text/plain": [
       "<Figure size 1440x576 with 1 Axes>"
      ]
     },
     "metadata": {
      "needs_background": "light"
     },
     "output_type": "display_data"
    }
   ],
   "source": [
    "df_reg = df.groupby('registrationyear').agg({'price': ['count']}).reset_index(drop=False)\n",
    "df_reg.columns = ['registrationyear', 'count']\n",
    "df_reg.plot(x='registrationyear', y='count', style='o-', xlim=(1950, 2020), grid=True, figsize=(20, 8))\n",
    "plt.xlabel('Год')\n",
    "plt.ylabel('Количество анкет')\n",
    "plt.title(\"Количество анкет в зависимости от года регистрации автомобиля\")\n",
    "plt.show()"
   ]
  },
  {
   "cell_type": "code",
   "execution_count": 33,
   "metadata": {},
   "outputs": [
    {
     "name": "stdout",
     "output_type": "stream",
     "text": [
      "Колличество объявлений с некорректным годом: 13779\n"
     ]
    }
   ],
   "source": [
    "print(\"Колличество объявлений с некорректным годом:\",len(df.loc[df['registrationyear'] >= 2017]))"
   ]
  },
  {
   "cell_type": "code",
   "execution_count": 34,
   "metadata": {},
   "outputs": [],
   "source": [
    "df=df.query('registrationyear < 2017')"
   ]
  },
  {
   "cell_type": "code",
   "execution_count": 35,
   "metadata": {
    "scrolled": false
   },
   "outputs": [],
   "source": [
    "df=df.query('not(registrationyear >= 2016 & registrationmonth > 4)')"
   ]
  },
  {
   "cell_type": "code",
   "execution_count": 36,
   "metadata": {},
   "outputs": [
    {
     "name": "stdout",
     "output_type": "stream",
     "text": [
      "Доля оставшихся данных от начального датасета: 91.81\n"
     ]
    }
   ],
   "source": [
    "print('Доля оставшихся данных от начального датасета:', round(df.shape[0]/len_df*100, 2))"
   ]
  },
  {
   "cell_type": "code",
   "execution_count": 37,
   "metadata": {},
   "outputs": [],
   "source": [
    "#Также удалим объявления с годом регистрации авто ранее 1970 года.\n",
    "df=df.query('registrationyear > 1969')"
   ]
  },
  {
   "cell_type": "code",
   "execution_count": 38,
   "metadata": {},
   "outputs": [
    {
     "name": "stdout",
     "output_type": "stream",
     "text": [
      "Доля оставшихся данных от начального датасета: 91.48\n"
     ]
    }
   ],
   "source": [
    "print('Доля оставшихся данных от начального датасета:', round(df.shape[0]/len_df*100, 2))"
   ]
  },
  {
   "cell_type": "code",
   "execution_count": 39,
   "metadata": {},
   "outputs": [
    {
     "data": {
      "image/png": "[encoded data removed]",
      "text/plain": [
       "<Figure size 1440x576 with 1 Axes>"
      ]
     },
     "metadata": {
      "needs_background": "light"
     },
     "output_type": "display_data"
    }
   ],
   "source": [
    "df_reg2 = df.groupby('registrationyear').agg({'price': ['count']}).reset_index(drop=False)\n",
    "df_reg2.columns = ['registrationyear', 'count']\n",
    "df_reg2.plot(x='registrationyear', y='count', style='o-', xlim=(1960, 2020), grid=True, figsize=(20, 8))\n",
    "plt.xlabel('Год')\n",
    "plt.ylabel('Количество анкет')\n",
    "plt.title(\"Количество анкет в зависимости от года регистрации автомобиля\")\n",
    "plt.show()"
   ]
  },
  {
   "cell_type": "code",
   "execution_count": 40,
   "metadata": {},
   "outputs": [],
   "source": [
    "df=df.reset_index(drop=True)"
   ]
  },
  {
   "cell_type": "code",
   "execution_count": 41,
   "metadata": {},
   "outputs": [
    {
     "data": {
      "text/plain": [
       "count    324185.000000\n",
       "mean        112.368231\n",
       "std         181.257843\n",
       "min           0.000000\n",
       "25%          71.000000\n",
       "50%         105.000000\n",
       "75%         143.000000\n",
       "max       20000.000000\n",
       "Name: power, dtype: float64"
      ]
     },
     "execution_count": 41,
     "metadata": {},
     "output_type": "execute_result"
    }
   ],
   "source": [
    "df['power'].describe()"
   ]
  },
  {
   "cell_type": "code",
   "execution_count": 42,
   "metadata": {},
   "outputs": [
    {
     "data": {
      "image/png": "[encoded data removed]",
      "text/plain": [
       "<Figure size 864x576 with 1 Axes>"
      ]
     },
     "metadata": {
      "needs_background": "light"
     },
     "output_type": "display_data"
    }
   ],
   "source": [
    "df.plot(y='power', kind='hist', bins=100, grid=True, figsize=(12, 8), ylim=(0, 100), xlim=(0, 20000))\n",
    "plt.xlabel('Цена автомобиля')\n",
    "plt.ylabel('Количество авто')\n",
    "plt.title(\"Количество продаваемых авто в зависимости от цены\")\n",
    "plt.show()"
   ]
  },
  {
   "cell_type": "code",
   "execution_count": 43,
   "metadata": {},
   "outputs": [
    {
     "data": {
      "image/png": "[encoded data removed]",
      "text/plain": [
       "<Figure size 1440x432 with 1 Axes>"
      ]
     },
     "metadata": {
      "needs_background": "light"
     },
     "output_type": "display_data"
    }
   ],
   "source": [
    "fig = plt.figure(1, figsize=(20, 6))\n",
    "ax = fig.add_subplot(111)\n",
    "\n",
    "ax.boxplot(df['power'], vert=False, manage_ticks=True)\n",
    "ax.set_xlabel('value')\n",
    "ax.set_yticks([1])\n",
    "ax.set_yticklabels(['power'])\n",
    "\n",
    "quantiles = np.quantile(df['power'], np.array([0, 1.00]))\n",
    "ax.vlines(quantiles, [0] * quantiles.size, [1] * quantiles.size,\n",
    "          color='b', ls=':', lw=0.5, zorder=0)\n",
    "ax.set_ylim(0.5, 1.5)\n",
    "ax.set_xticks(quantiles)\n",
    "plt.title(\"Ящик с усами мощности продаваемых авто\")\n",
    "plt.show()"
   ]
  },
  {
   "cell_type": "markdown",
   "metadata": {},
   "source": [
    "**Отмечаются аномально высокие значения мощности авто (более 1000 л.с.) и большое количество нулевых значений. Вероятно, из-за какой-то ошибки аномально высокие значений выгрузились без запятой. Нулевые значения оставим без изменений возможно продаваемые машины неисправны. Аномально высокие значения более 1000 и менне 10000 поделим на 10, а более 10000 - поделим на 100.**"
   ]
  },
  {
   "cell_type": "code",
   "execution_count": 44,
   "metadata": {},
   "outputs": [
    {
     "data": {
      "text/html": [
       "<div>\n",
       "<style scoped>\n",
       "    .dataframe tbody tr th:only-of-type {\n",
       "        vertical-align: middle;\n",
       "    }\n",
       "\n",
       "    .dataframe tbody tr th {\n",
       "        vertical-align: top;\n",
       "    }\n",
       "\n",
       "    .dataframe thead th {\n",
       "        text-align: right;\n",
       "    }\n",
       "</style>\n",
       "<table border=\"1\" class=\"dataframe\">\n",
       "  <thead>\n",
       "    <tr style=\"text-align: right;\">\n",
       "      <th></th>\n",
       "      <th>datecrawled</th>\n",
       "      <th>price</th>\n",
       "      <th>vehicletype</th>\n",
       "      <th>registrationyear</th>\n",
       "      <th>gearbox</th>\n",
       "      <th>power</th>\n",
       "      <th>model</th>\n",
       "      <th>kilometer</th>\n",
       "      <th>registrationmonth</th>\n",
       "      <th>fueltype</th>\n",
       "      <th>brand</th>\n",
       "      <th>repaired</th>\n",
       "      <th>datecreated</th>\n",
       "      <th>numberofpictures</th>\n",
       "      <th>postalcode</th>\n",
       "      <th>lastseen</th>\n",
       "    </tr>\n",
       "  </thead>\n",
       "  <tbody>\n",
       "    <tr>\n",
       "      <th>23019</th>\n",
       "      <td>2016-03-28 19:57:39</td>\n",
       "      <td>10900</td>\n",
       "      <td>bus</td>\n",
       "      <td>2009</td>\n",
       "      <td>manual</td>\n",
       "      <td>10520</td>\n",
       "      <td>caddy</td>\n",
       "      <td>150000</td>\n",
       "      <td>6</td>\n",
       "      <td>gasoline</td>\n",
       "      <td>volkswagen</td>\n",
       "      <td>no</td>\n",
       "      <td>2016-03-28</td>\n",
       "      <td>0</td>\n",
       "      <td>36272</td>\n",
       "      <td>2016-04-07 02:47:02</td>\n",
       "    </tr>\n",
       "    <tr>\n",
       "      <th>41198</th>\n",
       "      <td>2016-04-07 07:36:38</td>\n",
       "      <td>15800</td>\n",
       "      <td>convertible</td>\n",
       "      <td>2014</td>\n",
       "      <td>auto</td>\n",
       "      <td>10218</td>\n",
       "      <td>fortwo</td>\n",
       "      <td>30000</td>\n",
       "      <td>3</td>\n",
       "      <td>petrol</td>\n",
       "      <td>smart</td>\n",
       "      <td>no</td>\n",
       "      <td>2016-04-06</td>\n",
       "      <td>0</td>\n",
       "      <td>81373</td>\n",
       "      <td>2016-04-07 07:36:38</td>\n",
       "    </tr>\n",
       "    <tr>\n",
       "      <th>52127</th>\n",
       "      <td>2016-04-01 21:55:58</td>\n",
       "      <td>1995</td>\n",
       "      <td>wagon</td>\n",
       "      <td>2002</td>\n",
       "      <td>manual</td>\n",
       "      <td>11530</td>\n",
       "      <td>focus</td>\n",
       "      <td>150000</td>\n",
       "      <td>1</td>\n",
       "      <td>petrol</td>\n",
       "      <td>ford</td>\n",
       "      <td>no</td>\n",
       "      <td>2016-04-01</td>\n",
       "      <td>0</td>\n",
       "      <td>35759</td>\n",
       "      <td>2016-04-05 14:44:36</td>\n",
       "    </tr>\n",
       "    <tr>\n",
       "      <th>57616</th>\n",
       "      <td>2016-03-27 18:47:59</td>\n",
       "      <td>2200</td>\n",
       "      <td>small</td>\n",
       "      <td>1999</td>\n",
       "      <td>manual</td>\n",
       "      <td>12012</td>\n",
       "      <td>polo</td>\n",
       "      <td>150000</td>\n",
       "      <td>3</td>\n",
       "      <td>petrol</td>\n",
       "      <td>volkswagen</td>\n",
       "      <td>no</td>\n",
       "      <td>2016-03-27</td>\n",
       "      <td>0</td>\n",
       "      <td>9526</td>\n",
       "      <td>2016-04-01 19:44:55</td>\n",
       "    </tr>\n",
       "    <tr>\n",
       "      <th>58535</th>\n",
       "      <td>2016-03-28 11:49:56</td>\n",
       "      <td>3250</td>\n",
       "      <td>sedan</td>\n",
       "      <td>2001</td>\n",
       "      <td>auto</td>\n",
       "      <td>17932</td>\n",
       "      <td>omega</td>\n",
       "      <td>150000</td>\n",
       "      <td>6</td>\n",
       "      <td>petrol</td>\n",
       "      <td>opel</td>\n",
       "      <td>no</td>\n",
       "      <td>2016-03-28</td>\n",
       "      <td>0</td>\n",
       "      <td>86641</td>\n",
       "      <td>2016-04-06 14:17:21</td>\n",
       "    </tr>\n",
       "    <tr>\n",
       "      <th>71219</th>\n",
       "      <td>2016-03-25 13:36:57</td>\n",
       "      <td>850</td>\n",
       "      <td>sedan</td>\n",
       "      <td>2000</td>\n",
       "      <td>manual</td>\n",
       "      <td>12510</td>\n",
       "      <td>astra</td>\n",
       "      <td>30000</td>\n",
       "      <td>10</td>\n",
       "      <td>other</td>\n",
       "      <td>opel</td>\n",
       "      <td>no</td>\n",
       "      <td>2016-03-25</td>\n",
       "      <td>0</td>\n",
       "      <td>23611</td>\n",
       "      <td>2016-03-31 20:45:39</td>\n",
       "    </tr>\n",
       "    <tr>\n",
       "      <th>77671</th>\n",
       "      <td>2016-03-28 10:49:33</td>\n",
       "      <td>1999</td>\n",
       "      <td>sedan</td>\n",
       "      <td>1991</td>\n",
       "      <td>auto</td>\n",
       "      <td>10912</td>\n",
       "      <td>other</td>\n",
       "      <td>150000</td>\n",
       "      <td>0</td>\n",
       "      <td>gasoline</td>\n",
       "      <td>mercedes_benz</td>\n",
       "      <td>no</td>\n",
       "      <td>2016-03-28</td>\n",
       "      <td>0</td>\n",
       "      <td>88069</td>\n",
       "      <td>2016-03-30 01:15:32</td>\n",
       "    </tr>\n",
       "    <tr>\n",
       "      <th>88267</th>\n",
       "      <td>2016-03-16 13:46:18</td>\n",
       "      <td>1380</td>\n",
       "      <td>convertible</td>\n",
       "      <td>2001</td>\n",
       "      <td>auto</td>\n",
       "      <td>10710</td>\n",
       "      <td>megane</td>\n",
       "      <td>150000</td>\n",
       "      <td>10</td>\n",
       "      <td>other</td>\n",
       "      <td>renault</td>\n",
       "      <td>no</td>\n",
       "      <td>2016-03-16</td>\n",
       "      <td>0</td>\n",
       "      <td>71282</td>\n",
       "      <td>2016-03-19 10:45:58</td>\n",
       "    </tr>\n",
       "    <tr>\n",
       "      <th>88465</th>\n",
       "      <td>2016-03-12 10:36:18</td>\n",
       "      <td>4700</td>\n",
       "      <td>bus</td>\n",
       "      <td>1997</td>\n",
       "      <td>manual</td>\n",
       "      <td>10522</td>\n",
       "      <td>transporter</td>\n",
       "      <td>150000</td>\n",
       "      <td>0</td>\n",
       "      <td>gasoline</td>\n",
       "      <td>volkswagen</td>\n",
       "      <td>no</td>\n",
       "      <td>2016-03-12</td>\n",
       "      <td>0</td>\n",
       "      <td>87437</td>\n",
       "      <td>2016-03-12 10:36:18</td>\n",
       "    </tr>\n",
       "    <tr>\n",
       "      <th>90313</th>\n",
       "      <td>2016-03-31 18:54:51</td>\n",
       "      <td>5500</td>\n",
       "      <td>wagon</td>\n",
       "      <td>2010</td>\n",
       "      <td>manual</td>\n",
       "      <td>11509</td>\n",
       "      <td>ceed</td>\n",
       "      <td>150000</td>\n",
       "      <td>9</td>\n",
       "      <td>other</td>\n",
       "      <td>kia</td>\n",
       "      <td>no</td>\n",
       "      <td>2016-03-31</td>\n",
       "      <td>0</td>\n",
       "      <td>15907</td>\n",
       "      <td>2016-04-06 13:15:34</td>\n",
       "    </tr>\n",
       "    <tr>\n",
       "      <th>92181</th>\n",
       "      <td>2016-03-22 16:58:28</td>\n",
       "      <td>3500</td>\n",
       "      <td>sedan</td>\n",
       "      <td>1993</td>\n",
       "      <td>auto</td>\n",
       "      <td>11635</td>\n",
       "      <td>80</td>\n",
       "      <td>125000</td>\n",
       "      <td>2</td>\n",
       "      <td>petrol</td>\n",
       "      <td>audi</td>\n",
       "      <td>no</td>\n",
       "      <td>2016-03-22</td>\n",
       "      <td>0</td>\n",
       "      <td>80809</td>\n",
       "      <td>2016-03-26 19:15:28</td>\n",
       "    </tr>\n",
       "    <tr>\n",
       "      <th>104470</th>\n",
       "      <td>2016-04-03 07:36:21</td>\n",
       "      <td>9999</td>\n",
       "      <td>sedan</td>\n",
       "      <td>2006</td>\n",
       "      <td>manual</td>\n",
       "      <td>19211</td>\n",
       "      <td>1er</td>\n",
       "      <td>125000</td>\n",
       "      <td>0</td>\n",
       "      <td>gasoline</td>\n",
       "      <td>bmw</td>\n",
       "      <td>no</td>\n",
       "      <td>2016-04-03</td>\n",
       "      <td>0</td>\n",
       "      <td>45964</td>\n",
       "      <td>2016-04-07 10:16:10</td>\n",
       "    </tr>\n",
       "    <tr>\n",
       "      <th>121340</th>\n",
       "      <td>2016-03-25 14:55:49</td>\n",
       "      <td>2100</td>\n",
       "      <td>wagon</td>\n",
       "      <td>2001</td>\n",
       "      <td>manual</td>\n",
       "      <td>19208</td>\n",
       "      <td>5er</td>\n",
       "      <td>150000</td>\n",
       "      <td>5</td>\n",
       "      <td>other</td>\n",
       "      <td>bmw</td>\n",
       "      <td>yes</td>\n",
       "      <td>2016-03-25</td>\n",
       "      <td>0</td>\n",
       "      <td>59556</td>\n",
       "      <td>2016-03-30 05:16:18</td>\n",
       "    </tr>\n",
       "    <tr>\n",
       "      <th>135893</th>\n",
       "      <td>2016-03-23 15:55:50</td>\n",
       "      <td>3650</td>\n",
       "      <td>small</td>\n",
       "      <td>2002</td>\n",
       "      <td>auto</td>\n",
       "      <td>15020</td>\n",
       "      <td>147</td>\n",
       "      <td>125000</td>\n",
       "      <td>11</td>\n",
       "      <td>petrol</td>\n",
       "      <td>alfa_romeo</td>\n",
       "      <td>no</td>\n",
       "      <td>2016-03-23</td>\n",
       "      <td>0</td>\n",
       "      <td>30855</td>\n",
       "      <td>2016-04-05 19:17:37</td>\n",
       "    </tr>\n",
       "    <tr>\n",
       "      <th>137917</th>\n",
       "      <td>2016-03-09 18:57:50</td>\n",
       "      <td>1700</td>\n",
       "      <td>wagon</td>\n",
       "      <td>1995</td>\n",
       "      <td>manual</td>\n",
       "      <td>17410</td>\n",
       "      <td>80</td>\n",
       "      <td>5000</td>\n",
       "      <td>0</td>\n",
       "      <td>petrol</td>\n",
       "      <td>audi</td>\n",
       "      <td>yes</td>\n",
       "      <td>2016-03-09</td>\n",
       "      <td>0</td>\n",
       "      <td>23562</td>\n",
       "      <td>2016-03-15 07:17:06</td>\n",
       "    </tr>\n",
       "    <tr>\n",
       "      <th>148498</th>\n",
       "      <td>2016-04-04 14:59:24</td>\n",
       "      <td>5200</td>\n",
       "      <td>small</td>\n",
       "      <td>2005</td>\n",
       "      <td>manual</td>\n",
       "      <td>15001</td>\n",
       "      <td>fiesta</td>\n",
       "      <td>150000</td>\n",
       "      <td>12</td>\n",
       "      <td>petrol</td>\n",
       "      <td>ford</td>\n",
       "      <td>no</td>\n",
       "      <td>2016-04-04</td>\n",
       "      <td>0</td>\n",
       "      <td>70372</td>\n",
       "      <td>2016-04-06 16:17:54</td>\n",
       "    </tr>\n",
       "    <tr>\n",
       "      <th>149895</th>\n",
       "      <td>2016-03-28 15:53:47</td>\n",
       "      <td>9800</td>\n",
       "      <td>other</td>\n",
       "      <td>2016</td>\n",
       "      <td>manual</td>\n",
       "      <td>12510</td>\n",
       "      <td>galaxy</td>\n",
       "      <td>150000</td>\n",
       "      <td>0</td>\n",
       "      <td>gasoline</td>\n",
       "      <td>ford</td>\n",
       "      <td>no</td>\n",
       "      <td>2016-03-28</td>\n",
       "      <td>0</td>\n",
       "      <td>66740</td>\n",
       "      <td>2016-04-02 20:18:58</td>\n",
       "    </tr>\n",
       "    <tr>\n",
       "      <th>160532</th>\n",
       "      <td>2016-03-19 11:38:23</td>\n",
       "      <td>10900</td>\n",
       "      <td>sedan</td>\n",
       "      <td>2007</td>\n",
       "      <td>auto</td>\n",
       "      <td>17011</td>\n",
       "      <td>a3</td>\n",
       "      <td>5000</td>\n",
       "      <td>7</td>\n",
       "      <td>gasoline</td>\n",
       "      <td>audi</td>\n",
       "      <td>no</td>\n",
       "      <td>2016-03-19</td>\n",
       "      <td>0</td>\n",
       "      <td>12355</td>\n",
       "      <td>2016-03-21 15:20:06</td>\n",
       "    </tr>\n",
       "    <tr>\n",
       "      <th>171400</th>\n",
       "      <td>2016-03-17 19:50:23</td>\n",
       "      <td>1749</td>\n",
       "      <td>wagon</td>\n",
       "      <td>1989</td>\n",
       "      <td>manual</td>\n",
       "      <td>17019</td>\n",
       "      <td>3er</td>\n",
       "      <td>5000</td>\n",
       "      <td>12</td>\n",
       "      <td>petrol</td>\n",
       "      <td>bmw</td>\n",
       "      <td>no</td>\n",
       "      <td>2016-03-17</td>\n",
       "      <td>0</td>\n",
       "      <td>89542</td>\n",
       "      <td>2016-03-26 00:46:59</td>\n",
       "    </tr>\n",
       "    <tr>\n",
       "      <th>171992</th>\n",
       "      <td>2016-04-04 15:53:25</td>\n",
       "      <td>200</td>\n",
       "      <td>other</td>\n",
       "      <td>1993</td>\n",
       "      <td>manual</td>\n",
       "      <td>12684</td>\n",
       "      <td>other</td>\n",
       "      <td>5000</td>\n",
       "      <td>0</td>\n",
       "      <td>petrol</td>\n",
       "      <td>sonstige_autos</td>\n",
       "      <td>no</td>\n",
       "      <td>2016-04-04</td>\n",
       "      <td>0</td>\n",
       "      <td>26725</td>\n",
       "      <td>2016-04-06 17:44:48</td>\n",
       "    </tr>\n",
       "    <tr>\n",
       "      <th>179814</th>\n",
       "      <td>2016-03-20 16:51:48</td>\n",
       "      <td>6000</td>\n",
       "      <td>wagon</td>\n",
       "      <td>2004</td>\n",
       "      <td>auto</td>\n",
       "      <td>17700</td>\n",
       "      <td>5er</td>\n",
       "      <td>150000</td>\n",
       "      <td>7</td>\n",
       "      <td>gasoline</td>\n",
       "      <td>bmw</td>\n",
       "      <td>no</td>\n",
       "      <td>2016-03-20</td>\n",
       "      <td>0</td>\n",
       "      <td>26316</td>\n",
       "      <td>2016-04-06 22:45:56</td>\n",
       "    </tr>\n",
       "    <tr>\n",
       "      <th>181055</th>\n",
       "      <td>2016-03-11 13:58:35</td>\n",
       "      <td>900</td>\n",
       "      <td>wagon</td>\n",
       "      <td>1997</td>\n",
       "      <td>manual</td>\n",
       "      <td>11011</td>\n",
       "      <td>a4</td>\n",
       "      <td>150000</td>\n",
       "      <td>5</td>\n",
       "      <td>gasoline</td>\n",
       "      <td>audi</td>\n",
       "      <td>no</td>\n",
       "      <td>2016-03-11</td>\n",
       "      <td>0</td>\n",
       "      <td>82467</td>\n",
       "      <td>2016-03-19 21:44:26</td>\n",
       "    </tr>\n",
       "    <tr>\n",
       "      <th>188210</th>\n",
       "      <td>2016-03-12 11:43:29</td>\n",
       "      <td>4700</td>\n",
       "      <td>bus</td>\n",
       "      <td>1997</td>\n",
       "      <td>manual</td>\n",
       "      <td>10522</td>\n",
       "      <td>transporter</td>\n",
       "      <td>150000</td>\n",
       "      <td>0</td>\n",
       "      <td>gasoline</td>\n",
       "      <td>volkswagen</td>\n",
       "      <td>no</td>\n",
       "      <td>2016-03-12</td>\n",
       "      <td>0</td>\n",
       "      <td>87437</td>\n",
       "      <td>2016-03-12 11:43:29</td>\n",
       "    </tr>\n",
       "    <tr>\n",
       "      <th>188283</th>\n",
       "      <td>2016-03-12 16:40:34</td>\n",
       "      <td>3150</td>\n",
       "      <td>coupe</td>\n",
       "      <td>2007</td>\n",
       "      <td>manual</td>\n",
       "      <td>15033</td>\n",
       "      <td>other</td>\n",
       "      <td>5000</td>\n",
       "      <td>3</td>\n",
       "      <td>gasoline</td>\n",
       "      <td>alfa_romeo</td>\n",
       "      <td>no</td>\n",
       "      <td>2016-03-12</td>\n",
       "      <td>0</td>\n",
       "      <td>35716</td>\n",
       "      <td>2016-03-17 18:47:28</td>\n",
       "    </tr>\n",
       "    <tr>\n",
       "      <th>198527</th>\n",
       "      <td>2016-03-10 08:57:25</td>\n",
       "      <td>11950</td>\n",
       "      <td>convertible</td>\n",
       "      <td>2008</td>\n",
       "      <td>manual</td>\n",
       "      <td>16312</td>\n",
       "      <td>a4</td>\n",
       "      <td>20000</td>\n",
       "      <td>4</td>\n",
       "      <td>petrol</td>\n",
       "      <td>audi</td>\n",
       "      <td>no</td>\n",
       "      <td>2016-03-10</td>\n",
       "      <td>0</td>\n",
       "      <td>51647</td>\n",
       "      <td>2016-03-17 09:16:19</td>\n",
       "    </tr>\n",
       "    <tr>\n",
       "      <th>200891</th>\n",
       "      <td>2016-03-09 15:43:53</td>\n",
       "      <td>4300</td>\n",
       "      <td>coupe</td>\n",
       "      <td>1999</td>\n",
       "      <td>auto</td>\n",
       "      <td>20000</td>\n",
       "      <td>clk</td>\n",
       "      <td>150000</td>\n",
       "      <td>1</td>\n",
       "      <td>petrol</td>\n",
       "      <td>mercedes_benz</td>\n",
       "      <td>no</td>\n",
       "      <td>2016-03-09</td>\n",
       "      <td>0</td>\n",
       "      <td>19406</td>\n",
       "      <td>2016-03-30 08:47:08</td>\n",
       "    </tr>\n",
       "    <tr>\n",
       "      <th>208214</th>\n",
       "      <td>2016-03-30 16:38:22</td>\n",
       "      <td>15499</td>\n",
       "      <td>wagon</td>\n",
       "      <td>2012</td>\n",
       "      <td>manual</td>\n",
       "      <td>13636</td>\n",
       "      <td>c_klasse</td>\n",
       "      <td>125000</td>\n",
       "      <td>4</td>\n",
       "      <td>gasoline</td>\n",
       "      <td>mercedes_benz</td>\n",
       "      <td>no</td>\n",
       "      <td>2016-03-30</td>\n",
       "      <td>0</td>\n",
       "      <td>24983</td>\n",
       "      <td>2016-04-07 07:15:50</td>\n",
       "    </tr>\n",
       "    <tr>\n",
       "      <th>238579</th>\n",
       "      <td>2016-03-11 13:59:35</td>\n",
       "      <td>1750</td>\n",
       "      <td>wagon</td>\n",
       "      <td>2003</td>\n",
       "      <td>auto</td>\n",
       "      <td>15017</td>\n",
       "      <td>3er</td>\n",
       "      <td>150000</td>\n",
       "      <td>11</td>\n",
       "      <td>gasoline</td>\n",
       "      <td>bmw</td>\n",
       "      <td>no</td>\n",
       "      <td>2016-03-11</td>\n",
       "      <td>0</td>\n",
       "      <td>52525</td>\n",
       "      <td>2016-03-11 14:41:51</td>\n",
       "    </tr>\n",
       "    <tr>\n",
       "      <th>238653</th>\n",
       "      <td>2016-03-20 08:36:59</td>\n",
       "      <td>1500</td>\n",
       "      <td>wagon</td>\n",
       "      <td>2006</td>\n",
       "      <td>manual</td>\n",
       "      <td>10910</td>\n",
       "      <td>other</td>\n",
       "      <td>20000</td>\n",
       "      <td>3</td>\n",
       "      <td>petrol</td>\n",
       "      <td>peugeot</td>\n",
       "      <td>yes</td>\n",
       "      <td>2016-03-20</td>\n",
       "      <td>0</td>\n",
       "      <td>56567</td>\n",
       "      <td>2016-03-20 15:42:16</td>\n",
       "    </tr>\n",
       "    <tr>\n",
       "      <th>240291</th>\n",
       "      <td>2016-03-06 08:52:49</td>\n",
       "      <td>2800</td>\n",
       "      <td>wagon</td>\n",
       "      <td>1998</td>\n",
       "      <td>manual</td>\n",
       "      <td>11025</td>\n",
       "      <td>passat</td>\n",
       "      <td>150000</td>\n",
       "      <td>6</td>\n",
       "      <td>gasoline</td>\n",
       "      <td>volkswagen</td>\n",
       "      <td>no</td>\n",
       "      <td>2016-03-06</td>\n",
       "      <td>0</td>\n",
       "      <td>1665</td>\n",
       "      <td>2016-03-29 16:18:05</td>\n",
       "    </tr>\n",
       "    <tr>\n",
       "      <th>247903</th>\n",
       "      <td>2016-03-17 23:53:06</td>\n",
       "      <td>9799</td>\n",
       "      <td>sedan</td>\n",
       "      <td>2011</td>\n",
       "      <td>manual</td>\n",
       "      <td>14009</td>\n",
       "      <td>other</td>\n",
       "      <td>80000</td>\n",
       "      <td>6</td>\n",
       "      <td>petrol</td>\n",
       "      <td>opel</td>\n",
       "      <td>no</td>\n",
       "      <td>2016-03-17</td>\n",
       "      <td>0</td>\n",
       "      <td>86415</td>\n",
       "      <td>2016-03-23 17:18:38</td>\n",
       "    </tr>\n",
       "    <tr>\n",
       "      <th>249200</th>\n",
       "      <td>2016-03-28 01:56:13</td>\n",
       "      <td>125</td>\n",
       "      <td>small</td>\n",
       "      <td>1999</td>\n",
       "      <td>manual</td>\n",
       "      <td>11111</td>\n",
       "      <td>corsa</td>\n",
       "      <td>125000</td>\n",
       "      <td>11</td>\n",
       "      <td>petrol</td>\n",
       "      <td>opel</td>\n",
       "      <td>no</td>\n",
       "      <td>2016-03-28</td>\n",
       "      <td>0</td>\n",
       "      <td>42107</td>\n",
       "      <td>2016-04-02 12:44:38</td>\n",
       "    </tr>\n",
       "    <tr>\n",
       "      <th>267303</th>\n",
       "      <td>2016-03-21 12:49:22</td>\n",
       "      <td>2000</td>\n",
       "      <td>bus</td>\n",
       "      <td>2003</td>\n",
       "      <td>manual</td>\n",
       "      <td>12512</td>\n",
       "      <td>zafira</td>\n",
       "      <td>150000</td>\n",
       "      <td>12</td>\n",
       "      <td>petrol</td>\n",
       "      <td>opel</td>\n",
       "      <td>no</td>\n",
       "      <td>2016-03-21</td>\n",
       "      <td>0</td>\n",
       "      <td>52072</td>\n",
       "      <td>2016-04-06 07:45:32</td>\n",
       "    </tr>\n",
       "    <tr>\n",
       "      <th>273705</th>\n",
       "      <td>2016-03-09 08:53:11</td>\n",
       "      <td>1500</td>\n",
       "      <td>wagon</td>\n",
       "      <td>1997</td>\n",
       "      <td>manual</td>\n",
       "      <td>19312</td>\n",
       "      <td>5er</td>\n",
       "      <td>150000</td>\n",
       "      <td>1</td>\n",
       "      <td>other</td>\n",
       "      <td>bmw</td>\n",
       "      <td>no</td>\n",
       "      <td>2016-03-09</td>\n",
       "      <td>0</td>\n",
       "      <td>21129</td>\n",
       "      <td>2016-04-07 11:44:34</td>\n",
       "    </tr>\n",
       "    <tr>\n",
       "      <th>284933</th>\n",
       "      <td>2016-04-02 15:50:55</td>\n",
       "      <td>11900</td>\n",
       "      <td>wagon</td>\n",
       "      <td>2007</td>\n",
       "      <td>auto</td>\n",
       "      <td>16311</td>\n",
       "      <td>5er</td>\n",
       "      <td>150000</td>\n",
       "      <td>10</td>\n",
       "      <td>gasoline</td>\n",
       "      <td>bmw</td>\n",
       "      <td>no</td>\n",
       "      <td>2016-04-02</td>\n",
       "      <td>0</td>\n",
       "      <td>33100</td>\n",
       "      <td>2016-04-06 14:45:57</td>\n",
       "    </tr>\n",
       "    <tr>\n",
       "      <th>310732</th>\n",
       "      <td>2016-03-07 16:58:44</td>\n",
       "      <td>600</td>\n",
       "      <td>sedan</td>\n",
       "      <td>2000</td>\n",
       "      <td>manual</td>\n",
       "      <td>10110</td>\n",
       "      <td>focus</td>\n",
       "      <td>125000</td>\n",
       "      <td>12</td>\n",
       "      <td>petrol</td>\n",
       "      <td>ford</td>\n",
       "      <td>no</td>\n",
       "      <td>2016-03-07</td>\n",
       "      <td>0</td>\n",
       "      <td>35066</td>\n",
       "      <td>2016-03-07 17:41:33</td>\n",
       "    </tr>\n",
       "    <tr>\n",
       "      <th>317079</th>\n",
       "      <td>2016-03-25 12:55:36</td>\n",
       "      <td>1300</td>\n",
       "      <td>sedan</td>\n",
       "      <td>2000</td>\n",
       "      <td>manual</td>\n",
       "      <td>12512</td>\n",
       "      <td>carisma</td>\n",
       "      <td>150000</td>\n",
       "      <td>9</td>\n",
       "      <td>petrol</td>\n",
       "      <td>mitsubishi</td>\n",
       "      <td>no</td>\n",
       "      <td>2016-03-25</td>\n",
       "      <td>0</td>\n",
       "      <td>42105</td>\n",
       "      <td>2016-04-06 14:44:53</td>\n",
       "    </tr>\n",
       "  </tbody>\n",
       "</table>\n",
       "</div>"
      ],
      "text/plain": [
       "               datecrawled  price  vehicletype  registrationyear gearbox  \\\n",
       "23019  2016-03-28 19:57:39  10900          bus              2009  manual   \n",
       "41198  2016-04-07 07:36:38  15800  convertible              2014    auto   \n",
       "52127  2016-04-01 21:55:58   1995        wagon              2002  manual   \n",
       "57616  2016-03-27 18:47:59   2200        small              1999  manual   \n",
       "58535  2016-03-28 11:49:56   3250        sedan              2001    auto   \n",
       "71219  2016-03-25 13:36:57    850        sedan              2000  manual   \n",
       "77671  2016-03-28 10:49:33   1999        sedan              1991    auto   \n",
       "88267  2016-03-16 13:46:18   1380  convertible              2001    auto   \n",
       "88465  2016-03-12 10:36:18   4700          bus              1997  manual   \n",
       "90313  2016-03-31 18:54:51   5500        wagon              2010  manual   \n",
       "92181  2016-03-22 16:58:28   3500        sedan              1993    auto   \n",
       "104470 2016-04-03 07:36:21   9999        sedan              2006  manual   \n",
       "121340 2016-03-25 14:55:49   2100        wagon              2001  manual   \n",
       "135893 2016-03-23 15:55:50   3650        small              2002    auto   \n",
       "137917 2016-03-09 18:57:50   1700        wagon              1995  manual   \n",
       "148498 2016-04-04 14:59:24   5200        small              2005  manual   \n",
       "149895 2016-03-28 15:53:47   9800        other              2016  manual   \n",
       "160532 2016-03-19 11:38:23  10900        sedan              2007    auto   \n",
       "171400 2016-03-17 19:50:23   1749        wagon              1989  manual   \n",
       "171992 2016-04-04 15:53:25    200        other              1993  manual   \n",
       "179814 2016-03-20 16:51:48   6000        wagon              2004    auto   \n",
       "181055 2016-03-11 13:58:35    900        wagon              1997  manual   \n",
       "188210 2016-03-12 11:43:29   4700          bus              1997  manual   \n",
       "188283 2016-03-12 16:40:34   3150        coupe              2007  manual   \n",
       "198527 2016-03-10 08:57:25  11950  convertible              2008  manual   \n",
       "200891 2016-03-09 15:43:53   4300        coupe              1999    auto   \n",
       "208214 2016-03-30 16:38:22  15499        wagon              2012  manual   \n",
       "238579 2016-03-11 13:59:35   1750        wagon              2003    auto   \n",
       "238653 2016-03-20 08:36:59   1500        wagon              2006  manual   \n",
       "240291 2016-03-06 08:52:49   2800        wagon              1998  manual   \n",
       "247903 2016-03-17 23:53:06   9799        sedan              2011  manual   \n",
       "249200 2016-03-28 01:56:13    125        small              1999  manual   \n",
       "267303 2016-03-21 12:49:22   2000          bus              2003  manual   \n",
       "273705 2016-03-09 08:53:11   1500        wagon              1997  manual   \n",
       "284933 2016-04-02 15:50:55  11900        wagon              2007    auto   \n",
       "310732 2016-03-07 16:58:44    600        sedan              2000  manual   \n",
       "317079 2016-03-25 12:55:36   1300        sedan              2000  manual   \n",
       "\n",
       "        power        model  kilometer  registrationmonth  fueltype  \\\n",
       "23019   10520        caddy     150000                  6  gasoline   \n",
       "41198   10218       fortwo      30000                  3    petrol   \n",
       "52127   11530        focus     150000                  1    petrol   \n",
       "57616   12012         polo     150000                  3    petrol   \n",
       "58535   17932        omega     150000                  6    petrol   \n",
       "71219   12510        astra      30000                 10     other   \n",
       "77671   10912        other     150000                  0  gasoline   \n",
       "88267   10710       megane     150000                 10     other   \n",
       "88465   10522  transporter     150000                  0  gasoline   \n",
       "90313   11509         ceed     150000                  9     other   \n",
       "92181   11635           80     125000                  2    petrol   \n",
       "104470  19211          1er     125000                  0  gasoline   \n",
       "121340  19208          5er     150000                  5     other   \n",
       "135893  15020          147     125000                 11    petrol   \n",
       "137917  17410           80       5000                  0    petrol   \n",
       "148498  15001       fiesta     150000                 12    petrol   \n",
       "149895  12510       galaxy     150000                  0  gasoline   \n",
       "160532  17011           a3       5000                  7  gasoline   \n",
       "171400  17019          3er       5000                 12    petrol   \n",
       "171992  12684        other       5000                  0    petrol   \n",
       "179814  17700          5er     150000                  7  gasoline   \n",
       "181055  11011           a4     150000                  5  gasoline   \n",
       "188210  10522  transporter     150000                  0  gasoline   \n",
       "188283  15033        other       5000                  3  gasoline   \n",
       "198527  16312           a4      20000                  4    petrol   \n",
       "200891  20000          clk     150000                  1    petrol   \n",
       "208214  13636     c_klasse     125000                  4  gasoline   \n",
       "238579  15017          3er     150000                 11  gasoline   \n",
       "238653  10910        other      20000                  3    petrol   \n",
       "240291  11025       passat     150000                  6  gasoline   \n",
       "247903  14009        other      80000                  6    petrol   \n",
       "249200  11111        corsa     125000                 11    petrol   \n",
       "267303  12512       zafira     150000                 12    petrol   \n",
       "273705  19312          5er     150000                  1     other   \n",
       "284933  16311          5er     150000                 10  gasoline   \n",
       "310732  10110        focus     125000                 12    petrol   \n",
       "317079  12512      carisma     150000                  9    petrol   \n",
       "\n",
       "                 brand repaired datecreated  numberofpictures  postalcode  \\\n",
       "23019       volkswagen       no  2016-03-28                 0       36272   \n",
       "41198            smart       no  2016-04-06                 0       81373   \n",
       "52127             ford       no  2016-04-01                 0       35759   \n",
       "57616       volkswagen       no  2016-03-27                 0        9526   \n",
       "58535             opel       no  2016-03-28                 0       86641   \n",
       "71219             opel       no  2016-03-25                 0       23611   \n",
       "77671    mercedes_benz       no  2016-03-28                 0       88069   \n",
       "88267          renault       no  2016-03-16                 0       71282   \n",
       "88465       volkswagen       no  2016-03-12                 0       87437   \n",
       "90313              kia       no  2016-03-31                 0       15907   \n",
       "92181             audi       no  2016-03-22                 0       80809   \n",
       "104470             bmw       no  2016-04-03                 0       45964   \n",
       "121340             bmw      yes  2016-03-25                 0       59556   \n",
       "135893      alfa_romeo       no  2016-03-23                 0       30855   \n",
       "137917            audi      yes  2016-03-09                 0       23562   \n",
       "148498            ford       no  2016-04-04                 0       70372   \n",
       "149895            ford       no  2016-03-28                 0       66740   \n",
       "160532            audi       no  2016-03-19                 0       12355   \n",
       "171400             bmw       no  2016-03-17                 0       89542   \n",
       "171992  sonstige_autos       no  2016-04-04                 0       26725   \n",
       "179814             bmw       no  2016-03-20                 0       26316   \n",
       "181055            audi       no  2016-03-11                 0       82467   \n",
       "188210      volkswagen       no  2016-03-12                 0       87437   \n",
       "188283      alfa_romeo       no  2016-03-12                 0       35716   \n",
       "198527            audi       no  2016-03-10                 0       51647   \n",
       "200891   mercedes_benz       no  2016-03-09                 0       19406   \n",
       "208214   mercedes_benz       no  2016-03-30                 0       24983   \n",
       "238579             bmw       no  2016-03-11                 0       52525   \n",
       "238653         peugeot      yes  2016-03-20                 0       56567   \n",
       "240291      volkswagen       no  2016-03-06                 0        1665   \n",
       "247903            opel       no  2016-03-17                 0       86415   \n",
       "249200            opel       no  2016-03-28                 0       42107   \n",
       "267303            opel       no  2016-03-21                 0       52072   \n",
       "273705             bmw       no  2016-03-09                 0       21129   \n",
       "284933             bmw       no  2016-04-02                 0       33100   \n",
       "310732            ford       no  2016-03-07                 0       35066   \n",
       "317079      mitsubishi       no  2016-03-25                 0       42105   \n",
       "\n",
       "                  lastseen  \n",
       "23019  2016-04-07 02:47:02  \n",
       "41198  2016-04-07 07:36:38  \n",
       "52127  2016-04-05 14:44:36  \n",
       "57616  2016-04-01 19:44:55  \n",
       "58535  2016-04-06 14:17:21  \n",
       "71219  2016-03-31 20:45:39  \n",
       "77671  2016-03-30 01:15:32  \n",
       "88267  2016-03-19 10:45:58  \n",
       "88465  2016-03-12 10:36:18  \n",
       "90313  2016-04-06 13:15:34  \n",
       "92181  2016-03-26 19:15:28  \n",
       "104470 2016-04-07 10:16:10  \n",
       "121340 2016-03-30 05:16:18  \n",
       "135893 2016-04-05 19:17:37  \n",
       "137917 2016-03-15 07:17:06  \n",
       "148498 2016-04-06 16:17:54  \n",
       "149895 2016-04-02 20:18:58  \n",
       "160532 2016-03-21 15:20:06  \n",
       "171400 2016-03-26 00:46:59  \n",
       "171992 2016-04-06 17:44:48  \n",
       "179814 2016-04-06 22:45:56  \n",
       "181055 2016-03-19 21:44:26  \n",
       "188210 2016-03-12 11:43:29  \n",
       "188283 2016-03-17 18:47:28  \n",
       "198527 2016-03-17 09:16:19  \n",
       "200891 2016-03-30 08:47:08  \n",
       "208214 2016-04-07 07:15:50  \n",
       "238579 2016-03-11 14:41:51  \n",
       "238653 2016-03-20 15:42:16  \n",
       "240291 2016-03-29 16:18:05  \n",
       "247903 2016-03-23 17:18:38  \n",
       "249200 2016-04-02 12:44:38  \n",
       "267303 2016-04-06 07:45:32  \n",
       "273705 2016-04-07 11:44:34  \n",
       "284933 2016-04-06 14:45:57  \n",
       "310732 2016-03-07 17:41:33  \n",
       "317079 2016-04-06 14:44:53  "
      ]
     },
     "metadata": {},
     "output_type": "display_data"
    }
   ],
   "source": [
    "display(df.query('power > 10000'))"
   ]
  },
  {
   "cell_type": "code",
   "execution_count": 45,
   "metadata": {},
   "outputs": [],
   "source": [
    "def powers(power):\n",
    "    if (power < 1000):\n",
    "        return int(power)\n",
    "    elif (power >= 1000) & (power < 10000):\n",
    "        return int(power/10)\n",
    "    elif (power >=10000):\n",
    "        return int(power/100)\n",
    "    \n",
    "df['power'] = df['power'].apply(powers)"
   ]
  },
  {
   "cell_type": "code",
   "execution_count": 46,
   "metadata": {},
   "outputs": [
    {
     "data": {
      "image/png": "[encoded data removed]",
      "text/plain": [
       "<Figure size 1440x432 with 1 Axes>"
      ]
     },
     "metadata": {
      "needs_background": "light"
     },
     "output_type": "display_data"
    }
   ],
   "source": [
    "fig = plt.figure(1, figsize=(20, 6))\n",
    "ax = fig.add_subplot(111)\n",
    "\n",
    "ax.boxplot(df['power'], vert=False, manage_ticks=True)\n",
    "ax.set_xlabel('value')\n",
    "ax.set_yticks([1])\n",
    "ax.set_yticklabels(['power'])\n",
    "\n",
    "quantiles = np.quantile(df['power'], np.array([0, 1.00]))\n",
    "ax.vlines(quantiles, [0] * quantiles.size, [1] * quantiles.size,\n",
    "          color='b', ls=':', lw=0.5, zorder=0)\n",
    "ax.set_ylim(0.5, 1.5)\n",
    "ax.set_xticks(quantiles)\n",
    "plt.title(\"Ящик с усами мощности продаваемых авто\")\n",
    "plt.show()"
   ]
  },
  {
   "cell_type": "markdown",
   "metadata": {},
   "source": [
    "**Заменим нулевые значения мощности средним значением по бренду и модели авто.**"
   ]
  },
  {
   "cell_type": "code",
   "execution_count": 47,
   "metadata": {},
   "outputs": [
    {
     "data": {
      "text/html": [
       "<div>\n",
       "<style scoped>\n",
       "    .dataframe tbody tr th:only-of-type {\n",
       "        vertical-align: middle;\n",
       "    }\n",
       "\n",
       "    .dataframe tbody tr th {\n",
       "        vertical-align: top;\n",
       "    }\n",
       "\n",
       "    .dataframe thead th {\n",
       "        text-align: right;\n",
       "    }\n",
       "</style>\n",
       "<table border=\"1\" class=\"dataframe\">\n",
       "  <thead>\n",
       "    <tr style=\"text-align: right;\">\n",
       "      <th></th>\n",
       "      <th>datecrawled</th>\n",
       "      <th>price</th>\n",
       "      <th>vehicletype</th>\n",
       "      <th>registrationyear</th>\n",
       "      <th>gearbox</th>\n",
       "      <th>power</th>\n",
       "      <th>model</th>\n",
       "      <th>kilometer</th>\n",
       "      <th>registrationmonth</th>\n",
       "      <th>fueltype</th>\n",
       "      <th>brand</th>\n",
       "      <th>repaired</th>\n",
       "      <th>datecreated</th>\n",
       "      <th>numberofpictures</th>\n",
       "      <th>postalcode</th>\n",
       "      <th>lastseen</th>\n",
       "    </tr>\n",
       "  </thead>\n",
       "  <tbody>\n",
       "    <tr>\n",
       "      <th>0</th>\n",
       "      <td>2016-03-24 11:52:17</td>\n",
       "      <td>480</td>\n",
       "      <td>other</td>\n",
       "      <td>1993</td>\n",
       "      <td>manual</td>\n",
       "      <td>0</td>\n",
       "      <td>golf</td>\n",
       "      <td>150000</td>\n",
       "      <td>0</td>\n",
       "      <td>petrol</td>\n",
       "      <td>volkswagen</td>\n",
       "      <td>no</td>\n",
       "      <td>2016-03-24</td>\n",
       "      <td>0</td>\n",
       "      <td>70435</td>\n",
       "      <td>2016-04-07 03:16:57</td>\n",
       "    </tr>\n",
       "    <tr>\n",
       "      <th>27</th>\n",
       "      <td>2016-03-15 20:59:01</td>\n",
       "      <td>245</td>\n",
       "      <td>sedan</td>\n",
       "      <td>1994</td>\n",
       "      <td>manual</td>\n",
       "      <td>0</td>\n",
       "      <td>golf</td>\n",
       "      <td>150000</td>\n",
       "      <td>2</td>\n",
       "      <td>petrol</td>\n",
       "      <td>volkswagen</td>\n",
       "      <td>no</td>\n",
       "      <td>2016-03-15</td>\n",
       "      <td>0</td>\n",
       "      <td>44145</td>\n",
       "      <td>2016-03-17 18:17:43</td>\n",
       "    </tr>\n",
       "    <tr>\n",
       "      <th>32</th>\n",
       "      <td>2016-03-28 17:50:15</td>\n",
       "      <td>1500</td>\n",
       "      <td>other</td>\n",
       "      <td>2016</td>\n",
       "      <td>manual</td>\n",
       "      <td>0</td>\n",
       "      <td>kangoo</td>\n",
       "      <td>150000</td>\n",
       "      <td>1</td>\n",
       "      <td>gasoline</td>\n",
       "      <td>renault</td>\n",
       "      <td>no</td>\n",
       "      <td>2016-03-28</td>\n",
       "      <td>0</td>\n",
       "      <td>46483</td>\n",
       "      <td>2016-03-30 09:18:02</td>\n",
       "    </tr>\n",
       "    <tr>\n",
       "      <th>46</th>\n",
       "      <td>2016-03-17 07:56:40</td>\n",
       "      <td>4700</td>\n",
       "      <td>wagon</td>\n",
       "      <td>2005</td>\n",
       "      <td>manual</td>\n",
       "      <td>0</td>\n",
       "      <td>signum</td>\n",
       "      <td>150000</td>\n",
       "      <td>0</td>\n",
       "      <td>other</td>\n",
       "      <td>opel</td>\n",
       "      <td>no</td>\n",
       "      <td>2016-03-17</td>\n",
       "      <td>0</td>\n",
       "      <td>88433</td>\n",
       "      <td>2016-04-04 04:17:32</td>\n",
       "    </tr>\n",
       "    <tr>\n",
       "      <th>47</th>\n",
       "      <td>2016-03-26 10:39:35</td>\n",
       "      <td>550</td>\n",
       "      <td>wagon</td>\n",
       "      <td>1999</td>\n",
       "      <td>manual</td>\n",
       "      <td>0</td>\n",
       "      <td>astra</td>\n",
       "      <td>150000</td>\n",
       "      <td>8</td>\n",
       "      <td>gasoline</td>\n",
       "      <td>opel</td>\n",
       "      <td>yes</td>\n",
       "      <td>2016-03-26</td>\n",
       "      <td>0</td>\n",
       "      <td>56759</td>\n",
       "      <td>2016-04-01 23:17:27</td>\n",
       "    </tr>\n",
       "  </tbody>\n",
       "</table>\n",
       "</div>"
      ],
      "text/plain": [
       "           datecrawled  price vehicletype  registrationyear gearbox  power  \\\n",
       "0  2016-03-24 11:52:17    480       other              1993  manual      0   \n",
       "27 2016-03-15 20:59:01    245       sedan              1994  manual      0   \n",
       "32 2016-03-28 17:50:15   1500       other              2016  manual      0   \n",
       "46 2016-03-17 07:56:40   4700       wagon              2005  manual      0   \n",
       "47 2016-03-26 10:39:35    550       wagon              1999  manual      0   \n",
       "\n",
       "     model  kilometer  registrationmonth  fueltype       brand repaired  \\\n",
       "0     golf     150000                  0    petrol  volkswagen       no   \n",
       "27    golf     150000                  2    petrol  volkswagen       no   \n",
       "32  kangoo     150000                  1  gasoline     renault       no   \n",
       "46  signum     150000                  0     other        opel       no   \n",
       "47   astra     150000                  8  gasoline        opel      yes   \n",
       "\n",
       "   datecreated  numberofpictures  postalcode            lastseen  \n",
       "0   2016-03-24                 0       70435 2016-04-07 03:16:57  \n",
       "27  2016-03-15                 0       44145 2016-03-17 18:17:43  \n",
       "32  2016-03-28                 0       46483 2016-03-30 09:18:02  \n",
       "46  2016-03-17                 0       88433 2016-04-04 04:17:32  \n",
       "47  2016-03-26                 0       56759 2016-04-01 23:17:27  "
      ]
     },
     "execution_count": 47,
     "metadata": {},
     "output_type": "execute_result"
    }
   ],
   "source": [
    "df.query('power == 0').head(5)"
   ]
  },
  {
   "cell_type": "code",
   "execution_count": 48,
   "metadata": {},
   "outputs": [],
   "source": [
    "#заменим нулевые значения в 'power' на среднее значение по бренду и модели.\n",
    "df['power'] = np.where(df['power'] == 0, df.groupby(['brand', 'model'])['power'].transform('mean'), df['power'])"
   ]
  },
  {
   "cell_type": "code",
   "execution_count": 49,
   "metadata": {},
   "outputs": [
    {
     "data": {
      "text/html": [
       "<div>\n",
       "<style scoped>\n",
       "    .dataframe tbody tr th:only-of-type {\n",
       "        vertical-align: middle;\n",
       "    }\n",
       "\n",
       "    .dataframe tbody tr th {\n",
       "        vertical-align: top;\n",
       "    }\n",
       "\n",
       "    .dataframe thead th {\n",
       "        text-align: right;\n",
       "    }\n",
       "</style>\n",
       "<table border=\"1\" class=\"dataframe\">\n",
       "  <thead>\n",
       "    <tr style=\"text-align: right;\">\n",
       "      <th></th>\n",
       "      <th>datecrawled</th>\n",
       "      <th>price</th>\n",
       "      <th>vehicletype</th>\n",
       "      <th>registrationyear</th>\n",
       "      <th>gearbox</th>\n",
       "      <th>power</th>\n",
       "      <th>model</th>\n",
       "      <th>kilometer</th>\n",
       "      <th>registrationmonth</th>\n",
       "      <th>fueltype</th>\n",
       "      <th>brand</th>\n",
       "      <th>repaired</th>\n",
       "      <th>datecreated</th>\n",
       "      <th>numberofpictures</th>\n",
       "      <th>postalcode</th>\n",
       "      <th>lastseen</th>\n",
       "    </tr>\n",
       "  </thead>\n",
       "  <tbody>\n",
       "    <tr>\n",
       "      <th>214314</th>\n",
       "      <td>2016-03-30 11:39:08</td>\n",
       "      <td>3800</td>\n",
       "      <td>wagon</td>\n",
       "      <td>1978</td>\n",
       "      <td>manual</td>\n",
       "      <td>0.0</td>\n",
       "      <td>serie_1</td>\n",
       "      <td>30000</td>\n",
       "      <td>0</td>\n",
       "      <td>gasoline</td>\n",
       "      <td>land_rover</td>\n",
       "      <td>no</td>\n",
       "      <td>2016-03-30</td>\n",
       "      <td>0</td>\n",
       "      <td>49824</td>\n",
       "      <td>2016-03-30 11:39:08</td>\n",
       "    </tr>\n",
       "  </tbody>\n",
       "</table>\n",
       "</div>"
      ],
      "text/plain": [
       "               datecrawled  price vehicletype  registrationyear gearbox  \\\n",
       "214314 2016-03-30 11:39:08   3800       wagon              1978  manual   \n",
       "\n",
       "        power    model  kilometer  registrationmonth  fueltype       brand  \\\n",
       "214314    0.0  serie_1      30000                  0  gasoline  land_rover   \n",
       "\n",
       "       repaired datecreated  numberofpictures  postalcode            lastseen  \n",
       "214314       no  2016-03-30                 0       49824 2016-03-30 11:39:08  "
      ]
     },
     "execution_count": 49,
     "metadata": {},
     "output_type": "execute_result"
    }
   ],
   "source": [
    "df.query('power == 0')"
   ]
  },
  {
   "cell_type": "markdown",
   "metadata": {},
   "source": [
    "**Удалил 1 оставшееся значение.**"
   ]
  },
  {
   "cell_type": "code",
   "execution_count": 50,
   "metadata": {},
   "outputs": [],
   "source": [
    "df=df.query('power > 0')"
   ]
  },
  {
   "cell_type": "markdown",
   "metadata": {},
   "source": [
    "**Ранее важные признаки сохранил в список important, оставим его в исходном датасете.**"
   ]
  },
  {
   "cell_type": "code",
   "execution_count": 51,
   "metadata": {},
   "outputs": [],
   "source": [
    "df = df[important]"
   ]
  },
  {
   "cell_type": "code",
   "execution_count": 52,
   "metadata": {},
   "outputs": [
    {
     "data": {
      "text/plain": [
       "1.0"
      ]
     },
     "execution_count": 52,
     "metadata": {},
     "output_type": "execute_result"
    }
   ],
   "source": [
    "df.power.min()"
   ]
  },
  {
   "cell_type": "code",
   "execution_count": 53,
   "metadata": {},
   "outputs": [
    {
     "data": {
      "text/plain": [
       "49679"
      ]
     },
     "execution_count": 53,
     "metadata": {},
     "output_type": "execute_result"
    }
   ],
   "source": [
    "df.duplicated().sum()"
   ]
  },
  {
   "cell_type": "code",
   "execution_count": 55,
   "metadata": {},
   "outputs": [],
   "source": [
    "df = df.drop_duplicates().reset_index(drop=True)"
   ]
  },
  {
   "cell_type": "code",
   "execution_count": 56,
   "metadata": {},
   "outputs": [
    {
     "data": {
      "text/plain": [
       "0"
      ]
     },
     "execution_count": 56,
     "metadata": {},
     "output_type": "execute_result"
    }
   ],
   "source": [
    "df.duplicated().sum()"
   ]
  },
  {
   "cell_type": "code",
   "execution_count": 82,
   "metadata": {},
   "outputs": [
    {
     "name": "stdout",
     "output_type": "stream",
     "text": [
      "Доля оставшихся данных от начального датасета: 77.46\n"
     ]
    }
   ],
   "source": [
    "print('Доля оставшихся данных от начального датасета:', round(df.shape[0]/len_df*100, 2))"
   ]
  },
  {
   "cell_type": "markdown",
   "metadata": {},
   "source": [
    "**В результате анализа общей информации выявлено следующее:**\n",
    "- В датасете присутствуют 354369 объектов, 15 признаков и 1 целевой признак price.\n",
    "- более 10% пропущенных значений есть в признаках Repaired и VehicleType, до 10% - в признаках FuelType, Gearbox, Model. В остальных признаках пропусков нет.\n",
    "- Доля объектов с хотябы одним пропущенным значением составляет почти 31%, что достаточно много.\n",
    "- в данных присутствует 4 полных дубликата, которые необходимо удалить.\n",
    "- В датасете присутствуют объявления о продаже авто созданные в период с марта 2014 года по апрель 2016 года.\n",
    "- Коррелирующие признаки отсутствуют.\n",
    "\n",
    "\n",
    "**В результате предобработки данных выполнено следующее:**\n",
    "- Удалены объекты, в которых стоимость машин равно 0.\n",
    "- В столбце 'vehicletype' пропуски заполнены значением 'other'.\n",
    "- В столбце 'repaired' есть два значения да и нет, вероятно, у кого машина не была в ремонте просто не ставили значение в ячейку, поэтому пропущенные ячейки заполнены значением 'no'.\n",
    "- В столбцах 'model' и 'fueltype' также есть значение 'other', им заполнены пропущенные значения.\n",
    "- Пропуски в столбце 'gearbox' заполнены модой сгруппировав по брэнду и модели.\n",
    "- Год регистрации начинается с 1000 года и заканчивается 9999 годом, что очень странно, поэтому удалены объекты с годом регистрации позже апреля 2016 года, так как это максимальное значение даты создания анкеты и удалены объекты с годом регистрации ранее 1970 года.\n",
    "- Отмечаются аномально высокие значения мощности авто (более 1000 л.с.) и большое количество нулевых значений. Вероятно, из-за какой-то ошибки аномально высокие значений выгрузились без запятой. Нулевые значения обработаны средним по бренду и марке. Аномально высокие значения более 1000 и менее 10000 поделены на 10, а более 10000 - поделены на 100.\n",
    "- Доля оставшихся данных от начального датасета: 77.5 %.\n",
    "- В исходном датасете оставил признаки: 'price', 'vehicletype', 'registrationyear', 'gearbox', 'power', 'model', 'kilometer', 'fueltype', 'brand', 'repaired'."
   ]
  },
  {
   "cell_type": "markdown",
   "metadata": {},
   "source": [
    "## Обучение моделей"
   ]
  },
  {
   "cell_type": "markdown",
   "metadata": {},
   "source": [
    "**Подготовим выборки**"
   ]
  },
  {
   "cell_type": "markdown",
   "metadata": {},
   "source": [
    "**Разделим датафрейм на признаки (X) и целевую переменную (y).**Ч"
   ]
  },
  {
   "cell_type": "code",
   "execution_count": 57,
   "metadata": {},
   "outputs": [],
   "source": [
    "X = df.drop('price', axis=1)\n",
    "y = df['price']"
   ]
  },
  {
   "cell_type": "markdown",
   "metadata": {},
   "source": [
    "**Разделим данные на обучающую, валидационную и тестовую выборки.**"
   ]
  },
  {
   "cell_type": "code",
   "execution_count": 58,
   "metadata": {},
   "outputs": [
    {
     "name": "stdout",
     "output_type": "stream",
     "text": [
      "(164703, 9)\n",
      "(164703,)\n",
      "(109802, 9)\n",
      "(109802,)\n"
     ]
    }
   ],
   "source": [
    "# разделяем на обучающую и тестовую выборки (60/40)\n",
    "X_train, X_test, y_train, y_test  = train_test_split(X, \n",
    "                                                     y, \n",
    "                                                     test_size=0.4,\n",
    "                                                     random_state=12345)\n",
    "print(X_train.shape)\n",
    "print(y_train.shape)\n",
    "print(X_test.shape)\n",
    "print(y_test.shape)"
   ]
  },
  {
   "cell_type": "code",
   "execution_count": 59,
   "metadata": {},
   "outputs": [
    {
     "data": {
      "text/html": [
       "<div>\n",
       "<style scoped>\n",
       "    .dataframe tbody tr th:only-of-type {\n",
       "        vertical-align: middle;\n",
       "    }\n",
       "\n",
       "    .dataframe tbody tr th {\n",
       "        vertical-align: top;\n",
       "    }\n",
       "\n",
       "    .dataframe thead th {\n",
       "        text-align: right;\n",
       "    }\n",
       "</style>\n",
       "<table border=\"1\" class=\"dataframe\">\n",
       "  <thead>\n",
       "    <tr style=\"text-align: right;\">\n",
       "      <th></th>\n",
       "      <th>vehicletype</th>\n",
       "      <th>registrationyear</th>\n",
       "      <th>gearbox</th>\n",
       "      <th>power</th>\n",
       "      <th>model</th>\n",
       "      <th>kilometer</th>\n",
       "      <th>fueltype</th>\n",
       "      <th>brand</th>\n",
       "      <th>repaired</th>\n",
       "    </tr>\n",
       "  </thead>\n",
       "  <tbody>\n",
       "    <tr>\n",
       "      <th>138269</th>\n",
       "      <td>sedan</td>\n",
       "      <td>1994</td>\n",
       "      <td>manual</td>\n",
       "      <td>193.000000</td>\n",
       "      <td>other</td>\n",
       "      <td>150000</td>\n",
       "      <td>petrol</td>\n",
       "      <td>bmw</td>\n",
       "      <td>no</td>\n",
       "    </tr>\n",
       "    <tr>\n",
       "      <th>108834</th>\n",
       "      <td>convertible</td>\n",
       "      <td>2003</td>\n",
       "      <td>manual</td>\n",
       "      <td>109.000000</td>\n",
       "      <td>2_reihe</td>\n",
       "      <td>125000</td>\n",
       "      <td>petrol</td>\n",
       "      <td>peugeot</td>\n",
       "      <td>no</td>\n",
       "    </tr>\n",
       "    <tr>\n",
       "      <th>246659</th>\n",
       "      <td>convertible</td>\n",
       "      <td>1994</td>\n",
       "      <td>manual</td>\n",
       "      <td>97.208227</td>\n",
       "      <td>golf</td>\n",
       "      <td>150000</td>\n",
       "      <td>petrol</td>\n",
       "      <td>volkswagen</td>\n",
       "      <td>no</td>\n",
       "    </tr>\n",
       "    <tr>\n",
       "      <th>127124</th>\n",
       "      <td>small</td>\n",
       "      <td>2005</td>\n",
       "      <td>auto</td>\n",
       "      <td>61.000000</td>\n",
       "      <td>fortwo</td>\n",
       "      <td>125000</td>\n",
       "      <td>petrol</td>\n",
       "      <td>smart</td>\n",
       "      <td>no</td>\n",
       "    </tr>\n",
       "    <tr>\n",
       "      <th>53215</th>\n",
       "      <td>small</td>\n",
       "      <td>2000</td>\n",
       "      <td>manual</td>\n",
       "      <td>69.000000</td>\n",
       "      <td>polo</td>\n",
       "      <td>30000</td>\n",
       "      <td>other</td>\n",
       "      <td>volkswagen</td>\n",
       "      <td>no</td>\n",
       "    </tr>\n",
       "    <tr>\n",
       "      <th>...</th>\n",
       "      <td>...</td>\n",
       "      <td>...</td>\n",
       "      <td>...</td>\n",
       "      <td>...</td>\n",
       "      <td>...</td>\n",
       "      <td>...</td>\n",
       "      <td>...</td>\n",
       "      <td>...</td>\n",
       "      <td>...</td>\n",
       "    </tr>\n",
       "    <tr>\n",
       "      <th>158838</th>\n",
       "      <td>sedan</td>\n",
       "      <td>1999</td>\n",
       "      <td>auto</td>\n",
       "      <td>125.000000</td>\n",
       "      <td>e_klasse</td>\n",
       "      <td>150000</td>\n",
       "      <td>gasoline</td>\n",
       "      <td>mercedes_benz</td>\n",
       "      <td>no</td>\n",
       "    </tr>\n",
       "    <tr>\n",
       "      <th>47873</th>\n",
       "      <td>sedan</td>\n",
       "      <td>2001</td>\n",
       "      <td>auto</td>\n",
       "      <td>224.000000</td>\n",
       "      <td>a8</td>\n",
       "      <td>150000</td>\n",
       "      <td>gasoline</td>\n",
       "      <td>audi</td>\n",
       "      <td>no</td>\n",
       "    </tr>\n",
       "    <tr>\n",
       "      <th>86398</th>\n",
       "      <td>wagon</td>\n",
       "      <td>1996</td>\n",
       "      <td>manual</td>\n",
       "      <td>101.000000</td>\n",
       "      <td>astra</td>\n",
       "      <td>150000</td>\n",
       "      <td>petrol</td>\n",
       "      <td>opel</td>\n",
       "      <td>yes</td>\n",
       "    </tr>\n",
       "    <tr>\n",
       "      <th>77285</th>\n",
       "      <td>bus</td>\n",
       "      <td>1989</td>\n",
       "      <td>manual</td>\n",
       "      <td>97.382647</td>\n",
       "      <td>transporter</td>\n",
       "      <td>20000</td>\n",
       "      <td>gasoline</td>\n",
       "      <td>volkswagen</td>\n",
       "      <td>yes</td>\n",
       "    </tr>\n",
       "    <tr>\n",
       "      <th>217570</th>\n",
       "      <td>small</td>\n",
       "      <td>2001</td>\n",
       "      <td>manual</td>\n",
       "      <td>75.000000</td>\n",
       "      <td>twingo</td>\n",
       "      <td>150000</td>\n",
       "      <td>other</td>\n",
       "      <td>renault</td>\n",
       "      <td>no</td>\n",
       "    </tr>\n",
       "  </tbody>\n",
       "</table>\n",
       "<p>164703 rows × 9 columns</p>\n",
       "</div>"
      ],
      "text/plain": [
       "        vehicletype  registrationyear gearbox       power        model  \\\n",
       "138269        sedan              1994  manual  193.000000        other   \n",
       "108834  convertible              2003  manual  109.000000      2_reihe   \n",
       "246659  convertible              1994  manual   97.208227         golf   \n",
       "127124        small              2005    auto   61.000000       fortwo   \n",
       "53215         small              2000  manual   69.000000         polo   \n",
       "...             ...               ...     ...         ...          ...   \n",
       "158838        sedan              1999    auto  125.000000     e_klasse   \n",
       "47873         sedan              2001    auto  224.000000           a8   \n",
       "86398         wagon              1996  manual  101.000000        astra   \n",
       "77285           bus              1989  manual   97.382647  transporter   \n",
       "217570        small              2001  manual   75.000000       twingo   \n",
       "\n",
       "        kilometer  fueltype          brand repaired  \n",
       "138269     150000    petrol            bmw       no  \n",
       "108834     125000    petrol        peugeot       no  \n",
       "246659     150000    petrol     volkswagen       no  \n",
       "127124     125000    petrol          smart       no  \n",
       "53215       30000     other     volkswagen       no  \n",
       "...           ...       ...            ...      ...  \n",
       "158838     150000  gasoline  mercedes_benz       no  \n",
       "47873      150000  gasoline           audi       no  \n",
       "86398      150000    petrol           opel      yes  \n",
       "77285       20000  gasoline     volkswagen      yes  \n",
       "217570     150000     other        renault       no  \n",
       "\n",
       "[164703 rows x 9 columns]"
      ]
     },
     "execution_count": 59,
     "metadata": {},
     "output_type": "execute_result"
    }
   ],
   "source": [
    "X_train"
   ]
  },
  {
   "cell_type": "code",
   "execution_count": 60,
   "metadata": {},
   "outputs": [
    {
     "name": "stdout",
     "output_type": "stream",
     "text": [
      "(54901, 9)\n",
      "(54901,)\n",
      "(54901, 9)\n",
      "(54901,)\n"
     ]
    }
   ],
   "source": [
    "# разделяем тестовую выборку на валидационную и тестовую (50/50)\n",
    "X_valid, X_test, y_valid, y_test  = train_test_split(X_test, \n",
    "                                                     y_test, \n",
    "                                                     test_size=0.5,                                                     \n",
    "                                                     random_state=12345)\n",
    "print(X_valid.shape)\n",
    "print(y_valid.shape)\n",
    "print(X_test.shape)\n",
    "print(y_test.shape)"
   ]
  },
  {
   "cell_type": "code",
   "execution_count": 61,
   "metadata": {},
   "outputs": [],
   "source": [
    "#сохраним выборки с незакодированными категориальными признаками \n",
    "#в отдельные переменные для дальнейшего использования в модели CatBoostRegressor\n",
    "X_train_notcoded = X_train.copy()\n",
    "X_valid_notcoded = X_valid.copy()\n",
    "X_test_notcoded = X_test.copy()"
   ]
  },
  {
   "cell_type": "markdown",
   "metadata": {},
   "source": [
    "**Выполним масштабирование.**"
   ]
  },
  {
   "cell_type": "code",
   "execution_count": 62,
   "metadata": {},
   "outputs": [],
   "source": [
    "#Выполним масштабирование числовых переменных\n",
    "\n",
    "numeric_X = ['registrationyear', 'power', 'kilometer']\n",
    "\n",
    "scaler = StandardScaler()\n",
    "\n",
    "X_train[numeric_X] = scaler.fit_transform(X_train[numeric_X])\n",
    "X_valid[numeric_X] = scaler.transform(X_valid[numeric_X])\n",
    "X_test[numeric_X] = scaler.transform(X_test[numeric_X])"
   ]
  },
  {
   "cell_type": "code",
   "execution_count": 63,
   "metadata": {},
   "outputs": [],
   "source": [
    "#Выполним кодировку номинальных признаков\n",
    "nominal_X = ['model', 'brand']\n",
    "\n",
    "mee = ce.MEstimateEncoder(cols=nominal_X, m=5.0, random_state=12345)\n",
    "\n",
    "X_train[nominal_X] = mee.fit_transform(X_train[nominal_X], y_train)\n",
    "X_valid[nominal_X] = mee.transform(X_valid[nominal_X])\n",
    "X_test[nominal_X] = mee.transform(X_test[nominal_X])"
   ]
  },
  {
   "cell_type": "code",
   "execution_count": 64,
   "metadata": {},
   "outputs": [
    {
     "data": {
      "text/html": [
       "<div>\n",
       "<style scoped>\n",
       "    .dataframe tbody tr th:only-of-type {\n",
       "        vertical-align: middle;\n",
       "    }\n",
       "\n",
       "    .dataframe tbody tr th {\n",
       "        vertical-align: top;\n",
       "    }\n",
       "\n",
       "    .dataframe thead th {\n",
       "        text-align: right;\n",
       "    }\n",
       "</style>\n",
       "<table border=\"1\" class=\"dataframe\">\n",
       "  <thead>\n",
       "    <tr style=\"text-align: right;\">\n",
       "      <th></th>\n",
       "      <th>model</th>\n",
       "      <th>brand</th>\n",
       "    </tr>\n",
       "  </thead>\n",
       "  <tbody>\n",
       "    <tr>\n",
       "      <th>count</th>\n",
       "      <td>164703.000000</td>\n",
       "      <td>164703.000000</td>\n",
       "    </tr>\n",
       "    <tr>\n",
       "      <th>mean</th>\n",
       "      <td>4748.563262</td>\n",
       "      <td>4756.828664</td>\n",
       "    </tr>\n",
       "    <tr>\n",
       "      <th>std</th>\n",
       "      <td>2385.622171</td>\n",
       "      <td>1532.519199</td>\n",
       "    </tr>\n",
       "    <tr>\n",
       "      <th>min</th>\n",
       "      <td>834.087913</td>\n",
       "      <td>1088.113480</td>\n",
       "    </tr>\n",
       "    <tr>\n",
       "      <th>25%</th>\n",
       "      <td>3259.517847</td>\n",
       "      <td>3314.990284</td>\n",
       "    </tr>\n",
       "    <tr>\n",
       "      <th>50%</th>\n",
       "      <td>4054.482031</td>\n",
       "      <td>4904.448060</td>\n",
       "    </tr>\n",
       "    <tr>\n",
       "      <th>75%</th>\n",
       "      <td>5803.779730</td>\n",
       "      <td>6119.043161</td>\n",
       "    </tr>\n",
       "    <tr>\n",
       "      <th>max</th>\n",
       "      <td>16058.075488</td>\n",
       "      <td>11614.171556</td>\n",
       "    </tr>\n",
       "  </tbody>\n",
       "</table>\n",
       "</div>"
      ],
      "text/plain": [
       "               model          brand\n",
       "count  164703.000000  164703.000000\n",
       "mean     4748.563262    4756.828664\n",
       "std      2385.622171    1532.519199\n",
       "min       834.087913    1088.113480\n",
       "25%      3259.517847    3314.990284\n",
       "50%      4054.482031    4904.448060\n",
       "75%      5803.779730    6119.043161\n",
       "max     16058.075488   11614.171556"
      ]
     },
     "execution_count": 64,
     "metadata": {},
     "output_type": "execute_result"
    }
   ],
   "source": [
    "X_train[nominal_X].describe()"
   ]
  },
  {
   "cell_type": "code",
   "execution_count": 65,
   "metadata": {},
   "outputs": [],
   "source": [
    "#Видно, что значения признаков 'model' и 'brand' слишком большие, поэтому выполним их масштабирование\n",
    "scaler = StandardScaler()\n",
    "\n",
    "X_train[nominal_X] = scaler.fit_transform(X_train[nominal_X])\n",
    "X_valid[nominal_X] = scaler.transform(X_valid[nominal_X])\n",
    "X_test[nominal_X] = scaler.transform(X_test[nominal_X])"
   ]
  },
  {
   "cell_type": "code",
   "execution_count": 66,
   "metadata": {},
   "outputs": [
    {
     "data": {
      "text/html": [
       "<div>\n",
       "<style scoped>\n",
       "    .dataframe tbody tr th:only-of-type {\n",
       "        vertical-align: middle;\n",
       "    }\n",
       "\n",
       "    .dataframe tbody tr th {\n",
       "        vertical-align: top;\n",
       "    }\n",
       "\n",
       "    .dataframe thead th {\n",
       "        text-align: right;\n",
       "    }\n",
       "</style>\n",
       "<table border=\"1\" class=\"dataframe\">\n",
       "  <thead>\n",
       "    <tr style=\"text-align: right;\">\n",
       "      <th></th>\n",
       "      <th>vehicletype</th>\n",
       "      <th>registrationyear</th>\n",
       "      <th>gearbox</th>\n",
       "      <th>power</th>\n",
       "      <th>model</th>\n",
       "      <th>kilometer</th>\n",
       "      <th>fueltype</th>\n",
       "      <th>brand</th>\n",
       "      <th>repaired</th>\n",
       "    </tr>\n",
       "  </thead>\n",
       "  <tbody>\n",
       "    <tr>\n",
       "      <th>138269</th>\n",
       "      <td>sedan</td>\n",
       "      <td>1994</td>\n",
       "      <td>manual</td>\n",
       "      <td>193.000000</td>\n",
       "      <td>other</td>\n",
       "      <td>150000</td>\n",
       "      <td>petrol</td>\n",
       "      <td>bmw</td>\n",
       "      <td>no</td>\n",
       "    </tr>\n",
       "    <tr>\n",
       "      <th>108834</th>\n",
       "      <td>convertible</td>\n",
       "      <td>2003</td>\n",
       "      <td>manual</td>\n",
       "      <td>109.000000</td>\n",
       "      <td>2_reihe</td>\n",
       "      <td>125000</td>\n",
       "      <td>petrol</td>\n",
       "      <td>peugeot</td>\n",
       "      <td>no</td>\n",
       "    </tr>\n",
       "    <tr>\n",
       "      <th>246659</th>\n",
       "      <td>convertible</td>\n",
       "      <td>1994</td>\n",
       "      <td>manual</td>\n",
       "      <td>97.208227</td>\n",
       "      <td>golf</td>\n",
       "      <td>150000</td>\n",
       "      <td>petrol</td>\n",
       "      <td>volkswagen</td>\n",
       "      <td>no</td>\n",
       "    </tr>\n",
       "    <tr>\n",
       "      <th>127124</th>\n",
       "      <td>small</td>\n",
       "      <td>2005</td>\n",
       "      <td>auto</td>\n",
       "      <td>61.000000</td>\n",
       "      <td>fortwo</td>\n",
       "      <td>125000</td>\n",
       "      <td>petrol</td>\n",
       "      <td>smart</td>\n",
       "      <td>no</td>\n",
       "    </tr>\n",
       "    <tr>\n",
       "      <th>53215</th>\n",
       "      <td>small</td>\n",
       "      <td>2000</td>\n",
       "      <td>manual</td>\n",
       "      <td>69.000000</td>\n",
       "      <td>polo</td>\n",
       "      <td>30000</td>\n",
       "      <td>other</td>\n",
       "      <td>volkswagen</td>\n",
       "      <td>no</td>\n",
       "    </tr>\n",
       "    <tr>\n",
       "      <th>...</th>\n",
       "      <td>...</td>\n",
       "      <td>...</td>\n",
       "      <td>...</td>\n",
       "      <td>...</td>\n",
       "      <td>...</td>\n",
       "      <td>...</td>\n",
       "      <td>...</td>\n",
       "      <td>...</td>\n",
       "      <td>...</td>\n",
       "    </tr>\n",
       "    <tr>\n",
       "      <th>158838</th>\n",
       "      <td>sedan</td>\n",
       "      <td>1999</td>\n",
       "      <td>auto</td>\n",
       "      <td>125.000000</td>\n",
       "      <td>e_klasse</td>\n",
       "      <td>150000</td>\n",
       "      <td>gasoline</td>\n",
       "      <td>mercedes_benz</td>\n",
       "      <td>no</td>\n",
       "    </tr>\n",
       "    <tr>\n",
       "      <th>47873</th>\n",
       "      <td>sedan</td>\n",
       "      <td>2001</td>\n",
       "      <td>auto</td>\n",
       "      <td>224.000000</td>\n",
       "      <td>a8</td>\n",
       "      <td>150000</td>\n",
       "      <td>gasoline</td>\n",
       "      <td>audi</td>\n",
       "      <td>no</td>\n",
       "    </tr>\n",
       "    <tr>\n",
       "      <th>86398</th>\n",
       "      <td>wagon</td>\n",
       "      <td>1996</td>\n",
       "      <td>manual</td>\n",
       "      <td>101.000000</td>\n",
       "      <td>astra</td>\n",
       "      <td>150000</td>\n",
       "      <td>petrol</td>\n",
       "      <td>opel</td>\n",
       "      <td>yes</td>\n",
       "    </tr>\n",
       "    <tr>\n",
       "      <th>77285</th>\n",
       "      <td>bus</td>\n",
       "      <td>1989</td>\n",
       "      <td>manual</td>\n",
       "      <td>97.382647</td>\n",
       "      <td>transporter</td>\n",
       "      <td>20000</td>\n",
       "      <td>gasoline</td>\n",
       "      <td>volkswagen</td>\n",
       "      <td>yes</td>\n",
       "    </tr>\n",
       "    <tr>\n",
       "      <th>217570</th>\n",
       "      <td>small</td>\n",
       "      <td>2001</td>\n",
       "      <td>manual</td>\n",
       "      <td>75.000000</td>\n",
       "      <td>twingo</td>\n",
       "      <td>150000</td>\n",
       "      <td>other</td>\n",
       "      <td>renault</td>\n",
       "      <td>no</td>\n",
       "    </tr>\n",
       "  </tbody>\n",
       "</table>\n",
       "<p>164703 rows × 9 columns</p>\n",
       "</div>"
      ],
      "text/plain": [
       "        vehicletype  registrationyear gearbox       power        model  \\\n",
       "138269        sedan              1994  manual  193.000000        other   \n",
       "108834  convertible              2003  manual  109.000000      2_reihe   \n",
       "246659  convertible              1994  manual   97.208227         golf   \n",
       "127124        small              2005    auto   61.000000       fortwo   \n",
       "53215         small              2000  manual   69.000000         polo   \n",
       "...             ...               ...     ...         ...          ...   \n",
       "158838        sedan              1999    auto  125.000000     e_klasse   \n",
       "47873         sedan              2001    auto  224.000000           a8   \n",
       "86398         wagon              1996  manual  101.000000        astra   \n",
       "77285           bus              1989  manual   97.382647  transporter   \n",
       "217570        small              2001  manual   75.000000       twingo   \n",
       "\n",
       "        kilometer  fueltype          brand repaired  \n",
       "138269     150000    petrol            bmw       no  \n",
       "108834     125000    petrol        peugeot       no  \n",
       "246659     150000    petrol     volkswagen       no  \n",
       "127124     125000    petrol          smart       no  \n",
       "53215       30000     other     volkswagen       no  \n",
       "...           ...       ...            ...      ...  \n",
       "158838     150000  gasoline  mercedes_benz       no  \n",
       "47873      150000  gasoline           audi       no  \n",
       "86398      150000    petrol           opel      yes  \n",
       "77285       20000  gasoline     volkswagen      yes  \n",
       "217570     150000     other        renault       no  \n",
       "\n",
       "[164703 rows x 9 columns]"
      ]
     },
     "execution_count": 66,
     "metadata": {},
     "output_type": "execute_result"
    }
   ],
   "source": [
    "X_train_notcoded"
   ]
  },
  {
   "cell_type": "code",
   "execution_count": 67,
   "metadata": {},
   "outputs": [],
   "source": [
    "# Выполним кодировку категориальных порядковых признаков\n",
    "categorical_X = ['vehicletype', 'gearbox', 'fueltype', 'repaired']\n",
    "\n",
    "transformer = make_column_transformer(\n",
    "    (OneHotEncoder(sparse=False, drop='first'), categorical_X),\n",
    "    remainder='passthrough')\n",
    "\n",
    "transformed_train = transformer.fit_transform(X_train)\n",
    "X_train = pd.DataFrame(transformed_train, columns=transformer.get_feature_names())\n",
    "\n",
    "transformed_valid = transformer.transform(X_valid)\n",
    "X_valid = pd.DataFrame(transformed_valid, columns=transformer.get_feature_names())\n",
    "\n",
    "transformed_test = transformer.transform(X_test)\n",
    "X_test = pd.DataFrame(transformed_test, columns=transformer.get_feature_names())"
   ]
  },
  {
   "cell_type": "code",
   "execution_count": 68,
   "metadata": {},
   "outputs": [
    {
     "name": "stdout",
     "output_type": "stream",
     "text": [
      "(164703, 20)\n",
      "Index(['onehotencoder__x0_convertible', 'onehotencoder__x0_coupe',\n",
      "       'onehotencoder__x0_other', 'onehotencoder__x0_sedan',\n",
      "       'onehotencoder__x0_small', 'onehotencoder__x0_suv',\n",
      "       'onehotencoder__x0_wagon', 'onehotencoder__x1_manual',\n",
      "       'onehotencoder__x2_electric', 'onehotencoder__x2_gasoline',\n",
      "       'onehotencoder__x2_hybrid', 'onehotencoder__x2_lpg',\n",
      "       'onehotencoder__x2_other', 'onehotencoder__x2_petrol',\n",
      "       'onehotencoder__x3_yes', 'registrationyear', 'power', 'model',\n",
      "       'kilometer', 'brand'],\n",
      "      dtype='object')\n",
      "(54901, 20)\n",
      "Index(['onehotencoder__x0_convertible', 'onehotencoder__x0_coupe',\n",
      "       'onehotencoder__x0_other', 'onehotencoder__x0_sedan',\n",
      "       'onehotencoder__x0_small', 'onehotencoder__x0_suv',\n",
      "       'onehotencoder__x0_wagon', 'onehotencoder__x1_manual',\n",
      "       'onehotencoder__x2_electric', 'onehotencoder__x2_gasoline',\n",
      "       'onehotencoder__x2_hybrid', 'onehotencoder__x2_lpg',\n",
      "       'onehotencoder__x2_other', 'onehotencoder__x2_petrol',\n",
      "       'onehotencoder__x3_yes', 'registrationyear', 'power', 'model',\n",
      "       'kilometer', 'brand'],\n",
      "      dtype='object')\n",
      "(54901, 20)\n",
      "Index(['onehotencoder__x0_convertible', 'onehotencoder__x0_coupe',\n",
      "       'onehotencoder__x0_other', 'onehotencoder__x0_sedan',\n",
      "       'onehotencoder__x0_small', 'onehotencoder__x0_suv',\n",
      "       'onehotencoder__x0_wagon', 'onehotencoder__x1_manual',\n",
      "       'onehotencoder__x2_electric', 'onehotencoder__x2_gasoline',\n",
      "       'onehotencoder__x2_hybrid', 'onehotencoder__x2_lpg',\n",
      "       'onehotencoder__x2_other', 'onehotencoder__x2_petrol',\n",
      "       'onehotencoder__x3_yes', 'registrationyear', 'power', 'model',\n",
      "       'kilometer', 'brand'],\n",
      "      dtype='object')\n"
     ]
    }
   ],
   "source": [
    "#Проверяем размеры выборок\n",
    "print(X_train.shape)\n",
    "print(X_train.columns)\n",
    "\n",
    "print(X_valid.shape)\n",
    "print(X_valid.columns)\n",
    "\n",
    "print(X_test.shape)\n",
    "print(X_test.columns)"
   ]
  },
  {
   "cell_type": "markdown",
   "metadata": {},
   "source": [
    "**Количество объектов соответствует тому, как разделили выборку изначально, при этом добавилось 11 дополнительных столбцов ввиду работы OneHotEncoder.**"
   ]
  },
  {
   "cell_type": "code",
   "execution_count": 69,
   "metadata": {},
   "outputs": [],
   "source": [
    "#создадим функию для расчета RMSE\n",
    "def rmse(test, predict):\n",
    "    return mean_squared_error(test, predict, squared=False).round(0)"
   ]
  },
  {
   "cell_type": "markdown",
   "metadata": {},
   "source": [
    "**2.1 Обучим модель линейной регрессии.**"
   ]
  },
  {
   "cell_type": "code",
   "execution_count": 70,
   "metadata": {},
   "outputs": [
    {
     "name": "stdout",
     "output_type": "stream",
     "text": [
      "Квадратный корень из средней квадратичной ошибки RMSE для линейной регрессии: 2810.0\n",
      "Время обучения: 0.19\n",
      "Время предсказания: 0.19\n",
      "CPU times: user 219 ms, sys: 204 ms, total: 423 ms\n",
      "Wall time: 384 ms\n"
     ]
    }
   ],
   "source": [
    "%%time\n",
    "start = time.time()\n",
    "\n",
    "model_lin = LinearRegression()\n",
    "model_lin.fit(X_train, y_train)\n",
    "\n",
    "end = time.time()\n",
    "fit_time_lin = round((end - start), 2)\n",
    "\n",
    "start = time.time()\n",
    "\n",
    "predictions_lin = model_lin.predict(X_valid)\n",
    "\n",
    "end = time.time()\n",
    "pred_time_lin = round((end - start), 2)\n",
    "\n",
    "rmse_lin = rmse(y_valid, predictions_lin)\n",
    "print('Квадратный корень из средней квадратичной ошибки RMSE для линейной регрессии:', rmse_lin)\n",
    "print('Время обучения:', fit_time_lin)\n",
    "print('Время предсказания:', pred_time_lin)"
   ]
  },
  {
   "cell_type": "markdown",
   "metadata": {},
   "source": [
    "    **2.2. Обучим модель случайного леса.**"
   ]
  },
  {
   "cell_type": "code",
   "execution_count": 71,
   "metadata": {},
   "outputs": [
    {
     "name": "stdout",
     "output_type": "stream",
     "text": [
      "Количество деревьев 'Estimators' лучшей модели: 20\n",
      "Глубина 'Max_depth' лучшей модели: 9\n",
      "Квадратный корень из средней квадратичной ошибки RMSE для случайного леса: 1956.0\n",
      "CPU times: user 4min 56s, sys: 933 ms, total: 4min 57s\n",
      "Wall time: 4min 57s\n"
     ]
    }
   ],
   "source": [
    "%%time\n",
    "#Обучим модель случайного леса\n",
    "#определим наилучшие гиперпараметры и RMSE для лучшей модели случайного леса \n",
    "\n",
    "best_model_forest = None\n",
    "best_est_forest = 0\n",
    "best_depth_forest = 0\n",
    "best_rmse_forest = 10000\n",
    "for est in range(10, 51, 10):\n",
    "    for depth in range(1, 10):\n",
    "        model_forest = RandomForestRegressor(random_state=12345, n_estimators=est, max_depth=depth)\n",
    "        model_forest.fit(X_train, y_train)\n",
    "        predictions_valid_forest = model_forest.predict(X_valid)\n",
    "        result_forest = rmse(y_valid, predictions_valid_forest)\n",
    "        if result_forest < best_rmse_forest:\n",
    "            best_model_forest = model_forest\n",
    "            best_est_forest = est\n",
    "            best_depth_forest = depth\n",
    "            best_rmse_forest = result_forest\n",
    "\n",
    "print(\"Количество деревьев 'Estimators' лучшей модели:\", best_est_forest)\n",
    "print(\"Глубина 'Max_depth' лучшей модели:\", best_depth_forest)\n",
    "print('Квадратный корень из средней квадратичной ошибки RMSE для случайного леса:', best_rmse_forest)"
   ]
  },
  {
   "cell_type": "markdown",
   "metadata": {},
   "source": [
    "***Обучим модель случайного леса с лучшими гиперпараметрами.***"
   ]
  },
  {
   "cell_type": "code",
   "execution_count": 72,
   "metadata": {},
   "outputs": [
    {
     "name": "stdout",
     "output_type": "stream",
     "text": [
      "Квадратный корень из средней квадратичной ошибки RMSE для случайного леса: 1956.0\n",
      "Время обучения: 6.1\n",
      "Время предсказания: 0.09\n",
      "CPU times: user 6.14 s, sys: 44 ms, total: 6.19 s\n",
      "Wall time: 6.2 s\n"
     ]
    }
   ],
   "source": [
    "%%time\n",
    "start = time.time()\n",
    "\n",
    "model_forest = RandomForestRegressor(random_state=12345, \n",
    "                                      n_estimators=20, \n",
    "                                      max_depth=9)\n",
    "model_forest.fit(X_train, y_train)\n",
    "\n",
    "end = time.time()\n",
    "fit_time_forest = round((end - start), 2)\n",
    "\n",
    "start = time.time()\n",
    "\n",
    "predictions_valid_forest = model_forest.predict(X_valid)\n",
    "\n",
    "end = time.time()\n",
    "pred_time_forest = round((end - start), 2)\n",
    "\n",
    "result_forest = rmse(y_valid, predictions_valid_forest)\n",
    "print('Квадратный корень из средней квадратичной ошибки RMSE для случайного леса:', result_forest)\n",
    "print('Время обучения:', fit_time_forest)\n",
    "print('Время предсказания:', pred_time_forest)"
   ]
  },
  {
   "cell_type": "markdown",
   "metadata": {},
   "source": [
    "**2.3 Обучим модель CatBoostRegressor.**"
   ]
  },
  {
   "cell_type": "code",
   "execution_count": 73,
   "metadata": {},
   "outputs": [],
   "source": [
    "parameters_cbr = {'learning_rate': np.logspace(-2, 0, 4),\n",
    "                  'depth': range(10, 41, 10),\n",
    "                  'n_estimators': range(10, 51, 10)}"
   ]
  },
  {
   "cell_type": "code",
   "execution_count": 74,
   "metadata": {},
   "outputs": [],
   "source": [
    "category_X_notcoded = ['vehicletype', 'gearbox', 'model', 'fueltype', 'brand', 'repaired']"
   ]
  },
  {
   "cell_type": "code",
   "execution_count": 75,
   "metadata": {},
   "outputs": [
    {
     "name": "stdout",
     "output_type": "stream",
     "text": [
      "CPU times: user 2min 37s, sys: 1.57 s, total: 2min 38s\n",
      "Wall time: 3min 34s\n"
     ]
    },
    {
     "data": {
      "text/plain": [
       "{'depth': 10, 'learning_rate': 0.21544346900318834, 'n_estimators': 50}"
      ]
     },
     "execution_count": 75,
     "metadata": {},
     "output_type": "execute_result"
    }
   ],
   "source": [
    "%%time\n",
    "\n",
    "grid_cbr = GridSearchCV(CatBoostRegressor(loss_function='RMSE',\n",
    "                                          silent=True,                                                                                 \n",
    "                                          random_state=12345, \n",
    "                                          cat_features=category_X_notcoded),\n",
    "                        parameters_cbr,\n",
    "                        scoring='neg_mean_squared_error',\n",
    "                        cv=3)\n",
    "grid_cbr.fit(X_train_notcoded, y_train);\n",
    "\n",
    "grid_cbr.best_params_"
   ]
  },
  {
   "cell_type": "markdown",
   "metadata": {},
   "source": [
    "***Обучим модель CatBoostRegressor с лучшими гиперпараметрами.***"
   ]
  },
  {
   "cell_type": "code",
   "execution_count": 76,
   "metadata": {},
   "outputs": [
    {
     "name": "stdout",
     "output_type": "stream",
     "text": [
      "Квадратный корень из средней квадратичной ошибки RMSE для CatBoostRegressor: 1719.0\n",
      "Время обучения: 5.17\n",
      "Время предсказания: 0.08\n",
      "CPU times: user 4.66 s, sys: 56.1 ms, total: 4.72 s\n",
      "Wall time: 5.26 s\n"
     ]
    }
   ],
   "source": [
    "%%time\n",
    "start = time.time()\n",
    "\n",
    "model_cbr = grid_cbr.best_estimator_\n",
    "# model_cbr = CatBoostRegressor(loss_function='RMSE',\n",
    "#                               random_state=12345,\n",
    "#                               cat_features=category_X_notcoded, \n",
    "#                               learning_rate=1, \n",
    "#                               depth=10, \n",
    "#                               n_estimators=50)\n",
    "\n",
    "model_cbr.fit(X_train_notcoded, y_train)\n",
    "\n",
    "end = time.time()\n",
    "fit_time_cbr = round((end - start), 2)\n",
    "\n",
    "start = time.time()\n",
    "\n",
    "predictions_valid_cbr = model_cbr.predict(X_valid_notcoded)\n",
    "\n",
    "end = time.time()\n",
    "pred_time_cbr = round((end - start), 2)\n",
    "\n",
    "result_cbr = rmse(y_valid, predictions_valid_cbr)\n",
    "print('Квадратный корень из средней квадратичной ошибки RMSE для CatBoostRegressor:', result_cbr)\n",
    "print('Время обучения:', fit_time_cbr)\n",
    "print('Время предсказания:', pred_time_cbr)"
   ]
  },
  {
   "cell_type": "markdown",
   "metadata": {},
   "source": [
    "**2.4 Обучим модель LGBMRegressor.**"
   ]
  },
  {
   "cell_type": "code",
   "execution_count": 77,
   "metadata": {},
   "outputs": [],
   "source": [
    "parameters_lgbm = {'num_leaves': range(20, 41, 10),\n",
    "                   'max_depth': range(10, 41, 10),\n",
    "                   'n_estimators': range(10, 51, 10)}"
   ]
  },
  {
   "cell_type": "code",
   "execution_count": 78,
   "metadata": {},
   "outputs": [
    {
     "name": "stdout",
     "output_type": "stream",
     "text": [
      "CPU times: user 4min 24s, sys: 4.21 s, total: 4min 28s\n",
      "Wall time: 4min 30s\n"
     ]
    },
    {
     "data": {
      "text/plain": [
       "{'max_depth': 20, 'n_estimators': 50, 'num_leaves': 40}"
      ]
     },
     "execution_count": 78,
     "metadata": {},
     "output_type": "execute_result"
    }
   ],
   "source": [
    "%%time\n",
    "\n",
    "grid_lgbm = GridSearchCV(LGBMRegressor(random_state=12345), parameters_lgbm, scoring='neg_root_mean_squared_error', cv=3)\n",
    "grid_lgbm.fit(X_train, y_train)\n",
    "\n",
    "grid_lgbm.best_params_"
   ]
  },
  {
   "cell_type": "markdown",
   "metadata": {},
   "source": [
    "***Обучим модель LGBMRegressor с лучшими гиперпараметрами.***"
   ]
  },
  {
   "cell_type": "code",
   "execution_count": 79,
   "metadata": {},
   "outputs": [
    {
     "name": "stdout",
     "output_type": "stream",
     "text": [
      "Квадратный корень из средней квадратичной ошибки RMSE для LGBMRegressor : 1772.0\n",
      "Время обучения: 2.4\n",
      "Время предсказания: 0.3\n",
      "CPU times: user 2.66 s, sys: 30.7 ms, total: 2.69 s\n",
      "Wall time: 2.7 s\n"
     ]
    }
   ],
   "source": [
    "%%time\n",
    "start = time.time()\n",
    "\n",
    "model_lgbm = grid_lgbm.best_estimator_\n",
    "# model_lgbm = LGBMRegressor(max_depth=40, n_estimators=50, num_leaves=40)\n",
    "model_lgbm.fit(X_train, y_train)\n",
    "\n",
    "end = time.time()\n",
    "fit_time_lgbm = round((end - start), 2)\n",
    "\n",
    "start = time.time()\n",
    "\n",
    "predictions_valid_lgbm = model_lgbm.predict(X_valid)\n",
    "\n",
    "end = time.time()\n",
    "pred_time_lgbm = round((end - start), 2)\n",
    "\n",
    "result_lgbm = rmse(y_valid, predictions_valid_lgbm)\n",
    "print('Квадратный корень из средней квадратичной ошибки RMSE для LGBMRegressor :', result_lgbm)\n",
    "print('Время обучения:', fit_time_lgbm)\n",
    "print('Время предсказания:', pred_time_lgbm)"
   ]
  },
  {
   "cell_type": "markdown",
   "metadata": {},
   "source": [
    "## Анализ моделей"
   ]
  },
  {
   "cell_type": "code",
   "execution_count": 80,
   "metadata": {},
   "outputs": [
    {
     "data": {
      "text/html": [
       "<div>\n",
       "<style scoped>\n",
       "    .dataframe tbody tr th:only-of-type {\n",
       "        vertical-align: middle;\n",
       "    }\n",
       "\n",
       "    .dataframe tbody tr th {\n",
       "        vertical-align: top;\n",
       "    }\n",
       "\n",
       "    .dataframe thead th {\n",
       "        text-align: right;\n",
       "    }\n",
       "</style>\n",
       "<table border=\"1\" class=\"dataframe\">\n",
       "  <thead>\n",
       "    <tr style=\"text-align: right;\">\n",
       "      <th></th>\n",
       "      <th>Model Type</th>\n",
       "      <th>RMSE</th>\n",
       "      <th>fit_time</th>\n",
       "      <th>pred_time</th>\n",
       "    </tr>\n",
       "  </thead>\n",
       "  <tbody>\n",
       "    <tr>\n",
       "      <th>0</th>\n",
       "      <td>Linear Regression</td>\n",
       "      <td>2810.0</td>\n",
       "      <td>0.19</td>\n",
       "      <td>0.19</td>\n",
       "    </tr>\n",
       "    <tr>\n",
       "      <th>1</th>\n",
       "      <td>Random Forest Regressor</td>\n",
       "      <td>1956.0</td>\n",
       "      <td>6.10</td>\n",
       "      <td>0.09</td>\n",
       "    </tr>\n",
       "    <tr>\n",
       "      <th>2</th>\n",
       "      <td>CatBoostRegressor</td>\n",
       "      <td>1719.0</td>\n",
       "      <td>5.17</td>\n",
       "      <td>0.08</td>\n",
       "    </tr>\n",
       "    <tr>\n",
       "      <th>3</th>\n",
       "      <td>LGBMRegressor</td>\n",
       "      <td>1772.0</td>\n",
       "      <td>2.40</td>\n",
       "      <td>0.30</td>\n",
       "    </tr>\n",
       "  </tbody>\n",
       "</table>\n",
       "</div>"
      ],
      "text/plain": [
       "                Model Type    RMSE  fit_time  pred_time\n",
       "0        Linear Regression  2810.0      0.19       0.19\n",
       "1  Random Forest Regressor  1956.0      6.10       0.09\n",
       "2        CatBoostRegressor  1719.0      5.17       0.08\n",
       "3            LGBMRegressor  1772.0      2.40       0.30"
      ]
     },
     "execution_count": 80,
     "metadata": {},
     "output_type": "execute_result"
    }
   ],
   "source": [
    "#занесем результаты в отдельный датафрейм\n",
    "model_type = ['Linear Regression', 'Random Forest Regressor', 'CatBoostRegressor', 'LGBMRegressor']\n",
    "RMSE = [rmse_lin, result_forest, result_cbr, result_lgbm]\n",
    "fit_time = [fit_time_lin, fit_time_forest, fit_time_cbr, fit_time_lgbm]\n",
    "pred_time = [pred_time_lin, pred_time_forest, pred_time_cbr, pred_time_lgbm]\n",
    "\n",
    "\n",
    "result = pd.DataFrame({'Model Type': model_type,\n",
    "                           'RMSE': RMSE,\n",
    "                           'fit_time': fit_time,\n",
    "                           'pred_time': pred_time,                           \n",
    "                         })\n",
    "\n",
    "result"
   ]
  },
  {
   "cell_type": "markdown",
   "metadata": {},
   "source": [
    "**Наименьшее значение RMSE получилось у модели CatBoostRegressor, однако у нее и самое большое время обучения, если заказчик может немного пренебречь качеством предсказаний модели, то наилучшей моделей будет являться LGBMRegressor, у которой качество практически такое же как у CatBoostRegressor, но при этом она почти в 2 раза быстрее. Модели Linear Regression и Random Forest Regressor по качеству значительно хуже.**"
   ]
  },
  {
   "cell_type": "markdown",
   "metadata": {},
   "source": [
    "**Протестируем модель LGBMRegressor на тестовой выборке.**"
   ]
  },
  {
   "cell_type": "code",
   "execution_count": 81,
   "metadata": {},
   "outputs": [
    {
     "name": "stdout",
     "output_type": "stream",
     "text": [
      "Квадратный корень из средней квадратичной ошибки RMSE для LGBMRegressor на тестовой выборке: 1749.0\n",
      "CPU times: user 270 ms, sys: 3.45 ms, total: 274 ms\n",
      "Wall time: 191 ms\n"
     ]
    }
   ],
   "source": [
    "%%time\n",
    "\n",
    "predictions_test_lgbm = model_lgbm.predict(X_test)\n",
    "\n",
    "result_lgbm = rmse(y_test, predictions_test_lgbm)\n",
    "print('Квадратный корень из средней квадратичной ошибки RMSE для LGBMRegressor на тестовой выборке:', result_lgbm)"
   ]
  },
  {
   "cell_type": "markdown",
   "metadata": {},
   "source": [
    "**RMSE для LGBMRegressor на тестовой выборке составил 1749, что меньше необходимого значения (2500).**"
   ]
  },
  {
   "cell_type": "markdown",
   "metadata": {},
   "source": [
    "## Общий вывод"
   ]
  },
  {
   "attachments": {
    "image-2.png": {
     "image/png": "[encoded data removed]"
    }
   },
   "cell_type": "markdown",
   "metadata": {},
   "source": [
    "**В результате анализа общей информации выявлено следующее:**\n",
    "- В датасете присутствуют 354369 объектов, 15 признаков и 1 целевой признак price.\n",
    "- более 10% пропущенных значений есть в признаках Repaired и VehicleType, до 10% - в признаках FuelType, Gearbox, Model. В остальных признаках пропусков нет.\n",
    "- Доля объектов с хотябы одним пропущенным значением составляет почти 31%, что достаточно много.\n",
    "- в данных присутствует 4 полных дубликата, которые необходимо удалить.\n",
    "- В датасете присутствуют объявления о продаже авто созданные в период с марта 2014 года по апрель 2016 года.\n",
    "- Коррелирующие признаки отсутствуют.\n",
    "\n",
    "**В результате предобработки данных выполнено следующее:**\n",
    "- Удалены объекты, в которых стоимость машин равно 0.\n",
    "- В столбце 'vehicletype' пропуски заполнены значением 'other'.\n",
    "- В столбце 'repaired' есть два значения да и нет, вероятно, у кого машина не была в ремонте просто не ставили значение в ячейку, поэтому пропущенные ячейки заполнены значением 'no'.\n",
    "- В столбцах 'model' и 'fueltype' также есть значение 'other', им заполнены пропущенные значения.\n",
    "- Пропуски в столбце 'gearbox' заполнены модой сгруппировав по брэнду и модели.\n",
    "- Год регистрации начинается с 1000 года и заканчивается 9999 годом, что очень странно, поэтому удалены объекты с годом регистрации позже апреля 2016 года, так как это максимальное значение даты создания анкеты и удалены объекты с годом регистрации ранее 1970 года.\n",
    "- Отмечаются аномально высокие значения мощности авто (более 1000 л.с.) и большое количество нулевых значений. Вероятно, из-за какой-то ошибки аномально высокие значений выгрузились без запятой. Нулевые значения обработаны средним по бренду и марке. Аномально высокие значения более 1000 и менее 10000 поделены на 10, а более 10000 - поделены на 100.\n",
    "- Доля оставшихся данных от начального датасета: 77.5 %.\n",
    "- В исходном датасете оставил признаки: 'price', 'vehicletype', 'registrationyear', 'gearbox', 'power', 'model', 'kilometer', 'fueltype', 'brand', 'repaired'.\n",
    "\n",
    "\n",
    "**Модели:**\n",
    "\n",
    "![image-2.png](attachment:image-2.png)\n",
    "\n",
    "- В результате обучения моделей наилучшей оказалась модель LGBMRegressor со следующими гиперпараметрами: \n",
    "    количество деревьев 'Estimators' лучшей модели - 50, глубина 'Max_depth' лучшей модели - 20, количество листьев 'num_leaves' - 40.\n",
    "- Она почти в 2 раза быстрее CatBoostRegressor, но при этом качество почти не отличается.\n",
    "- Финальная оценка RMSE на тестовой выборке составила 1749, что меньше необходимого значения (2500).\n",
    "\n",
    "**Желание заказчика удовлетворено.**"
   ]
  }
 ],
 "metadata": {
  "ExecuteTimeLog": [
   {
    "duration": 1837,
    "start_time": "2023-08-01T17:06:23.610Z"
   },
   {
    "duration": 1195,
    "start_time": "2023-08-01T17:07:14.950Z"
   },
   {
    "duration": 6,
    "start_time": "2023-08-01T17:08:31.735Z"
   },
   {
    "duration": 41353,
    "start_time": "2023-08-01T17:08:49.978Z"
   },
   {
    "duration": 9,
    "start_time": "2023-08-01T17:10:47.270Z"
   },
   {
    "duration": 41886,
    "start_time": "2023-08-01T17:11:31.610Z"
   },
   {
    "duration": 1627,
    "start_time": "2023-08-01T17:12:17.202Z"
   },
   {
    "duration": 972,
    "start_time": "2023-08-01T17:12:18.832Z"
   },
   {
    "duration": 5,
    "start_time": "2023-08-01T17:12:19.806Z"
   },
   {
    "duration": 40816,
    "start_time": "2023-08-01T17:12:19.813Z"
   },
   {
    "duration": 1057,
    "start_time": "2023-08-01T17:37:07.407Z"
   },
   {
    "duration": 1146,
    "start_time": "2023-08-01T17:37:13.098Z"
   },
   {
    "duration": 1356,
    "start_time": "2023-08-01T17:37:44.398Z"
   },
   {
    "duration": 1588,
    "start_time": "2023-08-01T17:37:51.118Z"
   },
   {
    "duration": 1354,
    "start_time": "2023-08-01T17:38:24.680Z"
   },
   {
    "duration": 301,
    "start_time": "2023-08-01T18:00:29.160Z"
   },
   {
    "duration": 109,
    "start_time": "2023-08-01T18:00:37.507Z"
   },
   {
    "duration": 10,
    "start_time": "2023-08-01T18:00:51.168Z"
   },
   {
    "duration": 118,
    "start_time": "2023-08-01T18:01:08.760Z"
   },
   {
    "duration": 2321,
    "start_time": "2023-08-01T18:01:16.146Z"
   },
   {
    "duration": 21,
    "start_time": "2023-08-01T18:04:25.212Z"
   },
   {
    "duration": 108,
    "start_time": "2023-08-01T18:13:23.323Z"
   },
   {
    "duration": 1459,
    "start_time": "2023-08-01T18:14:39.029Z"
   },
   {
    "duration": 918,
    "start_time": "2023-08-01T18:14:40.490Z"
   },
   {
    "duration": 5,
    "start_time": "2023-08-01T18:14:41.410Z"
   },
   {
    "duration": 38197,
    "start_time": "2023-08-01T18:14:41.417Z"
   },
   {
    "duration": 113,
    "start_time": "2023-08-01T18:15:19.616Z"
   },
   {
    "duration": 576,
    "start_time": "2023-08-01T18:17:31.338Z"
   },
   {
    "duration": 420,
    "start_time": "2023-08-01T18:17:34.214Z"
   },
   {
    "duration": 1375,
    "start_time": "2023-08-01T18:17:49.810Z"
   },
   {
    "duration": 827,
    "start_time": "2023-08-01T18:17:51.187Z"
   },
   {
    "duration": 6,
    "start_time": "2023-08-01T18:17:52.016Z"
   },
   {
    "duration": 37661,
    "start_time": "2023-08-01T18:17:52.023Z"
   },
   {
    "duration": 443,
    "start_time": "2023-08-01T18:18:33.001Z"
   },
   {
    "duration": 435,
    "start_time": "2023-08-01T18:19:45.209Z"
   },
   {
    "duration": 433,
    "start_time": "2023-08-01T18:19:58.309Z"
   },
   {
    "duration": 567,
    "start_time": "2023-08-01T18:20:11.201Z"
   },
   {
    "duration": 427,
    "start_time": "2023-08-01T18:20:13.204Z"
   },
   {
    "duration": 279,
    "start_time": "2023-08-01T18:20:17.281Z"
   },
   {
    "duration": 93,
    "start_time": "2023-08-01T18:20:19.899Z"
   },
   {
    "duration": 2047,
    "start_time": "2023-08-01T18:22:35.568Z"
   },
   {
    "duration": 273103,
    "start_time": "2023-08-01T18:23:59.437Z"
   },
   {
    "duration": 167,
    "start_time": "2023-08-01T18:34:05.577Z"
   },
   {
    "duration": 10,
    "start_time": "2023-08-01T18:34:36.847Z"
   },
   {
    "duration": 18,
    "start_time": "2023-08-01T18:34:52.985Z"
   },
   {
    "duration": 22,
    "start_time": "2023-08-01T18:35:10.869Z"
   },
   {
    "duration": 980,
    "start_time": "2023-08-01T18:35:50.767Z"
   },
   {
    "duration": 981,
    "start_time": "2023-08-01T18:36:02.719Z"
   },
   {
    "duration": 2,
    "start_time": "2023-08-01T18:36:18.155Z"
   },
   {
    "duration": 5,
    "start_time": "2023-08-01T18:38:42.471Z"
   },
   {
    "duration": 144756,
    "start_time": "2023-08-01T18:38:55.937Z"
   },
   {
    "duration": 0,
    "start_time": "2023-08-01T18:41:20.699Z"
   },
   {
    "duration": 1574,
    "start_time": "2023-08-01T18:41:38.588Z"
   },
   {
    "duration": 989,
    "start_time": "2023-08-01T18:41:40.164Z"
   },
   {
    "duration": 5,
    "start_time": "2023-08-01T18:41:41.155Z"
   },
   {
    "duration": 44583,
    "start_time": "2023-08-01T18:41:41.170Z"
   },
   {
    "duration": 681,
    "start_time": "2023-08-01T18:42:25.756Z"
   },
   {
    "duration": 584,
    "start_time": "2023-08-01T18:42:26.439Z"
   },
   {
    "duration": 272,
    "start_time": "2023-08-01T18:42:27.025Z"
   },
   {
    "duration": 132,
    "start_time": "2023-08-01T18:42:27.299Z"
   },
   {
    "duration": 55,
    "start_time": "2023-08-01T18:42:27.432Z"
   },
   {
    "duration": 2190,
    "start_time": "2023-08-01T18:42:27.490Z"
   },
   {
    "duration": 11,
    "start_time": "2023-08-01T18:42:29.683Z"
   },
   {
    "duration": 35,
    "start_time": "2023-08-01T18:42:29.699Z"
   },
   {
    "duration": 285,
    "start_time": "2023-08-01T18:42:29.736Z"
   },
   {
    "duration": 189,
    "start_time": "2023-08-01T18:45:06.752Z"
   },
   {
    "duration": 213,
    "start_time": "2023-08-01T18:45:12.539Z"
   },
   {
    "duration": 212,
    "start_time": "2023-08-01T18:45:20.531Z"
   },
   {
    "duration": 318,
    "start_time": "2023-08-01T18:46:59.587Z"
   },
   {
    "duration": 346,
    "start_time": "2023-08-01T18:47:49.896Z"
   },
   {
    "duration": 354,
    "start_time": "2023-08-01T18:48:06.358Z"
   },
   {
    "duration": 481,
    "start_time": "2023-08-01T18:48:11.830Z"
   },
   {
    "duration": 305,
    "start_time": "2023-08-01T18:48:29.784Z"
   },
   {
    "duration": 342,
    "start_time": "2023-08-01T18:48:35.308Z"
   },
   {
    "duration": 2065,
    "start_time": "2023-08-01T18:48:54.654Z"
   },
   {
    "duration": 1992,
    "start_time": "2023-08-01T18:49:08.464Z"
   },
   {
    "duration": 317,
    "start_time": "2023-08-01T18:53:28.122Z"
   },
   {
    "duration": 16,
    "start_time": "2023-08-01T18:54:10.623Z"
   },
   {
    "duration": 227,
    "start_time": "2023-08-01T18:54:36.460Z"
   },
   {
    "duration": 159,
    "start_time": "2023-08-01T18:54:55.488Z"
   },
   {
    "duration": 167,
    "start_time": "2023-08-01T18:55:01.076Z"
   },
   {
    "duration": 176,
    "start_time": "2023-08-01T18:55:05.171Z"
   },
   {
    "duration": 188,
    "start_time": "2023-08-01T18:55:19.248Z"
   },
   {
    "duration": 180,
    "start_time": "2023-08-01T18:55:25.823Z"
   },
   {
    "duration": 176,
    "start_time": "2023-08-01T18:55:31.387Z"
   },
   {
    "duration": 168,
    "start_time": "2023-08-01T18:55:37.855Z"
   },
   {
    "duration": 164,
    "start_time": "2023-08-01T18:55:48.002Z"
   },
   {
    "duration": 173,
    "start_time": "2023-08-01T19:07:37.286Z"
   },
   {
    "duration": 9,
    "start_time": "2023-08-01T19:09:40.459Z"
   },
   {
    "duration": 9,
    "start_time": "2023-08-01T19:10:08.059Z"
   },
   {
    "duration": 11,
    "start_time": "2023-08-01T19:10:14.194Z"
   },
   {
    "duration": 6,
    "start_time": "2023-08-01T19:10:25.141Z"
   },
   {
    "duration": 10,
    "start_time": "2023-08-01T19:10:34.095Z"
   },
   {
    "duration": 9,
    "start_time": "2023-08-01T19:13:37.132Z"
   },
   {
    "duration": 8,
    "start_time": "2023-08-01T19:13:54.553Z"
   },
   {
    "duration": 10,
    "start_time": "2023-08-01T19:14:04.034Z"
   },
   {
    "duration": 9,
    "start_time": "2023-08-01T19:14:50.745Z"
   },
   {
    "duration": 483,
    "start_time": "2023-08-01T19:20:06.711Z"
   },
   {
    "duration": 371,
    "start_time": "2023-08-01T19:20:21.211Z"
   },
   {
    "duration": 430,
    "start_time": "2023-08-01T19:20:26.315Z"
   },
   {
    "duration": 412,
    "start_time": "2023-08-01T19:21:23.570Z"
   },
   {
    "duration": 48,
    "start_time": "2023-08-02T18:02:30.384Z"
   },
   {
    "duration": 1566,
    "start_time": "2023-08-02T18:03:19.682Z"
   },
   {
    "duration": 876,
    "start_time": "2023-08-02T18:03:21.250Z"
   },
   {
    "duration": 5,
    "start_time": "2023-08-02T18:03:22.127Z"
   },
   {
    "duration": 33965,
    "start_time": "2023-08-02T18:03:22.133Z"
   },
   {
    "duration": 425,
    "start_time": "2023-08-02T18:03:56.100Z"
   },
   {
    "duration": 320,
    "start_time": "2023-08-02T18:03:56.527Z"
   },
   {
    "duration": 201,
    "start_time": "2023-08-02T18:03:56.849Z"
   },
   {
    "duration": 79,
    "start_time": "2023-08-02T18:03:57.051Z"
   },
   {
    "duration": 30,
    "start_time": "2023-08-02T18:03:57.131Z"
   },
   {
    "duration": 1546,
    "start_time": "2023-08-02T18:03:57.162Z"
   },
   {
    "duration": 463,
    "start_time": "2023-08-02T18:04:19.390Z"
   },
   {
    "duration": 2,
    "start_time": "2023-08-02T18:05:11.501Z"
   },
   {
    "duration": 320,
    "start_time": "2023-08-02T18:05:20.289Z"
   },
   {
    "duration": 370,
    "start_time": "2023-08-02T18:32:30.303Z"
   },
   {
    "duration": 515,
    "start_time": "2023-08-02T18:38:25.718Z"
   },
   {
    "duration": 122,
    "start_time": "2023-08-02T18:44:50.362Z"
   },
   {
    "duration": 117,
    "start_time": "2023-08-02T18:45:11.640Z"
   },
   {
    "duration": 218,
    "start_time": "2023-08-02T18:45:48.729Z"
   },
   {
    "duration": 130,
    "start_time": "2023-08-02T18:46:03.408Z"
   },
   {
    "duration": 141,
    "start_time": "2023-08-02T18:46:40.734Z"
   },
   {
    "duration": 7,
    "start_time": "2023-08-02T18:50:03.592Z"
   },
   {
    "duration": 8,
    "start_time": "2023-08-02T18:50:10.657Z"
   },
   {
    "duration": 8,
    "start_time": "2023-08-02T18:51:26.543Z"
   },
   {
    "duration": 2,
    "start_time": "2023-08-02T18:51:32.853Z"
   },
   {
    "duration": 9,
    "start_time": "2023-08-02T18:52:36.692Z"
   },
   {
    "duration": 159,
    "start_time": "2023-08-02T18:53:21.142Z"
   },
   {
    "duration": 135,
    "start_time": "2023-08-02T18:53:28.591Z"
   },
   {
    "duration": 129,
    "start_time": "2023-08-02T18:53:33.824Z"
   },
   {
    "duration": 195,
    "start_time": "2023-08-02T18:53:38.146Z"
   },
   {
    "duration": 140,
    "start_time": "2023-08-02T18:53:42.346Z"
   },
   {
    "duration": 141,
    "start_time": "2023-08-02T18:53:58.893Z"
   },
   {
    "duration": 130,
    "start_time": "2023-08-02T18:54:10.298Z"
   },
   {
    "duration": 8,
    "start_time": "2023-08-02T18:56:25.102Z"
   },
   {
    "duration": 9,
    "start_time": "2023-08-02T18:56:38.896Z"
   },
   {
    "duration": 33,
    "start_time": "2023-08-02T18:58:04.016Z"
   },
   {
    "duration": 36,
    "start_time": "2023-08-02T18:58:09.770Z"
   },
   {
    "duration": 70,
    "start_time": "2023-08-02T18:58:58.392Z"
   },
   {
    "duration": 28,
    "start_time": "2023-08-02T18:59:02.801Z"
   },
   {
    "duration": 81,
    "start_time": "2023-08-02T19:00:00.288Z"
   },
   {
    "duration": 35,
    "start_time": "2023-08-02T19:00:08.419Z"
   },
   {
    "duration": 1311,
    "start_time": "2023-08-02T19:00:40.421Z"
   },
   {
    "duration": 689,
    "start_time": "2023-08-02T19:00:41.734Z"
   },
   {
    "duration": 5,
    "start_time": "2023-08-02T19:00:42.424Z"
   },
   {
    "duration": 36227,
    "start_time": "2023-08-02T19:00:42.431Z"
   },
   {
    "duration": 3,
    "start_time": "2023-08-02T19:01:18.660Z"
   },
   {
    "duration": 499,
    "start_time": "2023-08-02T19:01:18.664Z"
   },
   {
    "duration": 341,
    "start_time": "2023-08-02T19:01:19.164Z"
   },
   {
    "duration": 216,
    "start_time": "2023-08-02T19:01:19.507Z"
   },
   {
    "duration": 72,
    "start_time": "2023-08-02T19:01:19.725Z"
   },
   {
    "duration": 34,
    "start_time": "2023-08-02T19:01:19.800Z"
   },
   {
    "duration": 1522,
    "start_time": "2023-08-02T19:01:19.835Z"
   },
   {
    "duration": 462,
    "start_time": "2023-08-02T19:01:21.358Z"
   },
   {
    "duration": 4,
    "start_time": "2023-08-02T19:01:21.821Z"
   },
   {
    "duration": 362,
    "start_time": "2023-08-02T19:01:21.826Z"
   },
   {
    "duration": 143,
    "start_time": "2023-08-02T19:01:22.189Z"
   },
   {
    "duration": 9,
    "start_time": "2023-08-02T19:01:22.333Z"
   },
   {
    "duration": 44,
    "start_time": "2023-08-02T19:01:22.343Z"
   },
   {
    "duration": 71,
    "start_time": "2023-08-02T19:04:55.688Z"
   },
   {
    "duration": 6,
    "start_time": "2023-08-02T19:05:51.670Z"
   },
   {
    "duration": 31,
    "start_time": "2023-08-02T19:06:16.716Z"
   },
   {
    "duration": 133,
    "start_time": "2023-08-02T19:06:35.468Z"
   },
   {
    "duration": 24,
    "start_time": "2023-08-02T19:06:45.956Z"
   },
   {
    "duration": 74,
    "start_time": "2023-08-02T19:07:35.198Z"
   },
   {
    "duration": 54,
    "start_time": "2023-08-02T19:08:02.209Z"
   },
   {
    "duration": 51,
    "start_time": "2023-08-02T19:21:14.812Z"
   },
   {
    "duration": 2128,
    "start_time": "2023-08-03T11:49:32.682Z"
   },
   {
    "duration": 1652,
    "start_time": "2023-08-03T11:49:34.812Z"
   },
   {
    "duration": 8,
    "start_time": "2023-08-03T11:49:36.466Z"
   },
   {
    "duration": 44175,
    "start_time": "2023-08-03T11:49:36.477Z"
   },
   {
    "duration": 4,
    "start_time": "2023-08-03T11:50:20.655Z"
   },
   {
    "duration": 702,
    "start_time": "2023-08-03T11:50:20.662Z"
   },
   {
    "duration": 520,
    "start_time": "2023-08-03T11:50:21.366Z"
   },
   {
    "duration": 293,
    "start_time": "2023-08-03T11:50:21.888Z"
   },
   {
    "duration": 93,
    "start_time": "2023-08-03T11:50:22.186Z"
   },
   {
    "duration": 89,
    "start_time": "2023-08-03T11:50:22.281Z"
   },
   {
    "duration": 2332,
    "start_time": "2023-08-03T11:50:22.373Z"
   },
   {
    "duration": 638,
    "start_time": "2023-08-03T11:50:24.718Z"
   },
   {
    "duration": 4,
    "start_time": "2023-08-03T11:50:25.359Z"
   },
   {
    "duration": 504,
    "start_time": "2023-08-03T11:50:25.366Z"
   },
   {
    "duration": 233,
    "start_time": "2023-08-03T11:50:25.874Z"
   },
   {
    "duration": 25,
    "start_time": "2023-08-03T11:50:26.114Z"
   },
   {
    "duration": 85,
    "start_time": "2023-08-03T11:50:26.142Z"
   },
   {
    "duration": 114,
    "start_time": "2023-08-03T11:50:26.230Z"
   },
   {
    "duration": 87,
    "start_time": "2023-08-03T11:50:26.346Z"
   },
   {
    "duration": 38,
    "start_time": "2023-08-03T11:50:26.435Z"
   },
   {
    "duration": 42,
    "start_time": "2023-08-03T11:50:31.165Z"
   },
   {
    "duration": 19,
    "start_time": "2023-08-03T11:55:45.937Z"
   },
   {
    "duration": 35,
    "start_time": "2023-08-03T11:59:23.137Z"
   },
   {
    "duration": 46,
    "start_time": "2023-08-03T11:59:39.628Z"
   },
   {
    "duration": 3873,
    "start_time": "2023-08-03T12:01:23.727Z"
   },
   {
    "duration": 3805,
    "start_time": "2023-08-03T12:01:40.635Z"
   },
   {
    "duration": 81,
    "start_time": "2023-08-03T12:02:01.310Z"
   },
   {
    "duration": 27,
    "start_time": "2023-08-03T12:03:39.658Z"
   },
   {
    "duration": 73,
    "start_time": "2023-08-03T12:03:43.799Z"
   },
   {
    "duration": 65,
    "start_time": "2023-08-03T12:07:25.208Z"
   },
   {
    "duration": 0,
    "start_time": "2023-08-03T12:07:25.274Z"
   },
   {
    "duration": 3236,
    "start_time": "2023-08-03T12:07:37.298Z"
   },
   {
    "duration": 965,
    "start_time": "2023-08-03T12:07:40.536Z"
   },
   {
    "duration": 12,
    "start_time": "2023-08-03T12:07:41.503Z"
   },
   {
    "duration": 43596,
    "start_time": "2023-08-03T12:07:41.517Z"
   },
   {
    "duration": 9,
    "start_time": "2023-08-03T12:08:25.115Z"
   },
   {
    "duration": 672,
    "start_time": "2023-08-03T12:08:25.125Z"
   },
   {
    "duration": 644,
    "start_time": "2023-08-03T12:08:25.799Z"
   },
   {
    "duration": 244,
    "start_time": "2023-08-03T12:08:26.445Z"
   },
   {
    "duration": 95,
    "start_time": "2023-08-03T12:08:26.691Z"
   },
   {
    "duration": 34,
    "start_time": "2023-08-03T12:08:26.788Z"
   },
   {
    "duration": 2213,
    "start_time": "2023-08-03T12:08:26.825Z"
   },
   {
    "duration": 579,
    "start_time": "2023-08-03T12:08:29.040Z"
   },
   {
    "duration": 4,
    "start_time": "2023-08-03T12:08:29.621Z"
   },
   {
    "duration": 475,
    "start_time": "2023-08-03T12:08:29.631Z"
   },
   {
    "duration": 175,
    "start_time": "2023-08-03T12:08:30.112Z"
   },
   {
    "duration": 12,
    "start_time": "2023-08-03T12:08:30.289Z"
   },
   {
    "duration": 77,
    "start_time": "2023-08-03T12:08:30.311Z"
   },
   {
    "duration": 121,
    "start_time": "2023-08-03T12:08:30.391Z"
   },
   {
    "duration": 83,
    "start_time": "2023-08-03T12:08:30.514Z"
   },
   {
    "duration": 74,
    "start_time": "2023-08-03T12:08:30.600Z"
   },
   {
    "duration": 75,
    "start_time": "2023-08-03T12:08:30.676Z"
   },
   {
    "duration": 85,
    "start_time": "2023-08-03T12:08:30.753Z"
   },
   {
    "duration": 1545,
    "start_time": "2023-08-03T12:40:27.674Z"
   },
   {
    "duration": 900,
    "start_time": "2023-08-03T12:40:29.226Z"
   },
   {
    "duration": 8,
    "start_time": "2023-08-03T12:40:30.128Z"
   },
   {
    "duration": 41304,
    "start_time": "2023-08-03T12:40:30.139Z"
   },
   {
    "duration": 3,
    "start_time": "2023-08-03T12:41:11.446Z"
   },
   {
    "duration": 613,
    "start_time": "2023-08-03T12:41:11.451Z"
   },
   {
    "duration": 489,
    "start_time": "2023-08-03T12:41:12.066Z"
   },
   {
    "duration": 247,
    "start_time": "2023-08-03T12:41:12.557Z"
   },
   {
    "duration": 90,
    "start_time": "2023-08-03T12:41:12.806Z"
   },
   {
    "duration": 36,
    "start_time": "2023-08-03T12:41:12.909Z"
   },
   {
    "duration": 2142,
    "start_time": "2023-08-03T12:41:12.947Z"
   },
   {
    "duration": 606,
    "start_time": "2023-08-03T12:41:15.091Z"
   },
   {
    "duration": 7,
    "start_time": "2023-08-03T12:41:15.707Z"
   },
   {
    "duration": 544,
    "start_time": "2023-08-03T12:41:15.722Z"
   },
   {
    "duration": 248,
    "start_time": "2023-08-03T12:41:16.268Z"
   },
   {
    "duration": 21,
    "start_time": "2023-08-03T12:41:16.524Z"
   },
   {
    "duration": 43,
    "start_time": "2023-08-03T12:41:16.548Z"
   },
   {
    "duration": 119,
    "start_time": "2023-08-03T12:41:16.593Z"
   },
   {
    "duration": 85,
    "start_time": "2023-08-03T12:41:16.717Z"
   },
   {
    "duration": 48,
    "start_time": "2023-08-03T12:41:16.804Z"
   },
   {
    "duration": 70,
    "start_time": "2023-08-03T12:41:16.854Z"
   },
   {
    "duration": 42,
    "start_time": "2023-08-03T13:22:51.150Z"
   },
   {
    "duration": 103,
    "start_time": "2023-08-03T13:24:14.790Z"
   },
   {
    "duration": 30,
    "start_time": "2023-08-03T13:24:32.397Z"
   },
   {
    "duration": 21,
    "start_time": "2023-08-03T13:25:38.580Z"
   },
   {
    "duration": 60,
    "start_time": "2023-08-03T13:28:09.427Z"
   },
   {
    "duration": 57,
    "start_time": "2023-08-03T13:28:50.306Z"
   },
   {
    "duration": 32,
    "start_time": "2023-08-03T13:30:10.744Z"
   },
   {
    "duration": 21,
    "start_time": "2023-08-03T13:30:23.833Z"
   },
   {
    "duration": 109,
    "start_time": "2023-08-03T13:30:40.273Z"
   },
   {
    "duration": 15,
    "start_time": "2023-08-03T13:55:22.655Z"
   },
   {
    "duration": 96,
    "start_time": "2023-08-03T14:03:14.408Z"
   },
   {
    "duration": 1647,
    "start_time": "2023-08-03T14:03:32.546Z"
   },
   {
    "duration": 881,
    "start_time": "2023-08-03T14:03:34.195Z"
   },
   {
    "duration": 6,
    "start_time": "2023-08-03T14:03:35.078Z"
   },
   {
    "duration": 41082,
    "start_time": "2023-08-03T14:03:35.086Z"
   },
   {
    "duration": 5,
    "start_time": "2023-08-03T14:04:16.170Z"
   },
   {
    "duration": 632,
    "start_time": "2023-08-03T14:04:16.177Z"
   },
   {
    "duration": 570,
    "start_time": "2023-08-03T14:04:16.816Z"
   },
   {
    "duration": 268,
    "start_time": "2023-08-03T14:04:17.388Z"
   },
   {
    "duration": 87,
    "start_time": "2023-08-03T14:04:17.657Z"
   },
   {
    "duration": 28,
    "start_time": "2023-08-03T14:04:17.748Z"
   },
   {
    "duration": 2279,
    "start_time": "2023-08-03T14:04:17.778Z"
   },
   {
    "duration": 575,
    "start_time": "2023-08-03T14:04:20.059Z"
   },
   {
    "duration": 4,
    "start_time": "2023-08-03T14:04:20.637Z"
   },
   {
    "duration": 482,
    "start_time": "2023-08-03T14:04:20.643Z"
   },
   {
    "duration": 193,
    "start_time": "2023-08-03T14:04:21.127Z"
   },
   {
    "duration": 12,
    "start_time": "2023-08-03T14:04:21.323Z"
   },
   {
    "duration": 132,
    "start_time": "2023-08-03T14:04:21.337Z"
   },
   {
    "duration": 128,
    "start_time": "2023-08-03T14:04:21.471Z"
   },
   {
    "duration": 68,
    "start_time": "2023-08-03T14:04:21.600Z"
   },
   {
    "duration": 57,
    "start_time": "2023-08-03T14:04:21.670Z"
   },
   {
    "duration": 103,
    "start_time": "2023-08-03T14:04:21.728Z"
   },
   {
    "duration": 40,
    "start_time": "2023-08-03T14:04:21.833Z"
   },
   {
    "duration": 66,
    "start_time": "2023-08-03T14:04:21.875Z"
   },
   {
    "duration": 51,
    "start_time": "2023-08-03T14:04:21.943Z"
   },
   {
    "duration": 74,
    "start_time": "2023-08-03T14:05:14.695Z"
   },
   {
    "duration": 74,
    "start_time": "2023-08-03T14:05:18.508Z"
   },
   {
    "duration": 98,
    "start_time": "2023-08-03T14:05:18.584Z"
   },
   {
    "duration": 219,
    "start_time": "2023-08-03T14:05:18.684Z"
   },
   {
    "duration": 17,
    "start_time": "2023-08-03T14:05:18.905Z"
   },
   {
    "duration": 4,
    "start_time": "2023-08-03T14:09:17.835Z"
   },
   {
    "duration": 214458,
    "start_time": "2023-08-03T14:14:43.498Z"
   },
   {
    "duration": 2089,
    "start_time": "2023-08-03T14:18:55.643Z"
   },
   {
    "duration": 2035,
    "start_time": "2023-08-03T14:19:41.531Z"
   },
   {
    "duration": 5,
    "start_time": "2023-08-03T14:21:31.691Z"
   },
   {
    "duration": 2069,
    "start_time": "2023-08-03T14:21:46.894Z"
   },
   {
    "duration": 2093,
    "start_time": "2023-08-03T14:22:34.724Z"
   },
   {
    "duration": 2119,
    "start_time": "2023-08-03T14:22:57.797Z"
   },
   {
    "duration": 2112,
    "start_time": "2023-08-03T14:23:10.688Z"
   },
   {
    "duration": 2178,
    "start_time": "2023-08-03T14:23:34.953Z"
   },
   {
    "duration": 2246,
    "start_time": "2023-08-03T14:24:45.453Z"
   },
   {
    "duration": 2071,
    "start_time": "2023-08-03T14:25:11.586Z"
   },
   {
    "duration": 49,
    "start_time": "2023-08-03T14:25:15.156Z"
   },
   {
    "duration": 51,
    "start_time": "2023-08-03T14:25:23.987Z"
   },
   {
    "duration": 76,
    "start_time": "2023-08-03T14:28:28.046Z"
   },
   {
    "duration": 46,
    "start_time": "2023-08-03T14:28:51.441Z"
   },
   {
    "duration": 3,
    "start_time": "2023-08-03T14:28:56.754Z"
   },
   {
    "duration": 1569,
    "start_time": "2023-08-06T08:19:24.431Z"
   },
   {
    "duration": 1053,
    "start_time": "2023-08-06T08:19:26.003Z"
   },
   {
    "duration": 5,
    "start_time": "2023-08-06T08:19:27.058Z"
   },
   {
    "duration": 36972,
    "start_time": "2023-08-06T08:19:27.065Z"
   },
   {
    "duration": 4,
    "start_time": "2023-08-06T08:20:04.039Z"
   },
   {
    "duration": 471,
    "start_time": "2023-08-06T08:20:04.044Z"
   },
   {
    "duration": 366,
    "start_time": "2023-08-06T08:20:04.516Z"
   },
   {
    "duration": 232,
    "start_time": "2023-08-06T08:20:04.883Z"
   },
   {
    "duration": 83,
    "start_time": "2023-08-06T08:20:05.117Z"
   },
   {
    "duration": 21,
    "start_time": "2023-08-06T08:20:05.202Z"
   },
   {
    "duration": 1726,
    "start_time": "2023-08-06T08:20:05.224Z"
   },
   {
    "duration": 502,
    "start_time": "2023-08-06T08:20:06.952Z"
   },
   {
    "duration": 3,
    "start_time": "2023-08-06T08:20:07.455Z"
   },
   {
    "duration": 336,
    "start_time": "2023-08-06T08:20:07.459Z"
   },
   {
    "duration": 147,
    "start_time": "2023-08-06T08:20:07.796Z"
   },
   {
    "duration": 10,
    "start_time": "2023-08-06T08:20:07.944Z"
   },
   {
    "duration": 73,
    "start_time": "2023-08-06T08:20:07.955Z"
   },
   {
    "duration": 71,
    "start_time": "2023-08-06T08:20:08.029Z"
   },
   {
    "duration": 57,
    "start_time": "2023-08-06T08:20:08.101Z"
   },
   {
    "duration": 54,
    "start_time": "2023-08-06T08:20:08.160Z"
   },
   {
    "duration": 51,
    "start_time": "2023-08-06T08:20:08.215Z"
   },
   {
    "duration": 42,
    "start_time": "2023-08-06T08:20:08.267Z"
   },
   {
    "duration": 32,
    "start_time": "2023-08-06T08:20:08.311Z"
   },
   {
    "duration": 67,
    "start_time": "2023-08-06T08:20:08.344Z"
   },
   {
    "duration": 36,
    "start_time": "2023-08-06T08:32:17.718Z"
   },
   {
    "duration": 2763,
    "start_time": "2023-08-06T08:32:41.890Z"
   },
   {
    "duration": 18,
    "start_time": "2023-08-06T08:32:47.559Z"
   },
   {
    "duration": 48,
    "start_time": "2023-08-06T08:38:22.607Z"
   },
   {
    "duration": 265,
    "start_time": "2023-08-06T08:42:48.200Z"
   },
   {
    "duration": 132,
    "start_time": "2023-08-06T08:42:52.562Z"
   },
   {
    "duration": 131,
    "start_time": "2023-08-06T08:43:06.930Z"
   },
   {
    "duration": 43,
    "start_time": "2023-08-06T08:43:09.571Z"
   },
   {
    "duration": 65,
    "start_time": "2023-08-06T08:43:36.383Z"
   },
   {
    "duration": 66,
    "start_time": "2023-08-06T08:44:08.401Z"
   },
   {
    "duration": 2,
    "start_time": "2023-08-06T08:45:10.011Z"
   },
   {
    "duration": 47,
    "start_time": "2023-08-06T08:49:09.221Z"
   },
   {
    "duration": 152,
    "start_time": "2023-08-06T08:52:47.772Z"
   },
   {
    "duration": 91,
    "start_time": "2023-08-06T08:52:55.502Z"
   },
   {
    "duration": 120,
    "start_time": "2023-08-06T08:53:11.202Z"
   },
   {
    "duration": 80,
    "start_time": "2023-08-06T08:53:16.582Z"
   },
   {
    "duration": 45,
    "start_time": "2023-08-06T08:53:34.602Z"
   },
   {
    "duration": 68,
    "start_time": "2023-08-06T08:54:00.729Z"
   },
   {
    "duration": 92,
    "start_time": "2023-08-06T08:54:20.722Z"
   },
   {
    "duration": 76,
    "start_time": "2023-08-06T08:54:29.742Z"
   },
   {
    "duration": 171,
    "start_time": "2023-08-06T09:03:22.321Z"
   },
   {
    "duration": 87,
    "start_time": "2023-08-06T09:03:24.959Z"
   },
   {
    "duration": 210,
    "start_time": "2023-08-06T09:03:32.090Z"
   },
   {
    "duration": 85,
    "start_time": "2023-08-06T09:03:34.310Z"
   },
   {
    "duration": 45,
    "start_time": "2023-08-06T09:03:42.833Z"
   },
   {
    "duration": 70,
    "start_time": "2023-08-06T09:03:55.061Z"
   },
   {
    "duration": 1347,
    "start_time": "2023-08-06T09:04:48.461Z"
   },
   {
    "duration": 778,
    "start_time": "2023-08-06T09:04:49.810Z"
   },
   {
    "duration": 6,
    "start_time": "2023-08-06T09:04:50.590Z"
   },
   {
    "duration": 38875,
    "start_time": "2023-08-06T09:04:50.600Z"
   },
   {
    "duration": 4,
    "start_time": "2023-08-06T09:05:29.478Z"
   },
   {
    "duration": 548,
    "start_time": "2023-08-06T09:05:29.484Z"
   },
   {
    "duration": 405,
    "start_time": "2023-08-06T09:05:30.034Z"
   },
   {
    "duration": 236,
    "start_time": "2023-08-06T09:05:30.441Z"
   },
   {
    "duration": 89,
    "start_time": "2023-08-06T09:05:30.679Z"
   },
   {
    "duration": 50,
    "start_time": "2023-08-06T09:05:30.770Z"
   },
   {
    "duration": 1772,
    "start_time": "2023-08-06T09:05:30.822Z"
   },
   {
    "duration": 517,
    "start_time": "2023-08-06T09:05:32.596Z"
   },
   {
    "duration": 4,
    "start_time": "2023-08-06T09:05:33.114Z"
   },
   {
    "duration": 425,
    "start_time": "2023-08-06T09:05:33.120Z"
   },
   {
    "duration": 156,
    "start_time": "2023-08-06T09:05:33.546Z"
   },
   {
    "duration": 12,
    "start_time": "2023-08-06T09:05:33.704Z"
   },
   {
    "duration": 70,
    "start_time": "2023-08-06T09:05:33.718Z"
   },
   {
    "duration": 75,
    "start_time": "2023-08-06T09:05:33.790Z"
   },
   {
    "duration": 63,
    "start_time": "2023-08-06T09:05:33.867Z"
   },
   {
    "duration": 33,
    "start_time": "2023-08-06T09:05:33.931Z"
   },
   {
    "duration": 70,
    "start_time": "2023-08-06T09:05:33.966Z"
   },
   {
    "duration": 35,
    "start_time": "2023-08-06T09:05:34.037Z"
   },
   {
    "duration": 46,
    "start_time": "2023-08-06T09:05:34.074Z"
   },
   {
    "duration": 30,
    "start_time": "2023-08-06T09:05:34.121Z"
   },
   {
    "duration": 78,
    "start_time": "2023-08-06T09:05:34.153Z"
   },
   {
    "duration": 156,
    "start_time": "2023-08-06T09:05:48.962Z"
   },
   {
    "duration": 47,
    "start_time": "2023-08-06T09:07:33.481Z"
   },
   {
    "duration": 68,
    "start_time": "2023-08-06T09:08:16.187Z"
   },
   {
    "duration": 148,
    "start_time": "2023-08-06T09:08:20.732Z"
   },
   {
    "duration": 58,
    "start_time": "2023-08-06T09:08:37.202Z"
   },
   {
    "duration": 54,
    "start_time": "2023-08-06T09:08:53.163Z"
   },
   {
    "duration": 278,
    "start_time": "2023-08-06T09:18:03.539Z"
   },
   {
    "duration": 61,
    "start_time": "2023-08-06T09:18:09.006Z"
   },
   {
    "duration": 1357,
    "start_time": "2023-08-06T09:18:38.920Z"
   },
   {
    "duration": 748,
    "start_time": "2023-08-06T09:18:40.279Z"
   },
   {
    "duration": 6,
    "start_time": "2023-08-06T09:18:41.029Z"
   },
   {
    "duration": 38393,
    "start_time": "2023-08-06T09:18:41.037Z"
   },
   {
    "duration": 3,
    "start_time": "2023-08-06T09:19:19.432Z"
   },
   {
    "duration": 503,
    "start_time": "2023-08-06T09:19:19.436Z"
   },
   {
    "duration": 415,
    "start_time": "2023-08-06T09:19:19.940Z"
   },
   {
    "duration": 238,
    "start_time": "2023-08-06T09:19:20.356Z"
   },
   {
    "duration": 95,
    "start_time": "2023-08-06T09:19:20.596Z"
   },
   {
    "duration": 21,
    "start_time": "2023-08-06T09:19:20.700Z"
   },
   {
    "duration": 1833,
    "start_time": "2023-08-06T09:19:20.722Z"
   },
   {
    "duration": 480,
    "start_time": "2023-08-06T09:19:22.557Z"
   },
   {
    "duration": 3,
    "start_time": "2023-08-06T09:19:23.039Z"
   },
   {
    "duration": 377,
    "start_time": "2023-08-06T09:19:23.044Z"
   },
   {
    "duration": 174,
    "start_time": "2023-08-06T09:19:23.423Z"
   },
   {
    "duration": 10,
    "start_time": "2023-08-06T09:19:23.599Z"
   },
   {
    "duration": 63,
    "start_time": "2023-08-06T09:19:23.610Z"
   },
   {
    "duration": 95,
    "start_time": "2023-08-06T09:19:23.675Z"
   },
   {
    "duration": 65,
    "start_time": "2023-08-06T09:19:23.771Z"
   },
   {
    "duration": 36,
    "start_time": "2023-08-06T09:19:23.837Z"
   },
   {
    "duration": 78,
    "start_time": "2023-08-06T09:19:23.874Z"
   },
   {
    "duration": 46,
    "start_time": "2023-08-06T09:19:23.954Z"
   },
   {
    "duration": 39,
    "start_time": "2023-08-06T09:19:24.002Z"
   },
   {
    "duration": 39,
    "start_time": "2023-08-06T09:19:24.043Z"
   },
   {
    "duration": 83,
    "start_time": "2023-08-06T09:19:24.084Z"
   },
   {
    "duration": 53,
    "start_time": "2023-08-06T09:19:24.168Z"
   },
   {
    "duration": 462,
    "start_time": "2023-08-06T09:20:54.919Z"
   },
   {
    "duration": 57,
    "start_time": "2023-08-06T09:21:17.958Z"
   },
   {
    "duration": 42,
    "start_time": "2023-08-06T09:21:47.808Z"
   },
   {
    "duration": 51,
    "start_time": "2023-08-06T09:22:03.198Z"
   },
   {
    "duration": 82,
    "start_time": "2023-08-06T09:22:19.788Z"
   },
   {
    "duration": 97,
    "start_time": "2023-08-06T09:22:30.686Z"
   },
   {
    "duration": 40,
    "start_time": "2023-08-06T09:22:36.860Z"
   },
   {
    "duration": 54,
    "start_time": "2023-08-06T09:22:42.686Z"
   },
   {
    "duration": 62,
    "start_time": "2023-08-06T09:23:02.708Z"
   },
   {
    "duration": 67,
    "start_time": "2023-08-06T09:23:24.061Z"
   },
   {
    "duration": 42,
    "start_time": "2023-08-06T09:23:44.209Z"
   },
   {
    "duration": 60,
    "start_time": "2023-08-06T09:23:51.470Z"
   },
   {
    "duration": 77,
    "start_time": "2023-08-06T09:24:48.740Z"
   },
   {
    "duration": 267,
    "start_time": "2023-08-06T09:25:08.709Z"
   },
   {
    "duration": 62,
    "start_time": "2023-08-06T09:25:29.270Z"
   },
   {
    "duration": 77,
    "start_time": "2023-08-06T09:25:38.661Z"
   },
   {
    "duration": 63,
    "start_time": "2023-08-06T09:26:44.217Z"
   },
   {
    "duration": 52,
    "start_time": "2023-08-06T09:26:56.737Z"
   },
   {
    "duration": 39,
    "start_time": "2023-08-06T09:27:12.799Z"
   },
   {
    "duration": 1406,
    "start_time": "2023-08-06T09:27:23.281Z"
   },
   {
    "duration": 788,
    "start_time": "2023-08-06T09:27:24.688Z"
   },
   {
    "duration": 6,
    "start_time": "2023-08-06T09:27:25.477Z"
   },
   {
    "duration": 39600,
    "start_time": "2023-08-06T09:27:25.484Z"
   },
   {
    "duration": 3,
    "start_time": "2023-08-06T09:28:05.086Z"
   },
   {
    "duration": 515,
    "start_time": "2023-08-06T09:28:05.099Z"
   },
   {
    "duration": 400,
    "start_time": "2023-08-06T09:28:05.615Z"
   },
   {
    "duration": 338,
    "start_time": "2023-08-06T09:28:06.016Z"
   },
   {
    "duration": 83,
    "start_time": "2023-08-06T09:28:06.356Z"
   },
   {
    "duration": 19,
    "start_time": "2023-08-06T09:28:06.441Z"
   },
   {
    "duration": 1742,
    "start_time": "2023-08-06T09:28:06.461Z"
   },
   {
    "duration": 513,
    "start_time": "2023-08-06T09:28:08.205Z"
   },
   {
    "duration": 2,
    "start_time": "2023-08-06T09:28:08.720Z"
   },
   {
    "duration": 350,
    "start_time": "2023-08-06T09:28:08.724Z"
   },
   {
    "duration": 167,
    "start_time": "2023-08-06T09:28:09.076Z"
   },
   {
    "duration": 11,
    "start_time": "2023-08-06T09:28:09.244Z"
   },
   {
    "duration": 79,
    "start_time": "2023-08-06T09:28:09.256Z"
   },
   {
    "duration": 75,
    "start_time": "2023-08-06T09:28:09.337Z"
   },
   {
    "duration": 55,
    "start_time": "2023-08-06T09:28:09.414Z"
   },
   {
    "duration": 54,
    "start_time": "2023-08-06T09:28:09.471Z"
   },
   {
    "duration": 87,
    "start_time": "2023-08-06T09:28:09.527Z"
   },
   {
    "duration": 43,
    "start_time": "2023-08-06T09:28:09.616Z"
   },
   {
    "duration": 49,
    "start_time": "2023-08-06T09:28:09.661Z"
   },
   {
    "duration": 38,
    "start_time": "2023-08-06T09:28:09.711Z"
   },
   {
    "duration": 88,
    "start_time": "2023-08-06T09:28:09.750Z"
   },
   {
    "duration": 66,
    "start_time": "2023-08-06T09:28:09.839Z"
   },
   {
    "duration": 38,
    "start_time": "2023-08-06T09:28:09.907Z"
   },
   {
    "duration": 258,
    "start_time": "2023-08-06T09:28:22.470Z"
   },
   {
    "duration": 50,
    "start_time": "2023-08-06T09:28:25.380Z"
   },
   {
    "duration": 127,
    "start_time": "2023-08-06T09:28:39.810Z"
   },
   {
    "duration": 84,
    "start_time": "2023-08-06T09:31:05.740Z"
   },
   {
    "duration": 1797,
    "start_time": "2023-08-07T05:50:20.147Z"
   },
   {
    "duration": 1322,
    "start_time": "2023-08-07T05:50:21.947Z"
   },
   {
    "duration": 6,
    "start_time": "2023-08-07T05:50:23.270Z"
   },
   {
    "duration": 43336,
    "start_time": "2023-08-07T05:50:23.278Z"
   },
   {
    "duration": 4,
    "start_time": "2023-08-07T05:51:06.617Z"
   },
   {
    "duration": 670,
    "start_time": "2023-08-07T05:51:06.623Z"
   },
   {
    "duration": 545,
    "start_time": "2023-08-07T05:51:07.295Z"
   },
   {
    "duration": 274,
    "start_time": "2023-08-07T05:51:07.841Z"
   },
   {
    "duration": 124,
    "start_time": "2023-08-07T05:51:08.121Z"
   },
   {
    "duration": 21,
    "start_time": "2023-08-07T05:51:08.249Z"
   },
   {
    "duration": 2241,
    "start_time": "2023-08-07T05:51:08.271Z"
   },
   {
    "duration": 624,
    "start_time": "2023-08-07T05:51:10.515Z"
   },
   {
    "duration": 3,
    "start_time": "2023-08-07T05:51:11.140Z"
   },
   {
    "duration": 465,
    "start_time": "2023-08-07T05:51:11.145Z"
   },
   {
    "duration": 176,
    "start_time": "2023-08-07T05:51:11.612Z"
   },
   {
    "duration": 18,
    "start_time": "2023-08-07T05:51:11.796Z"
   },
   {
    "duration": 81,
    "start_time": "2023-08-07T05:51:11.819Z"
   },
   {
    "duration": 103,
    "start_time": "2023-08-07T05:51:11.906Z"
   },
   {
    "duration": 64,
    "start_time": "2023-08-07T05:51:12.012Z"
   },
   {
    "duration": 62,
    "start_time": "2023-08-07T05:51:12.078Z"
   },
   {
    "duration": 88,
    "start_time": "2023-08-07T05:51:12.142Z"
   },
   {
    "duration": 35,
    "start_time": "2023-08-07T05:51:12.232Z"
   },
   {
    "duration": 67,
    "start_time": "2023-08-07T05:51:12.269Z"
   },
   {
    "duration": 35,
    "start_time": "2023-08-07T05:51:12.338Z"
   },
   {
    "duration": 138,
    "start_time": "2023-08-07T05:51:12.375Z"
   },
   {
    "duration": 65,
    "start_time": "2023-08-07T05:51:12.515Z"
   },
   {
    "duration": 70,
    "start_time": "2023-08-07T05:51:12.582Z"
   },
   {
    "duration": 332,
    "start_time": "2023-08-07T05:51:12.655Z"
   },
   {
    "duration": 57,
    "start_time": "2023-08-07T05:51:12.989Z"
   },
   {
    "duration": 104,
    "start_time": "2023-08-07T05:51:13.047Z"
   },
   {
    "duration": 24,
    "start_time": "2023-08-07T05:54:25.293Z"
   },
   {
    "duration": 186,
    "start_time": "2023-08-07T05:54:40.443Z"
   },
   {
    "duration": 9,
    "start_time": "2023-08-07T05:55:01.464Z"
   },
   {
    "duration": 4,
    "start_time": "2023-08-07T05:56:43.223Z"
   },
   {
    "duration": 10,
    "start_time": "2023-08-07T05:57:07.466Z"
   },
   {
    "duration": 4,
    "start_time": "2023-08-07T05:57:33.749Z"
   },
   {
    "duration": 9,
    "start_time": "2023-08-07T05:57:47.616Z"
   },
   {
    "duration": 4,
    "start_time": "2023-08-07T05:57:58.456Z"
   },
   {
    "duration": 11,
    "start_time": "2023-08-07T05:59:19.357Z"
   },
   {
    "duration": 16,
    "start_time": "2023-08-07T05:59:29.116Z"
   },
   {
    "duration": 9,
    "start_time": "2023-08-07T06:02:56.053Z"
   },
   {
    "duration": 9,
    "start_time": "2023-08-07T06:03:09.459Z"
   },
   {
    "duration": 10,
    "start_time": "2023-08-07T06:03:33.119Z"
   },
   {
    "duration": 181,
    "start_time": "2023-08-07T06:04:00.858Z"
   },
   {
    "duration": 348,
    "start_time": "2023-08-07T06:04:16.412Z"
   },
   {
    "duration": 175,
    "start_time": "2023-08-07T06:05:03.815Z"
   },
   {
    "duration": 203,
    "start_time": "2023-08-07T06:05:38.138Z"
   },
   {
    "duration": 239,
    "start_time": "2023-08-07T06:05:43.881Z"
   },
   {
    "duration": 256,
    "start_time": "2023-08-07T06:05:58.096Z"
   },
   {
    "duration": 258,
    "start_time": "2023-08-07T06:06:13.999Z"
   },
   {
    "duration": 278,
    "start_time": "2023-08-07T06:06:26.653Z"
   },
   {
    "duration": 12,
    "start_time": "2023-08-07T06:06:42.839Z"
   },
   {
    "duration": 11,
    "start_time": "2023-08-07T06:06:49.740Z"
   },
   {
    "duration": 25,
    "start_time": "2023-08-07T06:06:56.290Z"
   },
   {
    "duration": 58,
    "start_time": "2023-08-07T06:08:40.524Z"
   },
   {
    "duration": 4,
    "start_time": "2023-08-07T06:08:43.770Z"
   },
   {
    "duration": 7,
    "start_time": "2023-08-07T06:08:46.513Z"
   },
   {
    "duration": 17,
    "start_time": "2023-08-07T06:09:19.116Z"
   },
   {
    "duration": 6,
    "start_time": "2023-08-07T06:10:06.225Z"
   },
   {
    "duration": 31,
    "start_time": "2023-08-07T06:10:17.024Z"
   },
   {
    "duration": 22,
    "start_time": "2023-08-07T06:10:51.851Z"
   },
   {
    "duration": 6,
    "start_time": "2023-08-07T06:11:19.026Z"
   },
   {
    "duration": 62,
    "start_time": "2023-08-07T06:12:05.431Z"
   },
   {
    "duration": 13,
    "start_time": "2023-08-07T06:12:07.398Z"
   },
   {
    "duration": 3,
    "start_time": "2023-08-07T06:12:09.360Z"
   },
   {
    "duration": 1409,
    "start_time": "2023-08-07T06:12:40.641Z"
   },
   {
    "duration": 895,
    "start_time": "2023-08-07T06:12:42.052Z"
   },
   {
    "duration": 4,
    "start_time": "2023-08-07T06:12:42.949Z"
   },
   {
    "duration": 41159,
    "start_time": "2023-08-07T06:12:42.955Z"
   },
   {
    "duration": 4,
    "start_time": "2023-08-07T06:13:24.117Z"
   },
   {
    "duration": 651,
    "start_time": "2023-08-07T06:13:24.127Z"
   },
   {
    "duration": 523,
    "start_time": "2023-08-07T06:13:24.780Z"
   },
   {
    "duration": 278,
    "start_time": "2023-08-07T06:13:25.308Z"
   },
   {
    "duration": 131,
    "start_time": "2023-08-07T06:13:25.588Z"
   },
   {
    "duration": 24,
    "start_time": "2023-08-07T06:13:25.722Z"
   },
   {
    "duration": 2278,
    "start_time": "2023-08-07T06:13:25.748Z"
   },
   {
    "duration": 600,
    "start_time": "2023-08-07T06:13:28.031Z"
   },
   {
    "duration": 3,
    "start_time": "2023-08-07T06:13:28.633Z"
   },
   {
    "duration": 448,
    "start_time": "2023-08-07T06:13:28.639Z"
   },
   {
    "duration": 176,
    "start_time": "2023-08-07T06:13:29.088Z"
   },
   {
    "duration": 11,
    "start_time": "2023-08-07T06:13:29.266Z"
   },
   {
    "duration": 89,
    "start_time": "2023-08-07T06:13:29.279Z"
   },
   {
    "duration": 117,
    "start_time": "2023-08-07T06:13:29.370Z"
   },
   {
    "duration": 93,
    "start_time": "2023-08-07T06:13:29.489Z"
   },
   {
    "duration": 51,
    "start_time": "2023-08-07T06:13:29.603Z"
   },
   {
    "duration": 85,
    "start_time": "2023-08-07T06:13:29.656Z"
   },
   {
    "duration": 37,
    "start_time": "2023-08-07T06:13:29.743Z"
   },
   {
    "duration": 62,
    "start_time": "2023-08-07T06:13:29.781Z"
   },
   {
    "duration": 55,
    "start_time": "2023-08-07T06:13:29.844Z"
   },
   {
    "duration": 122,
    "start_time": "2023-08-07T06:13:29.909Z"
   },
   {
    "duration": 53,
    "start_time": "2023-08-07T06:13:30.033Z"
   },
   {
    "duration": 361,
    "start_time": "2023-08-07T06:13:30.087Z"
   },
   {
    "duration": 60,
    "start_time": "2023-08-07T06:13:30.450Z"
   },
   {
    "duration": 106,
    "start_time": "2023-08-07T06:13:30.515Z"
   },
   {
    "duration": 20,
    "start_time": "2023-08-07T06:13:30.624Z"
   },
   {
    "duration": 242,
    "start_time": "2023-08-07T06:13:30.645Z"
   },
   {
    "duration": 21,
    "start_time": "2023-08-07T06:13:30.888Z"
   },
   {
    "duration": 85,
    "start_time": "2023-08-07T06:37:04.874Z"
   },
   {
    "duration": 4,
    "start_time": "2023-08-07T06:37:06.852Z"
   },
   {
    "duration": 3,
    "start_time": "2023-08-07T06:37:10.080Z"
   },
   {
    "duration": 75,
    "start_time": "2023-08-07T06:37:54.652Z"
   },
   {
    "duration": 187,
    "start_time": "2023-08-07T06:38:00.666Z"
   },
   {
    "duration": 54,
    "start_time": "2023-08-07T06:38:44.593Z"
   },
   {
    "duration": 24,
    "start_time": "2023-08-07T06:39:00.659Z"
   },
   {
    "duration": 2,
    "start_time": "2023-08-07T06:39:12.841Z"
   },
   {
    "duration": 4,
    "start_time": "2023-08-07T06:39:15.181Z"
   },
   {
    "duration": 4,
    "start_time": "2023-08-07T06:39:18.979Z"
   },
   {
    "duration": 8,
    "start_time": "2023-08-07T06:39:25.220Z"
   },
   {
    "duration": 42,
    "start_time": "2023-08-07T06:40:00.033Z"
   },
   {
    "duration": 4,
    "start_time": "2023-08-07T06:40:02.163Z"
   },
   {
    "duration": 1639,
    "start_time": "2023-08-07T06:40:11.443Z"
   },
   {
    "duration": 1068,
    "start_time": "2023-08-07T06:40:13.084Z"
   },
   {
    "duration": 5,
    "start_time": "2023-08-07T06:40:14.155Z"
   },
   {
    "duration": 43678,
    "start_time": "2023-08-07T06:40:14.162Z"
   },
   {
    "duration": 3,
    "start_time": "2023-08-07T06:40:57.843Z"
   },
   {
    "duration": 695,
    "start_time": "2023-08-07T06:40:57.847Z"
   },
   {
    "duration": 492,
    "start_time": "2023-08-07T06:40:58.544Z"
   },
   {
    "duration": 278,
    "start_time": "2023-08-07T06:40:59.038Z"
   },
   {
    "duration": 121,
    "start_time": "2023-08-07T06:40:59.322Z"
   },
   {
    "duration": 18,
    "start_time": "2023-08-07T06:40:59.445Z"
   },
   {
    "duration": 2207,
    "start_time": "2023-08-07T06:40:59.465Z"
   },
   {
    "duration": 665,
    "start_time": "2023-08-07T06:41:01.673Z"
   },
   {
    "duration": 3,
    "start_time": "2023-08-07T06:41:02.340Z"
   },
   {
    "duration": 471,
    "start_time": "2023-08-07T06:41:02.347Z"
   },
   {
    "duration": 199,
    "start_time": "2023-08-07T06:41:02.820Z"
   },
   {
    "duration": 13,
    "start_time": "2023-08-07T06:41:03.023Z"
   },
   {
    "duration": 84,
    "start_time": "2023-08-07T06:41:03.038Z"
   },
   {
    "duration": 102,
    "start_time": "2023-08-07T06:41:03.124Z"
   },
   {
    "duration": 69,
    "start_time": "2023-08-07T06:41:03.228Z"
   },
   {
    "duration": 46,
    "start_time": "2023-08-07T06:41:03.299Z"
   },
   {
    "duration": 87,
    "start_time": "2023-08-07T06:41:03.347Z"
   },
   {
    "duration": 69,
    "start_time": "2023-08-07T06:41:03.435Z"
   },
   {
    "duration": 55,
    "start_time": "2023-08-07T06:41:03.505Z"
   },
   {
    "duration": 73,
    "start_time": "2023-08-07T06:41:03.562Z"
   },
   {
    "duration": 121,
    "start_time": "2023-08-07T06:41:03.637Z"
   },
   {
    "duration": 73,
    "start_time": "2023-08-07T06:41:03.759Z"
   },
   {
    "duration": 336,
    "start_time": "2023-08-07T06:41:03.835Z"
   },
   {
    "duration": 68,
    "start_time": "2023-08-07T06:41:04.173Z"
   },
   {
    "duration": 106,
    "start_time": "2023-08-07T06:41:04.243Z"
   },
   {
    "duration": 16,
    "start_time": "2023-08-07T06:41:04.351Z"
   },
   {
    "duration": 266,
    "start_time": "2023-08-07T06:41:04.369Z"
   },
   {
    "duration": 10,
    "start_time": "2023-08-07T06:41:04.637Z"
   },
   {
    "duration": 12,
    "start_time": "2023-08-07T06:41:28.730Z"
   },
   {
    "duration": 9,
    "start_time": "2023-08-07T06:41:37.834Z"
   },
   {
    "duration": 30,
    "start_time": "2023-08-07T06:41:44.652Z"
   },
   {
    "duration": 17,
    "start_time": "2023-08-07T06:41:46.807Z"
   },
   {
    "duration": 12,
    "start_time": "2023-08-07T06:41:54.893Z"
   },
   {
    "duration": 11,
    "start_time": "2023-08-07T06:42:25.476Z"
   },
   {
    "duration": 12,
    "start_time": "2023-08-07T06:42:45.970Z"
   },
   {
    "duration": 44,
    "start_time": "2023-08-07T06:43:02.259Z"
   },
   {
    "duration": 32,
    "start_time": "2023-08-07T06:43:26.885Z"
   },
   {
    "duration": 262,
    "start_time": "2023-08-07T06:43:57.862Z"
   },
   {
    "duration": 368,
    "start_time": "2023-08-07T06:44:30.322Z"
   },
   {
    "duration": 7,
    "start_time": "2023-08-07T06:45:28.324Z"
   },
   {
    "duration": 148,
    "start_time": "2023-08-07T06:45:30.662Z"
   },
   {
    "duration": 81,
    "start_time": "2023-08-07T06:45:52.327Z"
   },
   {
    "duration": 9,
    "start_time": "2023-08-07T06:45:59.973Z"
   },
   {
    "duration": 11,
    "start_time": "2023-08-07T06:46:18.733Z"
   },
   {
    "duration": 1526,
    "start_time": "2023-08-07T06:47:00.351Z"
   },
   {
    "duration": 1009,
    "start_time": "2023-08-07T06:47:01.879Z"
   },
   {
    "duration": 13,
    "start_time": "2023-08-07T06:47:02.890Z"
   },
   {
    "duration": 42948,
    "start_time": "2023-08-07T06:47:02.914Z"
   },
   {
    "duration": 3,
    "start_time": "2023-08-07T06:47:45.864Z"
   },
   {
    "duration": 701,
    "start_time": "2023-08-07T06:47:45.869Z"
   },
   {
    "duration": 558,
    "start_time": "2023-08-07T06:47:46.572Z"
   },
   {
    "duration": 267,
    "start_time": "2023-08-07T06:47:47.132Z"
   },
   {
    "duration": 111,
    "start_time": "2023-08-07T06:47:47.405Z"
   },
   {
    "duration": 35,
    "start_time": "2023-08-07T06:47:47.518Z"
   },
   {
    "duration": 2303,
    "start_time": "2023-08-07T06:47:47.554Z"
   },
   {
    "duration": 616,
    "start_time": "2023-08-07T06:47:49.859Z"
   },
   {
    "duration": 2,
    "start_time": "2023-08-07T06:47:50.477Z"
   },
   {
    "duration": 493,
    "start_time": "2023-08-07T06:47:50.482Z"
   },
   {
    "duration": 184,
    "start_time": "2023-08-07T06:47:50.977Z"
   },
   {
    "duration": 11,
    "start_time": "2023-08-07T06:47:51.163Z"
   },
   {
    "duration": 89,
    "start_time": "2023-08-07T06:47:51.175Z"
   },
   {
    "duration": 107,
    "start_time": "2023-08-07T06:47:51.266Z"
   },
   {
    "duration": 88,
    "start_time": "2023-08-07T06:47:51.375Z"
   },
   {
    "duration": 59,
    "start_time": "2023-08-07T06:47:51.465Z"
   },
   {
    "duration": 104,
    "start_time": "2023-08-07T06:47:51.526Z"
   },
   {
    "duration": 43,
    "start_time": "2023-08-07T06:47:51.636Z"
   },
   {
    "duration": 57,
    "start_time": "2023-08-07T06:47:51.681Z"
   },
   {
    "duration": 46,
    "start_time": "2023-08-07T06:47:51.740Z"
   },
   {
    "duration": 133,
    "start_time": "2023-08-07T06:47:51.788Z"
   },
   {
    "duration": 48,
    "start_time": "2023-08-07T06:47:51.927Z"
   },
   {
    "duration": 386,
    "start_time": "2023-08-07T06:47:51.976Z"
   },
   {
    "duration": 67,
    "start_time": "2023-08-07T06:47:52.364Z"
   },
   {
    "duration": 107,
    "start_time": "2023-08-07T06:47:52.434Z"
   },
   {
    "duration": 20,
    "start_time": "2023-08-07T06:47:52.543Z"
   },
   {
    "duration": 286,
    "start_time": "2023-08-07T06:47:52.566Z"
   },
   {
    "duration": 13,
    "start_time": "2023-08-07T06:47:52.853Z"
   },
   {
    "duration": 1411,
    "start_time": "2023-08-07T06:48:55.026Z"
   },
   {
    "duration": 884,
    "start_time": "2023-08-07T06:48:56.439Z"
   },
   {
    "duration": 6,
    "start_time": "2023-08-07T06:48:57.324Z"
   },
   {
    "duration": 38529,
    "start_time": "2023-08-07T06:48:57.331Z"
   },
   {
    "duration": 3,
    "start_time": "2023-08-07T06:49:35.861Z"
   },
   {
    "duration": 576,
    "start_time": "2023-08-07T06:49:35.865Z"
   },
   {
    "duration": 464,
    "start_time": "2023-08-07T06:49:36.442Z"
   },
   {
    "duration": 228,
    "start_time": "2023-08-07T06:49:36.908Z"
   },
   {
    "duration": 98,
    "start_time": "2023-08-07T06:49:37.138Z"
   },
   {
    "duration": 18,
    "start_time": "2023-08-07T06:49:37.238Z"
   },
   {
    "duration": 1967,
    "start_time": "2023-08-07T06:49:37.258Z"
   },
   {
    "duration": 542,
    "start_time": "2023-08-07T06:49:39.227Z"
   },
   {
    "duration": 3,
    "start_time": "2023-08-07T06:49:39.771Z"
   },
   {
    "duration": 449,
    "start_time": "2023-08-07T06:49:39.775Z"
   },
   {
    "duration": 187,
    "start_time": "2023-08-07T06:49:40.226Z"
   },
   {
    "duration": 81,
    "start_time": "2023-08-07T06:51:46.956Z"
   },
   {
    "duration": 20,
    "start_time": "2023-08-07T06:51:53.278Z"
   },
   {
    "duration": 12,
    "start_time": "2023-08-07T06:52:36.989Z"
   },
   {
    "duration": 9,
    "start_time": "2023-08-07T06:53:33.918Z"
   },
   {
    "duration": 72,
    "start_time": "2023-08-07T06:53:49.931Z"
   },
   {
    "duration": 93,
    "start_time": "2023-08-07T06:54:08.457Z"
   },
   {
    "duration": 63,
    "start_time": "2023-08-07T06:54:10.731Z"
   },
   {
    "duration": 39,
    "start_time": "2023-08-07T06:54:16.024Z"
   },
   {
    "duration": 73,
    "start_time": "2023-08-07T06:54:18.299Z"
   },
   {
    "duration": 44,
    "start_time": "2023-08-07T06:54:21.437Z"
   },
   {
    "duration": 42,
    "start_time": "2023-08-07T06:54:24.437Z"
   },
   {
    "duration": 54,
    "start_time": "2023-08-07T06:54:26.594Z"
   },
   {
    "duration": 120,
    "start_time": "2023-08-07T06:54:28.594Z"
   },
   {
    "duration": 44,
    "start_time": "2023-08-07T06:54:32.725Z"
   },
   {
    "duration": 358,
    "start_time": "2023-08-07T06:54:36.264Z"
   },
   {
    "duration": 46,
    "start_time": "2023-08-07T06:54:38.310Z"
   },
   {
    "duration": 98,
    "start_time": "2023-08-07T06:54:40.833Z"
   },
   {
    "duration": 17,
    "start_time": "2023-08-07T06:54:44.373Z"
   },
   {
    "duration": 18,
    "start_time": "2023-08-07T06:54:52.491Z"
   },
   {
    "duration": 15,
    "start_time": "2023-08-07T06:55:05.594Z"
   },
   {
    "duration": 9,
    "start_time": "2023-08-07T06:55:31.653Z"
   },
   {
    "duration": 10,
    "start_time": "2023-08-07T06:55:41.708Z"
   },
   {
    "duration": 63,
    "start_time": "2023-08-07T06:55:55.061Z"
   },
   {
    "duration": 73,
    "start_time": "2023-08-07T06:56:12.420Z"
   },
   {
    "duration": 4,
    "start_time": "2023-08-07T06:56:22.758Z"
   },
   {
    "duration": 4,
    "start_time": "2023-08-07T06:56:26.066Z"
   },
   {
    "duration": 19,
    "start_time": "2023-08-07T06:56:34.829Z"
   },
   {
    "duration": 10,
    "start_time": "2023-08-07T06:56:46.013Z"
   },
   {
    "duration": 19,
    "start_time": "2023-08-07T06:56:57.288Z"
   },
   {
    "duration": 38,
    "start_time": "2023-08-07T07:05:16.282Z"
   },
   {
    "duration": 4,
    "start_time": "2023-08-07T07:05:25.928Z"
   },
   {
    "duration": 5,
    "start_time": "2023-08-07T07:05:49.415Z"
   },
   {
    "duration": 6,
    "start_time": "2023-08-07T07:06:05.466Z"
   },
   {
    "duration": 6,
    "start_time": "2023-08-07T07:06:46.743Z"
   },
   {
    "duration": 5,
    "start_time": "2023-08-07T07:06:58.407Z"
   },
   {
    "duration": 79,
    "start_time": "2023-08-07T07:07:16.122Z"
   },
   {
    "duration": 4,
    "start_time": "2023-08-07T07:07:18.552Z"
   },
   {
    "duration": 4,
    "start_time": "2023-08-07T07:07:54.351Z"
   },
   {
    "duration": 1619,
    "start_time": "2023-08-07T18:03:07.142Z"
   },
   {
    "duration": 1068,
    "start_time": "2023-08-07T18:03:08.764Z"
   },
   {
    "duration": 6,
    "start_time": "2023-08-07T18:03:09.834Z"
   },
   {
    "duration": 38037,
    "start_time": "2023-08-07T18:03:09.842Z"
   },
   {
    "duration": 4,
    "start_time": "2023-08-07T18:03:47.881Z"
   },
   {
    "duration": 566,
    "start_time": "2023-08-07T18:03:47.886Z"
   },
   {
    "duration": 423,
    "start_time": "2023-08-07T18:03:48.454Z"
   },
   {
    "duration": 230,
    "start_time": "2023-08-07T18:03:48.878Z"
   },
   {
    "duration": 83,
    "start_time": "2023-08-07T18:03:49.110Z"
   },
   {
    "duration": 33,
    "start_time": "2023-08-07T18:03:49.195Z"
   },
   {
    "duration": 1929,
    "start_time": "2023-08-07T18:03:49.230Z"
   },
   {
    "duration": 537,
    "start_time": "2023-08-07T18:03:51.161Z"
   },
   {
    "duration": 8,
    "start_time": "2023-08-07T18:03:51.700Z"
   },
   {
    "duration": 389,
    "start_time": "2023-08-07T18:03:51.711Z"
   },
   {
    "duration": 157,
    "start_time": "2023-08-07T18:03:52.108Z"
   },
   {
    "duration": 12,
    "start_time": "2023-08-07T18:03:52.267Z"
   },
   {
    "duration": 88,
    "start_time": "2023-08-07T18:03:52.281Z"
   },
   {
    "duration": 75,
    "start_time": "2023-08-07T18:03:52.370Z"
   },
   {
    "duration": 71,
    "start_time": "2023-08-07T18:03:52.447Z"
   },
   {
    "duration": 34,
    "start_time": "2023-08-07T18:03:52.520Z"
   },
   {
    "duration": 70,
    "start_time": "2023-08-07T18:03:52.555Z"
   },
   {
    "duration": 32,
    "start_time": "2023-08-07T18:03:52.627Z"
   },
   {
    "duration": 48,
    "start_time": "2023-08-07T18:03:52.660Z"
   },
   {
    "duration": 36,
    "start_time": "2023-08-07T18:03:52.710Z"
   },
   {
    "duration": 84,
    "start_time": "2023-08-07T18:03:52.747Z"
   },
   {
    "duration": 37,
    "start_time": "2023-08-07T18:03:52.832Z"
   },
   {
    "duration": 301,
    "start_time": "2023-08-07T18:03:52.871Z"
   },
   {
    "duration": 43,
    "start_time": "2023-08-07T18:03:53.174Z"
   },
   {
    "duration": 66,
    "start_time": "2023-08-07T18:03:53.219Z"
   },
   {
    "duration": 32,
    "start_time": "2023-08-07T18:03:53.287Z"
   },
   {
    "duration": 223,
    "start_time": "2023-08-07T18:03:53.321Z"
   },
   {
    "duration": 11,
    "start_time": "2023-08-07T18:03:53.546Z"
   },
   {
    "duration": 84,
    "start_time": "2023-08-07T18:03:53.558Z"
   },
   {
    "duration": 4,
    "start_time": "2023-08-07T18:03:53.644Z"
   },
   {
    "duration": 25,
    "start_time": "2023-08-07T18:03:53.650Z"
   },
   {
    "duration": 42,
    "start_time": "2023-08-07T18:03:53.677Z"
   },
   {
    "duration": 71,
    "start_time": "2023-08-07T18:03:53.720Z"
   },
   {
    "duration": 4,
    "start_time": "2023-08-07T18:13:15.926Z"
   },
   {
    "duration": 59,
    "start_time": "2023-08-07T18:13:28.966Z"
   },
   {
    "duration": 18,
    "start_time": "2023-08-07T18:13:34.028Z"
   },
   {
    "duration": 200,
    "start_time": "2023-08-07T18:13:53.384Z"
   },
   {
    "duration": 343,
    "start_time": "2023-08-07T18:14:04.753Z"
   },
   {
    "duration": 6,
    "start_time": "2023-08-07T18:17:19.129Z"
   },
   {
    "duration": 6,
    "start_time": "2023-08-07T18:18:16.454Z"
   },
   {
    "duration": 143,
    "start_time": "2023-08-07T18:19:41.437Z"
   },
   {
    "duration": 74,
    "start_time": "2023-08-07T18:20:05.121Z"
   },
   {
    "duration": 29,
    "start_time": "2023-08-07T18:20:46.467Z"
   },
   {
    "duration": 1335,
    "start_time": "2023-08-07T18:22:40.160Z"
   },
   {
    "duration": 818,
    "start_time": "2023-08-07T18:22:41.497Z"
   },
   {
    "duration": 6,
    "start_time": "2023-08-07T18:22:42.316Z"
   },
   {
    "duration": 35767,
    "start_time": "2023-08-07T18:22:42.323Z"
   },
   {
    "duration": 4,
    "start_time": "2023-08-07T18:23:18.093Z"
   },
   {
    "duration": 610,
    "start_time": "2023-08-07T18:23:18.108Z"
   },
   {
    "duration": 441,
    "start_time": "2023-08-07T18:23:18.720Z"
   },
   {
    "duration": 277,
    "start_time": "2023-08-07T18:23:19.163Z"
   },
   {
    "duration": 97,
    "start_time": "2023-08-07T18:23:19.442Z"
   },
   {
    "duration": 315,
    "start_time": "2023-08-07T18:23:19.540Z"
   },
   {
    "duration": 1930,
    "start_time": "2023-08-07T18:23:19.857Z"
   },
   {
    "duration": 515,
    "start_time": "2023-08-07T18:23:21.788Z"
   },
   {
    "duration": 3,
    "start_time": "2023-08-07T18:23:22.305Z"
   },
   {
    "duration": 388,
    "start_time": "2023-08-07T18:23:22.311Z"
   },
   {
    "duration": 160,
    "start_time": "2023-08-07T18:23:22.701Z"
   },
   {
    "duration": 11,
    "start_time": "2023-08-07T18:23:22.863Z"
   },
   {
    "duration": 84,
    "start_time": "2023-08-07T18:23:22.876Z"
   },
   {
    "duration": 78,
    "start_time": "2023-08-07T18:23:22.962Z"
   },
   {
    "duration": 71,
    "start_time": "2023-08-07T18:23:23.042Z"
   },
   {
    "duration": 34,
    "start_time": "2023-08-07T18:23:23.114Z"
   },
   {
    "duration": 70,
    "start_time": "2023-08-07T18:23:23.150Z"
   },
   {
    "duration": 95,
    "start_time": "2023-08-07T18:23:23.222Z"
   },
   {
    "duration": 39,
    "start_time": "2023-08-07T18:23:23.318Z"
   },
   {
    "duration": 50,
    "start_time": "2023-08-07T18:23:23.359Z"
   },
   {
    "duration": 77,
    "start_time": "2023-08-07T18:23:23.411Z"
   },
   {
    "duration": 46,
    "start_time": "2023-08-07T18:23:23.489Z"
   },
   {
    "duration": 308,
    "start_time": "2023-08-07T18:23:23.537Z"
   },
   {
    "duration": 35,
    "start_time": "2023-08-07T18:23:23.847Z"
   },
   {
    "duration": 77,
    "start_time": "2023-08-07T18:23:23.884Z"
   },
   {
    "duration": 20,
    "start_time": "2023-08-07T18:23:23.963Z"
   },
   {
    "duration": 238,
    "start_time": "2023-08-07T18:23:23.985Z"
   },
   {
    "duration": 13,
    "start_time": "2023-08-07T18:23:24.225Z"
   },
   {
    "duration": 25,
    "start_time": "2023-08-07T18:23:33.556Z"
   },
   {
    "duration": 36,
    "start_time": "2023-08-07T18:23:48.223Z"
   },
   {
    "duration": 4,
    "start_time": "2023-08-07T18:23:51.062Z"
   },
   {
    "duration": 4,
    "start_time": "2023-08-07T18:23:53.060Z"
   },
   {
    "duration": 12,
    "start_time": "2023-08-07T18:23:57.591Z"
   },
   {
    "duration": 47,
    "start_time": "2023-08-07T18:24:06.356Z"
   },
   {
    "duration": 4,
    "start_time": "2023-08-07T18:24:08.905Z"
   },
   {
    "duration": 25,
    "start_time": "2023-08-07T18:24:11.459Z"
   },
   {
    "duration": 40,
    "start_time": "2023-08-07T18:24:19.435Z"
   },
   {
    "duration": 5,
    "start_time": "2023-08-07T18:24:22.910Z"
   },
   {
    "duration": 195,
    "start_time": "2023-08-07T18:24:47.337Z"
   },
   {
    "duration": 29,
    "start_time": "2023-08-07T18:25:10.372Z"
   },
   {
    "duration": 56,
    "start_time": "2023-08-07T18:25:23.887Z"
   },
   {
    "duration": 60,
    "start_time": "2023-08-07T18:25:34.484Z"
   },
   {
    "duration": 38,
    "start_time": "2023-08-07T18:25:49.672Z"
   },
   {
    "duration": 5,
    "start_time": "2023-08-07T18:31:23.981Z"
   },
   {
    "duration": 46,
    "start_time": "2023-08-07T18:31:39.022Z"
   },
   {
    "duration": 4,
    "start_time": "2023-08-07T18:35:38.185Z"
   },
   {
    "duration": 131,
    "start_time": "2023-08-07T18:35:49.459Z"
   },
   {
    "duration": 506,
    "start_time": "2023-08-07T18:36:06.481Z"
   },
   {
    "duration": 247,
    "start_time": "2023-08-07T18:36:16.902Z"
   },
   {
    "duration": 226,
    "start_time": "2023-08-07T18:36:23.099Z"
   },
   {
    "duration": 19,
    "start_time": "2023-08-07T18:37:39.369Z"
   },
   {
    "duration": 222,
    "start_time": "2023-08-07T18:38:11.689Z"
   },
   {
    "duration": 305,
    "start_time": "2023-08-07T18:38:24.860Z"
   },
   {
    "duration": 271,
    "start_time": "2023-08-07T18:38:33.096Z"
   },
   {
    "duration": 284,
    "start_time": "2023-08-07T18:39:11.038Z"
   },
   {
    "duration": 288,
    "start_time": "2023-08-07T18:39:21.092Z"
   },
   {
    "duration": 302,
    "start_time": "2023-08-07T18:39:30.229Z"
   },
   {
    "duration": 285,
    "start_time": "2023-08-07T18:45:00.562Z"
   },
   {
    "duration": 146,
    "start_time": "2023-08-07T18:46:10.729Z"
   },
   {
    "duration": 149,
    "start_time": "2023-08-07T18:48:25.161Z"
   },
   {
    "duration": 137,
    "start_time": "2023-08-07T18:48:54.231Z"
   },
   {
    "duration": 288,
    "start_time": "2023-08-07T18:52:53.871Z"
   },
   {
    "duration": 277,
    "start_time": "2023-08-07T18:53:01.898Z"
   },
   {
    "duration": 501,
    "start_time": "2023-08-07T18:53:09.607Z"
   },
   {
    "duration": 431,
    "start_time": "2023-08-07T18:53:18.874Z"
   },
   {
    "duration": 336,
    "start_time": "2023-08-07T18:53:26.775Z"
   },
   {
    "duration": 350,
    "start_time": "2023-08-07T18:53:40.393Z"
   },
   {
    "duration": 357,
    "start_time": "2023-08-07T18:53:49.317Z"
   },
   {
    "duration": 138,
    "start_time": "2023-08-07T18:54:21.914Z"
   },
   {
    "duration": 128,
    "start_time": "2023-08-07T18:54:38.641Z"
   },
   {
    "duration": 123,
    "start_time": "2023-08-07T18:58:11.527Z"
   },
   {
    "duration": 39,
    "start_time": "2023-08-07T19:09:22.212Z"
   },
   {
    "duration": 857,
    "start_time": "2023-08-07T19:10:38.271Z"
   },
   {
    "duration": 901,
    "start_time": "2023-08-07T19:10:48.770Z"
   },
   {
    "duration": 35,
    "start_time": "2023-08-07T19:10:55.884Z"
   },
   {
    "duration": 25,
    "start_time": "2023-08-07T19:11:05.133Z"
   },
   {
    "duration": 24,
    "start_time": "2023-08-07T19:11:15.178Z"
   },
   {
    "duration": 26,
    "start_time": "2023-08-07T19:11:39.085Z"
   },
   {
    "duration": 4,
    "start_time": "2023-08-07T19:12:07.217Z"
   },
   {
    "duration": 804,
    "start_time": "2023-08-07T19:12:07.223Z"
   },
   {
    "duration": 5,
    "start_time": "2023-08-07T19:12:08.029Z"
   },
   {
    "duration": 2304,
    "start_time": "2023-08-07T19:12:08.036Z"
   },
   {
    "duration": 0,
    "start_time": "2023-08-07T19:12:10.343Z"
   },
   {
    "duration": 0,
    "start_time": "2023-08-07T19:12:10.344Z"
   },
   {
    "duration": 0,
    "start_time": "2023-08-07T19:12:10.344Z"
   },
   {
    "duration": 0,
    "start_time": "2023-08-07T19:12:10.345Z"
   },
   {
    "duration": 0,
    "start_time": "2023-08-07T19:12:10.346Z"
   },
   {
    "duration": 0,
    "start_time": "2023-08-07T19:12:10.347Z"
   },
   {
    "duration": 0,
    "start_time": "2023-08-07T19:12:10.348Z"
   },
   {
    "duration": 0,
    "start_time": "2023-08-07T19:12:10.349Z"
   },
   {
    "duration": 0,
    "start_time": "2023-08-07T19:12:10.350Z"
   },
   {
    "duration": 0,
    "start_time": "2023-08-07T19:12:10.351Z"
   },
   {
    "duration": 0,
    "start_time": "2023-08-07T19:12:10.351Z"
   },
   {
    "duration": 0,
    "start_time": "2023-08-07T19:12:10.352Z"
   },
   {
    "duration": 0,
    "start_time": "2023-08-07T19:12:10.353Z"
   },
   {
    "duration": 0,
    "start_time": "2023-08-07T19:12:10.354Z"
   },
   {
    "duration": 0,
    "start_time": "2023-08-07T19:12:10.355Z"
   },
   {
    "duration": 0,
    "start_time": "2023-08-07T19:12:10.356Z"
   },
   {
    "duration": 0,
    "start_time": "2023-08-07T19:12:10.358Z"
   },
   {
    "duration": 0,
    "start_time": "2023-08-07T19:12:10.358Z"
   },
   {
    "duration": 0,
    "start_time": "2023-08-07T19:12:10.359Z"
   },
   {
    "duration": 0,
    "start_time": "2023-08-07T19:12:10.360Z"
   },
   {
    "duration": 0,
    "start_time": "2023-08-07T19:12:10.361Z"
   },
   {
    "duration": 0,
    "start_time": "2023-08-07T19:12:10.362Z"
   },
   {
    "duration": 0,
    "start_time": "2023-08-07T19:12:10.363Z"
   },
   {
    "duration": 0,
    "start_time": "2023-08-07T19:12:10.364Z"
   },
   {
    "duration": 0,
    "start_time": "2023-08-07T19:12:10.366Z"
   },
   {
    "duration": 0,
    "start_time": "2023-08-07T19:12:10.409Z"
   },
   {
    "duration": 0,
    "start_time": "2023-08-07T19:12:10.410Z"
   },
   {
    "duration": 0,
    "start_time": "2023-08-07T19:12:10.411Z"
   },
   {
    "duration": 0,
    "start_time": "2023-08-07T19:12:10.412Z"
   },
   {
    "duration": 0,
    "start_time": "2023-08-07T19:12:10.413Z"
   },
   {
    "duration": 0,
    "start_time": "2023-08-07T19:12:10.414Z"
   },
   {
    "duration": 0,
    "start_time": "2023-08-07T19:12:10.415Z"
   },
   {
    "duration": 0,
    "start_time": "2023-08-07T19:12:10.416Z"
   },
   {
    "duration": 0,
    "start_time": "2023-08-07T19:12:10.417Z"
   },
   {
    "duration": 0,
    "start_time": "2023-08-07T19:12:10.418Z"
   },
   {
    "duration": 0,
    "start_time": "2023-08-07T19:12:10.419Z"
   },
   {
    "duration": 0,
    "start_time": "2023-08-07T19:12:10.421Z"
   },
   {
    "duration": 0,
    "start_time": "2023-08-07T19:12:10.421Z"
   },
   {
    "duration": 0,
    "start_time": "2023-08-07T19:12:10.422Z"
   },
   {
    "duration": 1457,
    "start_time": "2023-08-07T19:12:24.518Z"
   },
   {
    "duration": 887,
    "start_time": "2023-08-07T19:12:25.977Z"
   },
   {
    "duration": 5,
    "start_time": "2023-08-07T19:12:26.866Z"
   },
   {
    "duration": 36309,
    "start_time": "2023-08-07T19:12:26.873Z"
   },
   {
    "duration": 3,
    "start_time": "2023-08-07T19:13:03.184Z"
   },
   {
    "duration": 616,
    "start_time": "2023-08-07T19:13:03.188Z"
   },
   {
    "duration": 483,
    "start_time": "2023-08-07T19:13:03.806Z"
   },
   {
    "duration": 247,
    "start_time": "2023-08-07T19:13:04.291Z"
   },
   {
    "duration": 76,
    "start_time": "2023-08-07T19:13:04.540Z"
   },
   {
    "duration": 19,
    "start_time": "2023-08-07T19:13:04.619Z"
   },
   {
    "duration": 2026,
    "start_time": "2023-08-07T19:13:04.639Z"
   },
   {
    "duration": 533,
    "start_time": "2023-08-07T19:13:06.667Z"
   },
   {
    "duration": 6,
    "start_time": "2023-08-07T19:13:07.202Z"
   },
   {
    "duration": 430,
    "start_time": "2023-08-07T19:13:07.210Z"
   },
   {
    "duration": 172,
    "start_time": "2023-08-07T19:13:07.642Z"
   },
   {
    "duration": 11,
    "start_time": "2023-08-07T19:13:07.816Z"
   },
   {
    "duration": 96,
    "start_time": "2023-08-07T19:13:07.829Z"
   },
   {
    "duration": 70,
    "start_time": "2023-08-07T19:13:07.927Z"
   },
   {
    "duration": 144,
    "start_time": "2023-08-07T19:13:08.009Z"
   },
   {
    "duration": 101,
    "start_time": "2023-08-07T19:13:08.154Z"
   },
   {
    "duration": 163,
    "start_time": "2023-08-07T19:13:08.257Z"
   },
   {
    "duration": 90,
    "start_time": "2023-08-07T19:13:08.422Z"
   },
   {
    "duration": 166,
    "start_time": "2023-08-07T19:13:08.514Z"
   },
   {
    "duration": 69,
    "start_time": "2023-08-07T19:13:08.682Z"
   },
   {
    "duration": 85,
    "start_time": "2023-08-07T19:13:08.753Z"
   },
   {
    "duration": 40,
    "start_time": "2023-08-07T19:13:08.840Z"
   },
   {
    "duration": 315,
    "start_time": "2023-08-07T19:13:08.882Z"
   },
   {
    "duration": 39,
    "start_time": "2023-08-07T19:13:09.200Z"
   },
   {
    "duration": 164,
    "start_time": "2023-08-07T19:13:09.241Z"
   },
   {
    "duration": 38,
    "start_time": "2023-08-07T19:13:09.407Z"
   },
   {
    "duration": 418,
    "start_time": "2023-08-07T19:13:09.447Z"
   },
   {
    "duration": 11,
    "start_time": "2023-08-07T19:13:09.867Z"
   },
   {
    "duration": 185,
    "start_time": "2023-08-07T19:13:09.880Z"
   },
   {
    "duration": 100,
    "start_time": "2023-08-07T19:13:10.067Z"
   },
   {
    "duration": 18,
    "start_time": "2023-08-07T19:13:10.169Z"
   },
   {
    "duration": 163,
    "start_time": "2023-08-07T19:13:10.188Z"
   },
   {
    "duration": 225,
    "start_time": "2023-08-07T19:13:10.353Z"
   },
   {
    "duration": 325,
    "start_time": "2023-08-07T19:13:10.580Z"
   },
   {
    "duration": 22,
    "start_time": "2023-08-07T19:13:10.907Z"
   },
   {
    "duration": 18,
    "start_time": "2023-08-07T19:13:10.931Z"
   },
   {
    "duration": 547,
    "start_time": "2023-08-07T19:13:10.951Z"
   },
   {
    "duration": 139,
    "start_time": "2023-08-07T19:13:11.499Z"
   },
   {
    "duration": 28,
    "start_time": "2023-08-07T19:17:45.356Z"
   },
   {
    "duration": 1384,
    "start_time": "2023-08-07T19:19:26.141Z"
   },
   {
    "duration": 779,
    "start_time": "2023-08-07T19:19:27.527Z"
   },
   {
    "duration": 6,
    "start_time": "2023-08-07T19:19:28.308Z"
   },
   {
    "duration": 36961,
    "start_time": "2023-08-07T19:19:28.315Z"
   },
   {
    "duration": 3,
    "start_time": "2023-08-07T19:20:05.278Z"
   },
   {
    "duration": 594,
    "start_time": "2023-08-07T19:20:05.282Z"
   },
   {
    "duration": 459,
    "start_time": "2023-08-07T19:20:05.878Z"
   },
   {
    "duration": 240,
    "start_time": "2023-08-07T19:20:06.339Z"
   },
   {
    "duration": 81,
    "start_time": "2023-08-07T19:20:06.581Z"
   },
   {
    "duration": 19,
    "start_time": "2023-08-07T19:20:06.664Z"
   },
   {
    "duration": 1924,
    "start_time": "2023-08-07T19:20:06.685Z"
   },
   {
    "duration": 550,
    "start_time": "2023-08-07T19:20:08.611Z"
   },
   {
    "duration": 4,
    "start_time": "2023-08-07T19:20:09.163Z"
   },
   {
    "duration": 424,
    "start_time": "2023-08-07T19:20:09.171Z"
   },
   {
    "duration": 166,
    "start_time": "2023-08-07T19:20:09.597Z"
   },
   {
    "duration": 11,
    "start_time": "2023-08-07T19:20:09.764Z"
   },
   {
    "duration": 46,
    "start_time": "2023-08-07T19:20:09.776Z"
   },
   {
    "duration": 71,
    "start_time": "2023-08-07T19:20:09.824Z"
   },
   {
    "duration": 88,
    "start_time": "2023-08-07T19:20:09.896Z"
   },
   {
    "duration": 50,
    "start_time": "2023-08-07T19:20:09.986Z"
   },
   {
    "duration": 74,
    "start_time": "2023-08-07T19:20:10.037Z"
   },
   {
    "duration": 35,
    "start_time": "2023-08-07T19:20:10.112Z"
   },
   {
    "duration": 35,
    "start_time": "2023-08-07T19:20:10.149Z"
   },
   {
    "duration": 50,
    "start_time": "2023-08-07T19:20:10.186Z"
   },
   {
    "duration": 93,
    "start_time": "2023-08-07T19:20:10.238Z"
   },
   {
    "duration": 40,
    "start_time": "2023-08-07T19:20:10.333Z"
   },
   {
    "duration": 322,
    "start_time": "2023-08-07T19:20:10.374Z"
   },
   {
    "duration": 40,
    "start_time": "2023-08-07T19:20:10.698Z"
   },
   {
    "duration": 76,
    "start_time": "2023-08-07T19:20:10.739Z"
   },
   {
    "duration": 17,
    "start_time": "2023-08-07T19:20:10.817Z"
   },
   {
    "duration": 226,
    "start_time": "2023-08-07T19:20:10.835Z"
   },
   {
    "duration": 11,
    "start_time": "2023-08-07T19:20:11.063Z"
   },
   {
    "duration": 54,
    "start_time": "2023-08-07T19:20:11.076Z"
   },
   {
    "duration": 32,
    "start_time": "2023-08-07T19:20:11.132Z"
   },
   {
    "duration": 4,
    "start_time": "2023-08-07T19:20:11.166Z"
   },
   {
    "duration": 45,
    "start_time": "2023-08-07T19:20:11.171Z"
   },
   {
    "duration": 4,
    "start_time": "2023-08-07T19:20:11.218Z"
   },
   {
    "duration": 222,
    "start_time": "2023-08-07T19:20:11.223Z"
   },
   {
    "duration": 26,
    "start_time": "2023-08-07T19:20:35.375Z"
   },
   {
    "duration": 17,
    "start_time": "2023-08-07T19:20:39.569Z"
   },
   {
    "duration": 28,
    "start_time": "2023-08-07T19:20:47.059Z"
   },
   {
    "duration": 39,
    "start_time": "2023-08-07T19:20:58.958Z"
   },
   {
    "duration": 26,
    "start_time": "2023-08-07T19:21:03.795Z"
   },
   {
    "duration": 150,
    "start_time": "2023-08-07T19:21:08.491Z"
   },
   {
    "duration": 1355,
    "start_time": "2023-08-07T19:21:24.359Z"
   },
   {
    "duration": 911,
    "start_time": "2023-08-07T19:21:25.716Z"
   },
   {
    "duration": 5,
    "start_time": "2023-08-07T19:21:26.629Z"
   },
   {
    "duration": 36874,
    "start_time": "2023-08-07T19:21:26.636Z"
   },
   {
    "duration": 3,
    "start_time": "2023-08-07T19:22:03.513Z"
   },
   {
    "duration": 618,
    "start_time": "2023-08-07T19:22:03.518Z"
   },
   {
    "duration": 442,
    "start_time": "2023-08-07T19:22:04.137Z"
   },
   {
    "duration": 236,
    "start_time": "2023-08-07T19:22:04.580Z"
   },
   {
    "duration": 78,
    "start_time": "2023-08-07T19:22:04.818Z"
   },
   {
    "duration": 21,
    "start_time": "2023-08-07T19:22:04.908Z"
   },
   {
    "duration": 1982,
    "start_time": "2023-08-07T19:22:04.931Z"
   },
   {
    "duration": 599,
    "start_time": "2023-08-07T19:22:06.915Z"
   },
   {
    "duration": 3,
    "start_time": "2023-08-07T19:22:07.516Z"
   },
   {
    "duration": 420,
    "start_time": "2023-08-07T19:22:07.523Z"
   },
   {
    "duration": 186,
    "start_time": "2023-08-07T19:22:07.945Z"
   },
   {
    "duration": 11,
    "start_time": "2023-08-07T19:22:08.134Z"
   },
   {
    "duration": 33,
    "start_time": "2023-08-07T19:22:08.147Z"
   },
   {
    "duration": 88,
    "start_time": "2023-08-07T19:22:08.182Z"
   },
   {
    "duration": 85,
    "start_time": "2023-08-07T19:22:08.271Z"
   },
   {
    "duration": 35,
    "start_time": "2023-08-07T19:22:08.358Z"
   },
   {
    "duration": 122,
    "start_time": "2023-08-07T19:22:08.394Z"
   },
   {
    "duration": 37,
    "start_time": "2023-08-07T19:22:08.518Z"
   },
   {
    "duration": 52,
    "start_time": "2023-08-07T19:22:08.557Z"
   },
   {
    "duration": 38,
    "start_time": "2023-08-07T19:22:08.611Z"
   },
   {
    "duration": 97,
    "start_time": "2023-08-07T19:22:08.651Z"
   },
   {
    "duration": 42,
    "start_time": "2023-08-07T19:22:08.750Z"
   },
   {
    "duration": 329,
    "start_time": "2023-08-07T19:22:08.808Z"
   },
   {
    "duration": 41,
    "start_time": "2023-08-07T19:22:09.139Z"
   },
   {
    "duration": 86,
    "start_time": "2023-08-07T19:22:09.183Z"
   },
   {
    "duration": 18,
    "start_time": "2023-08-07T19:22:09.271Z"
   },
   {
    "duration": 253,
    "start_time": "2023-08-07T19:22:09.291Z"
   },
   {
    "duration": 11,
    "start_time": "2023-08-07T19:22:09.545Z"
   },
   {
    "duration": 50,
    "start_time": "2023-08-07T19:22:09.558Z"
   },
   {
    "duration": 35,
    "start_time": "2023-08-07T19:22:09.610Z"
   },
   {
    "duration": 5,
    "start_time": "2023-08-07T19:22:09.646Z"
   },
   {
    "duration": 41,
    "start_time": "2023-08-07T19:22:09.652Z"
   },
   {
    "duration": 15,
    "start_time": "2023-08-07T19:22:09.695Z"
   },
   {
    "duration": 217,
    "start_time": "2023-08-07T19:22:09.711Z"
   },
   {
    "duration": 23,
    "start_time": "2023-08-07T19:22:09.930Z"
   },
   {
    "duration": 17,
    "start_time": "2023-08-07T19:22:23.582Z"
   },
   {
    "duration": 25,
    "start_time": "2023-08-07T19:22:26.260Z"
   },
   {
    "duration": 40,
    "start_time": "2023-08-07T19:22:48.502Z"
   },
   {
    "duration": 26,
    "start_time": "2023-08-07T19:22:50.940Z"
   },
   {
    "duration": 1377,
    "start_time": "2023-08-07T19:23:10.694Z"
   },
   {
    "duration": 777,
    "start_time": "2023-08-07T19:23:12.073Z"
   },
   {
    "duration": 5,
    "start_time": "2023-08-07T19:23:12.852Z"
   },
   {
    "duration": 35574,
    "start_time": "2023-08-07T19:23:12.859Z"
   },
   {
    "duration": 3,
    "start_time": "2023-08-07T19:23:48.435Z"
   },
   {
    "duration": 586,
    "start_time": "2023-08-07T19:23:48.439Z"
   },
   {
    "duration": 483,
    "start_time": "2023-08-07T19:23:49.027Z"
   },
   {
    "duration": 247,
    "start_time": "2023-08-07T19:23:49.512Z"
   },
   {
    "duration": 78,
    "start_time": "2023-08-07T19:23:49.761Z"
   },
   {
    "duration": 19,
    "start_time": "2023-08-07T19:23:49.841Z"
   },
   {
    "duration": 1933,
    "start_time": "2023-08-07T19:23:49.861Z"
   },
   {
    "duration": 510,
    "start_time": "2023-08-07T19:23:51.796Z"
   },
   {
    "duration": 2,
    "start_time": "2023-08-07T19:23:52.308Z"
   },
   {
    "duration": 367,
    "start_time": "2023-08-07T19:23:52.312Z"
   },
   {
    "duration": 165,
    "start_time": "2023-08-07T19:23:52.681Z"
   },
   {
    "duration": 10,
    "start_time": "2023-08-07T19:23:52.848Z"
   },
   {
    "duration": 55,
    "start_time": "2023-08-07T19:23:52.860Z"
   },
   {
    "duration": 214,
    "start_time": "2023-08-07T19:23:52.917Z"
   },
   {
    "duration": 88,
    "start_time": "2023-08-07T19:23:53.133Z"
   },
   {
    "duration": 34,
    "start_time": "2023-08-07T19:23:53.223Z"
   },
   {
    "duration": 67,
    "start_time": "2023-08-07T19:23:53.259Z"
   },
   {
    "duration": 73,
    "start_time": "2023-08-07T19:23:53.328Z"
   },
   {
    "duration": 66,
    "start_time": "2023-08-07T19:23:53.403Z"
   },
   {
    "duration": 67,
    "start_time": "2023-08-07T19:23:53.471Z"
   },
   {
    "duration": 146,
    "start_time": "2023-08-07T19:23:53.540Z"
   },
   {
    "duration": 43,
    "start_time": "2023-08-07T19:23:53.687Z"
   },
   {
    "duration": 350,
    "start_time": "2023-08-07T19:23:53.732Z"
   },
   {
    "duration": 43,
    "start_time": "2023-08-07T19:23:54.083Z"
   },
   {
    "duration": 65,
    "start_time": "2023-08-07T19:23:54.127Z"
   },
   {
    "duration": 30,
    "start_time": "2023-08-07T19:23:54.194Z"
   },
   {
    "duration": 219,
    "start_time": "2023-08-07T19:23:54.225Z"
   },
   {
    "duration": 13,
    "start_time": "2023-08-07T19:23:54.446Z"
   },
   {
    "duration": 81,
    "start_time": "2023-08-07T19:23:54.460Z"
   },
   {
    "duration": 39,
    "start_time": "2023-08-07T19:23:54.543Z"
   },
   {
    "duration": 3,
    "start_time": "2023-08-07T19:23:54.584Z"
   },
   {
    "duration": 50,
    "start_time": "2023-08-07T19:23:54.589Z"
   },
   {
    "duration": 4,
    "start_time": "2023-08-07T19:23:54.640Z"
   },
   {
    "duration": 224,
    "start_time": "2023-08-07T19:23:54.645Z"
   },
   {
    "duration": 24,
    "start_time": "2023-08-07T19:23:54.871Z"
   },
   {
    "duration": 16,
    "start_time": "2023-08-07T19:24:13.363Z"
   },
   {
    "duration": 24,
    "start_time": "2023-08-07T19:24:16.184Z"
   },
   {
    "duration": 18,
    "start_time": "2023-08-07T19:25:14.718Z"
   },
   {
    "duration": 489,
    "start_time": "2023-08-07T19:25:17.291Z"
   },
   {
    "duration": 124,
    "start_time": "2023-08-07T19:25:22.359Z"
   },
   {
    "duration": 25,
    "start_time": "2023-08-07T19:28:00.915Z"
   },
   {
    "duration": 105,
    "start_time": "2023-08-07T19:32:06.589Z"
   },
   {
    "duration": 132,
    "start_time": "2023-08-07T19:32:22.011Z"
   },
   {
    "duration": 4,
    "start_time": "2023-08-07T19:34:43.237Z"
   },
   {
    "duration": 4,
    "start_time": "2023-08-07T19:55:47.095Z"
   },
   {
    "duration": 15,
    "start_time": "2023-08-07T19:57:13.693Z"
   },
   {
    "duration": 27,
    "start_time": "2023-08-07T19:57:15.352Z"
   },
   {
    "duration": 64,
    "start_time": "2023-08-07T19:58:58.369Z"
   },
   {
    "duration": 39,
    "start_time": "2023-08-07T20:02:16.642Z"
   },
   {
    "duration": 6,
    "start_time": "2023-08-07T20:07:37.698Z"
   },
   {
    "duration": 16,
    "start_time": "2023-08-07T20:09:43.359Z"
   },
   {
    "duration": 16,
    "start_time": "2023-08-07T20:09:47.199Z"
   },
   {
    "duration": 6,
    "start_time": "2023-08-07T20:09:55.657Z"
   },
   {
    "duration": 145,
    "start_time": "2023-08-07T20:23:57.351Z"
   },
   {
    "duration": 5,
    "start_time": "2023-08-07T20:24:29.314Z"
   },
   {
    "duration": 106,
    "start_time": "2023-08-07T20:24:35.242Z"
   },
   {
    "duration": 34,
    "start_time": "2023-08-07T20:24:38.529Z"
   },
   {
    "duration": 168,
    "start_time": "2023-08-07T20:45:15.434Z"
   },
   {
    "duration": 20,
    "start_time": "2023-08-07T20:45:17.626Z"
   },
   {
    "duration": 26,
    "start_time": "2023-08-07T20:45:58.127Z"
   },
   {
    "duration": 166,
    "start_time": "2023-08-07T20:46:47.355Z"
   },
   {
    "duration": 22,
    "start_time": "2023-08-07T20:46:50.201Z"
   },
   {
    "duration": 1505,
    "start_time": "2023-08-07T20:47:15.255Z"
   },
   {
    "duration": 874,
    "start_time": "2023-08-07T20:47:16.762Z"
   },
   {
    "duration": 7,
    "start_time": "2023-08-07T20:47:17.639Z"
   },
   {
    "duration": 39319,
    "start_time": "2023-08-07T20:47:17.648Z"
   },
   {
    "duration": 4,
    "start_time": "2023-08-07T20:47:56.968Z"
   },
   {
    "duration": 605,
    "start_time": "2023-08-07T20:47:56.973Z"
   },
   {
    "duration": 462,
    "start_time": "2023-08-07T20:47:57.579Z"
   },
   {
    "duration": 240,
    "start_time": "2023-08-07T20:47:58.043Z"
   },
   {
    "duration": 93,
    "start_time": "2023-08-07T20:47:58.285Z"
   },
   {
    "duration": 36,
    "start_time": "2023-08-07T20:47:58.381Z"
   },
   {
    "duration": 1998,
    "start_time": "2023-08-07T20:47:58.419Z"
   },
   {
    "duration": 566,
    "start_time": "2023-08-07T20:48:00.419Z"
   },
   {
    "duration": 2,
    "start_time": "2023-08-07T20:48:00.987Z"
   },
   {
    "duration": 467,
    "start_time": "2023-08-07T20:48:00.990Z"
   },
   {
    "duration": 188,
    "start_time": "2023-08-07T20:48:01.459Z"
   },
   {
    "duration": 11,
    "start_time": "2023-08-07T20:48:01.649Z"
   },
   {
    "duration": 59,
    "start_time": "2023-08-07T20:48:01.662Z"
   },
   {
    "duration": 74,
    "start_time": "2023-08-07T20:48:01.725Z"
   },
   {
    "duration": 89,
    "start_time": "2023-08-07T20:48:01.801Z"
   },
   {
    "duration": 46,
    "start_time": "2023-08-07T20:48:01.892Z"
   },
   {
    "duration": 66,
    "start_time": "2023-08-07T20:48:01.939Z"
   },
   {
    "duration": 48,
    "start_time": "2023-08-07T20:48:02.011Z"
   },
   {
    "duration": 35,
    "start_time": "2023-08-07T20:48:02.061Z"
   },
   {
    "duration": 63,
    "start_time": "2023-08-07T20:48:02.110Z"
   },
   {
    "duration": 97,
    "start_time": "2023-08-07T20:48:02.174Z"
   },
   {
    "duration": 48,
    "start_time": "2023-08-07T20:48:02.272Z"
   },
   {
    "duration": 376,
    "start_time": "2023-08-07T20:48:02.322Z"
   },
   {
    "duration": 49,
    "start_time": "2023-08-07T20:48:02.702Z"
   },
   {
    "duration": 92,
    "start_time": "2023-08-07T20:48:02.753Z"
   },
   {
    "duration": 17,
    "start_time": "2023-08-07T20:48:02.847Z"
   },
   {
    "duration": 238,
    "start_time": "2023-08-07T20:48:02.866Z"
   },
   {
    "duration": 18,
    "start_time": "2023-08-07T20:48:03.113Z"
   },
   {
    "duration": 54,
    "start_time": "2023-08-07T20:48:03.133Z"
   },
   {
    "duration": 40,
    "start_time": "2023-08-07T20:48:03.189Z"
   },
   {
    "duration": 13,
    "start_time": "2023-08-07T20:48:03.231Z"
   },
   {
    "duration": 36,
    "start_time": "2023-08-07T20:48:03.246Z"
   },
   {
    "duration": 4,
    "start_time": "2023-08-07T20:48:03.284Z"
   },
   {
    "duration": 380,
    "start_time": "2023-08-07T20:48:03.290Z"
   },
   {
    "duration": 18,
    "start_time": "2023-08-07T20:48:03.671Z"
   },
   {
    "duration": 39,
    "start_time": "2023-08-07T20:48:03.691Z"
   },
   {
    "duration": 413,
    "start_time": "2023-08-07T20:48:03.731Z"
   },
   {
    "duration": 145,
    "start_time": "2023-08-07T20:48:04.146Z"
   },
   {
    "duration": 39,
    "start_time": "2023-08-07T20:48:04.293Z"
   },
   {
    "duration": 118,
    "start_time": "2023-08-07T20:48:04.334Z"
   },
   {
    "duration": 144,
    "start_time": "2023-08-07T20:48:04.454Z"
   },
   {
    "duration": 34,
    "start_time": "2023-08-07T20:48:04.600Z"
   },
   {
    "duration": 17,
    "start_time": "2023-08-07T20:48:04.636Z"
   },
   {
    "duration": 96,
    "start_time": "2023-08-07T20:48:04.655Z"
   },
   {
    "duration": 32,
    "start_time": "2023-08-07T20:48:04.753Z"
   },
   {
    "duration": 139,
    "start_time": "2023-08-07T20:48:23.531Z"
   },
   {
    "duration": 23,
    "start_time": "2023-08-07T20:48:25.520Z"
   },
   {
    "duration": 22,
    "start_time": "2023-08-07T20:48:33.532Z"
   },
   {
    "duration": 20,
    "start_time": "2023-08-07T20:48:41.725Z"
   },
   {
    "duration": 310,
    "start_time": "2023-08-07T21:06:44.306Z"
   },
   {
    "duration": 19,
    "start_time": "2023-08-07T21:11:21.705Z"
   },
   {
    "duration": 11,
    "start_time": "2023-08-07T21:11:43.225Z"
   },
   {
    "duration": 4,
    "start_time": "2023-08-07T21:13:04.172Z"
   },
   {
    "duration": 3245,
    "start_time": "2023-08-07T21:13:09.638Z"
   },
   {
    "duration": 1605,
    "start_time": "2023-08-07T21:14:03.531Z"
   },
   {
    "duration": 85,
    "start_time": "2023-08-07T21:14:10.805Z"
   },
   {
    "duration": 1706,
    "start_time": "2023-08-07T21:14:34.747Z"
   },
   {
    "duration": 904,
    "start_time": "2023-08-07T21:14:36.456Z"
   },
   {
    "duration": 6,
    "start_time": "2023-08-07T21:14:37.362Z"
   },
   {
    "duration": 41376,
    "start_time": "2023-08-07T21:14:37.370Z"
   },
   {
    "duration": 3,
    "start_time": "2023-08-07T21:15:18.748Z"
   },
   {
    "duration": 741,
    "start_time": "2023-08-07T21:15:18.753Z"
   },
   {
    "duration": 500,
    "start_time": "2023-08-07T21:15:19.496Z"
   },
   {
    "duration": 319,
    "start_time": "2023-08-07T21:15:19.998Z"
   },
   {
    "duration": 115,
    "start_time": "2023-08-07T21:15:20.322Z"
   },
   {
    "duration": 26,
    "start_time": "2023-08-07T21:15:20.440Z"
   },
   {
    "duration": 2233,
    "start_time": "2023-08-07T21:15:20.468Z"
   },
   {
    "duration": 584,
    "start_time": "2023-08-07T21:15:22.703Z"
   },
   {
    "duration": 4,
    "start_time": "2023-08-07T21:15:23.290Z"
   },
   {
    "duration": 520,
    "start_time": "2023-08-07T21:15:23.297Z"
   },
   {
    "duration": 166,
    "start_time": "2023-08-07T21:15:23.825Z"
   },
   {
    "duration": 29,
    "start_time": "2023-08-07T21:15:23.994Z"
   },
   {
    "duration": 35,
    "start_time": "2023-08-07T21:15:24.029Z"
   },
   {
    "duration": 82,
    "start_time": "2023-08-07T21:15:24.066Z"
   },
   {
    "duration": 79,
    "start_time": "2023-08-07T21:15:24.150Z"
   },
   {
    "duration": 34,
    "start_time": "2023-08-07T21:15:24.231Z"
   },
   {
    "duration": 146,
    "start_time": "2023-08-07T21:15:24.267Z"
   },
   {
    "duration": 49,
    "start_time": "2023-08-07T21:15:24.417Z"
   },
   {
    "duration": 36,
    "start_time": "2023-08-07T21:15:24.467Z"
   },
   {
    "duration": 83,
    "start_time": "2023-08-07T21:15:24.505Z"
   },
   {
    "duration": 91,
    "start_time": "2023-08-07T21:15:24.590Z"
   },
   {
    "duration": 46,
    "start_time": "2023-08-07T21:15:24.682Z"
   },
   {
    "duration": 412,
    "start_time": "2023-08-07T21:15:24.730Z"
   },
   {
    "duration": 40,
    "start_time": "2023-08-07T21:15:25.146Z"
   },
   {
    "duration": 103,
    "start_time": "2023-08-07T21:15:25.188Z"
   },
   {
    "duration": 31,
    "start_time": "2023-08-07T21:15:25.293Z"
   },
   {
    "duration": 378,
    "start_time": "2023-08-07T21:15:25.326Z"
   },
   {
    "duration": 22,
    "start_time": "2023-08-07T21:15:25.708Z"
   },
   {
    "duration": 71,
    "start_time": "2023-08-07T21:15:25.732Z"
   },
   {
    "duration": 78,
    "start_time": "2023-08-07T21:15:25.805Z"
   },
   {
    "duration": 5,
    "start_time": "2023-08-07T21:15:25.886Z"
   },
   {
    "duration": 85,
    "start_time": "2023-08-07T21:15:25.894Z"
   },
   {
    "duration": 5,
    "start_time": "2023-08-07T21:15:25.981Z"
   },
   {
    "duration": 294,
    "start_time": "2023-08-07T21:15:25.988Z"
   },
   {
    "duration": 39,
    "start_time": "2023-08-07T21:15:26.285Z"
   },
   {
    "duration": 19,
    "start_time": "2023-08-07T21:15:26.326Z"
   },
   {
    "duration": 432,
    "start_time": "2023-08-07T21:15:26.347Z"
   },
   {
    "duration": 165,
    "start_time": "2023-08-07T21:15:26.781Z"
   },
   {
    "duration": 29,
    "start_time": "2023-08-07T21:15:26.948Z"
   },
   {
    "duration": 224,
    "start_time": "2023-08-07T21:15:26.978Z"
   },
   {
    "duration": 168,
    "start_time": "2023-08-07T21:15:27.204Z"
   },
   {
    "duration": 17,
    "start_time": "2023-08-07T21:15:27.374Z"
   },
   {
    "duration": 37,
    "start_time": "2023-08-07T21:15:27.393Z"
   },
   {
    "duration": 118,
    "start_time": "2023-08-07T21:15:27.432Z"
   },
   {
    "duration": 38,
    "start_time": "2023-08-07T21:15:27.552Z"
   },
   {
    "duration": 156,
    "start_time": "2023-08-07T21:20:24.284Z"
   },
   {
    "duration": 135,
    "start_time": "2023-08-07T21:20:26.654Z"
   },
   {
    "duration": 561,
    "start_time": "2023-08-07T21:22:09.702Z"
   },
   {
    "duration": 21,
    "start_time": "2023-08-07T21:22:18.740Z"
   },
   {
    "duration": 413,
    "start_time": "2023-08-07T21:26:16.824Z"
   },
   {
    "duration": 3,
    "start_time": "2023-08-07T21:27:11.485Z"
   },
   {
    "duration": 383,
    "start_time": "2023-08-07T21:28:03.989Z"
   },
   {
    "duration": 215,
    "start_time": "2023-08-07T21:34:21.289Z"
   },
   {
    "duration": 6,
    "start_time": "2023-08-07T21:47:36.441Z"
   },
   {
    "duration": 11,
    "start_time": "2023-08-07T21:47:45.635Z"
   },
   {
    "duration": 204,
    "start_time": "2023-08-07T21:51:07.596Z"
   },
   {
    "duration": 13,
    "start_time": "2023-08-07T21:57:06.278Z"
   },
   {
    "duration": 305,
    "start_time": "2023-08-07T21:57:17.939Z"
   },
   {
    "duration": 19,
    "start_time": "2023-08-07T22:01:27.023Z"
   },
   {
    "duration": 234,
    "start_time": "2023-08-07T22:01:40.939Z"
   },
   {
    "duration": 2122,
    "start_time": "2023-08-08T12:15:01.797Z"
   },
   {
    "duration": 0,
    "start_time": "2023-08-08T12:15:03.923Z"
   },
   {
    "duration": 0,
    "start_time": "2023-08-08T12:15:03.925Z"
   },
   {
    "duration": 0,
    "start_time": "2023-08-08T12:15:03.926Z"
   },
   {
    "duration": 0,
    "start_time": "2023-08-08T12:15:03.928Z"
   },
   {
    "duration": 0,
    "start_time": "2023-08-08T12:15:03.930Z"
   },
   {
    "duration": 0,
    "start_time": "2023-08-08T12:15:03.931Z"
   },
   {
    "duration": 0,
    "start_time": "2023-08-08T12:15:03.933Z"
   },
   {
    "duration": 0,
    "start_time": "2023-08-08T12:15:03.935Z"
   },
   {
    "duration": 0,
    "start_time": "2023-08-08T12:15:03.937Z"
   },
   {
    "duration": 0,
    "start_time": "2023-08-08T12:15:03.938Z"
   },
   {
    "duration": 0,
    "start_time": "2023-08-08T12:15:03.939Z"
   },
   {
    "duration": 0,
    "start_time": "2023-08-08T12:15:03.941Z"
   },
   {
    "duration": 0,
    "start_time": "2023-08-08T12:15:03.942Z"
   },
   {
    "duration": 0,
    "start_time": "2023-08-08T12:15:03.944Z"
   },
   {
    "duration": 0,
    "start_time": "2023-08-08T12:15:03.945Z"
   },
   {
    "duration": 0,
    "start_time": "2023-08-08T12:15:03.947Z"
   },
   {
    "duration": 0,
    "start_time": "2023-08-08T12:15:03.949Z"
   },
   {
    "duration": 0,
    "start_time": "2023-08-08T12:15:03.950Z"
   },
   {
    "duration": 0,
    "start_time": "2023-08-08T12:15:03.952Z"
   },
   {
    "duration": 0,
    "start_time": "2023-08-08T12:15:03.953Z"
   },
   {
    "duration": 0,
    "start_time": "2023-08-08T12:15:03.954Z"
   },
   {
    "duration": 0,
    "start_time": "2023-08-08T12:15:03.956Z"
   },
   {
    "duration": 0,
    "start_time": "2023-08-08T12:15:03.957Z"
   },
   {
    "duration": 0,
    "start_time": "2023-08-08T12:15:03.958Z"
   },
   {
    "duration": 0,
    "start_time": "2023-08-08T12:15:03.959Z"
   },
   {
    "duration": 0,
    "start_time": "2023-08-08T12:15:03.973Z"
   },
   {
    "duration": 0,
    "start_time": "2023-08-08T12:15:03.973Z"
   },
   {
    "duration": 0,
    "start_time": "2023-08-08T12:15:03.974Z"
   },
   {
    "duration": 0,
    "start_time": "2023-08-08T12:15:03.975Z"
   },
   {
    "duration": 0,
    "start_time": "2023-08-08T12:15:03.976Z"
   },
   {
    "duration": 0,
    "start_time": "2023-08-08T12:15:03.977Z"
   },
   {
    "duration": 0,
    "start_time": "2023-08-08T12:15:03.978Z"
   },
   {
    "duration": 0,
    "start_time": "2023-08-08T12:15:03.978Z"
   },
   {
    "duration": 0,
    "start_time": "2023-08-08T12:15:03.979Z"
   },
   {
    "duration": 0,
    "start_time": "2023-08-08T12:15:03.980Z"
   },
   {
    "duration": 0,
    "start_time": "2023-08-08T12:15:03.981Z"
   },
   {
    "duration": 0,
    "start_time": "2023-08-08T12:15:03.982Z"
   },
   {
    "duration": 0,
    "start_time": "2023-08-08T12:15:03.984Z"
   },
   {
    "duration": 0,
    "start_time": "2023-08-08T12:15:03.985Z"
   },
   {
    "duration": 0,
    "start_time": "2023-08-08T12:15:03.986Z"
   },
   {
    "duration": 0,
    "start_time": "2023-08-08T12:15:03.987Z"
   },
   {
    "duration": 0,
    "start_time": "2023-08-08T12:15:03.988Z"
   },
   {
    "duration": 0,
    "start_time": "2023-08-08T12:15:03.990Z"
   },
   {
    "duration": 0,
    "start_time": "2023-08-08T12:15:03.991Z"
   },
   {
    "duration": 0,
    "start_time": "2023-08-08T12:15:03.992Z"
   },
   {
    "duration": 0,
    "start_time": "2023-08-08T12:15:03.997Z"
   },
   {
    "duration": 0,
    "start_time": "2023-08-08T12:15:04.003Z"
   },
   {
    "duration": 0,
    "start_time": "2023-08-08T12:15:04.004Z"
   },
   {
    "duration": 0,
    "start_time": "2023-08-08T12:15:04.005Z"
   },
   {
    "duration": 0,
    "start_time": "2023-08-08T12:15:04.007Z"
   },
   {
    "duration": 0,
    "start_time": "2023-08-08T12:15:04.008Z"
   },
   {
    "duration": 13,
    "start_time": "2023-08-08T12:18:13.316Z"
   },
   {
    "duration": 0,
    "start_time": "2023-08-08T12:18:13.331Z"
   },
   {
    "duration": 0,
    "start_time": "2023-08-08T12:18:13.332Z"
   },
   {
    "duration": 0,
    "start_time": "2023-08-08T12:18:13.334Z"
   },
   {
    "duration": 0,
    "start_time": "2023-08-08T12:18:13.336Z"
   },
   {
    "duration": 0,
    "start_time": "2023-08-08T12:18:13.337Z"
   },
   {
    "duration": 0,
    "start_time": "2023-08-08T12:18:13.339Z"
   },
   {
    "duration": 13,
    "start_time": "2023-08-08T12:18:13.348Z"
   },
   {
    "duration": 0,
    "start_time": "2023-08-08T12:18:13.363Z"
   },
   {
    "duration": 0,
    "start_time": "2023-08-08T12:18:13.364Z"
   },
   {
    "duration": 0,
    "start_time": "2023-08-08T12:18:13.368Z"
   },
   {
    "duration": 0,
    "start_time": "2023-08-08T12:18:13.376Z"
   },
   {
    "duration": 0,
    "start_time": "2023-08-08T12:18:13.379Z"
   },
   {
    "duration": 0,
    "start_time": "2023-08-08T12:18:13.380Z"
   },
   {
    "duration": 0,
    "start_time": "2023-08-08T12:18:13.381Z"
   },
   {
    "duration": 0,
    "start_time": "2023-08-08T12:18:13.382Z"
   },
   {
    "duration": 15,
    "start_time": "2023-08-08T12:18:13.401Z"
   },
   {
    "duration": 0,
    "start_time": "2023-08-08T12:18:13.420Z"
   },
   {
    "duration": 0,
    "start_time": "2023-08-08T12:18:13.421Z"
   },
   {
    "duration": 0,
    "start_time": "2023-08-08T12:18:13.423Z"
   },
   {
    "duration": 0,
    "start_time": "2023-08-08T12:18:13.424Z"
   },
   {
    "duration": 0,
    "start_time": "2023-08-08T12:18:13.426Z"
   },
   {
    "duration": 0,
    "start_time": "2023-08-08T12:18:13.428Z"
   },
   {
    "duration": 0,
    "start_time": "2023-08-08T12:18:13.429Z"
   },
   {
    "duration": 0,
    "start_time": "2023-08-08T12:18:13.431Z"
   },
   {
    "duration": 0,
    "start_time": "2023-08-08T12:18:13.432Z"
   },
   {
    "duration": 0,
    "start_time": "2023-08-08T12:18:13.434Z"
   },
   {
    "duration": 1,
    "start_time": "2023-08-08T12:18:13.468Z"
   },
   {
    "duration": 0,
    "start_time": "2023-08-08T12:18:13.469Z"
   },
   {
    "duration": 0,
    "start_time": "2023-08-08T12:18:13.472Z"
   },
   {
    "duration": 0,
    "start_time": "2023-08-08T12:18:13.477Z"
   },
   {
    "duration": 19,
    "start_time": "2023-08-08T12:18:13.485Z"
   },
   {
    "duration": 0,
    "start_time": "2023-08-08T12:18:13.506Z"
   },
   {
    "duration": 0,
    "start_time": "2023-08-08T12:18:13.507Z"
   },
   {
    "duration": 0,
    "start_time": "2023-08-08T12:18:13.509Z"
   },
   {
    "duration": 0,
    "start_time": "2023-08-08T12:18:13.511Z"
   },
   {
    "duration": 0,
    "start_time": "2023-08-08T12:18:13.512Z"
   },
   {
    "duration": 0,
    "start_time": "2023-08-08T12:18:13.514Z"
   },
   {
    "duration": 0,
    "start_time": "2023-08-08T12:18:13.515Z"
   },
   {
    "duration": 0,
    "start_time": "2023-08-08T12:18:13.517Z"
   },
   {
    "duration": 0,
    "start_time": "2023-08-08T12:18:13.518Z"
   },
   {
    "duration": 0,
    "start_time": "2023-08-08T12:18:13.519Z"
   },
   {
    "duration": 0,
    "start_time": "2023-08-08T12:18:13.520Z"
   },
   {
    "duration": 0,
    "start_time": "2023-08-08T12:18:13.572Z"
   },
   {
    "duration": 0,
    "start_time": "2023-08-08T12:18:13.573Z"
   },
   {
    "duration": 0,
    "start_time": "2023-08-08T12:18:13.578Z"
   },
   {
    "duration": 0,
    "start_time": "2023-08-08T12:18:13.580Z"
   },
   {
    "duration": 0,
    "start_time": "2023-08-08T12:18:13.581Z"
   },
   {
    "duration": 0,
    "start_time": "2023-08-08T12:18:13.582Z"
   },
   {
    "duration": 0,
    "start_time": "2023-08-08T12:18:13.589Z"
   },
   {
    "duration": 0,
    "start_time": "2023-08-08T12:18:13.590Z"
   },
   {
    "duration": 1771,
    "start_time": "2023-08-08T12:18:28.872Z"
   },
   {
    "duration": 3441,
    "start_time": "2023-08-08T12:19:02.484Z"
   },
   {
    "duration": 1828,
    "start_time": "2023-08-08T12:19:22.056Z"
   },
   {
    "duration": 7,
    "start_time": "2023-08-08T12:19:38.060Z"
   },
   {
    "duration": 1731,
    "start_time": "2023-08-08T12:19:38.070Z"
   },
   {
    "duration": 3294,
    "start_time": "2023-08-08T12:19:39.803Z"
   },
   {
    "duration": 10,
    "start_time": "2023-08-08T12:19:43.101Z"
   },
   {
    "duration": 44706,
    "start_time": "2023-08-08T12:19:43.114Z"
   },
   {
    "duration": 4,
    "start_time": "2023-08-08T12:20:27.822Z"
   },
   {
    "duration": 675,
    "start_time": "2023-08-08T12:20:27.828Z"
   },
   {
    "duration": 538,
    "start_time": "2023-08-08T12:20:28.505Z"
   },
   {
    "duration": 303,
    "start_time": "2023-08-08T12:20:29.045Z"
   },
   {
    "duration": 99,
    "start_time": "2023-08-08T12:20:29.352Z"
   },
   {
    "duration": 41,
    "start_time": "2023-08-08T12:20:29.453Z"
   },
   {
    "duration": 2215,
    "start_time": "2023-08-08T12:20:29.498Z"
   },
   {
    "duration": 616,
    "start_time": "2023-08-08T12:20:31.716Z"
   },
   {
    "duration": 4,
    "start_time": "2023-08-08T12:20:32.336Z"
   },
   {
    "duration": 498,
    "start_time": "2023-08-08T12:20:32.343Z"
   },
   {
    "duration": 232,
    "start_time": "2023-08-08T12:20:32.844Z"
   },
   {
    "duration": 11,
    "start_time": "2023-08-08T12:20:33.081Z"
   },
   {
    "duration": 355,
    "start_time": "2023-08-08T12:20:33.094Z"
   },
   {
    "duration": 93,
    "start_time": "2023-08-08T12:20:33.452Z"
   },
   {
    "duration": 88,
    "start_time": "2023-08-08T12:20:33.547Z"
   },
   {
    "duration": 61,
    "start_time": "2023-08-08T12:20:33.637Z"
   },
   {
    "duration": 75,
    "start_time": "2023-08-08T12:20:33.700Z"
   },
   {
    "duration": 61,
    "start_time": "2023-08-08T12:20:33.777Z"
   },
   {
    "duration": 61,
    "start_time": "2023-08-08T12:20:33.840Z"
   },
   {
    "duration": 113,
    "start_time": "2023-08-08T12:20:33.903Z"
   },
   {
    "duration": 126,
    "start_time": "2023-08-08T12:20:34.018Z"
   },
   {
    "duration": 83,
    "start_time": "2023-08-08T12:20:34.147Z"
   },
   {
    "duration": 452,
    "start_time": "2023-08-08T12:20:34.236Z"
   },
   {
    "duration": 42,
    "start_time": "2023-08-08T12:20:34.690Z"
   },
   {
    "duration": 91,
    "start_time": "2023-08-08T12:20:34.734Z"
   },
   {
    "duration": 20,
    "start_time": "2023-08-08T12:20:34.826Z"
   },
   {
    "duration": 405,
    "start_time": "2023-08-08T12:20:34.856Z"
   },
   {
    "duration": 27,
    "start_time": "2023-08-08T12:20:35.263Z"
   },
   {
    "duration": 43,
    "start_time": "2023-08-08T12:20:35.299Z"
   },
   {
    "duration": 47,
    "start_time": "2023-08-08T12:20:35.344Z"
   },
   {
    "duration": 14,
    "start_time": "2023-08-08T12:20:35.394Z"
   },
   {
    "duration": 88,
    "start_time": "2023-08-08T12:20:35.409Z"
   },
   {
    "duration": 20,
    "start_time": "2023-08-08T12:20:35.499Z"
   },
   {
    "duration": 274,
    "start_time": "2023-08-08T12:20:35.521Z"
   },
   {
    "duration": 19,
    "start_time": "2023-08-08T12:20:35.797Z"
   },
   {
    "duration": 24,
    "start_time": "2023-08-08T12:20:35.818Z"
   },
   {
    "duration": 460,
    "start_time": "2023-08-08T12:20:35.843Z"
   },
   {
    "duration": 178,
    "start_time": "2023-08-08T12:20:36.306Z"
   },
   {
    "duration": 53,
    "start_time": "2023-08-08T12:20:36.487Z"
   },
   {
    "duration": 115,
    "start_time": "2023-08-08T12:20:36.542Z"
   },
   {
    "duration": 150,
    "start_time": "2023-08-08T12:20:36.660Z"
   },
   {
    "duration": 19,
    "start_time": "2023-08-08T12:20:36.813Z"
   },
   {
    "duration": 44,
    "start_time": "2023-08-08T12:20:36.834Z"
   },
   {
    "duration": 115,
    "start_time": "2023-08-08T12:20:36.881Z"
   },
   {
    "duration": 33,
    "start_time": "2023-08-08T12:20:36.999Z"
   },
   {
    "duration": 200,
    "start_time": "2023-08-08T12:20:37.034Z"
   },
   {
    "duration": 607,
    "start_time": "2023-08-08T12:20:37.236Z"
   },
   {
    "duration": 33,
    "start_time": "2023-08-08T12:22:40.650Z"
   },
   {
    "duration": 250,
    "start_time": "2023-08-08T12:22:55.011Z"
   },
   {
    "duration": 271,
    "start_time": "2023-08-08T12:23:28.632Z"
   },
   {
    "duration": 281,
    "start_time": "2023-08-08T12:23:59.790Z"
   },
   {
    "duration": 373,
    "start_time": "2023-08-08T12:24:11.813Z"
   },
   {
    "duration": 243,
    "start_time": "2023-08-08T12:24:17.216Z"
   },
   {
    "duration": 229,
    "start_time": "2023-08-08T12:25:31.221Z"
   },
   {
    "duration": 225,
    "start_time": "2023-08-08T12:25:39.288Z"
   },
   {
    "duration": 239,
    "start_time": "2023-08-08T12:25:46.042Z"
   },
   {
    "duration": 247,
    "start_time": "2023-08-08T12:26:34.136Z"
   },
   {
    "duration": 267,
    "start_time": "2023-08-08T12:27:32.887Z"
   },
   {
    "duration": 363,
    "start_time": "2023-08-08T12:27:58.553Z"
   },
   {
    "duration": 26,
    "start_time": "2023-08-08T12:37:29.896Z"
   },
   {
    "duration": 2154,
    "start_time": "2023-08-08T12:39:10.759Z"
   },
   {
    "duration": 2600,
    "start_time": "2023-08-08T12:39:56.712Z"
   },
   {
    "duration": 2541,
    "start_time": "2023-08-08T12:40:20.152Z"
   },
   {
    "duration": 672,
    "start_time": "2023-08-08T12:41:03.407Z"
   },
   {
    "duration": 270,
    "start_time": "2023-08-08T12:41:31.960Z"
   },
   {
    "duration": 237,
    "start_time": "2023-08-08T12:41:36.182Z"
   },
   {
    "duration": 280,
    "start_time": "2023-08-08T12:43:05.488Z"
   },
   {
    "duration": 68,
    "start_time": "2023-08-08T12:43:30.851Z"
   },
   {
    "duration": 288,
    "start_time": "2023-08-08T12:43:50.063Z"
   },
   {
    "duration": 470,
    "start_time": "2023-08-08T12:47:21.183Z"
   },
   {
    "duration": 1547,
    "start_time": "2023-08-08T12:47:54.952Z"
   },
   {
    "duration": 8,
    "start_time": "2023-08-08T12:48:52.472Z"
   },
   {
    "duration": 1822,
    "start_time": "2023-08-08T12:48:52.488Z"
   },
   {
    "duration": 1012,
    "start_time": "2023-08-08T12:48:54.312Z"
   },
   {
    "duration": 5,
    "start_time": "2023-08-08T12:48:55.327Z"
   },
   {
    "duration": 47189,
    "start_time": "2023-08-08T12:48:55.334Z"
   },
   {
    "duration": 4,
    "start_time": "2023-08-08T12:49:42.525Z"
   },
   {
    "duration": 771,
    "start_time": "2023-08-08T12:49:42.531Z"
   },
   {
    "duration": 538,
    "start_time": "2023-08-08T12:49:43.304Z"
   },
   {
    "duration": 353,
    "start_time": "2023-08-08T12:49:43.845Z"
   },
   {
    "duration": 117,
    "start_time": "2023-08-08T12:49:44.202Z"
   },
   {
    "duration": 53,
    "start_time": "2023-08-08T12:49:44.321Z"
   },
   {
    "duration": 2721,
    "start_time": "2023-08-08T12:49:44.380Z"
   },
   {
    "duration": 627,
    "start_time": "2023-08-08T12:49:47.103Z"
   },
   {
    "duration": 3,
    "start_time": "2023-08-08T12:49:47.732Z"
   },
   {
    "duration": 527,
    "start_time": "2023-08-08T12:49:47.737Z"
   },
   {
    "duration": 227,
    "start_time": "2023-08-08T12:49:48.268Z"
   },
   {
    "duration": 13,
    "start_time": "2023-08-08T12:49:48.497Z"
   },
   {
    "duration": 39,
    "start_time": "2023-08-08T12:49:48.512Z"
   },
   {
    "duration": 326,
    "start_time": "2023-08-08T12:49:48.567Z"
   },
   {
    "duration": 91,
    "start_time": "2023-08-08T12:49:48.894Z"
   },
   {
    "duration": 48,
    "start_time": "2023-08-08T12:49:48.987Z"
   },
   {
    "duration": 87,
    "start_time": "2023-08-08T12:49:49.037Z"
   },
   {
    "duration": 46,
    "start_time": "2023-08-08T12:49:49.126Z"
   },
   {
    "duration": 41,
    "start_time": "2023-08-08T12:49:49.185Z"
   },
   {
    "duration": 64,
    "start_time": "2023-08-08T12:49:49.228Z"
   },
   {
    "duration": 102,
    "start_time": "2023-08-08T12:49:49.294Z"
   },
   {
    "duration": 42,
    "start_time": "2023-08-08T12:49:49.399Z"
   },
   {
    "duration": 392,
    "start_time": "2023-08-08T12:49:49.445Z"
   },
   {
    "duration": 58,
    "start_time": "2023-08-08T12:49:49.839Z"
   },
   {
    "duration": 93,
    "start_time": "2023-08-08T12:49:49.899Z"
   },
   {
    "duration": 23,
    "start_time": "2023-08-08T12:49:49.995Z"
   },
   {
    "duration": 308,
    "start_time": "2023-08-08T12:49:50.021Z"
   },
   {
    "duration": 12,
    "start_time": "2023-08-08T12:49:50.330Z"
   },
   {
    "duration": 60,
    "start_time": "2023-08-08T12:49:50.344Z"
   },
   {
    "duration": 34,
    "start_time": "2023-08-08T12:49:50.406Z"
   },
   {
    "duration": 4,
    "start_time": "2023-08-08T12:49:50.442Z"
   },
   {
    "duration": 55,
    "start_time": "2023-08-08T12:49:50.448Z"
   },
   {
    "duration": 4,
    "start_time": "2023-08-08T12:49:50.505Z"
   },
   {
    "duration": 291,
    "start_time": "2023-08-08T12:49:50.511Z"
   },
   {
    "duration": 23,
    "start_time": "2023-08-08T12:49:50.804Z"
   },
   {
    "duration": 63,
    "start_time": "2023-08-08T12:49:50.829Z"
   },
   {
    "duration": 472,
    "start_time": "2023-08-08T12:49:50.900Z"
   },
   {
    "duration": 172,
    "start_time": "2023-08-08T12:49:51.374Z"
   },
   {
    "duration": 40,
    "start_time": "2023-08-08T12:49:51.547Z"
   },
   {
    "duration": 125,
    "start_time": "2023-08-08T12:49:51.589Z"
   },
   {
    "duration": 173,
    "start_time": "2023-08-08T12:49:51.716Z"
   },
   {
    "duration": 17,
    "start_time": "2023-08-08T12:49:51.890Z"
   },
   {
    "duration": 80,
    "start_time": "2023-08-08T12:49:51.909Z"
   },
   {
    "duration": 114,
    "start_time": "2023-08-08T12:49:51.990Z"
   },
   {
    "duration": 37,
    "start_time": "2023-08-08T12:49:52.106Z"
   },
   {
    "duration": 189,
    "start_time": "2023-08-08T12:49:52.146Z"
   },
   {
    "duration": 651,
    "start_time": "2023-08-08T12:49:52.338Z"
   },
   {
    "duration": 26,
    "start_time": "2023-08-08T12:49:52.990Z"
   },
   {
    "duration": 428,
    "start_time": "2023-08-08T12:53:00.231Z"
   },
   {
    "duration": 7,
    "start_time": "2023-08-08T12:54:01.223Z"
   },
   {
    "duration": 5,
    "start_time": "2023-08-08T12:55:10.560Z"
   },
   {
    "duration": 1676,
    "start_time": "2023-08-08T12:55:10.568Z"
   },
   {
    "duration": 960,
    "start_time": "2023-08-08T12:55:12.246Z"
   },
   {
    "duration": 5,
    "start_time": "2023-08-08T12:55:13.209Z"
   },
   {
    "duration": 39801,
    "start_time": "2023-08-08T12:55:13.218Z"
   },
   {
    "duration": 3,
    "start_time": "2023-08-08T12:55:53.021Z"
   },
   {
    "duration": 649,
    "start_time": "2023-08-08T12:55:53.026Z"
   },
   {
    "duration": 541,
    "start_time": "2023-08-08T12:55:53.677Z"
   },
   {
    "duration": 276,
    "start_time": "2023-08-08T12:55:54.220Z"
   },
   {
    "duration": 91,
    "start_time": "2023-08-08T12:55:54.498Z"
   },
   {
    "duration": 26,
    "start_time": "2023-08-08T12:55:54.592Z"
   },
   {
    "duration": 2093,
    "start_time": "2023-08-08T12:55:54.620Z"
   },
   {
    "duration": 545,
    "start_time": "2023-08-08T12:55:56.714Z"
   },
   {
    "duration": 3,
    "start_time": "2023-08-08T12:55:57.268Z"
   },
   {
    "duration": 439,
    "start_time": "2023-08-08T12:55:57.273Z"
   },
   {
    "duration": 185,
    "start_time": "2023-08-08T12:55:57.714Z"
   },
   {
    "duration": 11,
    "start_time": "2023-08-08T12:55:57.901Z"
   },
   {
    "duration": 59,
    "start_time": "2023-08-08T12:55:57.913Z"
   },
   {
    "duration": 225,
    "start_time": "2023-08-08T12:55:57.974Z"
   },
   {
    "duration": 78,
    "start_time": "2023-08-08T12:55:58.201Z"
   },
   {
    "duration": 37,
    "start_time": "2023-08-08T12:55:58.281Z"
   },
   {
    "duration": 72,
    "start_time": "2023-08-08T12:55:58.319Z"
   },
   {
    "duration": 49,
    "start_time": "2023-08-08T12:55:58.393Z"
   },
   {
    "duration": 40,
    "start_time": "2023-08-08T12:55:58.445Z"
   },
   {
    "duration": 38,
    "start_time": "2023-08-08T12:55:58.487Z"
   },
   {
    "duration": 102,
    "start_time": "2023-08-08T12:55:58.528Z"
   },
   {
    "duration": 53,
    "start_time": "2023-08-08T12:55:58.632Z"
   },
   {
    "duration": 332,
    "start_time": "2023-08-08T12:55:58.687Z"
   },
   {
    "duration": 56,
    "start_time": "2023-08-08T12:55:59.021Z"
   },
   {
    "duration": 74,
    "start_time": "2023-08-08T12:55:59.079Z"
   },
   {
    "duration": 26,
    "start_time": "2023-08-08T12:55:59.155Z"
   },
   {
    "duration": 232,
    "start_time": "2023-08-08T12:55:59.183Z"
   },
   {
    "duration": 12,
    "start_time": "2023-08-08T12:55:59.417Z"
   },
   {
    "duration": 54,
    "start_time": "2023-08-08T12:55:59.431Z"
   },
   {
    "duration": 34,
    "start_time": "2023-08-08T12:55:59.488Z"
   },
   {
    "duration": 4,
    "start_time": "2023-08-08T12:55:59.524Z"
   },
   {
    "duration": 51,
    "start_time": "2023-08-08T12:55:59.530Z"
   },
   {
    "duration": 4,
    "start_time": "2023-08-08T12:55:59.583Z"
   },
   {
    "duration": 236,
    "start_time": "2023-08-08T12:55:59.588Z"
   },
   {
    "duration": 20,
    "start_time": "2023-08-08T12:55:59.826Z"
   },
   {
    "duration": 32,
    "start_time": "2023-08-08T12:55:59.852Z"
   },
   {
    "duration": 441,
    "start_time": "2023-08-08T12:55:59.887Z"
   },
   {
    "duration": 149,
    "start_time": "2023-08-08T12:56:00.330Z"
   },
   {
    "duration": 31,
    "start_time": "2023-08-08T12:56:00.481Z"
   },
   {
    "duration": 124,
    "start_time": "2023-08-08T12:56:00.514Z"
   },
   {
    "duration": 151,
    "start_time": "2023-08-08T12:56:00.641Z"
   },
   {
    "duration": 17,
    "start_time": "2023-08-08T12:56:00.794Z"
   },
   {
    "duration": 32,
    "start_time": "2023-08-08T12:56:00.813Z"
   },
   {
    "duration": 90,
    "start_time": "2023-08-08T12:56:00.848Z"
   },
   {
    "duration": 45,
    "start_time": "2023-08-08T12:56:00.941Z"
   },
   {
    "duration": 162,
    "start_time": "2023-08-08T12:56:00.988Z"
   },
   {
    "duration": 582,
    "start_time": "2023-08-08T12:56:01.153Z"
   },
   {
    "duration": 438,
    "start_time": "2023-08-08T12:56:09.582Z"
   },
   {
    "duration": 6,
    "start_time": "2023-08-08T12:56:12.767Z"
   },
   {
    "duration": 28,
    "start_time": "2023-08-08T13:19:55.685Z"
   },
   {
    "duration": 47,
    "start_time": "2023-08-08T13:20:54.435Z"
   },
   {
    "duration": 69,
    "start_time": "2023-08-08T13:22:28.694Z"
   },
   {
    "duration": 48,
    "start_time": "2023-08-08T13:22:30.854Z"
   },
   {
    "duration": 955,
    "start_time": "2023-08-08T13:23:01.141Z"
   },
   {
    "duration": 98,
    "start_time": "2023-08-08T13:23:17.174Z"
   },
   {
    "duration": 54,
    "start_time": "2023-08-08T13:24:06.865Z"
   },
   {
    "duration": 48,
    "start_time": "2023-08-08T13:24:09.957Z"
   },
   {
    "duration": 4,
    "start_time": "2023-08-08T13:26:51.454Z"
   },
   {
    "duration": 1757,
    "start_time": "2023-08-08T13:26:51.460Z"
   },
   {
    "duration": 990,
    "start_time": "2023-08-08T13:26:53.219Z"
   },
   {
    "duration": 7,
    "start_time": "2023-08-08T13:26:54.212Z"
   },
   {
    "duration": 41668,
    "start_time": "2023-08-08T13:26:54.221Z"
   },
   {
    "duration": 4,
    "start_time": "2023-08-08T13:27:35.891Z"
   },
   {
    "duration": 687,
    "start_time": "2023-08-08T13:27:35.896Z"
   },
   {
    "duration": 491,
    "start_time": "2023-08-08T13:27:36.585Z"
   },
   {
    "duration": 253,
    "start_time": "2023-08-08T13:27:37.086Z"
   },
   {
    "duration": 99,
    "start_time": "2023-08-08T13:27:37.341Z"
   },
   {
    "duration": 44,
    "start_time": "2023-08-08T13:27:37.442Z"
   },
   {
    "duration": 2114,
    "start_time": "2023-08-08T13:27:37.487Z"
   },
   {
    "duration": 569,
    "start_time": "2023-08-08T13:27:39.603Z"
   },
   {
    "duration": 8,
    "start_time": "2023-08-08T13:27:40.173Z"
   },
   {
    "duration": 431,
    "start_time": "2023-08-08T13:27:40.182Z"
   },
   {
    "duration": 195,
    "start_time": "2023-08-08T13:27:40.615Z"
   },
   {
    "duration": 11,
    "start_time": "2023-08-08T13:27:40.812Z"
   },
   {
    "duration": 56,
    "start_time": "2023-08-08T13:27:40.824Z"
   },
   {
    "duration": 224,
    "start_time": "2023-08-08T13:27:40.883Z"
   },
   {
    "duration": 99,
    "start_time": "2023-08-08T13:27:41.110Z"
   },
   {
    "duration": 37,
    "start_time": "2023-08-08T13:27:41.211Z"
   },
   {
    "duration": 83,
    "start_time": "2023-08-08T13:27:41.249Z"
   },
   {
    "duration": 51,
    "start_time": "2023-08-08T13:27:41.334Z"
   },
   {
    "duration": 36,
    "start_time": "2023-08-08T13:27:41.387Z"
   },
   {
    "duration": 63,
    "start_time": "2023-08-08T13:27:41.425Z"
   },
   {
    "duration": 99,
    "start_time": "2023-08-08T13:27:41.490Z"
   },
   {
    "duration": 41,
    "start_time": "2023-08-08T13:27:41.591Z"
   },
   {
    "duration": 343,
    "start_time": "2023-08-08T13:27:41.635Z"
   },
   {
    "duration": 43,
    "start_time": "2023-08-08T13:27:41.980Z"
   },
   {
    "duration": 93,
    "start_time": "2023-08-08T13:27:42.025Z"
   },
   {
    "duration": 18,
    "start_time": "2023-08-08T13:27:42.120Z"
   },
   {
    "duration": 284,
    "start_time": "2023-08-08T13:27:42.140Z"
   },
   {
    "duration": 13,
    "start_time": "2023-08-08T13:27:42.426Z"
   },
   {
    "duration": 53,
    "start_time": "2023-08-08T13:27:42.440Z"
   },
   {
    "duration": 33,
    "start_time": "2023-08-08T13:27:42.494Z"
   },
   {
    "duration": 4,
    "start_time": "2023-08-08T13:27:42.529Z"
   },
   {
    "duration": 58,
    "start_time": "2023-08-08T13:27:42.535Z"
   },
   {
    "duration": 4,
    "start_time": "2023-08-08T13:27:42.595Z"
   },
   {
    "duration": 246,
    "start_time": "2023-08-08T13:27:42.600Z"
   },
   {
    "duration": 35,
    "start_time": "2023-08-08T13:27:42.848Z"
   },
   {
    "duration": 20,
    "start_time": "2023-08-08T13:27:42.885Z"
   },
   {
    "duration": 441,
    "start_time": "2023-08-08T13:27:42.908Z"
   },
   {
    "duration": 154,
    "start_time": "2023-08-08T13:27:43.351Z"
   },
   {
    "duration": 26,
    "start_time": "2023-08-08T13:27:43.507Z"
   },
   {
    "duration": 142,
    "start_time": "2023-08-08T13:27:43.534Z"
   },
   {
    "duration": 159,
    "start_time": "2023-08-08T13:27:43.681Z"
   },
   {
    "duration": 18,
    "start_time": "2023-08-08T13:27:43.841Z"
   },
   {
    "duration": 23,
    "start_time": "2023-08-08T13:27:43.861Z"
   },
   {
    "duration": 109,
    "start_time": "2023-08-08T13:27:43.890Z"
   },
   {
    "duration": 51,
    "start_time": "2023-08-08T13:27:44.001Z"
   },
   {
    "duration": 255,
    "start_time": "2023-08-08T13:27:44.054Z"
   },
   {
    "duration": 552,
    "start_time": "2023-08-08T13:27:44.312Z"
   },
   {
    "duration": 40,
    "start_time": "2023-08-08T13:27:44.869Z"
   },
   {
    "duration": 122,
    "start_time": "2023-08-08T13:27:44.911Z"
   },
   {
    "duration": 494,
    "start_time": "2023-08-08T13:27:45.036Z"
   },
   {
    "duration": 8,
    "start_time": "2023-08-08T13:27:45.532Z"
   },
   {
    "duration": 10,
    "start_time": "2023-08-08T13:39:14.886Z"
   },
   {
    "duration": 3,
    "start_time": "2023-08-08T13:49:09.148Z"
   },
   {
    "duration": 590,
    "start_time": "2023-08-08T13:51:30.647Z"
   },
   {
    "duration": 398,
    "start_time": "2023-08-08T13:51:40.776Z"
   },
   {
    "duration": 454,
    "start_time": "2023-08-08T13:52:27.532Z"
   },
   {
    "duration": 452,
    "start_time": "2023-08-08T13:54:14.418Z"
   },
   {
    "duration": 368,
    "start_time": "2023-08-08T13:54:21.810Z"
   },
   {
    "duration": 3,
    "start_time": "2023-08-08T13:54:29.651Z"
   },
   {
    "duration": 393,
    "start_time": "2023-08-08T13:54:31.385Z"
   },
   {
    "duration": 395,
    "start_time": "2023-08-08T14:02:11.779Z"
   },
   {
    "duration": 429,
    "start_time": "2023-08-08T14:02:19.738Z"
   },
   {
    "duration": 47726,
    "start_time": "2023-08-08T14:04:44.171Z"
   },
   {
    "duration": 121994,
    "start_time": "2023-08-08T14:06:25.514Z"
   },
   {
    "duration": 3,
    "start_time": "2023-08-08T17:05:04.104Z"
   },
   {
    "duration": 2113,
    "start_time": "2023-08-08T17:05:04.109Z"
   },
   {
    "duration": 0,
    "start_time": "2023-08-08T17:05:06.225Z"
   },
   {
    "duration": 0,
    "start_time": "2023-08-08T17:05:06.227Z"
   },
   {
    "duration": 0,
    "start_time": "2023-08-08T17:05:06.228Z"
   },
   {
    "duration": 0,
    "start_time": "2023-08-08T17:05:06.229Z"
   },
   {
    "duration": 0,
    "start_time": "2023-08-08T17:05:06.230Z"
   },
   {
    "duration": 0,
    "start_time": "2023-08-08T17:05:06.231Z"
   },
   {
    "duration": 0,
    "start_time": "2023-08-08T17:05:06.232Z"
   },
   {
    "duration": 0,
    "start_time": "2023-08-08T17:05:06.233Z"
   },
   {
    "duration": 0,
    "start_time": "2023-08-08T17:05:06.234Z"
   },
   {
    "duration": 0,
    "start_time": "2023-08-08T17:05:06.236Z"
   },
   {
    "duration": 0,
    "start_time": "2023-08-08T17:05:06.237Z"
   },
   {
    "duration": 0,
    "start_time": "2023-08-08T17:05:06.254Z"
   },
   {
    "duration": 0,
    "start_time": "2023-08-08T17:05:06.255Z"
   },
   {
    "duration": 0,
    "start_time": "2023-08-08T17:05:06.256Z"
   },
   {
    "duration": 0,
    "start_time": "2023-08-08T17:05:06.257Z"
   },
   {
    "duration": 0,
    "start_time": "2023-08-08T17:05:06.259Z"
   },
   {
    "duration": 0,
    "start_time": "2023-08-08T17:05:06.260Z"
   },
   {
    "duration": 0,
    "start_time": "2023-08-08T17:05:06.261Z"
   },
   {
    "duration": 0,
    "start_time": "2023-08-08T17:05:06.262Z"
   },
   {
    "duration": 0,
    "start_time": "2023-08-08T17:05:06.263Z"
   },
   {
    "duration": 0,
    "start_time": "2023-08-08T17:05:06.264Z"
   },
   {
    "duration": 0,
    "start_time": "2023-08-08T17:05:06.265Z"
   },
   {
    "duration": 0,
    "start_time": "2023-08-08T17:05:06.266Z"
   },
   {
    "duration": 0,
    "start_time": "2023-08-08T17:05:06.267Z"
   },
   {
    "duration": 0,
    "start_time": "2023-08-08T17:05:06.268Z"
   },
   {
    "duration": 0,
    "start_time": "2023-08-08T17:05:06.271Z"
   },
   {
    "duration": 0,
    "start_time": "2023-08-08T17:05:06.272Z"
   },
   {
    "duration": 0,
    "start_time": "2023-08-08T17:05:06.273Z"
   },
   {
    "duration": 0,
    "start_time": "2023-08-08T17:05:06.275Z"
   },
   {
    "duration": 0,
    "start_time": "2023-08-08T17:05:06.275Z"
   },
   {
    "duration": 0,
    "start_time": "2023-08-08T17:05:06.276Z"
   },
   {
    "duration": 0,
    "start_time": "2023-08-08T17:05:06.277Z"
   },
   {
    "duration": 0,
    "start_time": "2023-08-08T17:05:06.278Z"
   },
   {
    "duration": 0,
    "start_time": "2023-08-08T17:05:06.279Z"
   },
   {
    "duration": 0,
    "start_time": "2023-08-08T17:05:06.280Z"
   },
   {
    "duration": 0,
    "start_time": "2023-08-08T17:05:06.281Z"
   },
   {
    "duration": 0,
    "start_time": "2023-08-08T17:05:06.281Z"
   },
   {
    "duration": 0,
    "start_time": "2023-08-08T17:05:06.282Z"
   },
   {
    "duration": 0,
    "start_time": "2023-08-08T17:05:06.284Z"
   },
   {
    "duration": 0,
    "start_time": "2023-08-08T17:05:06.285Z"
   },
   {
    "duration": 0,
    "start_time": "2023-08-08T17:05:06.286Z"
   },
   {
    "duration": 0,
    "start_time": "2023-08-08T17:05:06.287Z"
   },
   {
    "duration": 0,
    "start_time": "2023-08-08T17:05:06.288Z"
   },
   {
    "duration": 0,
    "start_time": "2023-08-08T17:05:06.289Z"
   },
   {
    "duration": 0,
    "start_time": "2023-08-08T17:05:06.290Z"
   },
   {
    "duration": 0,
    "start_time": "2023-08-08T17:05:06.354Z"
   },
   {
    "duration": 0,
    "start_time": "2023-08-08T17:05:06.355Z"
   },
   {
    "duration": 0,
    "start_time": "2023-08-08T17:05:06.356Z"
   },
   {
    "duration": 0,
    "start_time": "2023-08-08T17:05:06.358Z"
   },
   {
    "duration": 0,
    "start_time": "2023-08-08T17:05:06.359Z"
   },
   {
    "duration": 0,
    "start_time": "2023-08-08T17:05:06.360Z"
   },
   {
    "duration": 0,
    "start_time": "2023-08-08T17:05:06.361Z"
   },
   {
    "duration": 0,
    "start_time": "2023-08-08T17:05:06.362Z"
   },
   {
    "duration": 0,
    "start_time": "2023-08-08T17:05:06.363Z"
   },
   {
    "duration": 0,
    "start_time": "2023-08-08T17:05:06.365Z"
   },
   {
    "duration": 3591,
    "start_time": "2023-08-08T17:09:31.814Z"
   },
   {
    "duration": 2000,
    "start_time": "2023-08-08T17:10:00.849Z"
   },
   {
    "duration": 3,
    "start_time": "2023-08-08T17:10:23.829Z"
   },
   {
    "duration": 10,
    "start_time": "2023-08-08T17:10:23.834Z"
   },
   {
    "duration": 1437,
    "start_time": "2023-08-08T17:10:23.846Z"
   },
   {
    "duration": 7,
    "start_time": "2023-08-08T17:10:25.285Z"
   },
   {
    "duration": 45151,
    "start_time": "2023-08-08T17:10:25.294Z"
   },
   {
    "duration": 22,
    "start_time": "2023-08-08T17:11:10.447Z"
   },
   {
    "duration": 599,
    "start_time": "2023-08-08T17:11:10.471Z"
   },
   {
    "duration": 473,
    "start_time": "2023-08-08T17:11:11.072Z"
   },
   {
    "duration": 282,
    "start_time": "2023-08-08T17:11:11.547Z"
   },
   {
    "duration": 117,
    "start_time": "2023-08-08T17:11:11.831Z"
   },
   {
    "duration": 30,
    "start_time": "2023-08-08T17:11:11.953Z"
   },
   {
    "duration": 2190,
    "start_time": "2023-08-08T17:11:11.984Z"
   },
   {
    "duration": 596,
    "start_time": "2023-08-08T17:11:14.176Z"
   },
   {
    "duration": 3,
    "start_time": "2023-08-08T17:11:14.777Z"
   },
   {
    "duration": 426,
    "start_time": "2023-08-08T17:11:14.782Z"
   },
   {
    "duration": 185,
    "start_time": "2023-08-08T17:11:15.210Z"
   },
   {
    "duration": 9,
    "start_time": "2023-08-08T17:11:15.397Z"
   },
   {
    "duration": 40,
    "start_time": "2023-08-08T17:11:15.407Z"
   },
   {
    "duration": 227,
    "start_time": "2023-08-08T17:11:15.456Z"
   },
   {
    "duration": 102,
    "start_time": "2023-08-08T17:11:15.685Z"
   },
   {
    "duration": 43,
    "start_time": "2023-08-08T17:11:15.789Z"
   },
   {
    "duration": 150,
    "start_time": "2023-08-08T17:11:15.834Z"
   },
   {
    "duration": 87,
    "start_time": "2023-08-08T17:11:15.986Z"
   },
   {
    "duration": 56,
    "start_time": "2023-08-08T17:11:16.075Z"
   },
   {
    "duration": 85,
    "start_time": "2023-08-08T17:11:16.134Z"
   },
   {
    "duration": 117,
    "start_time": "2023-08-08T17:11:16.221Z"
   },
   {
    "duration": 62,
    "start_time": "2023-08-08T17:11:16.339Z"
   },
   {
    "duration": 360,
    "start_time": "2023-08-08T17:11:16.402Z"
   },
   {
    "duration": 46,
    "start_time": "2023-08-08T17:11:16.768Z"
   },
   {
    "duration": 136,
    "start_time": "2023-08-08T17:11:16.815Z"
   },
   {
    "duration": 22,
    "start_time": "2023-08-08T17:11:16.953Z"
   },
   {
    "duration": 253,
    "start_time": "2023-08-08T17:11:16.977Z"
   },
   {
    "duration": 9,
    "start_time": "2023-08-08T17:11:17.232Z"
   },
   {
    "duration": 53,
    "start_time": "2023-08-08T17:11:17.254Z"
   },
   {
    "duration": 30,
    "start_time": "2023-08-08T17:11:17.309Z"
   },
   {
    "duration": 4,
    "start_time": "2023-08-08T17:11:17.341Z"
   },
   {
    "duration": 50,
    "start_time": "2023-08-08T17:11:17.354Z"
   },
   {
    "duration": 4,
    "start_time": "2023-08-08T17:11:17.407Z"
   },
   {
    "duration": 273,
    "start_time": "2023-08-08T17:11:17.413Z"
   },
   {
    "duration": 16,
    "start_time": "2023-08-08T17:11:17.688Z"
   },
   {
    "duration": 23,
    "start_time": "2023-08-08T17:11:17.708Z"
   },
   {
    "duration": 417,
    "start_time": "2023-08-08T17:11:17.733Z"
   },
   {
    "duration": 162,
    "start_time": "2023-08-08T17:11:18.153Z"
   },
   {
    "duration": 26,
    "start_time": "2023-08-08T17:11:18.317Z"
   },
   {
    "duration": 136,
    "start_time": "2023-08-08T17:11:18.344Z"
   },
   {
    "duration": 147,
    "start_time": "2023-08-08T17:11:18.482Z"
   },
   {
    "duration": 29,
    "start_time": "2023-08-08T17:11:18.631Z"
   },
   {
    "duration": 15,
    "start_time": "2023-08-08T17:11:18.665Z"
   },
   {
    "duration": 86,
    "start_time": "2023-08-08T17:11:18.682Z"
   },
   {
    "duration": 35,
    "start_time": "2023-08-08T17:11:18.769Z"
   },
   {
    "duration": 195,
    "start_time": "2023-08-08T17:11:18.806Z"
   },
   {
    "duration": 606,
    "start_time": "2023-08-08T17:11:19.003Z"
   },
   {
    "duration": 53,
    "start_time": "2023-08-08T17:11:19.611Z"
   },
   {
    "duration": 107,
    "start_time": "2023-08-08T17:11:19.670Z"
   },
   {
    "duration": 481,
    "start_time": "2023-08-08T17:11:19.779Z"
   },
   {
    "duration": 10,
    "start_time": "2023-08-08T17:11:20.262Z"
   },
   {
    "duration": 101,
    "start_time": "2023-08-08T17:11:20.274Z"
   },
   {
    "duration": 402,
    "start_time": "2023-08-08T17:11:20.376Z"
   },
   {
    "duration": 119905,
    "start_time": "2023-08-08T17:11:20.859Z"
   },
   {
    "duration": 4843,
    "start_time": "2023-08-08T17:16:23.682Z"
   },
   {
    "duration": 5515,
    "start_time": "2023-08-08T17:16:38.286Z"
   },
   {
    "duration": 112,
    "start_time": "2023-08-08T17:24:08.402Z"
   },
   {
    "duration": 6,
    "start_time": "2023-08-08T17:24:15.328Z"
   },
   {
    "duration": 4,
    "start_time": "2023-08-08T17:25:02.164Z"
   },
   {
    "duration": 77,
    "start_time": "2023-08-08T17:26:31.607Z"
   },
   {
    "duration": 70,
    "start_time": "2023-08-08T17:29:31.766Z"
   },
   {
    "duration": 5,
    "start_time": "2023-08-08T17:32:45.471Z"
   },
   {
    "duration": 29,
    "start_time": "2023-08-08T17:32:54.103Z"
   },
   {
    "duration": 61,
    "start_time": "2023-08-08T17:33:41.539Z"
   },
   {
    "duration": 754,
    "start_time": "2023-08-08T17:33:52.288Z"
   },
   {
    "duration": 99,
    "start_time": "2023-08-08T17:49:10.611Z"
   },
   {
    "duration": 5,
    "start_time": "2023-08-08T17:49:59.524Z"
   },
   {
    "duration": 372,
    "start_time": "2023-08-08T17:50:09.419Z"
   },
   {
    "duration": 298,
    "start_time": "2023-08-08T17:53:03.286Z"
   },
   {
    "duration": 3,
    "start_time": "2023-08-08T17:59:38.685Z"
   },
   {
    "duration": 4,
    "start_time": "2023-08-08T18:01:48.848Z"
   },
   {
    "duration": 1743,
    "start_time": "2023-08-08T18:01:48.854Z"
   },
   {
    "duration": 933,
    "start_time": "2023-08-08T18:01:50.599Z"
   },
   {
    "duration": 5,
    "start_time": "2023-08-08T18:01:51.534Z"
   },
   {
    "duration": 42298,
    "start_time": "2023-08-08T18:01:51.541Z"
   },
   {
    "duration": 3,
    "start_time": "2023-08-08T18:02:33.841Z"
   },
   {
    "duration": 563,
    "start_time": "2023-08-08T18:02:33.845Z"
   },
   {
    "duration": 419,
    "start_time": "2023-08-08T18:02:34.409Z"
   },
   {
    "duration": 260,
    "start_time": "2023-08-08T18:02:34.830Z"
   },
   {
    "duration": 104,
    "start_time": "2023-08-08T18:02:35.093Z"
   },
   {
    "duration": 25,
    "start_time": "2023-08-08T18:02:35.198Z"
   },
   {
    "duration": 2066,
    "start_time": "2023-08-08T18:02:35.225Z"
   },
   {
    "duration": 562,
    "start_time": "2023-08-08T18:02:37.293Z"
   },
   {
    "duration": 6,
    "start_time": "2023-08-08T18:02:37.858Z"
   },
   {
    "duration": 433,
    "start_time": "2023-08-08T18:02:37.865Z"
   },
   {
    "duration": 279,
    "start_time": "2023-08-08T18:02:38.299Z"
   },
   {
    "duration": 8,
    "start_time": "2023-08-08T18:02:38.580Z"
   },
   {
    "duration": 35,
    "start_time": "2023-08-08T18:02:38.589Z"
   },
   {
    "duration": 99,
    "start_time": "2023-08-08T18:02:38.625Z"
   },
   {
    "duration": 75,
    "start_time": "2023-08-08T18:02:38.726Z"
   },
   {
    "duration": 35,
    "start_time": "2023-08-08T18:02:38.802Z"
   },
   {
    "duration": 65,
    "start_time": "2023-08-08T18:02:38.854Z"
   },
   {
    "duration": 57,
    "start_time": "2023-08-08T18:02:38.921Z"
   },
   {
    "duration": 37,
    "start_time": "2023-08-08T18:02:38.980Z"
   },
   {
    "duration": 64,
    "start_time": "2023-08-08T18:02:39.019Z"
   },
   {
    "duration": 124,
    "start_time": "2023-08-08T18:02:39.085Z"
   },
   {
    "duration": 56,
    "start_time": "2023-08-08T18:02:39.212Z"
   },
   {
    "duration": 341,
    "start_time": "2023-08-08T18:02:39.273Z"
   },
   {
    "duration": 58,
    "start_time": "2023-08-08T18:02:39.617Z"
   },
   {
    "duration": 94,
    "start_time": "2023-08-08T18:02:39.676Z"
   },
   {
    "duration": 16,
    "start_time": "2023-08-08T18:02:39.771Z"
   },
   {
    "duration": 242,
    "start_time": "2023-08-08T18:02:39.789Z"
   },
   {
    "duration": 22,
    "start_time": "2023-08-08T18:02:40.034Z"
   },
   {
    "duration": 38,
    "start_time": "2023-08-08T18:02:40.061Z"
   },
   {
    "duration": 30,
    "start_time": "2023-08-08T18:02:40.101Z"
   },
   {
    "duration": 4,
    "start_time": "2023-08-08T18:02:40.133Z"
   },
   {
    "duration": 64,
    "start_time": "2023-08-08T18:02:40.138Z"
   },
   {
    "duration": 4,
    "start_time": "2023-08-08T18:02:40.204Z"
   },
   {
    "duration": 235,
    "start_time": "2023-08-08T18:02:40.209Z"
   },
   {
    "duration": 26,
    "start_time": "2023-08-08T18:02:40.446Z"
   },
   {
    "duration": 21,
    "start_time": "2023-08-08T18:02:40.474Z"
   },
   {
    "duration": 420,
    "start_time": "2023-08-08T18:02:40.497Z"
   },
   {
    "duration": 162,
    "start_time": "2023-08-08T18:02:40.919Z"
   },
   {
    "duration": 29,
    "start_time": "2023-08-08T18:02:41.083Z"
   },
   {
    "duration": 153,
    "start_time": "2023-08-08T18:02:41.113Z"
   },
   {
    "duration": 140,
    "start_time": "2023-08-08T18:02:41.268Z"
   },
   {
    "duration": 15,
    "start_time": "2023-08-08T18:02:41.409Z"
   },
   {
    "duration": 16,
    "start_time": "2023-08-08T18:02:41.426Z"
   },
   {
    "duration": 83,
    "start_time": "2023-08-08T18:02:41.462Z"
   },
   {
    "duration": 40,
    "start_time": "2023-08-08T18:02:41.547Z"
   },
   {
    "duration": 173,
    "start_time": "2023-08-08T18:02:41.589Z"
   },
   {
    "duration": 2,
    "start_time": "2023-08-08T18:02:41.766Z"
   },
   {
    "duration": 588,
    "start_time": "2023-08-08T18:02:41.770Z"
   },
   {
    "duration": 41,
    "start_time": "2023-08-08T18:02:42.367Z"
   },
   {
    "duration": 123,
    "start_time": "2023-08-08T18:02:42.410Z"
   },
   {
    "duration": 526,
    "start_time": "2023-08-08T18:02:42.536Z"
   },
   {
    "duration": 7,
    "start_time": "2023-08-08T18:02:43.063Z"
   },
   {
    "duration": 10,
    "start_time": "2023-08-08T18:02:43.071Z"
   },
   {
    "duration": 290,
    "start_time": "2023-08-08T18:02:43.083Z"
   },
   {
    "duration": 121878,
    "start_time": "2023-08-08T18:02:43.460Z"
   },
   {
    "duration": 5589,
    "start_time": "2023-08-08T18:04:45.340Z"
   },
   {
    "duration": 459,
    "start_time": "2023-08-08T18:10:26.622Z"
   },
   {
    "duration": 392,
    "start_time": "2023-08-08T18:11:19.377Z"
   },
   {
    "duration": 10,
    "start_time": "2023-08-08T18:30:41.249Z"
   },
   {
    "duration": 200,
    "start_time": "2023-08-08T19:01:35.572Z"
   },
   {
    "duration": 4,
    "start_time": "2023-08-08T19:02:03.172Z"
   },
   {
    "duration": 79,
    "start_time": "2023-08-08T19:02:13.105Z"
   },
   {
    "duration": 4,
    "start_time": "2023-08-08T19:02:18.946Z"
   },
   {
    "duration": 158973,
    "start_time": "2023-08-08T19:02:21.401Z"
   },
   {
    "duration": 4,
    "start_time": "2023-08-08T19:05:11.520Z"
   },
   {
    "duration": 3,
    "start_time": "2023-08-08T19:05:30.531Z"
   },
   {
    "duration": 22899,
    "start_time": "2023-08-08T19:05:32.176Z"
   },
   {
    "duration": 4,
    "start_time": "2023-08-08T19:06:21.967Z"
   },
   {
    "duration": 911324,
    "start_time": "2023-08-08T19:18:22.760Z"
   },
   {
    "duration": 4,
    "start_time": "2023-08-08T19:53:35.207Z"
   },
   {
    "duration": 1637,
    "start_time": "2023-08-08T19:53:35.213Z"
   },
   {
    "duration": 939,
    "start_time": "2023-08-08T19:53:36.851Z"
   },
   {
    "duration": 6,
    "start_time": "2023-08-08T19:53:37.792Z"
   },
   {
    "duration": 42572,
    "start_time": "2023-08-08T19:53:37.801Z"
   },
   {
    "duration": 3,
    "start_time": "2023-08-08T19:54:20.375Z"
   },
   {
    "duration": 637,
    "start_time": "2023-08-08T19:54:20.379Z"
   },
   {
    "duration": 479,
    "start_time": "2023-08-08T19:54:21.018Z"
   },
   {
    "duration": 271,
    "start_time": "2023-08-08T19:54:21.499Z"
   },
   {
    "duration": 97,
    "start_time": "2023-08-08T19:54:21.771Z"
   },
   {
    "duration": 36,
    "start_time": "2023-08-08T19:54:21.870Z"
   },
   {
    "duration": 2224,
    "start_time": "2023-08-08T19:54:21.908Z"
   },
   {
    "duration": 608,
    "start_time": "2023-08-08T19:54:24.133Z"
   },
   {
    "duration": 12,
    "start_time": "2023-08-08T19:54:24.744Z"
   },
   {
    "duration": 457,
    "start_time": "2023-08-08T19:54:24.759Z"
   },
   {
    "duration": 317,
    "start_time": "2023-08-08T19:54:25.218Z"
   },
   {
    "duration": 21,
    "start_time": "2023-08-08T19:54:25.537Z"
   },
   {
    "duration": 65,
    "start_time": "2023-08-08T19:54:25.562Z"
   },
   {
    "duration": 103,
    "start_time": "2023-08-08T19:54:25.629Z"
   },
   {
    "duration": 87,
    "start_time": "2023-08-08T19:54:25.733Z"
   },
   {
    "duration": 62,
    "start_time": "2023-08-08T19:54:25.822Z"
   },
   {
    "duration": 84,
    "start_time": "2023-08-08T19:54:25.886Z"
   },
   {
    "duration": 48,
    "start_time": "2023-08-08T19:54:25.972Z"
   },
   {
    "duration": 58,
    "start_time": "2023-08-08T19:54:26.022Z"
   },
   {
    "duration": 65,
    "start_time": "2023-08-08T19:54:26.081Z"
   },
   {
    "duration": 116,
    "start_time": "2023-08-08T19:54:26.148Z"
   },
   {
    "duration": 47,
    "start_time": "2023-08-08T19:54:26.266Z"
   },
   {
    "duration": 367,
    "start_time": "2023-08-08T19:54:26.315Z"
   },
   {
    "duration": 44,
    "start_time": "2023-08-08T19:54:26.684Z"
   },
   {
    "duration": 108,
    "start_time": "2023-08-08T19:54:26.730Z"
   },
   {
    "duration": 31,
    "start_time": "2023-08-08T19:54:26.840Z"
   },
   {
    "duration": 244,
    "start_time": "2023-08-08T19:54:26.873Z"
   },
   {
    "duration": 12,
    "start_time": "2023-08-08T19:54:27.119Z"
   },
   {
    "duration": 48,
    "start_time": "2023-08-08T19:54:27.133Z"
   },
   {
    "duration": 34,
    "start_time": "2023-08-08T19:54:27.182Z"
   },
   {
    "duration": 4,
    "start_time": "2023-08-08T19:54:27.218Z"
   },
   {
    "duration": 56,
    "start_time": "2023-08-08T19:54:27.224Z"
   },
   {
    "duration": 4,
    "start_time": "2023-08-08T19:54:27.282Z"
   },
   {
    "duration": 247,
    "start_time": "2023-08-08T19:54:27.287Z"
   },
   {
    "duration": 23,
    "start_time": "2023-08-08T19:54:27.537Z"
   },
   {
    "duration": 20,
    "start_time": "2023-08-08T19:54:27.572Z"
   },
   {
    "duration": 406,
    "start_time": "2023-08-08T19:54:27.593Z"
   },
   {
    "duration": 145,
    "start_time": "2023-08-08T19:54:28.001Z"
   },
   {
    "duration": 36,
    "start_time": "2023-08-08T19:54:28.148Z"
   },
   {
    "duration": 125,
    "start_time": "2023-08-08T19:54:28.186Z"
   },
   {
    "duration": 144,
    "start_time": "2023-08-08T19:54:28.313Z"
   },
   {
    "duration": 17,
    "start_time": "2023-08-08T19:54:28.459Z"
   },
   {
    "duration": 18,
    "start_time": "2023-08-08T19:54:28.478Z"
   },
   {
    "duration": 95,
    "start_time": "2023-08-08T19:54:28.498Z"
   },
   {
    "duration": 37,
    "start_time": "2023-08-08T19:54:28.595Z"
   },
   {
    "duration": 175,
    "start_time": "2023-08-08T19:54:28.634Z"
   },
   {
    "duration": 4,
    "start_time": "2023-08-08T19:54:28.810Z"
   },
   {
    "duration": 583,
    "start_time": "2023-08-08T19:54:28.815Z"
   },
   {
    "duration": 37,
    "start_time": "2023-08-08T19:54:29.400Z"
   },
   {
    "duration": 147,
    "start_time": "2023-08-08T19:54:29.439Z"
   },
   {
    "duration": 508,
    "start_time": "2023-08-08T19:54:29.588Z"
   },
   {
    "duration": 5,
    "start_time": "2023-08-08T19:54:30.098Z"
   },
   {
    "duration": 23,
    "start_time": "2023-08-08T19:54:30.105Z"
   },
   {
    "duration": 449,
    "start_time": "2023-08-08T19:54:30.129Z"
   },
   {
    "duration": 141176,
    "start_time": "2023-08-08T19:54:30.582Z"
   },
   {
    "duration": 5917,
    "start_time": "2023-08-08T19:56:51.760Z"
   },
   {
    "duration": 2,
    "start_time": "2023-08-08T19:56:57.679Z"
   },
   {
    "duration": 3,
    "start_time": "2023-08-08T19:58:36.383Z"
   },
   {
    "duration": 834276,
    "start_time": "2023-08-08T19:59:31.529Z"
   },
   {
    "duration": 3,
    "start_time": "2023-08-08T20:13:38.266Z"
   },
   {
    "duration": 3,
    "start_time": "2023-08-08T20:18:04.624Z"
   },
   {
    "duration": 48771,
    "start_time": "2023-08-08T20:18:08.933Z"
   },
   {
    "duration": 1908,
    "start_time": "2023-08-08T20:19:01.058Z"
   },
   {
    "duration": 1792,
    "start_time": "2023-08-08T20:19:30.064Z"
   },
   {
    "duration": 62149,
    "start_time": "2023-08-08T20:20:39.715Z"
   },
   {
    "duration": 4194,
    "start_time": "2023-08-08T20:25:52.366Z"
   },
   {
    "duration": 67,
    "start_time": "2023-08-08T20:29:20.166Z"
   },
   {
    "duration": 22600,
    "start_time": "2023-08-08T20:29:24.360Z"
   },
   {
    "duration": 3,
    "start_time": "2023-08-08T20:29:49.035Z"
   },
   {
    "duration": 372456,
    "start_time": "2023-08-08T20:29:52.815Z"
   },
   {
    "duration": 3632,
    "start_time": "2023-08-08T20:40:35.525Z"
   },
   {
    "duration": 3465,
    "start_time": "2023-08-08T20:41:05.490Z"
   },
   {
    "duration": 19,
    "start_time": "2023-08-08T20:45:30.595Z"
   },
   {
    "duration": 4,
    "start_time": "2023-08-08T20:47:30.024Z"
   },
   {
    "duration": 1665,
    "start_time": "2023-08-08T20:47:30.030Z"
   },
   {
    "duration": 898,
    "start_time": "2023-08-08T20:47:31.697Z"
   },
   {
    "duration": 6,
    "start_time": "2023-08-08T20:47:32.598Z"
   },
   {
    "duration": 37858,
    "start_time": "2023-08-08T20:47:32.607Z"
   },
   {
    "duration": 4,
    "start_time": "2023-08-08T20:48:10.466Z"
   },
   {
    "duration": 614,
    "start_time": "2023-08-08T20:48:10.472Z"
   },
   {
    "duration": 460,
    "start_time": "2023-08-08T20:48:11.088Z"
   },
   {
    "duration": 242,
    "start_time": "2023-08-08T20:48:11.554Z"
   },
   {
    "duration": 102,
    "start_time": "2023-08-08T20:48:11.798Z"
   },
   {
    "duration": 21,
    "start_time": "2023-08-08T20:48:11.901Z"
   },
   {
    "duration": 2105,
    "start_time": "2023-08-08T20:48:11.924Z"
   },
   {
    "duration": 582,
    "start_time": "2023-08-08T20:48:14.031Z"
   },
   {
    "duration": 3,
    "start_time": "2023-08-08T20:48:14.615Z"
   },
   {
    "duration": 459,
    "start_time": "2023-08-08T20:48:14.621Z"
   },
   {
    "duration": 315,
    "start_time": "2023-08-08T20:48:15.082Z"
   },
   {
    "duration": 9,
    "start_time": "2023-08-08T20:48:15.399Z"
   },
   {
    "duration": 42,
    "start_time": "2023-08-08T20:48:15.410Z"
   },
   {
    "duration": 91,
    "start_time": "2023-08-08T20:48:15.454Z"
   },
   {
    "duration": 83,
    "start_time": "2023-08-08T20:48:15.547Z"
   },
   {
    "duration": 55,
    "start_time": "2023-08-08T20:48:15.632Z"
   },
   {
    "duration": 80,
    "start_time": "2023-08-08T20:48:15.689Z"
   },
   {
    "duration": 41,
    "start_time": "2023-08-08T20:48:15.771Z"
   },
   {
    "duration": 54,
    "start_time": "2023-08-08T20:48:15.817Z"
   },
   {
    "duration": 56,
    "start_time": "2023-08-08T20:48:15.872Z"
   },
   {
    "duration": 99,
    "start_time": "2023-08-08T20:48:15.930Z"
   },
   {
    "duration": 48,
    "start_time": "2023-08-08T20:48:16.031Z"
   },
   {
    "duration": 380,
    "start_time": "2023-08-08T20:48:16.080Z"
   },
   {
    "duration": 46,
    "start_time": "2023-08-08T20:48:16.461Z"
   },
   {
    "duration": 99,
    "start_time": "2023-08-08T20:48:16.508Z"
   },
   {
    "duration": 17,
    "start_time": "2023-08-08T20:48:16.608Z"
   },
   {
    "duration": 234,
    "start_time": "2023-08-08T20:48:16.626Z"
   },
   {
    "duration": 11,
    "start_time": "2023-08-08T20:48:16.862Z"
   },
   {
    "duration": 33,
    "start_time": "2023-08-08T20:48:16.875Z"
   },
   {
    "duration": 53,
    "start_time": "2023-08-08T20:48:16.910Z"
   },
   {
    "duration": 4,
    "start_time": "2023-08-08T20:48:16.965Z"
   },
   {
    "duration": 35,
    "start_time": "2023-08-08T20:48:16.970Z"
   },
   {
    "duration": 4,
    "start_time": "2023-08-08T20:48:17.007Z"
   },
   {
    "duration": 233,
    "start_time": "2023-08-08T20:48:17.012Z"
   },
   {
    "duration": 17,
    "start_time": "2023-08-08T20:48:17.253Z"
   },
   {
    "duration": 16,
    "start_time": "2023-08-08T20:48:17.272Z"
   },
   {
    "duration": 382,
    "start_time": "2023-08-08T20:48:17.290Z"
   },
   {
    "duration": 143,
    "start_time": "2023-08-08T20:48:17.674Z"
   },
   {
    "duration": 38,
    "start_time": "2023-08-08T20:48:17.819Z"
   },
   {
    "duration": 119,
    "start_time": "2023-08-08T20:48:17.858Z"
   },
   {
    "duration": 148,
    "start_time": "2023-08-08T20:48:17.979Z"
   },
   {
    "duration": 25,
    "start_time": "2023-08-08T20:48:18.129Z"
   },
   {
    "duration": 56,
    "start_time": "2023-08-08T20:48:18.156Z"
   },
   {
    "duration": 93,
    "start_time": "2023-08-08T20:48:18.214Z"
   },
   {
    "duration": 34,
    "start_time": "2023-08-08T20:48:18.309Z"
   },
   {
    "duration": 162,
    "start_time": "2023-08-08T20:48:18.353Z"
   },
   {
    "duration": 2,
    "start_time": "2023-08-08T20:48:18.517Z"
   },
   {
    "duration": 570,
    "start_time": "2023-08-08T20:48:18.521Z"
   },
   {
    "duration": 38,
    "start_time": "2023-08-08T20:48:19.093Z"
   },
   {
    "duration": 132,
    "start_time": "2023-08-08T20:48:19.133Z"
   },
   {
    "duration": 480,
    "start_time": "2023-08-08T20:48:19.267Z"
   },
   {
    "duration": 7,
    "start_time": "2023-08-08T20:48:19.749Z"
   },
   {
    "duration": 9,
    "start_time": "2023-08-08T20:48:19.758Z"
   },
   {
    "duration": 290,
    "start_time": "2023-08-08T20:48:19.769Z"
   },
   {
    "duration": 93,
    "start_time": "2023-08-08T20:48:20.062Z"
   },
   {
    "duration": 45,
    "start_time": "2023-08-08T20:48:20.158Z"
   },
   {
    "duration": 42,
    "start_time": "2023-08-08T20:48:20.205Z"
   },
   {
    "duration": 199,
    "start_time": "2023-08-08T20:48:20.249Z"
   },
   {
    "duration": 0,
    "start_time": "2023-08-08T20:48:20.450Z"
   },
   {
    "duration": 21,
    "start_time": "2023-08-08T20:48:38.949Z"
   },
   {
    "duration": 27,
    "start_time": "2023-08-08T20:50:22.407Z"
   },
   {
    "duration": 20,
    "start_time": "2023-08-08T20:50:37.159Z"
   },
   {
    "duration": 4,
    "start_time": "2023-08-08T20:52:38.907Z"
   },
   {
    "duration": 1590,
    "start_time": "2023-08-08T20:52:38.912Z"
   },
   {
    "duration": 891,
    "start_time": "2023-08-08T20:52:40.503Z"
   },
   {
    "duration": 6,
    "start_time": "2023-08-08T20:52:41.396Z"
   },
   {
    "duration": 39803,
    "start_time": "2023-08-08T20:52:41.403Z"
   },
   {
    "duration": 4,
    "start_time": "2023-08-08T20:53:21.208Z"
   },
   {
    "duration": 600,
    "start_time": "2023-08-08T20:53:21.214Z"
   },
   {
    "duration": 446,
    "start_time": "2023-08-08T20:53:21.816Z"
   },
   {
    "duration": 264,
    "start_time": "2023-08-08T20:53:22.264Z"
   },
   {
    "duration": 127,
    "start_time": "2023-08-08T20:53:22.534Z"
   },
   {
    "duration": 26,
    "start_time": "2023-08-08T20:53:22.663Z"
   },
   {
    "duration": 2092,
    "start_time": "2023-08-08T20:53:22.691Z"
   },
   {
    "duration": 565,
    "start_time": "2023-08-08T20:53:24.785Z"
   },
   {
    "duration": 4,
    "start_time": "2023-08-08T20:53:25.354Z"
   },
   {
    "duration": 448,
    "start_time": "2023-08-08T20:53:25.360Z"
   },
   {
    "duration": 287,
    "start_time": "2023-08-08T20:53:25.810Z"
   },
   {
    "duration": 11,
    "start_time": "2023-08-08T20:53:26.099Z"
   },
   {
    "duration": 49,
    "start_time": "2023-08-08T20:53:26.112Z"
   },
   {
    "duration": 99,
    "start_time": "2023-08-08T20:53:26.163Z"
   },
   {
    "duration": 75,
    "start_time": "2023-08-08T20:53:26.264Z"
   },
   {
    "duration": 40,
    "start_time": "2023-08-08T20:53:26.354Z"
   },
   {
    "duration": 80,
    "start_time": "2023-08-08T20:53:26.396Z"
   },
   {
    "duration": 40,
    "start_time": "2023-08-08T20:53:26.478Z"
   },
   {
    "duration": 67,
    "start_time": "2023-08-08T20:53:26.523Z"
   },
   {
    "duration": 48,
    "start_time": "2023-08-08T20:53:26.592Z"
   },
   {
    "duration": 116,
    "start_time": "2023-08-08T20:53:26.642Z"
   },
   {
    "duration": 47,
    "start_time": "2023-08-08T20:53:26.760Z"
   },
   {
    "duration": 358,
    "start_time": "2023-08-08T20:53:26.809Z"
   },
   {
    "duration": 44,
    "start_time": "2023-08-08T20:53:27.169Z"
   },
   {
    "duration": 103,
    "start_time": "2023-08-08T20:53:27.215Z"
   },
   {
    "duration": 16,
    "start_time": "2023-08-08T20:53:27.320Z"
   },
   {
    "duration": 240,
    "start_time": "2023-08-08T20:53:27.338Z"
   },
   {
    "duration": 10,
    "start_time": "2023-08-08T20:53:27.580Z"
   },
   {
    "duration": 39,
    "start_time": "2023-08-08T20:53:27.592Z"
   },
   {
    "duration": 104,
    "start_time": "2023-08-08T20:53:27.633Z"
   },
   {
    "duration": 16,
    "start_time": "2023-08-08T20:53:27.739Z"
   },
   {
    "duration": 39,
    "start_time": "2023-08-08T20:53:27.757Z"
   },
   {
    "duration": 3,
    "start_time": "2023-08-08T20:53:27.798Z"
   },
   {
    "duration": 217,
    "start_time": "2023-08-08T20:53:27.803Z"
   },
   {
    "duration": 17,
    "start_time": "2023-08-08T20:53:28.022Z"
   },
   {
    "duration": 30,
    "start_time": "2023-08-08T20:53:28.041Z"
   },
   {
    "duration": 375,
    "start_time": "2023-08-08T20:53:28.074Z"
   },
   {
    "duration": 139,
    "start_time": "2023-08-08T20:53:28.450Z"
   },
   {
    "duration": 35,
    "start_time": "2023-08-08T20:53:28.591Z"
   },
   {
    "duration": 117,
    "start_time": "2023-08-08T20:53:28.627Z"
   },
   {
    "duration": 138,
    "start_time": "2023-08-08T20:53:28.746Z"
   },
   {
    "duration": 14,
    "start_time": "2023-08-08T20:53:28.886Z"
   },
   {
    "duration": 15,
    "start_time": "2023-08-08T20:53:28.902Z"
   },
   {
    "duration": 93,
    "start_time": "2023-08-08T20:53:28.919Z"
   },
   {
    "duration": 18,
    "start_time": "2023-08-08T20:53:29.014Z"
   },
   {
    "duration": 52,
    "start_time": "2023-08-08T20:53:29.033Z"
   },
   {
    "duration": 3,
    "start_time": "2023-08-08T20:53:29.087Z"
   },
   {
    "duration": 166,
    "start_time": "2023-08-08T20:53:29.091Z"
   },
   {
    "duration": 20,
    "start_time": "2023-08-08T20:53:29.259Z"
   },
   {
    "duration": 549,
    "start_time": "2023-08-08T20:53:29.281Z"
   },
   {
    "duration": 30,
    "start_time": "2023-08-08T20:53:29.832Z"
   },
   {
    "duration": 40,
    "start_time": "2023-08-08T20:53:29.864Z"
   },
   {
    "duration": 131,
    "start_time": "2023-08-08T20:53:29.907Z"
   },
   {
    "duration": 475,
    "start_time": "2023-08-08T20:53:30.040Z"
   },
   {
    "duration": 5,
    "start_time": "2023-08-08T20:53:30.516Z"
   },
   {
    "duration": 112,
    "start_time": "2023-08-08T20:53:30.522Z"
   },
   {
    "duration": 522,
    "start_time": "2023-08-08T20:53:30.636Z"
   },
   {
    "duration": 93,
    "start_time": "2023-08-08T20:53:31.161Z"
   },
   {
    "duration": 31,
    "start_time": "2023-08-08T20:53:31.255Z"
   },
   {
    "duration": 29,
    "start_time": "2023-08-08T20:53:31.288Z"
   },
   {
    "duration": 2,
    "start_time": "2023-08-08T20:53:35.636Z"
   },
   {
    "duration": 20,
    "start_time": "2023-08-08T20:53:37.132Z"
   },
   {
    "duration": 24,
    "start_time": "2023-08-08T20:55:01.711Z"
   },
   {
    "duration": 5,
    "start_time": "2023-08-08T20:57:17.051Z"
   },
   {
    "duration": 1644,
    "start_time": "2023-08-08T20:57:17.058Z"
   },
   {
    "duration": 927,
    "start_time": "2023-08-08T20:57:18.704Z"
   },
   {
    "duration": 5,
    "start_time": "2023-08-08T20:57:19.633Z"
   },
   {
    "duration": 38926,
    "start_time": "2023-08-08T20:57:19.640Z"
   },
   {
    "duration": 4,
    "start_time": "2023-08-08T20:57:58.568Z"
   },
   {
    "duration": 651,
    "start_time": "2023-08-08T20:57:58.573Z"
   },
   {
    "duration": 500,
    "start_time": "2023-08-08T20:57:59.226Z"
   },
   {
    "duration": 232,
    "start_time": "2023-08-08T20:57:59.727Z"
   },
   {
    "duration": 105,
    "start_time": "2023-08-08T20:57:59.962Z"
   },
   {
    "duration": 38,
    "start_time": "2023-08-08T20:58:00.069Z"
   },
   {
    "duration": 2105,
    "start_time": "2023-08-08T20:58:00.108Z"
   },
   {
    "duration": 619,
    "start_time": "2023-08-08T20:58:02.215Z"
   },
   {
    "duration": 3,
    "start_time": "2023-08-08T20:58:02.836Z"
   },
   {
    "duration": 439,
    "start_time": "2023-08-08T20:58:02.841Z"
   },
   {
    "duration": 303,
    "start_time": "2023-08-08T20:58:03.282Z"
   },
   {
    "duration": 11,
    "start_time": "2023-08-08T20:58:03.588Z"
   },
   {
    "duration": 88,
    "start_time": "2023-08-08T20:58:03.601Z"
   },
   {
    "duration": 92,
    "start_time": "2023-08-08T20:58:03.691Z"
   },
   {
    "duration": 87,
    "start_time": "2023-08-08T20:58:03.785Z"
   },
   {
    "duration": 40,
    "start_time": "2023-08-08T20:58:03.874Z"
   },
   {
    "duration": 81,
    "start_time": "2023-08-08T20:58:03.916Z"
   },
   {
    "duration": 50,
    "start_time": "2023-08-08T20:58:03.999Z"
   },
   {
    "duration": 42,
    "start_time": "2023-08-08T20:58:04.053Z"
   },
   {
    "duration": 69,
    "start_time": "2023-08-08T20:58:04.097Z"
   },
   {
    "duration": 140,
    "start_time": "2023-08-08T20:58:04.167Z"
   },
   {
    "duration": 57,
    "start_time": "2023-08-08T20:58:04.309Z"
   },
   {
    "duration": 360,
    "start_time": "2023-08-08T20:58:04.370Z"
   },
   {
    "duration": 52,
    "start_time": "2023-08-08T20:58:04.732Z"
   },
   {
    "duration": 176,
    "start_time": "2023-08-08T20:58:04.786Z"
   },
   {
    "duration": 18,
    "start_time": "2023-08-08T20:58:04.964Z"
   },
   {
    "duration": 244,
    "start_time": "2023-08-08T20:58:04.984Z"
   },
   {
    "duration": 24,
    "start_time": "2023-08-08T20:58:05.230Z"
   },
   {
    "duration": 136,
    "start_time": "2023-08-08T20:58:05.256Z"
   },
   {
    "duration": 37,
    "start_time": "2023-08-08T20:58:05.394Z"
   },
   {
    "duration": 4,
    "start_time": "2023-08-08T20:58:05.433Z"
   },
   {
    "duration": 66,
    "start_time": "2023-08-08T20:58:05.438Z"
   },
   {
    "duration": 67,
    "start_time": "2023-08-08T20:58:05.506Z"
   },
   {
    "duration": 262,
    "start_time": "2023-08-08T20:58:05.575Z"
   },
   {
    "duration": 28,
    "start_time": "2023-08-08T20:58:05.839Z"
   },
   {
    "duration": 68,
    "start_time": "2023-08-08T20:58:05.869Z"
   },
   {
    "duration": 397,
    "start_time": "2023-08-08T20:58:05.939Z"
   },
   {
    "duration": 146,
    "start_time": "2023-08-08T20:58:06.338Z"
   },
   {
    "duration": 28,
    "start_time": "2023-08-08T20:58:06.486Z"
   },
   {
    "duration": 131,
    "start_time": "2023-08-08T20:58:06.516Z"
   },
   {
    "duration": 147,
    "start_time": "2023-08-08T20:58:06.650Z"
   },
   {
    "duration": 17,
    "start_time": "2023-08-08T20:58:06.799Z"
   },
   {
    "duration": 49,
    "start_time": "2023-08-08T20:58:06.818Z"
   },
   {
    "duration": 106,
    "start_time": "2023-08-08T20:58:06.869Z"
   },
   {
    "duration": 19,
    "start_time": "2023-08-08T20:58:06.977Z"
   },
   {
    "duration": 55,
    "start_time": "2023-08-08T20:58:06.998Z"
   },
   {
    "duration": 3,
    "start_time": "2023-08-08T20:58:07.054Z"
   },
   {
    "duration": 196,
    "start_time": "2023-08-08T20:58:07.059Z"
   },
   {
    "duration": 20,
    "start_time": "2023-08-08T20:58:07.257Z"
   },
   {
    "duration": 51,
    "start_time": "2023-08-08T20:58:07.279Z"
   },
   {
    "duration": 623,
    "start_time": "2023-08-08T20:58:07.332Z"
   },
   {
    "duration": 22,
    "start_time": "2023-08-08T20:58:07.957Z"
   },
   {
    "duration": 20,
    "start_time": "2023-08-08T20:58:07.983Z"
   },
   {
    "duration": 55,
    "start_time": "2023-08-08T20:58:08.005Z"
   },
   {
    "duration": 101,
    "start_time": "2023-08-08T20:58:08.062Z"
   },
   {
    "duration": 19,
    "start_time": "2023-08-08T20:58:08.165Z"
   },
   {
    "duration": 421,
    "start_time": "2023-08-08T20:58:08.186Z"
   },
   {
    "duration": 5,
    "start_time": "2023-08-08T20:58:08.609Z"
   },
   {
    "duration": 26,
    "start_time": "2023-08-08T20:58:08.616Z"
   },
   {
    "duration": 409,
    "start_time": "2023-08-08T20:58:08.644Z"
   },
   {
    "duration": 4,
    "start_time": "2023-08-08T20:58:09.056Z"
   },
   {
    "duration": 23,
    "start_time": "2023-08-08T20:58:09.062Z"
   },
   {
    "duration": 13,
    "start_time": "2023-08-08T20:58:09.087Z"
   },
   {
    "duration": 52,
    "start_time": "2023-08-08T20:58:09.102Z"
   },
   {
    "duration": 176,
    "start_time": "2023-08-08T21:01:36.842Z"
   },
   {
    "duration": 4,
    "start_time": "2023-08-08T21:02:01.270Z"
   },
   {
    "duration": 1718,
    "start_time": "2023-08-08T21:02:01.276Z"
   },
   {
    "duration": 814,
    "start_time": "2023-08-08T21:02:02.996Z"
   },
   {
    "duration": 6,
    "start_time": "2023-08-08T21:02:03.812Z"
   },
   {
    "duration": 38436,
    "start_time": "2023-08-08T21:02:03.820Z"
   },
   {
    "duration": 4,
    "start_time": "2023-08-08T21:02:42.258Z"
   },
   {
    "duration": 719,
    "start_time": "2023-08-08T21:02:42.265Z"
   },
   {
    "duration": 475,
    "start_time": "2023-08-08T21:02:42.986Z"
   },
   {
    "duration": 262,
    "start_time": "2023-08-08T21:02:43.463Z"
   },
   {
    "duration": 101,
    "start_time": "2023-08-08T21:02:43.727Z"
   },
   {
    "duration": 122,
    "start_time": "2023-08-08T21:02:43.830Z"
   },
   {
    "duration": 2041,
    "start_time": "2023-08-08T21:02:43.953Z"
   },
   {
    "duration": 537,
    "start_time": "2023-08-08T21:02:45.996Z"
   },
   {
    "duration": 2,
    "start_time": "2023-08-08T21:02:46.536Z"
   },
   {
    "duration": 439,
    "start_time": "2023-08-08T21:02:46.540Z"
   },
   {
    "duration": 296,
    "start_time": "2023-08-08T21:02:46.981Z"
   },
   {
    "duration": 10,
    "start_time": "2023-08-08T21:02:47.280Z"
   },
   {
    "duration": 272,
    "start_time": "2023-08-08T21:02:47.293Z"
   },
   {
    "duration": 100,
    "start_time": "2023-08-08T21:02:47.566Z"
   },
   {
    "duration": 70,
    "start_time": "2023-08-08T21:02:47.668Z"
   },
   {
    "duration": 45,
    "start_time": "2023-08-08T21:02:47.740Z"
   },
   {
    "duration": 81,
    "start_time": "2023-08-08T21:02:47.787Z"
   },
   {
    "duration": 39,
    "start_time": "2023-08-08T21:02:47.870Z"
   },
   {
    "duration": 56,
    "start_time": "2023-08-08T21:02:47.911Z"
   },
   {
    "duration": 56,
    "start_time": "2023-08-08T21:02:47.969Z"
   },
   {
    "duration": 110,
    "start_time": "2023-08-08T21:02:48.027Z"
   },
   {
    "duration": 50,
    "start_time": "2023-08-08T21:02:48.139Z"
   },
   {
    "duration": 348,
    "start_time": "2023-08-08T21:02:48.191Z"
   },
   {
    "duration": 48,
    "start_time": "2023-08-08T21:02:48.541Z"
   },
   {
    "duration": 95,
    "start_time": "2023-08-08T21:02:48.591Z"
   },
   {
    "duration": 79,
    "start_time": "2023-08-08T21:02:48.689Z"
   },
   {
    "duration": 280,
    "start_time": "2023-08-08T21:02:48.770Z"
   },
   {
    "duration": 10,
    "start_time": "2023-08-08T21:02:49.054Z"
   },
   {
    "duration": 39,
    "start_time": "2023-08-08T21:02:49.066Z"
   },
   {
    "duration": 47,
    "start_time": "2023-08-08T21:02:49.107Z"
   },
   {
    "duration": 4,
    "start_time": "2023-08-08T21:02:49.155Z"
   },
   {
    "duration": 40,
    "start_time": "2023-08-08T21:02:49.161Z"
   },
   {
    "duration": 4,
    "start_time": "2023-08-08T21:02:49.202Z"
   },
   {
    "duration": 257,
    "start_time": "2023-08-08T21:02:49.208Z"
   },
   {
    "duration": 18,
    "start_time": "2023-08-08T21:02:49.468Z"
   },
   {
    "duration": 39,
    "start_time": "2023-08-08T21:02:49.492Z"
   },
   {
    "duration": 433,
    "start_time": "2023-08-08T21:02:49.533Z"
   },
   {
    "duration": 151,
    "start_time": "2023-08-08T21:02:49.968Z"
   },
   {
    "duration": 34,
    "start_time": "2023-08-08T21:02:50.120Z"
   },
   {
    "duration": 133,
    "start_time": "2023-08-08T21:02:50.156Z"
   },
   {
    "duration": 150,
    "start_time": "2023-08-08T21:02:50.291Z"
   },
   {
    "duration": 18,
    "start_time": "2023-08-08T21:02:50.443Z"
   },
   {
    "duration": 22,
    "start_time": "2023-08-08T21:02:50.463Z"
   },
   {
    "duration": 87,
    "start_time": "2023-08-08T21:02:50.487Z"
   },
   {
    "duration": 17,
    "start_time": "2023-08-08T21:02:50.576Z"
   },
   {
    "duration": 48,
    "start_time": "2023-08-08T21:02:50.595Z"
   },
   {
    "duration": 10,
    "start_time": "2023-08-08T21:02:50.645Z"
   },
   {
    "duration": 163,
    "start_time": "2023-08-08T21:02:50.656Z"
   },
   {
    "duration": 20,
    "start_time": "2023-08-08T21:02:50.821Z"
   },
   {
    "duration": 26,
    "start_time": "2023-08-08T21:02:50.843Z"
   },
   {
    "duration": 553,
    "start_time": "2023-08-08T21:03:15.643Z"
   },
   {
    "duration": 19,
    "start_time": "2023-08-08T21:03:16.198Z"
   },
   {
    "duration": 22,
    "start_time": "2023-08-08T21:03:21.512Z"
   },
   {
    "duration": 22,
    "start_time": "2023-08-08T21:03:24.906Z"
   },
   {
    "duration": 37,
    "start_time": "2023-08-08T21:03:50.993Z"
   },
   {
    "duration": 134,
    "start_time": "2023-08-08T21:04:19.465Z"
   },
   {
    "duration": 107,
    "start_time": "2023-08-08T21:05:11.102Z"
   },
   {
    "duration": 21,
    "start_time": "2023-08-08T21:05:13.974Z"
   },
   {
    "duration": 4,
    "start_time": "2023-08-08T21:19:45.252Z"
   },
   {
    "duration": 3,
    "start_time": "2023-08-08T21:21:39.237Z"
   },
   {
    "duration": 3,
    "start_time": "2023-08-08T21:21:40.909Z"
   },
   {
    "duration": 47874,
    "start_time": "2023-08-08T21:21:43.711Z"
   },
   {
    "duration": 4,
    "start_time": "2023-08-08T21:25:57.704Z"
   },
   {
    "duration": 3,
    "start_time": "2023-08-08T21:25:59.407Z"
   },
   {
    "duration": 4,
    "start_time": "2023-08-08T21:26:00.841Z"
   },
   {
    "duration": 28662,
    "start_time": "2023-08-08T21:26:03.141Z"
   },
   {
    "duration": 3,
    "start_time": "2023-08-08T21:30:17.720Z"
   },
   {
    "duration": 2,
    "start_time": "2023-08-08T21:30:19.961Z"
   },
   {
    "duration": 27052,
    "start_time": "2023-08-08T21:30:23.507Z"
   },
   {
    "duration": 4,
    "start_time": "2023-08-08T21:32:37.208Z"
   },
   {
    "duration": 2,
    "start_time": "2023-08-08T21:32:41.201Z"
   },
   {
    "duration": 194880,
    "start_time": "2023-08-08T21:32:43.121Z"
   },
   {
    "duration": 9342,
    "start_time": "2023-08-08T21:35:59.789Z"
   },
   {
    "duration": 3,
    "start_time": "2023-08-08T21:37:25.541Z"
   },
   {
    "duration": 3,
    "start_time": "2023-08-08T21:37:48.121Z"
   },
   {
    "duration": 3,
    "start_time": "2023-08-08T21:37:50.040Z"
   },
   {
    "duration": 102,
    "start_time": "2023-08-08T21:37:53.628Z"
   },
   {
    "duration": 242385,
    "start_time": "2023-08-08T21:38:12.874Z"
   },
   {
    "duration": 161,
    "start_time": "2023-08-08T21:42:15.262Z"
   },
   {
    "duration": 5635,
    "start_time": "2023-08-08T21:48:01.442Z"
   },
   {
    "duration": 138,
    "start_time": "2023-08-08T21:48:53.240Z"
   },
   {
    "duration": 3,
    "start_time": "2023-08-08T21:48:57.844Z"
   },
   {
    "duration": 5776,
    "start_time": "2023-08-08T21:49:08.558Z"
   },
   {
    "duration": 5,
    "start_time": "2023-08-08T21:52:36.308Z"
   },
   {
    "duration": 1693,
    "start_time": "2023-08-08T21:52:36.316Z"
   },
   {
    "duration": 882,
    "start_time": "2023-08-08T21:52:38.011Z"
   },
   {
    "duration": 6,
    "start_time": "2023-08-08T21:52:38.894Z"
   },
   {
    "duration": 41637,
    "start_time": "2023-08-08T21:52:38.903Z"
   },
   {
    "duration": 4,
    "start_time": "2023-08-08T21:53:20.541Z"
   },
   {
    "duration": 618,
    "start_time": "2023-08-08T21:53:20.554Z"
   },
   {
    "duration": 477,
    "start_time": "2023-08-08T21:53:21.174Z"
   },
   {
    "duration": 273,
    "start_time": "2023-08-08T21:53:21.652Z"
   },
   {
    "duration": 100,
    "start_time": "2023-08-08T21:53:21.926Z"
   },
   {
    "duration": 40,
    "start_time": "2023-08-08T21:53:22.028Z"
   },
   {
    "duration": 2301,
    "start_time": "2023-08-08T21:53:22.069Z"
   },
   {
    "duration": 583,
    "start_time": "2023-08-08T21:53:24.373Z"
   },
   {
    "duration": 4,
    "start_time": "2023-08-08T21:53:24.960Z"
   },
   {
    "duration": 464,
    "start_time": "2023-08-08T21:53:24.966Z"
   },
   {
    "duration": 332,
    "start_time": "2023-08-08T21:53:25.432Z"
   },
   {
    "duration": 11,
    "start_time": "2023-08-08T21:53:25.766Z"
   },
   {
    "duration": 35,
    "start_time": "2023-08-08T21:53:25.780Z"
   },
   {
    "duration": 124,
    "start_time": "2023-08-08T21:53:25.817Z"
   },
   {
    "duration": 118,
    "start_time": "2023-08-08T21:53:25.943Z"
   },
   {
    "duration": 46,
    "start_time": "2023-08-08T21:53:26.062Z"
   },
   {
    "duration": 83,
    "start_time": "2023-08-08T21:53:26.109Z"
   },
   {
    "duration": 41,
    "start_time": "2023-08-08T21:53:26.194Z"
   },
   {
    "duration": 67,
    "start_time": "2023-08-08T21:53:26.237Z"
   },
   {
    "duration": 53,
    "start_time": "2023-08-08T21:53:26.306Z"
   },
   {
    "duration": 113,
    "start_time": "2023-08-08T21:53:26.361Z"
   },
   {
    "duration": 48,
    "start_time": "2023-08-08T21:53:26.476Z"
   },
   {
    "duration": 351,
    "start_time": "2023-08-08T21:53:26.525Z"
   },
   {
    "duration": 43,
    "start_time": "2023-08-08T21:53:26.878Z"
   },
   {
    "duration": 98,
    "start_time": "2023-08-08T21:53:26.924Z"
   },
   {
    "duration": 30,
    "start_time": "2023-08-08T21:53:27.025Z"
   },
   {
    "duration": 274,
    "start_time": "2023-08-08T21:53:27.057Z"
   },
   {
    "duration": 23,
    "start_time": "2023-08-08T21:53:27.333Z"
   },
   {
    "duration": 42,
    "start_time": "2023-08-08T21:53:27.358Z"
   },
   {
    "duration": 58,
    "start_time": "2023-08-08T21:53:27.402Z"
   },
   {
    "duration": 4,
    "start_time": "2023-08-08T21:53:27.463Z"
   },
   {
    "duration": 44,
    "start_time": "2023-08-08T21:53:27.469Z"
   },
   {
    "duration": 5,
    "start_time": "2023-08-08T21:53:27.516Z"
   },
   {
    "duration": 279,
    "start_time": "2023-08-08T21:53:27.523Z"
   },
   {
    "duration": 17,
    "start_time": "2023-08-08T21:53:27.804Z"
   },
   {
    "duration": 33,
    "start_time": "2023-08-08T21:53:27.825Z"
   },
   {
    "duration": 406,
    "start_time": "2023-08-08T21:53:27.860Z"
   },
   {
    "duration": 176,
    "start_time": "2023-08-08T21:53:28.268Z"
   },
   {
    "duration": 41,
    "start_time": "2023-08-08T21:53:28.446Z"
   },
   {
    "duration": 127,
    "start_time": "2023-08-08T21:53:28.489Z"
   },
   {
    "duration": 144,
    "start_time": "2023-08-08T21:53:28.618Z"
   },
   {
    "duration": 15,
    "start_time": "2023-08-08T21:53:28.764Z"
   },
   {
    "duration": 19,
    "start_time": "2023-08-08T21:53:28.780Z"
   },
   {
    "duration": 98,
    "start_time": "2023-08-08T21:53:28.801Z"
   },
   {
    "duration": 22,
    "start_time": "2023-08-08T21:53:28.901Z"
   },
   {
    "duration": 60,
    "start_time": "2023-08-08T21:53:28.924Z"
   },
   {
    "duration": 19,
    "start_time": "2023-08-08T21:53:28.986Z"
   },
   {
    "duration": 174,
    "start_time": "2023-08-08T21:53:29.007Z"
   },
   {
    "duration": 24,
    "start_time": "2023-08-08T21:53:29.183Z"
   },
   {
    "duration": 41,
    "start_time": "2023-08-08T21:53:29.209Z"
   },
   {
    "duration": 652,
    "start_time": "2023-08-08T21:53:29.251Z"
   },
   {
    "duration": 22,
    "start_time": "2023-08-08T21:53:29.905Z"
   },
   {
    "duration": 30,
    "start_time": "2023-08-08T21:53:29.928Z"
   },
   {
    "duration": 49,
    "start_time": "2023-08-08T21:53:29.960Z"
   },
   {
    "duration": 135,
    "start_time": "2023-08-08T21:53:30.011Z"
   },
   {
    "duration": 23,
    "start_time": "2023-08-08T21:53:30.148Z"
   },
   {
    "duration": 543,
    "start_time": "2023-08-08T21:53:30.174Z"
   },
   {
    "duration": 6,
    "start_time": "2023-08-08T21:53:30.719Z"
   },
   {
    "duration": 116,
    "start_time": "2023-08-08T21:53:30.727Z"
   },
   {
    "duration": 417,
    "start_time": "2023-08-08T21:53:30.845Z"
   },
   {
    "duration": 129014,
    "start_time": "2023-08-08T21:53:31.264Z"
   },
   {
    "duration": 5742,
    "start_time": "2023-08-08T21:55:40.280Z"
   },
   {
    "duration": 4,
    "start_time": "2023-08-08T21:55:46.023Z"
   },
   {
    "duration": 15,
    "start_time": "2023-08-08T21:55:46.028Z"
   },
   {
    "duration": 27,
    "start_time": "2023-08-08T21:55:46.046Z"
   },
   {
    "duration": 277507,
    "start_time": "2023-08-08T21:55:46.074Z"
   },
   {
    "duration": 6812,
    "start_time": "2023-08-08T22:00:23.583Z"
   },
   {
    "duration": 3,
    "start_time": "2023-08-08T22:00:30.397Z"
   },
   {
    "duration": 859462,
    "start_time": "2023-08-08T22:00:30.402Z"
   },
   {
    "duration": 78,
    "start_time": "2023-08-08T22:14:49.866Z"
   },
   {
    "duration": 12,
    "start_time": "2023-08-08T22:14:58.180Z"
   },
   {
    "duration": 3,
    "start_time": "2023-08-08T22:18:42.820Z"
   },
   {
    "duration": 1613,
    "start_time": "2023-08-08T22:18:42.826Z"
   },
   {
    "duration": 872,
    "start_time": "2023-08-08T22:18:44.440Z"
   },
   {
    "duration": 6,
    "start_time": "2023-08-08T22:18:45.313Z"
   },
   {
    "duration": 37748,
    "start_time": "2023-08-08T22:18:45.321Z"
   },
   {
    "duration": 3,
    "start_time": "2023-08-08T22:19:23.070Z"
   },
   {
    "duration": 603,
    "start_time": "2023-08-08T22:19:23.075Z"
   },
   {
    "duration": 451,
    "start_time": "2023-08-08T22:19:23.680Z"
   },
   {
    "duration": 280,
    "start_time": "2023-08-08T22:19:24.133Z"
   },
   {
    "duration": 94,
    "start_time": "2023-08-08T22:19:24.415Z"
   },
   {
    "duration": 46,
    "start_time": "2023-08-08T22:19:24.511Z"
   },
   {
    "duration": 1956,
    "start_time": "2023-08-08T22:19:24.559Z"
   },
   {
    "duration": 503,
    "start_time": "2023-08-08T22:19:26.516Z"
   },
   {
    "duration": 3,
    "start_time": "2023-08-08T22:19:27.022Z"
   },
   {
    "duration": 403,
    "start_time": "2023-08-08T22:19:27.026Z"
   },
   {
    "duration": 277,
    "start_time": "2023-08-08T22:19:27.431Z"
   },
   {
    "duration": 10,
    "start_time": "2023-08-08T22:19:27.709Z"
   },
   {
    "duration": 42,
    "start_time": "2023-08-08T22:19:27.720Z"
   },
   {
    "duration": 90,
    "start_time": "2023-08-08T22:19:27.764Z"
   },
   {
    "duration": 68,
    "start_time": "2023-08-08T22:19:27.856Z"
   },
   {
    "duration": 56,
    "start_time": "2023-08-08T22:19:27.926Z"
   },
   {
    "duration": 70,
    "start_time": "2023-08-08T22:19:27.984Z"
   },
   {
    "duration": 36,
    "start_time": "2023-08-08T22:19:28.056Z"
   },
   {
    "duration": 38,
    "start_time": "2023-08-08T22:19:28.094Z"
   },
   {
    "duration": 39,
    "start_time": "2023-08-08T22:19:28.153Z"
   },
   {
    "duration": 111,
    "start_time": "2023-08-08T22:19:28.194Z"
   },
   {
    "duration": 50,
    "start_time": "2023-08-08T22:19:28.307Z"
   },
   {
    "duration": 322,
    "start_time": "2023-08-08T22:19:28.358Z"
   },
   {
    "duration": 40,
    "start_time": "2023-08-08T22:19:28.681Z"
   },
   {
    "duration": 93,
    "start_time": "2023-08-08T22:19:28.723Z"
   },
   {
    "duration": 15,
    "start_time": "2023-08-08T22:19:28.817Z"
   },
   {
    "duration": 214,
    "start_time": "2023-08-08T22:19:28.834Z"
   },
   {
    "duration": 13,
    "start_time": "2023-08-08T22:19:29.049Z"
   },
   {
    "duration": 30,
    "start_time": "2023-08-08T22:19:29.064Z"
   },
   {
    "duration": 30,
    "start_time": "2023-08-08T22:19:29.096Z"
   },
   {
    "duration": 28,
    "start_time": "2023-08-08T22:19:29.127Z"
   },
   {
    "duration": 32,
    "start_time": "2023-08-08T22:19:29.157Z"
   },
   {
    "duration": 4,
    "start_time": "2023-08-08T22:19:29.190Z"
   },
   {
    "duration": 222,
    "start_time": "2023-08-08T22:19:29.195Z"
   },
   {
    "duration": 35,
    "start_time": "2023-08-08T22:19:29.419Z"
   },
   {
    "duration": 17,
    "start_time": "2023-08-08T22:19:29.458Z"
   },
   {
    "duration": 357,
    "start_time": "2023-08-08T22:19:29.476Z"
   },
   {
    "duration": 132,
    "start_time": "2023-08-08T22:19:29.835Z"
   },
   {
    "duration": 26,
    "start_time": "2023-08-08T22:19:29.968Z"
   },
   {
    "duration": 122,
    "start_time": "2023-08-08T22:19:29.996Z"
   },
   {
    "duration": 144,
    "start_time": "2023-08-08T22:19:30.120Z"
   },
   {
    "duration": 15,
    "start_time": "2023-08-08T22:19:30.266Z"
   },
   {
    "duration": 37,
    "start_time": "2023-08-08T22:19:30.283Z"
   },
   {
    "duration": 82,
    "start_time": "2023-08-08T22:19:30.322Z"
   },
   {
    "duration": 18,
    "start_time": "2023-08-08T22:19:30.405Z"
   },
   {
    "duration": 81,
    "start_time": "2023-08-08T22:19:30.424Z"
   },
   {
    "duration": 24,
    "start_time": "2023-08-08T22:19:30.507Z"
   },
   {
    "duration": 196,
    "start_time": "2023-08-08T22:19:30.533Z"
   },
   {
    "duration": 511,
    "start_time": "2023-08-08T22:19:30.731Z"
   },
   {
    "duration": 39,
    "start_time": "2023-08-08T22:19:31.244Z"
   },
   {
    "duration": 107,
    "start_time": "2023-08-08T22:19:31.285Z"
   },
   {
    "duration": 16,
    "start_time": "2023-08-08T22:19:31.394Z"
   },
   {
    "duration": 473,
    "start_time": "2023-08-08T22:19:31.412Z"
   },
   {
    "duration": 5,
    "start_time": "2023-08-08T22:19:31.887Z"
   },
   {
    "duration": 44,
    "start_time": "2023-08-08T22:19:31.894Z"
   },
   {
    "duration": 327,
    "start_time": "2023-08-08T22:19:31.940Z"
   },
   {
    "duration": 125125,
    "start_time": "2023-08-08T22:19:32.355Z"
   },
   {
    "duration": 5476,
    "start_time": "2023-08-08T22:21:37.482Z"
   },
   {
    "duration": 3,
    "start_time": "2023-08-08T22:21:42.960Z"
   },
   {
    "duration": 14,
    "start_time": "2023-08-08T22:21:42.965Z"
   },
   {
    "duration": 219223,
    "start_time": "2023-08-08T22:21:42.981Z"
   },
   {
    "duration": 5757,
    "start_time": "2023-08-08T22:25:22.206Z"
   },
   {
    "duration": 3,
    "start_time": "2023-08-08T22:25:27.965Z"
   },
   {
    "duration": 308087,
    "start_time": "2023-08-08T22:25:27.973Z"
   },
   {
    "duration": 3193,
    "start_time": "2023-08-08T22:30:36.062Z"
   },
   {
    "duration": 11,
    "start_time": "2023-08-08T22:30:39.256Z"
   },
   {
    "duration": 8,
    "start_time": "2023-08-08T22:30:39.268Z"
   },
   {
    "duration": 311,
    "start_time": "2023-08-08T22:47:49.545Z"
   },
   {
    "duration": 3121,
    "start_time": "2023-08-09T14:48:36.614Z"
   },
   {
    "duration": 1720,
    "start_time": "2023-08-09T14:48:39.737Z"
   },
   {
    "duration": 2988,
    "start_time": "2023-08-09T14:48:49.548Z"
   },
   {
    "duration": 6,
    "start_time": "2023-08-09T14:48:58.957Z"
   },
   {
    "duration": 37706,
    "start_time": "2023-08-09T14:49:01.439Z"
   },
   {
    "duration": 3,
    "start_time": "2023-08-09T14:49:39.147Z"
   },
   {
    "duration": 555,
    "start_time": "2023-08-09T14:49:39.151Z"
   },
   {
    "duration": 408,
    "start_time": "2023-08-09T14:49:39.708Z"
   },
   {
    "duration": 228,
    "start_time": "2023-08-09T14:50:03.253Z"
   },
   {
    "duration": 90,
    "start_time": "2023-08-09T14:50:25.186Z"
   },
   {
    "duration": 18,
    "start_time": "2023-08-09T14:52:11.653Z"
   },
   {
    "duration": 2039,
    "start_time": "2023-08-09T14:52:14.239Z"
   },
   {
    "duration": 579,
    "start_time": "2023-08-09T14:52:16.281Z"
   },
   {
    "duration": 3,
    "start_time": "2023-08-09T14:52:17.298Z"
   },
   {
    "duration": 431,
    "start_time": "2023-08-09T14:52:22.133Z"
   },
   {
    "duration": 283,
    "start_time": "2023-08-09T14:52:26.561Z"
   },
   {
    "duration": 9,
    "start_time": "2023-08-09T14:52:31.910Z"
   },
   {
    "duration": 26,
    "start_time": "2023-08-09T14:52:32.870Z"
   },
   {
    "duration": 91,
    "start_time": "2023-08-09T14:53:34.846Z"
   },
   {
    "duration": 64,
    "start_time": "2023-08-09T14:53:36.509Z"
   },
   {
    "duration": 35,
    "start_time": "2023-08-09T14:53:39.813Z"
   },
   {
    "duration": 59,
    "start_time": "2023-08-09T14:53:58.133Z"
   },
   {
    "duration": 35,
    "start_time": "2023-08-09T14:54:07.110Z"
   },
   {
    "duration": 35,
    "start_time": "2023-08-09T14:54:45.406Z"
   },
   {
    "duration": 33,
    "start_time": "2023-08-09T14:54:48.765Z"
   },
   {
    "duration": 90,
    "start_time": "2023-08-09T14:54:49.412Z"
   },
   {
    "duration": 41,
    "start_time": "2023-08-09T14:54:53.550Z"
   },
   {
    "duration": 305,
    "start_time": "2023-08-09T14:54:54.053Z"
   },
   {
    "duration": 41,
    "start_time": "2023-08-09T14:55:58.747Z"
   },
   {
    "duration": 77,
    "start_time": "2023-08-09T14:55:59.620Z"
   },
   {
    "duration": 16,
    "start_time": "2023-08-09T14:56:04.054Z"
   },
   {
    "duration": 200,
    "start_time": "2023-08-09T14:56:44.100Z"
   },
   {
    "duration": 12,
    "start_time": "2023-08-09T14:56:45.468Z"
   },
   {
    "duration": 32,
    "start_time": "2023-08-09T14:56:53.732Z"
   },
   {
    "duration": 31,
    "start_time": "2023-08-09T14:56:54.140Z"
   },
   {
    "duration": 4,
    "start_time": "2023-08-09T14:56:54.550Z"
   },
   {
    "duration": 27,
    "start_time": "2023-08-09T14:56:56.496Z"
   },
   {
    "duration": 4,
    "start_time": "2023-08-09T14:56:57.231Z"
   },
   {
    "duration": 209,
    "start_time": "2023-08-09T14:57:00.459Z"
   },
   {
    "duration": 17,
    "start_time": "2023-08-09T14:57:01.554Z"
   },
   {
    "duration": 17,
    "start_time": "2023-08-09T14:57:03.165Z"
   },
   {
    "duration": 370,
    "start_time": "2023-08-09T14:57:06.182Z"
   },
   {
    "duration": 139,
    "start_time": "2023-08-09T14:57:06.554Z"
   },
   {
    "duration": 28,
    "start_time": "2023-08-09T14:57:21.380Z"
   },
   {
    "duration": 111,
    "start_time": "2023-08-09T14:57:23.457Z"
   },
   {
    "duration": 131,
    "start_time": "2023-08-09T14:57:25.141Z"
   },
   {
    "duration": 14,
    "start_time": "2023-08-09T14:57:29.830Z"
   },
   {
    "duration": 52,
    "start_time": "2023-08-09T14:57:37.588Z"
   },
   {
    "duration": 5,
    "start_time": "2023-08-09T14:57:46.287Z"
   },
   {
    "duration": 136,
    "start_time": "2023-08-09T14:58:35.211Z"
   },
   {
    "duration": 10,
    "start_time": "2023-08-09T14:58:49.830Z"
   },
   {
    "duration": 125,
    "start_time": "2023-08-09T14:58:55.830Z"
   },
   {
    "duration": 14,
    "start_time": "2023-08-09T14:59:51.654Z"
   },
   {
    "duration": 75,
    "start_time": "2023-08-09T14:59:53.299Z"
   },
   {
    "duration": 12,
    "start_time": "2023-08-09T20:07:35.606Z"
   },
   {
    "duration": 50,
    "start_time": "2023-08-09T20:07:46.208Z"
   },
   {
    "duration": 7,
    "start_time": "2023-08-09T20:07:50.904Z"
   },
   {
    "duration": 2296,
    "start_time": "2023-08-09T20:07:50.914Z"
   },
   {
    "duration": 0,
    "start_time": "2023-08-09T20:07:53.216Z"
   },
   {
    "duration": 0,
    "start_time": "2023-08-09T20:07:53.217Z"
   },
   {
    "duration": 0,
    "start_time": "2023-08-09T20:07:53.218Z"
   },
   {
    "duration": 0,
    "start_time": "2023-08-09T20:07:53.219Z"
   },
   {
    "duration": 0,
    "start_time": "2023-08-09T20:07:53.228Z"
   },
   {
    "duration": 0,
    "start_time": "2023-08-09T20:07:53.229Z"
   },
   {
    "duration": 0,
    "start_time": "2023-08-09T20:07:53.230Z"
   },
   {
    "duration": 0,
    "start_time": "2023-08-09T20:07:53.232Z"
   },
   {
    "duration": 0,
    "start_time": "2023-08-09T20:07:53.233Z"
   },
   {
    "duration": 0,
    "start_time": "2023-08-09T20:07:53.234Z"
   },
   {
    "duration": 0,
    "start_time": "2023-08-09T20:07:53.239Z"
   },
   {
    "duration": 0,
    "start_time": "2023-08-09T20:07:53.241Z"
   },
   {
    "duration": 0,
    "start_time": "2023-08-09T20:07:53.242Z"
   },
   {
    "duration": 0,
    "start_time": "2023-08-09T20:07:53.243Z"
   },
   {
    "duration": 0,
    "start_time": "2023-08-09T20:07:53.245Z"
   },
   {
    "duration": 0,
    "start_time": "2023-08-09T20:07:53.246Z"
   },
   {
    "duration": 0,
    "start_time": "2023-08-09T20:07:53.248Z"
   },
   {
    "duration": 0,
    "start_time": "2023-08-09T20:07:53.267Z"
   },
   {
    "duration": 0,
    "start_time": "2023-08-09T20:07:53.268Z"
   },
   {
    "duration": 0,
    "start_time": "2023-08-09T20:07:53.269Z"
   },
   {
    "duration": 0,
    "start_time": "2023-08-09T20:07:53.270Z"
   },
   {
    "duration": 0,
    "start_time": "2023-08-09T20:07:53.271Z"
   },
   {
    "duration": 0,
    "start_time": "2023-08-09T20:07:53.276Z"
   },
   {
    "duration": 0,
    "start_time": "2023-08-09T20:07:53.277Z"
   },
   {
    "duration": 0,
    "start_time": "2023-08-09T20:07:53.278Z"
   },
   {
    "duration": 0,
    "start_time": "2023-08-09T20:07:53.279Z"
   },
   {
    "duration": 0,
    "start_time": "2023-08-09T20:07:53.281Z"
   },
   {
    "duration": 0,
    "start_time": "2023-08-09T20:07:53.283Z"
   },
   {
    "duration": 0,
    "start_time": "2023-08-09T20:07:53.285Z"
   },
   {
    "duration": 0,
    "start_time": "2023-08-09T20:07:53.287Z"
   },
   {
    "duration": 0,
    "start_time": "2023-08-09T20:07:53.288Z"
   },
   {
    "duration": 0,
    "start_time": "2023-08-09T20:07:53.290Z"
   },
   {
    "duration": 0,
    "start_time": "2023-08-09T20:07:53.293Z"
   },
   {
    "duration": 0,
    "start_time": "2023-08-09T20:07:53.295Z"
   },
   {
    "duration": 0,
    "start_time": "2023-08-09T20:07:53.297Z"
   },
   {
    "duration": 0,
    "start_time": "2023-08-09T20:07:53.298Z"
   },
   {
    "duration": 0,
    "start_time": "2023-08-09T20:07:53.299Z"
   },
   {
    "duration": 0,
    "start_time": "2023-08-09T20:07:53.301Z"
   },
   {
    "duration": 0,
    "start_time": "2023-08-09T20:07:53.304Z"
   },
   {
    "duration": 0,
    "start_time": "2023-08-09T20:07:53.305Z"
   },
   {
    "duration": 0,
    "start_time": "2023-08-09T20:07:53.307Z"
   },
   {
    "duration": 0,
    "start_time": "2023-08-09T20:07:53.309Z"
   },
   {
    "duration": 0,
    "start_time": "2023-08-09T20:07:53.310Z"
   },
   {
    "duration": 0,
    "start_time": "2023-08-09T20:07:53.312Z"
   },
   {
    "duration": 4013,
    "start_time": "2023-08-09T20:10:13.917Z"
   },
   {
    "duration": 8,
    "start_time": "2023-08-09T20:10:38.363Z"
   },
   {
    "duration": 2543,
    "start_time": "2023-08-09T20:10:38.374Z"
   },
   {
    "duration": 4904,
    "start_time": "2023-08-09T20:10:40.920Z"
   },
   {
    "duration": 10,
    "start_time": "2023-08-09T20:10:45.827Z"
   },
   {
    "duration": 50067,
    "start_time": "2023-08-09T20:10:45.840Z"
   },
   {
    "duration": 4,
    "start_time": "2023-08-09T20:11:35.909Z"
   },
   {
    "duration": 786,
    "start_time": "2023-08-09T20:11:35.915Z"
   },
   {
    "duration": 536,
    "start_time": "2023-08-09T20:11:36.712Z"
   },
   {
    "duration": 310,
    "start_time": "2023-08-09T20:11:37.250Z"
   },
   {
    "duration": 112,
    "start_time": "2023-08-09T20:11:37.563Z"
   },
   {
    "duration": 27,
    "start_time": "2023-08-09T20:11:37.678Z"
   },
   {
    "duration": 2459,
    "start_time": "2023-08-09T20:11:37.706Z"
   },
   {
    "duration": 626,
    "start_time": "2023-08-09T20:11:40.167Z"
   },
   {
    "duration": 7,
    "start_time": "2023-08-09T20:11:40.797Z"
   },
   {
    "duration": 539,
    "start_time": "2023-08-09T20:11:40.812Z"
   },
   {
    "duration": 364,
    "start_time": "2023-08-09T20:11:41.353Z"
   },
   {
    "duration": 10,
    "start_time": "2023-08-09T20:11:41.720Z"
   },
   {
    "duration": 57,
    "start_time": "2023-08-09T20:11:41.732Z"
   },
   {
    "duration": 86,
    "start_time": "2023-08-09T20:11:41.791Z"
   },
   {
    "duration": 94,
    "start_time": "2023-08-09T20:11:41.879Z"
   },
   {
    "duration": 52,
    "start_time": "2023-08-09T20:11:41.975Z"
   },
   {
    "duration": 97,
    "start_time": "2023-08-09T20:11:42.029Z"
   },
   {
    "duration": 63,
    "start_time": "2023-08-09T20:11:42.127Z"
   },
   {
    "duration": 55,
    "start_time": "2023-08-09T20:11:42.193Z"
   },
   {
    "duration": 81,
    "start_time": "2023-08-09T20:11:42.250Z"
   },
   {
    "duration": 147,
    "start_time": "2023-08-09T20:11:42.348Z"
   },
   {
    "duration": 84,
    "start_time": "2023-08-09T20:11:42.498Z"
   },
   {
    "duration": 461,
    "start_time": "2023-08-09T20:11:42.585Z"
   },
   {
    "duration": 60,
    "start_time": "2023-08-09T20:11:43.049Z"
   },
   {
    "duration": 100,
    "start_time": "2023-08-09T20:11:43.110Z"
   },
   {
    "duration": 27,
    "start_time": "2023-08-09T20:11:43.211Z"
   },
   {
    "duration": 287,
    "start_time": "2023-08-09T20:11:43.241Z"
   },
   {
    "duration": 12,
    "start_time": "2023-08-09T20:11:43.530Z"
   },
   {
    "duration": 67,
    "start_time": "2023-08-09T20:11:43.544Z"
   },
   {
    "duration": 37,
    "start_time": "2023-08-09T20:11:43.614Z"
   },
   {
    "duration": 5,
    "start_time": "2023-08-09T20:11:43.653Z"
   },
   {
    "duration": 58,
    "start_time": "2023-08-09T20:11:43.659Z"
   },
   {
    "duration": 3,
    "start_time": "2023-08-09T20:11:43.720Z"
   },
   {
    "duration": 290,
    "start_time": "2023-08-09T20:11:43.725Z"
   },
   {
    "duration": 20,
    "start_time": "2023-08-09T20:11:44.017Z"
   },
   {
    "duration": 41,
    "start_time": "2023-08-09T20:11:44.042Z"
   },
   {
    "duration": 541,
    "start_time": "2023-08-09T20:11:44.085Z"
   },
   {
    "duration": 179,
    "start_time": "2023-08-09T20:11:44.629Z"
   },
   {
    "duration": 29,
    "start_time": "2023-08-09T20:11:44.810Z"
   },
   {
    "duration": 175,
    "start_time": "2023-08-09T20:11:44.841Z"
   },
   {
    "duration": 196,
    "start_time": "2023-08-09T20:11:45.018Z"
   },
   {
    "duration": 151,
    "start_time": "2023-08-09T20:11:59.726Z"
   },
   {
    "duration": 19,
    "start_time": "2023-08-09T20:12:20.499Z"
   },
   {
    "duration": 70,
    "start_time": "2023-08-09T20:17:59.223Z"
   },
   {
    "duration": 151,
    "start_time": "2023-08-09T20:18:01.980Z"
   },
   {
    "duration": 63,
    "start_time": "2023-08-09T20:18:41.290Z"
   },
   {
    "duration": 149,
    "start_time": "2023-08-09T20:18:44.753Z"
   },
   {
    "duration": 22,
    "start_time": "2023-08-09T20:19:52.240Z"
   },
   {
    "duration": 13,
    "start_time": "2023-08-09T20:20:24.635Z"
   },
   {
    "duration": 16,
    "start_time": "2023-08-09T20:21:37.661Z"
   },
   {
    "duration": 11,
    "start_time": "2023-08-09T20:22:07.358Z"
   },
   {
    "duration": 12,
    "start_time": "2023-08-09T20:22:17.290Z"
   },
   {
    "duration": 18,
    "start_time": "2023-08-09T20:23:56.774Z"
   },
   {
    "duration": 16,
    "start_time": "2023-08-09T20:24:30.570Z"
   },
   {
    "duration": 11,
    "start_time": "2023-08-09T20:24:51.018Z"
   },
   {
    "duration": 10,
    "start_time": "2023-08-09T20:24:57.091Z"
   },
   {
    "duration": 16,
    "start_time": "2023-08-09T20:26:09.100Z"
   },
   {
    "duration": 22,
    "start_time": "2023-08-09T20:26:34.101Z"
   },
   {
    "duration": 13,
    "start_time": "2023-08-09T20:26:41.244Z"
   },
   {
    "duration": 17,
    "start_time": "2023-08-09T20:27:47.895Z"
   },
   {
    "duration": 21,
    "start_time": "2023-08-09T20:28:28.980Z"
   },
   {
    "duration": 14,
    "start_time": "2023-08-09T20:28:36.890Z"
   },
   {
    "duration": 32,
    "start_time": "2023-08-09T20:28:49.564Z"
   },
   {
    "duration": 20,
    "start_time": "2023-08-09T20:28:55.656Z"
   },
   {
    "duration": 19,
    "start_time": "2023-08-09T20:29:01.317Z"
   },
   {
    "duration": 28,
    "start_time": "2023-08-09T20:29:10.859Z"
   },
   {
    "duration": 101,
    "start_time": "2023-08-09T20:29:16.766Z"
   },
   {
    "duration": 20,
    "start_time": "2023-08-09T20:29:21.963Z"
   },
   {
    "duration": 15,
    "start_time": "2023-08-09T20:30:03.085Z"
   },
   {
    "duration": 5,
    "start_time": "2023-08-09T20:30:36.576Z"
   },
   {
    "duration": 1727,
    "start_time": "2023-08-09T20:30:36.584Z"
   },
   {
    "duration": 962,
    "start_time": "2023-08-09T20:30:38.313Z"
   },
   {
    "duration": 7,
    "start_time": "2023-08-09T20:30:39.277Z"
   },
   {
    "duration": 43763,
    "start_time": "2023-08-09T20:30:39.288Z"
   },
   {
    "duration": 16,
    "start_time": "2023-08-09T20:31:23.053Z"
   },
   {
    "duration": 644,
    "start_time": "2023-08-09T20:31:23.071Z"
   },
   {
    "duration": 560,
    "start_time": "2023-08-09T20:31:23.717Z"
   },
   {
    "duration": 277,
    "start_time": "2023-08-09T20:31:24.279Z"
   },
   {
    "duration": 98,
    "start_time": "2023-08-09T20:31:24.558Z"
   },
   {
    "duration": 31,
    "start_time": "2023-08-09T20:31:24.666Z"
   },
   {
    "duration": 2281,
    "start_time": "2023-08-09T20:31:24.698Z"
   },
   {
    "duration": 588,
    "start_time": "2023-08-09T20:31:26.981Z"
   },
   {
    "duration": 7,
    "start_time": "2023-08-09T20:31:27.575Z"
   },
   {
    "duration": 471,
    "start_time": "2023-08-09T20:31:27.585Z"
   },
   {
    "duration": 361,
    "start_time": "2023-08-09T20:31:28.058Z"
   },
   {
    "duration": 11,
    "start_time": "2023-08-09T20:31:28.421Z"
   },
   {
    "duration": 54,
    "start_time": "2023-08-09T20:31:28.433Z"
   },
   {
    "duration": 88,
    "start_time": "2023-08-09T20:31:28.490Z"
   },
   {
    "duration": 101,
    "start_time": "2023-08-09T20:31:28.582Z"
   },
   {
    "duration": 44,
    "start_time": "2023-08-09T20:31:28.686Z"
   },
   {
    "duration": 103,
    "start_time": "2023-08-09T20:31:28.732Z"
   },
   {
    "duration": 63,
    "start_time": "2023-08-09T20:31:28.837Z"
   },
   {
    "duration": 40,
    "start_time": "2023-08-09T20:31:28.902Z"
   },
   {
    "duration": 61,
    "start_time": "2023-08-09T20:31:28.944Z"
   },
   {
    "duration": 98,
    "start_time": "2023-08-09T20:31:29.008Z"
   },
   {
    "duration": 43,
    "start_time": "2023-08-09T20:31:29.109Z"
   },
   {
    "duration": 399,
    "start_time": "2023-08-09T20:31:29.154Z"
   },
   {
    "duration": 56,
    "start_time": "2023-08-09T20:31:29.555Z"
   },
   {
    "duration": 89,
    "start_time": "2023-08-09T20:31:29.612Z"
   },
   {
    "duration": 18,
    "start_time": "2023-08-09T20:31:29.703Z"
   },
   {
    "duration": 247,
    "start_time": "2023-08-09T20:31:29.723Z"
   },
   {
    "duration": 16,
    "start_time": "2023-08-09T20:31:29.973Z"
   },
   {
    "duration": 38,
    "start_time": "2023-08-09T20:31:29.992Z"
   },
   {
    "duration": 64,
    "start_time": "2023-08-09T20:31:30.031Z"
   },
   {
    "duration": 4,
    "start_time": "2023-08-09T20:31:30.097Z"
   },
   {
    "duration": 64,
    "start_time": "2023-08-09T20:31:30.103Z"
   },
   {
    "duration": 5,
    "start_time": "2023-08-09T20:31:30.169Z"
   },
   {
    "duration": 258,
    "start_time": "2023-08-09T20:31:30.176Z"
   },
   {
    "duration": 53,
    "start_time": "2023-08-09T20:31:30.436Z"
   },
   {
    "duration": 25,
    "start_time": "2023-08-09T20:31:30.495Z"
   },
   {
    "duration": 418,
    "start_time": "2023-08-09T20:31:30.522Z"
   },
   {
    "duration": 172,
    "start_time": "2023-08-09T20:31:30.941Z"
   },
   {
    "duration": 27,
    "start_time": "2023-08-09T20:31:31.115Z"
   },
   {
    "duration": 125,
    "start_time": "2023-08-09T20:31:31.143Z"
   },
   {
    "duration": 155,
    "start_time": "2023-08-09T20:31:31.271Z"
   },
   {
    "duration": 19,
    "start_time": "2023-08-09T20:31:31.428Z"
   },
   {
    "duration": 45,
    "start_time": "2023-08-09T20:31:31.449Z"
   },
   {
    "duration": 104,
    "start_time": "2023-08-09T20:31:31.496Z"
   },
   {
    "duration": 174,
    "start_time": "2023-08-09T20:31:31.602Z"
   },
   {
    "duration": 26,
    "start_time": "2023-08-09T20:31:31.779Z"
   },
   {
    "duration": 24,
    "start_time": "2023-08-09T20:31:31.807Z"
   },
   {
    "duration": 1511,
    "start_time": "2023-08-09T20:35:39.361Z"
   },
   {
    "duration": 451,
    "start_time": "2023-08-09T20:43:52.817Z"
   },
   {
    "duration": 494,
    "start_time": "2023-08-09T20:44:05.385Z"
   },
   {
    "duration": 406,
    "start_time": "2023-08-09T20:44:25.503Z"
   },
   {
    "duration": 18,
    "start_time": "2023-08-09T20:47:07.322Z"
   },
   {
    "duration": 4,
    "start_time": "2023-08-09T20:48:37.174Z"
   },
   {
    "duration": 8,
    "start_time": "2023-08-09T20:48:37.181Z"
   },
   {
    "duration": 874,
    "start_time": "2023-08-09T20:48:37.191Z"
   },
   {
    "duration": 8,
    "start_time": "2023-08-09T20:48:38.068Z"
   },
   {
    "duration": 43960,
    "start_time": "2023-08-09T20:48:38.078Z"
   },
   {
    "duration": 4,
    "start_time": "2023-08-09T20:49:22.040Z"
   },
   {
    "duration": 637,
    "start_time": "2023-08-09T20:49:22.046Z"
   },
   {
    "duration": 470,
    "start_time": "2023-08-09T20:49:22.686Z"
   },
   {
    "duration": 300,
    "start_time": "2023-08-09T20:49:23.159Z"
   },
   {
    "duration": 95,
    "start_time": "2023-08-09T20:49:23.460Z"
   },
   {
    "duration": 35,
    "start_time": "2023-08-09T20:49:23.557Z"
   },
   {
    "duration": 2024,
    "start_time": "2023-08-09T20:49:23.594Z"
   },
   {
    "duration": 729,
    "start_time": "2023-08-09T20:49:25.620Z"
   },
   {
    "duration": 3,
    "start_time": "2023-08-09T20:49:26.350Z"
   },
   {
    "duration": 433,
    "start_time": "2023-08-09T20:49:26.355Z"
   },
   {
    "duration": 196,
    "start_time": "2023-08-09T20:49:26.791Z"
   },
   {
    "duration": 11,
    "start_time": "2023-08-09T20:49:26.989Z"
   },
   {
    "duration": 31,
    "start_time": "2023-08-09T20:49:27.002Z"
   },
   {
    "duration": 115,
    "start_time": "2023-08-09T20:49:27.036Z"
   },
   {
    "duration": 87,
    "start_time": "2023-08-09T20:49:27.153Z"
   },
   {
    "duration": 61,
    "start_time": "2023-08-09T20:49:27.242Z"
   },
   {
    "duration": 80,
    "start_time": "2023-08-09T20:49:27.305Z"
   },
   {
    "duration": 40,
    "start_time": "2023-08-09T20:49:27.387Z"
   },
   {
    "duration": 65,
    "start_time": "2023-08-09T20:49:27.432Z"
   },
   {
    "duration": 39,
    "start_time": "2023-08-09T20:49:27.499Z"
   },
   {
    "duration": 109,
    "start_time": "2023-08-09T20:49:27.541Z"
   },
   {
    "duration": 62,
    "start_time": "2023-08-09T20:49:27.652Z"
   },
   {
    "duration": 379,
    "start_time": "2023-08-09T20:49:27.715Z"
   },
   {
    "duration": 40,
    "start_time": "2023-08-09T20:49:28.096Z"
   },
   {
    "duration": 86,
    "start_time": "2023-08-09T20:49:28.138Z"
   },
   {
    "duration": 17,
    "start_time": "2023-08-09T20:49:28.226Z"
   },
   {
    "duration": 245,
    "start_time": "2023-08-09T20:49:28.246Z"
   },
   {
    "duration": 10,
    "start_time": "2023-08-09T20:49:28.494Z"
   },
   {
    "duration": 39,
    "start_time": "2023-08-09T20:49:28.506Z"
   },
   {
    "duration": 53,
    "start_time": "2023-08-09T20:49:28.547Z"
   },
   {
    "duration": 4,
    "start_time": "2023-08-09T20:49:28.601Z"
   },
   {
    "duration": 34,
    "start_time": "2023-08-09T20:49:28.607Z"
   },
   {
    "duration": 4,
    "start_time": "2023-08-09T20:49:28.643Z"
   },
   {
    "duration": 245,
    "start_time": "2023-08-09T20:49:28.668Z"
   },
   {
    "duration": 20,
    "start_time": "2023-08-09T20:49:28.915Z"
   },
   {
    "duration": 41,
    "start_time": "2023-08-09T20:49:28.937Z"
   },
   {
    "duration": 424,
    "start_time": "2023-08-09T20:49:28.981Z"
   },
   {
    "duration": 171,
    "start_time": "2023-08-09T20:49:29.407Z"
   },
   {
    "duration": 29,
    "start_time": "2023-08-09T20:49:29.580Z"
   },
   {
    "duration": 140,
    "start_time": "2023-08-09T20:49:29.612Z"
   },
   {
    "duration": 147,
    "start_time": "2023-08-09T20:49:29.753Z"
   },
   {
    "duration": 34,
    "start_time": "2023-08-09T20:49:29.902Z"
   },
   {
    "duration": 82,
    "start_time": "2023-08-09T20:49:29.938Z"
   },
   {
    "duration": 299,
    "start_time": "2023-08-09T20:49:30.022Z"
   },
   {
    "duration": 19,
    "start_time": "2023-08-09T20:49:30.323Z"
   },
   {
    "duration": 69,
    "start_time": "2023-08-09T20:49:30.344Z"
   },
   {
    "duration": 18,
    "start_time": "2023-08-09T20:49:30.415Z"
   },
   {
    "duration": 28,
    "start_time": "2023-08-09T20:50:34.517Z"
   },
   {
    "duration": 14,
    "start_time": "2023-08-09T20:50:36.825Z"
   },
   {
    "duration": 4,
    "start_time": "2023-08-09T20:51:10.508Z"
   },
   {
    "duration": 1745,
    "start_time": "2023-08-09T20:51:10.514Z"
   },
   {
    "duration": 990,
    "start_time": "2023-08-09T20:51:12.261Z"
   },
   {
    "duration": 7,
    "start_time": "2023-08-09T20:51:13.254Z"
   },
   {
    "duration": 42228,
    "start_time": "2023-08-09T20:51:13.268Z"
   },
   {
    "duration": 4,
    "start_time": "2023-08-09T20:51:55.497Z"
   },
   {
    "duration": 660,
    "start_time": "2023-08-09T20:51:55.503Z"
   },
   {
    "duration": 472,
    "start_time": "2023-08-09T20:51:56.166Z"
   },
   {
    "duration": 273,
    "start_time": "2023-08-09T20:51:56.640Z"
   },
   {
    "duration": 94,
    "start_time": "2023-08-09T20:51:56.915Z"
   },
   {
    "duration": 27,
    "start_time": "2023-08-09T20:51:57.011Z"
   },
   {
    "duration": 2086,
    "start_time": "2023-08-09T20:51:57.067Z"
   },
   {
    "duration": 562,
    "start_time": "2023-08-09T20:51:59.155Z"
   },
   {
    "duration": 3,
    "start_time": "2023-08-09T20:51:59.721Z"
   },
   {
    "duration": 450,
    "start_time": "2023-08-09T20:51:59.726Z"
   },
   {
    "duration": 339,
    "start_time": "2023-08-09T20:52:00.179Z"
   },
   {
    "duration": 12,
    "start_time": "2023-08-09T20:52:00.520Z"
   },
   {
    "duration": 54,
    "start_time": "2023-08-09T20:52:00.534Z"
   },
   {
    "duration": 88,
    "start_time": "2023-08-09T20:52:00.590Z"
   },
   {
    "duration": 95,
    "start_time": "2023-08-09T20:52:00.681Z"
   },
   {
    "duration": 50,
    "start_time": "2023-08-09T20:52:00.778Z"
   },
   {
    "duration": 100,
    "start_time": "2023-08-09T20:52:00.831Z"
   },
   {
    "duration": 53,
    "start_time": "2023-08-09T20:52:00.932Z"
   },
   {
    "duration": 41,
    "start_time": "2023-08-09T20:52:00.987Z"
   },
   {
    "duration": 117,
    "start_time": "2023-08-09T20:52:01.030Z"
   },
   {
    "duration": 88,
    "start_time": "2023-08-09T20:52:01.149Z"
   },
   {
    "duration": 49,
    "start_time": "2023-08-09T20:52:01.239Z"
   },
   {
    "duration": 421,
    "start_time": "2023-08-09T20:52:01.290Z"
   },
   {
    "duration": 54,
    "start_time": "2023-08-09T20:52:01.713Z"
   },
   {
    "duration": 73,
    "start_time": "2023-08-09T20:52:01.769Z"
   },
   {
    "duration": 38,
    "start_time": "2023-08-09T20:52:01.844Z"
   },
   {
    "duration": 238,
    "start_time": "2023-08-09T20:52:01.884Z"
   },
   {
    "duration": 13,
    "start_time": "2023-08-09T20:52:02.124Z"
   },
   {
    "duration": 63,
    "start_time": "2023-08-09T20:52:02.139Z"
   },
   {
    "duration": 46,
    "start_time": "2023-08-09T20:52:02.205Z"
   },
   {
    "duration": 16,
    "start_time": "2023-08-09T20:52:02.254Z"
   },
   {
    "duration": 80,
    "start_time": "2023-08-09T20:52:02.272Z"
   },
   {
    "duration": 5,
    "start_time": "2023-08-09T20:52:02.354Z"
   },
   {
    "duration": 262,
    "start_time": "2023-08-09T20:52:02.361Z"
   },
   {
    "duration": 23,
    "start_time": "2023-08-09T20:52:02.625Z"
   },
   {
    "duration": 30,
    "start_time": "2023-08-09T20:52:02.653Z"
   },
   {
    "duration": 437,
    "start_time": "2023-08-09T20:52:02.685Z"
   },
   {
    "duration": 159,
    "start_time": "2023-08-09T20:52:03.124Z"
   },
   {
    "duration": 39,
    "start_time": "2023-08-09T20:52:03.285Z"
   },
   {
    "duration": 118,
    "start_time": "2023-08-09T20:52:03.327Z"
   },
   {
    "duration": 154,
    "start_time": "2023-08-09T20:52:03.447Z"
   },
   {
    "duration": 37,
    "start_time": "2023-08-09T20:52:03.603Z"
   },
   {
    "duration": 74,
    "start_time": "2023-08-09T20:52:03.642Z"
   },
   {
    "duration": 160,
    "start_time": "2023-08-09T20:52:03.718Z"
   },
   {
    "duration": 56,
    "start_time": "2023-08-09T20:52:03.881Z"
   },
   {
    "duration": 35,
    "start_time": "2023-08-09T20:52:03.941Z"
   },
   {
    "duration": 53,
    "start_time": "2023-08-09T20:52:03.978Z"
   },
   {
    "duration": 8,
    "start_time": "2023-08-09T20:52:04.034Z"
   },
   {
    "duration": 181,
    "start_time": "2023-08-09T20:52:04.044Z"
   },
   {
    "duration": 199,
    "start_time": "2023-08-09T20:52:04.227Z"
   },
   {
    "duration": 129,
    "start_time": "2023-08-09T20:52:16.668Z"
   },
   {
    "duration": 11,
    "start_time": "2023-08-09T20:53:48.210Z"
   },
   {
    "duration": 3,
    "start_time": "2023-08-09T20:53:53.968Z"
   },
   {
    "duration": 7,
    "start_time": "2023-08-09T20:53:53.973Z"
   },
   {
    "duration": 937,
    "start_time": "2023-08-09T20:53:53.982Z"
   },
   {
    "duration": 8,
    "start_time": "2023-08-09T20:53:54.921Z"
   },
   {
    "duration": 45142,
    "start_time": "2023-08-09T20:53:54.931Z"
   },
   {
    "duration": 4,
    "start_time": "2023-08-09T20:54:40.075Z"
   },
   {
    "duration": 832,
    "start_time": "2023-08-09T20:54:40.081Z"
   },
   {
    "duration": 518,
    "start_time": "2023-08-09T20:54:40.915Z"
   },
   {
    "duration": 287,
    "start_time": "2023-08-09T20:54:41.435Z"
   },
   {
    "duration": 86,
    "start_time": "2023-08-09T20:54:41.724Z"
   },
   {
    "duration": 21,
    "start_time": "2023-08-09T20:54:41.812Z"
   },
   {
    "duration": 2254,
    "start_time": "2023-08-09T20:54:41.835Z"
   },
   {
    "duration": 596,
    "start_time": "2023-08-09T20:54:44.092Z"
   },
   {
    "duration": 3,
    "start_time": "2023-08-09T20:54:44.693Z"
   },
   {
    "duration": 497,
    "start_time": "2023-08-09T20:54:44.698Z"
   },
   {
    "duration": 209,
    "start_time": "2023-08-09T20:54:45.197Z"
   },
   {
    "duration": 12,
    "start_time": "2023-08-09T20:54:45.408Z"
   },
   {
    "duration": 56,
    "start_time": "2023-08-09T20:54:45.423Z"
   },
   {
    "duration": 88,
    "start_time": "2023-08-09T20:54:45.483Z"
   },
   {
    "duration": 92,
    "start_time": "2023-08-09T20:54:45.576Z"
   },
   {
    "duration": 42,
    "start_time": "2023-08-09T20:54:45.671Z"
   },
   {
    "duration": 84,
    "start_time": "2023-08-09T20:54:45.715Z"
   },
   {
    "duration": 44,
    "start_time": "2023-08-09T20:54:45.801Z"
   },
   {
    "duration": 57,
    "start_time": "2023-08-09T20:54:45.847Z"
   },
   {
    "duration": 57,
    "start_time": "2023-08-09T20:54:45.906Z"
   },
   {
    "duration": 93,
    "start_time": "2023-08-09T20:54:45.965Z"
   },
   {
    "duration": 49,
    "start_time": "2023-08-09T20:54:46.067Z"
   },
   {
    "duration": 379,
    "start_time": "2023-08-09T20:54:46.117Z"
   },
   {
    "duration": 43,
    "start_time": "2023-08-09T20:54:46.498Z"
   },
   {
    "duration": 100,
    "start_time": "2023-08-09T20:54:46.542Z"
   },
   {
    "duration": 32,
    "start_time": "2023-08-09T20:54:46.644Z"
   },
   {
    "duration": 430,
    "start_time": "2023-08-09T20:54:46.677Z"
   },
   {
    "duration": 13,
    "start_time": "2023-08-09T20:54:47.109Z"
   },
   {
    "duration": 50,
    "start_time": "2023-08-09T20:54:47.124Z"
   },
   {
    "duration": 40,
    "start_time": "2023-08-09T20:54:47.176Z"
   },
   {
    "duration": 5,
    "start_time": "2023-08-09T20:54:47.217Z"
   },
   {
    "duration": 59,
    "start_time": "2023-08-09T20:54:47.224Z"
   },
   {
    "duration": 5,
    "start_time": "2023-08-09T20:54:47.285Z"
   },
   {
    "duration": 255,
    "start_time": "2023-08-09T20:54:47.291Z"
   },
   {
    "duration": 30,
    "start_time": "2023-08-09T20:54:47.548Z"
   },
   {
    "duration": 21,
    "start_time": "2023-08-09T20:54:47.586Z"
   },
   {
    "duration": 442,
    "start_time": "2023-08-09T20:54:47.609Z"
   },
   {
    "duration": 176,
    "start_time": "2023-08-09T20:54:48.053Z"
   },
   {
    "duration": 48,
    "start_time": "2023-08-09T20:54:48.230Z"
   },
   {
    "duration": 116,
    "start_time": "2023-08-09T20:54:48.280Z"
   },
   {
    "duration": 152,
    "start_time": "2023-08-09T20:54:48.398Z"
   },
   {
    "duration": 47,
    "start_time": "2023-08-09T20:54:48.552Z"
   },
   {
    "duration": 80,
    "start_time": "2023-08-09T20:54:48.601Z"
   },
   {
    "duration": 39,
    "start_time": "2023-08-09T20:54:48.683Z"
   },
   {
    "duration": 19,
    "start_time": "2023-08-09T20:55:22.995Z"
   },
   {
    "duration": 4,
    "start_time": "2023-08-09T20:56:04.230Z"
   },
   {
    "duration": 1768,
    "start_time": "2023-08-09T20:56:04.237Z"
   },
   {
    "duration": 952,
    "start_time": "2023-08-09T20:56:06.007Z"
   },
   {
    "duration": 10,
    "start_time": "2023-08-09T20:56:06.961Z"
   },
   {
    "duration": 44129,
    "start_time": "2023-08-09T20:56:06.973Z"
   },
   {
    "duration": 3,
    "start_time": "2023-08-09T20:56:51.104Z"
   },
   {
    "duration": 673,
    "start_time": "2023-08-09T20:56:51.110Z"
   },
   {
    "duration": 479,
    "start_time": "2023-08-09T20:56:51.785Z"
   },
   {
    "duration": 284,
    "start_time": "2023-08-09T20:56:52.268Z"
   },
   {
    "duration": 99,
    "start_time": "2023-08-09T20:56:52.555Z"
   },
   {
    "duration": 37,
    "start_time": "2023-08-09T20:56:52.657Z"
   },
   {
    "duration": 2385,
    "start_time": "2023-08-09T20:56:52.696Z"
   },
   {
    "duration": 585,
    "start_time": "2023-08-09T20:56:55.084Z"
   },
   {
    "duration": 4,
    "start_time": "2023-08-09T20:56:55.672Z"
   },
   {
    "duration": 463,
    "start_time": "2023-08-09T20:56:55.680Z"
   },
   {
    "duration": 332,
    "start_time": "2023-08-09T20:56:56.145Z"
   },
   {
    "duration": 14,
    "start_time": "2023-08-09T20:56:56.480Z"
   },
   {
    "duration": 31,
    "start_time": "2023-08-09T20:56:56.496Z"
   },
   {
    "duration": 111,
    "start_time": "2023-08-09T20:56:56.528Z"
   },
   {
    "duration": 97,
    "start_time": "2023-08-09T20:56:56.641Z"
   },
   {
    "duration": 46,
    "start_time": "2023-08-09T20:56:56.740Z"
   },
   {
    "duration": 79,
    "start_time": "2023-08-09T20:56:56.788Z"
   },
   {
    "duration": 47,
    "start_time": "2023-08-09T20:56:56.869Z"
   },
   {
    "duration": 59,
    "start_time": "2023-08-09T20:56:56.918Z"
   },
   {
    "duration": 53,
    "start_time": "2023-08-09T20:56:56.980Z"
   },
   {
    "duration": 98,
    "start_time": "2023-08-09T20:56:57.035Z"
   },
   {
    "duration": 54,
    "start_time": "2023-08-09T20:56:57.135Z"
   },
   {
    "duration": 415,
    "start_time": "2023-08-09T20:56:57.193Z"
   },
   {
    "duration": 40,
    "start_time": "2023-08-09T20:56:57.609Z"
   },
   {
    "duration": 91,
    "start_time": "2023-08-09T20:56:57.651Z"
   },
   {
    "duration": 32,
    "start_time": "2023-08-09T20:56:57.743Z"
   },
   {
    "duration": 245,
    "start_time": "2023-08-09T20:56:57.777Z"
   },
   {
    "duration": 16,
    "start_time": "2023-08-09T20:56:58.025Z"
   },
   {
    "duration": 58,
    "start_time": "2023-08-09T20:56:58.044Z"
   },
   {
    "duration": 35,
    "start_time": "2023-08-09T20:56:58.104Z"
   },
   {
    "duration": 3,
    "start_time": "2023-08-09T20:56:58.141Z"
   },
   {
    "duration": 52,
    "start_time": "2023-08-09T20:56:58.146Z"
   },
   {
    "duration": 4,
    "start_time": "2023-08-09T20:56:58.200Z"
   },
   {
    "duration": 251,
    "start_time": "2023-08-09T20:56:58.206Z"
   },
   {
    "duration": 43,
    "start_time": "2023-08-09T20:56:58.459Z"
   },
   {
    "duration": 17,
    "start_time": "2023-08-09T20:56:58.505Z"
   },
   {
    "duration": 417,
    "start_time": "2023-08-09T20:56:58.524Z"
   },
   {
    "duration": 157,
    "start_time": "2023-08-09T20:56:58.942Z"
   },
   {
    "duration": 41,
    "start_time": "2023-08-09T20:56:59.101Z"
   },
   {
    "duration": 141,
    "start_time": "2023-08-09T20:56:59.144Z"
   },
   {
    "duration": 151,
    "start_time": "2023-08-09T20:56:59.288Z"
   },
   {
    "duration": 38,
    "start_time": "2023-08-09T20:56:59.440Z"
   },
   {
    "duration": 87,
    "start_time": "2023-08-09T20:56:59.480Z"
   },
   {
    "duration": 23,
    "start_time": "2023-08-09T20:56:59.569Z"
   },
   {
    "duration": 16,
    "start_time": "2023-08-09T20:56:59.594Z"
   },
   {
    "duration": 12,
    "start_time": "2023-08-09T20:56:59.612Z"
   },
   {
    "duration": 188,
    "start_time": "2023-08-09T20:56:59.626Z"
   },
   {
    "duration": 214,
    "start_time": "2023-08-09T20:56:59.817Z"
   },
   {
    "duration": 27,
    "start_time": "2023-08-09T20:57:44.602Z"
   },
   {
    "duration": 3,
    "start_time": "2023-08-09T20:58:43.550Z"
   },
   {
    "duration": 9,
    "start_time": "2023-08-09T20:58:43.555Z"
   },
   {
    "duration": 936,
    "start_time": "2023-08-09T20:58:43.566Z"
   },
   {
    "duration": 6,
    "start_time": "2023-08-09T20:58:44.504Z"
   },
   {
    "duration": 2691,
    "start_time": "2023-08-09T20:58:44.512Z"
   },
   {
    "duration": 0,
    "start_time": "2023-08-09T20:58:47.207Z"
   },
   {
    "duration": 0,
    "start_time": "2023-08-09T20:58:47.209Z"
   },
   {
    "duration": 0,
    "start_time": "2023-08-09T20:58:47.210Z"
   },
   {
    "duration": 0,
    "start_time": "2023-08-09T20:58:47.211Z"
   },
   {
    "duration": 0,
    "start_time": "2023-08-09T20:58:47.212Z"
   },
   {
    "duration": 0,
    "start_time": "2023-08-09T20:58:47.213Z"
   },
   {
    "duration": 0,
    "start_time": "2023-08-09T20:58:47.215Z"
   },
   {
    "duration": 0,
    "start_time": "2023-08-09T20:58:47.216Z"
   },
   {
    "duration": 0,
    "start_time": "2023-08-09T20:58:47.216Z"
   },
   {
    "duration": 0,
    "start_time": "2023-08-09T20:58:47.218Z"
   },
   {
    "duration": 0,
    "start_time": "2023-08-09T20:58:47.219Z"
   },
   {
    "duration": 0,
    "start_time": "2023-08-09T20:58:47.220Z"
   },
   {
    "duration": 0,
    "start_time": "2023-08-09T20:58:47.221Z"
   },
   {
    "duration": 0,
    "start_time": "2023-08-09T20:58:47.222Z"
   },
   {
    "duration": 0,
    "start_time": "2023-08-09T20:58:47.223Z"
   },
   {
    "duration": 0,
    "start_time": "2023-08-09T20:58:47.224Z"
   },
   {
    "duration": 0,
    "start_time": "2023-08-09T20:58:47.226Z"
   },
   {
    "duration": 0,
    "start_time": "2023-08-09T20:58:47.227Z"
   },
   {
    "duration": 0,
    "start_time": "2023-08-09T20:58:47.228Z"
   },
   {
    "duration": 0,
    "start_time": "2023-08-09T20:58:47.269Z"
   },
   {
    "duration": 0,
    "start_time": "2023-08-09T20:58:47.271Z"
   },
   {
    "duration": 0,
    "start_time": "2023-08-09T20:58:47.272Z"
   },
   {
    "duration": 0,
    "start_time": "2023-08-09T20:58:47.273Z"
   },
   {
    "duration": 0,
    "start_time": "2023-08-09T20:58:47.274Z"
   },
   {
    "duration": 0,
    "start_time": "2023-08-09T20:58:47.275Z"
   },
   {
    "duration": 0,
    "start_time": "2023-08-09T20:58:47.277Z"
   },
   {
    "duration": 0,
    "start_time": "2023-08-09T20:58:47.278Z"
   },
   {
    "duration": 0,
    "start_time": "2023-08-09T20:58:47.280Z"
   },
   {
    "duration": 0,
    "start_time": "2023-08-09T20:58:47.281Z"
   },
   {
    "duration": 0,
    "start_time": "2023-08-09T20:58:47.282Z"
   },
   {
    "duration": 0,
    "start_time": "2023-08-09T20:58:47.284Z"
   },
   {
    "duration": 0,
    "start_time": "2023-08-09T20:58:47.285Z"
   },
   {
    "duration": 0,
    "start_time": "2023-08-09T20:58:47.286Z"
   },
   {
    "duration": 0,
    "start_time": "2023-08-09T20:58:47.287Z"
   },
   {
    "duration": 0,
    "start_time": "2023-08-09T20:58:47.288Z"
   },
   {
    "duration": 0,
    "start_time": "2023-08-09T20:58:47.291Z"
   },
   {
    "duration": 0,
    "start_time": "2023-08-09T20:58:47.293Z"
   },
   {
    "duration": 0,
    "start_time": "2023-08-09T20:58:47.294Z"
   },
   {
    "duration": 0,
    "start_time": "2023-08-09T20:58:47.295Z"
   },
   {
    "duration": 0,
    "start_time": "2023-08-09T20:58:47.297Z"
   },
   {
    "duration": 0,
    "start_time": "2023-08-09T20:58:47.298Z"
   },
   {
    "duration": 0,
    "start_time": "2023-08-09T20:58:47.300Z"
   },
   {
    "duration": 0,
    "start_time": "2023-08-09T20:58:47.302Z"
   },
   {
    "duration": 0,
    "start_time": "2023-08-09T20:58:47.303Z"
   },
   {
    "duration": 0,
    "start_time": "2023-08-09T20:58:47.305Z"
   },
   {
    "duration": 0,
    "start_time": "2023-08-09T20:58:47.306Z"
   },
   {
    "duration": 0,
    "start_time": "2023-08-09T20:58:47.308Z"
   },
   {
    "duration": 0,
    "start_time": "2023-08-09T20:58:47.369Z"
   },
   {
    "duration": 0,
    "start_time": "2023-08-09T20:58:47.370Z"
   },
   {
    "duration": 0,
    "start_time": "2023-08-09T20:58:47.371Z"
   },
   {
    "duration": 0,
    "start_time": "2023-08-09T20:58:47.377Z"
   },
   {
    "duration": 0,
    "start_time": "2023-08-09T20:58:47.386Z"
   },
   {
    "duration": 0,
    "start_time": "2023-08-09T20:58:47.388Z"
   },
   {
    "duration": 0,
    "start_time": "2023-08-09T20:58:47.389Z"
   },
   {
    "duration": 0,
    "start_time": "2023-08-09T20:58:47.392Z"
   },
   {
    "duration": 0,
    "start_time": "2023-08-09T20:58:47.393Z"
   },
   {
    "duration": 0,
    "start_time": "2023-08-09T20:58:47.394Z"
   },
   {
    "duration": 0,
    "start_time": "2023-08-09T20:58:47.396Z"
   },
   {
    "duration": 0,
    "start_time": "2023-08-09T20:58:47.397Z"
   },
   {
    "duration": 0,
    "start_time": "2023-08-09T20:58:47.398Z"
   },
   {
    "duration": 0,
    "start_time": "2023-08-09T20:58:47.399Z"
   },
   {
    "duration": 0,
    "start_time": "2023-08-09T20:58:47.400Z"
   },
   {
    "duration": 1,
    "start_time": "2023-08-09T20:58:47.401Z"
   },
   {
    "duration": 0,
    "start_time": "2023-08-09T20:58:47.403Z"
   },
   {
    "duration": 0,
    "start_time": "2023-08-09T20:58:47.404Z"
   },
   {
    "duration": 0,
    "start_time": "2023-08-09T20:58:47.406Z"
   },
   {
    "duration": 0,
    "start_time": "2023-08-09T20:58:47.408Z"
   },
   {
    "duration": 0,
    "start_time": "2023-08-09T20:58:47.409Z"
   },
   {
    "duration": 0,
    "start_time": "2023-08-09T20:58:47.410Z"
   },
   {
    "duration": 0,
    "start_time": "2023-08-09T20:58:47.412Z"
   },
   {
    "duration": 1,
    "start_time": "2023-08-09T20:58:47.413Z"
   },
   {
    "duration": 0,
    "start_time": "2023-08-09T20:58:47.414Z"
   },
   {
    "duration": 0,
    "start_time": "2023-08-09T20:58:47.469Z"
   },
   {
    "duration": 0,
    "start_time": "2023-08-09T20:58:47.471Z"
   },
   {
    "duration": 0,
    "start_time": "2023-08-09T20:58:47.472Z"
   },
   {
    "duration": 4,
    "start_time": "2023-08-09T20:59:27.019Z"
   },
   {
    "duration": 1704,
    "start_time": "2023-08-09T20:59:27.025Z"
   },
   {
    "duration": 956,
    "start_time": "2023-08-09T20:59:28.731Z"
   },
   {
    "duration": 7,
    "start_time": "2023-08-09T20:59:29.689Z"
   },
   {
    "duration": 43052,
    "start_time": "2023-08-09T20:59:29.698Z"
   },
   {
    "duration": 4,
    "start_time": "2023-08-09T21:00:12.752Z"
   },
   {
    "duration": 665,
    "start_time": "2023-08-09T21:00:12.770Z"
   },
   {
    "duration": 482,
    "start_time": "2023-08-09T21:00:13.437Z"
   },
   {
    "duration": 332,
    "start_time": "2023-08-09T21:00:13.921Z"
   },
   {
    "duration": 88,
    "start_time": "2023-08-09T21:00:14.255Z"
   },
   {
    "duration": 41,
    "start_time": "2023-08-09T21:00:14.344Z"
   },
   {
    "duration": 2251,
    "start_time": "2023-08-09T21:00:14.386Z"
   },
   {
    "duration": 594,
    "start_time": "2023-08-09T21:00:16.639Z"
   },
   {
    "duration": 3,
    "start_time": "2023-08-09T21:00:17.237Z"
   },
   {
    "duration": 451,
    "start_time": "2023-08-09T21:00:17.241Z"
   },
   {
    "duration": 351,
    "start_time": "2023-08-09T21:00:17.694Z"
   },
   {
    "duration": 20,
    "start_time": "2023-08-09T21:00:18.047Z"
   },
   {
    "duration": 35,
    "start_time": "2023-08-09T21:00:18.070Z"
   },
   {
    "duration": 119,
    "start_time": "2023-08-09T21:00:18.107Z"
   },
   {
    "duration": 92,
    "start_time": "2023-08-09T21:00:18.228Z"
   },
   {
    "duration": 45,
    "start_time": "2023-08-09T21:00:18.322Z"
   },
   {
    "duration": 68,
    "start_time": "2023-08-09T21:00:18.369Z"
   },
   {
    "duration": 78,
    "start_time": "2023-08-09T21:00:18.440Z"
   },
   {
    "duration": 85,
    "start_time": "2023-08-09T21:00:18.520Z"
   },
   {
    "duration": 87,
    "start_time": "2023-08-09T21:00:18.607Z"
   },
   {
    "duration": 101,
    "start_time": "2023-08-09T21:00:18.696Z"
   },
   {
    "duration": 47,
    "start_time": "2023-08-09T21:00:18.798Z"
   },
   {
    "duration": 380,
    "start_time": "2023-08-09T21:00:18.848Z"
   },
   {
    "duration": 51,
    "start_time": "2023-08-09T21:00:19.230Z"
   },
   {
    "duration": 99,
    "start_time": "2023-08-09T21:00:19.284Z"
   },
   {
    "duration": 21,
    "start_time": "2023-08-09T21:00:19.385Z"
   },
   {
    "duration": 242,
    "start_time": "2023-08-09T21:00:19.408Z"
   },
   {
    "duration": 20,
    "start_time": "2023-08-09T21:00:19.652Z"
   },
   {
    "duration": 37,
    "start_time": "2023-08-09T21:00:19.676Z"
   },
   {
    "duration": 52,
    "start_time": "2023-08-09T21:00:19.715Z"
   },
   {
    "duration": 9,
    "start_time": "2023-08-09T21:00:19.769Z"
   },
   {
    "duration": 51,
    "start_time": "2023-08-09T21:00:19.785Z"
   },
   {
    "duration": 4,
    "start_time": "2023-08-09T21:00:19.838Z"
   },
   {
    "duration": 253,
    "start_time": "2023-08-09T21:00:19.844Z"
   },
   {
    "duration": 35,
    "start_time": "2023-08-09T21:00:20.099Z"
   },
   {
    "duration": 71,
    "start_time": "2023-08-09T21:00:20.138Z"
   },
   {
    "duration": 430,
    "start_time": "2023-08-09T21:00:20.211Z"
   },
   {
    "duration": 159,
    "start_time": "2023-08-09T21:00:20.643Z"
   },
   {
    "duration": 26,
    "start_time": "2023-08-09T21:00:20.804Z"
   },
   {
    "duration": 196,
    "start_time": "2023-08-09T21:00:20.832Z"
   },
   {
    "duration": 149,
    "start_time": "2023-08-09T21:00:21.031Z"
   },
   {
    "duration": 40,
    "start_time": "2023-08-09T21:00:21.182Z"
   },
   {
    "duration": 79,
    "start_time": "2023-08-09T21:00:21.224Z"
   },
   {
    "duration": 18,
    "start_time": "2023-08-09T21:00:21.306Z"
   },
   {
    "duration": 47,
    "start_time": "2023-08-09T21:00:21.326Z"
   },
   {
    "duration": 31,
    "start_time": "2023-08-09T21:00:21.375Z"
   },
   {
    "duration": 18,
    "start_time": "2023-08-09T21:00:21.409Z"
   },
   {
    "duration": 146,
    "start_time": "2023-08-09T21:00:21.429Z"
   },
   {
    "duration": 191,
    "start_time": "2023-08-09T21:00:21.577Z"
   },
   {
    "duration": 140,
    "start_time": "2023-08-09T21:00:21.770Z"
   },
   {
    "duration": 5,
    "start_time": "2023-08-09T21:06:06.965Z"
   },
   {
    "duration": 1686,
    "start_time": "2023-08-09T21:06:06.975Z"
   },
   {
    "duration": 880,
    "start_time": "2023-08-09T21:06:08.663Z"
   },
   {
    "duration": 5,
    "start_time": "2023-08-09T21:06:09.545Z"
   },
   {
    "duration": 38761,
    "start_time": "2023-08-09T21:06:09.552Z"
   },
   {
    "duration": 4,
    "start_time": "2023-08-09T21:06:48.315Z"
   },
   {
    "duration": 644,
    "start_time": "2023-08-09T21:06:48.321Z"
   },
   {
    "duration": 464,
    "start_time": "2023-08-09T21:06:48.967Z"
   },
   {
    "duration": 248,
    "start_time": "2023-08-09T21:06:49.434Z"
   },
   {
    "duration": 90,
    "start_time": "2023-08-09T21:06:49.685Z"
   },
   {
    "duration": 25,
    "start_time": "2023-08-09T21:06:49.777Z"
   },
   {
    "duration": 2086,
    "start_time": "2023-08-09T21:06:49.803Z"
   },
   {
    "duration": 558,
    "start_time": "2023-08-09T21:06:51.891Z"
   },
   {
    "duration": 3,
    "start_time": "2023-08-09T21:06:52.451Z"
   },
   {
    "duration": 418,
    "start_time": "2023-08-09T21:06:52.457Z"
   },
   {
    "duration": 323,
    "start_time": "2023-08-09T21:06:52.877Z"
   },
   {
    "duration": 12,
    "start_time": "2023-08-09T21:06:53.201Z"
   },
   {
    "duration": 52,
    "start_time": "2023-08-09T21:06:53.215Z"
   },
   {
    "duration": 71,
    "start_time": "2023-08-09T21:06:53.269Z"
   },
   {
    "duration": 85,
    "start_time": "2023-08-09T21:06:53.342Z"
   },
   {
    "duration": 46,
    "start_time": "2023-08-09T21:06:53.429Z"
   },
   {
    "duration": 57,
    "start_time": "2023-08-09T21:06:53.477Z"
   },
   {
    "duration": 50,
    "start_time": "2023-08-09T21:06:53.536Z"
   },
   {
    "duration": 37,
    "start_time": "2023-08-09T21:06:53.588Z"
   },
   {
    "duration": 49,
    "start_time": "2023-08-09T21:06:53.627Z"
   },
   {
    "duration": 91,
    "start_time": "2023-08-09T21:06:53.677Z"
   },
   {
    "duration": 40,
    "start_time": "2023-08-09T21:06:53.769Z"
   },
   {
    "duration": 391,
    "start_time": "2023-08-09T21:06:53.811Z"
   },
   {
    "duration": 40,
    "start_time": "2023-08-09T21:06:54.203Z"
   },
   {
    "duration": 90,
    "start_time": "2023-08-09T21:06:54.245Z"
   },
   {
    "duration": 18,
    "start_time": "2023-08-09T21:06:54.337Z"
   },
   {
    "duration": 221,
    "start_time": "2023-08-09T21:06:54.368Z"
   },
   {
    "duration": 13,
    "start_time": "2023-08-09T21:06:54.591Z"
   },
   {
    "duration": 34,
    "start_time": "2023-08-09T21:06:54.605Z"
   },
   {
    "duration": 53,
    "start_time": "2023-08-09T21:06:54.641Z"
   },
   {
    "duration": 5,
    "start_time": "2023-08-09T21:06:54.696Z"
   },
   {
    "duration": 38,
    "start_time": "2023-08-09T21:06:54.703Z"
   },
   {
    "duration": 5,
    "start_time": "2023-08-09T21:06:54.743Z"
   },
   {
    "duration": 261,
    "start_time": "2023-08-09T21:06:54.768Z"
   },
   {
    "duration": 36,
    "start_time": "2023-08-09T21:06:55.032Z"
   },
   {
    "duration": 18,
    "start_time": "2023-08-09T21:06:55.070Z"
   },
   {
    "duration": 398,
    "start_time": "2023-08-09T21:06:55.092Z"
   },
   {
    "duration": 149,
    "start_time": "2023-08-09T21:06:55.492Z"
   },
   {
    "duration": 35,
    "start_time": "2023-08-09T21:06:55.642Z"
   },
   {
    "duration": 113,
    "start_time": "2023-08-09T21:06:55.679Z"
   },
   {
    "duration": 146,
    "start_time": "2023-08-09T21:06:55.793Z"
   },
   {
    "duration": 35,
    "start_time": "2023-08-09T21:06:55.941Z"
   },
   {
    "duration": 66,
    "start_time": "2023-08-09T21:06:55.978Z"
   },
   {
    "duration": 30,
    "start_time": "2023-08-09T21:06:56.046Z"
   },
   {
    "duration": 37,
    "start_time": "2023-08-09T21:06:56.078Z"
   },
   {
    "duration": 27,
    "start_time": "2023-08-09T21:06:56.117Z"
   },
   {
    "duration": 6,
    "start_time": "2023-08-09T21:06:56.168Z"
   },
   {
    "duration": 158,
    "start_time": "2023-08-09T21:06:56.176Z"
   },
   {
    "duration": 182,
    "start_time": "2023-08-09T21:06:56.337Z"
   },
   {
    "duration": 127,
    "start_time": "2023-08-09T21:06:56.521Z"
   },
   {
    "duration": 21,
    "start_time": "2023-08-09T21:06:56.650Z"
   },
   {
    "duration": 65,
    "start_time": "2023-08-09T21:06:56.673Z"
   },
   {
    "duration": 37,
    "start_time": "2023-08-09T21:06:56.740Z"
   },
   {
    "duration": 33,
    "start_time": "2023-08-09T21:06:56.779Z"
   },
   {
    "duration": 19,
    "start_time": "2023-08-09T21:06:56.814Z"
   },
   {
    "duration": 179,
    "start_time": "2023-08-09T21:06:56.835Z"
   },
   {
    "duration": 465,
    "start_time": "2023-08-09T21:06:57.015Z"
   },
   {
    "duration": 36,
    "start_time": "2023-08-09T21:06:57.482Z"
   },
   {
    "duration": 107,
    "start_time": "2023-08-09T21:06:57.520Z"
   },
   {
    "duration": 18,
    "start_time": "2023-08-09T21:06:57.629Z"
   },
   {
    "duration": 374,
    "start_time": "2023-08-09T21:06:57.649Z"
   },
   {
    "duration": 5,
    "start_time": "2023-08-09T21:06:58.025Z"
   },
   {
    "duration": 21,
    "start_time": "2023-08-09T21:06:58.032Z"
   },
   {
    "duration": 316,
    "start_time": "2023-08-09T21:06:58.055Z"
   },
   {
    "duration": 296058,
    "start_time": "2023-08-09T21:06:58.373Z"
   },
   {
    "duration": 6454,
    "start_time": "2023-08-09T21:15:05.591Z"
   },
   {
    "duration": 4,
    "start_time": "2023-08-09T21:15:58.025Z"
   },
   {
    "duration": 5,
    "start_time": "2023-08-09T21:15:58.031Z"
   },
   {
    "duration": 37946,
    "start_time": "2023-08-09T21:15:58.038Z"
   },
   {
    "duration": 94,
    "start_time": "2023-08-09T21:16:35.986Z"
   },
   {
    "duration": 4,
    "start_time": "2023-08-09T21:16:36.082Z"
   },
   {
    "duration": 4,
    "start_time": "2023-08-09T21:16:55.954Z"
   },
   {
    "duration": 1599,
    "start_time": "2023-08-09T21:16:55.960Z"
   },
   {
    "duration": 937,
    "start_time": "2023-08-09T21:16:57.560Z"
   },
   {
    "duration": 5,
    "start_time": "2023-08-09T21:16:58.500Z"
   },
   {
    "duration": 41044,
    "start_time": "2023-08-09T21:16:58.507Z"
   },
   {
    "duration": 3,
    "start_time": "2023-08-09T21:17:39.553Z"
   },
   {
    "duration": 663,
    "start_time": "2023-08-09T21:17:39.558Z"
   },
   {
    "duration": 508,
    "start_time": "2023-08-09T21:17:40.223Z"
   },
   {
    "duration": 274,
    "start_time": "2023-08-09T21:17:40.734Z"
   },
   {
    "duration": 85,
    "start_time": "2023-08-09T21:17:41.010Z"
   },
   {
    "duration": 22,
    "start_time": "2023-08-09T21:17:41.097Z"
   },
   {
    "duration": 2204,
    "start_time": "2023-08-09T21:17:41.121Z"
   },
   {
    "duration": 578,
    "start_time": "2023-08-09T21:17:43.327Z"
   },
   {
    "duration": 4,
    "start_time": "2023-08-09T21:17:43.908Z"
   },
   {
    "duration": 486,
    "start_time": "2023-08-09T21:17:43.914Z"
   },
   {
    "duration": 354,
    "start_time": "2023-08-09T21:17:44.402Z"
   },
   {
    "duration": 20,
    "start_time": "2023-08-09T21:17:44.758Z"
   },
   {
    "duration": 33,
    "start_time": "2023-08-09T21:17:44.780Z"
   },
   {
    "duration": 105,
    "start_time": "2023-08-09T21:17:44.815Z"
   },
   {
    "duration": 93,
    "start_time": "2023-08-09T21:17:44.922Z"
   },
   {
    "duration": 57,
    "start_time": "2023-08-09T21:17:45.017Z"
   },
   {
    "duration": 70,
    "start_time": "2023-08-09T21:17:45.076Z"
   },
   {
    "duration": 56,
    "start_time": "2023-08-09T21:17:45.148Z"
   },
   {
    "duration": 42,
    "start_time": "2023-08-09T21:17:45.209Z"
   },
   {
    "duration": 41,
    "start_time": "2023-08-09T21:17:45.267Z"
   },
   {
    "duration": 103,
    "start_time": "2023-08-09T21:17:45.310Z"
   },
   {
    "duration": 52,
    "start_time": "2023-08-09T21:17:45.415Z"
   },
   {
    "duration": 358,
    "start_time": "2023-08-09T21:17:45.469Z"
   },
   {
    "duration": 50,
    "start_time": "2023-08-09T21:17:45.829Z"
   },
   {
    "duration": 72,
    "start_time": "2023-08-09T21:17:45.881Z"
   },
   {
    "duration": 20,
    "start_time": "2023-08-09T21:17:45.967Z"
   },
   {
    "duration": 253,
    "start_time": "2023-08-09T21:17:45.991Z"
   },
   {
    "duration": 10,
    "start_time": "2023-08-09T21:17:46.246Z"
   },
   {
    "duration": 48,
    "start_time": "2023-08-09T21:17:46.258Z"
   },
   {
    "duration": 37,
    "start_time": "2023-08-09T21:17:46.307Z"
   },
   {
    "duration": 3,
    "start_time": "2023-08-09T21:17:46.346Z"
   },
   {
    "duration": 50,
    "start_time": "2023-08-09T21:17:46.367Z"
   },
   {
    "duration": 4,
    "start_time": "2023-08-09T21:17:46.419Z"
   },
   {
    "duration": 265,
    "start_time": "2023-08-09T21:17:46.424Z"
   },
   {
    "duration": 36,
    "start_time": "2023-08-09T21:17:46.691Z"
   },
   {
    "duration": 17,
    "start_time": "2023-08-09T21:17:46.729Z"
   },
   {
    "duration": 412,
    "start_time": "2023-08-09T21:17:46.747Z"
   },
   {
    "duration": 162,
    "start_time": "2023-08-09T21:17:47.167Z"
   },
   {
    "duration": 26,
    "start_time": "2023-08-09T21:17:47.331Z"
   },
   {
    "duration": 140,
    "start_time": "2023-08-09T21:17:47.366Z"
   },
   {
    "duration": 160,
    "start_time": "2023-08-09T21:17:47.508Z"
   },
   {
    "duration": 29,
    "start_time": "2023-08-09T21:17:47.670Z"
   },
   {
    "duration": 75,
    "start_time": "2023-08-09T21:17:47.701Z"
   },
   {
    "duration": 19,
    "start_time": "2023-08-09T21:17:47.778Z"
   },
   {
    "duration": 34,
    "start_time": "2023-08-09T21:17:47.800Z"
   },
   {
    "duration": 56,
    "start_time": "2023-08-09T21:17:47.837Z"
   },
   {
    "duration": 26,
    "start_time": "2023-08-09T21:17:47.895Z"
   },
   {
    "duration": 166,
    "start_time": "2023-08-09T21:17:47.922Z"
   },
   {
    "duration": 199,
    "start_time": "2023-08-09T21:17:48.091Z"
   },
   {
    "duration": 133,
    "start_time": "2023-08-09T21:17:48.292Z"
   },
   {
    "duration": 14,
    "start_time": "2023-08-09T21:17:48.427Z"
   },
   {
    "duration": 88,
    "start_time": "2023-08-09T21:17:48.443Z"
   },
   {
    "duration": 20,
    "start_time": "2023-08-09T21:17:48.533Z"
   },
   {
    "duration": 33,
    "start_time": "2023-08-09T21:17:48.568Z"
   },
   {
    "duration": 20,
    "start_time": "2023-08-09T21:17:48.603Z"
   },
   {
    "duration": 183,
    "start_time": "2023-08-09T21:17:48.626Z"
   },
   {
    "duration": 535,
    "start_time": "2023-08-09T21:17:48.812Z"
   },
   {
    "duration": 45,
    "start_time": "2023-08-09T21:17:49.349Z"
   },
   {
    "duration": 103,
    "start_time": "2023-08-09T21:17:49.396Z"
   },
   {
    "duration": 17,
    "start_time": "2023-08-09T21:17:49.502Z"
   },
   {
    "duration": 421,
    "start_time": "2023-08-09T21:17:49.521Z"
   },
   {
    "duration": 6,
    "start_time": "2023-08-09T21:17:49.943Z"
   },
   {
    "duration": 12,
    "start_time": "2023-08-09T21:17:49.950Z"
   },
   {
    "duration": 306,
    "start_time": "2023-08-09T21:17:49.970Z"
   },
   {
    "duration": 291627,
    "start_time": "2023-08-09T21:17:50.278Z"
   },
   {
    "duration": 6311,
    "start_time": "2023-08-09T21:22:41.907Z"
   },
   {
    "duration": 4,
    "start_time": "2023-08-09T21:22:48.220Z"
   },
   {
    "duration": 22,
    "start_time": "2023-08-09T21:22:48.225Z"
   },
   {
    "duration": 189353,
    "start_time": "2023-08-09T21:22:48.249Z"
   },
   {
    "duration": 97,
    "start_time": "2023-08-09T21:25:57.603Z"
   },
   {
    "duration": 3,
    "start_time": "2023-08-09T21:25:57.702Z"
   },
   {
    "duration": 4,
    "start_time": "2023-08-09T21:26:25.669Z"
   },
   {
    "duration": 1681,
    "start_time": "2023-08-09T21:26:25.676Z"
   },
   {
    "duration": 914,
    "start_time": "2023-08-09T21:26:27.359Z"
   },
   {
    "duration": 8,
    "start_time": "2023-08-09T21:26:28.275Z"
   },
   {
    "duration": 42383,
    "start_time": "2023-08-09T21:26:28.287Z"
   },
   {
    "duration": 5,
    "start_time": "2023-08-09T21:27:10.672Z"
   },
   {
    "duration": 638,
    "start_time": "2023-08-09T21:27:10.679Z"
   },
   {
    "duration": 489,
    "start_time": "2023-08-09T21:27:11.319Z"
   },
   {
    "duration": 259,
    "start_time": "2023-08-09T21:27:11.809Z"
   },
   {
    "duration": 105,
    "start_time": "2023-08-09T21:27:12.070Z"
   },
   {
    "duration": 23,
    "start_time": "2023-08-09T21:27:12.178Z"
   },
   {
    "duration": 2187,
    "start_time": "2023-08-09T21:27:12.202Z"
   },
   {
    "duration": 571,
    "start_time": "2023-08-09T21:27:14.391Z"
   },
   {
    "duration": 3,
    "start_time": "2023-08-09T21:27:14.967Z"
   },
   {
    "duration": 450,
    "start_time": "2023-08-09T21:27:14.972Z"
   },
   {
    "duration": 334,
    "start_time": "2023-08-09T21:27:15.424Z"
   },
   {
    "duration": 15,
    "start_time": "2023-08-09T21:27:15.760Z"
   },
   {
    "duration": 34,
    "start_time": "2023-08-09T21:27:15.777Z"
   },
   {
    "duration": 103,
    "start_time": "2023-08-09T21:27:15.813Z"
   },
   {
    "duration": 92,
    "start_time": "2023-08-09T21:27:15.918Z"
   },
   {
    "duration": 37,
    "start_time": "2023-08-09T21:27:16.012Z"
   },
   {
    "duration": 58,
    "start_time": "2023-08-09T21:27:16.066Z"
   },
   {
    "duration": 47,
    "start_time": "2023-08-09T21:27:16.126Z"
   },
   {
    "duration": 48,
    "start_time": "2023-08-09T21:27:16.175Z"
   },
   {
    "duration": 51,
    "start_time": "2023-08-09T21:27:16.225Z"
   },
   {
    "duration": 106,
    "start_time": "2023-08-09T21:27:16.278Z"
   },
   {
    "duration": 41,
    "start_time": "2023-08-09T21:27:16.387Z"
   },
   {
    "duration": 371,
    "start_time": "2023-08-09T21:27:16.430Z"
   },
   {
    "duration": 40,
    "start_time": "2023-08-09T21:27:16.806Z"
   },
   {
    "duration": 95,
    "start_time": "2023-08-09T21:27:16.848Z"
   },
   {
    "duration": 24,
    "start_time": "2023-08-09T21:27:16.944Z"
   },
   {
    "duration": 244,
    "start_time": "2023-08-09T21:27:16.970Z"
   },
   {
    "duration": 12,
    "start_time": "2023-08-09T21:27:17.216Z"
   },
   {
    "duration": 47,
    "start_time": "2023-08-09T21:27:17.230Z"
   },
   {
    "duration": 35,
    "start_time": "2023-08-09T21:27:17.279Z"
   },
   {
    "duration": 4,
    "start_time": "2023-08-09T21:27:17.316Z"
   },
   {
    "duration": 57,
    "start_time": "2023-08-09T21:27:17.322Z"
   },
   {
    "duration": 5,
    "start_time": "2023-08-09T21:27:17.381Z"
   },
   {
    "duration": 241,
    "start_time": "2023-08-09T21:27:17.388Z"
   },
   {
    "duration": 19,
    "start_time": "2023-08-09T21:27:17.631Z"
   },
   {
    "duration": 31,
    "start_time": "2023-08-09T21:27:17.652Z"
   },
   {
    "duration": 402,
    "start_time": "2023-08-09T21:27:17.685Z"
   },
   {
    "duration": 139,
    "start_time": "2023-08-09T21:27:18.089Z"
   },
   {
    "duration": 38,
    "start_time": "2023-08-09T21:27:18.229Z"
   },
   {
    "duration": 124,
    "start_time": "2023-08-09T21:27:18.269Z"
   },
   {
    "duration": 154,
    "start_time": "2023-08-09T21:27:18.395Z"
   },
   {
    "duration": 36,
    "start_time": "2023-08-09T21:27:18.551Z"
   },
   {
    "duration": 62,
    "start_time": "2023-08-09T21:27:18.589Z"
   },
   {
    "duration": 30,
    "start_time": "2023-08-09T21:27:18.653Z"
   },
   {
    "duration": 32,
    "start_time": "2023-08-09T21:27:18.687Z"
   },
   {
    "duration": 47,
    "start_time": "2023-08-09T21:27:18.721Z"
   },
   {
    "duration": 26,
    "start_time": "2023-08-09T21:27:18.770Z"
   },
   {
    "duration": 163,
    "start_time": "2023-08-09T21:27:18.798Z"
   },
   {
    "duration": 3,
    "start_time": "2023-08-09T21:27:18.963Z"
   },
   {
    "duration": 203,
    "start_time": "2023-08-09T21:27:18.968Z"
   },
   {
    "duration": 147,
    "start_time": "2023-08-09T21:27:19.175Z"
   },
   {
    "duration": 14,
    "start_time": "2023-08-09T21:27:19.324Z"
   },
   {
    "duration": 79,
    "start_time": "2023-08-09T21:27:19.340Z"
   },
   {
    "duration": 19,
    "start_time": "2023-08-09T21:27:19.421Z"
   },
   {
    "duration": 63,
    "start_time": "2023-08-09T21:27:19.442Z"
   },
   {
    "duration": 22,
    "start_time": "2023-08-09T21:27:19.507Z"
   },
   {
    "duration": 158,
    "start_time": "2023-08-09T21:27:19.531Z"
   },
   {
    "duration": 512,
    "start_time": "2023-08-09T21:27:19.691Z"
   },
   {
    "duration": 35,
    "start_time": "2023-08-09T21:27:20.205Z"
   },
   {
    "duration": 113,
    "start_time": "2023-08-09T21:27:20.241Z"
   },
   {
    "duration": 28,
    "start_time": "2023-08-09T21:27:20.356Z"
   },
   {
    "duration": 383,
    "start_time": "2023-08-09T21:27:20.386Z"
   },
   {
    "duration": 6,
    "start_time": "2023-08-09T21:27:20.772Z"
   },
   {
    "duration": 7,
    "start_time": "2023-08-09T21:27:20.780Z"
   },
   {
    "duration": 391,
    "start_time": "2023-08-09T21:27:20.789Z"
   },
   {
    "duration": 297676,
    "start_time": "2023-08-09T21:27:21.266Z"
   },
   {
    "duration": 6203,
    "start_time": "2023-08-09T21:32:18.943Z"
   },
   {
    "duration": 4,
    "start_time": "2023-08-09T21:32:25.148Z"
   },
   {
    "duration": 26,
    "start_time": "2023-08-09T21:32:25.154Z"
   },
   {
    "duration": 214129,
    "start_time": "2023-08-09T21:32:25.182Z"
   },
   {
    "duration": 5263,
    "start_time": "2023-08-09T21:35:59.313Z"
   },
   {
    "duration": 3,
    "start_time": "2023-08-09T21:36:04.578Z"
   },
   {
    "duration": 270291,
    "start_time": "2023-08-09T21:36:04.583Z"
   },
   {
    "duration": 2705,
    "start_time": "2023-08-09T21:40:34.875Z"
   },
   {
    "duration": 94,
    "start_time": "2023-08-09T21:40:37.582Z"
   },
   {
    "duration": 289,
    "start_time": "2023-08-09T21:40:37.678Z"
   },
   {
    "duration": 3,
    "start_time": "2023-08-09T21:46:33.559Z"
   }
  ],
  "kernelspec": {
   "display_name": "Python 3 (ipykernel)",
   "language": "python",
   "name": "python3"
  },
  "language_info": {
   "codemirror_mode": {
    "name": "ipython",
    "version": 3
   },
   "file_extension": ".py",
   "mimetype": "text/x-python",
   "name": "python",
   "nbconvert_exporter": "python",
   "pygments_lexer": "ipython3",
   "version": "3.9.5"
  },
  "toc": {
   "base_numbering": 1,
   "nav_menu": {},
   "number_sections": true,
   "sideBar": true,
   "skip_h1_title": true,
   "title_cell": "Table of Contents",
   "title_sidebar": "Contents",
   "toc_cell": false,
   "toc_position": {},
   "toc_section_display": true,
   "toc_window_display": false
  }
 },
 "nbformat": 4,
 "nbformat_minor": 2
}
