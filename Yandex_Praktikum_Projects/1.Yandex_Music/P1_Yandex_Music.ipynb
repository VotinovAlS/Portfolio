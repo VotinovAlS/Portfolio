{
 "cells": [
  {
   "cell_type": "markdown",
   "metadata": {
    "deletable": false,
    "editable": false,
    "id": "E0vqbgi9ay0H"
   },
   "source": [
    "# Яндекс.Музыка"
   ]
  },
  {
   "cell_type": "markdown",
   "metadata": {
    "deletable": false,
    "editable": false,
    "id": "VUC88oWjTJw2"
   },
   "source": [
    "Сравнение Москвы и Петербурга окружено мифами. Например:\n",
    " * Москва — мегаполис, подчинённый жёсткому ритму рабочей недели;\n",
    " * Петербург — культурная столица, со своими вкусами.\n",
    "\n",
    "На данных Яндекс Музыки сравнить поведение пользователей двух столиц.\n",
    "\n",
    "**Цель исследования** — проверить три гипотезы:\n",
    "1. Активность пользователей зависит от дня недели. Причём в Москве и Петербурге это проявляется по-разному.\n",
    "2. В понедельник утром в Москве преобладают одни жанры, а в Петербурге — другие. Так же и вечером пятницы преобладают разные жанры — в зависимости от города. \n",
    "3. Москва и Петербург предпочитают разные жанры музыки. В Москве чаще слушают поп-музыку, в Петербурге — русский рэп.\n",
    "\n",
    "**Ход исследования**\n",
    "\n",
    " 1. Обзор данных.\n",
    " 2. Предобработка данных.\n",
    " 3. Проверка гипотез.\n",
    "\n"
   ]
  },
  {
   "cell_type": "markdown",
   "metadata": {
    "deletable": false,
    "editable": false,
    "id": "Ml1hmfXC_Zcs"
   },
   "source": [
    "## Обзор данных"
   ]
  },
  {
   "cell_type": "markdown",
   "metadata": {
    "deletable": false,
    "editable": false,
    "id": "57eAOGIz_Zcs",
    "tags": [
     "start_task"
    ]
   },
   "source": [
    "Импорт библиотеки — `pandas`."
   ]
  },
  {
   "cell_type": "code",
   "execution_count": 1,
   "metadata": {
    "deletable": false,
    "id": "AXN7PHPN_Zcs"
   },
   "outputs": [],
   "source": [
    "# импорт библиотеки pandas\n",
    "import pandas as pd"
   ]
  },
  {
   "cell_type": "markdown",
   "metadata": {
    "deletable": false,
    "editable": false,
    "id": "SG23P8tt_Zcs",
    "tags": [
     "start_task"
    ]
   },
   "source": [
    "Прочитаю файл `yandex_music_project.csv` из папки `/datasets` и сохраню его в переменной `df`:"
   ]
  },
  {
   "cell_type": "code",
   "execution_count": 2,
   "metadata": {
    "deletable": false,
    "id": "fFVu7vqh_Zct"
   },
   "outputs": [],
   "source": [
    "# чтение файла с данными и сохранение в df\n",
    "df = pd.read_csv('/datasets/yandex_music_project.csv')"
   ]
  },
  {
   "cell_type": "markdown",
   "metadata": {
    "deletable": false,
    "editable": false,
    "id": "rDoOMd3uTqnZ",
    "tags": [
     "start_task"
    ]
   },
   "source": [
    "Выведу на экран первые десять строк таблицы:"
   ]
  },
  {
   "cell_type": "code",
   "execution_count": 3,
   "metadata": {
    "deletable": false,
    "id": "oWTVX3gW_Zct"
   },
   "outputs": [
    {
     "name": "stdout",
     "output_type": "stream",
     "text": [
      "     userID                        Track            artist   genre  \\\n",
      "0  FFB692EC            Kamigata To Boots  The Mass Missile    rock   \n",
      "1  55204538  Delayed Because of Accident  Andreas Rönnberg    rock   \n",
      "2    20EC38            Funiculì funiculà       Mario Lanza     pop   \n",
      "3  A3DD03C9        Dragons in the Sunset        Fire + Ice    folk   \n",
      "4  E2DC1FAE                  Soul People        Space Echo   dance   \n",
      "5  842029A1                    Преданная         IMPERVTOR  rusrap   \n",
      "6  4CB90AA5                         True      Roman Messer   dance   \n",
      "7  F03E1C1F             Feeling This Way   Polina Griffith   dance   \n",
      "8  8FA1D3BE     И вновь продолжается бой               NaN  ruspop   \n",
      "9  E772D5C0                    Pessimist               NaN   dance   \n",
      "\n",
      "             City        time        Day  \n",
      "0  Saint-Petersburg  20:28:33  Wednesday  \n",
      "1            Moscow  14:07:09     Friday  \n",
      "2  Saint-Petersburg  20:58:07  Wednesday  \n",
      "3  Saint-Petersburg  08:37:09     Monday  \n",
      "4            Moscow  08:34:34     Monday  \n",
      "5  Saint-Petersburg  13:09:41     Friday  \n",
      "6            Moscow  13:00:07  Wednesday  \n",
      "7            Moscow  20:47:49  Wednesday  \n",
      "8            Moscow  09:17:40     Friday  \n",
      "9  Saint-Petersburg  21:20:49  Wednesday  \n"
     ]
    }
   ],
   "source": [
    "# получение первых 10 строк таблицы df\n",
    "print(df.head(10))"
   ]
  },
  {
   "cell_type": "markdown",
   "metadata": {
    "deletable": false,
    "editable": false,
    "id": "EO73Kwic_Zct",
    "tags": [
     "start_task"
    ]
   },
   "source": [
    "Выведем общую информацию о таблице c помощью метода `info()`:"
   ]
  },
  {
   "cell_type": "code",
   "execution_count": 4,
   "metadata": {
    "deletable": false,
    "id": "DSf2kIb-_Zct"
   },
   "outputs": [
    {
     "name": "stdout",
     "output_type": "stream",
     "text": [
      "<class 'pandas.core.frame.DataFrame'>\n",
      "RangeIndex: 65079 entries, 0 to 65078\n",
      "Data columns (total 7 columns):\n",
      " #   Column    Non-Null Count  Dtype \n",
      "---  ------    --------------  ----- \n",
      " 0     userID  65079 non-null  object\n",
      " 1   Track     63848 non-null  object\n",
      " 2   artist    57876 non-null  object\n",
      " 3   genre     63881 non-null  object\n",
      " 4     City    65079 non-null  object\n",
      " 5   time      65079 non-null  object\n",
      " 6   Day       65079 non-null  object\n",
      "dtypes: object(7)\n",
      "memory usage: 3.5+ MB\n"
     ]
    }
   ],
   "source": [
    "# получение общей информации о данных в таблице df\n",
    "df.info()"
   ]
  },
  {
   "cell_type": "markdown",
   "metadata": {
    "deletable": false,
    "editable": false,
    "id": "TaQ2Iwbr_Zct"
   },
   "source": [
    "Итак, в таблице семь столбцов. Тип данных во всех столбцах — `object`.\n",
    "\n",
    "Согласно документации к данным:\n",
    "* `userID` — идентификатор пользователя;\n",
    "* `Track` — название трека;  \n",
    "* `artist` — имя исполнителя;\n",
    "* `genre` — название жанра;\n",
    "* `City` — город пользователя;\n",
    "* `time` — время начала прослушивания;\n",
    "* `Day` — день недели.\n",
    "\n",
    "Количество значений в столбцах различается. Значит, в данных есть пропущенные значения."
   ]
  },
  {
   "cell_type": "markdown",
   "metadata": {
    "deletable": false,
    "editable": false,
    "id": "4P0UCWzswgEm",
    "tags": [
     "start_task"
    ]
   },
   "source": [
    "В названиях колонок видны три нарушения стиля:\n",
    "1. Строчные буквы сочетаются с прописными.\n",
    "2. Встречаются пробелы."
   ]
  },
  {
   "cell_type": "markdown",
   "metadata": {
    "deletable": false,
    "editable": false,
    "id": "MCB6-dXG_Zct"
   },
   "source": [
    "**Выводы**\n",
    "\n",
    "В каждой строке таблицы — данные о прослушанном треке. Часть колонок описывает саму композицию: название, исполнителя и жанр. Остальные данные рассказывают о пользователе: из какого он города, когда он слушал музыку. \n",
    "\n",
    "Предварительно можно утверждать, что, данных достаточно для проверки гипотез. Но встречаются пропуски в данных, а в названиях колонок — расхождения с хорошим стилем.\n",
    "\n",
    "Чтобы двигаться дальше, нужно устранить проблемы в данных."
   ]
  },
  {
   "cell_type": "markdown",
   "metadata": {
    "deletable": false,
    "editable": false,
    "id": "SjYF6Ub9_Zct"
   },
   "source": [
    "## Предобработка данных\n",
    "Исправлю стиль в заголовках столбцов, исключю пропуски. Затем проверю данные на дубликаты."
   ]
  },
  {
   "cell_type": "markdown",
   "metadata": {
    "deletable": false,
    "editable": false,
    "id": "dIaKXr29_Zct",
    "tags": [
     "start_task"
    ]
   },
   "source": [
    "### Стиль заголовков\n",
    "\n",
    "Выведу на экран названия столбцов:"
   ]
  },
  {
   "cell_type": "code",
   "execution_count": 5,
   "metadata": {
    "deletable": false,
    "id": "oKOTdF_Q_Zct"
   },
   "outputs": [
    {
     "data": {
      "text/plain": [
       "Index(['  userID', 'Track', 'artist', 'genre', '  City  ', 'time', 'Day'], dtype='object')"
      ]
     },
     "execution_count": 5,
     "metadata": {},
     "output_type": "execute_result"
    }
   ],
   "source": [
    "# перечень названий столбцов таблицы df\n",
    "df.columns"
   ]
  },
  {
   "cell_type": "markdown",
   "metadata": {
    "deletable": false,
    "editable": false,
    "id": "zj5534cv_Zct",
    "tags": [
     "start_task"
    ]
   },
   "source": [
    "Приведу названия в соответствие с хорошим стилем:\n",
    "* несколько слов в названии запишу в «змеином_регистре»,\n",
    "* все символы сделаю строчными,\n",
    "* устраню пробелы."
   ]
  },
  {
   "cell_type": "code",
   "execution_count": 6,
   "metadata": {
    "deletable": false,
    "id": "ISlFqs5y_Zct"
   },
   "outputs": [],
   "source": [
    "# переименование столбцов\n",
    "df = df.rename(columns={'  userID':'user_id', 'Track':'track', '  City  ':'city', 'Day':'day'})"
   ]
  },
  {
   "cell_type": "markdown",
   "metadata": {
    "deletable": false,
    "editable": false,
    "id": "1dqbh00J_Zct",
    "tags": [
     "start_task"
    ]
   },
   "source": [
    "Проверяю результат."
   ]
  },
  {
   "cell_type": "code",
   "execution_count": 7,
   "metadata": {
    "deletable": false,
    "id": "d4NOAmTW_Zct"
   },
   "outputs": [
    {
     "data": {
      "text/plain": [
       "Index(['user_id', 'track', 'artist', 'genre', 'city', 'time', 'day'], dtype='object')"
      ]
     },
     "execution_count": 7,
     "metadata": {},
     "output_type": "execute_result"
    }
   ],
   "source": [
    "# проверка результатов - перечень названий столбцов\n",
    "df.columns"
   ]
  },
  {
   "cell_type": "markdown",
   "metadata": {
    "deletable": false,
    "editable": false,
    "id": "5ISfbcfY_Zct",
    "tags": [
     "start_task"
    ]
   },
   "source": [
    "### Пропуски значений\n",
    "\n",
    "Посчитаем, сколько в таблице пропущенных значений."
   ]
  },
  {
   "cell_type": "code",
   "execution_count": 8,
   "metadata": {
    "deletable": false,
    "id": "RskX29qr_Zct"
   },
   "outputs": [
    {
     "name": "stdout",
     "output_type": "stream",
     "text": [
      "user_id       0\n",
      "track      1231\n",
      "artist     7203\n",
      "genre      1198\n",
      "city          0\n",
      "time          0\n",
      "day           0\n",
      "dtype: int64\n"
     ]
    }
   ],
   "source": [
    "# подсчёт пропусков\n",
    "print(df.isna().sum()) "
   ]
  },
  {
   "cell_type": "markdown",
   "metadata": {
    "deletable": false,
    "editable": false,
    "id": "qubhgnlO_Zct"
   },
   "source": [
    "Не все пропущенные значения влияют на исследование. Так в `track` и `artist` пропуски не важны. Достаточно заменить их явными обозначениями.\n",
    "\n",
    "Но пропуски в `genre` могут помешать сравнению музыкальных вкусов в Москве и Санкт-Петербурге. Придётся:\n",
    "* заполнить и эти пропуски явными обозначениями,\n",
    "* оценить, насколько они повредят расчётам. "
   ]
  },
  {
   "cell_type": "markdown",
   "metadata": {
    "deletable": false,
    "editable": false,
    "id": "fSv2laPA_Zct",
    "tags": [
     "start_task"
    ]
   },
   "source": [
    "Заменю пропущенные значения в столбцах `track`, `artist` и `genre` на строку `'unknown'`."
   ]
  },
  {
   "cell_type": "code",
   "execution_count": 9,
   "metadata": {
    "deletable": false,
    "id": "KplB5qWs_Zct"
   },
   "outputs": [],
   "source": [
    "# перебор названий столбцов в цикле и замена пропущенных значений на 'unknown'\n",
    "columns_to_replace = []\n",
    "for columns in df:\n",
    "    df['track'] = df['track'].fillna('unknown')\n",
    "    df['artist'] = df['artist'].fillna('unknown')\n",
    "    df['genre'] = df['genre'].fillna('unknown')"
   ]
  },
  {
   "cell_type": "markdown",
   "metadata": {
    "deletable": false,
    "editable": false,
    "id": "Ilsm-MZo_Zct",
    "tags": [
     "start_task"
    ]
   },
   "source": [
    "Убедимся, что в таблице не осталось пропусков."
   ]
  },
  {
   "cell_type": "code",
   "execution_count": 10,
   "metadata": {
    "deletable": false,
    "id": "Tq4nYRX4_Zct"
   },
   "outputs": [
    {
     "name": "stdout",
     "output_type": "stream",
     "text": [
      "user_id    0\n",
      "track      0\n",
      "artist     0\n",
      "genre      0\n",
      "city       0\n",
      "time       0\n",
      "day        0\n",
      "dtype: int64\n"
     ]
    }
   ],
   "source": [
    "# подсчёт пропусков\n",
    "print(df.isna().sum())"
   ]
  },
  {
   "cell_type": "markdown",
   "metadata": {
    "deletable": false,
    "editable": false,
    "id": "BWKRtBJ3_Zct",
    "tags": [
     "start_task"
    ]
   },
   "source": [
    "### Дубликаты"
   ]
  },
  {
   "cell_type": "code",
   "execution_count": 11,
   "metadata": {
    "deletable": false,
    "id": "36eES_S0_Zct"
   },
   "outputs": [
    {
     "data": {
      "text/plain": [
       "3826"
      ]
     },
     "execution_count": 11,
     "metadata": {},
     "output_type": "execute_result"
    }
   ],
   "source": [
    "# подсчёт явных дубликатов\n",
    "df.duplicated().sum()"
   ]
  },
  {
   "cell_type": "code",
   "execution_count": 12,
   "metadata": {
    "deletable": false,
    "id": "exFHq6tt_Zct"
   },
   "outputs": [],
   "source": [
    "# удаление явных дубликатов (с удалением старых индексов и формированием новых)\n",
    "df = df.drop_duplicates()"
   ]
  },
  {
   "cell_type": "code",
   "execution_count": 13,
   "metadata": {
    "deletable": false,
    "id": "-8PuNWQ0_Zct"
   },
   "outputs": [
    {
     "data": {
      "text/plain": [
       "0"
      ]
     },
     "execution_count": 13,
     "metadata": {},
     "output_type": "execute_result"
    }
   ],
   "source": [
    "# проверка на отсутствие дубликатов\n",
    "df.duplicated().sum()"
   ]
  },
  {
   "cell_type": "markdown",
   "metadata": {
    "deletable": false,
    "editable": false,
    "id": "QlFBsxAr_Zct"
   },
   "source": [
    "Уберем неявные дубликаты в колонке `genre`."
   ]
  },
  {
   "cell_type": "code",
   "execution_count": 14,
   "metadata": {
    "deletable": false,
    "id": "JIUcqzZN_Zct"
   },
   "outputs": [
    {
     "data": {
      "text/plain": [
       "array(['acid', 'acoustic', 'action', 'adult', 'africa', 'afrikaans',\n",
       "       'alternative', 'alternativepunk', 'ambient', 'americana',\n",
       "       'animated', 'anime', 'arabesk', 'arabic', 'arena',\n",
       "       'argentinetango', 'art', 'audiobook', 'author', 'avantgarde',\n",
       "       'axé', 'baile', 'balkan', 'beats', 'bigroom', 'black', 'bluegrass',\n",
       "       'blues', 'bollywood', 'bossa', 'brazilian', 'breakbeat', 'breaks',\n",
       "       'broadway', 'cantautori', 'cantopop', 'canzone', 'caribbean',\n",
       "       'caucasian', 'celtic', 'chamber', 'chanson', 'children', 'chill',\n",
       "       'chinese', 'choral', 'christian', 'christmas', 'classical',\n",
       "       'classicmetal', 'club', 'colombian', 'comedy', 'conjazz',\n",
       "       'contemporary', 'country', 'cuban', 'dance', 'dancehall',\n",
       "       'dancepop', 'dark', 'death', 'deep', 'deutschrock', 'deutschspr',\n",
       "       'dirty', 'disco', 'dnb', 'documentary', 'downbeat', 'downtempo',\n",
       "       'drum', 'dub', 'dubstep', 'eastern', 'easy', 'electronic',\n",
       "       'electropop', 'emo', 'entehno', 'epicmetal', 'estrada', 'ethnic',\n",
       "       'eurofolk', 'european', 'experimental', 'extrememetal', 'fado',\n",
       "       'fairytail', 'film', 'fitness', 'flamenco', 'folk', 'folklore',\n",
       "       'folkmetal', 'folkrock', 'folktronica', 'forró', 'frankreich',\n",
       "       'französisch', 'french', 'funk', 'future', 'gangsta', 'garage',\n",
       "       'german', 'ghazal', 'gitarre', 'glitch', 'gospel', 'gothic',\n",
       "       'grime', 'grunge', 'gypsy', 'handsup', \"hard'n'heavy\", 'hardcore',\n",
       "       'hardstyle', 'hardtechno', 'hip', 'hip-hop', 'hiphop',\n",
       "       'historisch', 'holiday', 'hop', 'horror', 'house', 'hymn', 'idm',\n",
       "       'independent', 'indian', 'indie', 'indipop', 'industrial',\n",
       "       'inspirational', 'instrumental', 'international', 'irish', 'jam',\n",
       "       'japanese', 'jazz', 'jewish', 'jpop', 'jungle', 'k-pop',\n",
       "       'karadeniz', 'karaoke', 'kayokyoku', 'korean', 'laiko', 'latin',\n",
       "       'latino', 'leftfield', 'local', 'lounge', 'loungeelectronic',\n",
       "       'lovers', 'malaysian', 'mandopop', 'marschmusik', 'meditative',\n",
       "       'mediterranean', 'melodic', 'metal', 'metalcore', 'mexican',\n",
       "       'middle', 'minimal', 'miscellaneous', 'modern', 'mood', 'mpb',\n",
       "       'muslim', 'native', 'neoklassik', 'neue', 'new', 'newage',\n",
       "       'newwave', 'nu', 'nujazz', 'numetal', 'oceania', 'old', 'opera',\n",
       "       'orchestral', 'other', 'piano', 'podcasts', 'pop', 'popdance',\n",
       "       'popelectronic', 'popeurodance', 'poprussian', 'post',\n",
       "       'posthardcore', 'postrock', 'power', 'progmetal', 'progressive',\n",
       "       'psychedelic', 'punjabi', 'punk', 'quebecois', 'ragga', 'ram',\n",
       "       'rancheras', 'rap', 'rave', 'reggae', 'reggaeton', 'regional',\n",
       "       'relax', 'religious', 'retro', 'rhythm', 'rnb', 'rnr', 'rock',\n",
       "       'rockabilly', 'rockalternative', 'rockindie', 'rockother',\n",
       "       'romance', 'roots', 'ruspop', 'rusrap', 'rusrock', 'russian',\n",
       "       'salsa', 'samba', 'scenic', 'schlager', 'self', 'sertanejo',\n",
       "       'shanson', 'shoegazing', 'showtunes', 'singer', 'ska', 'skarock',\n",
       "       'slow', 'smooth', 'soft', 'soul', 'soulful', 'sound', 'soundtrack',\n",
       "       'southern', 'specialty', 'speech', 'spiritual', 'sport',\n",
       "       'stonerrock', 'surf', 'swing', 'synthpop', 'synthrock',\n",
       "       'sängerportrait', 'tango', 'tanzorchester', 'taraftar', 'tatar',\n",
       "       'tech', 'techno', 'teen', 'thrash', 'top', 'traditional',\n",
       "       'tradjazz', 'trance', 'tribal', 'trip', 'triphop', 'tropical',\n",
       "       'türk', 'türkçe', 'ukrrock', 'unknown', 'urban', 'uzbek',\n",
       "       'variété', 'vi', 'videogame', 'vocal', 'western', 'world',\n",
       "       'worldbeat', 'ïîï', 'электроника'], dtype=object)"
      ]
     },
     "execution_count": 14,
     "metadata": {},
     "output_type": "execute_result"
    }
   ],
   "source": [
    "# Просмотр уникальных названий жанров\n",
    "df_sorted_genre = df.sort_values(by='genre') #присвоено переменной отсортированная таблица\n",
    "df_sorted_genre['genre'].unique() #выведены уникальные значения"
   ]
  },
  {
   "cell_type": "code",
   "execution_count": 15,
   "metadata": {
    "deletable": false,
    "id": "ErNDkmns_Zct"
   },
   "outputs": [],
   "source": [
    "# Устранение неявных дубликатов\n",
    "df['genre'] = df['genre'].replace('hip', 'hiphop')\n",
    "df['genre'] = df['genre'].replace('hop', 'hiphop')\n",
    "df['genre'] = df['genre'].replace('hip-hop', 'hiphop')"
   ]
  },
  {
   "cell_type": "markdown",
   "metadata": {
    "deletable": false,
    "editable": false,
    "id": "zQKF16_RG15m",
    "tags": [
     "start_task"
    ]
   },
   "source": [
    "Проверю, что заменил неправильные названия:\n",
    "\n",
    "*   hip\n",
    "*   hop\n",
    "*   hip-hop\n",
    "\n",
    "Выведу отсортированный список уникальных значений столбца `genre`:"
   ]
  },
  {
   "cell_type": "code",
   "execution_count": 16,
   "metadata": {
    "deletable": false,
    "id": "wvixALnFG15m"
   },
   "outputs": [
    {
     "data": {
      "text/plain": [
       "array(['acid', 'acoustic', 'action', 'adult', 'africa', 'afrikaans',\n",
       "       'alternative', 'alternativepunk', 'ambient', 'americana',\n",
       "       'animated', 'anime', 'arabesk', 'arabic', 'arena',\n",
       "       'argentinetango', 'art', 'audiobook', 'author', 'avantgarde',\n",
       "       'axé', 'baile', 'balkan', 'beats', 'bigroom', 'black', 'bluegrass',\n",
       "       'blues', 'bollywood', 'bossa', 'brazilian', 'breakbeat', 'breaks',\n",
       "       'broadway', 'cantautori', 'cantopop', 'canzone', 'caribbean',\n",
       "       'caucasian', 'celtic', 'chamber', 'chanson', 'children', 'chill',\n",
       "       'chinese', 'choral', 'christian', 'christmas', 'classical',\n",
       "       'classicmetal', 'club', 'colombian', 'comedy', 'conjazz',\n",
       "       'contemporary', 'country', 'cuban', 'dance', 'dancehall',\n",
       "       'dancepop', 'dark', 'death', 'deep', 'deutschrock', 'deutschspr',\n",
       "       'dirty', 'disco', 'dnb', 'documentary', 'downbeat', 'downtempo',\n",
       "       'drum', 'dub', 'dubstep', 'eastern', 'easy', 'electronic',\n",
       "       'electropop', 'emo', 'entehno', 'epicmetal', 'estrada', 'ethnic',\n",
       "       'eurofolk', 'european', 'experimental', 'extrememetal', 'fado',\n",
       "       'fairytail', 'film', 'fitness', 'flamenco', 'folk', 'folklore',\n",
       "       'folkmetal', 'folkrock', 'folktronica', 'forró', 'frankreich',\n",
       "       'französisch', 'french', 'funk', 'future', 'gangsta', 'garage',\n",
       "       'german', 'ghazal', 'gitarre', 'glitch', 'gospel', 'gothic',\n",
       "       'grime', 'grunge', 'gypsy', 'handsup', \"hard'n'heavy\", 'hardcore',\n",
       "       'hardstyle', 'hardtechno', 'hiphop', 'historisch', 'holiday',\n",
       "       'horror', 'house', 'hymn', 'idm', 'independent', 'indian', 'indie',\n",
       "       'indipop', 'industrial', 'inspirational', 'instrumental',\n",
       "       'international', 'irish', 'jam', 'japanese', 'jazz', 'jewish',\n",
       "       'jpop', 'jungle', 'k-pop', 'karadeniz', 'karaoke', 'kayokyoku',\n",
       "       'korean', 'laiko', 'latin', 'latino', 'leftfield', 'local',\n",
       "       'lounge', 'loungeelectronic', 'lovers', 'malaysian', 'mandopop',\n",
       "       'marschmusik', 'meditative', 'mediterranean', 'melodic', 'metal',\n",
       "       'metalcore', 'mexican', 'middle', 'minimal', 'miscellaneous',\n",
       "       'modern', 'mood', 'mpb', 'muslim', 'native', 'neoklassik', 'neue',\n",
       "       'new', 'newage', 'newwave', 'nu', 'nujazz', 'numetal', 'oceania',\n",
       "       'old', 'opera', 'orchestral', 'other', 'piano', 'podcasts', 'pop',\n",
       "       'popdance', 'popelectronic', 'popeurodance', 'poprussian', 'post',\n",
       "       'posthardcore', 'postrock', 'power', 'progmetal', 'progressive',\n",
       "       'psychedelic', 'punjabi', 'punk', 'quebecois', 'ragga', 'ram',\n",
       "       'rancheras', 'rap', 'rave', 'reggae', 'reggaeton', 'regional',\n",
       "       'relax', 'religious', 'retro', 'rhythm', 'rnb', 'rnr', 'rock',\n",
       "       'rockabilly', 'rockalternative', 'rockindie', 'rockother',\n",
       "       'romance', 'roots', 'ruspop', 'rusrap', 'rusrock', 'russian',\n",
       "       'salsa', 'samba', 'scenic', 'schlager', 'self', 'sertanejo',\n",
       "       'shanson', 'shoegazing', 'showtunes', 'singer', 'ska', 'skarock',\n",
       "       'slow', 'smooth', 'soft', 'soul', 'soulful', 'sound', 'soundtrack',\n",
       "       'southern', 'specialty', 'speech', 'spiritual', 'sport',\n",
       "       'stonerrock', 'surf', 'swing', 'synthpop', 'synthrock',\n",
       "       'sängerportrait', 'tango', 'tanzorchester', 'taraftar', 'tatar',\n",
       "       'tech', 'techno', 'teen', 'thrash', 'top', 'traditional',\n",
       "       'tradjazz', 'trance', 'tribal', 'trip', 'triphop', 'tropical',\n",
       "       'türk', 'türkçe', 'ukrrock', 'unknown', 'urban', 'uzbek',\n",
       "       'variété', 'vi', 'videogame', 'vocal', 'western', 'world',\n",
       "       'worldbeat', 'ïîï', 'электроника'], dtype=object)"
      ]
     },
     "execution_count": 16,
     "metadata": {},
     "output_type": "execute_result"
    }
   ],
   "source": [
    "# Проверка на неявные дубликаты\n",
    "df_sorted_genre = df.sort_values(by='genre') #присвоено переменной отсортированная таблица\n",
    "df_sorted_genre['genre'].unique() #выведены уникальные значения"
   ]
  },
  {
   "cell_type": "markdown",
   "metadata": {
    "deletable": false,
    "editable": false,
    "id": "jz6a9-7HQUDd"
   },
   "source": [
    "**Выводы**\n",
    "\n",
    "Предобработка обнаружила три проблемы в данных:\n",
    "\n",
    "- нарушения в стиле заголовков,\n",
    "- пропущенные значения,\n",
    "- дубликаты — явные и неявные.\n",
    "\n",
    "Исправил заголовки, чтобы упростить работу с таблицей. Без дубликатов исследование станет более точным.\n",
    "\n",
    "Пропущенные значения заменил на `'unknown'`.\n",
    "\n",
    "Теперь можно перейти к проверке гипотез. "
   ]
  },
  {
   "cell_type": "markdown",
   "metadata": {
    "deletable": false,
    "editable": false,
    "id": "WttZHXH0SqKk"
   },
   "source": [
    "## Проверка гипотез"
   ]
  },
  {
   "cell_type": "markdown",
   "metadata": {
    "deletable": false,
    "editable": false,
    "id": "Im936VVi_Zcu"
   },
   "source": [
    "### Сравнение поведения пользователей двух столиц"
   ]
  },
  {
   "cell_type": "markdown",
   "metadata": {
    "deletable": false,
    "editable": false,
    "id": "nwt_MuaL_Zcu"
   },
   "source": [
    "Первая гипотеза утверждает, что пользователи по-разному слушают музыку в Москве и Санкт-Петербурге. Проверю это предположение по данным о трёх днях недели — понедельнике, среде и пятнице. Для этого:\n",
    "\n",
    "* Разделю пользователей Москвы и Санкт-Петербурга\n",
    "* Сравню, сколько треков послушала каждая группа пользователей в понедельник, среду и пятницу.\n"
   ]
  },
  {
   "cell_type": "markdown",
   "metadata": {
    "deletable": false,
    "editable": false,
    "id": "8Dw_YMmT_Zcu",
    "tags": [
     "start_task"
    ]
   },
   "source": [
    "Оценю активность пользователей в каждом городе. Сгруппирую данные по городу и посчитаю прослушивания в каждой группе."
   ]
  },
  {
   "cell_type": "code",
   "execution_count": 17,
   "metadata": {
    "deletable": false,
    "id": "0_Qs96oh_Zcu"
   },
   "outputs": [
    {
     "data": {
      "text/plain": [
       "city\n",
       "Moscow              42741\n",
       "Saint-Petersburg    18512\n",
       "Name: user_id, dtype: int64"
      ]
     },
     "execution_count": 17,
     "metadata": {},
     "output_type": "execute_result"
    }
   ],
   "source": [
    "# Подсчёт прослушиваний в каждом городе\n",
    "df.groupby('city')['user_id'].count()"
   ]
  },
  {
   "cell_type": "markdown",
   "metadata": {
    "deletable": false,
    "editable": false,
    "id": "dzli3w8o_Zcu",
    "tags": [
     "start_task"
    ]
   },
   "source": [
    "В Москве прослушиваний больше, чем в Петербурге. Из этого не следует, что московские пользователи чаще слушают музыку. Просто самих пользователей в Москве больше.\n",
    "\n",
    "Теперь сгруппирую данные по дню недели и подсчитаю прослушивания в понедельник, среду и пятницу."
   ]
  },
  {
   "cell_type": "code",
   "execution_count": 18,
   "metadata": {
    "deletable": false,
    "id": "uZMKjiJz_Zcu"
   },
   "outputs": [
    {
     "data": {
      "text/plain": [
       "day\n",
       "Friday       21840\n",
       "Monday       21354\n",
       "Wednesday    18059\n",
       "Name: genre, dtype: int64"
      ]
     },
     "execution_count": 18,
     "metadata": {},
     "output_type": "execute_result"
    }
   ],
   "source": [
    "# Подсчёт прослушиваний в каждый из трёх дней\n",
    "df.groupby('day')['genre'].count()"
   ]
  },
  {
   "cell_type": "markdown",
   "metadata": {
    "deletable": false,
    "editable": false,
    "id": "cC2tNrlL_Zcu"
   },
   "source": [
    "В среднем пользователи из двух городов менее активны по средам. Но картина может измениться, если рассмотреть каждый город в отдельности."
   ]
  },
  {
   "cell_type": "markdown",
   "metadata": {
    "deletable": false,
    "editable": false,
    "id": "POzs8bGa_Zcu",
    "tags": [
     "start_task"
    ]
   },
   "source": [
    "Создам функцию `number_tracks()`, которая посчитает прослушивания для заданного дня и города. Ей понадобятся два параметра:\n",
    "* день недели,\n",
    "* название города."
   ]
  },
  {
   "cell_type": "code",
   "execution_count": 19,
   "metadata": {
    "deletable": false,
    "id": "Nz3GdQB1_Zcu"
   },
   "outputs": [],
   "source": [
    "# <создание функции number_tracks()>\n",
    "# Объявляется функция с двумя параметрами: day, city.\n",
    "def number_tracks(day, city):\n",
    "    track_list = df[df['day'] == day]\n",
    "    track_list = track_list[track_list['city'] == city] #либо последовательная фильтрация, либо совместная с логическим \"И\" - &\n",
    "    track_list_count = track_list['user_id'].count()\n",
    "    return track_list_count\n",
    "\n",
    "# В переменной track_list сохраняются те строки таблицы df, для которых \n",
    "# значение в столбце 'day' равно параметру day и одновременно значение\n",
    "# в столбце 'city' равно параметру city   \n",
    "    # В переменной track_list_count сохраняется число значений столбца 'user_id',\n",
    "    # рассчитанное методом count() для таблицы track_list.\n",
    "# Функция возвращает число - значение track_list_count. \n",
    "# Функция для подсчёта прослушиваний для конкретного города и дня.\n",
    "# С помощью последовательной фильтрации с логической индексацией она \n",
    "# сначала получит из исходной таблицы строки с нужным днём,\n",
    "# затем из результата отфильтрует строки с нужным городом,\n",
    "# методом count() посчитает количество значений в колонке user_id. \n",
    "# Это количество функция вернёт в качестве результата"
   ]
  },
  {
   "cell_type": "markdown",
   "metadata": {
    "deletable": false,
    "editable": false,
    "id": "ytf7xFrFJQ2r",
    "tags": [
     "start_task"
    ]
   },
   "source": [
    "Вызоваем `number_tracks()` шесть раз, меняя значение параметров — так, чтобы получить данные для каждого города в каждый из трёх дней."
   ]
  },
  {
   "cell_type": "code",
   "execution_count": 20,
   "metadata": {
    "deletable": false,
    "id": "rJcRATNQ_Zcu"
   },
   "outputs": [
    {
     "data": {
      "text/plain": [
       "15740"
      ]
     },
     "execution_count": 20,
     "metadata": {},
     "output_type": "execute_result"
    }
   ],
   "source": [
    "# количество прослушиваний в Москве по понедельникам\n",
    "number_tracks('Monday', 'Moscow')\n"
   ]
  },
  {
   "cell_type": "code",
   "execution_count": 21,
   "metadata": {
    "deletable": false,
    "id": "hq_ncZ5T_Zcu"
   },
   "outputs": [
    {
     "data": {
      "text/plain": [
       "5614"
      ]
     },
     "execution_count": 21,
     "metadata": {},
     "output_type": "execute_result"
    }
   ],
   "source": [
    "# количество прослушиваний в Санкт-Петербурге по понедельникам\n",
    "number_tracks('Monday', 'Saint-Petersburg')"
   ]
  },
  {
   "cell_type": "code",
   "execution_count": 22,
   "metadata": {
    "deletable": false,
    "id": "_NTy2VPU_Zcu"
   },
   "outputs": [
    {
     "data": {
      "text/plain": [
       "11056"
      ]
     },
     "execution_count": 22,
     "metadata": {},
     "output_type": "execute_result"
    }
   ],
   "source": [
    "# количество прослушиваний в Москве по средам\n",
    "number_tracks('Wednesday', 'Moscow')"
   ]
  },
  {
   "cell_type": "code",
   "execution_count": 23,
   "metadata": {
    "deletable": false,
    "id": "j2y3TAwo_Zcu"
   },
   "outputs": [
    {
     "data": {
      "text/plain": [
       "7003"
      ]
     },
     "execution_count": 23,
     "metadata": {},
     "output_type": "execute_result"
    }
   ],
   "source": [
    "# количество прослушиваний в Санкт-Петербурге по средам\n",
    "number_tracks('Wednesday', 'Saint-Petersburg')"
   ]
  },
  {
   "cell_type": "code",
   "execution_count": 24,
   "metadata": {
    "deletable": false,
    "id": "vYDw5u_K_Zcu"
   },
   "outputs": [
    {
     "data": {
      "text/plain": [
       "15945"
      ]
     },
     "execution_count": 24,
     "metadata": {},
     "output_type": "execute_result"
    }
   ],
   "source": [
    "# количество прослушиваний в Москве по пятницам\n",
    "number_tracks('Friday', 'Moscow')"
   ]
  },
  {
   "cell_type": "code",
   "execution_count": 25,
   "metadata": {
    "deletable": false,
    "id": "8_yzFtW3_Zcu"
   },
   "outputs": [
    {
     "data": {
      "text/plain": [
       "5895"
      ]
     },
     "execution_count": 25,
     "metadata": {},
     "output_type": "execute_result"
    }
   ],
   "source": [
    "# количество прослушиваний в Санкт-Петербурге по пятницам\n",
    "number_tracks('Friday', 'Saint-Petersburg')\n"
   ]
  },
  {
   "cell_type": "markdown",
   "metadata": {
    "deletable": false,
    "editable": false,
    "id": "7QXffbO-_Zcu",
    "tags": [
     "start_task"
    ]
   },
   "source": [
    "Создаю таблицу, где\n",
    "* названия колонок — `['city', 'monday', 'wednesday', 'friday']`;\n",
    "* данные — результаты, которые получены с помощью `number_tracks`."
   ]
  },
  {
   "cell_type": "code",
   "execution_count": 26,
   "metadata": {
    "deletable": false,
    "id": "APAcLpOr_Zcu"
   },
   "outputs": [],
   "source": [
    "# Таблица с результатами\n",
    "data_df = [\n",
    "    ['Moscow', '15740', '11056', '15945'],\n",
    "    ['Saint-Petersburg', '5614', '7003', '5895']\n",
    "]\n",
    "columns_df = ['city', 'monday', 'wednesday', 'friday']\n",
    "info = pd.DataFrame(data=data_df, columns=columns_df)"
   ]
  },
  {
   "cell_type": "markdown",
   "metadata": {
    "deletable": false,
    "editable": false,
    "id": "-EgPIHYu_Zcu"
   },
   "source": [
    "**Выводы**\n",
    "\n",
    "Данные показывают разницу поведения пользователей:\n",
    "\n",
    "- В Москве пик прослушиваний приходится на понедельник и пятницу, а в среду заметен спад.\n",
    "- В Петербурге, наоборот, больше слушают музыку по средам. Активность в понедельник и пятницу здесь почти в равной мере уступает среде.\n",
    "\n",
    "Значит, данные говорят в пользу первой гипотезы."
   ]
  },
  {
   "cell_type": "markdown",
   "metadata": {
    "deletable": false,
    "editable": false,
    "id": "atZAxtq4_Zcu"
   },
   "source": [
    "### Музыка в начале и в конце недели"
   ]
  },
  {
   "cell_type": "markdown",
   "metadata": {
    "deletable": false,
    "editable": false,
    "id": "eXrQqXFH_Zcu"
   },
   "source": [
    "Согласно второй гипотезе, утром в понедельник в Москве преобладают одни жанры, а в Петербурге — другие. Так же и вечером пятницы преобладают разные жанры — в зависимости от города."
   ]
  },
  {
   "cell_type": "markdown",
   "metadata": {
    "deletable": false,
    "editable": false,
    "id": "S8UcW6Hw_Zcu",
    "tags": [
     "start_task"
    ]
   },
   "source": [
    "Сохраню таблицы с данными в две переменные:\n",
    "* по Москве — в `moscow_general`;\n",
    "* по Санкт-Петербургу — в `spb_general`."
   ]
  },
  {
   "cell_type": "code",
   "execution_count": 27,
   "metadata": {
    "deletable": false,
    "id": "qeaFfM_P_Zcu"
   },
   "outputs": [],
   "source": [
    "# получение таблицы moscow_general из тех строк таблицы df, \n",
    "# для которых значение в столбце 'city' равно 'Moscow'\n",
    "moscow_general = df[df['city'] == 'Moscow']"
   ]
  },
  {
   "cell_type": "code",
   "execution_count": 28,
   "metadata": {
    "deletable": false,
    "id": "ORaVRKto_Zcu"
   },
   "outputs": [],
   "source": [
    "# получение таблицы spb_general из тех строк таблицы df,\n",
    "# для которых значение в столбце 'city' равно 'Saint-Petersburg'\n",
    "spb_general = df[df['city'] == 'Saint-Petersburg']"
   ]
  },
  {
   "cell_type": "markdown",
   "metadata": {
    "deletable": false,
    "id": "MEJV-CX2_Zcu",
    "tags": [
     "start_task"
    ]
   },
   "source": [
    "Создаю функцию `genre_weekday()` с четырьмя параметрами:\n",
    "* таблица (датафрейм) с данными,\n",
    "* день недели,\n",
    "* начальная временная метка в формате 'hh:mm', \n",
    "* последняя временная метка в формате 'hh:mm'.\n",
    "\n",
    "Функция должна вернуть информацию о топ-10 жанров тех треков, которые прослушивали в указанный день, в промежутке между двумя отметками времени."
   ]
  },
  {
   "cell_type": "code",
   "execution_count": 29,
   "metadata": {
    "deletable": false,
    "id": "laJT9BYl_Zcu"
   },
   "outputs": [],
   "source": [
    "\n",
    "def genre_weekday(table, day, time1, time2):\n",
    "    # последовательная фильтрация\n",
    "    # оставляем в genre_df только те строки df, у которых день равен day\n",
    "    genre_df = table[table['day'] == day] \n",
    "    # оставляем в genre_df только те строки genre_df, у которых время меньше time2\n",
    "    genre_df = genre_df[genre_df['time'] > time1] \n",
    "    # оставляем в genre_df только те строки genre_df, у которых время больше time1\n",
    "    genre_df = genre_df[genre_df['time'] < time2]\n",
    "    # сгруппируем отфильтрованный датафрейм по столбцу с названиями жанров, возьмём столбец genre и посчитаем кол-во строк для каждого жанра методом count()\n",
    "    genre_df_grouped = genre_df.groupby('genre')['genre'].count()\n",
    "    # отсортируем результат по убыванию (чтобы в начале Series оказались самые популярные жанры)\n",
    "    genre_df_sorted = genre_df_grouped.sort_values(ascending=False)\n",
    "    # вернём Series с 10 самыми популярными жанрами в указанный отрезок времени заданного дня\n",
    "    return genre_df_sorted[:10]         \n"
   ]
  },
  {
   "cell_type": "markdown",
   "metadata": {
    "deletable": false,
    "editable": false,
    "id": "la2s2_PF_Zcu",
    "tags": [
     "start_task"
    ]
   },
   "source": [
    "Cравним результаты функции `genre_weekday()` для Москвы и Санкт-Петербурга в понедельник утром (с 7:00 до 11:00) и в пятницу вечером (с 17:00 до 23:00):"
   ]
  },
  {
   "cell_type": "code",
   "execution_count": 30,
   "metadata": {
    "deletable": false,
    "id": "yz7itPUQ_Zcu"
   },
   "outputs": [
    {
     "data": {
      "text/plain": [
       "genre\n",
       "pop            781\n",
       "dance          549\n",
       "electronic     480\n",
       "rock           474\n",
       "hiphop         286\n",
       "ruspop         186\n",
       "world          181\n",
       "rusrap         175\n",
       "alternative    164\n",
       "unknown        161\n",
       "Name: genre, dtype: int64"
      ]
     },
     "execution_count": 30,
     "metadata": {},
     "output_type": "execute_result"
    }
   ],
   "source": [
    "# вызов функции для утра понедельника в Москве (вместо df — таблица moscow_general)\n",
    "genre_weekday(moscow_general, 'Monday', '07:00', '11:00')"
   ]
  },
  {
   "cell_type": "code",
   "execution_count": 31,
   "metadata": {
    "deletable": false,
    "id": "kwUcHPdy_Zcu"
   },
   "outputs": [
    {
     "data": {
      "text/plain": [
       "genre\n",
       "pop            218\n",
       "dance          182\n",
       "rock           162\n",
       "electronic     147\n",
       "hiphop          80\n",
       "ruspop          64\n",
       "alternative     58\n",
       "rusrap          55\n",
       "jazz            44\n",
       "classical       40\n",
       "Name: genre, dtype: int64"
      ]
     },
     "execution_count": 31,
     "metadata": {},
     "output_type": "execute_result"
    }
   ],
   "source": [
    "# вызов функции для утра понедельника в Петербурге (вместо df — таблица spb_general)\n",
    "genre_weekday(spb_general, 'Monday', '07:00', '11:00')"
   ]
  },
  {
   "cell_type": "code",
   "execution_count": 32,
   "metadata": {
    "deletable": false,
    "id": "EzXVRE1o_Zcu"
   },
   "outputs": [
    {
     "data": {
      "text/plain": [
       "genre\n",
       "pop            713\n",
       "rock           517\n",
       "dance          495\n",
       "electronic     482\n",
       "hiphop         273\n",
       "world          208\n",
       "ruspop         170\n",
       "alternative    163\n",
       "classical      163\n",
       "rusrap         142\n",
       "Name: genre, dtype: int64"
      ]
     },
     "execution_count": 32,
     "metadata": {},
     "output_type": "execute_result"
    }
   ],
   "source": [
    "# вызов функции для вечера пятницы в Москве\n",
    "genre_weekday(moscow_general, 'Friday', '17:00', '23:00')"
   ]
  },
  {
   "cell_type": "code",
   "execution_count": 33,
   "metadata": {
    "deletable": false,
    "id": "JZaEKu5v_Zcu"
   },
   "outputs": [
    {
     "data": {
      "text/plain": [
       "genre\n",
       "pop            256\n",
       "electronic     216\n",
       "rock           216\n",
       "dance          210\n",
       "hiphop          97\n",
       "alternative     63\n",
       "jazz            61\n",
       "classical       60\n",
       "rusrap          59\n",
       "world           54\n",
       "Name: genre, dtype: int64"
      ]
     },
     "execution_count": 33,
     "metadata": {},
     "output_type": "execute_result"
    }
   ],
   "source": [
    "# вызов функции для вечера пятницы в Петербурге\n",
    "genre_weekday(spb_general, 'Friday', '17:00', '23:00')"
   ]
  },
  {
   "cell_type": "markdown",
   "metadata": {
    "deletable": false,
    "editable": false,
    "id": "wrCe4MNX_Zcu"
   },
   "source": [
    "**Выводы**\n",
    "\n",
    "Если сравнить топ-10 жанров в понедельник утром, можно сделать такие выводы:\n",
    "\n",
    "1. В Москве и Петербурге слушают похожую музыку. Единственное отличие — в московский рейтинг вошёл жанр “world”, а в петербургский — джаз и классика.\n",
    "\n",
    "2. В Москве пропущенных значений оказалось так много, что значение `'unknown'` заняло десятое место среди самых популярных жанров. Значит, пропущенные значения занимают существенную долю в данных и угрожают достоверности исследования.\n",
    "\n",
    "Вечер пятницы не меняет эту картину. Некоторые жанры поднимаются немного выше, другие спускаются, но в целом топ-10 остаётся тем же самым.\n",
    "\n",
    "Таким образом, вторая гипотеза подтвердилась лишь частично:\n",
    "* Пользователи слушают похожую музыку в начале недели и в конце.\n",
    "* Разница между Москвой и Петербургом не слишком выражена. В Москве чаще слушают русскую популярную музыку, в Петербурге — джаз.\n",
    "\n",
    "Однако пропуски в данных ставят под сомнение этот результат. В Москве их так много, что рейтинг топ-10 мог бы выглядеть иначе, если бы не утерянные  данные о жанрах."
   ]
  },
  {
   "cell_type": "markdown",
   "metadata": {
    "deletable": false,
    "editable": false,
    "id": "JolODAqr_Zcu"
   },
   "source": [
    "### Жанровые предпочтения в Москве и Петербурге\n",
    "\n",
    "Гипотеза: Петербург — столица рэпа, музыку этого жанра там слушают чаще, чем в Москве.  А Москва — город контрастов, в котором, тем не менее, преобладает поп-музыка."
   ]
  },
  {
   "cell_type": "markdown",
   "metadata": {
    "deletable": false,
    "editable": false,
    "id": "DlegSvaT_Zcu",
    "tags": [
     "start_task"
    ]
   },
   "source": [
    "Сгруппируем таблицу `moscow_general` по жанру и посчитаем прослушивания треков каждого жанра методом `count()`. Затем отсортируем результат в порядке убывания и сохраним его в таблице `moscow_genres`."
   ]
  },
  {
   "cell_type": "code",
   "execution_count": 34,
   "metadata": {
    "deletable": false,
    "id": "r19lIPke_Zcu"
   },
   "outputs": [],
   "source": [
    "# группировка таблицы moscow_general по столбцу 'genre', \n",
    "# подсчёт числа значений 'genre' в этой группировке методом count(), \n",
    "# сортировка получившегося Series в порядке убывания и сохранение в moscow_genres\n",
    "moscow_genres = moscow_general.groupby('genre')['genre'].count().sort_values(ascending=False)\n",
    "\n"
   ]
  },
  {
   "cell_type": "markdown",
   "metadata": {
    "deletable": false,
    "editable": false,
    "id": "6kMuomxTiIr8",
    "tags": [
     "start_task"
    ]
   },
   "source": [
    "Вывод на экран первые десять строк `moscow_genres`:"
   ]
  },
  {
   "cell_type": "code",
   "execution_count": 35,
   "metadata": {
    "deletable": false,
    "id": "WhCSooF8_Zcv"
   },
   "outputs": [
    {
     "data": {
      "text/plain": [
       "genre\n",
       "pop            5892\n",
       "dance          4435\n",
       "rock           3965\n",
       "electronic     3786\n",
       "hiphop         2096\n",
       "classical      1616\n",
       "world          1432\n",
       "alternative    1379\n",
       "ruspop         1372\n",
       "rusrap         1161\n",
       "Name: genre, dtype: int64"
      ]
     },
     "execution_count": 35,
     "metadata": {},
     "output_type": "execute_result"
    }
   ],
   "source": [
    "# просмотр первых 10 строк moscow_genres\n",
    "moscow_genres[:10]"
   ]
  },
  {
   "cell_type": "code",
   "execution_count": 36,
   "metadata": {
    "deletable": false,
    "id": "gluLIpE7_Zcv"
   },
   "outputs": [],
   "source": [
    "# группировка таблицы spb_general по столбцу 'genre', \n",
    "# подсчёт числа значений 'genre' в этой группировке методом count(), \n",
    "# сортировка получившегося Series в порядке убывания и сохранение в spb_genres\n",
    "\n",
    "spb_genres = spb_general.groupby('genre')['genre'].count().sort_values(ascending=False)"
   ]
  },
  {
   "cell_type": "markdown",
   "metadata": {
    "deletable": false,
    "editable": false,
    "id": "5Doha_ODgyQ8",
    "tags": [
     "start_task"
    ]
   },
   "source": [
    "Вывод на экран первые десять строк `spb_genres`:"
   ]
  },
  {
   "cell_type": "code",
   "execution_count": 37,
   "metadata": {
    "deletable": false,
    "id": "uaGJHjVU_Zcv"
   },
   "outputs": [
    {
     "data": {
      "text/plain": [
       "genre\n",
       "pop            2431\n",
       "dance          1932\n",
       "rock           1879\n",
       "electronic     1736\n",
       "hiphop          960\n",
       "alternative     649\n",
       "classical       646\n",
       "rusrap          564\n",
       "ruspop          538\n",
       "world           515\n",
       "Name: genre, dtype: int64"
      ]
     },
     "execution_count": 37,
     "metadata": {},
     "output_type": "execute_result"
    }
   ],
   "source": [
    "# просмотр первых 10 строк spb_genres\n",
    "spb_genres[:10]"
   ]
  },
  {
   "cell_type": "markdown",
   "metadata": {
    "deletable": false,
    "editable": false,
    "id": "RY51YJYu_Zcv"
   },
   "source": [
    "**Выводы**"
   ]
  },
  {
   "cell_type": "markdown",
   "metadata": {
    "deletable": false,
    "editable": false,
    "id": "nVhnJEm__Zcv"
   },
   "source": [
    "Гипотеза частично подтвердилась:\n",
    "* Поп-музыка — самый популярный жанр в Москве, как и предполагала гипотеза. Более того, в топ-10 жанров встречается близкий жанр — русская популярная музыка.\n",
    "* Вопреки ожиданиям, рэп одинаково популярен в Москве и Петербурге. \n"
   ]
  },
  {
   "cell_type": "markdown",
   "metadata": {
    "deletable": false,
    "editable": false,
    "id": "ykKQ0N65_Zcv"
   },
   "source": [
    "## Итоги исследования"
   ]
  },
  {
   "cell_type": "markdown",
   "metadata": {
    "deletable": false,
    "editable": false,
    "id": "tjUwbHb3_Zcv"
   },
   "source": [
    "Проверено три гипотезы и установлено:\n",
    "\n",
    "1. День недели по-разному влияет на активность пользователей в Москве и Петербурге. \n",
    "\n",
    "Первая гипотеза полностью подтвердилась.\n",
    "\n",
    "2. Музыкальные предпочтения не сильно меняются в течение недели — будь то Москва или Петербург. Небольшие различия заметны в начале недели, по понедельникам:\n",
    "* в Москве слушают музыку жанра “world”,\n",
    "* в Петербурге — джаз и классику.\n",
    "\n",
    "Таким образом, вторая гипотеза подтвердилась лишь отчасти. Этот результат мог оказаться иным, если бы не пропуски в данных.\n",
    "\n",
    "3. Во вкусах пользователей Москвы и Петербурга больше общего чем различий. Вопреки ожиданиям, предпочтения жанров в Петербурге напоминают московские.\n",
    "\n",
    "Третья гипотеза не подтвердилась. Если различия в предпочтениях и существуют, на основной массе пользователей они незаметны."
   ]
  },
  {
   "cell_type": "code",
   "execution_count": null,
   "metadata": {},
   "outputs": [],
   "source": []
  }
 ],
 "metadata": {
  "ExecuteTimeLog": [
   {
    "duration": 354,
    "start_time": "2023-03-15T17:39:07.167Z"
   },
   {
    "duration": 69,
    "start_time": "2023-03-15T17:40:37.896Z"
   },
   {
    "duration": 167,
    "start_time": "2023-03-15T17:42:09.598Z"
   },
   {
    "duration": 8,
    "start_time": "2023-03-15T17:42:54.527Z"
   },
   {
    "duration": 28,
    "start_time": "2023-03-15T19:01:14.137Z"
   },
   {
    "duration": 68,
    "start_time": "2023-03-15T19:03:32.892Z"
   },
   {
    "duration": 66,
    "start_time": "2023-03-15T19:03:45.841Z"
   },
   {
    "duration": 2,
    "start_time": "2023-03-15T19:03:55.190Z"
   },
   {
    "duration": 70,
    "start_time": "2023-03-15T19:04:39.788Z"
   },
   {
    "duration": 6,
    "start_time": "2023-03-15T19:04:48.331Z"
   },
   {
    "duration": 9,
    "start_time": "2023-03-15T19:05:47.789Z"
   },
   {
    "duration": 13,
    "start_time": "2023-03-15T19:08:22.551Z"
   },
   {
    "duration": 5,
    "start_time": "2023-03-15T19:08:50.526Z"
   },
   {
    "duration": 23,
    "start_time": "2023-03-15T19:10:28.563Z"
   },
   {
    "duration": 84,
    "start_time": "2023-03-15T19:14:44.124Z"
   },
   {
    "duration": 14,
    "start_time": "2023-03-15T19:15:25.055Z"
   },
   {
    "duration": 97,
    "start_time": "2023-03-15T19:15:42.694Z"
   },
   {
    "duration": 101,
    "start_time": "2023-03-15T19:16:24.918Z"
   },
   {
    "duration": 22,
    "start_time": "2023-03-15T19:16:53.492Z"
   },
   {
    "duration": 66,
    "start_time": "2023-03-15T19:17:29.308Z"
   },
   {
    "duration": 62,
    "start_time": "2023-03-15T19:17:39.008Z"
   },
   {
    "duration": 68,
    "start_time": "2023-03-15T19:18:21.129Z"
   },
   {
    "duration": 82,
    "start_time": "2023-03-15T19:21:30.971Z"
   },
   {
    "duration": 77,
    "start_time": "2023-03-15T19:22:23.764Z"
   },
   {
    "duration": 81,
    "start_time": "2023-03-15T19:22:43.024Z"
   },
   {
    "duration": 21,
    "start_time": "2023-03-15T19:22:43.121Z"
   },
   {
    "duration": 78,
    "start_time": "2023-03-15T19:22:43.144Z"
   },
   {
    "duration": 68,
    "start_time": "2023-03-15T19:22:43.224Z"
   },
   {
    "duration": 72,
    "start_time": "2023-03-15T19:22:43.295Z"
   },
   {
    "duration": 3,
    "start_time": "2023-03-15T19:22:43.369Z"
   },
   {
    "duration": 4,
    "start_time": "2023-03-15T19:22:43.373Z"
   },
   {
    "duration": 3,
    "start_time": "2023-03-15T19:22:43.379Z"
   },
   {
    "duration": 3,
    "start_time": "2023-03-15T19:22:43.384Z"
   },
   {
    "duration": 6,
    "start_time": "2023-03-15T19:22:43.389Z"
   },
   {
    "duration": 25,
    "start_time": "2023-03-15T19:22:43.396Z"
   },
   {
    "duration": 14,
    "start_time": "2023-03-15T19:22:43.423Z"
   },
   {
    "duration": 4,
    "start_time": "2023-03-15T19:22:43.439Z"
   },
   {
    "duration": 4,
    "start_time": "2023-03-15T19:22:43.448Z"
   },
   {
    "duration": 6,
    "start_time": "2023-03-15T19:22:43.454Z"
   },
   {
    "duration": 6,
    "start_time": "2023-03-15T19:22:43.461Z"
   },
   {
    "duration": 4,
    "start_time": "2023-03-15T19:22:43.468Z"
   },
   {
    "duration": 12,
    "start_time": "2023-03-15T19:22:43.473Z"
   },
   {
    "duration": 4,
    "start_time": "2023-03-15T19:22:43.486Z"
   },
   {
    "duration": 5,
    "start_time": "2023-03-15T19:22:43.491Z"
   },
   {
    "duration": 71,
    "start_time": "2023-03-15T19:22:43.497Z"
   },
   {
    "duration": 0,
    "start_time": "2023-03-15T19:22:43.570Z"
   },
   {
    "duration": 0,
    "start_time": "2023-03-15T19:22:43.571Z"
   },
   {
    "duration": 0,
    "start_time": "2023-03-15T19:22:43.573Z"
   },
   {
    "duration": 0,
    "start_time": "2023-03-15T19:22:43.574Z"
   },
   {
    "duration": 0,
    "start_time": "2023-03-15T19:22:43.575Z"
   },
   {
    "duration": 0,
    "start_time": "2023-03-15T19:22:43.577Z"
   },
   {
    "duration": 0,
    "start_time": "2023-03-15T19:22:43.578Z"
   },
   {
    "duration": 0,
    "start_time": "2023-03-15T19:22:43.579Z"
   },
   {
    "duration": 2,
    "start_time": "2023-03-15T19:23:02.874Z"
   },
   {
    "duration": 189,
    "start_time": "2023-03-15T19:23:02.878Z"
   },
   {
    "duration": 7,
    "start_time": "2023-03-15T19:23:03.068Z"
   },
   {
    "duration": 57,
    "start_time": "2023-03-15T19:23:03.077Z"
   },
   {
    "duration": 32,
    "start_time": "2023-03-15T19:23:03.136Z"
   },
   {
    "duration": 35,
    "start_time": "2023-03-15T19:23:03.169Z"
   },
   {
    "duration": 14,
    "start_time": "2023-03-15T19:23:03.206Z"
   },
   {
    "duration": 27,
    "start_time": "2023-03-15T19:23:03.222Z"
   },
   {
    "duration": 64,
    "start_time": "2023-03-15T19:23:03.251Z"
   },
   {
    "duration": 415,
    "start_time": "2023-03-15T19:24:47.120Z"
   },
   {
    "duration": 169,
    "start_time": "2023-03-15T19:24:47.538Z"
   },
   {
    "duration": 8,
    "start_time": "2023-03-15T19:24:47.709Z"
   },
   {
    "duration": 33,
    "start_time": "2023-03-15T19:24:47.718Z"
   },
   {
    "duration": 3,
    "start_time": "2023-03-15T19:24:47.754Z"
   },
   {
    "duration": 10,
    "start_time": "2023-03-15T19:24:47.758Z"
   },
   {
    "duration": 13,
    "start_time": "2023-03-15T19:24:47.770Z"
   },
   {
    "duration": 6,
    "start_time": "2023-03-15T19:24:47.784Z"
   },
   {
    "duration": 53,
    "start_time": "2023-03-15T19:24:47.791Z"
   },
   {
    "duration": 108,
    "start_time": "2023-03-15T19:24:47.846Z"
   },
   {
    "duration": 22,
    "start_time": "2023-03-15T19:24:47.956Z"
   },
   {
    "duration": 79,
    "start_time": "2023-03-15T19:24:47.980Z"
   },
   {
    "duration": 77,
    "start_time": "2023-03-15T19:24:48.061Z"
   },
   {
    "duration": 65,
    "start_time": "2023-03-15T19:24:48.141Z"
   },
   {
    "duration": 13,
    "start_time": "2023-03-15T19:24:48.208Z"
   },
   {
    "duration": 5,
    "start_time": "2023-03-15T19:24:48.223Z"
   },
   {
    "duration": 4,
    "start_time": "2023-03-15T19:24:48.229Z"
   },
   {
    "duration": 34,
    "start_time": "2023-03-15T19:24:48.235Z"
   },
   {
    "duration": 16,
    "start_time": "2023-03-15T19:24:48.271Z"
   },
   {
    "duration": 25,
    "start_time": "2023-03-15T19:24:48.289Z"
   },
   {
    "duration": 24,
    "start_time": "2023-03-15T19:24:48.316Z"
   },
   {
    "duration": 4,
    "start_time": "2023-03-15T19:24:48.343Z"
   },
   {
    "duration": 4,
    "start_time": "2023-03-15T19:24:48.350Z"
   },
   {
    "duration": 8,
    "start_time": "2023-03-15T19:24:48.355Z"
   },
   {
    "duration": 10,
    "start_time": "2023-03-15T19:24:48.364Z"
   },
   {
    "duration": 4,
    "start_time": "2023-03-15T19:24:48.375Z"
   },
   {
    "duration": 4,
    "start_time": "2023-03-15T19:24:48.381Z"
   },
   {
    "duration": 6,
    "start_time": "2023-03-15T19:24:48.386Z"
   },
   {
    "duration": 3,
    "start_time": "2023-03-15T19:24:48.394Z"
   },
   {
    "duration": 75,
    "start_time": "2023-03-15T19:24:48.399Z"
   },
   {
    "duration": 0,
    "start_time": "2023-03-15T19:24:48.476Z"
   },
   {
    "duration": 0,
    "start_time": "2023-03-15T19:24:48.477Z"
   },
   {
    "duration": 0,
    "start_time": "2023-03-15T19:24:48.478Z"
   },
   {
    "duration": 0,
    "start_time": "2023-03-15T19:24:48.479Z"
   },
   {
    "duration": 0,
    "start_time": "2023-03-15T19:24:48.481Z"
   },
   {
    "duration": 0,
    "start_time": "2023-03-15T19:24:48.482Z"
   },
   {
    "duration": 0,
    "start_time": "2023-03-15T19:24:48.483Z"
   },
   {
    "duration": 0,
    "start_time": "2023-03-15T19:24:48.485Z"
   },
   {
    "duration": 52,
    "start_time": "2023-03-15T19:30:12.665Z"
   },
   {
    "duration": 46,
    "start_time": "2023-03-15T19:32:07.044Z"
   },
   {
    "duration": 44,
    "start_time": "2023-03-15T19:33:41.250Z"
   },
   {
    "duration": 49,
    "start_time": "2023-03-15T19:33:50.952Z"
   },
   {
    "duration": 10,
    "start_time": "2023-03-15T19:48:08.914Z"
   },
   {
    "duration": 6,
    "start_time": "2023-03-15T19:48:57.240Z"
   },
   {
    "duration": 47,
    "start_time": "2023-03-15T19:49:40.669Z"
   },
   {
    "duration": 28,
    "start_time": "2023-03-15T20:02:52.802Z"
   },
   {
    "duration": 66,
    "start_time": "2023-03-15T20:12:24.616Z"
   },
   {
    "duration": 11,
    "start_time": "2023-03-15T20:12:53.180Z"
   },
   {
    "duration": 9,
    "start_time": "2023-03-15T20:14:25.401Z"
   },
   {
    "duration": 4,
    "start_time": "2023-03-15T20:16:30.525Z"
   },
   {
    "duration": 3,
    "start_time": "2023-03-15T20:16:54.584Z"
   },
   {
    "duration": 3,
    "start_time": "2023-03-15T20:17:27.447Z"
   },
   {
    "duration": 4,
    "start_time": "2023-03-15T20:21:26.742Z"
   },
   {
    "duration": 3,
    "start_time": "2023-03-15T20:22:26.349Z"
   },
   {
    "duration": 2,
    "start_time": "2023-03-15T20:22:52.269Z"
   },
   {
    "duration": 7,
    "start_time": "2023-03-15T20:23:07.070Z"
   },
   {
    "duration": 8,
    "start_time": "2023-03-15T20:23:31.819Z"
   },
   {
    "duration": 7,
    "start_time": "2023-03-15T20:24:27.884Z"
   },
   {
    "duration": 7,
    "start_time": "2023-03-15T20:25:16.683Z"
   },
   {
    "duration": 8,
    "start_time": "2023-03-15T20:25:48.519Z"
   },
   {
    "duration": 7,
    "start_time": "2023-03-15T20:25:56.968Z"
   },
   {
    "duration": 6,
    "start_time": "2023-03-15T20:26:09.410Z"
   },
   {
    "duration": 7,
    "start_time": "2023-03-15T20:26:52.350Z"
   },
   {
    "duration": 8,
    "start_time": "2023-03-15T20:26:59.496Z"
   },
   {
    "duration": 369,
    "start_time": "2023-03-15T20:27:16.761Z"
   },
   {
    "duration": 172,
    "start_time": "2023-03-15T20:27:17.132Z"
   },
   {
    "duration": 9,
    "start_time": "2023-03-15T20:27:17.305Z"
   },
   {
    "duration": 39,
    "start_time": "2023-03-15T20:27:17.315Z"
   },
   {
    "duration": 2,
    "start_time": "2023-03-15T20:27:17.357Z"
   },
   {
    "duration": 10,
    "start_time": "2023-03-15T20:27:17.361Z"
   },
   {
    "duration": 13,
    "start_time": "2023-03-15T20:27:17.373Z"
   },
   {
    "duration": 5,
    "start_time": "2023-03-15T20:27:17.387Z"
   },
   {
    "duration": 37,
    "start_time": "2023-03-15T20:27:17.394Z"
   },
   {
    "duration": 102,
    "start_time": "2023-03-15T20:27:17.433Z"
   },
   {
    "duration": 25,
    "start_time": "2023-03-15T20:27:17.537Z"
   },
   {
    "duration": 79,
    "start_time": "2023-03-15T20:27:17.564Z"
   },
   {
    "duration": 80,
    "start_time": "2023-03-15T20:27:17.645Z"
   },
   {
    "duration": 63,
    "start_time": "2023-03-15T20:27:17.728Z"
   },
   {
    "duration": 60,
    "start_time": "2023-03-15T20:27:17.793Z"
   },
   {
    "duration": 15,
    "start_time": "2023-03-15T20:27:17.854Z"
   },
   {
    "duration": 56,
    "start_time": "2023-03-15T20:27:17.870Z"
   },
   {
    "duration": 58,
    "start_time": "2023-03-15T20:27:17.928Z"
   },
   {
    "duration": 0,
    "start_time": "2023-03-15T20:27:17.988Z"
   },
   {
    "duration": 0,
    "start_time": "2023-03-15T20:27:17.989Z"
   },
   {
    "duration": 0,
    "start_time": "2023-03-15T20:27:17.990Z"
   },
   {
    "duration": 0,
    "start_time": "2023-03-15T20:27:17.991Z"
   },
   {
    "duration": 0,
    "start_time": "2023-03-15T20:27:17.992Z"
   },
   {
    "duration": 0,
    "start_time": "2023-03-15T20:27:17.993Z"
   },
   {
    "duration": 0,
    "start_time": "2023-03-15T20:27:17.994Z"
   },
   {
    "duration": 0,
    "start_time": "2023-03-15T20:27:17.995Z"
   },
   {
    "duration": 0,
    "start_time": "2023-03-15T20:27:17.995Z"
   },
   {
    "duration": 0,
    "start_time": "2023-03-15T20:27:17.997Z"
   },
   {
    "duration": 0,
    "start_time": "2023-03-15T20:27:18.021Z"
   },
   {
    "duration": 0,
    "start_time": "2023-03-15T20:27:18.023Z"
   },
   {
    "duration": 0,
    "start_time": "2023-03-15T20:27:18.023Z"
   },
   {
    "duration": 0,
    "start_time": "2023-03-15T20:27:18.024Z"
   },
   {
    "duration": 0,
    "start_time": "2023-03-15T20:27:18.025Z"
   },
   {
    "duration": 0,
    "start_time": "2023-03-15T20:27:18.026Z"
   },
   {
    "duration": 0,
    "start_time": "2023-03-15T20:27:18.027Z"
   },
   {
    "duration": 0,
    "start_time": "2023-03-15T20:27:18.028Z"
   },
   {
    "duration": 0,
    "start_time": "2023-03-15T20:27:18.029Z"
   },
   {
    "duration": 0,
    "start_time": "2023-03-15T20:27:18.030Z"
   },
   {
    "duration": 26,
    "start_time": "2023-03-15T20:28:15.459Z"
   },
   {
    "duration": 29,
    "start_time": "2023-03-15T20:29:05.586Z"
   },
   {
    "duration": 27,
    "start_time": "2023-03-15T20:29:25.297Z"
   },
   {
    "duration": 4,
    "start_time": "2023-03-15T20:29:31.079Z"
   },
   {
    "duration": 5,
    "start_time": "2023-03-15T20:29:44.110Z"
   },
   {
    "duration": 7,
    "start_time": "2023-03-15T20:30:01.363Z"
   },
   {
    "duration": 6,
    "start_time": "2023-03-15T20:30:57.726Z"
   },
   {
    "duration": 4,
    "start_time": "2023-03-15T20:32:16.055Z"
   },
   {
    "duration": 4,
    "start_time": "2023-03-15T20:32:28.774Z"
   },
   {
    "duration": 14,
    "start_time": "2023-03-15T20:35:28.669Z"
   },
   {
    "duration": 23,
    "start_time": "2023-03-15T20:37:35.153Z"
   },
   {
    "duration": 44,
    "start_time": "2023-03-15T20:37:52.530Z"
   },
   {
    "duration": 30,
    "start_time": "2023-03-15T20:38:07.094Z"
   },
   {
    "duration": 75,
    "start_time": "2023-03-15T20:39:38.821Z"
   },
   {
    "duration": 70,
    "start_time": "2023-03-15T20:39:47.162Z"
   },
   {
    "duration": 30,
    "start_time": "2023-03-15T20:39:56.963Z"
   },
   {
    "duration": 11,
    "start_time": "2023-03-15T20:42:17.947Z"
   },
   {
    "duration": 12,
    "start_time": "2023-03-15T20:42:27.812Z"
   },
   {
    "duration": 56,
    "start_time": "2023-03-16T03:39:52.046Z"
   },
   {
    "duration": 358,
    "start_time": "2023-03-16T03:41:03.384Z"
   },
   {
    "duration": 243,
    "start_time": "2023-03-16T03:41:03.744Z"
   },
   {
    "duration": 7,
    "start_time": "2023-03-16T03:41:03.989Z"
   },
   {
    "duration": 31,
    "start_time": "2023-03-16T03:41:03.998Z"
   },
   {
    "duration": 2,
    "start_time": "2023-03-16T03:41:04.031Z"
   },
   {
    "duration": 21,
    "start_time": "2023-03-16T03:41:04.035Z"
   },
   {
    "duration": 22,
    "start_time": "2023-03-16T03:41:04.057Z"
   },
   {
    "duration": 10,
    "start_time": "2023-03-16T03:41:04.081Z"
   },
   {
    "duration": 24,
    "start_time": "2023-03-16T03:41:04.093Z"
   },
   {
    "duration": 85,
    "start_time": "2023-03-16T03:41:04.120Z"
   },
   {
    "duration": 26,
    "start_time": "2023-03-16T03:41:04.207Z"
   },
   {
    "duration": 73,
    "start_time": "2023-03-16T03:41:04.235Z"
   },
   {
    "duration": 95,
    "start_time": "2023-03-16T03:41:04.310Z"
   },
   {
    "duration": 83,
    "start_time": "2023-03-16T03:41:04.407Z"
   },
   {
    "duration": 66,
    "start_time": "2023-03-16T03:41:04.492Z"
   },
   {
    "duration": 10,
    "start_time": "2023-03-16T03:41:04.560Z"
   },
   {
    "duration": 79,
    "start_time": "2023-03-16T03:41:04.572Z"
   },
   {
    "duration": 12,
    "start_time": "2023-03-16T03:41:04.653Z"
   },
   {
    "duration": 18,
    "start_time": "2023-03-16T03:41:04.666Z"
   },
   {
    "duration": 5,
    "start_time": "2023-03-16T08:47:08.289Z"
   },
   {
    "duration": 5,
    "start_time": "2023-03-16T08:47:26.211Z"
   },
   {
    "duration": 91,
    "start_time": "2023-03-16T08:53:45.480Z"
   },
   {
    "duration": 3,
    "start_time": "2023-03-16T08:53:55.272Z"
   },
   {
    "duration": 5,
    "start_time": "2023-03-16T08:58:19.386Z"
   },
   {
    "duration": 2,
    "start_time": "2023-03-16T08:58:35.579Z"
   },
   {
    "duration": 202,
    "start_time": "2023-03-16T08:58:35.584Z"
   },
   {
    "duration": 10,
    "start_time": "2023-03-16T08:58:35.788Z"
   },
   {
    "duration": 56,
    "start_time": "2023-03-16T08:58:35.800Z"
   },
   {
    "duration": 6,
    "start_time": "2023-03-16T08:58:35.858Z"
   },
   {
    "duration": 20,
    "start_time": "2023-03-16T08:58:35.866Z"
   },
   {
    "duration": 33,
    "start_time": "2023-03-16T08:58:35.888Z"
   },
   {
    "duration": 27,
    "start_time": "2023-03-16T08:58:35.923Z"
   },
   {
    "duration": 62,
    "start_time": "2023-03-16T08:58:35.951Z"
   },
   {
    "duration": 127,
    "start_time": "2023-03-16T08:58:36.015Z"
   },
   {
    "duration": 31,
    "start_time": "2023-03-16T08:58:36.145Z"
   },
   {
    "duration": 78,
    "start_time": "2023-03-16T08:58:36.178Z"
   },
   {
    "duration": 61,
    "start_time": "2023-03-16T08:58:36.258Z"
   },
   {
    "duration": 70,
    "start_time": "2023-03-16T08:58:36.320Z"
   },
   {
    "duration": 72,
    "start_time": "2023-03-16T08:58:36.392Z"
   },
   {
    "duration": 11,
    "start_time": "2023-03-16T08:58:36.466Z"
   },
   {
    "duration": 76,
    "start_time": "2023-03-16T08:58:36.479Z"
   },
   {
    "duration": 12,
    "start_time": "2023-03-16T08:58:36.557Z"
   },
   {
    "duration": 30,
    "start_time": "2023-03-16T08:58:36.570Z"
   },
   {
    "duration": 12,
    "start_time": "2023-03-16T09:00:17.995Z"
   },
   {
    "duration": 12,
    "start_time": "2023-03-16T09:01:00.067Z"
   },
   {
    "duration": 12,
    "start_time": "2023-03-16T09:01:03.244Z"
   },
   {
    "duration": 11,
    "start_time": "2023-03-16T09:01:04.871Z"
   },
   {
    "duration": 11,
    "start_time": "2023-03-16T09:01:06.483Z"
   },
   {
    "duration": 11,
    "start_time": "2023-03-16T09:01:08.580Z"
   },
   {
    "duration": 4,
    "start_time": "2023-03-16T09:01:46.443Z"
   },
   {
    "duration": 2,
    "start_time": "2023-03-16T09:01:50.908Z"
   },
   {
    "duration": 191,
    "start_time": "2023-03-16T09:01:50.913Z"
   },
   {
    "duration": 8,
    "start_time": "2023-03-16T09:01:51.106Z"
   },
   {
    "duration": 48,
    "start_time": "2023-03-16T09:01:51.116Z"
   },
   {
    "duration": 3,
    "start_time": "2023-03-16T09:01:51.167Z"
   },
   {
    "duration": 25,
    "start_time": "2023-03-16T09:01:51.171Z"
   },
   {
    "duration": 17,
    "start_time": "2023-03-16T09:01:51.199Z"
   },
   {
    "duration": 4,
    "start_time": "2023-03-16T09:01:51.217Z"
   },
   {
    "duration": 35,
    "start_time": "2023-03-16T09:01:51.223Z"
   },
   {
    "duration": 118,
    "start_time": "2023-03-16T09:01:51.260Z"
   },
   {
    "duration": 28,
    "start_time": "2023-03-16T09:01:51.379Z"
   },
   {
    "duration": 85,
    "start_time": "2023-03-16T09:01:51.409Z"
   },
   {
    "duration": 75,
    "start_time": "2023-03-16T09:01:51.495Z"
   },
   {
    "duration": 73,
    "start_time": "2023-03-16T09:01:51.572Z"
   },
   {
    "duration": 58,
    "start_time": "2023-03-16T09:01:51.647Z"
   },
   {
    "duration": 10,
    "start_time": "2023-03-16T09:01:51.707Z"
   },
   {
    "duration": 69,
    "start_time": "2023-03-16T09:01:51.719Z"
   },
   {
    "duration": 12,
    "start_time": "2023-03-16T09:01:51.790Z"
   },
   {
    "duration": 40,
    "start_time": "2023-03-16T09:01:51.804Z"
   },
   {
    "duration": 12,
    "start_time": "2023-03-16T09:01:51.846Z"
   },
   {
    "duration": 12,
    "start_time": "2023-03-16T09:01:58.979Z"
   },
   {
    "duration": 12,
    "start_time": "2023-03-16T09:02:00.865Z"
   },
   {
    "duration": 26,
    "start_time": "2023-03-16T09:02:03.423Z"
   },
   {
    "duration": 13,
    "start_time": "2023-03-16T09:02:05.143Z"
   },
   {
    "duration": 51,
    "start_time": "2023-03-16T09:02:20.571Z"
   },
   {
    "duration": 4,
    "start_time": "2023-03-16T09:02:28.723Z"
   },
   {
    "duration": 9,
    "start_time": "2023-03-16T09:02:33.067Z"
   },
   {
    "duration": 8,
    "start_time": "2023-03-16T09:02:33.699Z"
   },
   {
    "duration": 12,
    "start_time": "2023-03-16T09:02:34.214Z"
   },
   {
    "duration": 9,
    "start_time": "2023-03-16T09:02:34.986Z"
   },
   {
    "duration": 12,
    "start_time": "2023-03-16T09:02:34.997Z"
   },
   {
    "duration": 8,
    "start_time": "2023-03-16T09:02:35.595Z"
   },
   {
    "duration": 10,
    "start_time": "2023-03-16T09:02:58.719Z"
   },
   {
    "duration": 4,
    "start_time": "2023-03-16T09:03:10.643Z"
   },
   {
    "duration": 16,
    "start_time": "2023-03-16T09:03:35.451Z"
   },
   {
    "duration": 3,
    "start_time": "2023-03-16T09:04:06.883Z"
   },
   {
    "duration": 10,
    "start_time": "2023-03-16T09:04:13.512Z"
   },
   {
    "duration": 4,
    "start_time": "2023-03-16T09:04:42.407Z"
   },
   {
    "duration": 10,
    "start_time": "2023-03-16T09:04:47.123Z"
   },
   {
    "duration": 4,
    "start_time": "2023-03-16T09:04:53.879Z"
   },
   {
    "duration": 16,
    "start_time": "2023-03-16T09:04:56.000Z"
   },
   {
    "duration": 4,
    "start_time": "2023-03-16T09:05:18.916Z"
   },
   {
    "duration": 8,
    "start_time": "2023-03-16T09:05:21.303Z"
   },
   {
    "duration": 4,
    "start_time": "2023-03-16T09:07:32.099Z"
   },
   {
    "duration": 21,
    "start_time": "2023-03-16T09:07:34.331Z"
   },
   {
    "duration": 3,
    "start_time": "2023-03-16T09:08:01.156Z"
   },
   {
    "duration": 4,
    "start_time": "2023-03-16T09:08:06.035Z"
   },
   {
    "duration": 1763,
    "start_time": "2023-03-16T09:08:08.803Z"
   },
   {
    "duration": 4,
    "start_time": "2023-03-16T09:08:20.469Z"
   },
   {
    "duration": 24,
    "start_time": "2023-03-16T09:08:22.008Z"
   },
   {
    "duration": 15,
    "start_time": "2023-03-16T09:08:24.163Z"
   },
   {
    "duration": 14,
    "start_time": "2023-03-16T09:08:24.754Z"
   },
   {
    "duration": 22,
    "start_time": "2023-03-16T09:08:25.231Z"
   },
   {
    "duration": 25,
    "start_time": "2023-03-16T09:08:25.774Z"
   },
   {
    "duration": 15,
    "start_time": "2023-03-16T09:08:27.954Z"
   },
   {
    "duration": 55,
    "start_time": "2023-03-16T16:36:22.985Z"
   },
   {
    "duration": 431,
    "start_time": "2023-03-16T16:36:45.129Z"
   },
   {
    "duration": 279,
    "start_time": "2023-03-16T16:36:45.563Z"
   },
   {
    "duration": 9,
    "start_time": "2023-03-16T16:36:45.844Z"
   },
   {
    "duration": 39,
    "start_time": "2023-03-16T16:36:45.855Z"
   },
   {
    "duration": 2,
    "start_time": "2023-03-16T16:36:45.897Z"
   },
   {
    "duration": 19,
    "start_time": "2023-03-16T16:36:45.901Z"
   },
   {
    "duration": 18,
    "start_time": "2023-03-16T16:36:45.922Z"
   },
   {
    "duration": 12,
    "start_time": "2023-03-16T16:36:45.942Z"
   },
   {
    "duration": 42,
    "start_time": "2023-03-16T16:36:45.956Z"
   },
   {
    "duration": 129,
    "start_time": "2023-03-16T16:36:46.000Z"
   },
   {
    "duration": 26,
    "start_time": "2023-03-16T16:36:46.131Z"
   },
   {
    "duration": 91,
    "start_time": "2023-03-16T16:36:46.159Z"
   },
   {
    "duration": 93,
    "start_time": "2023-03-16T16:36:46.252Z"
   },
   {
    "duration": 81,
    "start_time": "2023-03-16T16:36:46.348Z"
   },
   {
    "duration": 67,
    "start_time": "2023-03-16T16:36:46.431Z"
   },
   {
    "duration": 11,
    "start_time": "2023-03-16T16:36:46.500Z"
   },
   {
    "duration": 77,
    "start_time": "2023-03-16T16:36:46.513Z"
   },
   {
    "duration": 14,
    "start_time": "2023-03-16T16:36:46.592Z"
   },
   {
    "duration": 18,
    "start_time": "2023-03-16T16:36:46.608Z"
   },
   {
    "duration": 8,
    "start_time": "2023-03-16T16:36:46.628Z"
   },
   {
    "duration": 47,
    "start_time": "2023-03-16T16:36:46.639Z"
   },
   {
    "duration": 18,
    "start_time": "2023-03-16T16:36:46.688Z"
   },
   {
    "duration": 33,
    "start_time": "2023-03-16T16:36:46.708Z"
   },
   {
    "duration": 18,
    "start_time": "2023-03-16T16:36:46.764Z"
   },
   {
    "duration": 24,
    "start_time": "2023-03-16T16:36:46.784Z"
   },
   {
    "duration": 21,
    "start_time": "2023-03-16T16:36:46.810Z"
   },
   {
    "duration": 66,
    "start_time": "2023-03-16T16:36:46.833Z"
   },
   {
    "duration": 9,
    "start_time": "2023-03-16T16:37:29.584Z"
   },
   {
    "duration": 9,
    "start_time": "2023-03-16T16:38:03.353Z"
   },
   {
    "duration": 9,
    "start_time": "2023-03-16T16:39:35.466Z"
   },
   {
    "duration": 9,
    "start_time": "2023-03-16T16:42:42.592Z"
   },
   {
    "duration": 5,
    "start_time": "2023-03-16T16:43:12.607Z"
   },
   {
    "duration": 24,
    "start_time": "2023-03-16T16:43:20.235Z"
   },
   {
    "duration": 26,
    "start_time": "2023-03-16T16:43:50.783Z"
   },
   {
    "duration": 5,
    "start_time": "2023-03-16T16:47:33.397Z"
   },
   {
    "duration": 12,
    "start_time": "2023-03-16T16:58:41.365Z"
   },
   {
    "duration": 11,
    "start_time": "2023-03-16T17:13:19.823Z"
   },
   {
    "duration": 7,
    "start_time": "2023-03-16T17:13:50.976Z"
   },
   {
    "duration": 5,
    "start_time": "2023-03-16T17:16:20.197Z"
   },
   {
    "duration": 62,
    "start_time": "2023-03-16T17:21:20.557Z"
   },
   {
    "duration": 5,
    "start_time": "2023-03-16T17:21:28.941Z"
   },
   {
    "duration": 6,
    "start_time": "2023-03-16T17:24:51.579Z"
   },
   {
    "duration": 66,
    "start_time": "2023-03-16T17:28:35.164Z"
   },
   {
    "duration": 66,
    "start_time": "2023-03-16T17:30:30.523Z"
   },
   {
    "duration": 8,
    "start_time": "2023-03-16T17:30:40.262Z"
   },
   {
    "duration": 7,
    "start_time": "2023-03-16T17:30:56.036Z"
   },
   {
    "duration": 5,
    "start_time": "2023-03-16T17:44:16.387Z"
   },
   {
    "duration": 7,
    "start_time": "2023-03-16T17:46:21.079Z"
   },
   {
    "duration": 13,
    "start_time": "2023-03-16T17:46:27.261Z"
   },
   {
    "duration": 7,
    "start_time": "2023-03-16T17:47:31.320Z"
   },
   {
    "duration": 7,
    "start_time": "2023-03-16T17:49:42.668Z"
   },
   {
    "duration": 7,
    "start_time": "2023-03-16T17:53:06.906Z"
   },
   {
    "duration": 5,
    "start_time": "2023-03-16T17:54:06.090Z"
   },
   {
    "duration": 6,
    "start_time": "2023-03-16T17:55:03.698Z"
   },
   {
    "duration": 1406,
    "start_time": "2023-03-16T18:00:14.883Z"
   },
   {
    "duration": 773,
    "start_time": "2023-03-16T18:01:10.901Z"
   },
   {
    "duration": 28,
    "start_time": "2023-03-16T18:01:42.026Z"
   },
   {
    "duration": 30,
    "start_time": "2023-03-16T18:02:11.187Z"
   },
   {
    "duration": 23,
    "start_time": "2023-03-16T18:02:52.895Z"
   },
   {
    "duration": 28,
    "start_time": "2023-03-16T18:04:07.533Z"
   },
   {
    "duration": 23,
    "start_time": "2023-03-16T18:04:26.101Z"
   },
   {
    "duration": 22,
    "start_time": "2023-03-16T18:05:24.140Z"
   },
   {
    "duration": 23,
    "start_time": "2023-03-16T18:05:34.290Z"
   },
   {
    "duration": 30,
    "start_time": "2023-03-16T18:06:11.256Z"
   },
   {
    "duration": 24,
    "start_time": "2023-03-16T18:06:23.012Z"
   },
   {
    "duration": 23,
    "start_time": "2023-03-16T18:07:49.411Z"
   },
   {
    "duration": 46,
    "start_time": "2023-03-16T18:08:49.077Z"
   },
   {
    "duration": 23,
    "start_time": "2023-03-16T18:09:33.177Z"
   },
   {
    "duration": 6,
    "start_time": "2023-03-16T18:10:12.277Z"
   },
   {
    "duration": 8,
    "start_time": "2023-03-16T18:11:16.923Z"
   },
   {
    "duration": 3,
    "start_time": "2023-03-16T18:11:45.982Z"
   },
   {
    "duration": 211,
    "start_time": "2023-03-16T18:11:45.987Z"
   },
   {
    "duration": 7,
    "start_time": "2023-03-16T18:11:46.201Z"
   },
   {
    "duration": 38,
    "start_time": "2023-03-16T18:11:46.211Z"
   },
   {
    "duration": 14,
    "start_time": "2023-03-16T18:11:46.251Z"
   },
   {
    "duration": 20,
    "start_time": "2023-03-16T18:11:46.267Z"
   },
   {
    "duration": 36,
    "start_time": "2023-03-16T18:11:46.290Z"
   },
   {
    "duration": 12,
    "start_time": "2023-03-16T18:11:46.328Z"
   },
   {
    "duration": 34,
    "start_time": "2023-03-16T18:11:46.342Z"
   },
   {
    "duration": 123,
    "start_time": "2023-03-16T18:11:46.379Z"
   },
   {
    "duration": 29,
    "start_time": "2023-03-16T18:11:46.504Z"
   },
   {
    "duration": 91,
    "start_time": "2023-03-16T18:11:46.535Z"
   },
   {
    "duration": 108,
    "start_time": "2023-03-16T18:11:46.628Z"
   },
   {
    "duration": 96,
    "start_time": "2023-03-16T18:11:46.739Z"
   },
   {
    "duration": 68,
    "start_time": "2023-03-16T18:11:46.837Z"
   },
   {
    "duration": 12,
    "start_time": "2023-03-16T18:11:46.907Z"
   },
   {
    "duration": 75,
    "start_time": "2023-03-16T18:11:46.921Z"
   },
   {
    "duration": 16,
    "start_time": "2023-03-16T18:11:46.998Z"
   },
   {
    "duration": 13,
    "start_time": "2023-03-16T18:11:47.016Z"
   },
   {
    "duration": 4,
    "start_time": "2023-03-16T18:11:47.031Z"
   },
   {
    "duration": 46,
    "start_time": "2023-03-16T18:11:47.037Z"
   },
   {
    "duration": 17,
    "start_time": "2023-03-16T18:11:47.085Z"
   },
   {
    "duration": 17,
    "start_time": "2023-03-16T18:11:47.104Z"
   },
   {
    "duration": 50,
    "start_time": "2023-03-16T18:11:47.123Z"
   },
   {
    "duration": 22,
    "start_time": "2023-03-16T18:11:47.175Z"
   },
   {
    "duration": 19,
    "start_time": "2023-03-16T18:11:47.198Z"
   },
   {
    "duration": 4,
    "start_time": "2023-03-16T18:11:47.219Z"
   },
   {
    "duration": 42,
    "start_time": "2023-03-16T18:11:47.227Z"
   },
   {
    "duration": 12,
    "start_time": "2023-03-16T18:11:47.271Z"
   },
   {
    "duration": 6,
    "start_time": "2023-03-16T18:11:47.285Z"
   },
   {
    "duration": 41,
    "start_time": "2023-03-16T18:11:47.292Z"
   },
   {
    "duration": 16,
    "start_time": "2023-03-16T18:12:19.063Z"
   },
   {
    "duration": 16,
    "start_time": "2023-03-16T18:12:51.964Z"
   },
   {
    "duration": 22,
    "start_time": "2023-03-16T18:12:53.546Z"
   },
   {
    "duration": 28,
    "start_time": "2023-03-16T18:15:37.558Z"
   },
   {
    "duration": 20,
    "start_time": "2023-03-16T18:15:40.464Z"
   },
   {
    "duration": 9,
    "start_time": "2023-03-16T18:18:31.083Z"
   },
   {
    "duration": 11,
    "start_time": "2023-03-16T18:18:34.466Z"
   },
   {
    "duration": 5,
    "start_time": "2023-03-16T18:19:20.493Z"
   },
   {
    "duration": 8,
    "start_time": "2023-03-16T18:20:07.711Z"
   },
   {
    "duration": 6,
    "start_time": "2023-03-16T18:20:26.926Z"
   },
   {
    "duration": 431,
    "start_time": "2024-06-16T11:35:09.113Z"
   },
   {
    "duration": 218,
    "start_time": "2024-06-16T11:35:09.546Z"
   },
   {
    "duration": 7,
    "start_time": "2024-06-16T11:35:09.766Z"
   },
   {
    "duration": 26,
    "start_time": "2024-06-16T11:35:09.774Z"
   },
   {
    "duration": 20,
    "start_time": "2024-06-16T11:35:09.802Z"
   },
   {
    "duration": 11,
    "start_time": "2024-06-16T11:35:09.824Z"
   },
   {
    "duration": 10,
    "start_time": "2024-06-16T11:35:09.836Z"
   },
   {
    "duration": 21,
    "start_time": "2024-06-16T11:35:09.848Z"
   },
   {
    "duration": 65,
    "start_time": "2024-06-16T11:35:09.871Z"
   },
   {
    "duration": 17,
    "start_time": "2024-06-16T11:35:09.938Z"
   },
   {
    "duration": 72,
    "start_time": "2024-06-16T11:35:09.956Z"
   },
   {
    "duration": 59,
    "start_time": "2024-06-16T11:35:10.029Z"
   },
   {
    "duration": 58,
    "start_time": "2024-06-16T11:35:10.090Z"
   },
   {
    "duration": 42,
    "start_time": "2024-06-16T11:35:10.150Z"
   },
   {
    "duration": 27,
    "start_time": "2024-06-16T11:35:10.193Z"
   },
   {
    "duration": 43,
    "start_time": "2024-06-16T11:35:10.221Z"
   },
   {
    "duration": 9,
    "start_time": "2024-06-16T11:35:10.266Z"
   },
   {
    "duration": 9,
    "start_time": "2024-06-16T11:35:10.277Z"
   },
   {
    "duration": 7,
    "start_time": "2024-06-16T11:35:10.287Z"
   },
   {
    "duration": 28,
    "start_time": "2024-06-16T11:35:10.295Z"
   },
   {
    "duration": 12,
    "start_time": "2024-06-16T11:35:10.324Z"
   },
   {
    "duration": 11,
    "start_time": "2024-06-16T11:35:10.337Z"
   },
   {
    "duration": 11,
    "start_time": "2024-06-16T11:35:10.350Z"
   },
   {
    "duration": 21,
    "start_time": "2024-06-16T11:35:10.362Z"
   },
   {
    "duration": 11,
    "start_time": "2024-06-16T11:35:10.384Z"
   },
   {
    "duration": 26,
    "start_time": "2024-06-16T11:35:10.396Z"
   },
   {
    "duration": 10,
    "start_time": "2024-06-16T11:35:10.423Z"
   },
   {
    "duration": 10,
    "start_time": "2024-06-16T11:35:10.435Z"
   },
   {
    "duration": 5,
    "start_time": "2024-06-16T11:35:10.446Z"
   },
   {
    "duration": 18,
    "start_time": "2024-06-16T11:35:10.452Z"
   },
   {
    "duration": 10,
    "start_time": "2024-06-16T11:35:10.471Z"
   },
   {
    "duration": 21,
    "start_time": "2024-06-16T11:35:10.482Z"
   },
   {
    "duration": 20,
    "start_time": "2024-06-16T11:35:10.505Z"
   },
   {
    "duration": 7,
    "start_time": "2024-06-16T11:35:10.526Z"
   },
   {
    "duration": 3,
    "start_time": "2024-06-16T11:35:10.535Z"
   },
   {
    "duration": 13,
    "start_time": "2024-06-16T11:35:10.539Z"
   },
   {
    "duration": 4,
    "start_time": "2024-06-16T11:35:10.553Z"
   }
  ],
  "colab": {
   "collapsed_sections": [
    "E0vqbgi9ay0H",
    "VUC88oWjTJw2"
   ],
   "provenance": []
  },
  "kernelspec": {
   "display_name": "Python 3 (ipykernel)",
   "language": "python",
   "name": "python3"
  },
  "language_info": {
   "codemirror_mode": {
    "name": "ipython",
    "version": 3
   },
   "file_extension": ".py",
   "mimetype": "text/x-python",
   "name": "python",
   "nbconvert_exporter": "python",
   "pygments_lexer": "ipython3",
   "version": "3.9.5"
  },
  "toc": {
   "base_numbering": 1,
   "nav_menu": {
    "height": "215px",
    "width": "403px"
   },
   "number_sections": true,
   "sideBar": true,
   "skip_h1_title": true,
   "title_cell": "Table of Contents",
   "title_sidebar": "Contents",
   "toc_cell": false,
   "toc_position": {
    "height": "calc(100% - 180px)",
    "left": "10px",
    "top": "150px",
    "width": "285.825px"
   },
   "toc_section_display": true,
   "toc_window_display": false
  }
 },
 "nbformat": 4,
 "nbformat_minor": 1
}
