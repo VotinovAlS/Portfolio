{
 "cells": [
  {
   "cell_type": "markdown",
   "id": "aada88b3",
   "metadata": {},
   "source": [
    "# Исследование данных популярного сервиса аренды самокатов GoFast.\n",
    "\n",
    "Проанализировать данные и проверить некоторые гипотезы, которые могут помочь бизнесу вырасти.\n",
    "\n",
    "Чтобы совершать поездки по городу, пользователи сервиса GoFast пользуются мобильным приложением. Сервисом можно пользоваться:\n",
    "- без подписки\n",
    " - абонентская плата отсутствует;\n",
    " - стоимость одной минуты поездки — 8 рублей;\n",
    " - стоимость старта (начала поездки) — 50 рублей;\n",
    "- с подпиской Ultra\n",
    " - абонентская плата — 199 рублей в месяц;\n",
    " - стоимость одной минуты поездки — 6 рублей;\n",
    " - стоимость старта — бесплатно."
   ]
  },
  {
   "cell_type": "markdown",
   "id": "2f3f7407",
   "metadata": {},
   "source": [
    "**План исследования данных сервиса аренды самокатов GoFast:**\n",
    "\n",
    "1) Загрузить данные из трех таблиц:\n",
    " - информация о пользователях - users_go.csv в переменную df_users;\n",
    " - их поездках - rides_go.csv в переменную df_rides;\n",
    " - и подписках - subscriptions_go.csv в переменную df_subs.\n",
    "\n",
    "2) Провести предобработку данных каждого датафрейма (обработать пропщенные значения, привести тип данных в порядок, выявить неявные дубликаты и обработать их, найти и устранить редкие и выбивающиеся значения и аномалии, где это возможно).\n",
    "\n",
    "3) Выполнить исследовательский анализ данных.\n",
    "\n",
    "4) Объединить таблицы в одну.\n",
    "\n",
    "5) Выполнить подсчет выручки.\n",
    "\n",
    "6) Проверить гипотезы.\n",
    "\n",
    "7) Написать промежуточные и общий вывод про результатам исследования.\n"
   ]
  },
  {
   "cell_type": "markdown",
   "id": "c42cbe00",
   "metadata": {},
   "source": [
    "#### Шаг 1. Загрузка данных"
   ]
  },
  {
   "cell_type": "code",
   "execution_count": 1,
   "id": "8dba4209",
   "metadata": {},
   "outputs": [],
   "source": [
    "import pandas as pd\n",
    "import matplotlib.pyplot as plt\n",
    "import numpy as np\n",
    "from scipy import stats as st"
   ]
  },
  {
   "cell_type": "code",
   "execution_count": 2,
   "id": "eff9f206",
   "metadata": {},
   "outputs": [],
   "source": [
    "try:\n",
    "    df_users = pd.read_csv('/datasets/users_go.csv', sep=',')\n",
    "except:\n",
    "    df_users = pd.read_csv('https://code.s3.yandex.net/datasets/users_go.csv', sep=',')\n",
    "\n",
    "try:\n",
    "    df_rides = pd.read_csv('/datasets/rides_go.csv', sep=',')\n",
    "except:\n",
    "    df_rides = pd.read_csv('https://code.s3.yandex.net/datasets/rides_go.csv', sep=',')\n",
    "    \n",
    "try:\n",
    "    df_subs = pd.read_csv('/datasets/subscriptions_go.csv', sep=',')\n",
    "except:\n",
    "    df_subs = pd.read_csv('https://code.s3.yandex.net/datasets/subscriptions_go.csv', sep=',')"
   ]
  },
  {
   "cell_type": "markdown",
   "id": "0e071151",
   "metadata": {},
   "source": [
    "**Вывод общей информации о датафреймах**"
   ]
  },
  {
   "cell_type": "code",
   "execution_count": 3,
   "id": "6af3c3e4",
   "metadata": {},
   "outputs": [
    {
     "name": "stdout",
     "output_type": "stream",
     "text": [
      "<class 'pandas.core.frame.DataFrame'>\n",
      "RangeIndex: 1565 entries, 0 to 1564\n",
      "Data columns (total 5 columns):\n",
      " #   Column             Non-Null Count  Dtype \n",
      "---  ------             --------------  ----- \n",
      " 0   user_id            1565 non-null   int64 \n",
      " 1   name               1565 non-null   object\n",
      " 2   age                1565 non-null   int64 \n",
      " 3   city               1565 non-null   object\n",
      " 4   subscription_type  1565 non-null   object\n",
      "dtypes: int64(2), object(3)\n",
      "memory usage: 61.3+ KB\n"
     ]
    },
    {
     "data": {
      "text/html": [
       "<div>\n",
       "<style scoped>\n",
       "    .dataframe tbody tr th:only-of-type {\n",
       "        vertical-align: middle;\n",
       "    }\n",
       "\n",
       "    .dataframe tbody tr th {\n",
       "        vertical-align: top;\n",
       "    }\n",
       "\n",
       "    .dataframe thead th {\n",
       "        text-align: right;\n",
       "    }\n",
       "</style>\n",
       "<table border=\"1\" class=\"dataframe\">\n",
       "  <thead>\n",
       "    <tr style=\"text-align: right;\">\n",
       "      <th></th>\n",
       "      <th>user_id</th>\n",
       "      <th>name</th>\n",
       "      <th>age</th>\n",
       "      <th>city</th>\n",
       "      <th>subscription_type</th>\n",
       "    </tr>\n",
       "  </thead>\n",
       "  <tbody>\n",
       "    <tr>\n",
       "      <th>0</th>\n",
       "      <td>1</td>\n",
       "      <td>Кира</td>\n",
       "      <td>22</td>\n",
       "      <td>Тюмень</td>\n",
       "      <td>ultra</td>\n",
       "    </tr>\n",
       "    <tr>\n",
       "      <th>1</th>\n",
       "      <td>2</td>\n",
       "      <td>Станислав</td>\n",
       "      <td>31</td>\n",
       "      <td>Омск</td>\n",
       "      <td>ultra</td>\n",
       "    </tr>\n",
       "    <tr>\n",
       "      <th>2</th>\n",
       "      <td>3</td>\n",
       "      <td>Алексей</td>\n",
       "      <td>20</td>\n",
       "      <td>Москва</td>\n",
       "      <td>ultra</td>\n",
       "    </tr>\n",
       "    <tr>\n",
       "      <th>3</th>\n",
       "      <td>4</td>\n",
       "      <td>Константин</td>\n",
       "      <td>26</td>\n",
       "      <td>Ростов-на-Дону</td>\n",
       "      <td>ultra</td>\n",
       "    </tr>\n",
       "    <tr>\n",
       "      <th>4</th>\n",
       "      <td>5</td>\n",
       "      <td>Адель</td>\n",
       "      <td>28</td>\n",
       "      <td>Омск</td>\n",
       "      <td>ultra</td>\n",
       "    </tr>\n",
       "  </tbody>\n",
       "</table>\n",
       "</div>"
      ],
      "text/plain": [
       "   user_id        name  age            city subscription_type\n",
       "0        1        Кира   22          Тюмень             ultra\n",
       "1        2   Станислав   31            Омск             ultra\n",
       "2        3     Алексей   20          Москва             ultra\n",
       "3        4  Константин   26  Ростов-на-Дону             ultra\n",
       "4        5       Адель   28            Омск             ultra"
      ]
     },
     "metadata": {},
     "output_type": "display_data"
    },
    {
     "data": {
      "text/plain": [
       "array(['Тюмень', 'Омск', 'Москва', 'Ростов-на-Дону', 'Краснодар',\n",
       "       'Пятигорск', 'Екатеринбург', 'Сочи'], dtype=object)"
      ]
     },
     "metadata": {},
     "output_type": "display_data"
    },
    {
     "data": {
      "text/plain": [
       "1534"
      ]
     },
     "execution_count": 3,
     "metadata": {},
     "output_type": "execute_result"
    }
   ],
   "source": [
    "df_users.info()\n",
    "display(df_users.head())\n",
    "display(df_users['city'].unique())\n",
    "len(df_users['city'].unique())\n",
    "len(df_users['user_id'].unique())"
   ]
  },
  {
   "cell_type": "markdown",
   "id": "a95464b5",
   "metadata": {},
   "source": [
    "**Данные представлены по 1534 уникальным пользователям из 8 городов России: 'Тюмень', 'Омск', 'Москва', 'Ростов-на-Дону', 'Краснодар', 'Пятигорск', 'Екатеринбург', 'Сочи'. Явно есть дубликаты, их обработаем позже.**"
   ]
  },
  {
   "cell_type": "code",
   "execution_count": 4,
   "id": "01b47ac4",
   "metadata": {},
   "outputs": [
    {
     "data": {
      "text/plain": [
       "array([[<AxesSubplot:title={'center':'user_id'}>,\n",
       "        <AxesSubplot:title={'center':'age'}>]], dtype=object)"
      ]
     },
     "execution_count": 4,
     "metadata": {},
     "output_type": "execute_result"
    },
    {
     "data": {
      "image/png": "[encoded data removed]",
      "text/plain": [
       "<Figure size 1080x360 with 2 Axes>"
      ]
     },
     "metadata": {
      "needs_background": "light"
     },
     "output_type": "display_data"
    }
   ],
   "source": [
    "df_users.hist(figsize=(15, 5), bins=25)"
   ]
  },
  {
   "cell_type": "code",
   "execution_count": 5,
   "id": "d83a5860",
   "metadata": {},
   "outputs": [
    {
     "name": "stdout",
     "output_type": "stream",
     "text": [
      "<class 'pandas.core.frame.DataFrame'>\n",
      "RangeIndex: 18068 entries, 0 to 18067\n",
      "Data columns (total 4 columns):\n",
      " #   Column    Non-Null Count  Dtype  \n",
      "---  ------    --------------  -----  \n",
      " 0   user_id   18068 non-null  int64  \n",
      " 1   distance  18068 non-null  float64\n",
      " 2   duration  18068 non-null  float64\n",
      " 3   date      18068 non-null  object \n",
      "dtypes: float64(2), int64(1), object(1)\n",
      "memory usage: 564.8+ KB\n"
     ]
    },
    {
     "data": {
      "text/html": [
       "<div>\n",
       "<style scoped>\n",
       "    .dataframe tbody tr th:only-of-type {\n",
       "        vertical-align: middle;\n",
       "    }\n",
       "\n",
       "    .dataframe tbody tr th {\n",
       "        vertical-align: top;\n",
       "    }\n",
       "\n",
       "    .dataframe thead th {\n",
       "        text-align: right;\n",
       "    }\n",
       "</style>\n",
       "<table border=\"1\" class=\"dataframe\">\n",
       "  <thead>\n",
       "    <tr style=\"text-align: right;\">\n",
       "      <th></th>\n",
       "      <th>user_id</th>\n",
       "      <th>distance</th>\n",
       "      <th>duration</th>\n",
       "      <th>date</th>\n",
       "    </tr>\n",
       "  </thead>\n",
       "  <tbody>\n",
       "    <tr>\n",
       "      <th>0</th>\n",
       "      <td>1</td>\n",
       "      <td>4409.919140</td>\n",
       "      <td>25.599769</td>\n",
       "      <td>2021-01-01</td>\n",
       "    </tr>\n",
       "    <tr>\n",
       "      <th>1</th>\n",
       "      <td>1</td>\n",
       "      <td>2617.592153</td>\n",
       "      <td>15.816871</td>\n",
       "      <td>2021-01-18</td>\n",
       "    </tr>\n",
       "    <tr>\n",
       "      <th>2</th>\n",
       "      <td>1</td>\n",
       "      <td>754.159807</td>\n",
       "      <td>6.232113</td>\n",
       "      <td>2021-04-20</td>\n",
       "    </tr>\n",
       "    <tr>\n",
       "      <th>3</th>\n",
       "      <td>1</td>\n",
       "      <td>2694.783254</td>\n",
       "      <td>18.511000</td>\n",
       "      <td>2021-08-11</td>\n",
       "    </tr>\n",
       "    <tr>\n",
       "      <th>4</th>\n",
       "      <td>1</td>\n",
       "      <td>4028.687306</td>\n",
       "      <td>26.265803</td>\n",
       "      <td>2021-08-28</td>\n",
       "    </tr>\n",
       "  </tbody>\n",
       "</table>\n",
       "</div>"
      ],
      "text/plain": [
       "   user_id     distance   duration        date\n",
       "0        1  4409.919140  25.599769  2021-01-01\n",
       "1        1  2617.592153  15.816871  2021-01-18\n",
       "2        1   754.159807   6.232113  2021-04-20\n",
       "3        1  2694.783254  18.511000  2021-08-11\n",
       "4        1  4028.687306  26.265803  2021-08-28"
      ]
     },
     "metadata": {},
     "output_type": "display_data"
    },
    {
     "name": "stdout",
     "output_type": "stream",
     "text": [
      "18068\n"
     ]
    }
   ],
   "source": [
    "df_rides.info()\n",
    "display(df_rides.head())\n",
    "len_df_rides = len(df_rides)\n",
    "print(len_df_rides)"
   ]
  },
  {
   "cell_type": "code",
   "execution_count": 6,
   "id": "866c758c",
   "metadata": {},
   "outputs": [
    {
     "data": {
      "text/plain": [
       "array([[<AxesSubplot:title={'center':'user_id'}>,\n",
       "        <AxesSubplot:title={'center':'distance'}>],\n",
       "       [<AxesSubplot:title={'center':'duration'}>, <AxesSubplot:>]],\n",
       "      dtype=object)"
      ]
     },
     "execution_count": 6,
     "metadata": {},
     "output_type": "execute_result"
    },
    {
     "data": {
      "image/png": "[encoded data removed]",
      "text/plain": [
       "<Figure size 1080x1080 with 4 Axes>"
      ]
     },
     "metadata": {
      "needs_background": "light"
     },
     "output_type": "display_data"
    }
   ],
   "source": [
    "df_rides.hist(figsize=(15, 15), bins=41)"
   ]
  },
  {
   "cell_type": "code",
   "execution_count": 7,
   "id": "f03fbb11",
   "metadata": {},
   "outputs": [
    {
     "name": "stdout",
     "output_type": "stream",
     "text": [
      "<class 'pandas.core.frame.DataFrame'>\n",
      "RangeIndex: 2 entries, 0 to 1\n",
      "Data columns (total 4 columns):\n",
      " #   Column             Non-Null Count  Dtype \n",
      "---  ------             --------------  ----- \n",
      " 0   subscription_type  2 non-null      object\n",
      " 1   minute_price       2 non-null      int64 \n",
      " 2   start_ride_price   2 non-null      int64 \n",
      " 3   subscription_fee   2 non-null      int64 \n",
      "dtypes: int64(3), object(1)\n",
      "memory usage: 192.0+ bytes\n"
     ]
    },
    {
     "data": {
      "text/html": [
       "<div>\n",
       "<style scoped>\n",
       "    .dataframe tbody tr th:only-of-type {\n",
       "        vertical-align: middle;\n",
       "    }\n",
       "\n",
       "    .dataframe tbody tr th {\n",
       "        vertical-align: top;\n",
       "    }\n",
       "\n",
       "    .dataframe thead th {\n",
       "        text-align: right;\n",
       "    }\n",
       "</style>\n",
       "<table border=\"1\" class=\"dataframe\">\n",
       "  <thead>\n",
       "    <tr style=\"text-align: right;\">\n",
       "      <th></th>\n",
       "      <th>subscription_type</th>\n",
       "      <th>minute_price</th>\n",
       "      <th>start_ride_price</th>\n",
       "      <th>subscription_fee</th>\n",
       "    </tr>\n",
       "  </thead>\n",
       "  <tbody>\n",
       "    <tr>\n",
       "      <th>0</th>\n",
       "      <td>free</td>\n",
       "      <td>8</td>\n",
       "      <td>50</td>\n",
       "      <td>0</td>\n",
       "    </tr>\n",
       "    <tr>\n",
       "      <th>1</th>\n",
       "      <td>ultra</td>\n",
       "      <td>6</td>\n",
       "      <td>0</td>\n",
       "      <td>199</td>\n",
       "    </tr>\n",
       "  </tbody>\n",
       "</table>\n",
       "</div>"
      ],
      "text/plain": [
       "  subscription_type  minute_price  start_ride_price  subscription_fee\n",
       "0              free             8                50                 0\n",
       "1             ultra             6                 0               199"
      ]
     },
     "metadata": {},
     "output_type": "display_data"
    }
   ],
   "source": [
    "df_subs.info()\n",
    "display(df_subs.head())"
   ]
  },
  {
   "cell_type": "markdown",
   "id": "babd442c",
   "metadata": {},
   "source": [
    "**Данные представлены по 1534 уникальным пользователям из 8 городов России: 'Тюмень', 'Омск', 'Москва', 'Ростов-на-Дону', 'Краснодар', 'Пятигорск', 'Екатеринбург', 'Сочи'.**"
   ]
  },
  {
   "cell_type": "markdown",
   "id": "e95ebca7",
   "metadata": {},
   "source": [
    "#### Шаг 2. Предобработка данных"
   ]
  },
  {
   "cell_type": "markdown",
   "id": "511232a8",
   "metadata": {},
   "source": [
    "**2.1. Приведем данные столбца 'date' таблицы 'df_rides' к формату datetime.**"
   ]
  },
  {
   "cell_type": "code",
   "execution_count": 8,
   "id": "af6d202c",
   "metadata": {},
   "outputs": [
    {
     "name": "stdout",
     "output_type": "stream",
     "text": [
      "2021-01-01 00:00:00 2021-12-30 00:00:00\n",
      "<class 'pandas.core.frame.DataFrame'>\n",
      "RangeIndex: 18068 entries, 0 to 18067\n",
      "Data columns (total 4 columns):\n",
      " #   Column    Non-Null Count  Dtype         \n",
      "---  ------    --------------  -----         \n",
      " 0   user_id   18068 non-null  int64         \n",
      " 1   distance  18068 non-null  float64       \n",
      " 2   duration  18068 non-null  float64       \n",
      " 3   date      18068 non-null  datetime64[ns]\n",
      "dtypes: datetime64[ns](1), float64(2), int64(1)\n",
      "memory usage: 564.8 KB\n"
     ]
    }
   ],
   "source": [
    "df_rides['date'] = pd.to_datetime(df_rides['date'], format='%Y-%m-%d')\n",
    "print(df_rides['date'].min(), df_rides['date'].max())\n",
    "df_rides.info()"
   ]
  },
  {
   "cell_type": "markdown",
   "id": "6f56f5d2",
   "metadata": {},
   "source": [
    "**Определив минимальную и максимальную даты определили период, за который необходимо проанализировать данные поездок пользователей сервиса аренды самокатов GoFast. Данные предоставлены с 01.01.2021 по 30.12.2021.**"
   ]
  },
  {
   "cell_type": "markdown",
   "id": "4540476d",
   "metadata": {},
   "source": [
    "**2.2. Добавим столбец с номером месяца 'month' в таблицу 'df_rides'**"
   ]
  },
  {
   "cell_type": "code",
   "execution_count": 10,
   "id": "31703e36",
   "metadata": {},
   "outputs": [
    {
     "data": {
      "text/html": [
       "<div>\n",
       "<style scoped>\n",
       "    .dataframe tbody tr th:only-of-type {\n",
       "        vertical-align: middle;\n",
       "    }\n",
       "\n",
       "    .dataframe tbody tr th {\n",
       "        vertical-align: top;\n",
       "    }\n",
       "\n",
       "    .dataframe thead th {\n",
       "        text-align: right;\n",
       "    }\n",
       "</style>\n",
       "<table border=\"1\" class=\"dataframe\">\n",
       "  <thead>\n",
       "    <tr style=\"text-align: right;\">\n",
       "      <th></th>\n",
       "      <th>date</th>\n",
       "      <th>month</th>\n",
       "    </tr>\n",
       "  </thead>\n",
       "  <tbody>\n",
       "    <tr>\n",
       "      <th>0</th>\n",
       "      <td>2021-01-01</td>\n",
       "      <td>1</td>\n",
       "    </tr>\n",
       "    <tr>\n",
       "      <th>1</th>\n",
       "      <td>2021-01-18</td>\n",
       "      <td>1</td>\n",
       "    </tr>\n",
       "    <tr>\n",
       "      <th>2</th>\n",
       "      <td>2021-04-20</td>\n",
       "      <td>4</td>\n",
       "    </tr>\n",
       "    <tr>\n",
       "      <th>3</th>\n",
       "      <td>2021-08-11</td>\n",
       "      <td>8</td>\n",
       "    </tr>\n",
       "    <tr>\n",
       "      <th>4</th>\n",
       "      <td>2021-08-28</td>\n",
       "      <td>8</td>\n",
       "    </tr>\n",
       "    <tr>\n",
       "      <th>...</th>\n",
       "      <td>...</td>\n",
       "      <td>...</td>\n",
       "    </tr>\n",
       "    <tr>\n",
       "      <th>18063</th>\n",
       "      <td>2021-11-04</td>\n",
       "      <td>11</td>\n",
       "    </tr>\n",
       "    <tr>\n",
       "      <th>18064</th>\n",
       "      <td>2021-11-16</td>\n",
       "      <td>11</td>\n",
       "    </tr>\n",
       "    <tr>\n",
       "      <th>18065</th>\n",
       "      <td>2021-11-18</td>\n",
       "      <td>11</td>\n",
       "    </tr>\n",
       "    <tr>\n",
       "      <th>18066</th>\n",
       "      <td>2021-11-27</td>\n",
       "      <td>11</td>\n",
       "    </tr>\n",
       "    <tr>\n",
       "      <th>18067</th>\n",
       "      <td>2021-12-29</td>\n",
       "      <td>12</td>\n",
       "    </tr>\n",
       "  </tbody>\n",
       "</table>\n",
       "<p>18068 rows × 2 columns</p>\n",
       "</div>"
      ],
      "text/plain": [
       "            date  month\n",
       "0     2021-01-01      1\n",
       "1     2021-01-18      1\n",
       "2     2021-04-20      4\n",
       "3     2021-08-11      8\n",
       "4     2021-08-28      8\n",
       "...          ...    ...\n",
       "18063 2021-11-04     11\n",
       "18064 2021-11-16     11\n",
       "18065 2021-11-18     11\n",
       "18066 2021-11-27     11\n",
       "18067 2021-12-29     12\n",
       "\n",
       "[18068 rows x 2 columns]"
      ]
     },
     "metadata": {},
     "output_type": "display_data"
    }
   ],
   "source": [
    "df_rides['month'] = df_rides['date'].dt.month\n",
    "display(df_rides[['date', 'month']])"
   ]
  },
  {
   "cell_type": "code",
   "execution_count": 11,
   "id": "95a9993d",
   "metadata": {},
   "outputs": [
    {
     "data": {
      "text/plain": [
       "user_id              0\n",
       "name                 0\n",
       "age                  0\n",
       "city                 0\n",
       "subscription_type    0\n",
       "dtype: int64"
      ]
     },
     "metadata": {},
     "output_type": "display_data"
    },
    {
     "data": {
      "text/plain": [
       "user_id     0\n",
       "distance    0\n",
       "duration    0\n",
       "date        0\n",
       "month       0\n",
       "dtype: int64"
      ]
     },
     "metadata": {},
     "output_type": "display_data"
    },
    {
     "data": {
      "text/plain": [
       "subscription_type    0\n",
       "minute_price         0\n",
       "start_ride_price     0\n",
       "subscription_fee     0\n",
       "dtype: int64"
      ]
     },
     "metadata": {},
     "output_type": "display_data"
    }
   ],
   "source": [
    "display(df_users.isna().sum())\n",
    "display(df_rides.isna().sum())\n",
    "display(df_subs.isna().sum())"
   ]
  },
  {
   "cell_type": "markdown",
   "id": "31d392be",
   "metadata": {},
   "source": [
    "**Пропущенных значений нет**"
   ]
  },
  {
   "cell_type": "markdown",
   "id": "3c163fab",
   "metadata": {},
   "source": [
    "**2.3. Выявим и удалим явные дубликаты в датафреймах**"
   ]
  },
  {
   "cell_type": "code",
   "execution_count": 12,
   "id": "dd4f3cca",
   "metadata": {},
   "outputs": [
    {
     "data": {
      "text/plain": [
       "31"
      ]
     },
     "metadata": {},
     "output_type": "display_data"
    },
    {
     "data": {
      "text/plain": [
       "0       False\n",
       "1       False\n",
       "2       False\n",
       "3       False\n",
       "4       False\n",
       "        ...  \n",
       "1560     True\n",
       "1561     True\n",
       "1562     True\n",
       "1563     True\n",
       "1564     True\n",
       "Length: 1565, dtype: bool"
      ]
     },
     "metadata": {},
     "output_type": "display_data"
    },
    {
     "name": "stdout",
     "output_type": "stream",
     "text": [
      "<class 'pandas.core.frame.DataFrame'>\n",
      "RangeIndex: 1534 entries, 0 to 1533\n",
      "Data columns (total 5 columns):\n",
      " #   Column             Non-Null Count  Dtype \n",
      "---  ------             --------------  ----- \n",
      " 0   user_id            1534 non-null   int64 \n",
      " 1   name               1534 non-null   object\n",
      " 2   age                1534 non-null   int64 \n",
      " 3   city               1534 non-null   object\n",
      " 4   subscription_type  1534 non-null   object\n",
      "dtypes: int64(2), object(3)\n",
      "memory usage: 60.0+ KB\n"
     ]
    }
   ],
   "source": [
    "display(df_users.duplicated().sum())\n",
    "display(df_users.duplicated())\n",
    "df_users = df_users.drop_duplicates().reset_index(drop=True)\n",
    "df_users.info()"
   ]
  },
  {
   "cell_type": "code",
   "execution_count": 13,
   "id": "696192ff",
   "metadata": {},
   "outputs": [
    {
     "data": {
      "text/plain": [
       "0"
      ]
     },
     "metadata": {},
     "output_type": "display_data"
    },
    {
     "data": {
      "text/plain": [
       "0        False\n",
       "1        False\n",
       "2        False\n",
       "3        False\n",
       "4        False\n",
       "         ...  \n",
       "18063    False\n",
       "18064    False\n",
       "18065    False\n",
       "18066    False\n",
       "18067    False\n",
       "Length: 18068, dtype: bool"
      ]
     },
     "metadata": {},
     "output_type": "display_data"
    }
   ],
   "source": [
    "display(df_rides.duplicated().sum())\n",
    "display(df_rides.duplicated())"
   ]
  },
  {
   "cell_type": "code",
   "execution_count": 14,
   "id": "082c5479",
   "metadata": {},
   "outputs": [
    {
     "data": {
      "text/plain": [
       "0"
      ]
     },
     "metadata": {},
     "output_type": "display_data"
    },
    {
     "data": {
      "text/plain": [
       "0    False\n",
       "1    False\n",
       "dtype: bool"
      ]
     },
     "metadata": {},
     "output_type": "display_data"
    }
   ],
   "source": [
    "display(df_subs.duplicated().sum())\n",
    "display(df_subs.duplicated())"
   ]
  },
  {
   "cell_type": "markdown",
   "id": "36c8e1c3",
   "metadata": {},
   "source": [
    "**Удалены явные дубликаты. Неявные дубликаты не обнаружены**"
   ]
  },
  {
   "cell_type": "markdown",
   "id": "121f4809",
   "metadata": {},
   "source": [
    "**В результате предобработки данных выполнено следующее:**\n",
    " - Приведены данные столбца 'date' таблицы 'df_rides' к формату datetime. Определен период, за который необходимо проанализировать данные поездок пользователей сервиса аренды самокатов GoFast. Данные предоставлены с 01.01.2021 по 30.12.2021.\n",
    " - Добавлен столбец с номером месяца 'month' в таблицу 'df_rides'\n",
    " - Удалены явные дубликаты. Неявные дубликаты не обнаружены."
   ]
  },
  {
   "cell_type": "markdown",
   "id": "212593c7",
   "metadata": {},
   "source": [
    "#### Шаг 3. Исследовательский анализ данных"
   ]
  },
  {
   "cell_type": "markdown",
   "id": "8247c470",
   "metadata": {},
   "source": [
    "**Опишем и визуализируем общую информацию о пользователях и поездках:**"
   ]
  },
  {
   "cell_type": "markdown",
   "id": "45413027",
   "metadata": {},
   "source": [
    "**3.1 Частота встречаемости городов;**"
   ]
  },
  {
   "cell_type": "code",
   "execution_count": 15,
   "id": "65882dfe",
   "metadata": {},
   "outputs": [
    {
     "data": {
      "text/plain": [
       "Пятигорск         219\n",
       "Екатеринбург      204\n",
       "Ростов-на-Дону    198\n",
       "Краснодар         193\n",
       "Сочи              189\n",
       "Омск              183\n",
       "Тюмень            180\n",
       "Москва            168\n",
       "Name: city, dtype: int64"
      ]
     },
     "metadata": {},
     "output_type": "display_data"
    },
    {
     "data": {
      "image/png": "[encoded data removed]",
      "text/plain": [
       "<Figure size 864x432 with 1 Axes>"
      ]
     },
     "metadata": {
      "needs_background": "light"
     },
     "output_type": "display_data"
    }
   ],
   "source": [
    "display(df_users['city'].value_counts())\n",
    "\n",
    "df_users['city'].value_counts().plot.bar(figsize=(12, 6))\n",
    "plt.xlabel('Город')\n",
    "plt.ylabel('Количество пользователей')\n",
    "plt.title(\"Количество пользователей в зависимости от города\")\n",
    "plt.show()"
   ]
  },
  {
   "cell_type": "markdown",
   "id": "bf9e84c9",
   "metadata": {},
   "source": [
    "**Наибольшее количество пользователей в Пятигорске - 219, Наименьшее количество пользователей в Москве - 168.**"
   ]
  },
  {
   "cell_type": "markdown",
   "id": "35b50d19",
   "metadata": {},
   "source": [
    "**3.2 Cоотношение пользователей с подпиской и без подписки;**"
   ]
  },
  {
   "cell_type": "code",
   "execution_count": 16,
   "id": "17c10849",
   "metadata": {},
   "outputs": [
    {
     "data": {
      "image/png": "[encoded data removed]",
      "text/plain": [
       "<Figure size 432x288 with 1 Axes>"
      ]
     },
     "metadata": {},
     "output_type": "display_data"
    },
    {
     "data": {
      "text/plain": [
       "free     835\n",
       "ultra    699\n",
       "Name: subscription_type, dtype: int64"
      ]
     },
     "execution_count": 16,
     "metadata": {},
     "output_type": "execute_result"
    }
   ],
   "source": [
    "df_users['subscription_type'].value_counts(ascending=True).plot.pie(label='Доля пользователей', autopct=\"%.1f\")\n",
    "plt.legend()\n",
    "plt.show()\n",
    "df_users['subscription_type'].value_counts()"
   ]
  },
  {
   "cell_type": "markdown",
   "id": "edecbb28",
   "metadata": {},
   "source": [
    "**Наибольшая доля пользователей с подпиской 'free' - 54,4 %, доля пользователей с подпиской 'ultra' - 45,6 %.**"
   ]
  },
  {
   "cell_type": "markdown",
   "id": "5c00eed3",
   "metadata": {},
   "source": [
    "**3.3 Возраст пользователей;**"
   ]
  },
  {
   "cell_type": "code",
   "execution_count": 17,
   "id": "1989d85a",
   "metadata": {},
   "outputs": [
    {
     "data": {
      "image/png": "[encoded data removed]",
      "text/plain": [
       "<Figure size 864x432 with 1 Axes>"
      ]
     },
     "metadata": {
      "needs_background": "light"
     },
     "output_type": "display_data"
    },
    {
     "data": {
      "text/plain": [
       "<AxesSubplot:ylabel='Frequency'>"
      ]
     },
     "execution_count": 17,
     "metadata": {},
     "output_type": "execute_result"
    },
    {
     "data": {
      "image/png": "[encoded data removed]",
      "text/plain": [
       "<Figure size 864x360 with 1 Axes>"
      ]
     },
     "metadata": {
      "needs_background": "light"
     },
     "output_type": "display_data"
    }
   ],
   "source": [
    "df_users['age'].value_counts().plot.bar(figsize=(12, 6))\n",
    "plt.xlabel('Возраст')\n",
    "plt.ylabel('Количество пользователей')\n",
    "plt.title(\"Количество пользователей в зависимости от возраста\")\n",
    "plt.show()\n",
    "\n",
    "df_users.plot(y='age', kind='hist', bins=30, grid=True,  ylim=(0,150), xlim=(10, 45), figsize=(12, 5))"
   ]
  },
  {
   "cell_type": "markdown",
   "id": "b3cb9309",
   "metadata": {},
   "source": [
    "**Наибольшее количество пользователей возрастом от 22 до 28 лет. Наименьшее количество пользователей младше 16 лет и старше 34 лет.**"
   ]
  },
  {
   "cell_type": "markdown",
   "id": "d9fd9b10",
   "metadata": {},
   "source": [
    "**3.4 Расстояние, которое пользователь преодолел за одну поездку;**"
   ]
  },
  {
   "cell_type": "code",
   "execution_count": 18,
   "id": "fa51b1cc",
   "metadata": {},
   "outputs": [
    {
     "data": {
      "text/plain": [
       "count    18068.000000\n",
       "mean      3070.659976\n",
       "std       1116.831209\n",
       "min          0.855683\n",
       "25%       2543.226360\n",
       "50%       3133.609994\n",
       "75%       3776.222735\n",
       "max       7211.007745\n",
       "Name: distance, dtype: float64"
      ]
     },
     "execution_count": 18,
     "metadata": {},
     "output_type": "execute_result"
    },
    {
     "data": {
      "image/png": "[encoded data removed]",
      "text/plain": [
       "<Figure size 360x360 with 1 Axes>"
      ]
     },
     "metadata": {
      "needs_background": "light"
     },
     "output_type": "display_data"
    }
   ],
   "source": [
    "df_rides.plot(y='distance', kind='hist', bins=100, grid=True,  ylim=(0,1300), xlim=(0, 7500), figsize=(5, 5))\n",
    "\n",
    "df_rides['distance'].describe()"
   ]
  },
  {
   "cell_type": "markdown",
   "id": "c06982c9",
   "metadata": {},
   "source": [
    "**В основном пользователи проезжают от 2500 до 4000 м. Отмечаются 2 нормальных распределения, кажется, что это две группы данных, можно их обозначить как короткие и длинные.**"
   ]
  },
  {
   "cell_type": "markdown",
   "id": "9b2cd68e",
   "metadata": {},
   "source": [
    "**3.5 Продолжительность поездок.**"
   ]
  },
  {
   "cell_type": "code",
   "execution_count": 19,
   "id": "e1db7668",
   "metadata": {},
   "outputs": [
    {
     "data": {
      "text/plain": [
       "count    18068.000000\n",
       "mean        17.805011\n",
       "std          6.091051\n",
       "min          0.500000\n",
       "25%         13.597563\n",
       "50%         17.678395\n",
       "75%         21.724800\n",
       "max         40.823963\n",
       "Name: duration, dtype: float64"
      ]
     },
     "execution_count": 19,
     "metadata": {},
     "output_type": "execute_result"
    },
    {
     "data": {
      "image/png": "[encoded data removed]",
      "text/plain": [
       "<Figure size 720x720 with 1 Axes>"
      ]
     },
     "metadata": {
      "needs_background": "light"
     },
     "output_type": "display_data"
    }
   ],
   "source": [
    "df_rides.plot(y='duration', kind='hist', bins=36, grid=True,  ylim=(0,2000), xlim=(0, 40), figsize=(10, 10))\n",
    "\n",
    "df_rides['duration'].describe()"
   ]
  },
  {
   "cell_type": "markdown",
   "id": "bcb312f3",
   "metadata": {},
   "source": [
    "**В основном, продолжительность поездок составляет от 12 до 25 минут.**"
   ]
  },
  {
   "cell_type": "markdown",
   "id": "4eefa523",
   "metadata": {},
   "source": [
    "**Общая информация о пользователях и поездках:**\n",
    "- Наибольшее количество пользователей в Пятигорске - 219, Наименьшее количество пользователей в Москве - 168.\n",
    "- Наибольшая доля пользователей с подпиской 'free' - 54,4 %, доля пользователей с подпиской 'ultra' - 45,6 %.\n",
    "- Наибольшее количество пользователей возрастом от 22 до 28 лет. Наименьшее количество пользователей младше 16 лет и старше 34 лет.\n",
    "- В основном пользователи проезжают от 2500 до 4000 м. Отмечаются 2 нормальных распределения, кажется, что это две группы данных, можно их обозначить как короткие и длинные.\n",
    "- В основном, продолжительность поездок составляет от 12 до 25 минут."
   ]
  },
  {
   "cell_type": "markdown",
   "id": "4ef51331",
   "metadata": {},
   "source": [
    "#### Шаг 4. Объединение данных"
   ]
  },
  {
   "cell_type": "markdown",
   "id": "0e209de4",
   "metadata": {},
   "source": [
    "**4.1 Объединим данные о пользователях, поездках и подписках в один датафрейм 'total_df'.**"
   ]
  },
  {
   "cell_type": "code",
   "execution_count": 20,
   "id": "a2a4b455",
   "metadata": {},
   "outputs": [
    {
     "data": {
      "text/html": [
       "<div>\n",
       "<style scoped>\n",
       "    .dataframe tbody tr th:only-of-type {\n",
       "        vertical-align: middle;\n",
       "    }\n",
       "\n",
       "    .dataframe tbody tr th {\n",
       "        vertical-align: top;\n",
       "    }\n",
       "\n",
       "    .dataframe thead th {\n",
       "        text-align: right;\n",
       "    }\n",
       "</style>\n",
       "<table border=\"1\" class=\"dataframe\">\n",
       "  <thead>\n",
       "    <tr style=\"text-align: right;\">\n",
       "      <th></th>\n",
       "      <th>user_id</th>\n",
       "      <th>distance</th>\n",
       "      <th>duration</th>\n",
       "      <th>date</th>\n",
       "      <th>month</th>\n",
       "    </tr>\n",
       "  </thead>\n",
       "  <tbody>\n",
       "    <tr>\n",
       "      <th>0</th>\n",
       "      <td>1</td>\n",
       "      <td>4409.919140</td>\n",
       "      <td>25.599769</td>\n",
       "      <td>2021-01-01</td>\n",
       "      <td>1</td>\n",
       "    </tr>\n",
       "    <tr>\n",
       "      <th>1</th>\n",
       "      <td>1</td>\n",
       "      <td>2617.592153</td>\n",
       "      <td>15.816871</td>\n",
       "      <td>2021-01-18</td>\n",
       "      <td>1</td>\n",
       "    </tr>\n",
       "    <tr>\n",
       "      <th>2</th>\n",
       "      <td>1</td>\n",
       "      <td>754.159807</td>\n",
       "      <td>6.232113</td>\n",
       "      <td>2021-04-20</td>\n",
       "      <td>4</td>\n",
       "    </tr>\n",
       "    <tr>\n",
       "      <th>3</th>\n",
       "      <td>1</td>\n",
       "      <td>2694.783254</td>\n",
       "      <td>18.511000</td>\n",
       "      <td>2021-08-11</td>\n",
       "      <td>8</td>\n",
       "    </tr>\n",
       "    <tr>\n",
       "      <th>4</th>\n",
       "      <td>1</td>\n",
       "      <td>4028.687306</td>\n",
       "      <td>26.265803</td>\n",
       "      <td>2021-08-28</td>\n",
       "      <td>8</td>\n",
       "    </tr>\n",
       "    <tr>\n",
       "      <th>...</th>\n",
       "      <td>...</td>\n",
       "      <td>...</td>\n",
       "      <td>...</td>\n",
       "      <td>...</td>\n",
       "      <td>...</td>\n",
       "    </tr>\n",
       "    <tr>\n",
       "      <th>18063</th>\n",
       "      <td>1534</td>\n",
       "      <td>3781.098080</td>\n",
       "      <td>19.822962</td>\n",
       "      <td>2021-11-04</td>\n",
       "      <td>11</td>\n",
       "    </tr>\n",
       "    <tr>\n",
       "      <th>18064</th>\n",
       "      <td>1534</td>\n",
       "      <td>2840.423057</td>\n",
       "      <td>21.409799</td>\n",
       "      <td>2021-11-16</td>\n",
       "      <td>11</td>\n",
       "    </tr>\n",
       "    <tr>\n",
       "      <th>18065</th>\n",
       "      <td>1534</td>\n",
       "      <td>3826.185507</td>\n",
       "      <td>18.435051</td>\n",
       "      <td>2021-11-18</td>\n",
       "      <td>11</td>\n",
       "    </tr>\n",
       "    <tr>\n",
       "      <th>18066</th>\n",
       "      <td>1534</td>\n",
       "      <td>2902.308661</td>\n",
       "      <td>16.674362</td>\n",
       "      <td>2021-11-27</td>\n",
       "      <td>11</td>\n",
       "    </tr>\n",
       "    <tr>\n",
       "      <th>18067</th>\n",
       "      <td>1534</td>\n",
       "      <td>2371.711192</td>\n",
       "      <td>15.893917</td>\n",
       "      <td>2021-12-29</td>\n",
       "      <td>12</td>\n",
       "    </tr>\n",
       "  </tbody>\n",
       "</table>\n",
       "<p>18068 rows × 5 columns</p>\n",
       "</div>"
      ],
      "text/plain": [
       "       user_id     distance   duration       date  month\n",
       "0            1  4409.919140  25.599769 2021-01-01      1\n",
       "1            1  2617.592153  15.816871 2021-01-18      1\n",
       "2            1   754.159807   6.232113 2021-04-20      4\n",
       "3            1  2694.783254  18.511000 2021-08-11      8\n",
       "4            1  4028.687306  26.265803 2021-08-28      8\n",
       "...        ...          ...        ...        ...    ...\n",
       "18063     1534  3781.098080  19.822962 2021-11-04     11\n",
       "18064     1534  2840.423057  21.409799 2021-11-16     11\n",
       "18065     1534  3826.185507  18.435051 2021-11-18     11\n",
       "18066     1534  2902.308661  16.674362 2021-11-27     11\n",
       "18067     1534  2371.711192  15.893917 2021-12-29     12\n",
       "\n",
       "[18068 rows x 5 columns]"
      ]
     },
     "metadata": {},
     "output_type": "display_data"
    },
    {
     "data": {
      "text/html": [
       "<div>\n",
       "<style scoped>\n",
       "    .dataframe tbody tr th:only-of-type {\n",
       "        vertical-align: middle;\n",
       "    }\n",
       "\n",
       "    .dataframe tbody tr th {\n",
       "        vertical-align: top;\n",
       "    }\n",
       "\n",
       "    .dataframe thead th {\n",
       "        text-align: right;\n",
       "    }\n",
       "</style>\n",
       "<table border=\"1\" class=\"dataframe\">\n",
       "  <thead>\n",
       "    <tr style=\"text-align: right;\">\n",
       "      <th></th>\n",
       "      <th>user_id</th>\n",
       "      <th>name</th>\n",
       "      <th>age</th>\n",
       "      <th>city</th>\n",
       "      <th>subscription_type</th>\n",
       "    </tr>\n",
       "  </thead>\n",
       "  <tbody>\n",
       "    <tr>\n",
       "      <th>0</th>\n",
       "      <td>1</td>\n",
       "      <td>Кира</td>\n",
       "      <td>22</td>\n",
       "      <td>Тюмень</td>\n",
       "      <td>ultra</td>\n",
       "    </tr>\n",
       "    <tr>\n",
       "      <th>1</th>\n",
       "      <td>2</td>\n",
       "      <td>Станислав</td>\n",
       "      <td>31</td>\n",
       "      <td>Омск</td>\n",
       "      <td>ultra</td>\n",
       "    </tr>\n",
       "    <tr>\n",
       "      <th>2</th>\n",
       "      <td>3</td>\n",
       "      <td>Алексей</td>\n",
       "      <td>20</td>\n",
       "      <td>Москва</td>\n",
       "      <td>ultra</td>\n",
       "    </tr>\n",
       "    <tr>\n",
       "      <th>3</th>\n",
       "      <td>4</td>\n",
       "      <td>Константин</td>\n",
       "      <td>26</td>\n",
       "      <td>Ростов-на-Дону</td>\n",
       "      <td>ultra</td>\n",
       "    </tr>\n",
       "    <tr>\n",
       "      <th>4</th>\n",
       "      <td>5</td>\n",
       "      <td>Адель</td>\n",
       "      <td>28</td>\n",
       "      <td>Омск</td>\n",
       "      <td>ultra</td>\n",
       "    </tr>\n",
       "    <tr>\n",
       "      <th>...</th>\n",
       "      <td>...</td>\n",
       "      <td>...</td>\n",
       "      <td>...</td>\n",
       "      <td>...</td>\n",
       "      <td>...</td>\n",
       "    </tr>\n",
       "    <tr>\n",
       "      <th>1529</th>\n",
       "      <td>1530</td>\n",
       "      <td>Ростислав</td>\n",
       "      <td>29</td>\n",
       "      <td>Сочи</td>\n",
       "      <td>free</td>\n",
       "    </tr>\n",
       "    <tr>\n",
       "      <th>1530</th>\n",
       "      <td>1531</td>\n",
       "      <td>Никита</td>\n",
       "      <td>25</td>\n",
       "      <td>Пятигорск</td>\n",
       "      <td>free</td>\n",
       "    </tr>\n",
       "    <tr>\n",
       "      <th>1531</th>\n",
       "      <td>1532</td>\n",
       "      <td>Алексей</td>\n",
       "      <td>26</td>\n",
       "      <td>Тюмень</td>\n",
       "      <td>free</td>\n",
       "    </tr>\n",
       "    <tr>\n",
       "      <th>1532</th>\n",
       "      <td>1533</td>\n",
       "      <td>Степан</td>\n",
       "      <td>22</td>\n",
       "      <td>Краснодар</td>\n",
       "      <td>free</td>\n",
       "    </tr>\n",
       "    <tr>\n",
       "      <th>1533</th>\n",
       "      <td>1534</td>\n",
       "      <td>Альберт</td>\n",
       "      <td>25</td>\n",
       "      <td>Краснодар</td>\n",
       "      <td>free</td>\n",
       "    </tr>\n",
       "  </tbody>\n",
       "</table>\n",
       "<p>1534 rows × 5 columns</p>\n",
       "</div>"
      ],
      "text/plain": [
       "      user_id        name  age            city subscription_type\n",
       "0           1        Кира   22          Тюмень             ultra\n",
       "1           2   Станислав   31            Омск             ultra\n",
       "2           3     Алексей   20          Москва             ultra\n",
       "3           4  Константин   26  Ростов-на-Дону             ultra\n",
       "4           5       Адель   28            Омск             ultra\n",
       "...       ...         ...  ...             ...               ...\n",
       "1529     1530   Ростислав   29            Сочи              free\n",
       "1530     1531      Никита   25       Пятигорск              free\n",
       "1531     1532     Алексей   26          Тюмень              free\n",
       "1532     1533      Степан   22       Краснодар              free\n",
       "1533     1534     Альберт   25       Краснодар              free\n",
       "\n",
       "[1534 rows x 5 columns]"
      ]
     },
     "metadata": {},
     "output_type": "display_data"
    },
    {
     "data": {
      "text/html": [
       "<div>\n",
       "<style scoped>\n",
       "    .dataframe tbody tr th:only-of-type {\n",
       "        vertical-align: middle;\n",
       "    }\n",
       "\n",
       "    .dataframe tbody tr th {\n",
       "        vertical-align: top;\n",
       "    }\n",
       "\n",
       "    .dataframe thead th {\n",
       "        text-align: right;\n",
       "    }\n",
       "</style>\n",
       "<table border=\"1\" class=\"dataframe\">\n",
       "  <thead>\n",
       "    <tr style=\"text-align: right;\">\n",
       "      <th></th>\n",
       "      <th>user_id</th>\n",
       "      <th>distance</th>\n",
       "      <th>duration</th>\n",
       "      <th>date</th>\n",
       "      <th>month</th>\n",
       "      <th>name</th>\n",
       "      <th>age</th>\n",
       "      <th>city</th>\n",
       "      <th>subscription_type</th>\n",
       "    </tr>\n",
       "  </thead>\n",
       "  <tbody>\n",
       "    <tr>\n",
       "      <th>0</th>\n",
       "      <td>1</td>\n",
       "      <td>4409.919140</td>\n",
       "      <td>25.599769</td>\n",
       "      <td>2021-01-01</td>\n",
       "      <td>1</td>\n",
       "      <td>Кира</td>\n",
       "      <td>22</td>\n",
       "      <td>Тюмень</td>\n",
       "      <td>ultra</td>\n",
       "    </tr>\n",
       "    <tr>\n",
       "      <th>1</th>\n",
       "      <td>1</td>\n",
       "      <td>2617.592153</td>\n",
       "      <td>15.816871</td>\n",
       "      <td>2021-01-18</td>\n",
       "      <td>1</td>\n",
       "      <td>Кира</td>\n",
       "      <td>22</td>\n",
       "      <td>Тюмень</td>\n",
       "      <td>ultra</td>\n",
       "    </tr>\n",
       "    <tr>\n",
       "      <th>2</th>\n",
       "      <td>1</td>\n",
       "      <td>754.159807</td>\n",
       "      <td>6.232113</td>\n",
       "      <td>2021-04-20</td>\n",
       "      <td>4</td>\n",
       "      <td>Кира</td>\n",
       "      <td>22</td>\n",
       "      <td>Тюмень</td>\n",
       "      <td>ultra</td>\n",
       "    </tr>\n",
       "    <tr>\n",
       "      <th>3</th>\n",
       "      <td>1</td>\n",
       "      <td>2694.783254</td>\n",
       "      <td>18.511000</td>\n",
       "      <td>2021-08-11</td>\n",
       "      <td>8</td>\n",
       "      <td>Кира</td>\n",
       "      <td>22</td>\n",
       "      <td>Тюмень</td>\n",
       "      <td>ultra</td>\n",
       "    </tr>\n",
       "    <tr>\n",
       "      <th>4</th>\n",
       "      <td>1</td>\n",
       "      <td>4028.687306</td>\n",
       "      <td>26.265803</td>\n",
       "      <td>2021-08-28</td>\n",
       "      <td>8</td>\n",
       "      <td>Кира</td>\n",
       "      <td>22</td>\n",
       "      <td>Тюмень</td>\n",
       "      <td>ultra</td>\n",
       "    </tr>\n",
       "    <tr>\n",
       "      <th>...</th>\n",
       "      <td>...</td>\n",
       "      <td>...</td>\n",
       "      <td>...</td>\n",
       "      <td>...</td>\n",
       "      <td>...</td>\n",
       "      <td>...</td>\n",
       "      <td>...</td>\n",
       "      <td>...</td>\n",
       "      <td>...</td>\n",
       "    </tr>\n",
       "    <tr>\n",
       "      <th>18063</th>\n",
       "      <td>1534</td>\n",
       "      <td>3781.098080</td>\n",
       "      <td>19.822962</td>\n",
       "      <td>2021-11-04</td>\n",
       "      <td>11</td>\n",
       "      <td>Альберт</td>\n",
       "      <td>25</td>\n",
       "      <td>Краснодар</td>\n",
       "      <td>free</td>\n",
       "    </tr>\n",
       "    <tr>\n",
       "      <th>18064</th>\n",
       "      <td>1534</td>\n",
       "      <td>2840.423057</td>\n",
       "      <td>21.409799</td>\n",
       "      <td>2021-11-16</td>\n",
       "      <td>11</td>\n",
       "      <td>Альберт</td>\n",
       "      <td>25</td>\n",
       "      <td>Краснодар</td>\n",
       "      <td>free</td>\n",
       "    </tr>\n",
       "    <tr>\n",
       "      <th>18065</th>\n",
       "      <td>1534</td>\n",
       "      <td>3826.185507</td>\n",
       "      <td>18.435051</td>\n",
       "      <td>2021-11-18</td>\n",
       "      <td>11</td>\n",
       "      <td>Альберт</td>\n",
       "      <td>25</td>\n",
       "      <td>Краснодар</td>\n",
       "      <td>free</td>\n",
       "    </tr>\n",
       "    <tr>\n",
       "      <th>18066</th>\n",
       "      <td>1534</td>\n",
       "      <td>2902.308661</td>\n",
       "      <td>16.674362</td>\n",
       "      <td>2021-11-27</td>\n",
       "      <td>11</td>\n",
       "      <td>Альберт</td>\n",
       "      <td>25</td>\n",
       "      <td>Краснодар</td>\n",
       "      <td>free</td>\n",
       "    </tr>\n",
       "    <tr>\n",
       "      <th>18067</th>\n",
       "      <td>1534</td>\n",
       "      <td>2371.711192</td>\n",
       "      <td>15.893917</td>\n",
       "      <td>2021-12-29</td>\n",
       "      <td>12</td>\n",
       "      <td>Альберт</td>\n",
       "      <td>25</td>\n",
       "      <td>Краснодар</td>\n",
       "      <td>free</td>\n",
       "    </tr>\n",
       "  </tbody>\n",
       "</table>\n",
       "<p>18068 rows × 9 columns</p>\n",
       "</div>"
      ],
      "text/plain": [
       "       user_id     distance   duration       date  month     name  age  \\\n",
       "0            1  4409.919140  25.599769 2021-01-01      1     Кира   22   \n",
       "1            1  2617.592153  15.816871 2021-01-18      1     Кира   22   \n",
       "2            1   754.159807   6.232113 2021-04-20      4     Кира   22   \n",
       "3            1  2694.783254  18.511000 2021-08-11      8     Кира   22   \n",
       "4            1  4028.687306  26.265803 2021-08-28      8     Кира   22   \n",
       "...        ...          ...        ...        ...    ...      ...  ...   \n",
       "18063     1534  3781.098080  19.822962 2021-11-04     11  Альберт   25   \n",
       "18064     1534  2840.423057  21.409799 2021-11-16     11  Альберт   25   \n",
       "18065     1534  3826.185507  18.435051 2021-11-18     11  Альберт   25   \n",
       "18066     1534  2902.308661  16.674362 2021-11-27     11  Альберт   25   \n",
       "18067     1534  2371.711192  15.893917 2021-12-29     12  Альберт   25   \n",
       "\n",
       "            city subscription_type  \n",
       "0         Тюмень             ultra  \n",
       "1         Тюмень             ultra  \n",
       "2         Тюмень             ultra  \n",
       "3         Тюмень             ultra  \n",
       "4         Тюмень             ultra  \n",
       "...          ...               ...  \n",
       "18063  Краснодар              free  \n",
       "18064  Краснодар              free  \n",
       "18065  Краснодар              free  \n",
       "18066  Краснодар              free  \n",
       "18067  Краснодар              free  \n",
       "\n",
       "[18068 rows x 9 columns]"
      ]
     },
     "metadata": {},
     "output_type": "display_data"
    }
   ],
   "source": [
    "display(df_rides)\n",
    "display(df_users)\n",
    "total_df = df_rides\n",
    "total_df=total_df.merge(df_users, on='user_id')\n",
    "\n",
    "display(total_df)"
   ]
  },
  {
   "cell_type": "code",
   "execution_count": 21,
   "id": "06760024",
   "metadata": {},
   "outputs": [
    {
     "data": {
      "text/html": [
       "<div>\n",
       "<style scoped>\n",
       "    .dataframe tbody tr th:only-of-type {\n",
       "        vertical-align: middle;\n",
       "    }\n",
       "\n",
       "    .dataframe tbody tr th {\n",
       "        vertical-align: top;\n",
       "    }\n",
       "\n",
       "    .dataframe thead th {\n",
       "        text-align: right;\n",
       "    }\n",
       "</style>\n",
       "<table border=\"1\" class=\"dataframe\">\n",
       "  <thead>\n",
       "    <tr style=\"text-align: right;\">\n",
       "      <th></th>\n",
       "      <th>user_id</th>\n",
       "      <th>distance</th>\n",
       "      <th>duration</th>\n",
       "      <th>date</th>\n",
       "      <th>month</th>\n",
       "      <th>name</th>\n",
       "      <th>age</th>\n",
       "      <th>city</th>\n",
       "      <th>subscription_type</th>\n",
       "      <th>minute_price</th>\n",
       "      <th>start_ride_price</th>\n",
       "      <th>subscription_fee</th>\n",
       "    </tr>\n",
       "  </thead>\n",
       "  <tbody>\n",
       "    <tr>\n",
       "      <th>0</th>\n",
       "      <td>1</td>\n",
       "      <td>4409.919140</td>\n",
       "      <td>25.599769</td>\n",
       "      <td>2021-01-01</td>\n",
       "      <td>1</td>\n",
       "      <td>Кира</td>\n",
       "      <td>22</td>\n",
       "      <td>Тюмень</td>\n",
       "      <td>ultra</td>\n",
       "      <td>6</td>\n",
       "      <td>0</td>\n",
       "      <td>199</td>\n",
       "    </tr>\n",
       "    <tr>\n",
       "      <th>1</th>\n",
       "      <td>1</td>\n",
       "      <td>2617.592153</td>\n",
       "      <td>15.816871</td>\n",
       "      <td>2021-01-18</td>\n",
       "      <td>1</td>\n",
       "      <td>Кира</td>\n",
       "      <td>22</td>\n",
       "      <td>Тюмень</td>\n",
       "      <td>ultra</td>\n",
       "      <td>6</td>\n",
       "      <td>0</td>\n",
       "      <td>199</td>\n",
       "    </tr>\n",
       "    <tr>\n",
       "      <th>2</th>\n",
       "      <td>1</td>\n",
       "      <td>754.159807</td>\n",
       "      <td>6.232113</td>\n",
       "      <td>2021-04-20</td>\n",
       "      <td>4</td>\n",
       "      <td>Кира</td>\n",
       "      <td>22</td>\n",
       "      <td>Тюмень</td>\n",
       "      <td>ultra</td>\n",
       "      <td>6</td>\n",
       "      <td>0</td>\n",
       "      <td>199</td>\n",
       "    </tr>\n",
       "    <tr>\n",
       "      <th>3</th>\n",
       "      <td>1</td>\n",
       "      <td>2694.783254</td>\n",
       "      <td>18.511000</td>\n",
       "      <td>2021-08-11</td>\n",
       "      <td>8</td>\n",
       "      <td>Кира</td>\n",
       "      <td>22</td>\n",
       "      <td>Тюмень</td>\n",
       "      <td>ultra</td>\n",
       "      <td>6</td>\n",
       "      <td>0</td>\n",
       "      <td>199</td>\n",
       "    </tr>\n",
       "    <tr>\n",
       "      <th>4</th>\n",
       "      <td>1</td>\n",
       "      <td>4028.687306</td>\n",
       "      <td>26.265803</td>\n",
       "      <td>2021-08-28</td>\n",
       "      <td>8</td>\n",
       "      <td>Кира</td>\n",
       "      <td>22</td>\n",
       "      <td>Тюмень</td>\n",
       "      <td>ultra</td>\n",
       "      <td>6</td>\n",
       "      <td>0</td>\n",
       "      <td>199</td>\n",
       "    </tr>\n",
       "    <tr>\n",
       "      <th>...</th>\n",
       "      <td>...</td>\n",
       "      <td>...</td>\n",
       "      <td>...</td>\n",
       "      <td>...</td>\n",
       "      <td>...</td>\n",
       "      <td>...</td>\n",
       "      <td>...</td>\n",
       "      <td>...</td>\n",
       "      <td>...</td>\n",
       "      <td>...</td>\n",
       "      <td>...</td>\n",
       "      <td>...</td>\n",
       "    </tr>\n",
       "    <tr>\n",
       "      <th>18063</th>\n",
       "      <td>1534</td>\n",
       "      <td>3781.098080</td>\n",
       "      <td>19.822962</td>\n",
       "      <td>2021-11-04</td>\n",
       "      <td>11</td>\n",
       "      <td>Альберт</td>\n",
       "      <td>25</td>\n",
       "      <td>Краснодар</td>\n",
       "      <td>free</td>\n",
       "      <td>8</td>\n",
       "      <td>50</td>\n",
       "      <td>0</td>\n",
       "    </tr>\n",
       "    <tr>\n",
       "      <th>18064</th>\n",
       "      <td>1534</td>\n",
       "      <td>2840.423057</td>\n",
       "      <td>21.409799</td>\n",
       "      <td>2021-11-16</td>\n",
       "      <td>11</td>\n",
       "      <td>Альберт</td>\n",
       "      <td>25</td>\n",
       "      <td>Краснодар</td>\n",
       "      <td>free</td>\n",
       "      <td>8</td>\n",
       "      <td>50</td>\n",
       "      <td>0</td>\n",
       "    </tr>\n",
       "    <tr>\n",
       "      <th>18065</th>\n",
       "      <td>1534</td>\n",
       "      <td>3826.185507</td>\n",
       "      <td>18.435051</td>\n",
       "      <td>2021-11-18</td>\n",
       "      <td>11</td>\n",
       "      <td>Альберт</td>\n",
       "      <td>25</td>\n",
       "      <td>Краснодар</td>\n",
       "      <td>free</td>\n",
       "      <td>8</td>\n",
       "      <td>50</td>\n",
       "      <td>0</td>\n",
       "    </tr>\n",
       "    <tr>\n",
       "      <th>18066</th>\n",
       "      <td>1534</td>\n",
       "      <td>2902.308661</td>\n",
       "      <td>16.674362</td>\n",
       "      <td>2021-11-27</td>\n",
       "      <td>11</td>\n",
       "      <td>Альберт</td>\n",
       "      <td>25</td>\n",
       "      <td>Краснодар</td>\n",
       "      <td>free</td>\n",
       "      <td>8</td>\n",
       "      <td>50</td>\n",
       "      <td>0</td>\n",
       "    </tr>\n",
       "    <tr>\n",
       "      <th>18067</th>\n",
       "      <td>1534</td>\n",
       "      <td>2371.711192</td>\n",
       "      <td>15.893917</td>\n",
       "      <td>2021-12-29</td>\n",
       "      <td>12</td>\n",
       "      <td>Альберт</td>\n",
       "      <td>25</td>\n",
       "      <td>Краснодар</td>\n",
       "      <td>free</td>\n",
       "      <td>8</td>\n",
       "      <td>50</td>\n",
       "      <td>0</td>\n",
       "    </tr>\n",
       "  </tbody>\n",
       "</table>\n",
       "<p>18068 rows × 12 columns</p>\n",
       "</div>"
      ],
      "text/plain": [
       "       user_id     distance   duration       date  month     name  age  \\\n",
       "0            1  4409.919140  25.599769 2021-01-01      1     Кира   22   \n",
       "1            1  2617.592153  15.816871 2021-01-18      1     Кира   22   \n",
       "2            1   754.159807   6.232113 2021-04-20      4     Кира   22   \n",
       "3            1  2694.783254  18.511000 2021-08-11      8     Кира   22   \n",
       "4            1  4028.687306  26.265803 2021-08-28      8     Кира   22   \n",
       "...        ...          ...        ...        ...    ...      ...  ...   \n",
       "18063     1534  3781.098080  19.822962 2021-11-04     11  Альберт   25   \n",
       "18064     1534  2840.423057  21.409799 2021-11-16     11  Альберт   25   \n",
       "18065     1534  3826.185507  18.435051 2021-11-18     11  Альберт   25   \n",
       "18066     1534  2902.308661  16.674362 2021-11-27     11  Альберт   25   \n",
       "18067     1534  2371.711192  15.893917 2021-12-29     12  Альберт   25   \n",
       "\n",
       "            city subscription_type  minute_price  start_ride_price  \\\n",
       "0         Тюмень             ultra             6                 0   \n",
       "1         Тюмень             ultra             6                 0   \n",
       "2         Тюмень             ultra             6                 0   \n",
       "3         Тюмень             ultra             6                 0   \n",
       "4         Тюмень             ultra             6                 0   \n",
       "...          ...               ...           ...               ...   \n",
       "18063  Краснодар              free             8                50   \n",
       "18064  Краснодар              free             8                50   \n",
       "18065  Краснодар              free             8                50   \n",
       "18066  Краснодар              free             8                50   \n",
       "18067  Краснодар              free             8                50   \n",
       "\n",
       "       subscription_fee  \n",
       "0                   199  \n",
       "1                   199  \n",
       "2                   199  \n",
       "3                   199  \n",
       "4                   199  \n",
       "...                 ...  \n",
       "18063                 0  \n",
       "18064                 0  \n",
       "18065                 0  \n",
       "18066                 0  \n",
       "18067                 0  \n",
       "\n",
       "[18068 rows x 12 columns]"
      ]
     },
     "metadata": {},
     "output_type": "display_data"
    }
   ],
   "source": [
    "total_df=total_df.merge(df_subs, on='subscription_type')\n",
    "display(total_df)"
   ]
  },
  {
   "cell_type": "markdown",
   "id": "bc86f38b",
   "metadata": {},
   "source": [
    "**Проверим есть ли пустые значение в сведенной таблице.**"
   ]
  },
  {
   "cell_type": "code",
   "execution_count": 22,
   "id": "d3dff060",
   "metadata": {},
   "outputs": [
    {
     "data": {
      "text/plain": [
       "user_id              0\n",
       "distance             0\n",
       "duration             0\n",
       "date                 0\n",
       "month                0\n",
       "name                 0\n",
       "age                  0\n",
       "city                 0\n",
       "subscription_type    0\n",
       "minute_price         0\n",
       "start_ride_price     0\n",
       "subscription_fee     0\n",
       "dtype: int64"
      ]
     },
     "metadata": {},
     "output_type": "display_data"
    }
   ],
   "source": [
    "display(total_df.isna().sum())"
   ]
  },
  {
   "cell_type": "code",
   "execution_count": 23,
   "id": "38fb6dc0",
   "metadata": {},
   "outputs": [
    {
     "name": "stdout",
     "output_type": "stream",
     "text": [
      "<class 'pandas.core.frame.DataFrame'>\n",
      "Int64Index: 18068 entries, 0 to 18067\n",
      "Data columns (total 12 columns):\n",
      " #   Column             Non-Null Count  Dtype         \n",
      "---  ------             --------------  -----         \n",
      " 0   user_id            18068 non-null  int64         \n",
      " 1   distance           18068 non-null  float64       \n",
      " 2   duration           18068 non-null  float64       \n",
      " 3   date               18068 non-null  datetime64[ns]\n",
      " 4   month              18068 non-null  int64         \n",
      " 5   name               18068 non-null  object        \n",
      " 6   age                18068 non-null  int64         \n",
      " 7   city               18068 non-null  object        \n",
      " 8   subscription_type  18068 non-null  object        \n",
      " 9   minute_price       18068 non-null  int64         \n",
      " 10  start_ride_price   18068 non-null  int64         \n",
      " 11  subscription_fee   18068 non-null  int64         \n",
      "dtypes: datetime64[ns](1), float64(2), int64(6), object(3)\n",
      "memory usage: 1.8+ MB\n"
     ]
    },
    {
     "data": {
      "text/html": [
       "<div>\n",
       "<style scoped>\n",
       "    .dataframe tbody tr th:only-of-type {\n",
       "        vertical-align: middle;\n",
       "    }\n",
       "\n",
       "    .dataframe tbody tr th {\n",
       "        vertical-align: top;\n",
       "    }\n",
       "\n",
       "    .dataframe thead th {\n",
       "        text-align: right;\n",
       "    }\n",
       "</style>\n",
       "<table border=\"1\" class=\"dataframe\">\n",
       "  <thead>\n",
       "    <tr style=\"text-align: right;\">\n",
       "      <th></th>\n",
       "      <th>user_id</th>\n",
       "      <th>distance</th>\n",
       "      <th>duration</th>\n",
       "      <th>month</th>\n",
       "      <th>age</th>\n",
       "      <th>minute_price</th>\n",
       "      <th>start_ride_price</th>\n",
       "      <th>subscription_fee</th>\n",
       "    </tr>\n",
       "  </thead>\n",
       "  <tbody>\n",
       "    <tr>\n",
       "      <th>count</th>\n",
       "      <td>18068.000000</td>\n",
       "      <td>18068.000000</td>\n",
       "      <td>18068.000000</td>\n",
       "      <td>18068.000000</td>\n",
       "      <td>18068.000000</td>\n",
       "      <td>18068.000000</td>\n",
       "      <td>18068.000000</td>\n",
       "      <td>18068.000000</td>\n",
       "    </tr>\n",
       "    <tr>\n",
       "      <th>mean</th>\n",
       "      <td>842.869936</td>\n",
       "      <td>3070.659976</td>\n",
       "      <td>17.805011</td>\n",
       "      <td>6.486772</td>\n",
       "      <td>24.893071</td>\n",
       "      <td>7.280496</td>\n",
       "      <td>32.012398</td>\n",
       "      <td>71.590658</td>\n",
       "    </tr>\n",
       "    <tr>\n",
       "      <th>std</th>\n",
       "      <td>434.734317</td>\n",
       "      <td>1116.831209</td>\n",
       "      <td>6.091051</td>\n",
       "      <td>3.437410</td>\n",
       "      <td>4.582216</td>\n",
       "      <td>0.959882</td>\n",
       "      <td>23.997045</td>\n",
       "      <td>95.508238</td>\n",
       "    </tr>\n",
       "    <tr>\n",
       "      <th>min</th>\n",
       "      <td>1.000000</td>\n",
       "      <td>0.855683</td>\n",
       "      <td>0.500000</td>\n",
       "      <td>1.000000</td>\n",
       "      <td>12.000000</td>\n",
       "      <td>6.000000</td>\n",
       "      <td>0.000000</td>\n",
       "      <td>0.000000</td>\n",
       "    </tr>\n",
       "    <tr>\n",
       "      <th>25%</th>\n",
       "      <td>487.000000</td>\n",
       "      <td>2543.226360</td>\n",
       "      <td>13.597563</td>\n",
       "      <td>4.000000</td>\n",
       "      <td>22.000000</td>\n",
       "      <td>6.000000</td>\n",
       "      <td>0.000000</td>\n",
       "      <td>0.000000</td>\n",
       "    </tr>\n",
       "    <tr>\n",
       "      <th>50%</th>\n",
       "      <td>889.000000</td>\n",
       "      <td>3133.609994</td>\n",
       "      <td>17.678395</td>\n",
       "      <td>6.000000</td>\n",
       "      <td>25.000000</td>\n",
       "      <td>8.000000</td>\n",
       "      <td>50.000000</td>\n",
       "      <td>0.000000</td>\n",
       "    </tr>\n",
       "    <tr>\n",
       "      <th>75%</th>\n",
       "      <td>1213.250000</td>\n",
       "      <td>3776.222735</td>\n",
       "      <td>21.724800</td>\n",
       "      <td>9.000000</td>\n",
       "      <td>28.000000</td>\n",
       "      <td>8.000000</td>\n",
       "      <td>50.000000</td>\n",
       "      <td>199.000000</td>\n",
       "    </tr>\n",
       "    <tr>\n",
       "      <th>max</th>\n",
       "      <td>1534.000000</td>\n",
       "      <td>7211.007745</td>\n",
       "      <td>40.823963</td>\n",
       "      <td>12.000000</td>\n",
       "      <td>43.000000</td>\n",
       "      <td>8.000000</td>\n",
       "      <td>50.000000</td>\n",
       "      <td>199.000000</td>\n",
       "    </tr>\n",
       "  </tbody>\n",
       "</table>\n",
       "</div>"
      ],
      "text/plain": [
       "            user_id      distance      duration         month           age  \\\n",
       "count  18068.000000  18068.000000  18068.000000  18068.000000  18068.000000   \n",
       "mean     842.869936   3070.659976     17.805011      6.486772     24.893071   \n",
       "std      434.734317   1116.831209      6.091051      3.437410      4.582216   \n",
       "min        1.000000      0.855683      0.500000      1.000000     12.000000   \n",
       "25%      487.000000   2543.226360     13.597563      4.000000     22.000000   \n",
       "50%      889.000000   3133.609994     17.678395      6.000000     25.000000   \n",
       "75%     1213.250000   3776.222735     21.724800      9.000000     28.000000   \n",
       "max     1534.000000   7211.007745     40.823963     12.000000     43.000000   \n",
       "\n",
       "       minute_price  start_ride_price  subscription_fee  \n",
       "count  18068.000000      18068.000000      18068.000000  \n",
       "mean       7.280496         32.012398         71.590658  \n",
       "std        0.959882         23.997045         95.508238  \n",
       "min        6.000000          0.000000          0.000000  \n",
       "25%        6.000000          0.000000          0.000000  \n",
       "50%        8.000000         50.000000          0.000000  \n",
       "75%        8.000000         50.000000        199.000000  \n",
       "max        8.000000         50.000000        199.000000  "
      ]
     },
     "execution_count": 23,
     "metadata": {},
     "output_type": "execute_result"
    }
   ],
   "source": [
    "total_df.info()\n",
    "total_df.describe()"
   ]
  },
  {
   "cell_type": "markdown",
   "id": "db81b0d8",
   "metadata": {},
   "source": [
    "**Пустых значений нет, все данные в порядке.**"
   ]
  },
  {
   "cell_type": "markdown",
   "id": "6c0a86b9",
   "metadata": {},
   "source": [
    "**4.2 Создадим ещё два датафрейма из 'total_df':**\n",
    " - c данными о пользователях без подписки 'total_df_free';\n",
    " - с данными о пользователях с подпиской 'total_df_ultra'."
   ]
  },
  {
   "cell_type": "code",
   "execution_count": 24,
   "id": "8ced6272",
   "metadata": {},
   "outputs": [
    {
     "data": {
      "text/html": [
       "<div>\n",
       "<style scoped>\n",
       "    .dataframe tbody tr th:only-of-type {\n",
       "        vertical-align: middle;\n",
       "    }\n",
       "\n",
       "    .dataframe tbody tr th {\n",
       "        vertical-align: top;\n",
       "    }\n",
       "\n",
       "    .dataframe thead tr th {\n",
       "        text-align: left;\n",
       "    }\n",
       "\n",
       "    .dataframe thead tr:last-of-type th {\n",
       "        text-align: right;\n",
       "    }\n",
       "</style>\n",
       "<table border=\"1\" class=\"dataframe\">\n",
       "  <thead>\n",
       "    <tr>\n",
       "      <th></th>\n",
       "      <th>subscription_type</th>\n",
       "    </tr>\n",
       "    <tr>\n",
       "      <th></th>\n",
       "      <th>count</th>\n",
       "    </tr>\n",
       "    <tr>\n",
       "      <th>subscription_type</th>\n",
       "      <th></th>\n",
       "    </tr>\n",
       "  </thead>\n",
       "  <tbody>\n",
       "    <tr>\n",
       "      <th>free</th>\n",
       "      <td>11568</td>\n",
       "    </tr>\n",
       "    <tr>\n",
       "      <th>ultra</th>\n",
       "      <td>6500</td>\n",
       "    </tr>\n",
       "  </tbody>\n",
       "</table>\n",
       "</div>"
      ],
      "text/plain": [
       "                  subscription_type\n",
       "                              count\n",
       "subscription_type                  \n",
       "free                          11568\n",
       "ultra                          6500"
      ]
     },
     "metadata": {},
     "output_type": "display_data"
    },
    {
     "data": {
      "text/plain": [
       "array(['free'], dtype=object)"
      ]
     },
     "metadata": {},
     "output_type": "display_data"
    },
    {
     "data": {
      "text/plain": [
       "array(['ultra'], dtype=object)"
      ]
     },
     "metadata": {},
     "output_type": "display_data"
    }
   ],
   "source": [
    "display(total_df.groupby('subscription_type').agg({'subscription_type': ['count']}))\n",
    "\n",
    "total_df_free = total_df[total_df['subscription_type'] == 'free']\n",
    "display(total_df_free['subscription_type'].unique())\n",
    "\n",
    "total_df_ultra = total_df[total_df['subscription_type'] == 'ultra']\n",
    "display(total_df_ultra['subscription_type'].unique())\n"
   ]
  },
  {
   "cell_type": "markdown",
   "id": "25431565",
   "metadata": {},
   "source": [
    "**4.3 Визуализируем информацию о расстоянии и времени поездок для пользователей обеих категорий.**"
   ]
  },
  {
   "cell_type": "code",
   "execution_count": 25,
   "id": "ff81b1d7",
   "metadata": {},
   "outputs": [
    {
     "data": {
      "text/plain": [
       "<AxesSubplot:ylabel='Frequency'>"
      ]
     },
     "execution_count": 25,
     "metadata": {},
     "output_type": "execute_result"
    },
    {
     "data": {
      "image/png": "[encoded data removed]",
      "text/plain": [
       "<Figure size 432x360 with 1 Axes>"
      ]
     },
     "metadata": {
      "needs_background": "light"
     },
     "output_type": "display_data"
    }
   ],
   "source": [
    "total_df.plot(y='distance', kind='hist', bins=100, grid=True,  ylim=(0,700), xlim=(0, 7500), figsize=(6, 5))"
   ]
  },
  {
   "cell_type": "code",
   "execution_count": 26,
   "id": "615ef8a8",
   "metadata": {},
   "outputs": [
    {
     "data": {
      "text/html": [
       "<div>\n",
       "<style scoped>\n",
       "    .dataframe tbody tr th:only-of-type {\n",
       "        vertical-align: middle;\n",
       "    }\n",
       "\n",
       "    .dataframe tbody tr th {\n",
       "        vertical-align: top;\n",
       "    }\n",
       "\n",
       "    .dataframe thead tr th {\n",
       "        text-align: left;\n",
       "    }\n",
       "\n",
       "    .dataframe thead tr:last-of-type th {\n",
       "        text-align: right;\n",
       "    }\n",
       "</style>\n",
       "<table border=\"1\" class=\"dataframe\">\n",
       "  <thead>\n",
       "    <tr>\n",
       "      <th></th>\n",
       "      <th colspan=\"4\" halign=\"left\">distance</th>\n",
       "    </tr>\n",
       "    <tr>\n",
       "      <th></th>\n",
       "      <th>min</th>\n",
       "      <th>max</th>\n",
       "      <th>mean</th>\n",
       "      <th>median</th>\n",
       "    </tr>\n",
       "    <tr>\n",
       "      <th>subscription_type</th>\n",
       "      <th></th>\n",
       "      <th></th>\n",
       "      <th></th>\n",
       "      <th></th>\n",
       "    </tr>\n",
       "  </thead>\n",
       "  <tbody>\n",
       "    <tr>\n",
       "      <th>free</th>\n",
       "      <td>0.855683</td>\n",
       "      <td>7211.007745</td>\n",
       "      <td>3045.495282</td>\n",
       "      <td>3114.648465</td>\n",
       "    </tr>\n",
       "    <tr>\n",
       "      <th>ultra</th>\n",
       "      <td>244.210438</td>\n",
       "      <td>5699.769662</td>\n",
       "      <td>3115.445388</td>\n",
       "      <td>3148.637229</td>\n",
       "    </tr>\n",
       "  </tbody>\n",
       "</table>\n",
       "</div>"
      ],
      "text/plain": [
       "                     distance                                       \n",
       "                          min          max         mean       median\n",
       "subscription_type                                                   \n",
       "free                 0.855683  7211.007745  3045.495282  3114.648465\n",
       "ultra              244.210438  5699.769662  3115.445388  3148.637229"
      ]
     },
     "metadata": {},
     "output_type": "display_data"
    }
   ],
   "source": [
    "display(total_df.groupby('subscription_type').agg({'distance': ['min', 'max', 'mean', 'median']}))"
   ]
  },
  {
   "cell_type": "code",
   "execution_count": 27,
   "id": "d8ace3b6",
   "metadata": {},
   "outputs": [
    {
     "data": {
      "image/png": "[encoded data removed]",
      "text/plain": [
       "<Figure size 720x360 with 1 Axes>"
      ]
     },
     "metadata": {
      "needs_background": "light"
     },
     "output_type": "display_data"
    }
   ],
   "source": [
    "plt.figure(figsize=(10, 5))\n",
    "plt.hist(total_df_free['distance'], bins = 100, alpha = 0.5, label = 'free')\n",
    "plt.hist(total_df_ultra['distance'], bins = 100, alpha = 0.5, label = 'ultra')\n",
    "plt.xlabel('Расстояние')\n",
    "plt.ylabel('Количество пользователей')\n",
    "plt.title(\"Количество пользователей в зависимости от расстояния\")\n",
    "plt.legend(loc='upper left')\n",
    "plt.show()"
   ]
  },
  {
   "cell_type": "code",
   "execution_count": 28,
   "id": "bd0c5c9d",
   "metadata": {},
   "outputs": [
    {
     "data": {
      "image/png": "[encoded data removed]",
      "text/plain": [
       "<Figure size 720x360 with 1 Axes>"
      ]
     },
     "metadata": {
      "needs_background": "light"
     },
     "output_type": "display_data"
    }
   ],
   "source": [
    "plt.figure(figsize=(10, 5))\n",
    "plt.hist(total_df_free['duration'], bins = 100, alpha = 0.5, label = 'free')\n",
    "plt.hist(total_df_ultra['duration'], bins = 100, alpha = 0.5, label = 'ultra')\n",
    "plt.xlabel('Время')\n",
    "plt.ylabel('Количество пользователей')\n",
    "plt.title(\"Количество пользователей в зависимости от времени\")\n",
    "plt.legend(loc='upper left')\n",
    "plt.show()"
   ]
  },
  {
   "cell_type": "code",
   "execution_count": 29,
   "id": "ba147cf6",
   "metadata": {},
   "outputs": [
    {
     "data": {
      "text/html": [
       "<div>\n",
       "<style scoped>\n",
       "    .dataframe tbody tr th:only-of-type {\n",
       "        vertical-align: middle;\n",
       "    }\n",
       "\n",
       "    .dataframe tbody tr th {\n",
       "        vertical-align: top;\n",
       "    }\n",
       "\n",
       "    .dataframe thead th {\n",
       "        text-align: right;\n",
       "    }\n",
       "</style>\n",
       "<table border=\"1\" class=\"dataframe\">\n",
       "  <thead>\n",
       "    <tr style=\"text-align: right;\">\n",
       "      <th></th>\n",
       "      <th>user_id</th>\n",
       "      <th>distance</th>\n",
       "      <th>duration</th>\n",
       "      <th>month</th>\n",
       "      <th>age</th>\n",
       "      <th>minute_price</th>\n",
       "      <th>start_ride_price</th>\n",
       "      <th>subscription_fee</th>\n",
       "    </tr>\n",
       "  </thead>\n",
       "  <tbody>\n",
       "    <tr>\n",
       "      <th>count</th>\n",
       "      <td>11568.000000</td>\n",
       "      <td>11568.000000</td>\n",
       "      <td>11568.000000</td>\n",
       "      <td>11568.000000</td>\n",
       "      <td>11568.000000</td>\n",
       "      <td>11568.0</td>\n",
       "      <td>11568.0</td>\n",
       "      <td>11568.0</td>\n",
       "    </tr>\n",
       "    <tr>\n",
       "      <th>mean</th>\n",
       "      <td>1120.527230</td>\n",
       "      <td>3045.495282</td>\n",
       "      <td>17.390909</td>\n",
       "      <td>6.522994</td>\n",
       "      <td>24.893326</td>\n",
       "      <td>8.0</td>\n",
       "      <td>50.0</td>\n",
       "      <td>0.0</td>\n",
       "    </tr>\n",
       "    <tr>\n",
       "      <th>std</th>\n",
       "      <td>241.165628</td>\n",
       "      <td>1246.173806</td>\n",
       "      <td>6.326803</td>\n",
       "      <td>3.449770</td>\n",
       "      <td>4.481100</td>\n",
       "      <td>0.0</td>\n",
       "      <td>0.0</td>\n",
       "      <td>0.0</td>\n",
       "    </tr>\n",
       "    <tr>\n",
       "      <th>min</th>\n",
       "      <td>700.000000</td>\n",
       "      <td>0.855683</td>\n",
       "      <td>0.500000</td>\n",
       "      <td>1.000000</td>\n",
       "      <td>12.000000</td>\n",
       "      <td>8.0</td>\n",
       "      <td>50.0</td>\n",
       "      <td>0.0</td>\n",
       "    </tr>\n",
       "    <tr>\n",
       "      <th>25%</th>\n",
       "      <td>915.000000</td>\n",
       "      <td>2366.562689</td>\n",
       "      <td>12.958437</td>\n",
       "      <td>4.000000</td>\n",
       "      <td>22.000000</td>\n",
       "      <td>8.0</td>\n",
       "      <td>50.0</td>\n",
       "      <td>0.0</td>\n",
       "    </tr>\n",
       "    <tr>\n",
       "      <th>50%</th>\n",
       "      <td>1123.000000</td>\n",
       "      <td>3114.648465</td>\n",
       "      <td>17.326890</td>\n",
       "      <td>7.000000</td>\n",
       "      <td>25.000000</td>\n",
       "      <td>8.0</td>\n",
       "      <td>50.0</td>\n",
       "      <td>0.0</td>\n",
       "    </tr>\n",
       "    <tr>\n",
       "      <th>75%</th>\n",
       "      <td>1328.000000</td>\n",
       "      <td>3905.697894</td>\n",
       "      <td>21.594071</td>\n",
       "      <td>9.000000</td>\n",
       "      <td>28.000000</td>\n",
       "      <td>8.0</td>\n",
       "      <td>50.0</td>\n",
       "      <td>0.0</td>\n",
       "    </tr>\n",
       "    <tr>\n",
       "      <th>max</th>\n",
       "      <td>1534.000000</td>\n",
       "      <td>7211.007745</td>\n",
       "      <td>34.948498</td>\n",
       "      <td>12.000000</td>\n",
       "      <td>43.000000</td>\n",
       "      <td>8.0</td>\n",
       "      <td>50.0</td>\n",
       "      <td>0.0</td>\n",
       "    </tr>\n",
       "  </tbody>\n",
       "</table>\n",
       "</div>"
      ],
      "text/plain": [
       "            user_id      distance      duration         month           age  \\\n",
       "count  11568.000000  11568.000000  11568.000000  11568.000000  11568.000000   \n",
       "mean    1120.527230   3045.495282     17.390909      6.522994     24.893326   \n",
       "std      241.165628   1246.173806      6.326803      3.449770      4.481100   \n",
       "min      700.000000      0.855683      0.500000      1.000000     12.000000   \n",
       "25%      915.000000   2366.562689     12.958437      4.000000     22.000000   \n",
       "50%     1123.000000   3114.648465     17.326890      7.000000     25.000000   \n",
       "75%     1328.000000   3905.697894     21.594071      9.000000     28.000000   \n",
       "max     1534.000000   7211.007745     34.948498     12.000000     43.000000   \n",
       "\n",
       "       minute_price  start_ride_price  subscription_fee  \n",
       "count       11568.0           11568.0           11568.0  \n",
       "mean            8.0              50.0               0.0  \n",
       "std             0.0               0.0               0.0  \n",
       "min             8.0              50.0               0.0  \n",
       "25%             8.0              50.0               0.0  \n",
       "50%             8.0              50.0               0.0  \n",
       "75%             8.0              50.0               0.0  \n",
       "max             8.0              50.0               0.0  "
      ]
     },
     "metadata": {},
     "output_type": "display_data"
    },
    {
     "data": {
      "text/html": [
       "<div>\n",
       "<style scoped>\n",
       "    .dataframe tbody tr th:only-of-type {\n",
       "        vertical-align: middle;\n",
       "    }\n",
       "\n",
       "    .dataframe tbody tr th {\n",
       "        vertical-align: top;\n",
       "    }\n",
       "\n",
       "    .dataframe thead th {\n",
       "        text-align: right;\n",
       "    }\n",
       "</style>\n",
       "<table border=\"1\" class=\"dataframe\">\n",
       "  <thead>\n",
       "    <tr style=\"text-align: right;\">\n",
       "      <th></th>\n",
       "      <th>user_id</th>\n",
       "      <th>distance</th>\n",
       "      <th>duration</th>\n",
       "      <th>month</th>\n",
       "      <th>age</th>\n",
       "      <th>minute_price</th>\n",
       "      <th>start_ride_price</th>\n",
       "      <th>subscription_fee</th>\n",
       "    </tr>\n",
       "  </thead>\n",
       "  <tbody>\n",
       "    <tr>\n",
       "      <th>count</th>\n",
       "      <td>6500.000000</td>\n",
       "      <td>6500.000000</td>\n",
       "      <td>6500.000000</td>\n",
       "      <td>6500.000000</td>\n",
       "      <td>6500.000000</td>\n",
       "      <td>6500.0</td>\n",
       "      <td>6500.0</td>\n",
       "      <td>6500.0</td>\n",
       "    </tr>\n",
       "    <tr>\n",
       "      <th>mean</th>\n",
       "      <td>348.725385</td>\n",
       "      <td>3115.445388</td>\n",
       "      <td>18.541985</td>\n",
       "      <td>6.422308</td>\n",
       "      <td>24.892615</td>\n",
       "      <td>6.0</td>\n",
       "      <td>0.0</td>\n",
       "      <td>199.0</td>\n",
       "    </tr>\n",
       "    <tr>\n",
       "      <th>std</th>\n",
       "      <td>201.099339</td>\n",
       "      <td>836.895330</td>\n",
       "      <td>5.572048</td>\n",
       "      <td>3.414616</td>\n",
       "      <td>4.757208</td>\n",
       "      <td>0.0</td>\n",
       "      <td>0.0</td>\n",
       "      <td>0.0</td>\n",
       "    </tr>\n",
       "    <tr>\n",
       "      <th>min</th>\n",
       "      <td>1.000000</td>\n",
       "      <td>244.210438</td>\n",
       "      <td>3.760353</td>\n",
       "      <td>1.000000</td>\n",
       "      <td>12.000000</td>\n",
       "      <td>6.0</td>\n",
       "      <td>0.0</td>\n",
       "      <td>199.0</td>\n",
       "    </tr>\n",
       "    <tr>\n",
       "      <th>25%</th>\n",
       "      <td>175.000000</td>\n",
       "      <td>2785.444017</td>\n",
       "      <td>14.524654</td>\n",
       "      <td>4.000000</td>\n",
       "      <td>22.000000</td>\n",
       "      <td>6.0</td>\n",
       "      <td>0.0</td>\n",
       "      <td>199.0</td>\n",
       "    </tr>\n",
       "    <tr>\n",
       "      <th>50%</th>\n",
       "      <td>351.000000</td>\n",
       "      <td>3148.637229</td>\n",
       "      <td>18.178153</td>\n",
       "      <td>6.000000</td>\n",
       "      <td>25.000000</td>\n",
       "      <td>6.0</td>\n",
       "      <td>0.0</td>\n",
       "      <td>199.0</td>\n",
       "    </tr>\n",
       "    <tr>\n",
       "      <th>75%</th>\n",
       "      <td>525.000000</td>\n",
       "      <td>3560.574425</td>\n",
       "      <td>21.884129</td>\n",
       "      <td>9.000000</td>\n",
       "      <td>28.000000</td>\n",
       "      <td>6.0</td>\n",
       "      <td>0.0</td>\n",
       "      <td>199.0</td>\n",
       "    </tr>\n",
       "    <tr>\n",
       "      <th>max</th>\n",
       "      <td>699.000000</td>\n",
       "      <td>5699.769662</td>\n",
       "      <td>40.823963</td>\n",
       "      <td>12.000000</td>\n",
       "      <td>38.000000</td>\n",
       "      <td>6.0</td>\n",
       "      <td>0.0</td>\n",
       "      <td>199.0</td>\n",
       "    </tr>\n",
       "  </tbody>\n",
       "</table>\n",
       "</div>"
      ],
      "text/plain": [
       "           user_id     distance     duration        month          age  \\\n",
       "count  6500.000000  6500.000000  6500.000000  6500.000000  6500.000000   \n",
       "mean    348.725385  3115.445388    18.541985     6.422308    24.892615   \n",
       "std     201.099339   836.895330     5.572048     3.414616     4.757208   \n",
       "min       1.000000   244.210438     3.760353     1.000000    12.000000   \n",
       "25%     175.000000  2785.444017    14.524654     4.000000    22.000000   \n",
       "50%     351.000000  3148.637229    18.178153     6.000000    25.000000   \n",
       "75%     525.000000  3560.574425    21.884129     9.000000    28.000000   \n",
       "max     699.000000  5699.769662    40.823963    12.000000    38.000000   \n",
       "\n",
       "       minute_price  start_ride_price  subscription_fee  \n",
       "count        6500.0            6500.0            6500.0  \n",
       "mean            6.0               0.0             199.0  \n",
       "std             0.0               0.0               0.0  \n",
       "min             6.0               0.0             199.0  \n",
       "25%             6.0               0.0             199.0  \n",
       "50%             6.0               0.0             199.0  \n",
       "75%             6.0               0.0             199.0  \n",
       "max             6.0               0.0             199.0  "
      ]
     },
     "metadata": {},
     "output_type": "display_data"
    }
   ],
   "source": [
    "display(total_df_free.describe())\n",
    "display(total_df_ultra.describe())"
   ]
  },
  {
   "cell_type": "markdown",
   "id": "a24da2f9",
   "metadata": {},
   "source": [
    "**Из данных таблиц видно, что id пользователей с подпиской 'ultra' варьируется от 1 до 699, а id пользователей с подпиской 'free' - от 700 до 1534. Для пользователей с подпиской 'ultra' среднее и медиана для столбца с расстоянием составляет 3115 и 3149 м, для столбца с продолжительностью - 19 и 18 минут. Для пользователей с подпиской 'free' среднее и медиана для столбца с расстоянием составляет 3045 и 3115 м, для столбца с продолжительностью - 17 и 17 минут. В целом выборки похожи.**"
   ]
  },
  {
   "cell_type": "markdown",
   "id": "6ba61da6",
   "metadata": {},
   "source": [
    "**Объединение данных**\n",
    "- Объединены данные о пользователях, поездках и подписках в один датафрейм 'total_df'.\n",
    "- Созданы ещё два датафрейма из 'total_df': c данными о пользователях без подписки 'total_df_free'; с данными о пользователях с подпиской 'total_df_ultra'.\n",
    "- Из данных таблиц видно, что id пользователей с подпиской 'ultra' варьируется от 1 до 699, а id пользователей с подпиской 'free' - от 700 до 1534. Для пользователей с подпиской 'ultra' среднее и медиана для столбца с расстоянием составляет 3115 и 3149 м, для столбца с продолжительностью - 19 и 18 минут. Для пользователей с подпиской 'free' среднее и медиана для столбца с расстоянием составляет 3045 и 3115 м, для столбца с продолжительностью - 17 и 17 минут. В целом выборки похожи."
   ]
  },
  {
   "cell_type": "markdown",
   "id": "402d620f",
   "metadata": {},
   "source": [
    "#### Шаг 5. Подсчёт выручки"
   ]
  },
  {
   "cell_type": "markdown",
   "id": "1874aa07",
   "metadata": {},
   "source": [
    "**5.1 Создадим датафрейм с агрегированными данными о поездках на основе датафрейма с объединёнными данными из шага 4: найдем суммарное расстояние, количество поездок и суммарное время для каждого пользователя за каждый месяц.**"
   ]
  },
  {
   "cell_type": "code",
   "execution_count": 30,
   "id": "181cf1dc",
   "metadata": {},
   "outputs": [
    {
     "data": {
      "text/html": [
       "<div>\n",
       "<style scoped>\n",
       "    .dataframe tbody tr th:only-of-type {\n",
       "        vertical-align: middle;\n",
       "    }\n",
       "\n",
       "    .dataframe tbody tr th {\n",
       "        vertical-align: top;\n",
       "    }\n",
       "\n",
       "    .dataframe thead th {\n",
       "        text-align: right;\n",
       "    }\n",
       "</style>\n",
       "<table border=\"1\" class=\"dataframe\">\n",
       "  <thead>\n",
       "    <tr style=\"text-align: right;\">\n",
       "      <th></th>\n",
       "      <th>user_id</th>\n",
       "      <th>month</th>\n",
       "      <th>distance_sum</th>\n",
       "      <th>rides_count</th>\n",
       "      <th>duration_sum</th>\n",
       "      <th>subscription_type</th>\n",
       "      <th>minute_price</th>\n",
       "      <th>start_ride_price</th>\n",
       "      <th>subscription_fee</th>\n",
       "    </tr>\n",
       "  </thead>\n",
       "  <tbody>\n",
       "    <tr>\n",
       "      <th>0</th>\n",
       "      <td>1</td>\n",
       "      <td>1</td>\n",
       "      <td>7027.51</td>\n",
       "      <td>2</td>\n",
       "      <td>42.0</td>\n",
       "      <td>ultra</td>\n",
       "      <td>6</td>\n",
       "      <td>0</td>\n",
       "      <td>199</td>\n",
       "    </tr>\n",
       "    <tr>\n",
       "      <th>1</th>\n",
       "      <td>1</td>\n",
       "      <td>4</td>\n",
       "      <td>754.16</td>\n",
       "      <td>1</td>\n",
       "      <td>6.0</td>\n",
       "      <td>ultra</td>\n",
       "      <td>6</td>\n",
       "      <td>0</td>\n",
       "      <td>199</td>\n",
       "    </tr>\n",
       "    <tr>\n",
       "      <th>2</th>\n",
       "      <td>1</td>\n",
       "      <td>8</td>\n",
       "      <td>6723.47</td>\n",
       "      <td>2</td>\n",
       "      <td>45.0</td>\n",
       "      <td>ultra</td>\n",
       "      <td>6</td>\n",
       "      <td>0</td>\n",
       "      <td>199</td>\n",
       "    </tr>\n",
       "    <tr>\n",
       "      <th>3</th>\n",
       "      <td>1</td>\n",
       "      <td>10</td>\n",
       "      <td>5809.91</td>\n",
       "      <td>2</td>\n",
       "      <td>32.0</td>\n",
       "      <td>ultra</td>\n",
       "      <td>6</td>\n",
       "      <td>0</td>\n",
       "      <td>199</td>\n",
       "    </tr>\n",
       "    <tr>\n",
       "      <th>4</th>\n",
       "      <td>1</td>\n",
       "      <td>11</td>\n",
       "      <td>7003.50</td>\n",
       "      <td>3</td>\n",
       "      <td>53.0</td>\n",
       "      <td>ultra</td>\n",
       "      <td>6</td>\n",
       "      <td>0</td>\n",
       "      <td>199</td>\n",
       "    </tr>\n",
       "    <tr>\n",
       "      <th>...</th>\n",
       "      <td>...</td>\n",
       "      <td>...</td>\n",
       "      <td>...</td>\n",
       "      <td>...</td>\n",
       "      <td>...</td>\n",
       "      <td>...</td>\n",
       "      <td>...</td>\n",
       "      <td>...</td>\n",
       "      <td>...</td>\n",
       "    </tr>\n",
       "    <tr>\n",
       "      <th>11326</th>\n",
       "      <td>1534</td>\n",
       "      <td>6</td>\n",
       "      <td>3409.47</td>\n",
       "      <td>2</td>\n",
       "      <td>24.0</td>\n",
       "      <td>free</td>\n",
       "      <td>8</td>\n",
       "      <td>50</td>\n",
       "      <td>0</td>\n",
       "    </tr>\n",
       "    <tr>\n",
       "      <th>11327</th>\n",
       "      <td>1534</td>\n",
       "      <td>8</td>\n",
       "      <td>7622.45</td>\n",
       "      <td>2</td>\n",
       "      <td>47.0</td>\n",
       "      <td>free</td>\n",
       "      <td>8</td>\n",
       "      <td>50</td>\n",
       "      <td>0</td>\n",
       "    </tr>\n",
       "    <tr>\n",
       "      <th>11328</th>\n",
       "      <td>1534</td>\n",
       "      <td>9</td>\n",
       "      <td>4928.17</td>\n",
       "      <td>1</td>\n",
       "      <td>23.0</td>\n",
       "      <td>free</td>\n",
       "      <td>8</td>\n",
       "      <td>50</td>\n",
       "      <td>0</td>\n",
       "    </tr>\n",
       "    <tr>\n",
       "      <th>11329</th>\n",
       "      <td>1534</td>\n",
       "      <td>11</td>\n",
       "      <td>13350.02</td>\n",
       "      <td>4</td>\n",
       "      <td>76.0</td>\n",
       "      <td>free</td>\n",
       "      <td>8</td>\n",
       "      <td>50</td>\n",
       "      <td>0</td>\n",
       "    </tr>\n",
       "    <tr>\n",
       "      <th>11330</th>\n",
       "      <td>1534</td>\n",
       "      <td>12</td>\n",
       "      <td>2371.71</td>\n",
       "      <td>1</td>\n",
       "      <td>16.0</td>\n",
       "      <td>free</td>\n",
       "      <td>8</td>\n",
       "      <td>50</td>\n",
       "      <td>0</td>\n",
       "    </tr>\n",
       "  </tbody>\n",
       "</table>\n",
       "<p>11331 rows × 9 columns</p>\n",
       "</div>"
      ],
      "text/plain": [
       "       user_id  month  distance_sum  rides_count  duration_sum  \\\n",
       "0            1      1       7027.51            2          42.0   \n",
       "1            1      4        754.16            1           6.0   \n",
       "2            1      8       6723.47            2          45.0   \n",
       "3            1     10       5809.91            2          32.0   \n",
       "4            1     11       7003.50            3          53.0   \n",
       "...        ...    ...           ...          ...           ...   \n",
       "11326     1534      6       3409.47            2          24.0   \n",
       "11327     1534      8       7622.45            2          47.0   \n",
       "11328     1534      9       4928.17            1          23.0   \n",
       "11329     1534     11      13350.02            4          76.0   \n",
       "11330     1534     12       2371.71            1          16.0   \n",
       "\n",
       "      subscription_type  minute_price  start_ride_price  subscription_fee  \n",
       "0                 ultra             6                 0               199  \n",
       "1                 ultra             6                 0               199  \n",
       "2                 ultra             6                 0               199  \n",
       "3                 ultra             6                 0               199  \n",
       "4                 ultra             6                 0               199  \n",
       "...                 ...           ...               ...               ...  \n",
       "11326              free             8                50                 0  \n",
       "11327              free             8                50                 0  \n",
       "11328              free             8                50                 0  \n",
       "11329              free             8                50                 0  \n",
       "11330              free             8                50                 0  \n",
       "\n",
       "[11331 rows x 9 columns]"
      ]
     },
     "execution_count": 30,
     "metadata": {},
     "output_type": "execute_result"
    }
   ],
   "source": [
    "total_df['distance'] = total_df['distance'].round(decimals=2)\n",
    "total_df['duration'] = total_df['duration'].round(decimals=0)\n",
    "\n",
    "total_df_grouped = total_df.groupby(['user_id', 'month']) \\\n",
    ".agg({'distance': ['sum', 'count'], 'duration': 'sum', 'subscription_type': 'first', \\\n",
    "      'minute_price': 'first', 'start_ride_price': 'first', 'subscription_fee': 'first'}).reset_index(drop=False)\n",
    "\n",
    "total_df_grouped.columns = ['user_id', 'month', 'distance_sum', 'rides_count', 'duration_sum', \\\n",
    "                            'subscription_type', 'minute_price', 'start_ride_price', 'subscription_fee']\n",
    "\n",
    "total_df_grouped\n"
   ]
  },
  {
   "cell_type": "markdown",
   "id": "42592d96",
   "metadata": {},
   "source": [
    "**5.2 В этот же датафрейм добавим столбец с помесячной выручкой, которую принёс каждый пользователь — обратитесь к информации об условиях оплаты для подписчиков и тех, у кого нет подписки. Минуты при подсчёте стоимости округлим до ближайшего целого числа.**"
   ]
  },
  {
   "cell_type": "code",
   "execution_count": 31,
   "id": "6db76e2b",
   "metadata": {},
   "outputs": [
    {
     "data": {
      "text/html": [
       "<div>\n",
       "<style scoped>\n",
       "    .dataframe tbody tr th:only-of-type {\n",
       "        vertical-align: middle;\n",
       "    }\n",
       "\n",
       "    .dataframe tbody tr th {\n",
       "        vertical-align: top;\n",
       "    }\n",
       "\n",
       "    .dataframe thead th {\n",
       "        text-align: right;\n",
       "    }\n",
       "</style>\n",
       "<table border=\"1\" class=\"dataframe\">\n",
       "  <thead>\n",
       "    <tr style=\"text-align: right;\">\n",
       "      <th></th>\n",
       "      <th>user_id</th>\n",
       "      <th>month</th>\n",
       "      <th>distance_sum</th>\n",
       "      <th>rides_count</th>\n",
       "      <th>duration_sum</th>\n",
       "      <th>subscription_type</th>\n",
       "      <th>minute_price</th>\n",
       "      <th>start_ride_price</th>\n",
       "      <th>subscription_fee</th>\n",
       "      <th>revenue</th>\n",
       "    </tr>\n",
       "  </thead>\n",
       "  <tbody>\n",
       "    <tr>\n",
       "      <th>0</th>\n",
       "      <td>1</td>\n",
       "      <td>1</td>\n",
       "      <td>7027.51</td>\n",
       "      <td>2</td>\n",
       "      <td>42.0</td>\n",
       "      <td>ultra</td>\n",
       "      <td>6</td>\n",
       "      <td>0</td>\n",
       "      <td>199</td>\n",
       "      <td>451.0</td>\n",
       "    </tr>\n",
       "    <tr>\n",
       "      <th>1</th>\n",
       "      <td>1</td>\n",
       "      <td>4</td>\n",
       "      <td>754.16</td>\n",
       "      <td>1</td>\n",
       "      <td>6.0</td>\n",
       "      <td>ultra</td>\n",
       "      <td>6</td>\n",
       "      <td>0</td>\n",
       "      <td>199</td>\n",
       "      <td>235.0</td>\n",
       "    </tr>\n",
       "    <tr>\n",
       "      <th>2</th>\n",
       "      <td>1</td>\n",
       "      <td>8</td>\n",
       "      <td>6723.47</td>\n",
       "      <td>2</td>\n",
       "      <td>45.0</td>\n",
       "      <td>ultra</td>\n",
       "      <td>6</td>\n",
       "      <td>0</td>\n",
       "      <td>199</td>\n",
       "      <td>469.0</td>\n",
       "    </tr>\n",
       "    <tr>\n",
       "      <th>3</th>\n",
       "      <td>1</td>\n",
       "      <td>10</td>\n",
       "      <td>5809.91</td>\n",
       "      <td>2</td>\n",
       "      <td>32.0</td>\n",
       "      <td>ultra</td>\n",
       "      <td>6</td>\n",
       "      <td>0</td>\n",
       "      <td>199</td>\n",
       "      <td>391.0</td>\n",
       "    </tr>\n",
       "    <tr>\n",
       "      <th>4</th>\n",
       "      <td>1</td>\n",
       "      <td>11</td>\n",
       "      <td>7003.50</td>\n",
       "      <td>3</td>\n",
       "      <td>53.0</td>\n",
       "      <td>ultra</td>\n",
       "      <td>6</td>\n",
       "      <td>0</td>\n",
       "      <td>199</td>\n",
       "      <td>517.0</td>\n",
       "    </tr>\n",
       "  </tbody>\n",
       "</table>\n",
       "</div>"
      ],
      "text/plain": [
       "   user_id  month  distance_sum  rides_count  duration_sum subscription_type  \\\n",
       "0        1      1       7027.51            2          42.0             ultra   \n",
       "1        1      4        754.16            1           6.0             ultra   \n",
       "2        1      8       6723.47            2          45.0             ultra   \n",
       "3        1     10       5809.91            2          32.0             ultra   \n",
       "4        1     11       7003.50            3          53.0             ultra   \n",
       "\n",
       "   minute_price  start_ride_price  subscription_fee  revenue  \n",
       "0             6                 0               199    451.0  \n",
       "1             6                 0               199    235.0  \n",
       "2             6                 0               199    469.0  \n",
       "3             6                 0               199    391.0  \n",
       "4             6                 0               199    517.0  "
      ]
     },
     "execution_count": 31,
     "metadata": {},
     "output_type": "execute_result"
    }
   ],
   "source": [
    "total_df_grouped['revenue'] = total_df_grouped['start_ride_price']*total_df_grouped['rides_count'] \\\n",
    "+total_df_grouped['minute_price']*total_df_grouped['duration_sum']+total_df_grouped['subscription_fee']\n",
    "total_df_grouped.head()"
   ]
  },
  {
   "cell_type": "markdown",
   "id": "6d50d99b",
   "metadata": {},
   "source": [
    "**Подсчёт выручки**\n",
    "- Создан датафрейм с агрегированными данными о поездках на основе датафрейма с объединёнными данными, найдено суммарное расстояние, количество поездок и суммарное время для каждого пользователя за каждый месяц.\n",
    "- В этот же датафрейм добавлен столбец с помесячной выручкой, которую принёс каждый пользователь."
   ]
  },
  {
   "cell_type": "code",
   "execution_count": 32,
   "id": "b5171e66",
   "metadata": {},
   "outputs": [
    {
     "data": {
      "text/plain": [
       "subscription_type\n",
       "free     321.753457\n",
       "ultra    358.589676\n",
       "Name: revenue, dtype: float64"
      ]
     },
     "execution_count": 32,
     "metadata": {},
     "output_type": "execute_result"
    }
   ],
   "source": [
    "# Код ревьюера\n",
    "total_df_grouped.groupby('subscription_type')['revenue'].mean()"
   ]
  },
  {
   "cell_type": "markdown",
   "id": "41545ac0",
   "metadata": {},
   "source": [
    "#### Шаг 6. Проверка гипотез"
   ]
  },
  {
   "cell_type": "markdown",
   "id": "0e93ba78",
   "metadata": {},
   "source": [
    "**6.1  Важно понять, тратят ли пользователи с подпиской больше времени на поездки? Если да, то действительно ли пользователи с подпиской «выгоднее» для компании.** \n",
    "\n",
    " - Нулевая гипотеза: средние продолжительности поездок пользователей с подпиской и без подписки одинаковы.\n",
    "\n",
    " - Альтернативная гипотеза: средняя продолжительность поездок пользователей с подпиской больше, чем средняя продолжительность поездок пользователей без подписки."
   ]
  },
  {
   "cell_type": "code",
   "execution_count": 33,
   "id": "d3022428",
   "metadata": {},
   "outputs": [
    {
     "name": "stdout",
     "output_type": "stream",
     "text": [
      "18.54198516280583\n",
      "17.39090929866399\n"
     ]
    }
   ],
   "source": [
    "print(total_df_ultra['duration'].mean())\n",
    "print(total_df_free['duration'].mean())"
   ]
  },
  {
   "cell_type": "code",
   "execution_count": 34,
   "id": "b9020e0b",
   "metadata": {},
   "outputs": [
    {
     "name": "stdout",
     "output_type": "stream",
     "text": [
      "p-значение: 1.2804098316645618e-34\n",
      "Отвергаем нулевую гипотезу\n"
     ]
    }
   ],
   "source": [
    "alpha = 0.05\n",
    "results = st.ttest_ind(total_df_ultra['duration'], total_df_free['duration'], alternative='greater')\n",
    "\n",
    "print('p-значение:', results.pvalue)\n",
    "\n",
    "if (results.pvalue < alpha):\n",
    "    print('Отвергаем нулевую гипотезу')\n",
    "else:\n",
    "    print('Не отвергаем нулевую гипотезу') "
   ]
  },
  {
   "cell_type": "markdown",
   "id": "69101306",
   "metadata": {},
   "source": [
    "**Нулевая гипотеза о равенстве средней продолжительности поездок пользователей с подпиской и без подписки отвергнута. Принимаем альтернативную гипотезу о том, что средняя продолжительность поездок пользователей с подпиской ultra значимо больше, чем средняя продолжительность поездок пользователей с подпиской free.**"
   ]
  },
  {
   "cell_type": "markdown",
   "id": "f08e9f36",
   "metadata": {},
   "source": [
    "**6.2 Расстояние одной поездки в 3130 метров — оптимальное с точки зрения износа самоката. Можно ли сказать, что расстояние, которое проезжают пользователи с подпиской за одну поездку, не превышает 3130 метров? Проверим гипотезу**\n",
    "\n",
    " - Нулевая гипотеза: среднее расстояние одной поездки пользователей с подпиской не превышает 3130м.\n",
    "\n",
    " - Альтернативная гипотеза: среднее расстояние одной поездки пользователей с подпиской более 3130м."
   ]
  },
  {
   "cell_type": "code",
   "execution_count": 35,
   "id": "824601ad",
   "metadata": {},
   "outputs": [
    {
     "name": "stdout",
     "output_type": "stream",
     "text": [
      "3115.4453880370247\n"
     ]
    }
   ],
   "source": [
    "print(total_df_ultra['distance'].mean())"
   ]
  },
  {
   "cell_type": "code",
   "execution_count": 36,
   "id": "3c7259ed",
   "metadata": {},
   "outputs": [
    {
     "name": "stdout",
     "output_type": "stream",
     "text": [
      "p-значение: 0.9195368847849785\n",
      "Не отвергаем нулевую гипотезу\n"
     ]
    }
   ],
   "source": [
    "distance = 3130\n",
    "alpha = 0.05\n",
    "\n",
    "results = st.ttest_1samp(total_df_ultra['distance'], distance, alternative='greater')\n",
    "\n",
    "print('p-значение:', results.pvalue)\n",
    "\n",
    "if (results.pvalue < alpha):\n",
    "    print('Отвергаем нулевую гипотезу')\n",
    "else:\n",
    "    print('Не отвергаем нулевую гипотезу') "
   ]
  },
  {
   "cell_type": "markdown",
   "id": "931e81b4",
   "metadata": {},
   "source": [
    "**Нулевая гипотеза о том, что среднее расстояние одной поездки пользователей с подпиской не превышает 3130м не отвергнута.**"
   ]
  },
  {
   "cell_type": "markdown",
   "id": "017aacaf",
   "metadata": {},
   "source": [
    "**6.3. Проверим гипотезу о том, будет ли помесячная выручка от пользователей с подпиской по месяцам выше, чем выручка от пользователей без подписки.**\n",
    "\n",
    "- Нулевая гипотеза: средние помесячные выручки от пользователей с подпиской и без подписки одинаковы.\n",
    "\n",
    "- Альтернативная гипотеза: средняя помесячная выручка от пользователей с подпиской больше, чем средняя помесячная выручка от пользователей без подписки."
   ]
  },
  {
   "cell_type": "code",
   "execution_count": 37,
   "id": "6e7d9cdf",
   "metadata": {},
   "outputs": [],
   "source": [
    "total_df_grouped_free = total_df_grouped[total_df_grouped['subscription_type'] == 'free']\n",
    "total_df_grouped_ultra = total_df_grouped[total_df_grouped['subscription_type'] == 'ultra']"
   ]
  },
  {
   "cell_type": "code",
   "execution_count": 38,
   "id": "1c3d3be8",
   "metadata": {},
   "outputs": [
    {
     "name": "stdout",
     "output_type": "stream",
     "text": [
      "358.5896757114494\n",
      "321.75345689908795\n"
     ]
    }
   ],
   "source": [
    "print(total_df_grouped_ultra['revenue'].mean())\n",
    "print(total_df_grouped_free['revenue'].mean())"
   ]
  },
  {
   "cell_type": "code",
   "execution_count": 39,
   "id": "18b1968a",
   "metadata": {},
   "outputs": [
    {
     "name": "stdout",
     "output_type": "stream",
     "text": [
      "p-значение: 1.7274069878387966e-37\n",
      "Отвергаем нулевую гипотезу\n"
     ]
    }
   ],
   "source": [
    "alpha = 0.05\n",
    "results = st.ttest_ind(total_df_grouped_ultra['revenue'], total_df_grouped_free['revenue'], alternative='greater')\n",
    "\n",
    "print('p-значение:', results.pvalue)\n",
    "\n",
    "if (results.pvalue < alpha):\n",
    "    print('Отвергаем нулевую гипотезу')\n",
    "else:\n",
    "    print('Не отвергаем нулевую гипотезу') "
   ]
  },
  {
   "cell_type": "markdown",
   "id": "f3a11123",
   "metadata": {},
   "source": [
    "**Нулевая гипотеза отвергнута. Средняя помесячная выручка от пользователей с подпиской значимо больше, чем средняя помесячная выручка от пользователей без подписки.**"
   ]
  },
  {
   "cell_type": "markdown",
   "id": "1c6e792d",
   "metadata": {},
   "source": [
    "**6.4. Представьте такую ситуацию: техническая команда сервиса обновила сервера, с которыми взаимодействует мобильное приложение. Она надеется, что из-за этого количество обращений в техподдержку значимо снизилось. Некоторый файл содержит для каждого пользователя данные о количестве обращений до обновления и после него. Какой тест вам понадобился бы для проверки этой гипотезы?**\n",
    "\n",
    "**Ответ: В данном случае будет проверяться гипотеза о равенстве средних для зависимых (парных) выборок, тоесть рассматривается генеральная выборка, с которой произошли некоторые изменения. При этом применяется метод scipy.stats.ttest_rel(before, after).**"
   ]
  },
  {
   "cell_type": "markdown",
   "id": "ec365c2e",
   "metadata": {},
   "source": [
    "**Проверка гипотез**\n",
    "- Нулевая гипотеза о равенстве средней продолжительности поездок пользователей с подпиской и без подписки отвергнута. Принимаем альтернативную гипотезу о том, что средняя продолжительность поездок пользователей с подпиской ultra значимо больше, чем средняя продолжительность поездок пользователей без подписки.\n",
    "- Нулевая гипотеза о том, что среднее расстояние одной поездки пользователей с подпиской не превышает 3130м не отвергнута.\n",
    "- Нулевая гипотеза отвергнута. Средняя помесячная выручка от пользователей с подпиской значимо больше, чем средняя помесячная выручка от пользователей без подписки.\n",
    "\n",
    "**Представьте такую ситуацию: техническая команда сервиса обновила сервера, с которыми взаимодействует мобильное приложение. Она надеется, что из-за этого количество обращений в техподдержку значимо снизилось. Некоторый файл содержит для каждого пользователя данные о количестве обращений до обновления и после него. Какой тест вам понадобился бы для проверки этой гипотезы?\n",
    "Ответ: В данном случае будет проверяться гипотеза о равенстве средних для зависимых (парных) выборок, тоесть рассматривается генеральная выборка, с которой произошли некоторые изменения. При этом применяется метод scipy.stats.ttest_rel(before, after).**"
   ]
  },
  {
   "cell_type": "markdown",
   "id": "6365276f",
   "metadata": {},
   "source": [
    "# Общий вывод:\n",
    "\n",
    "Дано 3 датафрейма о пользователях сервиса аренды самокатов GoFast и об их поездках. Данные представлены по 1534 уникальным пользователям из 8 городов России: 'Тюмень', 'Омск', 'Москва', 'Ростов-на-Дону', 'Краснодар', 'Пятигорск', 'Екатеринбург', 'Сочи'.\n",
    " \n",
    "В результате предобработки данных выполнено следующее:\n",
    "\n",
    " - Приведены данные столбца 'date' таблицы 'df_rides' к формату datetime. Определен период, за который необходимо проанализировать данные поездок пользователей сервиса аренды самокатов GoFast. Данные предоставлены с 01.01.2021 по 30.12.2021.\n",
    " - Добавлен столбец с номером месяца 'month' в таблицу 'df_rides'\n",
    " - Удалены явные дубликаты. Неявные дубликаты не обнаружены.\n",
    "\n",
    "Общая информация о пользователях и поездках:\n",
    "- Наибольшее количество пользователей в Пятигорске - 219, Наименьшее количество пользователей в Москве - 168.\n",
    "- Наибольшая доля пользователей с подпиской 'free' - 54,4 %, доля пользователей с подпиской 'ultra' - 45,6 %.\n",
    "- Наибольшее количество пользователей возрастом от 22 до 28 лет. Наименьшее количество пользователей младше 16 лет и старше 34 лет.\n",
    "- В основном пользователи проезжают от 2500 до 4000 м. Отмечаются 2 нормальных распределения, кажется, что это две группы данных, возможно, это связано с типом подписки, пока не рекомендуется удалять значения с расстоянием менее 1500м.\n",
    "- В основном, продолжительность поездок составляет от 12 до 25 минут.\n",
    "\n",
    "Объединение данных\n",
    "- Объединены данные о пользователях, поездках и подписках в один датафрейм 'total_df'.\n",
    "- Созданы ещё два датафрейма из 'total_df': c данными о пользователях без подписки 'total_df_free'; с данными о пользователях с подпиской 'total_df_ultra'.\n",
    "- Из данных таблиц видно, что id пользователей с подпиской 'ultra' варьируется от 1 до 699, а id пользователей с подпиской 'free' - от 700 до 1534. Для пользователей с подпиской 'ultra' среднее и медиана для столбца с расстоянием составляет 3115 и 3149 м, для столбца с продолжительностью - 19 и 18 минут. Для пользователей с подпиской 'free' среднее и медиана для столбца с расстоянием составляет 3045 и 3115 м, для столбца с продолжительностью - 17 и 17 минут. В целом выборки похожи.\n",
    "\n",
    "**Подсчёт выручки**\n",
    "- Создан датафрейм с агрегированными данными о поездках на основе датафрейма с объединёнными данными, найдено суммарное расстояние, количество поездок и суммарное время для каждого пользователя за каждый месяц.\n",
    "- В этот же датафрейм добавлен столбец с помесячной выручкой, которую принёс каждый пользователь.\n",
    "\n",
    "**Проверка гипотез**\n",
    "- Нулевая гипотеза о равенстве средней продолжительности поездок пользователей с подпиской и без подписки отвергнута. Принимаем альтернативную гипотезу о том, что средняя продолжительность поездок пользователей с подпиской ultra значимо больше, чем средняя продолжительность поездок пользователей без подписки.\n",
    "- Нулевая гипотеза о том, что среднее расстояние одной поездки пользователей с подпиской не превышает 3130м не отвергнута.\n",
    "- Нулевая гипотеза отвергнута. Средняя помесячная выручка от пользователей с подпиской значимо больше, чем средняя помесячная выручка от пользователей без подписки.\n",
    "\n",
    "**Представьте такую ситуацию: техническая команда сервиса обновила сервера, с которыми взаимодействует мобильное приложение. Она надеется, что из-за этого количество обращений в техподдержку значимо снизилось. Некоторый файл содержит для каждого пользователя данные о количестве обращений до обновления и после него. Какой тест вам понадобился бы для проверки этой гипотезы?\n",
    "Ответ: В данном случае будет проверяться гипотеза о равенстве средних для зависимых (парных) выборок, тоесть рассматривается генеральная выборка, с которой произошли некоторые изменения. При этом применяется метод scipy.stats.ttest_rel(before, after).**"
   ]
  }
 ],
 "metadata": {
  "ExecuteTimeLog": [
   {
    "duration": 1125,
    "start_time": "2023-05-01T07:46:21.896Z"
   },
   {
    "duration": 69,
    "start_time": "2023-05-01T07:49:30.662Z"
   },
   {
    "duration": 10,
    "start_time": "2023-05-01T07:49:48.734Z"
   },
   {
    "duration": 14,
    "start_time": "2023-05-01T07:51:09.066Z"
   },
   {
    "duration": 10,
    "start_time": "2023-05-01T07:51:35.122Z"
   },
   {
    "duration": 63,
    "start_time": "2023-05-01T07:52:08.621Z"
   },
   {
    "duration": 11,
    "start_time": "2023-05-01T07:52:10.310Z"
   },
   {
    "duration": 11,
    "start_time": "2023-05-01T07:53:18.890Z"
   },
   {
    "duration": 63,
    "start_time": "2023-05-01T07:53:43.094Z"
   },
   {
    "duration": 17,
    "start_time": "2023-05-01T07:53:44.154Z"
   },
   {
    "duration": 13,
    "start_time": "2023-05-01T07:53:45.143Z"
   },
   {
    "duration": 15,
    "start_time": "2023-05-01T07:54:01.409Z"
   },
   {
    "duration": 15,
    "start_time": "2023-05-01T07:54:17.113Z"
   },
   {
    "duration": 14,
    "start_time": "2023-05-01T07:55:48.734Z"
   },
   {
    "duration": 15,
    "start_time": "2023-05-01T07:56:06.741Z"
   },
   {
    "duration": 15,
    "start_time": "2023-05-01T07:56:21.621Z"
   },
   {
    "duration": 16,
    "start_time": "2023-05-01T08:15:10.215Z"
   },
   {
    "duration": 9,
    "start_time": "2023-05-01T08:16:04.169Z"
   },
   {
    "duration": 23,
    "start_time": "2023-05-01T08:16:23.987Z"
   },
   {
    "duration": 17,
    "start_time": "2023-05-01T08:27:43.582Z"
   },
   {
    "duration": 18,
    "start_time": "2023-05-01T08:31:54.915Z"
   },
   {
    "duration": 21,
    "start_time": "2023-05-01T08:32:11.399Z"
   },
   {
    "duration": 18,
    "start_time": "2023-05-01T08:32:38.508Z"
   },
   {
    "duration": 17,
    "start_time": "2023-05-01T08:34:10.847Z"
   },
   {
    "duration": 1406,
    "start_time": "2023-05-01T08:36:18.835Z"
   },
   {
    "duration": 19,
    "start_time": "2023-05-01T08:36:26.308Z"
   },
   {
    "duration": 19,
    "start_time": "2023-05-01T08:38:49.879Z"
   },
   {
    "duration": 15,
    "start_time": "2023-05-01T08:39:19.392Z"
   },
   {
    "duration": 18,
    "start_time": "2023-05-01T08:39:23.607Z"
   },
   {
    "duration": 7,
    "start_time": "2023-05-01T08:42:11.786Z"
   },
   {
    "duration": 1477,
    "start_time": "2023-05-01T08:42:29.432Z"
   },
   {
    "duration": 11,
    "start_time": "2023-05-01T09:03:09.701Z"
   },
   {
    "duration": 9,
    "start_time": "2023-05-01T09:38:51.089Z"
   },
   {
    "duration": 11,
    "start_time": "2023-05-01T09:39:20.130Z"
   },
   {
    "duration": 5,
    "start_time": "2023-05-01T09:52:15.376Z"
   },
   {
    "duration": 9,
    "start_time": "2023-05-01T09:53:24.426Z"
   },
   {
    "duration": 14,
    "start_time": "2023-05-01T09:56:18.418Z"
   },
   {
    "duration": 7,
    "start_time": "2023-05-01T09:56:22.018Z"
   },
   {
    "duration": 18,
    "start_time": "2023-05-01T09:57:14.130Z"
   },
   {
    "duration": 674,
    "start_time": "2023-05-01T09:57:20.580Z"
   },
   {
    "duration": 21,
    "start_time": "2023-05-01T09:57:21.256Z"
   },
   {
    "duration": 15,
    "start_time": "2023-05-01T09:57:21.279Z"
   },
   {
    "duration": 12,
    "start_time": "2023-05-01T09:57:21.296Z"
   },
   {
    "duration": 16,
    "start_time": "2023-05-01T09:57:21.310Z"
   },
   {
    "duration": 10,
    "start_time": "2023-05-01T09:57:21.327Z"
   },
   {
    "duration": 9,
    "start_time": "2023-05-01T09:57:21.338Z"
   },
   {
    "duration": 13,
    "start_time": "2023-05-01T09:57:21.349Z"
   },
   {
    "duration": 44,
    "start_time": "2023-05-01T09:57:21.363Z"
   },
   {
    "duration": 8,
    "start_time": "2023-05-01T09:57:21.410Z"
   },
   {
    "duration": 15,
    "start_time": "2023-05-01T09:57:42.659Z"
   },
   {
    "duration": 17,
    "start_time": "2023-05-01T09:57:57.552Z"
   },
   {
    "duration": 1010,
    "start_time": "2023-05-01T17:22:33.938Z"
   },
   {
    "duration": 29,
    "start_time": "2023-05-01T17:22:34.950Z"
   },
   {
    "duration": 20,
    "start_time": "2023-05-01T17:22:34.982Z"
   },
   {
    "duration": 18,
    "start_time": "2023-05-01T17:22:35.004Z"
   },
   {
    "duration": 30,
    "start_time": "2023-05-01T17:22:35.025Z"
   },
   {
    "duration": 21,
    "start_time": "2023-05-01T17:22:35.057Z"
   },
   {
    "duration": 20,
    "start_time": "2023-05-01T17:22:35.080Z"
   },
   {
    "duration": 20,
    "start_time": "2023-05-01T17:22:35.101Z"
   },
   {
    "duration": 14,
    "start_time": "2023-05-01T17:22:35.123Z"
   },
   {
    "duration": 7,
    "start_time": "2023-05-01T17:22:35.139Z"
   },
   {
    "duration": 17,
    "start_time": "2023-05-01T17:34:28.831Z"
   },
   {
    "duration": 68,
    "start_time": "2023-05-01T17:35:41.290Z"
   },
   {
    "duration": 24,
    "start_time": "2023-05-01T17:35:41.360Z"
   },
   {
    "duration": 24,
    "start_time": "2023-05-01T17:35:41.386Z"
   },
   {
    "duration": 22,
    "start_time": "2023-05-01T17:35:41.412Z"
   },
   {
    "duration": 24,
    "start_time": "2023-05-01T17:35:41.437Z"
   },
   {
    "duration": 36,
    "start_time": "2023-05-01T17:35:41.464Z"
   },
   {
    "duration": 15,
    "start_time": "2023-05-01T17:35:41.502Z"
   },
   {
    "duration": 28,
    "start_time": "2023-05-01T17:35:41.519Z"
   },
   {
    "duration": 48,
    "start_time": "2023-05-01T17:35:41.550Z"
   },
   {
    "duration": 13,
    "start_time": "2023-05-01T17:35:41.600Z"
   },
   {
    "duration": 315,
    "start_time": "2023-05-01T17:45:28.715Z"
   },
   {
    "duration": 240,
    "start_time": "2023-05-01T17:45:42.695Z"
   },
   {
    "duration": 24,
    "start_time": "2023-05-01T17:55:58.254Z"
   },
   {
    "duration": 127,
    "start_time": "2023-05-01T17:59:40.213Z"
   },
   {
    "duration": 786,
    "start_time": "2023-05-01T18:00:07.162Z"
   },
   {
    "duration": 41,
    "start_time": "2023-05-01T18:00:07.959Z"
   },
   {
    "duration": 28,
    "start_time": "2023-05-01T18:00:08.006Z"
   },
   {
    "duration": 19,
    "start_time": "2023-05-01T18:00:08.037Z"
   },
   {
    "duration": 41,
    "start_time": "2023-05-01T18:00:08.060Z"
   },
   {
    "duration": 19,
    "start_time": "2023-05-01T18:00:08.108Z"
   },
   {
    "duration": 20,
    "start_time": "2023-05-01T18:00:08.129Z"
   },
   {
    "duration": 45,
    "start_time": "2023-05-01T18:00:08.151Z"
   },
   {
    "duration": 28,
    "start_time": "2023-05-01T18:00:08.197Z"
   },
   {
    "duration": 16,
    "start_time": "2023-05-01T18:00:08.227Z"
   },
   {
    "duration": 14,
    "start_time": "2023-05-01T18:00:08.245Z"
   },
   {
    "duration": 275,
    "start_time": "2023-05-01T18:00:08.260Z"
   },
   {
    "duration": 43,
    "start_time": "2023-05-01T18:00:24.698Z"
   },
   {
    "duration": 26,
    "start_time": "2023-05-01T18:00:36.013Z"
   },
   {
    "duration": 28,
    "start_time": "2023-05-01T18:04:25.154Z"
   },
   {
    "duration": 35,
    "start_time": "2023-05-01T18:04:42.441Z"
   },
   {
    "duration": 84,
    "start_time": "2023-05-01T18:07:02.945Z"
   },
   {
    "duration": 41,
    "start_time": "2023-05-01T18:07:29.834Z"
   },
   {
    "duration": 435,
    "start_time": "2023-05-01T18:08:50.739Z"
   },
   {
    "duration": 440,
    "start_time": "2023-05-01T18:09:11.422Z"
   },
   {
    "duration": 343,
    "start_time": "2023-05-01T18:09:37.014Z"
   },
   {
    "duration": 313,
    "start_time": "2023-05-01T18:11:18.434Z"
   },
   {
    "duration": 350,
    "start_time": "2023-05-01T18:11:27.116Z"
   },
   {
    "duration": 857,
    "start_time": "2023-05-01T18:11:49.213Z"
   },
   {
    "duration": 1146,
    "start_time": "2023-05-01T18:12:03.421Z"
   },
   {
    "duration": 1240,
    "start_time": "2023-05-01T18:12:31.963Z"
   },
   {
    "duration": 1215,
    "start_time": "2023-05-01T18:14:17.482Z"
   },
   {
    "duration": 1111,
    "start_time": "2023-05-01T18:15:02.107Z"
   },
   {
    "duration": 92,
    "start_time": "2023-05-01T18:23:45.884Z"
   },
   {
    "duration": 363,
    "start_time": "2023-05-01T18:24:47.887Z"
   },
   {
    "duration": 13,
    "start_time": "2023-05-01T18:25:50.076Z"
   },
   {
    "duration": 301,
    "start_time": "2023-05-01T18:32:37.176Z"
   },
   {
    "duration": 342,
    "start_time": "2023-05-01T18:32:47.837Z"
   },
   {
    "duration": 241,
    "start_time": "2023-05-01T18:33:39.536Z"
   },
   {
    "duration": 231,
    "start_time": "2023-05-01T18:33:59.078Z"
   },
   {
    "duration": 258,
    "start_time": "2023-05-01T18:34:09.017Z"
   },
   {
    "duration": 486,
    "start_time": "2023-05-01T18:35:34.364Z"
   },
   {
    "duration": 803,
    "start_time": "2023-05-01T18:35:47.572Z"
   },
   {
    "duration": 28,
    "start_time": "2023-05-01T18:35:48.377Z"
   },
   {
    "duration": 383,
    "start_time": "2023-05-01T18:35:48.407Z"
   },
   {
    "duration": 19,
    "start_time": "2023-05-01T18:35:48.792Z"
   },
   {
    "duration": 779,
    "start_time": "2023-05-01T18:35:48.814Z"
   },
   {
    "duration": 20,
    "start_time": "2023-05-01T18:35:49.595Z"
   },
   {
    "duration": 60,
    "start_time": "2023-05-01T18:35:49.617Z"
   },
   {
    "duration": 548,
    "start_time": "2023-05-01T18:35:49.679Z"
   },
   {
    "duration": 62,
    "start_time": "2023-05-01T18:35:50.229Z"
   },
   {
    "duration": 17,
    "start_time": "2023-05-01T18:35:50.294Z"
   },
   {
    "duration": 26,
    "start_time": "2023-05-01T18:35:50.314Z"
   },
   {
    "duration": 68,
    "start_time": "2023-05-01T18:35:50.342Z"
   },
   {
    "duration": 21,
    "start_time": "2023-05-01T18:35:50.412Z"
   },
   {
    "duration": 11,
    "start_time": "2023-05-01T18:35:50.437Z"
   },
   {
    "duration": 236,
    "start_time": "2023-05-01T18:35:50.450Z"
   },
   {
    "duration": 439,
    "start_time": "2023-05-01T18:36:25.144Z"
   },
   {
    "duration": 560,
    "start_time": "2023-05-01T18:36:41.283Z"
   },
   {
    "duration": 456,
    "start_time": "2023-05-01T18:36:54.236Z"
   },
   {
    "duration": 723,
    "start_time": "2023-05-01T18:37:15.437Z"
   },
   {
    "duration": 29,
    "start_time": "2023-05-01T18:37:16.162Z"
   },
   {
    "duration": 362,
    "start_time": "2023-05-01T18:37:16.194Z"
   },
   {
    "duration": 30,
    "start_time": "2023-05-01T18:37:16.559Z"
   },
   {
    "duration": 756,
    "start_time": "2023-05-01T18:37:16.591Z"
   },
   {
    "duration": 17,
    "start_time": "2023-05-01T18:37:17.348Z"
   },
   {
    "duration": 48,
    "start_time": "2023-05-01T18:37:17.367Z"
   },
   {
    "duration": 452,
    "start_time": "2023-05-01T18:37:26.128Z"
   },
   {
    "duration": 916,
    "start_time": "2023-05-01T18:45:10.298Z"
   },
   {
    "duration": 527,
    "start_time": "2023-05-01T18:46:53.703Z"
   },
   {
    "duration": 544,
    "start_time": "2023-05-01T18:47:47.804Z"
   },
   {
    "duration": 469,
    "start_time": "2023-05-01T18:48:17.622Z"
   },
   {
    "duration": 462,
    "start_time": "2023-05-01T18:48:44.106Z"
   },
   {
    "duration": 553,
    "start_time": "2023-05-01T18:51:47.262Z"
   },
   {
    "duration": 541,
    "start_time": "2023-05-01T18:52:02.617Z"
   },
   {
    "duration": 568,
    "start_time": "2023-05-01T18:53:51.974Z"
   },
   {
    "duration": 678,
    "start_time": "2023-05-01T18:58:10.085Z"
   },
   {
    "duration": 59,
    "start_time": "2023-05-01T18:58:30.640Z"
   },
   {
    "duration": 723,
    "start_time": "2023-05-01T18:59:08.933Z"
   },
   {
    "duration": 781,
    "start_time": "2023-05-01T18:59:18.787Z"
   },
   {
    "duration": 29,
    "start_time": "2023-05-01T18:59:19.570Z"
   },
   {
    "duration": 361,
    "start_time": "2023-05-01T18:59:19.601Z"
   },
   {
    "duration": 33,
    "start_time": "2023-05-01T18:59:19.964Z"
   },
   {
    "duration": 768,
    "start_time": "2023-05-01T18:59:19.999Z"
   },
   {
    "duration": 22,
    "start_time": "2023-05-01T18:59:20.769Z"
   },
   {
    "duration": 25,
    "start_time": "2023-05-01T18:59:20.793Z"
   },
   {
    "duration": 509,
    "start_time": "2023-05-01T18:59:20.820Z"
   },
   {
    "duration": 31,
    "start_time": "2023-05-01T18:59:21.331Z"
   },
   {
    "duration": 35,
    "start_time": "2023-05-01T18:59:21.364Z"
   },
   {
    "duration": 15,
    "start_time": "2023-05-01T18:59:21.401Z"
   },
   {
    "duration": 23,
    "start_time": "2023-05-01T18:59:21.418Z"
   },
   {
    "duration": 55,
    "start_time": "2023-05-01T18:59:21.444Z"
   },
   {
    "duration": 9,
    "start_time": "2023-05-01T18:59:21.503Z"
   },
   {
    "duration": 228,
    "start_time": "2023-05-01T18:59:21.514Z"
   },
   {
    "duration": 777,
    "start_time": "2023-05-01T19:00:03.860Z"
   },
   {
    "duration": 30,
    "start_time": "2023-05-01T19:00:04.639Z"
   },
   {
    "duration": 356,
    "start_time": "2023-05-01T19:00:04.671Z"
   },
   {
    "duration": 21,
    "start_time": "2023-05-01T19:00:05.029Z"
   },
   {
    "duration": 705,
    "start_time": "2023-05-01T19:00:05.052Z"
   },
   {
    "duration": 17,
    "start_time": "2023-05-01T19:00:05.759Z"
   },
   {
    "duration": 34,
    "start_time": "2023-05-01T19:00:05.788Z"
   },
   {
    "duration": 585,
    "start_time": "2023-05-01T19:00:20.552Z"
   },
   {
    "duration": 556,
    "start_time": "2023-05-01T19:00:28.440Z"
   },
   {
    "duration": 31,
    "start_time": "2023-05-01T19:02:23.594Z"
   },
   {
    "duration": 15,
    "start_time": "2023-05-01T19:02:32.952Z"
   },
   {
    "duration": 13,
    "start_time": "2023-05-01T19:02:43.314Z"
   },
   {
    "duration": 12,
    "start_time": "2023-05-01T19:02:45.733Z"
   },
   {
    "duration": 771,
    "start_time": "2023-05-01T19:02:54.200Z"
   },
   {
    "duration": 28,
    "start_time": "2023-05-01T19:02:54.973Z"
   },
   {
    "duration": 349,
    "start_time": "2023-05-01T19:02:55.003Z"
   },
   {
    "duration": 21,
    "start_time": "2023-05-01T19:02:55.354Z"
   },
   {
    "duration": 700,
    "start_time": "2023-05-01T19:02:55.390Z"
   },
   {
    "duration": 16,
    "start_time": "2023-05-01T19:02:56.091Z"
   },
   {
    "duration": 25,
    "start_time": "2023-05-01T19:02:56.109Z"
   },
   {
    "duration": 564,
    "start_time": "2023-05-01T19:02:56.135Z"
   },
   {
    "duration": 30,
    "start_time": "2023-05-01T19:02:56.701Z"
   },
   {
    "duration": 13,
    "start_time": "2023-05-01T19:02:56.733Z"
   },
   {
    "duration": 41,
    "start_time": "2023-05-01T19:02:56.748Z"
   },
   {
    "duration": 23,
    "start_time": "2023-05-01T19:02:56.791Z"
   },
   {
    "duration": 13,
    "start_time": "2023-05-01T19:02:56.815Z"
   },
   {
    "duration": 9,
    "start_time": "2023-05-01T19:02:56.831Z"
   },
   {
    "duration": 230,
    "start_time": "2023-05-01T19:02:56.841Z"
   },
   {
    "duration": 85,
    "start_time": "2023-05-01T19:03:39.660Z"
   },
   {
    "duration": 16,
    "start_time": "2023-05-01T19:03:52.519Z"
   },
   {
    "duration": 40795,
    "start_time": "2023-05-01T19:08:17.818Z"
   },
   {
    "duration": 143,
    "start_time": "2023-05-01T19:11:02.518Z"
   },
   {
    "duration": 154,
    "start_time": "2023-05-01T19:11:26.610Z"
   },
   {
    "duration": 149,
    "start_time": "2023-05-01T19:11:43.357Z"
   },
   {
    "duration": 142,
    "start_time": "2023-05-01T19:18:28.311Z"
   },
   {
    "duration": 191,
    "start_time": "2023-05-01T19:19:10.979Z"
   },
   {
    "duration": 212,
    "start_time": "2023-05-01T19:19:28.717Z"
   },
   {
    "duration": 606,
    "start_time": "2023-05-01T19:19:42.224Z"
   },
   {
    "duration": 274,
    "start_time": "2023-05-01T19:29:32.440Z"
   },
   {
    "duration": 228,
    "start_time": "2023-05-01T19:30:18.617Z"
   },
   {
    "duration": 156,
    "start_time": "2023-05-01T19:31:44.815Z"
   },
   {
    "duration": 162,
    "start_time": "2023-05-01T19:33:44.421Z"
   },
   {
    "duration": 160,
    "start_time": "2023-05-01T19:34:59.418Z"
   },
   {
    "duration": 148,
    "start_time": "2023-05-01T19:36:32.034Z"
   },
   {
    "duration": 317,
    "start_time": "2023-05-01T19:39:45.251Z"
   },
   {
    "duration": 330,
    "start_time": "2023-05-01T19:40:05.840Z"
   },
   {
    "duration": 402,
    "start_time": "2023-05-01T19:40:17.737Z"
   },
   {
    "duration": 351,
    "start_time": "2023-05-01T19:41:19.778Z"
   },
   {
    "duration": 355,
    "start_time": "2023-05-01T19:41:31.717Z"
   },
   {
    "duration": 302,
    "start_time": "2023-05-01T19:41:44.121Z"
   },
   {
    "duration": 251,
    "start_time": "2023-05-01T19:42:44.851Z"
   },
   {
    "duration": 309,
    "start_time": "2023-05-01T19:43:02.442Z"
   },
   {
    "duration": 262,
    "start_time": "2023-05-01T19:43:14.179Z"
   },
   {
    "duration": 174,
    "start_time": "2023-05-01T19:45:22.829Z"
   },
   {
    "duration": 152,
    "start_time": "2023-05-01T19:45:52.059Z"
   },
   {
    "duration": 292,
    "start_time": "2023-05-01T19:46:32.776Z"
   },
   {
    "duration": 314,
    "start_time": "2023-05-01T19:47:01.048Z"
   },
   {
    "duration": 828,
    "start_time": "2023-05-01T19:48:10.645Z"
   },
   {
    "duration": 667,
    "start_time": "2023-05-01T19:48:19.677Z"
   },
   {
    "duration": 579,
    "start_time": "2023-05-01T19:48:26.783Z"
   },
   {
    "duration": 555,
    "start_time": "2023-05-01T19:49:02.943Z"
   },
   {
    "duration": 654,
    "start_time": "2023-05-01T19:49:10.073Z"
   },
   {
    "duration": 564,
    "start_time": "2023-05-01T19:49:14.723Z"
   },
   {
    "duration": 238,
    "start_time": "2023-05-01T19:54:55.611Z"
   },
   {
    "duration": 244,
    "start_time": "2023-05-01T19:55:08.072Z"
   },
   {
    "duration": 1919,
    "start_time": "2023-05-01T19:55:28.237Z"
   },
   {
    "duration": 291,
    "start_time": "2023-05-01T19:55:35.078Z"
   },
   {
    "duration": 664,
    "start_time": "2023-05-01T19:55:54.218Z"
   },
   {
    "duration": 583,
    "start_time": "2023-05-01T19:56:01.885Z"
   },
   {
    "duration": 370,
    "start_time": "2023-05-01T19:56:52.023Z"
   },
   {
    "duration": 316,
    "start_time": "2023-05-01T19:56:57.719Z"
   },
   {
    "duration": 343,
    "start_time": "2023-05-01T19:57:05.619Z"
   },
   {
    "duration": 382,
    "start_time": "2023-05-01T19:57:19.019Z"
   },
   {
    "duration": 348,
    "start_time": "2023-05-01T19:57:24.614Z"
   },
   {
    "duration": 327,
    "start_time": "2023-05-01T19:57:48.541Z"
   },
   {
    "duration": 419,
    "start_time": "2023-05-01T19:58:12.144Z"
   },
   {
    "duration": 374,
    "start_time": "2023-05-01T19:58:18.959Z"
   },
   {
    "duration": 334,
    "start_time": "2023-05-01T19:59:33.173Z"
   },
   {
    "duration": 395,
    "start_time": "2023-05-01T19:59:46.848Z"
   },
   {
    "duration": 318,
    "start_time": "2023-05-01T19:59:56.969Z"
   },
   {
    "duration": 567,
    "start_time": "2023-05-01T20:00:07.140Z"
   },
   {
    "duration": 320,
    "start_time": "2023-05-01T20:00:21.321Z"
   },
   {
    "duration": 422,
    "start_time": "2023-05-01T20:00:27.587Z"
   },
   {
    "duration": 328,
    "start_time": "2023-05-01T20:00:40.487Z"
   },
   {
    "duration": 315,
    "start_time": "2023-05-01T20:00:52.087Z"
   },
   {
    "duration": 329,
    "start_time": "2023-05-01T20:01:42.013Z"
   },
   {
    "duration": 373,
    "start_time": "2023-05-01T20:02:18.275Z"
   },
   {
    "duration": 53,
    "start_time": "2023-05-02T16:10:40.876Z"
   },
   {
    "duration": 1659,
    "start_time": "2023-05-02T16:10:52.239Z"
   },
   {
    "duration": 33,
    "start_time": "2023-05-02T16:10:53.900Z"
   },
   {
    "duration": 380,
    "start_time": "2023-05-02T16:10:53.935Z"
   },
   {
    "duration": 39,
    "start_time": "2023-05-02T16:10:54.318Z"
   },
   {
    "duration": 751,
    "start_time": "2023-05-02T16:10:54.367Z"
   },
   {
    "duration": 43,
    "start_time": "2023-05-02T16:10:55.120Z"
   },
   {
    "duration": 19,
    "start_time": "2023-05-02T16:10:55.165Z"
   },
   {
    "duration": 672,
    "start_time": "2023-05-02T16:10:55.186Z"
   },
   {
    "duration": 47,
    "start_time": "2023-05-02T16:10:55.863Z"
   },
   {
    "duration": 20,
    "start_time": "2023-05-02T16:10:55.914Z"
   },
   {
    "duration": 21,
    "start_time": "2023-05-02T16:10:55.936Z"
   },
   {
    "duration": 71,
    "start_time": "2023-05-02T16:10:55.960Z"
   },
   {
    "duration": 49,
    "start_time": "2023-05-02T16:10:56.034Z"
   },
   {
    "duration": 24,
    "start_time": "2023-05-02T16:10:56.087Z"
   },
   {
    "duration": 224,
    "start_time": "2023-05-02T16:10:56.114Z"
   },
   {
    "duration": 162,
    "start_time": "2023-05-02T16:10:56.340Z"
   },
   {
    "duration": 572,
    "start_time": "2023-05-02T16:10:56.504Z"
   },
   {
    "duration": 417,
    "start_time": "2023-05-02T16:10:57.078Z"
   },
   {
    "duration": 433,
    "start_time": "2023-05-02T16:10:57.497Z"
   },
   {
    "duration": 491,
    "start_time": "2023-05-02T16:14:31.770Z"
   },
   {
    "duration": 468,
    "start_time": "2023-05-02T16:14:55.826Z"
   },
   {
    "duration": 406,
    "start_time": "2023-05-02T16:15:54.320Z"
   },
   {
    "duration": 479,
    "start_time": "2023-05-02T16:16:12.980Z"
   },
   {
    "duration": 153,
    "start_time": "2023-05-02T16:16:17.679Z"
   },
   {
    "duration": 190,
    "start_time": "2023-05-02T16:17:03.266Z"
   },
   {
    "duration": 45,
    "start_time": "2023-05-02T16:22:45.644Z"
   },
   {
    "duration": 31,
    "start_time": "2023-05-02T16:23:13.826Z"
   },
   {
    "duration": 16,
    "start_time": "2023-05-02T16:23:28.284Z"
   },
   {
    "duration": 859,
    "start_time": "2023-05-02T16:23:40.426Z"
   },
   {
    "duration": 31,
    "start_time": "2023-05-02T16:23:41.288Z"
   },
   {
    "duration": 389,
    "start_time": "2023-05-02T16:23:41.321Z"
   },
   {
    "duration": 19,
    "start_time": "2023-05-02T16:23:41.712Z"
   },
   {
    "duration": 815,
    "start_time": "2023-05-02T16:23:41.741Z"
   },
   {
    "duration": 27,
    "start_time": "2023-05-02T16:23:42.557Z"
   },
   {
    "duration": 20,
    "start_time": "2023-05-02T16:23:42.586Z"
   },
   {
    "duration": 626,
    "start_time": "2023-05-02T16:23:42.608Z"
   },
   {
    "duration": 47,
    "start_time": "2023-05-02T16:23:43.243Z"
   },
   {
    "duration": 27,
    "start_time": "2023-05-02T16:23:43.292Z"
   },
   {
    "duration": 34,
    "start_time": "2023-05-02T16:23:43.321Z"
   },
   {
    "duration": 57,
    "start_time": "2023-05-02T16:23:43.357Z"
   },
   {
    "duration": 14,
    "start_time": "2023-05-02T16:23:43.416Z"
   },
   {
    "duration": 24,
    "start_time": "2023-05-02T16:23:43.433Z"
   },
   {
    "duration": 205,
    "start_time": "2023-05-02T16:23:43.459Z"
   },
   {
    "duration": 154,
    "start_time": "2023-05-02T16:23:43.671Z"
   },
   {
    "duration": 579,
    "start_time": "2023-05-02T16:23:43.827Z"
   },
   {
    "duration": 407,
    "start_time": "2023-05-02T16:23:44.408Z"
   },
   {
    "duration": 274,
    "start_time": "2023-05-02T16:23:44.818Z"
   },
   {
    "duration": 314,
    "start_time": "2023-05-02T16:23:45.094Z"
   },
   {
    "duration": 164,
    "start_time": "2023-05-02T16:23:45.410Z"
   },
   {
    "duration": 86,
    "start_time": "2023-05-02T16:30:45.871Z"
   },
   {
    "duration": 856,
    "start_time": "2023-05-02T16:30:58.409Z"
   },
   {
    "duration": 31,
    "start_time": "2023-05-02T16:30:59.267Z"
   },
   {
    "duration": 501,
    "start_time": "2023-05-02T16:30:59.300Z"
   },
   {
    "duration": 27,
    "start_time": "2023-05-02T16:30:59.804Z"
   },
   {
    "duration": 867,
    "start_time": "2023-05-02T16:30:59.834Z"
   },
   {
    "duration": 23,
    "start_time": "2023-05-02T16:31:00.705Z"
   },
   {
    "duration": 126,
    "start_time": "2023-05-02T16:31:00.731Z"
   },
   {
    "duration": 337,
    "start_time": "2023-05-02T16:31:05.484Z"
   },
   {
    "duration": 321,
    "start_time": "2023-05-02T16:31:22.109Z"
   },
   {
    "duration": 384,
    "start_time": "2023-05-02T16:31:56.521Z"
   },
   {
    "duration": 353,
    "start_time": "2023-05-02T16:32:31.764Z"
   },
   {
    "duration": 151,
    "start_time": "2023-05-02T16:40:04.152Z"
   },
   {
    "duration": 5,
    "start_time": "2023-05-02T16:42:56.295Z"
   },
   {
    "duration": 3,
    "start_time": "2023-05-02T16:42:59.415Z"
   },
   {
    "duration": 847,
    "start_time": "2023-05-02T16:46:20.470Z"
   },
   {
    "duration": 42,
    "start_time": "2023-05-02T16:46:21.320Z"
   },
   {
    "duration": 444,
    "start_time": "2023-05-02T16:46:21.364Z"
   },
   {
    "duration": 32,
    "start_time": "2023-05-02T16:46:21.810Z"
   },
   {
    "duration": 856,
    "start_time": "2023-05-02T16:46:21.850Z"
   },
   {
    "duration": 20,
    "start_time": "2023-05-02T16:46:22.708Z"
   },
   {
    "duration": 45,
    "start_time": "2023-05-02T16:46:22.749Z"
   },
   {
    "duration": 8,
    "start_time": "2023-05-02T16:46:22.796Z"
   },
   {
    "duration": 28,
    "start_time": "2023-05-02T16:46:22.806Z"
   },
   {
    "duration": 702,
    "start_time": "2023-05-02T16:46:22.836Z"
   },
   {
    "duration": 37,
    "start_time": "2023-05-02T16:46:23.541Z"
   },
   {
    "duration": 28,
    "start_time": "2023-05-02T16:46:23.583Z"
   },
   {
    "duration": 14,
    "start_time": "2023-05-02T16:46:23.614Z"
   },
   {
    "duration": 25,
    "start_time": "2023-05-02T16:46:23.643Z"
   },
   {
    "duration": 47,
    "start_time": "2023-05-02T16:46:23.670Z"
   },
   {
    "duration": 10,
    "start_time": "2023-05-02T16:46:23.719Z"
   },
   {
    "duration": 230,
    "start_time": "2023-05-02T16:46:23.731Z"
   },
   {
    "duration": 171,
    "start_time": "2023-05-02T16:46:23.969Z"
   },
   {
    "duration": 570,
    "start_time": "2023-05-02T16:46:24.142Z"
   },
   {
    "duration": 411,
    "start_time": "2023-05-02T16:46:24.714Z"
   },
   {
    "duration": 278,
    "start_time": "2023-05-02T16:46:25.128Z"
   },
   {
    "duration": 305,
    "start_time": "2023-05-02T16:46:25.408Z"
   },
   {
    "duration": 159,
    "start_time": "2023-05-02T16:46:25.716Z"
   },
   {
    "duration": 125,
    "start_time": "2023-05-02T16:48:24.268Z"
   },
   {
    "duration": 264,
    "start_time": "2023-05-02T16:50:13.639Z"
   },
   {
    "duration": 395,
    "start_time": "2023-05-02T16:50:24.270Z"
   },
   {
    "duration": 609,
    "start_time": "2023-05-02T16:50:30.796Z"
   },
   {
    "duration": 541,
    "start_time": "2023-05-02T16:50:51.770Z"
   },
   {
    "duration": 389,
    "start_time": "2023-05-02T16:55:29.988Z"
   },
   {
    "duration": 293,
    "start_time": "2023-05-02T16:57:48.322Z"
   },
   {
    "duration": 318,
    "start_time": "2023-05-02T16:57:54.801Z"
   },
   {
    "duration": 7,
    "start_time": "2023-05-02T16:58:02.165Z"
   },
   {
    "duration": 318,
    "start_time": "2023-05-02T16:58:48.196Z"
   },
   {
    "duration": 839,
    "start_time": "2023-05-02T16:59:53.128Z"
   },
   {
    "duration": 35,
    "start_time": "2023-05-02T16:59:53.975Z"
   },
   {
    "duration": 423,
    "start_time": "2023-05-02T16:59:54.012Z"
   },
   {
    "duration": 33,
    "start_time": "2023-05-02T16:59:54.444Z"
   },
   {
    "duration": 971,
    "start_time": "2023-05-02T16:59:54.486Z"
   },
   {
    "duration": 27,
    "start_time": "2023-05-02T16:59:55.469Z"
   },
   {
    "duration": 37,
    "start_time": "2023-05-02T16:59:55.498Z"
   },
   {
    "duration": 3,
    "start_time": "2023-05-02T16:59:55.536Z"
   },
   {
    "duration": 84,
    "start_time": "2023-05-02T16:59:55.541Z"
   },
   {
    "duration": 858,
    "start_time": "2023-05-02T16:59:55.628Z"
   },
   {
    "duration": 53,
    "start_time": "2023-05-02T16:59:56.488Z"
   },
   {
    "duration": 29,
    "start_time": "2023-05-02T16:59:56.556Z"
   },
   {
    "duration": 64,
    "start_time": "2023-05-02T16:59:56.587Z"
   },
   {
    "duration": 84,
    "start_time": "2023-05-02T16:59:56.654Z"
   },
   {
    "duration": 93,
    "start_time": "2023-05-02T16:59:56.742Z"
   },
   {
    "duration": 25,
    "start_time": "2023-05-02T16:59:56.838Z"
   },
   {
    "duration": 263,
    "start_time": "2023-05-02T16:59:56.865Z"
   },
   {
    "duration": 179,
    "start_time": "2023-05-02T16:59:57.131Z"
   },
   {
    "duration": 638,
    "start_time": "2023-05-02T16:59:57.312Z"
   },
   {
    "duration": 415,
    "start_time": "2023-05-02T16:59:57.953Z"
   },
   {
    "duration": 4,
    "start_time": "2023-05-02T16:59:58.370Z"
   },
   {
    "duration": 480,
    "start_time": "2023-05-02T16:59:58.375Z"
   },
   {
    "duration": 41,
    "start_time": "2023-05-02T17:25:33.520Z"
   },
   {
    "duration": 54,
    "start_time": "2023-05-02T17:27:18.726Z"
   },
   {
    "duration": 47,
    "start_time": "2023-05-02T17:28:53.130Z"
   },
   {
    "duration": 81,
    "start_time": "2023-05-02T17:29:20.615Z"
   },
   {
    "duration": 43,
    "start_time": "2023-05-02T17:29:48.070Z"
   },
   {
    "duration": 1000,
    "start_time": "2023-05-02T17:31:20.315Z"
   },
   {
    "duration": 48,
    "start_time": "2023-05-02T17:31:21.320Z"
   },
   {
    "duration": 450,
    "start_time": "2023-05-02T17:31:21.375Z"
   },
   {
    "duration": 48,
    "start_time": "2023-05-02T17:31:21.827Z"
   },
   {
    "duration": 925,
    "start_time": "2023-05-02T17:31:21.885Z"
   },
   {
    "duration": 47,
    "start_time": "2023-05-02T17:31:22.812Z"
   },
   {
    "duration": 38,
    "start_time": "2023-05-02T17:31:22.864Z"
   },
   {
    "duration": 24,
    "start_time": "2023-05-02T17:31:22.907Z"
   },
   {
    "duration": 78,
    "start_time": "2023-05-02T17:31:22.933Z"
   },
   {
    "duration": 903,
    "start_time": "2023-05-02T17:31:23.014Z"
   },
   {
    "duration": 50,
    "start_time": "2023-05-02T17:31:23.919Z"
   },
   {
    "duration": 35,
    "start_time": "2023-05-02T17:31:23.978Z"
   },
   {
    "duration": 38,
    "start_time": "2023-05-02T17:31:24.017Z"
   },
   {
    "duration": 52,
    "start_time": "2023-05-02T17:31:24.062Z"
   },
   {
    "duration": 40,
    "start_time": "2023-05-02T17:31:24.117Z"
   },
   {
    "duration": 23,
    "start_time": "2023-05-02T17:31:24.159Z"
   },
   {
    "duration": 312,
    "start_time": "2023-05-02T17:31:24.185Z"
   },
   {
    "duration": 197,
    "start_time": "2023-05-02T17:31:24.503Z"
   },
   {
    "duration": 618,
    "start_time": "2023-05-02T17:31:24.702Z"
   },
   {
    "duration": 441,
    "start_time": "2023-05-02T17:31:25.322Z"
   },
   {
    "duration": 8,
    "start_time": "2023-05-02T17:31:25.765Z"
   },
   {
    "duration": 561,
    "start_time": "2023-05-02T17:31:25.775Z"
   },
   {
    "duration": 101,
    "start_time": "2023-05-02T17:31:26.346Z"
   },
   {
    "duration": 50,
    "start_time": "2023-05-02T17:31:26.449Z"
   },
   {
    "duration": 16,
    "start_time": "2023-05-02T17:31:42.518Z"
   },
   {
    "duration": 116,
    "start_time": "2023-05-02T17:32:57.566Z"
   },
   {
    "duration": 112,
    "start_time": "2023-05-02T17:38:46.773Z"
   },
   {
    "duration": 12,
    "start_time": "2023-05-02T17:39:16.605Z"
   },
   {
    "duration": 33,
    "start_time": "2023-05-02T17:39:40.073Z"
   },
   {
    "duration": 67,
    "start_time": "2023-05-02T17:41:34.432Z"
   },
   {
    "duration": 22,
    "start_time": "2023-05-02T17:42:41.589Z"
   },
   {
    "duration": 53,
    "start_time": "2023-05-02T17:43:06.315Z"
   },
   {
    "duration": 248,
    "start_time": "2023-05-02T17:50:00.269Z"
   },
   {
    "duration": 294,
    "start_time": "2023-05-02T17:50:19.920Z"
   },
   {
    "duration": 299,
    "start_time": "2023-05-02T17:50:47.720Z"
   },
   {
    "duration": 286,
    "start_time": "2023-05-02T17:51:03.832Z"
   },
   {
    "duration": 349,
    "start_time": "2023-05-02T17:51:18.734Z"
   },
   {
    "duration": 436,
    "start_time": "2023-05-02T17:52:06.935Z"
   },
   {
    "duration": 496,
    "start_time": "2023-05-02T17:52:27.092Z"
   },
   {
    "duration": 400,
    "start_time": "2023-05-02T17:52:33.688Z"
   },
   {
    "duration": 405,
    "start_time": "2023-05-02T17:53:17.420Z"
   },
   {
    "duration": 333,
    "start_time": "2023-05-02T17:53:34.634Z"
   },
   {
    "duration": 297,
    "start_time": "2023-05-02T17:53:55.370Z"
   },
   {
    "duration": 357,
    "start_time": "2023-05-02T17:54:05.824Z"
   },
   {
    "duration": 264,
    "start_time": "2023-05-02T17:54:26.251Z"
   },
   {
    "duration": 270,
    "start_time": "2023-05-02T17:54:31.787Z"
   },
   {
    "duration": 426,
    "start_time": "2023-05-02T17:54:39.892Z"
   },
   {
    "duration": 303,
    "start_time": "2023-05-02T17:54:45.374Z"
   },
   {
    "duration": 45,
    "start_time": "2023-05-02T17:55:07.069Z"
   },
   {
    "duration": 710,
    "start_time": "2023-05-02T17:55:10.488Z"
   },
   {
    "duration": 367,
    "start_time": "2023-05-02T17:55:42.956Z"
   },
   {
    "duration": 368,
    "start_time": "2023-05-02T17:57:05.311Z"
   },
   {
    "duration": 376,
    "start_time": "2023-05-02T17:57:12.867Z"
   },
   {
    "duration": 32,
    "start_time": "2023-05-02T17:57:45.629Z"
   },
   {
    "duration": 19,
    "start_time": "2023-05-02T17:57:54.042Z"
   },
   {
    "duration": 498,
    "start_time": "2023-05-02T17:58:02.462Z"
   },
   {
    "duration": 17,
    "start_time": "2023-05-02T17:59:24.591Z"
   },
   {
    "duration": 26,
    "start_time": "2023-05-02T18:04:04.559Z"
   },
   {
    "duration": 17,
    "start_time": "2023-05-02T18:04:27.278Z"
   },
   {
    "duration": 24,
    "start_time": "2023-05-02T18:05:33.773Z"
   },
   {
    "duration": 17,
    "start_time": "2023-05-02T18:05:54.523Z"
   },
   {
    "duration": 952,
    "start_time": "2023-05-02T18:07:17.602Z"
   },
   {
    "duration": 1498,
    "start_time": "2023-05-02T18:08:05.669Z"
   },
   {
    "duration": 56,
    "start_time": "2023-05-02T18:08:27.681Z"
   },
   {
    "duration": 95,
    "start_time": "2023-05-02T18:08:45.975Z"
   },
   {
    "duration": 407,
    "start_time": "2023-05-02T18:11:05.301Z"
   },
   {
    "duration": 19,
    "start_time": "2023-05-02T18:32:16.012Z"
   },
   {
    "duration": 19,
    "start_time": "2023-05-02T18:35:24.398Z"
   },
   {
    "duration": 30,
    "start_time": "2023-05-02T18:41:12.956Z"
   },
   {
    "duration": 27,
    "start_time": "2023-05-02T18:46:25.407Z"
   },
   {
    "duration": 39,
    "start_time": "2023-05-02T18:48:17.823Z"
   },
   {
    "duration": 23,
    "start_time": "2023-05-02T18:48:57.996Z"
   },
   {
    "duration": 27,
    "start_time": "2023-05-02T18:49:11.654Z"
   },
   {
    "duration": 26,
    "start_time": "2023-05-02T18:49:24.696Z"
   },
   {
    "duration": 26,
    "start_time": "2023-05-02T18:49:44.156Z"
   },
   {
    "duration": 22,
    "start_time": "2023-05-02T18:50:07.776Z"
   },
   {
    "duration": 27,
    "start_time": "2023-05-02T18:50:18.397Z"
   },
   {
    "duration": 23,
    "start_time": "2023-05-02T18:57:19.134Z"
   },
   {
    "duration": 27,
    "start_time": "2023-05-02T18:57:50.344Z"
   },
   {
    "duration": 31,
    "start_time": "2023-05-02T19:11:12.932Z"
   },
   {
    "duration": 23,
    "start_time": "2023-05-02T19:11:38.912Z"
   },
   {
    "duration": 26,
    "start_time": "2023-05-02T19:12:01.458Z"
   },
   {
    "duration": 24,
    "start_time": "2023-05-02T19:20:15.432Z"
   },
   {
    "duration": 39,
    "start_time": "2023-05-02T19:27:19.392Z"
   },
   {
    "duration": 31,
    "start_time": "2023-05-02T19:29:00.880Z"
   },
   {
    "duration": 26,
    "start_time": "2023-05-02T19:30:34.159Z"
   },
   {
    "duration": 24,
    "start_time": "2023-05-02T19:30:58.291Z"
   },
   {
    "duration": 28,
    "start_time": "2023-05-02T19:31:12.085Z"
   },
   {
    "duration": 25,
    "start_time": "2023-05-02T19:31:49.544Z"
   },
   {
    "duration": 26,
    "start_time": "2023-05-02T19:32:29.592Z"
   },
   {
    "duration": 786,
    "start_time": "2023-05-02T19:32:47.561Z"
   },
   {
    "duration": 28,
    "start_time": "2023-05-02T19:32:48.350Z"
   },
   {
    "duration": 386,
    "start_time": "2023-05-02T19:32:48.380Z"
   },
   {
    "duration": 23,
    "start_time": "2023-05-02T19:32:48.768Z"
   },
   {
    "duration": 755,
    "start_time": "2023-05-02T19:32:48.794Z"
   },
   {
    "duration": 23,
    "start_time": "2023-05-02T19:32:49.552Z"
   },
   {
    "duration": 25,
    "start_time": "2023-05-02T19:32:49.578Z"
   },
   {
    "duration": 3,
    "start_time": "2023-05-02T19:32:49.605Z"
   },
   {
    "duration": 34,
    "start_time": "2023-05-02T19:32:49.611Z"
   },
   {
    "duration": 604,
    "start_time": "2023-05-02T19:32:49.648Z"
   },
   {
    "duration": 32,
    "start_time": "2023-05-02T19:32:50.255Z"
   },
   {
    "duration": 15,
    "start_time": "2023-05-02T19:32:50.289Z"
   },
   {
    "duration": 44,
    "start_time": "2023-05-02T19:32:50.306Z"
   },
   {
    "duration": 23,
    "start_time": "2023-05-02T19:32:50.355Z"
   },
   {
    "duration": 15,
    "start_time": "2023-05-02T19:32:50.380Z"
   },
   {
    "duration": 46,
    "start_time": "2023-05-02T19:32:50.397Z"
   },
   {
    "duration": 182,
    "start_time": "2023-05-02T19:32:50.445Z"
   },
   {
    "duration": 154,
    "start_time": "2023-05-02T19:32:50.629Z"
   },
   {
    "duration": 506,
    "start_time": "2023-05-02T19:32:50.786Z"
   },
   {
    "duration": 355,
    "start_time": "2023-05-02T19:32:51.295Z"
   },
   {
    "duration": 2,
    "start_time": "2023-05-02T19:32:51.653Z"
   },
   {
    "duration": 376,
    "start_time": "2023-05-02T19:32:51.657Z"
   },
   {
    "duration": 49,
    "start_time": "2023-05-02T19:32:52.035Z"
   },
   {
    "duration": 27,
    "start_time": "2023-05-02T19:32:52.085Z"
   },
   {
    "duration": 10,
    "start_time": "2023-05-02T19:32:52.140Z"
   },
   {
    "duration": 47,
    "start_time": "2023-05-02T19:32:52.152Z"
   },
   {
    "duration": 47,
    "start_time": "2023-05-02T19:32:52.200Z"
   },
   {
    "duration": 336,
    "start_time": "2023-05-02T19:32:52.249Z"
   },
   {
    "duration": 17,
    "start_time": "2023-05-02T19:32:52.587Z"
   },
   {
    "duration": 1207,
    "start_time": "2023-05-02T19:32:52.606Z"
   },
   {
    "duration": 83,
    "start_time": "2023-05-02T19:32:53.815Z"
   },
   {
    "duration": 45,
    "start_time": "2023-05-02T19:32:53.900Z"
   },
   {
    "duration": 28,
    "start_time": "2023-05-02T19:33:04.020Z"
   },
   {
    "duration": 24,
    "start_time": "2023-05-02T19:34:17.899Z"
   },
   {
    "duration": 39,
    "start_time": "2023-05-02T19:34:36.719Z"
   },
   {
    "duration": 28,
    "start_time": "2023-05-02T19:35:49.064Z"
   },
   {
    "duration": 26,
    "start_time": "2023-05-02T19:36:14.432Z"
   },
   {
    "duration": 25,
    "start_time": "2023-05-02T19:40:14.820Z"
   },
   {
    "duration": 26,
    "start_time": "2023-05-02T19:40:24.720Z"
   },
   {
    "duration": 15,
    "start_time": "2023-05-02T19:41:02.722Z"
   },
   {
    "duration": 32,
    "start_time": "2023-05-02T19:42:22.293Z"
   },
   {
    "duration": 30,
    "start_time": "2023-05-02T19:42:52.593Z"
   },
   {
    "duration": 740,
    "start_time": "2023-05-02T19:42:58.500Z"
   },
   {
    "duration": 30,
    "start_time": "2023-05-02T19:42:59.242Z"
   },
   {
    "duration": 378,
    "start_time": "2023-05-02T19:42:59.274Z"
   },
   {
    "duration": 20,
    "start_time": "2023-05-02T19:42:59.655Z"
   },
   {
    "duration": 747,
    "start_time": "2023-05-02T19:42:59.678Z"
   },
   {
    "duration": 27,
    "start_time": "2023-05-02T19:43:00.427Z"
   },
   {
    "duration": 58,
    "start_time": "2023-05-02T19:43:00.456Z"
   },
   {
    "duration": 19,
    "start_time": "2023-05-02T19:43:00.516Z"
   },
   {
    "duration": 44,
    "start_time": "2023-05-02T19:43:00.537Z"
   },
   {
    "duration": 647,
    "start_time": "2023-05-02T19:43:00.584Z"
   },
   {
    "duration": 45,
    "start_time": "2023-05-02T19:43:01.233Z"
   },
   {
    "duration": 50,
    "start_time": "2023-05-02T19:43:01.280Z"
   },
   {
    "duration": 57,
    "start_time": "2023-05-02T19:43:01.332Z"
   },
   {
    "duration": 25,
    "start_time": "2023-05-02T19:43:01.392Z"
   },
   {
    "duration": 14,
    "start_time": "2023-05-02T19:43:01.419Z"
   },
   {
    "duration": 32,
    "start_time": "2023-05-02T19:43:01.435Z"
   },
   {
    "duration": 185,
    "start_time": "2023-05-02T19:43:01.469Z"
   },
   {
    "duration": 144,
    "start_time": "2023-05-02T19:43:01.656Z"
   },
   {
    "duration": 483,
    "start_time": "2023-05-02T19:43:01.802Z"
   },
   {
    "duration": 322,
    "start_time": "2023-05-02T19:43:02.287Z"
   },
   {
    "duration": 2,
    "start_time": "2023-05-02T19:43:02.611Z"
   },
   {
    "duration": 374,
    "start_time": "2023-05-02T19:43:02.614Z"
   },
   {
    "duration": 53,
    "start_time": "2023-05-02T19:43:02.989Z"
   },
   {
    "duration": 35,
    "start_time": "2023-05-02T19:43:03.044Z"
   },
   {
    "duration": 25,
    "start_time": "2023-05-02T19:43:03.082Z"
   },
   {
    "duration": 59,
    "start_time": "2023-05-02T19:43:03.110Z"
   },
   {
    "duration": 23,
    "start_time": "2023-05-02T19:43:03.171Z"
   },
   {
    "duration": 405,
    "start_time": "2023-05-02T19:43:03.195Z"
   },
   {
    "duration": 15,
    "start_time": "2023-05-02T19:43:03.602Z"
   },
   {
    "duration": 1146,
    "start_time": "2023-05-02T19:43:03.619Z"
   },
   {
    "duration": 76,
    "start_time": "2023-05-02T19:43:04.767Z"
   },
   {
    "duration": 29,
    "start_time": "2023-05-02T19:43:04.845Z"
   },
   {
    "duration": 15,
    "start_time": "2023-05-02T19:43:04.876Z"
   },
   {
    "duration": 43,
    "start_time": "2023-05-02T19:43:37.493Z"
   },
   {
    "duration": 47,
    "start_time": "2023-05-02T19:44:41.278Z"
   },
   {
    "duration": 41,
    "start_time": "2023-05-02T19:46:34.520Z"
   },
   {
    "duration": 28,
    "start_time": "2023-05-02T19:46:47.584Z"
   },
   {
    "duration": 741,
    "start_time": "2023-05-02T19:48:01.861Z"
   },
   {
    "duration": 26,
    "start_time": "2023-05-02T19:48:02.604Z"
   },
   {
    "duration": 357,
    "start_time": "2023-05-02T19:48:02.631Z"
   },
   {
    "duration": 20,
    "start_time": "2023-05-02T19:48:02.990Z"
   },
   {
    "duration": 697,
    "start_time": "2023-05-02T19:48:03.012Z"
   },
   {
    "duration": 30,
    "start_time": "2023-05-02T19:48:03.711Z"
   },
   {
    "duration": 33,
    "start_time": "2023-05-02T19:48:03.743Z"
   },
   {
    "duration": 23,
    "start_time": "2023-05-02T19:48:03.778Z"
   },
   {
    "duration": 26,
    "start_time": "2023-05-02T19:48:03.803Z"
   },
   {
    "duration": 572,
    "start_time": "2023-05-02T19:48:03.831Z"
   },
   {
    "duration": 37,
    "start_time": "2023-05-02T19:48:04.406Z"
   },
   {
    "duration": 14,
    "start_time": "2023-05-02T19:48:04.445Z"
   },
   {
    "duration": 30,
    "start_time": "2023-05-02T19:48:04.461Z"
   },
   {
    "duration": 32,
    "start_time": "2023-05-02T19:48:04.495Z"
   },
   {
    "duration": 24,
    "start_time": "2023-05-02T19:48:04.529Z"
   },
   {
    "duration": 9,
    "start_time": "2023-05-02T19:48:04.555Z"
   },
   {
    "duration": 201,
    "start_time": "2023-05-02T19:48:04.566Z"
   },
   {
    "duration": 150,
    "start_time": "2023-05-02T19:48:04.769Z"
   },
   {
    "duration": 484,
    "start_time": "2023-05-02T19:48:04.921Z"
   },
   {
    "duration": 317,
    "start_time": "2023-05-02T19:48:05.407Z"
   },
   {
    "duration": 2,
    "start_time": "2023-05-02T19:48:05.727Z"
   },
   {
    "duration": 375,
    "start_time": "2023-05-02T19:48:05.740Z"
   },
   {
    "duration": 57,
    "start_time": "2023-05-02T19:48:06.117Z"
   },
   {
    "duration": 26,
    "start_time": "2023-05-02T19:48:06.177Z"
   },
   {
    "duration": 39,
    "start_time": "2023-05-02T19:48:06.206Z"
   },
   {
    "duration": 62,
    "start_time": "2023-05-02T19:48:06.248Z"
   },
   {
    "duration": 50,
    "start_time": "2023-05-02T19:48:06.312Z"
   },
   {
    "duration": 413,
    "start_time": "2023-05-02T19:48:06.363Z"
   },
   {
    "duration": 18,
    "start_time": "2023-05-02T19:48:06.778Z"
   },
   {
    "duration": 1126,
    "start_time": "2023-05-02T19:48:06.798Z"
   },
   {
    "duration": 75,
    "start_time": "2023-05-02T19:48:07.927Z"
   },
   {
    "duration": 48,
    "start_time": "2023-05-02T19:48:08.005Z"
   },
   {
    "duration": 21,
    "start_time": "2023-05-02T19:48:08.055Z"
   },
   {
    "duration": 31,
    "start_time": "2023-05-02T19:48:08.078Z"
   },
   {
    "duration": 29,
    "start_time": "2023-05-02T19:48:15.456Z"
   },
   {
    "duration": 25,
    "start_time": "2023-05-02T19:48:31.401Z"
   },
   {
    "duration": 44,
    "start_time": "2023-05-02T19:49:12.881Z"
   },
   {
    "duration": 38,
    "start_time": "2023-05-02T19:51:24.170Z"
   },
   {
    "duration": 24,
    "start_time": "2023-05-02T19:51:34.475Z"
   },
   {
    "duration": 32,
    "start_time": "2023-05-02T19:53:02.162Z"
   },
   {
    "duration": 280,
    "start_time": "2023-05-02T19:56:50.241Z"
   },
   {
    "duration": 34,
    "start_time": "2023-05-02T19:57:06.341Z"
   },
   {
    "duration": 233,
    "start_time": "2023-05-02T19:57:35.613Z"
   },
   {
    "duration": 212,
    "start_time": "2023-05-02T19:57:54.580Z"
   },
   {
    "duration": 31,
    "start_time": "2023-05-02T19:58:09.584Z"
   },
   {
    "duration": 69,
    "start_time": "2023-05-02T20:00:29.135Z"
   },
   {
    "duration": 26,
    "start_time": "2023-05-02T20:00:29.206Z"
   },
   {
    "duration": 318,
    "start_time": "2023-05-02T20:00:29.234Z"
   },
   {
    "duration": 18,
    "start_time": "2023-05-02T20:00:29.554Z"
   },
   {
    "duration": 735,
    "start_time": "2023-05-02T20:00:29.574Z"
   },
   {
    "duration": 17,
    "start_time": "2023-05-02T20:00:30.311Z"
   },
   {
    "duration": 59,
    "start_time": "2023-05-02T20:00:30.341Z"
   },
   {
    "duration": 22,
    "start_time": "2023-05-02T20:00:30.402Z"
   },
   {
    "duration": 29,
    "start_time": "2023-05-02T20:00:30.426Z"
   },
   {
    "duration": 586,
    "start_time": "2023-05-02T20:00:30.458Z"
   },
   {
    "duration": 30,
    "start_time": "2023-05-02T20:00:31.046Z"
   },
   {
    "duration": 13,
    "start_time": "2023-05-02T20:00:31.078Z"
   },
   {
    "duration": 19,
    "start_time": "2023-05-02T20:00:31.093Z"
   },
   {
    "duration": 24,
    "start_time": "2023-05-02T20:00:31.140Z"
   },
   {
    "duration": 26,
    "start_time": "2023-05-02T20:00:31.166Z"
   },
   {
    "duration": 11,
    "start_time": "2023-05-02T20:00:31.194Z"
   },
   {
    "duration": 179,
    "start_time": "2023-05-02T20:00:31.207Z"
   },
   {
    "duration": 141,
    "start_time": "2023-05-02T20:00:31.387Z"
   },
   {
    "duration": 464,
    "start_time": "2023-05-02T20:00:31.540Z"
   },
   {
    "duration": 322,
    "start_time": "2023-05-02T20:00:32.005Z"
   },
   {
    "duration": 3,
    "start_time": "2023-05-02T20:00:32.329Z"
   },
   {
    "duration": 387,
    "start_time": "2023-05-02T20:00:32.340Z"
   },
   {
    "duration": 47,
    "start_time": "2023-05-02T20:00:32.729Z"
   },
   {
    "duration": 24,
    "start_time": "2023-05-02T20:00:32.778Z"
   },
   {
    "duration": 9,
    "start_time": "2023-05-02T20:00:32.803Z"
   },
   {
    "duration": 71,
    "start_time": "2023-05-02T20:00:32.813Z"
   },
   {
    "duration": 21,
    "start_time": "2023-05-02T20:00:32.886Z"
   },
   {
    "duration": 333,
    "start_time": "2023-05-02T20:00:32.911Z"
   },
   {
    "duration": 18,
    "start_time": "2023-05-02T20:00:33.247Z"
   },
   {
    "duration": 1079,
    "start_time": "2023-05-02T20:00:33.267Z"
   },
   {
    "duration": 63,
    "start_time": "2023-05-02T20:00:34.348Z"
   },
   {
    "duration": 48,
    "start_time": "2023-05-02T20:00:34.413Z"
   },
   {
    "duration": 13,
    "start_time": "2023-05-02T20:00:34.463Z"
   },
   {
    "duration": 28,
    "start_time": "2023-05-02T20:00:56.440Z"
   },
   {
    "duration": 9,
    "start_time": "2023-05-02T20:01:21.025Z"
   },
   {
    "duration": 50,
    "start_time": "2023-05-02T20:01:41.517Z"
   },
   {
    "duration": 28,
    "start_time": "2023-05-02T20:01:54.151Z"
   },
   {
    "duration": 24,
    "start_time": "2023-05-02T20:06:06.548Z"
   },
   {
    "duration": 24,
    "start_time": "2023-05-02T20:11:43.720Z"
   },
   {
    "duration": 693,
    "start_time": "2023-05-02T20:11:58.980Z"
   },
   {
    "duration": 25,
    "start_time": "2023-05-02T20:11:59.676Z"
   },
   {
    "duration": 361,
    "start_time": "2023-05-02T20:11:59.703Z"
   },
   {
    "duration": 19,
    "start_time": "2023-05-02T20:12:00.066Z"
   },
   {
    "duration": 750,
    "start_time": "2023-05-02T20:12:00.088Z"
   },
   {
    "duration": 16,
    "start_time": "2023-05-02T20:12:00.841Z"
   },
   {
    "duration": 113,
    "start_time": "2023-05-02T20:12:00.859Z"
   },
   {
    "duration": 85,
    "start_time": "2023-05-02T20:12:00.974Z"
   },
   {
    "duration": 63,
    "start_time": "2023-05-02T20:12:01.061Z"
   },
   {
    "duration": 584,
    "start_time": "2023-05-02T20:12:01.126Z"
   },
   {
    "duration": 34,
    "start_time": "2023-05-02T20:12:01.712Z"
   },
   {
    "duration": 71,
    "start_time": "2023-05-02T20:12:01.748Z"
   },
   {
    "duration": 22,
    "start_time": "2023-05-02T20:12:01.821Z"
   },
   {
    "duration": 38,
    "start_time": "2023-05-02T20:12:01.846Z"
   },
   {
    "duration": 14,
    "start_time": "2023-05-02T20:12:01.886Z"
   },
   {
    "duration": 8,
    "start_time": "2023-05-02T20:12:01.902Z"
   },
   {
    "duration": 172,
    "start_time": "2023-05-02T20:12:01.912Z"
   },
   {
    "duration": 146,
    "start_time": "2023-05-02T20:12:02.086Z"
   },
   {
    "duration": 462,
    "start_time": "2023-05-02T20:12:02.233Z"
   },
   {
    "duration": 319,
    "start_time": "2023-05-02T20:12:02.697Z"
   },
   {
    "duration": 2,
    "start_time": "2023-05-02T20:12:03.018Z"
   },
   {
    "duration": 364,
    "start_time": "2023-05-02T20:12:03.022Z"
   },
   {
    "duration": 53,
    "start_time": "2023-05-02T20:12:03.388Z"
   },
   {
    "duration": 22,
    "start_time": "2023-05-02T20:12:03.443Z"
   },
   {
    "duration": 10,
    "start_time": "2023-05-02T20:12:03.466Z"
   },
   {
    "duration": 65,
    "start_time": "2023-05-02T20:12:03.478Z"
   },
   {
    "duration": 19,
    "start_time": "2023-05-02T20:12:03.545Z"
   },
   {
    "duration": 331,
    "start_time": "2023-05-02T20:12:03.566Z"
   },
   {
    "duration": 15,
    "start_time": "2023-05-02T20:12:03.899Z"
   },
   {
    "duration": 1113,
    "start_time": "2023-05-02T20:12:03.916Z"
   },
   {
    "duration": 68,
    "start_time": "2023-05-02T20:12:05.031Z"
   },
   {
    "duration": 32,
    "start_time": "2023-05-02T20:12:05.100Z"
   },
   {
    "duration": 72,
    "start_time": "2023-05-02T20:12:05.141Z"
   },
   {
    "duration": 25,
    "start_time": "2023-05-02T20:12:24.701Z"
   },
   {
    "duration": 10,
    "start_time": "2023-05-02T20:13:57.612Z"
   },
   {
    "duration": 26,
    "start_time": "2023-05-02T20:14:17.168Z"
   },
   {
    "duration": 25,
    "start_time": "2023-05-02T20:14:27.879Z"
   },
   {
    "duration": 363,
    "start_time": "2023-05-02T20:15:37.481Z"
   },
   {
    "duration": 25,
    "start_time": "2023-05-02T20:15:52.889Z"
   },
   {
    "duration": 24,
    "start_time": "2023-05-02T20:16:13.783Z"
   },
   {
    "duration": 23,
    "start_time": "2023-05-02T20:16:20.160Z"
   },
   {
    "duration": 12,
    "start_time": "2023-05-02T20:16:25.659Z"
   },
   {
    "duration": 1225,
    "start_time": "2023-05-03T07:46:59.811Z"
   },
   {
    "duration": 22,
    "start_time": "2023-05-03T07:47:01.038Z"
   },
   {
    "duration": 293,
    "start_time": "2023-05-03T07:47:01.061Z"
   },
   {
    "duration": 20,
    "start_time": "2023-05-03T07:47:01.357Z"
   },
   {
    "duration": 580,
    "start_time": "2023-05-03T07:47:01.379Z"
   },
   {
    "duration": 22,
    "start_time": "2023-05-03T07:47:01.961Z"
   },
   {
    "duration": 54,
    "start_time": "2023-05-03T07:47:01.984Z"
   },
   {
    "duration": 5,
    "start_time": "2023-05-03T07:47:02.040Z"
   },
   {
    "duration": 48,
    "start_time": "2023-05-03T07:47:02.047Z"
   },
   {
    "duration": 448,
    "start_time": "2023-05-03T07:47:02.098Z"
   },
   {
    "duration": 34,
    "start_time": "2023-05-03T07:47:02.549Z"
   },
   {
    "duration": 12,
    "start_time": "2023-05-03T07:47:02.584Z"
   },
   {
    "duration": 12,
    "start_time": "2023-05-03T07:47:02.597Z"
   },
   {
    "duration": 17,
    "start_time": "2023-05-03T07:47:02.610Z"
   },
   {
    "duration": 46,
    "start_time": "2023-05-03T07:47:02.629Z"
   },
   {
    "duration": 7,
    "start_time": "2023-05-03T07:47:02.677Z"
   },
   {
    "duration": 143,
    "start_time": "2023-05-03T07:47:02.686Z"
   },
   {
    "duration": 151,
    "start_time": "2023-05-03T07:47:02.830Z"
   },
   {
    "duration": 381,
    "start_time": "2023-05-03T07:47:02.983Z"
   },
   {
    "duration": 257,
    "start_time": "2023-05-03T07:47:03.366Z"
   },
   {
    "duration": 3,
    "start_time": "2023-05-03T07:47:03.625Z"
   },
   {
    "duration": 269,
    "start_time": "2023-05-03T07:47:03.629Z"
   },
   {
    "duration": 44,
    "start_time": "2023-05-03T07:47:03.899Z"
   },
   {
    "duration": 42,
    "start_time": "2023-05-03T07:47:03.945Z"
   },
   {
    "duration": 9,
    "start_time": "2023-05-03T07:47:03.989Z"
   },
   {
    "duration": 55,
    "start_time": "2023-05-03T07:47:04.000Z"
   },
   {
    "duration": 20,
    "start_time": "2023-05-03T07:47:04.071Z"
   },
   {
    "duration": 254,
    "start_time": "2023-05-03T07:47:04.095Z"
   },
   {
    "duration": 23,
    "start_time": "2023-05-03T07:47:04.351Z"
   },
   {
    "duration": 826,
    "start_time": "2023-05-03T07:47:04.375Z"
   },
   {
    "duration": 55,
    "start_time": "2023-05-03T07:47:05.202Z"
   },
   {
    "duration": 18,
    "start_time": "2023-05-03T07:47:05.272Z"
   },
   {
    "duration": 17,
    "start_time": "2023-05-03T07:47:05.292Z"
   },
   {
    "duration": 26,
    "start_time": "2023-05-03T07:48:36.640Z"
   },
   {
    "duration": 334,
    "start_time": "2023-05-03T07:49:06.288Z"
   },
   {
    "duration": 26,
    "start_time": "2023-05-03T07:49:21.657Z"
   },
   {
    "duration": 751,
    "start_time": "2023-05-03T07:49:33.917Z"
   },
   {
    "duration": 29,
    "start_time": "2023-05-03T07:49:34.671Z"
   },
   {
    "duration": 396,
    "start_time": "2023-05-03T07:49:34.702Z"
   },
   {
    "duration": 20,
    "start_time": "2023-05-03T07:49:35.100Z"
   },
   {
    "duration": 633,
    "start_time": "2023-05-03T07:49:35.121Z"
   },
   {
    "duration": 23,
    "start_time": "2023-05-03T07:49:35.756Z"
   },
   {
    "duration": 38,
    "start_time": "2023-05-03T07:49:35.781Z"
   },
   {
    "duration": 13,
    "start_time": "2023-05-03T07:49:35.822Z"
   },
   {
    "duration": 21,
    "start_time": "2023-05-03T07:49:35.837Z"
   },
   {
    "duration": 609,
    "start_time": "2023-05-03T07:49:35.861Z"
   },
   {
    "duration": 34,
    "start_time": "2023-05-03T07:49:36.472Z"
   },
   {
    "duration": 16,
    "start_time": "2023-05-03T07:49:36.508Z"
   },
   {
    "duration": 42,
    "start_time": "2023-05-03T07:49:36.526Z"
   },
   {
    "duration": 54,
    "start_time": "2023-05-03T07:49:36.570Z"
   },
   {
    "duration": 15,
    "start_time": "2023-05-03T07:49:36.626Z"
   },
   {
    "duration": 27,
    "start_time": "2023-05-03T07:49:36.642Z"
   },
   {
    "duration": 184,
    "start_time": "2023-05-03T07:49:36.677Z"
   },
   {
    "duration": 162,
    "start_time": "2023-05-03T07:49:36.864Z"
   },
   {
    "duration": 519,
    "start_time": "2023-05-03T07:49:37.027Z"
   },
   {
    "duration": 361,
    "start_time": "2023-05-03T07:49:37.548Z"
   },
   {
    "duration": 3,
    "start_time": "2023-05-03T07:49:37.911Z"
   },
   {
    "duration": 372,
    "start_time": "2023-05-03T07:49:37.916Z"
   },
   {
    "duration": 48,
    "start_time": "2023-05-03T07:49:38.290Z"
   },
   {
    "duration": 45,
    "start_time": "2023-05-03T07:49:38.341Z"
   },
   {
    "duration": 12,
    "start_time": "2023-05-03T07:49:38.388Z"
   },
   {
    "duration": 62,
    "start_time": "2023-05-03T07:49:38.401Z"
   },
   {
    "duration": 25,
    "start_time": "2023-05-03T07:49:38.465Z"
   },
   {
    "duration": 404,
    "start_time": "2023-05-03T07:49:38.494Z"
   },
   {
    "duration": 20,
    "start_time": "2023-05-03T07:49:38.900Z"
   },
   {
    "duration": 1260,
    "start_time": "2023-05-03T07:49:38.922Z"
   },
   {
    "duration": 68,
    "start_time": "2023-05-03T07:49:40.183Z"
   },
   {
    "duration": 45,
    "start_time": "2023-05-03T07:49:40.253Z"
   },
   {
    "duration": 1831,
    "start_time": "2023-05-03T07:49:40.299Z"
   },
   {
    "duration": 24,
    "start_time": "2023-05-03T07:50:13.240Z"
   },
   {
    "duration": 15,
    "start_time": "2023-05-03T07:50:41.376Z"
   },
   {
    "duration": 25,
    "start_time": "2023-05-03T07:51:24.883Z"
   },
   {
    "duration": 25,
    "start_time": "2023-05-03T07:51:37.891Z"
   },
   {
    "duration": 15,
    "start_time": "2023-05-03T07:51:56.017Z"
   },
   {
    "duration": 23,
    "start_time": "2023-05-03T07:52:11.992Z"
   },
   {
    "duration": 18,
    "start_time": "2023-05-03T07:52:53.016Z"
   },
   {
    "duration": 24,
    "start_time": "2023-05-03T07:53:21.521Z"
   },
   {
    "duration": 850,
    "start_time": "2023-05-03T07:53:38.896Z"
   },
   {
    "duration": 32,
    "start_time": "2023-05-03T07:53:39.748Z"
   },
   {
    "duration": 435,
    "start_time": "2023-05-03T07:53:39.782Z"
   },
   {
    "duration": 23,
    "start_time": "2023-05-03T07:53:40.221Z"
   },
   {
    "duration": 772,
    "start_time": "2023-05-03T07:53:40.246Z"
   },
   {
    "duration": 17,
    "start_time": "2023-05-03T07:53:41.019Z"
   },
   {
    "duration": 39,
    "start_time": "2023-05-03T07:53:41.038Z"
   },
   {
    "duration": 3,
    "start_time": "2023-05-03T07:53:41.079Z"
   },
   {
    "duration": 38,
    "start_time": "2023-05-03T07:53:41.083Z"
   },
   {
    "duration": 678,
    "start_time": "2023-05-03T07:53:41.122Z"
   },
   {
    "duration": 36,
    "start_time": "2023-05-03T07:53:41.802Z"
   },
   {
    "duration": 34,
    "start_time": "2023-05-03T07:53:41.840Z"
   },
   {
    "duration": 15,
    "start_time": "2023-05-03T07:53:41.876Z"
   },
   {
    "duration": 25,
    "start_time": "2023-05-03T07:53:41.894Z"
   },
   {
    "duration": 18,
    "start_time": "2023-05-03T07:53:41.921Z"
   },
   {
    "duration": 40,
    "start_time": "2023-05-03T07:53:41.940Z"
   },
   {
    "duration": 199,
    "start_time": "2023-05-03T07:53:41.982Z"
   },
   {
    "duration": 156,
    "start_time": "2023-05-03T07:53:42.183Z"
   },
   {
    "duration": 536,
    "start_time": "2023-05-03T07:53:42.341Z"
   },
   {
    "duration": 395,
    "start_time": "2023-05-03T07:53:42.879Z"
   },
   {
    "duration": 3,
    "start_time": "2023-05-03T07:53:43.276Z"
   },
   {
    "duration": 391,
    "start_time": "2023-05-03T07:53:43.281Z"
   },
   {
    "duration": 58,
    "start_time": "2023-05-03T07:53:43.674Z"
   },
   {
    "duration": 44,
    "start_time": "2023-05-03T07:53:43.734Z"
   },
   {
    "duration": 12,
    "start_time": "2023-05-03T07:53:43.780Z"
   },
   {
    "duration": 77,
    "start_time": "2023-05-03T07:53:43.795Z"
   },
   {
    "duration": 26,
    "start_time": "2023-05-03T07:53:43.874Z"
   },
   {
    "duration": 382,
    "start_time": "2023-05-03T07:53:43.902Z"
   },
   {
    "duration": 20,
    "start_time": "2023-05-03T07:53:44.286Z"
   },
   {
    "duration": 1321,
    "start_time": "2023-05-03T07:53:44.310Z"
   },
   {
    "duration": 75,
    "start_time": "2023-05-03T07:53:45.633Z"
   },
   {
    "duration": 27,
    "start_time": "2023-05-03T07:53:45.710Z"
   },
   {
    "duration": 1250,
    "start_time": "2023-05-03T07:53:45.739Z"
   },
   {
    "duration": 18,
    "start_time": "2023-05-03T07:57:35.335Z"
   },
   {
    "duration": 17,
    "start_time": "2023-05-03T07:57:40.711Z"
   },
   {
    "duration": 1073,
    "start_time": "2023-05-03T17:13:17.443Z"
   },
   {
    "duration": 27,
    "start_time": "2023-05-03T17:13:18.519Z"
   },
   {
    "duration": 365,
    "start_time": "2023-05-03T17:13:18.548Z"
   },
   {
    "duration": 18,
    "start_time": "2023-05-03T17:13:18.915Z"
   },
   {
    "duration": 666,
    "start_time": "2023-05-03T17:13:18.935Z"
   },
   {
    "duration": 20,
    "start_time": "2023-05-03T17:13:19.603Z"
   },
   {
    "duration": 40,
    "start_time": "2023-05-03T17:13:19.625Z"
   },
   {
    "duration": 3,
    "start_time": "2023-05-03T17:13:19.667Z"
   },
   {
    "duration": 9,
    "start_time": "2023-05-03T17:13:19.672Z"
   },
   {
    "duration": 581,
    "start_time": "2023-05-03T17:13:19.683Z"
   },
   {
    "duration": 3,
    "start_time": "2023-05-03T17:13:20.266Z"
   },
   {
    "duration": 23,
    "start_time": "2023-05-03T17:13:20.271Z"
   },
   {
    "duration": 12,
    "start_time": "2023-05-03T17:13:20.296Z"
   },
   {
    "duration": 43,
    "start_time": "2023-05-03T17:13:20.312Z"
   },
   {
    "duration": 14,
    "start_time": "2023-05-03T17:13:20.358Z"
   },
   {
    "duration": 6,
    "start_time": "2023-05-03T17:13:20.374Z"
   },
   {
    "duration": 169,
    "start_time": "2023-05-03T17:13:20.382Z"
   },
   {
    "duration": 140,
    "start_time": "2023-05-03T17:13:20.553Z"
   },
   {
    "duration": 478,
    "start_time": "2023-05-03T17:13:20.694Z"
   },
   {
    "duration": 309,
    "start_time": "2023-05-03T17:13:21.174Z"
   },
   {
    "duration": 3,
    "start_time": "2023-05-03T17:13:21.485Z"
   },
   {
    "duration": 337,
    "start_time": "2023-05-03T17:13:21.489Z"
   },
   {
    "duration": 51,
    "start_time": "2023-05-03T17:13:21.827Z"
   },
   {
    "duration": 25,
    "start_time": "2023-05-03T17:13:21.879Z"
   },
   {
    "duration": 10,
    "start_time": "2023-05-03T17:13:21.905Z"
   },
   {
    "duration": 73,
    "start_time": "2023-05-03T17:13:21.917Z"
   },
   {
    "duration": 21,
    "start_time": "2023-05-03T17:13:21.991Z"
   },
   {
    "duration": 321,
    "start_time": "2023-05-03T17:13:22.013Z"
   },
   {
    "duration": 24,
    "start_time": "2023-05-03T17:13:22.336Z"
   },
   {
    "duration": 1041,
    "start_time": "2023-05-03T17:13:22.361Z"
   },
   {
    "duration": 72,
    "start_time": "2023-05-03T17:13:23.403Z"
   },
   {
    "duration": 20,
    "start_time": "2023-05-03T17:13:23.476Z"
   },
   {
    "duration": 1332,
    "start_time": "2023-05-03T17:13:23.498Z"
   },
   {
    "duration": 170,
    "start_time": "2023-05-03T17:29:06.251Z"
   },
   {
    "duration": 155,
    "start_time": "2023-05-03T17:30:20.982Z"
   },
   {
    "duration": 161,
    "start_time": "2023-05-03T17:30:32.118Z"
   },
   {
    "duration": 24,
    "start_time": "2023-05-03T17:35:58.453Z"
   },
   {
    "duration": 24,
    "start_time": "2023-05-03T17:36:30.616Z"
   },
   {
    "duration": 773,
    "start_time": "2023-05-03T17:36:46.942Z"
   },
   {
    "duration": 30,
    "start_time": "2023-05-03T17:36:47.717Z"
   },
   {
    "duration": 372,
    "start_time": "2023-05-03T17:36:47.748Z"
   },
   {
    "duration": 19,
    "start_time": "2023-05-03T17:36:48.122Z"
   },
   {
    "duration": 672,
    "start_time": "2023-05-03T17:36:48.159Z"
   },
   {
    "duration": 26,
    "start_time": "2023-05-03T17:36:48.833Z"
   },
   {
    "duration": 15,
    "start_time": "2023-05-03T17:36:48.861Z"
   },
   {
    "duration": 3,
    "start_time": "2023-05-03T17:36:48.877Z"
   },
   {
    "duration": 12,
    "start_time": "2023-05-03T17:36:48.881Z"
   },
   {
    "duration": 579,
    "start_time": "2023-05-03T17:36:48.895Z"
   },
   {
    "duration": 2,
    "start_time": "2023-05-03T17:36:49.476Z"
   },
   {
    "duration": 14,
    "start_time": "2023-05-03T17:36:49.480Z"
   },
   {
    "duration": 11,
    "start_time": "2023-05-03T17:36:49.496Z"
   },
   {
    "duration": 55,
    "start_time": "2023-05-03T17:36:49.510Z"
   },
   {
    "duration": 14,
    "start_time": "2023-05-03T17:36:49.567Z"
   },
   {
    "duration": 7,
    "start_time": "2023-05-03T17:36:49.583Z"
   },
   {
    "duration": 232,
    "start_time": "2023-05-03T17:36:49.592Z"
   },
   {
    "duration": 195,
    "start_time": "2023-05-03T17:36:49.826Z"
   },
   {
    "duration": 475,
    "start_time": "2023-05-03T17:36:50.022Z"
   },
   {
    "duration": 334,
    "start_time": "2023-05-03T17:36:50.499Z"
   },
   {
    "duration": 3,
    "start_time": "2023-05-03T17:36:50.834Z"
   },
   {
    "duration": 339,
    "start_time": "2023-05-03T17:36:50.839Z"
   },
   {
    "duration": 58,
    "start_time": "2023-05-03T17:36:51.179Z"
   },
   {
    "duration": 53,
    "start_time": "2023-05-03T17:36:51.239Z"
   },
   {
    "duration": 14,
    "start_time": "2023-05-03T17:36:51.294Z"
   },
   {
    "duration": 63,
    "start_time": "2023-05-03T17:36:51.309Z"
   },
   {
    "duration": 27,
    "start_time": "2023-05-03T17:36:51.374Z"
   },
   {
    "duration": 384,
    "start_time": "2023-05-03T17:36:51.403Z"
   },
   {
    "duration": 21,
    "start_time": "2023-05-03T17:36:51.789Z"
   },
   {
    "duration": 1056,
    "start_time": "2023-05-03T17:36:51.812Z"
   },
   {
    "duration": 60,
    "start_time": "2023-05-03T17:36:52.870Z"
   },
   {
    "duration": 116,
    "start_time": "2023-05-03T17:36:52.932Z"
   },
   {
    "duration": 0,
    "start_time": "2023-05-03T17:36:53.050Z"
   },
   {
    "duration": 26,
    "start_time": "2023-05-03T17:37:55.941Z"
   },
   {
    "duration": 24,
    "start_time": "2023-05-03T17:38:29.901Z"
   },
   {
    "duration": 9,
    "start_time": "2023-05-03T17:38:43.705Z"
   },
   {
    "duration": 10,
    "start_time": "2023-05-03T17:38:55.834Z"
   },
   {
    "duration": 27,
    "start_time": "2023-05-03T17:39:04.504Z"
   },
   {
    "duration": 20,
    "start_time": "2023-05-03T17:39:18.600Z"
   },
   {
    "duration": 9,
    "start_time": "2023-05-03T17:39:26.941Z"
   },
   {
    "duration": 12,
    "start_time": "2023-05-03T17:39:33.116Z"
   },
   {
    "duration": 27,
    "start_time": "2023-05-03T17:40:24.762Z"
   },
   {
    "duration": 19,
    "start_time": "2023-05-03T17:44:44.214Z"
   },
   {
    "duration": 26,
    "start_time": "2023-05-03T17:45:47.881Z"
   },
   {
    "duration": 28,
    "start_time": "2023-05-03T17:46:06.753Z"
   },
   {
    "duration": 25,
    "start_time": "2023-05-03T17:48:11.613Z"
   },
   {
    "duration": 22,
    "start_time": "2023-05-03T17:48:32.304Z"
   },
   {
    "duration": 22,
    "start_time": "2023-05-03T17:49:43.949Z"
   },
   {
    "duration": 20,
    "start_time": "2023-05-03T17:49:52.289Z"
   },
   {
    "duration": 306,
    "start_time": "2023-05-03T17:58:57.276Z"
   },
   {
    "duration": 53,
    "start_time": "2023-05-03T17:59:54.923Z"
   },
   {
    "duration": 38,
    "start_time": "2023-05-03T18:00:23.264Z"
   },
   {
    "duration": 42,
    "start_time": "2023-05-03T18:01:45.174Z"
   },
   {
    "duration": 42,
    "start_time": "2023-05-03T18:02:56.071Z"
   },
   {
    "duration": 75,
    "start_time": "2023-05-03T18:03:19.590Z"
   },
   {
    "duration": 67,
    "start_time": "2023-05-03T18:03:26.237Z"
   },
   {
    "duration": 61,
    "start_time": "2023-05-03T18:03:32.005Z"
   },
   {
    "duration": 709,
    "start_time": "2023-05-03T18:03:52.414Z"
   },
   {
    "duration": 23,
    "start_time": "2023-05-03T18:03:53.125Z"
   },
   {
    "duration": 316,
    "start_time": "2023-05-03T18:03:53.150Z"
   },
   {
    "duration": 20,
    "start_time": "2023-05-03T18:03:53.468Z"
   },
   {
    "duration": 669,
    "start_time": "2023-05-03T18:03:53.491Z"
   },
   {
    "duration": 15,
    "start_time": "2023-05-03T18:03:54.162Z"
   },
   {
    "duration": 15,
    "start_time": "2023-05-03T18:03:54.178Z"
   },
   {
    "duration": 4,
    "start_time": "2023-05-03T18:03:54.195Z"
   },
   {
    "duration": 18,
    "start_time": "2023-05-03T18:03:54.201Z"
   },
   {
    "duration": 524,
    "start_time": "2023-05-03T18:03:54.221Z"
   },
   {
    "duration": 13,
    "start_time": "2023-05-03T18:03:54.747Z"
   },
   {
    "duration": 24,
    "start_time": "2023-05-03T18:03:54.762Z"
   },
   {
    "duration": 15,
    "start_time": "2023-05-03T18:03:54.787Z"
   },
   {
    "duration": 21,
    "start_time": "2023-05-03T18:03:54.806Z"
   },
   {
    "duration": 39,
    "start_time": "2023-05-03T18:03:54.829Z"
   },
   {
    "duration": 9,
    "start_time": "2023-05-03T18:03:54.870Z"
   },
   {
    "duration": 169,
    "start_time": "2023-05-03T18:03:54.881Z"
   },
   {
    "duration": 130,
    "start_time": "2023-05-03T18:03:55.051Z"
   },
   {
    "duration": 460,
    "start_time": "2023-05-03T18:03:55.182Z"
   },
   {
    "duration": 308,
    "start_time": "2023-05-03T18:03:55.644Z"
   },
   {
    "duration": 5,
    "start_time": "2023-05-03T18:03:55.954Z"
   },
   {
    "duration": 327,
    "start_time": "2023-05-03T18:03:55.961Z"
   },
   {
    "duration": 41,
    "start_time": "2023-05-03T18:03:56.290Z"
   },
   {
    "duration": 42,
    "start_time": "2023-05-03T18:03:56.333Z"
   },
   {
    "duration": 8,
    "start_time": "2023-05-03T18:03:56.377Z"
   },
   {
    "duration": 42,
    "start_time": "2023-05-03T18:03:56.387Z"
   },
   {
    "duration": 42,
    "start_time": "2023-05-03T18:03:56.431Z"
   },
   {
    "duration": 314,
    "start_time": "2023-05-03T18:03:56.475Z"
   },
   {
    "duration": 16,
    "start_time": "2023-05-03T18:03:56.790Z"
   },
   {
    "duration": 1054,
    "start_time": "2023-05-03T18:03:56.808Z"
   },
   {
    "duration": 60,
    "start_time": "2023-05-03T18:03:57.864Z"
   },
   {
    "duration": 56,
    "start_time": "2023-05-03T18:03:57.926Z"
   },
   {
    "duration": 17,
    "start_time": "2023-05-03T18:03:57.983Z"
   },
   {
    "duration": 49,
    "start_time": "2023-05-03T18:06:38.081Z"
   },
   {
    "duration": 700,
    "start_time": "2023-05-03T18:06:51.605Z"
   },
   {
    "duration": 26,
    "start_time": "2023-05-03T18:06:52.307Z"
   },
   {
    "duration": 354,
    "start_time": "2023-05-03T18:06:52.335Z"
   },
   {
    "duration": 18,
    "start_time": "2023-05-03T18:06:52.691Z"
   },
   {
    "duration": 665,
    "start_time": "2023-05-03T18:06:52.712Z"
   },
   {
    "duration": 15,
    "start_time": "2023-05-03T18:06:53.380Z"
   },
   {
    "duration": 61,
    "start_time": "2023-05-03T18:06:53.396Z"
   },
   {
    "duration": 44,
    "start_time": "2023-05-03T18:06:53.459Z"
   },
   {
    "duration": 27,
    "start_time": "2023-05-03T18:06:53.504Z"
   },
   {
    "duration": 552,
    "start_time": "2023-05-03T18:06:53.537Z"
   },
   {
    "duration": 3,
    "start_time": "2023-05-03T18:06:54.091Z"
   },
   {
    "duration": 30,
    "start_time": "2023-05-03T18:06:54.095Z"
   },
   {
    "duration": 16,
    "start_time": "2023-05-03T18:06:54.128Z"
   },
   {
    "duration": 26,
    "start_time": "2023-05-03T18:06:54.159Z"
   },
   {
    "duration": 19,
    "start_time": "2023-05-03T18:06:54.187Z"
   },
   {
    "duration": 10,
    "start_time": "2023-05-03T18:06:54.208Z"
   },
   {
    "duration": 183,
    "start_time": "2023-05-03T18:06:54.219Z"
   },
   {
    "duration": 148,
    "start_time": "2023-05-03T18:06:54.404Z"
   },
   {
    "duration": 540,
    "start_time": "2023-05-03T18:06:54.553Z"
   },
   {
    "duration": 335,
    "start_time": "2023-05-03T18:06:55.095Z"
   },
   {
    "duration": 2,
    "start_time": "2023-05-03T18:06:55.432Z"
   },
   {
    "duration": 399,
    "start_time": "2023-05-03T18:06:55.436Z"
   },
   {
    "duration": 52,
    "start_time": "2023-05-03T18:06:55.837Z"
   },
   {
    "duration": 22,
    "start_time": "2023-05-03T18:06:55.891Z"
   },
   {
    "duration": 9,
    "start_time": "2023-05-03T18:06:55.915Z"
   },
   {
    "duration": 70,
    "start_time": "2023-05-03T18:06:55.925Z"
   },
   {
    "duration": 22,
    "start_time": "2023-05-03T18:06:55.997Z"
   },
   {
    "duration": 346,
    "start_time": "2023-05-03T18:06:56.020Z"
   },
   {
    "duration": 15,
    "start_time": "2023-05-03T18:06:56.368Z"
   },
   {
    "duration": 1058,
    "start_time": "2023-05-03T18:06:56.385Z"
   },
   {
    "duration": 68,
    "start_time": "2023-05-03T18:06:57.445Z"
   },
   {
    "duration": 49,
    "start_time": "2023-05-03T18:06:57.514Z"
   },
   {
    "duration": 14,
    "start_time": "2023-05-03T18:06:57.564Z"
   },
   {
    "duration": 11,
    "start_time": "2023-05-03T18:07:54.606Z"
   },
   {
    "duration": 595,
    "start_time": "2023-05-03T18:27:39.493Z"
   },
   {
    "duration": 60,
    "start_time": "2023-05-03T18:30:28.478Z"
   },
   {
    "duration": 73,
    "start_time": "2023-05-03T18:30:46.944Z"
   },
   {
    "duration": 104,
    "start_time": "2023-05-03T18:30:50.529Z"
   },
   {
    "duration": 7,
    "start_time": "2023-05-03T18:31:04.272Z"
   },
   {
    "duration": 22,
    "start_time": "2023-05-03T18:31:34.197Z"
   },
   {
    "duration": 7,
    "start_time": "2023-05-03T18:35:22.636Z"
   },
   {
    "duration": 4,
    "start_time": "2023-05-03T18:40:25.784Z"
   },
   {
    "duration": 4,
    "start_time": "2023-05-03T18:40:38.015Z"
   },
   {
    "duration": 4,
    "start_time": "2023-05-03T18:49:55.131Z"
   },
   {
    "duration": 5,
    "start_time": "2023-05-03T18:49:56.992Z"
   },
   {
    "duration": 6,
    "start_time": "2023-05-03T18:57:22.638Z"
   },
   {
    "duration": 5,
    "start_time": "2023-05-03T18:59:18.457Z"
   },
   {
    "duration": 4,
    "start_time": "2023-05-03T19:00:22.040Z"
   },
   {
    "duration": 5,
    "start_time": "2023-05-03T19:00:25.329Z"
   },
   {
    "duration": 7,
    "start_time": "2023-05-03T19:08:34.209Z"
   },
   {
    "duration": 6,
    "start_time": "2023-05-03T19:09:17.456Z"
   },
   {
    "duration": 5,
    "start_time": "2023-05-03T19:10:00.983Z"
   },
   {
    "duration": 6,
    "start_time": "2023-05-03T19:12:23.626Z"
   },
   {
    "duration": 4,
    "start_time": "2023-05-03T19:12:25.034Z"
   },
   {
    "duration": 5,
    "start_time": "2023-05-03T19:12:29.502Z"
   },
   {
    "duration": 1260,
    "start_time": "2023-05-03T19:27:45.909Z"
   },
   {
    "duration": 28,
    "start_time": "2023-05-03T19:27:47.174Z"
   },
   {
    "duration": 358,
    "start_time": "2023-05-03T19:27:47.204Z"
   },
   {
    "duration": 22,
    "start_time": "2023-05-03T19:27:47.571Z"
   },
   {
    "duration": 684,
    "start_time": "2023-05-03T19:27:47.595Z"
   },
   {
    "duration": 16,
    "start_time": "2023-05-03T19:27:48.281Z"
   },
   {
    "duration": 19,
    "start_time": "2023-05-03T19:27:48.298Z"
   },
   {
    "duration": 2,
    "start_time": "2023-05-03T19:27:48.319Z"
   },
   {
    "duration": 10,
    "start_time": "2023-05-03T19:27:48.323Z"
   },
   {
    "duration": 584,
    "start_time": "2023-05-03T19:27:48.335Z"
   },
   {
    "duration": 2,
    "start_time": "2023-05-03T19:27:48.921Z"
   },
   {
    "duration": 27,
    "start_time": "2023-05-03T19:27:48.924Z"
   },
   {
    "duration": 27,
    "start_time": "2023-05-03T19:27:48.953Z"
   },
   {
    "duration": 19,
    "start_time": "2023-05-03T19:27:48.984Z"
   },
   {
    "duration": 17,
    "start_time": "2023-05-03T19:27:49.004Z"
   },
   {
    "duration": 8,
    "start_time": "2023-05-03T19:27:49.022Z"
   },
   {
    "duration": 216,
    "start_time": "2023-05-03T19:27:49.031Z"
   },
   {
    "duration": 240,
    "start_time": "2023-05-03T19:27:49.249Z"
   },
   {
    "duration": 604,
    "start_time": "2023-05-03T19:27:49.491Z"
   },
   {
    "duration": 338,
    "start_time": "2023-05-03T19:27:50.097Z"
   },
   {
    "duration": 2,
    "start_time": "2023-05-03T19:27:50.436Z"
   },
   {
    "duration": 277,
    "start_time": "2023-05-03T19:27:50.440Z"
   },
   {
    "duration": 70,
    "start_time": "2023-05-03T19:27:50.719Z"
   },
   {
    "duration": 34,
    "start_time": "2023-05-03T19:27:50.791Z"
   },
   {
    "duration": 44,
    "start_time": "2023-05-03T19:27:50.827Z"
   },
   {
    "duration": 50,
    "start_time": "2023-05-03T19:27:50.874Z"
   },
   {
    "duration": 53,
    "start_time": "2023-05-03T19:27:50.926Z"
   },
   {
    "duration": 327,
    "start_time": "2023-05-03T19:27:50.981Z"
   },
   {
    "duration": 18,
    "start_time": "2023-05-03T19:27:51.310Z"
   },
   {
    "duration": 1250,
    "start_time": "2023-05-03T19:27:51.329Z"
   },
   {
    "duration": 62,
    "start_time": "2023-05-03T19:27:52.581Z"
   },
   {
    "duration": 50,
    "start_time": "2023-05-03T19:27:52.660Z"
   },
   {
    "duration": 8,
    "start_time": "2023-05-03T19:27:52.712Z"
   },
   {
    "duration": 12,
    "start_time": "2023-05-03T19:27:52.722Z"
   },
   {
    "duration": 25,
    "start_time": "2023-05-03T19:27:52.735Z"
   },
   {
    "duration": 26,
    "start_time": "2023-05-03T19:27:52.763Z"
   },
   {
    "duration": 16,
    "start_time": "2023-05-03T19:27:52.792Z"
   },
   {
    "duration": 64,
    "start_time": "2023-05-03T19:27:52.810Z"
   },
   {
    "duration": 16,
    "start_time": "2023-05-03T19:27:52.876Z"
   },
   {
    "duration": 13,
    "start_time": "2023-05-03T19:27:52.894Z"
   },
   {
    "duration": 1243,
    "start_time": "2023-05-03T20:06:50.148Z"
   },
   {
    "duration": 27,
    "start_time": "2023-05-03T20:06:51.393Z"
   },
   {
    "duration": 317,
    "start_time": "2023-05-03T20:06:51.422Z"
   },
   {
    "duration": 25,
    "start_time": "2023-05-03T20:06:51.741Z"
   },
   {
    "duration": 609,
    "start_time": "2023-05-03T20:06:51.769Z"
   },
   {
    "duration": 17,
    "start_time": "2023-05-03T20:06:52.380Z"
   },
   {
    "duration": 21,
    "start_time": "2023-05-03T20:06:52.398Z"
   },
   {
    "duration": 3,
    "start_time": "2023-05-03T20:06:52.420Z"
   },
   {
    "duration": 8,
    "start_time": "2023-05-03T20:06:52.424Z"
   },
   {
    "duration": 538,
    "start_time": "2023-05-03T20:06:52.433Z"
   },
   {
    "duration": 13,
    "start_time": "2023-05-03T20:06:52.972Z"
   },
   {
    "duration": 11,
    "start_time": "2023-05-03T20:06:52.986Z"
   },
   {
    "duration": 17,
    "start_time": "2023-05-03T20:06:52.998Z"
   },
   {
    "duration": 45,
    "start_time": "2023-05-03T20:06:53.018Z"
   },
   {
    "duration": 7,
    "start_time": "2023-05-03T20:06:53.065Z"
   },
   {
    "duration": 169,
    "start_time": "2023-05-03T20:06:53.074Z"
   },
   {
    "duration": 214,
    "start_time": "2023-05-03T20:06:53.245Z"
   },
   {
    "duration": 453,
    "start_time": "2023-05-03T20:06:53.461Z"
   },
   {
    "duration": 310,
    "start_time": "2023-05-03T20:06:53.916Z"
   },
   {
    "duration": 2,
    "start_time": "2023-05-03T20:06:54.228Z"
   },
   {
    "duration": 276,
    "start_time": "2023-05-03T20:06:54.232Z"
   },
   {
    "duration": 54,
    "start_time": "2023-05-03T20:06:54.510Z"
   },
   {
    "duration": 23,
    "start_time": "2023-05-03T20:06:54.566Z"
   },
   {
    "duration": 33,
    "start_time": "2023-05-03T20:06:54.591Z"
   },
   {
    "duration": 55,
    "start_time": "2023-05-03T20:06:54.626Z"
   },
   {
    "duration": 20,
    "start_time": "2023-05-03T20:06:54.683Z"
   },
   {
    "duration": 342,
    "start_time": "2023-05-03T20:06:54.705Z"
   },
   {
    "duration": 20,
    "start_time": "2023-05-03T20:06:55.049Z"
   },
   {
    "duration": 1152,
    "start_time": "2023-05-03T20:06:55.071Z"
   },
   {
    "duration": 100,
    "start_time": "2023-05-03T20:06:56.225Z"
   },
   {
    "duration": 54,
    "start_time": "2023-05-03T20:06:56.327Z"
   },
   {
    "duration": 10,
    "start_time": "2023-05-03T20:06:56.383Z"
   },
   {
    "duration": 10,
    "start_time": "2023-05-03T20:06:56.394Z"
   },
   {
    "duration": 6,
    "start_time": "2023-05-03T20:06:56.405Z"
   },
   {
    "duration": 20,
    "start_time": "2023-05-03T20:06:56.412Z"
   },
   {
    "duration": 23,
    "start_time": "2023-05-03T20:06:56.433Z"
   },
   {
    "duration": 28,
    "start_time": "2023-05-03T20:06:56.458Z"
   },
   {
    "duration": 17,
    "start_time": "2023-05-03T20:06:56.487Z"
   },
   {
    "duration": 9,
    "start_time": "2023-05-03T20:06:56.506Z"
   },
   {
    "duration": 5,
    "start_time": "2023-05-03T20:24:48.207Z"
   },
   {
    "duration": 6,
    "start_time": "2023-05-03T20:26:42.599Z"
   },
   {
    "duration": 108,
    "start_time": "2023-05-03T20:32:30.699Z"
   },
   {
    "duration": 6,
    "start_time": "2023-05-03T20:32:48.767Z"
   },
   {
    "duration": 11,
    "start_time": "2023-05-03T20:32:51.998Z"
   },
   {
    "duration": 15,
    "start_time": "2023-05-03T20:33:29.581Z"
   },
   {
    "duration": 10,
    "start_time": "2023-05-03T20:34:03.901Z"
   },
   {
    "duration": 0,
    "start_time": "2023-05-03T20:36:50.304Z"
   },
   {
    "duration": 1130,
    "start_time": "2023-05-03T20:38:04.700Z"
   },
   {
    "duration": 25,
    "start_time": "2023-05-03T20:38:05.832Z"
   },
   {
    "duration": 338,
    "start_time": "2023-05-03T20:38:05.859Z"
   },
   {
    "duration": 21,
    "start_time": "2023-05-03T20:38:06.200Z"
   },
   {
    "duration": 629,
    "start_time": "2023-05-03T20:38:06.223Z"
   },
   {
    "duration": 19,
    "start_time": "2023-05-03T20:38:06.853Z"
   },
   {
    "duration": 19,
    "start_time": "2023-05-03T20:38:06.873Z"
   },
   {
    "duration": 2,
    "start_time": "2023-05-03T20:38:06.894Z"
   },
   {
    "duration": 9,
    "start_time": "2023-05-03T20:38:06.898Z"
   },
   {
    "duration": 529,
    "start_time": "2023-05-03T20:38:06.909Z"
   },
   {
    "duration": 25,
    "start_time": "2023-05-03T20:38:07.440Z"
   },
   {
    "duration": 14,
    "start_time": "2023-05-03T20:38:07.467Z"
   },
   {
    "duration": 21,
    "start_time": "2023-05-03T20:38:07.482Z"
   },
   {
    "duration": 16,
    "start_time": "2023-05-03T20:38:07.506Z"
   },
   {
    "duration": 8,
    "start_time": "2023-05-03T20:38:07.560Z"
   },
   {
    "duration": 167,
    "start_time": "2023-05-03T20:38:07.570Z"
   },
   {
    "duration": 226,
    "start_time": "2023-05-03T20:38:07.738Z"
   },
   {
    "duration": 462,
    "start_time": "2023-05-03T20:38:07.965Z"
   },
   {
    "duration": 319,
    "start_time": "2023-05-03T20:38:08.429Z"
   },
   {
    "duration": 11,
    "start_time": "2023-05-03T20:38:08.750Z"
   },
   {
    "duration": 256,
    "start_time": "2023-05-03T20:38:08.762Z"
   },
   {
    "duration": 55,
    "start_time": "2023-05-03T20:38:09.020Z"
   },
   {
    "duration": 24,
    "start_time": "2023-05-03T20:38:09.077Z"
   },
   {
    "duration": 63,
    "start_time": "2023-05-03T20:38:09.103Z"
   },
   {
    "duration": 45,
    "start_time": "2023-05-03T20:38:09.168Z"
   },
   {
    "duration": 21,
    "start_time": "2023-05-03T20:38:09.215Z"
   },
   {
    "duration": 302,
    "start_time": "2023-05-03T20:38:09.259Z"
   },
   {
    "duration": 28,
    "start_time": "2023-05-03T20:38:09.565Z"
   },
   {
    "duration": 1241,
    "start_time": "2023-05-03T20:38:09.595Z"
   },
   {
    "duration": 73,
    "start_time": "2023-05-03T20:38:10.838Z"
   },
   {
    "duration": 60,
    "start_time": "2023-05-03T20:38:10.913Z"
   },
   {
    "duration": 12,
    "start_time": "2023-05-03T20:38:10.975Z"
   },
   {
    "duration": 5,
    "start_time": "2023-05-03T20:38:10.988Z"
   },
   {
    "duration": 6,
    "start_time": "2023-05-03T20:38:10.996Z"
   },
   {
    "duration": 4,
    "start_time": "2023-05-03T20:38:11.004Z"
   },
   {
    "duration": 9,
    "start_time": "2023-05-03T20:38:11.010Z"
   },
   {
    "duration": 39,
    "start_time": "2023-05-03T20:38:11.021Z"
   },
   {
    "duration": 5,
    "start_time": "2023-05-03T20:38:11.063Z"
   },
   {
    "duration": 8,
    "start_time": "2023-05-03T20:38:11.069Z"
   },
   {
    "duration": 6,
    "start_time": "2023-05-03T20:38:11.078Z"
   },
   {
    "duration": 7,
    "start_time": "2023-05-03T20:38:11.086Z"
   },
   {
    "duration": 58,
    "start_time": "2023-05-03T20:42:44.926Z"
   },
   {
    "duration": 22,
    "start_time": "2023-05-03T20:42:44.986Z"
   },
   {
    "duration": 335,
    "start_time": "2023-05-03T20:42:45.010Z"
   },
   {
    "duration": 21,
    "start_time": "2023-05-03T20:42:45.347Z"
   },
   {
    "duration": 630,
    "start_time": "2023-05-03T20:42:45.370Z"
   },
   {
    "duration": 17,
    "start_time": "2023-05-03T20:42:46.001Z"
   },
   {
    "duration": 17,
    "start_time": "2023-05-03T20:42:46.019Z"
   },
   {
    "duration": 22,
    "start_time": "2023-05-03T20:42:46.038Z"
   },
   {
    "duration": 6,
    "start_time": "2023-05-03T20:42:46.061Z"
   },
   {
    "duration": 559,
    "start_time": "2023-05-03T20:42:46.069Z"
   },
   {
    "duration": 13,
    "start_time": "2023-05-03T20:42:46.630Z"
   },
   {
    "duration": 12,
    "start_time": "2023-05-03T20:42:46.660Z"
   },
   {
    "duration": 20,
    "start_time": "2023-05-03T20:42:46.674Z"
   },
   {
    "duration": 14,
    "start_time": "2023-05-03T20:42:46.697Z"
   },
   {
    "duration": 49,
    "start_time": "2023-05-03T20:42:46.713Z"
   },
   {
    "duration": 155,
    "start_time": "2023-05-03T20:42:46.764Z"
   },
   {
    "duration": 255,
    "start_time": "2023-05-03T20:42:46.920Z"
   },
   {
    "duration": 480,
    "start_time": "2023-05-03T20:42:47.176Z"
   },
   {
    "duration": 344,
    "start_time": "2023-05-03T20:42:47.659Z"
   },
   {
    "duration": 3,
    "start_time": "2023-05-03T20:42:48.005Z"
   },
   {
    "duration": 266,
    "start_time": "2023-05-03T20:42:48.010Z"
   },
   {
    "duration": 41,
    "start_time": "2023-05-03T20:42:48.277Z"
   },
   {
    "duration": 43,
    "start_time": "2023-05-03T20:42:48.320Z"
   },
   {
    "duration": 9,
    "start_time": "2023-05-03T20:42:48.365Z"
   },
   {
    "duration": 48,
    "start_time": "2023-05-03T20:42:48.375Z"
   },
   {
    "duration": 45,
    "start_time": "2023-05-03T20:42:48.424Z"
   },
   {
    "duration": 319,
    "start_time": "2023-05-03T20:42:48.471Z"
   },
   {
    "duration": 15,
    "start_time": "2023-05-03T20:42:48.792Z"
   },
   {
    "duration": 1263,
    "start_time": "2023-05-03T20:42:48.809Z"
   },
   {
    "duration": 63,
    "start_time": "2023-05-03T20:42:50.074Z"
   },
   {
    "duration": 57,
    "start_time": "2023-05-03T20:42:50.138Z"
   },
   {
    "duration": 10,
    "start_time": "2023-05-03T20:42:50.197Z"
   },
   {
    "duration": 16,
    "start_time": "2023-05-03T20:42:50.208Z"
   },
   {
    "duration": 7,
    "start_time": "2023-05-03T20:42:50.226Z"
   },
   {
    "duration": 6,
    "start_time": "2023-05-03T20:42:50.235Z"
   },
   {
    "duration": 5,
    "start_time": "2023-05-03T20:42:50.260Z"
   },
   {
    "duration": 7,
    "start_time": "2023-05-03T20:42:50.267Z"
   },
   {
    "duration": 7,
    "start_time": "2023-05-03T20:42:50.276Z"
   },
   {
    "duration": 14,
    "start_time": "2023-05-03T20:42:50.285Z"
   },
   {
    "duration": 5,
    "start_time": "2023-05-03T20:42:50.301Z"
   },
   {
    "duration": 3,
    "start_time": "2023-05-03T20:42:50.310Z"
   },
   {
    "duration": 35927,
    "start_time": "2023-05-03T20:46:43.922Z"
   },
   {
    "duration": 1185,
    "start_time": "2023-05-03T20:48:06.102Z"
   },
   {
    "duration": 205,
    "start_time": "2023-05-03T20:48:15.094Z"
   },
   {
    "duration": 1542,
    "start_time": "2023-05-04T19:06:55.215Z"
   },
   {
    "duration": 56,
    "start_time": "2023-05-04T19:06:56.759Z"
   },
   {
    "duration": 517,
    "start_time": "2023-05-04T19:06:56.818Z"
   },
   {
    "duration": 46,
    "start_time": "2023-05-04T19:06:57.340Z"
   },
   {
    "duration": 784,
    "start_time": "2023-05-04T19:06:57.389Z"
   },
   {
    "duration": 22,
    "start_time": "2023-05-04T19:06:58.175Z"
   },
   {
    "duration": 31,
    "start_time": "2023-05-04T19:06:58.199Z"
   },
   {
    "duration": 39,
    "start_time": "2023-05-04T19:06:58.232Z"
   },
   {
    "duration": 28,
    "start_time": "2023-05-04T19:06:58.273Z"
   },
   {
    "duration": 627,
    "start_time": "2023-05-04T19:06:58.305Z"
   },
   {
    "duration": 24,
    "start_time": "2023-05-04T19:06:58.933Z"
   },
   {
    "duration": 44,
    "start_time": "2023-05-04T19:06:58.959Z"
   },
   {
    "duration": 22,
    "start_time": "2023-05-04T19:06:59.006Z"
   },
   {
    "duration": 39,
    "start_time": "2023-05-04T19:06:59.030Z"
   },
   {
    "duration": 33,
    "start_time": "2023-05-04T19:06:59.071Z"
   },
   {
    "duration": 206,
    "start_time": "2023-05-04T19:06:59.107Z"
   },
   {
    "duration": 293,
    "start_time": "2023-05-04T19:06:59.316Z"
   },
   {
    "duration": 583,
    "start_time": "2023-05-04T19:06:59.611Z"
   },
   {
    "duration": 436,
    "start_time": "2023-05-04T19:07:00.196Z"
   },
   {
    "duration": 18,
    "start_time": "2023-05-04T19:07:00.635Z"
   },
   {
    "duration": 373,
    "start_time": "2023-05-04T19:07:00.655Z"
   },
   {
    "duration": 58,
    "start_time": "2023-05-04T19:07:01.030Z"
   },
   {
    "duration": 90,
    "start_time": "2023-05-04T19:07:01.090Z"
   },
   {
    "duration": 52,
    "start_time": "2023-05-04T19:07:01.187Z"
   },
   {
    "duration": 120,
    "start_time": "2023-05-04T19:07:01.241Z"
   },
   {
    "duration": 42,
    "start_time": "2023-05-04T19:07:01.364Z"
   },
   {
    "duration": 383,
    "start_time": "2023-05-04T19:07:01.408Z"
   },
   {
    "duration": 27,
    "start_time": "2023-05-04T19:07:01.796Z"
   },
   {
    "duration": 1360,
    "start_time": "2023-05-04T19:07:01.826Z"
   },
   {
    "duration": 112,
    "start_time": "2023-05-04T19:07:03.188Z"
   },
   {
    "duration": 48,
    "start_time": "2023-05-04T19:07:03.302Z"
   },
   {
    "duration": 11,
    "start_time": "2023-05-04T19:07:03.352Z"
   },
   {
    "duration": 32,
    "start_time": "2023-05-04T19:07:03.367Z"
   },
   {
    "duration": 12,
    "start_time": "2023-05-04T19:07:03.401Z"
   },
   {
    "duration": 11,
    "start_time": "2023-05-04T19:07:03.416Z"
   },
   {
    "duration": 50,
    "start_time": "2023-05-04T19:07:03.429Z"
   },
   {
    "duration": 10,
    "start_time": "2023-05-04T19:07:03.481Z"
   },
   {
    "duration": 15,
    "start_time": "2023-05-04T19:07:03.493Z"
   },
   {
    "duration": 20,
    "start_time": "2023-05-04T19:07:03.510Z"
   },
   {
    "duration": 21,
    "start_time": "2023-05-04T19:07:03.532Z"
   },
   {
    "duration": 311,
    "start_time": "2023-05-04T19:07:03.557Z"
   },
   {
    "duration": 9,
    "start_time": "2023-05-04T19:18:10.919Z"
   },
   {
    "duration": 1289,
    "start_time": "2023-05-05T04:14:39.707Z"
   },
   {
    "duration": 301,
    "start_time": "2023-05-05T04:14:44.420Z"
   },
   {
    "duration": 3,
    "start_time": "2023-05-05T04:54:58.032Z"
   },
   {
    "duration": 80,
    "start_time": "2023-05-05T04:54:58.038Z"
   },
   {
    "duration": 32,
    "start_time": "2023-05-05T04:54:58.121Z"
   },
   {
    "duration": 336,
    "start_time": "2023-05-05T04:54:58.155Z"
   },
   {
    "duration": 18,
    "start_time": "2023-05-05T04:54:58.493Z"
   },
   {
    "duration": 626,
    "start_time": "2023-05-05T04:54:58.513Z"
   },
   {
    "duration": 14,
    "start_time": "2023-05-05T04:54:59.141Z"
   },
   {
    "duration": 42,
    "start_time": "2023-05-05T04:54:59.157Z"
   },
   {
    "duration": 4,
    "start_time": "2023-05-05T05:08:41.012Z"
   },
   {
    "duration": 74,
    "start_time": "2023-05-05T05:08:41.018Z"
   },
   {
    "duration": 19,
    "start_time": "2023-05-05T05:08:41.094Z"
   },
   {
    "duration": 295,
    "start_time": "2023-05-05T05:08:41.114Z"
   },
   {
    "duration": 25,
    "start_time": "2023-05-05T05:08:41.411Z"
   },
   {
    "duration": 592,
    "start_time": "2023-05-05T05:08:41.437Z"
   },
   {
    "duration": 14,
    "start_time": "2023-05-05T05:08:42.034Z"
   },
   {
    "duration": 19,
    "start_time": "2023-05-05T05:08:42.049Z"
   },
   {
    "duration": 493,
    "start_time": "2023-05-05T05:08:42.069Z"
   },
   {
    "duration": 12,
    "start_time": "2023-05-05T05:08:42.563Z"
   },
   {
    "duration": 12,
    "start_time": "2023-05-05T05:08:42.576Z"
   },
   {
    "duration": 48,
    "start_time": "2023-05-05T05:08:42.589Z"
   },
   {
    "duration": 13,
    "start_time": "2023-05-05T05:08:42.638Z"
   },
   {
    "duration": 7,
    "start_time": "2023-05-05T05:08:42.653Z"
   },
   {
    "duration": 172,
    "start_time": "2023-05-05T05:08:44.515Z"
   },
   {
    "duration": 130,
    "start_time": "2023-05-05T05:10:00.251Z"
   },
   {
    "duration": 107,
    "start_time": "2023-05-05T05:10:10.204Z"
   },
   {
    "duration": 95,
    "start_time": "2023-05-05T05:10:14.988Z"
   },
   {
    "duration": 128,
    "start_time": "2023-05-05T05:12:21.623Z"
   },
   {
    "duration": 128,
    "start_time": "2023-05-05T05:12:36.211Z"
   },
   {
    "duration": 134,
    "start_time": "2023-05-05T05:15:15.509Z"
   },
   {
    "duration": 237,
    "start_time": "2023-05-05T05:15:20.435Z"
   },
   {
    "duration": 178,
    "start_time": "2023-05-05T05:15:27.453Z"
   },
   {
    "duration": 228,
    "start_time": "2023-05-05T05:16:48.964Z"
   },
   {
    "duration": 239,
    "start_time": "2023-05-05T05:17:07.811Z"
   },
   {
    "duration": 184,
    "start_time": "2023-05-05T05:19:00.956Z"
   },
   {
    "duration": 161,
    "start_time": "2023-05-05T05:19:06.508Z"
   },
   {
    "duration": 142,
    "start_time": "2023-05-05T05:19:12.116Z"
   },
   {
    "duration": 158,
    "start_time": "2023-05-05T05:19:16.683Z"
   },
   {
    "duration": 165,
    "start_time": "2023-05-05T05:19:20.771Z"
   },
   {
    "duration": 196,
    "start_time": "2023-05-05T05:19:25.363Z"
   },
   {
    "duration": 175,
    "start_time": "2023-05-05T05:19:53.031Z"
   },
   {
    "duration": 163,
    "start_time": "2023-05-05T05:22:06.332Z"
   },
   {
    "duration": 157,
    "start_time": "2023-05-05T05:23:12.195Z"
   },
   {
    "duration": 164,
    "start_time": "2023-05-05T05:24:04.331Z"
   },
   {
    "duration": 159,
    "start_time": "2023-05-05T05:24:36.396Z"
   },
   {
    "duration": 164,
    "start_time": "2023-05-05T05:24:48.107Z"
   },
   {
    "duration": 213,
    "start_time": "2023-05-05T05:25:19.474Z"
   },
   {
    "duration": 3,
    "start_time": "2023-05-05T05:26:44.982Z"
   },
   {
    "duration": 103,
    "start_time": "2023-05-05T05:26:44.987Z"
   },
   {
    "duration": 20,
    "start_time": "2023-05-05T05:26:45.093Z"
   },
   {
    "duration": 458,
    "start_time": "2023-05-05T05:26:45.115Z"
   },
   {
    "duration": 16,
    "start_time": "2023-05-05T05:26:45.576Z"
   },
   {
    "duration": 731,
    "start_time": "2023-05-05T05:26:45.594Z"
   },
   {
    "duration": 18,
    "start_time": "2023-05-05T05:26:46.334Z"
   },
   {
    "duration": 26,
    "start_time": "2023-05-05T05:26:46.354Z"
   },
   {
    "duration": 540,
    "start_time": "2023-05-05T05:26:46.382Z"
   },
   {
    "duration": 16,
    "start_time": "2023-05-05T05:26:46.924Z"
   },
   {
    "duration": 10,
    "start_time": "2023-05-05T05:26:46.942Z"
   },
   {
    "duration": 17,
    "start_time": "2023-05-05T05:26:46.954Z"
   },
   {
    "duration": 13,
    "start_time": "2023-05-05T05:26:46.973Z"
   },
   {
    "duration": 47,
    "start_time": "2023-05-05T05:26:46.987Z"
   },
   {
    "duration": 192,
    "start_time": "2023-05-05T05:26:47.036Z"
   },
   {
    "duration": 132,
    "start_time": "2023-05-05T05:26:47.229Z"
   },
   {
    "duration": 539,
    "start_time": "2023-05-05T05:26:49.702Z"
   },
   {
    "duration": 472,
    "start_time": "2023-05-05T05:27:37.137Z"
   },
   {
    "duration": 424,
    "start_time": "2023-05-05T05:28:03.401Z"
   },
   {
    "duration": 428,
    "start_time": "2023-05-05T05:28:41.482Z"
   },
   {
    "duration": 3,
    "start_time": "2023-05-05T05:42:45.049Z"
   },
   {
    "duration": 1034,
    "start_time": "2023-05-05T05:45:15.530Z"
   },
   {
    "duration": 65,
    "start_time": "2023-05-05T05:45:16.565Z"
   },
   {
    "duration": 21,
    "start_time": "2023-05-05T05:45:16.631Z"
   },
   {
    "duration": 307,
    "start_time": "2023-05-05T05:45:16.653Z"
   },
   {
    "duration": 17,
    "start_time": "2023-05-05T05:45:16.962Z"
   },
   {
    "duration": 554,
    "start_time": "2023-05-05T05:45:16.980Z"
   },
   {
    "duration": 13,
    "start_time": "2023-05-05T05:45:17.536Z"
   },
   {
    "duration": 38,
    "start_time": "2023-05-05T05:45:17.550Z"
   },
   {
    "duration": 11,
    "start_time": "2023-05-05T05:45:17.589Z"
   },
   {
    "duration": 33,
    "start_time": "2023-05-05T05:45:17.602Z"
   },
   {
    "duration": 26,
    "start_time": "2023-05-05T05:45:17.636Z"
   },
   {
    "duration": 21,
    "start_time": "2023-05-05T05:45:17.664Z"
   },
   {
    "duration": 11,
    "start_time": "2023-05-05T05:45:17.686Z"
   },
   {
    "duration": 6,
    "start_time": "2023-05-05T05:45:17.699Z"
   },
   {
    "duration": 166,
    "start_time": "2023-05-05T05:45:17.734Z"
   },
   {
    "duration": 132,
    "start_time": "2023-05-05T05:45:17.902Z"
   },
   {
    "duration": 517,
    "start_time": "2023-05-05T05:45:18.036Z"
   },
   {
    "duration": 11,
    "start_time": "2023-05-05T05:49:40.404Z"
   },
   {
    "duration": 1086,
    "start_time": "2023-05-05T05:50:13.657Z"
   },
   {
    "duration": 70,
    "start_time": "2023-05-05T05:50:14.747Z"
   },
   {
    "duration": 24,
    "start_time": "2023-05-05T05:50:14.819Z"
   },
   {
    "duration": 309,
    "start_time": "2023-05-05T05:50:14.846Z"
   },
   {
    "duration": 17,
    "start_time": "2023-05-05T05:50:15.157Z"
   },
   {
    "duration": 593,
    "start_time": "2023-05-05T05:50:15.175Z"
   },
   {
    "duration": 13,
    "start_time": "2023-05-05T05:50:15.770Z"
   },
   {
    "duration": 64,
    "start_time": "2023-05-05T05:50:15.786Z"
   },
   {
    "duration": 3,
    "start_time": "2023-05-05T05:50:15.853Z"
   },
   {
    "duration": 31,
    "start_time": "2023-05-05T05:50:15.858Z"
   },
   {
    "duration": 26,
    "start_time": "2023-05-05T05:50:15.890Z"
   },
   {
    "duration": 17,
    "start_time": "2023-05-05T05:50:33.406Z"
   },
   {
    "duration": 14,
    "start_time": "2023-05-05T05:50:35.909Z"
   },
   {
    "duration": 8,
    "start_time": "2023-05-05T05:50:37.849Z"
   },
   {
    "duration": 149,
    "start_time": "2023-05-05T05:51:29.712Z"
   },
   {
    "duration": 118,
    "start_time": "2023-05-05T05:51:51.649Z"
   },
   {
    "duration": 492,
    "start_time": "2023-05-05T05:52:12.150Z"
   },
   {
    "duration": 272,
    "start_time": "2023-05-05T05:52:52.822Z"
   },
   {
    "duration": 237,
    "start_time": "2023-05-05T05:53:21.371Z"
   },
   {
    "duration": 48,
    "start_time": "2023-05-05T05:53:45.800Z"
   },
   {
    "duration": 25,
    "start_time": "2023-05-05T05:54:01.400Z"
   },
   {
    "duration": 12,
    "start_time": "2023-05-05T05:54:15.438Z"
   },
   {
    "duration": 43,
    "start_time": "2023-05-05T05:54:17.496Z"
   },
   {
    "duration": 24,
    "start_time": "2023-05-05T05:54:23.758Z"
   },
   {
    "duration": 31,
    "start_time": "2023-05-05T05:54:36.950Z"
   },
   {
    "duration": 270,
    "start_time": "2023-05-05T05:54:39.567Z"
   },
   {
    "duration": 19,
    "start_time": "2023-05-05T05:54:43.315Z"
   },
   {
    "duration": 916,
    "start_time": "2023-05-05T05:54:46.938Z"
   },
   {
    "duration": 66,
    "start_time": "2023-05-05T05:54:54.134Z"
   },
   {
    "duration": 401,
    "start_time": "2023-05-05T06:15:13.891Z"
   },
   {
    "duration": 687,
    "start_time": "2023-05-05T06:15:33.054Z"
   },
   {
    "duration": 791,
    "start_time": "2023-05-05T06:15:42.763Z"
   },
   {
    "duration": 746,
    "start_time": "2023-05-05T06:15:46.619Z"
   },
   {
    "duration": 589,
    "start_time": "2023-05-05T06:16:52.133Z"
   },
   {
    "duration": 479,
    "start_time": "2023-05-05T06:17:17.034Z"
   },
   {
    "duration": 367,
    "start_time": "2023-05-05T06:17:20.787Z"
   },
   {
    "duration": 419,
    "start_time": "2023-05-05T06:19:47.467Z"
   },
   {
    "duration": 528,
    "start_time": "2023-05-05T06:20:56.109Z"
   },
   {
    "duration": 410,
    "start_time": "2023-05-05T06:21:28.347Z"
   },
   {
    "duration": 348,
    "start_time": "2023-05-05T06:22:41.131Z"
   },
   {
    "duration": 393,
    "start_time": "2023-05-05T06:23:05.691Z"
   },
   {
    "duration": 126,
    "start_time": "2023-05-05T06:25:10.570Z"
   },
   {
    "duration": 9,
    "start_time": "2023-05-05T06:26:38.810Z"
   },
   {
    "duration": 434,
    "start_time": "2023-05-05T06:27:00.428Z"
   },
   {
    "duration": 377,
    "start_time": "2023-05-05T06:28:24.038Z"
   },
   {
    "duration": 336,
    "start_time": "2023-05-05T06:28:41.713Z"
   },
   {
    "duration": 239,
    "start_time": "2023-05-05T06:29:05.530Z"
   },
   {
    "duration": 254,
    "start_time": "2023-05-05T06:29:44.962Z"
   },
   {
    "duration": 521,
    "start_time": "2023-05-05T06:29:57.475Z"
   },
   {
    "duration": 357,
    "start_time": "2023-05-05T06:30:34.842Z"
   },
   {
    "duration": 530,
    "start_time": "2023-05-05T06:30:53.858Z"
   },
   {
    "duration": 373,
    "start_time": "2023-05-05T06:31:05.089Z"
   },
   {
    "duration": 53,
    "start_time": "2023-05-05T06:31:55.665Z"
   },
   {
    "duration": 54,
    "start_time": "2023-05-05T06:32:16.707Z"
   },
   {
    "duration": 429,
    "start_time": "2023-05-05T06:32:32.902Z"
   },
   {
    "duration": 12,
    "start_time": "2023-05-05T06:33:01.132Z"
   },
   {
    "duration": 396,
    "start_time": "2023-05-05T06:38:51.193Z"
   },
   {
    "duration": 343,
    "start_time": "2023-05-05T06:39:07.280Z"
   },
   {
    "duration": 16,
    "start_time": "2023-05-05T06:40:04.713Z"
   },
   {
    "duration": 339,
    "start_time": "2023-05-05T06:40:14.128Z"
   },
   {
    "duration": 619,
    "start_time": "2023-05-05T06:40:22.497Z"
   },
   {
    "duration": 355,
    "start_time": "2023-05-05T06:40:33.216Z"
   },
   {
    "duration": 418,
    "start_time": "2023-05-05T06:41:30.409Z"
   },
   {
    "duration": 388,
    "start_time": "2023-05-05T06:42:16.410Z"
   },
   {
    "duration": 1014,
    "start_time": "2023-05-05T06:42:50.761Z"
   },
   {
    "duration": 377,
    "start_time": "2023-05-05T06:43:00.263Z"
   },
   {
    "duration": 415,
    "start_time": "2023-05-05T06:43:25.815Z"
   },
   {
    "duration": 360,
    "start_time": "2023-05-05T06:43:36.871Z"
   },
   {
    "duration": 1051,
    "start_time": "2023-05-05T06:47:52.274Z"
   },
   {
    "duration": 66,
    "start_time": "2023-05-05T06:47:53.327Z"
   },
   {
    "duration": 21,
    "start_time": "2023-05-05T06:47:53.394Z"
   },
   {
    "duration": 308,
    "start_time": "2023-05-05T06:47:53.417Z"
   },
   {
    "duration": 16,
    "start_time": "2023-05-05T06:47:53.734Z"
   },
   {
    "duration": 608,
    "start_time": "2023-05-05T06:47:53.751Z"
   },
   {
    "duration": 15,
    "start_time": "2023-05-05T06:47:54.361Z"
   },
   {
    "duration": 19,
    "start_time": "2023-05-05T06:47:54.377Z"
   },
   {
    "duration": 2,
    "start_time": "2023-05-05T06:47:54.398Z"
   },
   {
    "duration": 43,
    "start_time": "2023-05-05T06:47:54.402Z"
   },
   {
    "duration": 21,
    "start_time": "2023-05-05T06:47:54.447Z"
   },
   {
    "duration": 22,
    "start_time": "2023-05-05T06:47:54.470Z"
   },
   {
    "duration": 13,
    "start_time": "2023-05-05T06:47:54.494Z"
   },
   {
    "duration": 7,
    "start_time": "2023-05-05T06:47:54.534Z"
   },
   {
    "duration": 236,
    "start_time": "2023-05-05T06:47:54.543Z"
   },
   {
    "duration": 154,
    "start_time": "2023-05-05T06:47:54.781Z"
   },
   {
    "duration": 564,
    "start_time": "2023-05-05T06:47:54.937Z"
   },
   {
    "duration": 293,
    "start_time": "2023-05-05T06:47:55.503Z"
   },
   {
    "duration": 236,
    "start_time": "2023-05-05T06:47:55.798Z"
   },
   {
    "duration": 40,
    "start_time": "2023-05-05T06:47:56.036Z"
   },
   {
    "duration": 21,
    "start_time": "2023-05-05T06:47:56.077Z"
   },
   {
    "duration": 7,
    "start_time": "2023-05-05T06:47:56.100Z"
   },
   {
    "duration": 43,
    "start_time": "2023-05-05T06:47:56.135Z"
   },
   {
    "duration": 20,
    "start_time": "2023-05-05T06:47:56.180Z"
   },
   {
    "duration": 317,
    "start_time": "2023-05-05T06:47:56.203Z"
   },
   {
    "duration": 25,
    "start_time": "2023-05-05T06:47:56.522Z"
   },
   {
    "duration": 393,
    "start_time": "2023-05-05T06:47:56.549Z"
   },
   {
    "duration": 495,
    "start_time": "2023-05-05T06:47:59.791Z"
   },
   {
    "duration": 37,
    "start_time": "2023-05-05T06:49:42.863Z"
   },
   {
    "duration": 9,
    "start_time": "2023-05-05T06:49:45.777Z"
   },
   {
    "duration": 12,
    "start_time": "2023-05-05T06:50:02.058Z"
   },
   {
    "duration": 42,
    "start_time": "2023-05-05T06:50:15.015Z"
   },
   {
    "duration": 13,
    "start_time": "2023-05-05T06:51:42.879Z"
   },
   {
    "duration": 7,
    "start_time": "2023-05-05T06:51:49.326Z"
   },
   {
    "duration": 5,
    "start_time": "2023-05-05T06:52:11.149Z"
   },
   {
    "duration": 6,
    "start_time": "2023-05-05T06:52:22.295Z"
   },
   {
    "duration": 4,
    "start_time": "2023-05-05T06:52:42.102Z"
   },
   {
    "duration": 5,
    "start_time": "2023-05-05T06:52:47.598Z"
   },
   {
    "duration": 6,
    "start_time": "2023-05-05T06:54:36.118Z"
   },
   {
    "duration": 108,
    "start_time": "2023-05-05T07:05:25.468Z"
   },
   {
    "duration": 6,
    "start_time": "2023-05-05T07:05:37.288Z"
   },
   {
    "duration": 5,
    "start_time": "2023-05-05T07:05:51.349Z"
   },
   {
    "duration": 5,
    "start_time": "2023-05-05T07:05:57.681Z"
   },
   {
    "duration": 4,
    "start_time": "2023-05-05T07:06:06.844Z"
   },
   {
    "duration": 5,
    "start_time": "2023-05-05T07:06:18.063Z"
   },
   {
    "duration": 7,
    "start_time": "2023-05-05T07:06:24.724Z"
   },
   {
    "duration": 1050,
    "start_time": "2023-05-05T07:06:36.321Z"
   },
   {
    "duration": 65,
    "start_time": "2023-05-05T07:06:37.373Z"
   },
   {
    "duration": 21,
    "start_time": "2023-05-05T07:06:37.440Z"
   },
   {
    "duration": 294,
    "start_time": "2023-05-05T07:06:37.463Z"
   },
   {
    "duration": 17,
    "start_time": "2023-05-05T07:06:37.759Z"
   },
   {
    "duration": 539,
    "start_time": "2023-05-05T07:06:37.778Z"
   },
   {
    "duration": 26,
    "start_time": "2023-05-05T07:06:38.318Z"
   },
   {
    "duration": 17,
    "start_time": "2023-05-05T07:06:38.346Z"
   },
   {
    "duration": 2,
    "start_time": "2023-05-05T07:06:38.365Z"
   },
   {
    "duration": 15,
    "start_time": "2023-05-05T07:06:38.369Z"
   },
   {
    "duration": 12,
    "start_time": "2023-05-05T07:06:38.385Z"
   },
   {
    "duration": 47,
    "start_time": "2023-05-05T07:06:38.398Z"
   },
   {
    "duration": 12,
    "start_time": "2023-05-05T07:06:38.447Z"
   },
   {
    "duration": 6,
    "start_time": "2023-05-05T07:06:38.460Z"
   },
   {
    "duration": 171,
    "start_time": "2023-05-05T07:06:38.468Z"
   },
   {
    "duration": 116,
    "start_time": "2023-05-05T07:06:38.641Z"
   },
   {
    "duration": 482,
    "start_time": "2023-05-05T07:06:38.760Z"
   },
   {
    "duration": 274,
    "start_time": "2023-05-05T07:06:39.244Z"
   },
   {
    "duration": 225,
    "start_time": "2023-05-05T07:06:39.519Z"
   },
   {
    "duration": 36,
    "start_time": "2023-05-05T07:06:39.745Z"
   },
   {
    "duration": 22,
    "start_time": "2023-05-05T07:06:39.783Z"
   },
   {
    "duration": 29,
    "start_time": "2023-05-05T07:06:39.807Z"
   },
   {
    "duration": 51,
    "start_time": "2023-05-05T07:06:39.837Z"
   },
   {
    "duration": 19,
    "start_time": "2023-05-05T07:06:39.890Z"
   },
   {
    "duration": 305,
    "start_time": "2023-05-05T07:06:39.911Z"
   },
   {
    "duration": 22,
    "start_time": "2023-05-05T07:06:40.217Z"
   },
   {
    "duration": 374,
    "start_time": "2023-05-05T07:06:40.241Z"
   },
   {
    "duration": 486,
    "start_time": "2023-05-05T07:06:40.618Z"
   },
   {
    "duration": 61,
    "start_time": "2023-05-05T07:06:41.106Z"
   },
   {
    "duration": 37,
    "start_time": "2023-05-05T07:06:41.169Z"
   },
   {
    "duration": 29,
    "start_time": "2023-05-05T07:06:41.207Z"
   },
   {
    "duration": 6,
    "start_time": "2023-05-05T07:06:41.237Z"
   },
   {
    "duration": 7,
    "start_time": "2023-05-05T07:06:41.244Z"
   },
   {
    "duration": 8,
    "start_time": "2023-05-05T07:06:41.252Z"
   },
   {
    "duration": 6,
    "start_time": "2023-05-05T07:06:41.262Z"
   },
   {
    "duration": 14,
    "start_time": "2023-05-05T07:06:41.270Z"
   },
   {
    "duration": 11,
    "start_time": "2023-05-05T07:06:41.285Z"
   },
   {
    "duration": 7,
    "start_time": "2023-05-05T07:06:41.297Z"
   },
   {
    "duration": 8,
    "start_time": "2023-05-05T07:06:41.305Z"
   },
   {
    "duration": 5,
    "start_time": "2023-05-05T07:06:41.336Z"
   },
   {
    "duration": 208,
    "start_time": "2023-05-05T07:06:41.343Z"
   },
   {
    "duration": 5,
    "start_time": "2023-05-05T07:10:48.443Z"
   },
   {
    "duration": 7,
    "start_time": "2023-05-05T07:37:26.841Z"
   },
   {
    "duration": 5,
    "start_time": "2023-05-05T07:37:44.273Z"
   },
   {
    "duration": 5,
    "start_time": "2023-05-05T07:38:55.766Z"
   },
   {
    "duration": 5,
    "start_time": "2023-05-05T07:39:31.442Z"
   },
   {
    "duration": 5,
    "start_time": "2023-05-05T07:39:39.298Z"
   },
   {
    "duration": 5,
    "start_time": "2023-05-05T07:40:07.377Z"
   },
   {
    "duration": 6,
    "start_time": "2023-05-05T07:43:19.249Z"
   },
   {
    "duration": 38,
    "start_time": "2023-05-05T07:46:02.350Z"
   },
   {
    "duration": 1278,
    "start_time": "2023-05-05T07:57:33.918Z"
   },
   {
    "duration": 85,
    "start_time": "2023-05-05T07:57:35.198Z"
   },
   {
    "duration": 30,
    "start_time": "2023-05-05T07:57:35.285Z"
   },
   {
    "duration": 365,
    "start_time": "2023-05-05T07:57:35.317Z"
   },
   {
    "duration": 19,
    "start_time": "2023-05-05T07:57:35.685Z"
   },
   {
    "duration": 611,
    "start_time": "2023-05-05T07:57:35.707Z"
   },
   {
    "duration": 23,
    "start_time": "2023-05-05T07:57:36.320Z"
   },
   {
    "duration": 34,
    "start_time": "2023-05-05T07:57:36.344Z"
   },
   {
    "duration": 3,
    "start_time": "2023-05-05T07:57:36.379Z"
   },
   {
    "duration": 26,
    "start_time": "2023-05-05T07:57:36.383Z"
   },
   {
    "duration": 18,
    "start_time": "2023-05-05T07:57:36.411Z"
   },
   {
    "duration": 48,
    "start_time": "2023-05-05T07:57:36.431Z"
   },
   {
    "duration": 25,
    "start_time": "2023-05-05T07:57:36.480Z"
   },
   {
    "duration": 8,
    "start_time": "2023-05-05T07:57:36.509Z"
   },
   {
    "duration": 186,
    "start_time": "2023-05-05T07:57:36.519Z"
   },
   {
    "duration": 154,
    "start_time": "2023-05-05T07:57:36.707Z"
   },
   {
    "duration": 558,
    "start_time": "2023-05-05T07:57:36.863Z"
   },
   {
    "duration": 307,
    "start_time": "2023-05-05T07:57:37.423Z"
   },
   {
    "duration": 264,
    "start_time": "2023-05-05T07:57:37.736Z"
   },
   {
    "duration": 57,
    "start_time": "2023-05-05T07:57:38.002Z"
   },
   {
    "duration": 21,
    "start_time": "2023-05-05T07:57:38.060Z"
   },
   {
    "duration": 8,
    "start_time": "2023-05-05T07:57:38.083Z"
   },
   {
    "duration": 64,
    "start_time": "2023-05-05T07:57:38.092Z"
   },
   {
    "duration": 18,
    "start_time": "2023-05-05T07:57:38.158Z"
   },
   {
    "duration": 307,
    "start_time": "2023-05-05T07:57:38.178Z"
   },
   {
    "duration": 14,
    "start_time": "2023-05-05T07:57:38.487Z"
   },
   {
    "duration": 407,
    "start_time": "2023-05-05T07:57:38.502Z"
   },
   {
    "duration": 518,
    "start_time": "2023-05-05T07:57:38.911Z"
   },
   {
    "duration": 68,
    "start_time": "2023-05-05T07:57:39.434Z"
   },
   {
    "duration": 45,
    "start_time": "2023-05-05T07:57:39.504Z"
   },
   {
    "duration": 13,
    "start_time": "2023-05-05T07:57:39.552Z"
   },
   {
    "duration": 16,
    "start_time": "2023-05-05T07:57:39.566Z"
   },
   {
    "duration": 7,
    "start_time": "2023-05-05T07:57:39.583Z"
   },
   {
    "duration": 8,
    "start_time": "2023-05-05T07:57:39.591Z"
   },
   {
    "duration": 10,
    "start_time": "2023-05-05T07:57:39.601Z"
   },
   {
    "duration": 13,
    "start_time": "2023-05-05T07:57:39.613Z"
   },
   {
    "duration": 22,
    "start_time": "2023-05-05T07:57:39.635Z"
   },
   {
    "duration": 14,
    "start_time": "2023-05-05T07:57:39.659Z"
   },
   {
    "duration": 11,
    "start_time": "2023-05-05T07:57:39.675Z"
   },
   {
    "duration": 10,
    "start_time": "2023-05-05T07:57:39.688Z"
   },
   {
    "duration": 209,
    "start_time": "2023-05-05T07:57:39.701Z"
   },
   {
    "duration": 1261,
    "start_time": "2023-05-06T03:54:13.255Z"
   },
   {
    "duration": 336,
    "start_time": "2023-05-06T03:54:14.519Z"
   },
   {
    "duration": 23,
    "start_time": "2023-05-06T03:54:14.857Z"
   },
   {
    "duration": 317,
    "start_time": "2023-05-06T03:54:14.882Z"
   },
   {
    "duration": 17,
    "start_time": "2023-05-06T03:54:15.200Z"
   },
   {
    "duration": 595,
    "start_time": "2023-05-06T03:54:15.234Z"
   },
   {
    "duration": 24,
    "start_time": "2023-05-06T03:54:15.831Z"
   },
   {
    "duration": 18,
    "start_time": "2023-05-06T03:54:15.857Z"
   },
   {
    "duration": 2,
    "start_time": "2023-05-06T03:54:15.877Z"
   },
   {
    "duration": 17,
    "start_time": "2023-05-06T03:54:15.881Z"
   },
   {
    "duration": 13,
    "start_time": "2023-05-06T03:54:15.900Z"
   },
   {
    "duration": 46,
    "start_time": "2023-05-06T03:54:15.936Z"
   },
   {
    "duration": 14,
    "start_time": "2023-05-06T03:54:15.983Z"
   },
   {
    "duration": 10,
    "start_time": "2023-05-06T03:54:15.999Z"
   },
   {
    "duration": 183,
    "start_time": "2023-05-06T03:54:16.010Z"
   },
   {
    "duration": 149,
    "start_time": "2023-05-06T03:54:16.195Z"
   },
   {
    "duration": 612,
    "start_time": "2023-05-06T03:54:16.355Z"
   },
   {
    "duration": 353,
    "start_time": "2023-05-06T03:54:16.968Z"
   },
   {
    "duration": 241,
    "start_time": "2023-05-06T03:54:17.324Z"
   },
   {
    "duration": 36,
    "start_time": "2023-05-06T03:54:17.566Z"
   },
   {
    "duration": 46,
    "start_time": "2023-05-06T03:54:17.603Z"
   },
   {
    "duration": 15,
    "start_time": "2023-05-06T03:54:17.651Z"
   },
   {
    "duration": 42,
    "start_time": "2023-05-06T03:54:17.668Z"
   },
   {
    "duration": 35,
    "start_time": "2023-05-06T03:54:17.711Z"
   },
   {
    "duration": 274,
    "start_time": "2023-05-06T03:54:17.749Z"
   },
   {
    "duration": 24,
    "start_time": "2023-05-06T03:54:18.024Z"
   },
   {
    "duration": 413,
    "start_time": "2023-05-06T03:54:18.050Z"
   },
   {
    "duration": 541,
    "start_time": "2023-05-06T03:54:18.467Z"
   },
   {
    "duration": 83,
    "start_time": "2023-05-06T03:54:19.010Z"
   },
   {
    "duration": 66,
    "start_time": "2023-05-06T03:54:19.096Z"
   },
   {
    "duration": 13,
    "start_time": "2023-05-06T03:54:19.164Z"
   },
   {
    "duration": 21,
    "start_time": "2023-05-06T03:54:19.178Z"
   },
   {
    "duration": 12,
    "start_time": "2023-05-06T03:54:19.201Z"
   },
   {
    "duration": 18,
    "start_time": "2023-05-06T03:54:19.214Z"
   },
   {
    "duration": 31,
    "start_time": "2023-05-06T03:54:19.236Z"
   },
   {
    "duration": 11,
    "start_time": "2023-05-06T03:54:19.270Z"
   },
   {
    "duration": 9,
    "start_time": "2023-05-06T03:54:19.283Z"
   },
   {
    "duration": 6,
    "start_time": "2023-05-06T03:54:19.293Z"
   },
   {
    "duration": 6,
    "start_time": "2023-05-06T03:54:19.301Z"
   },
   {
    "duration": 7,
    "start_time": "2023-05-06T03:54:19.308Z"
   },
   {
    "duration": 216,
    "start_time": "2023-05-06T03:54:19.317Z"
   },
   {
    "duration": 68,
    "start_time": "2023-05-06T04:00:41.052Z"
   }
  ],
  "kernelspec": {
   "display_name": "Python 3 (ipykernel)",
   "language": "python",
   "name": "python3"
  },
  "language_info": {
   "codemirror_mode": {
    "name": "ipython",
    "version": 3
   },
   "file_extension": ".py",
   "mimetype": "text/x-python",
   "name": "python",
   "nbconvert_exporter": "python",
   "pygments_lexer": "ipython3",
   "version": "3.9.5"
  },
  "toc": {
   "base_numbering": 1,
   "nav_menu": {},
   "number_sections": true,
   "sideBar": true,
   "skip_h1_title": true,
   "title_cell": "Table of Contents",
   "title_sidebar": "Contents",
   "toc_cell": false,
   "toc_position": {},
   "toc_section_display": true,
   "toc_window_display": false
  }
 },
 "nbformat": 4,
 "nbformat_minor": 5
}
