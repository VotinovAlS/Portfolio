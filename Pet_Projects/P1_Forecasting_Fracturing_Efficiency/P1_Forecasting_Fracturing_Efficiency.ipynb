{
  "nbformat": 4,
  "nbformat_minor": 0,
  "metadata": {
    "colab": {
      "provenance": []
    },
    "kernelspec": {
      "name": "python3",
      "display_name": "Python 3"
    },
    "language_info": {
      "name": "python"
    }
  },
  "cells": [
    {
      "cell_type": "markdown",
      "source": [
        "# Прогнозирование удельного дебита жидкости после гидравлического разрыва пластов (ГРП)"
      ],
      "metadata": {
        "id": "xlUS8-A7EDYW"
      }
    },
    {
      "cell_type": "markdown",
      "source": [],
      "metadata": {
        "id": "cjfVzzjsIw0P"
      }
    },
    {
      "cell_type": "code",
      "execution_count": null,
      "metadata": {
        "id": "j5aEHTgWDS2T"
      },
      "outputs": [],
      "source": [
        "# импортируем модуль os\n",
        "import os"
      ]
    },
    {
      "cell_type": "code",
      "source": [
        "# # выводим пути к папкам (dirpath) и наименования файлов (filenames) и после этого\n",
        "# for dirpath, _, filenames in os.walk('/content/'):\n",
        "\n",
        "#   # во вложенном цикле проходимся по названиям файлов\n",
        "#   for filename in filenames:\n",
        "\n",
        "#     # и соединяем путь до папок и входящие в эти папки файлы\n",
        "#     # с помощью метода path.join()\n",
        "#     print(os.path.join(dirpath, filename))"
      ],
      "metadata": {
        "id": "-jgAIla6ECpu"
      },
      "execution_count": null,
      "outputs": []
    },
    {
      "cell_type": "code",
      "source": [
        "# !pip install palettable"
      ],
      "metadata": {
        "id": "fOWPawEEECsW"
      },
      "execution_count": null,
      "outputs": []
    },
    {
      "cell_type": "code",
      "source": [],
      "metadata": {
        "id": "o8S04N8FECu4"
      },
      "execution_count": null,
      "outputs": []
    },
    {
      "cell_type": "code",
      "source": [],
      "metadata": {
        "id": "-9AOkfuoECxo"
      },
      "execution_count": null,
      "outputs": []
    },
    {
      "cell_type": "code",
      "source": [],
      "metadata": {
        "id": "qdDsKuAqEC0H"
      },
      "execution_count": null,
      "outputs": []
    },
    {
      "cell_type": "code",
      "source": [],
      "metadata": {
        "id": "HFkwsKFtEC2f"
      },
      "execution_count": null,
      "outputs": []
    },
    {
      "cell_type": "code",
      "source": [],
      "metadata": {
        "id": "7YCKZ9tfEC5O"
      },
      "execution_count": null,
      "outputs": []
    }
  ]
}